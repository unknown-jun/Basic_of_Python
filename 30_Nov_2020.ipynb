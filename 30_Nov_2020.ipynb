{
  "nbformat": 4,
  "nbformat_minor": 0,
  "metadata": {
    "colab": {
      "name": "30_Nov_2020.ipynb",
      "provenance": [],
      "toc_visible": true,
      "authorship_tag": "ABX9TyMjWjnYZ0eDEfqSkCLoJ1eX",
      "include_colab_link": true
    },
    "kernelspec": {
      "name": "python3",
      "display_name": "Python 3"
    }
  },
  "cells": [
    {
      "cell_type": "markdown",
      "metadata": {
        "id": "view-in-github",
        "colab_type": "text"
      },
      "source": [
        "<a href=\"https://colab.research.google.com/github/unknown-jun/Basic_of_Python/blob/master/30_Nov_2020.ipynb\" target=\"_parent\"><img src=\"https://colab.research.google.com/assets/colab-badge.svg\" alt=\"Open In Colab\"/></a>"
      ]
    },
    {
      "cell_type": "markdown",
      "metadata": {
        "id": "pK_qr0P2nWf3"
      },
      "source": [
        "# 지난주에 대한 복습\n",
        "\n",
        "- 파이썬 기본 자료형 5가지\n",
        "    1. 문자형  : a = 'SCOTT'\n",
        "    2. 숫자형  : cnt = 0\n",
        "    3. 리스트형: a = [1,2,3]\n",
        "    4. 튜플    : b = (1,2,3)\n",
        "    5. 딕셔너리: c = {'apple': '사과', 'peach':'눈'}\n",
        "\n",
        "- 파이썬 연산자: >, <, <=, >=, ==, !=\n",
        "\n",
        "- if문: \n",
        "```\n",
        "if 조건:\n",
        "     실행문\n",
        "```\n",
        "- for loop문 와 while loop문\n",
        "\n",
        " 프로그램을 실행하다 보면 반복적으로 특정 실행문을 실행해야 할때\n",
        "```\n",
        "for i in range(1, 11):\n",
        "    print('a')                    i = 1 일때  print('a')\n",
        "                                  i = 2 일때  print('a')\n",
        "                                            :\n",
        "                                  i = 10일때 print('b')\n",
        "while 조건:\n",
        "    실행문\n",
        "```\n",
        "- 판다스 사용법: 판다스는 엑셀과 같은 데이터를 검색할 때 주로 사용\n",
        "```\n",
        "                   연동가능\n",
        "Oracle databas -------------파이썬 판다스\n",
        "검색 위주                    검색\n",
        "                               데이터 시각화\n",
        "                               통계를 쉽게 구현\n",
        "                               머신러닝을 쉽게 구현  \n",
        "                                                                            -\n",
        "\"현업에서 주로 두개를 연동해서 분석을 많이 함\"\n",
        "```\n",
        "\n",
        "**\"파이썬은 괄호 대신에 들여쓰기로 블럭(실행영역)을 구분한다\"**\n",
        "\n",
        "```\n",
        "예) for i in range(1, 11):\n",
        "        print('a')   # for loop 문의 관할하에 있는 실행영역\n",
        "    print('b')       # for loop 문의 관할하에 실행영역이 아님\n",
        "                     # for loop 문이 다 끝나고 나면 작동되는 문장\n",
        "```\n",
        "\n",
        "**SQL과 파이썬의 차이점**\n",
        "```\n",
        "1. SQL은 비절차적 언어:\n",
        "\n",
        "3   select ename, sal\n",
        "1      from emp\n",
        "2      where ename = 'SCOTT'\n",
        "\n",
        "2. 파이썬은 절차적 언어: 코드의 흐름대로 절차적으로 실행\n",
        "\n",
        "for i in range(1, 11):\n",
        "    print('a')           # 제일 먼저 첫번째 for문을 실행하고\n",
        "\n",
        "print('b')               # 그 다음 print 함수를 수행한다음\n",
        "\n",
        "for k in range(1, 101):\n",
        "    print('c')           # 마지막으로 맨 마지막 for문을 실행한다,\n",
        "                         # 이처럼 순차적으로 하나씩 실행하는 절차적 언어이다.\n",
        "                         (                    )\n",
        "```"
      ]
    },
    {
      "cell_type": "code",
      "metadata": {
        "colab": {
          "resources": {
            "http://localhost:8080/nbextensions/google.colab/files.js": {
              "data": "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",
              "ok": true,
              "headers": [
                [
                  "content-type",
                  "application/javascript"
                ]
              ],
              "status": 200,
              "status_text": ""
            }
          },
          "base_uri": "https://localhost:8080/",
          "height": 76
        },
        "id": "D9AVhGE7nV5w",
        "outputId": "b0091e1d-527c-446b-dbb8-19378765ca72"
      },
      "source": [
        "from google.colab import files\n",
        "myfile = files.upload()"
      ],
      "execution_count": null,
      "outputs": [
        {
          "output_type": "display_data",
          "data": {
            "text/html": [
              "\n",
              "     <input type=\"file\" id=\"files-248429e4-d9f4-4a48-a417-65d005410471\" name=\"files[]\" multiple disabled\n",
              "        style=\"border:none\" />\n",
              "     <output id=\"result-248429e4-d9f4-4a48-a417-65d005410471\">\n",
              "      Upload widget is only available when the cell has been executed in the\n",
              "      current browser session. Please rerun this cell to enable.\n",
              "      </output>\n",
              "      <script src=\"/nbextensions/google.colab/files.js\"></script> "
            ],
            "text/plain": [
              "<IPython.core.display.HTML object>"
            ]
          },
          "metadata": {
            "tags": []
          }
        },
        {
          "output_type": "stream",
          "text": [
            "Saving emp3.csv to emp3.csv\n"
          ],
          "name": "stdout"
        }
      ]
    },
    {
      "cell_type": "markdown",
      "metadata": {
        "id": "7SzsuarcwZHl"
      },
      "source": [
        "**문제 86. 이름이 SCOTT인 사원의 이름과 월급을 출력하시오**"
      ]
    },
    {
      "cell_type": "code",
      "metadata": {
        "colab": {
          "base_uri": "https://localhost:8080/"
        },
        "id": "cTucnYZ0vJ7w",
        "outputId": "5435fed8-126d-432b-e8a5-778d1c72d375"
      },
      "source": [
        "import pandas as pd\n",
        "emp = pd.read_csv(\"emp3.csv\")\n",
        "\n",
        "print(emp[ ['ename', 'sal'] ] [ emp['ename']=='SCOTT'])\n",
        "    # emp[ 컬럼리스트 ]       [   조건   ]"
      ],
      "execution_count": null,
      "outputs": [
        {
          "output_type": "stream",
          "text": [
            "    ename   sal\n",
            "11  SCOTT  3000\n"
          ],
          "name": "stdout"
        }
      ]
    },
    {
      "cell_type": "markdown",
      "metadata": {
        "id": "gWCfdd29v-te"
      },
      "source": [
        "```\n",
        "select ename, sal\n",
        "    from emp\n",
        "    where ename = 'SCOTT';\n",
        "```"
      ]
    },
    {
      "cell_type": "markdown",
      "metadata": {
        "id": "TfVJklKtwlEF"
      },
      "source": [
        "# 26. 시퀀스 자료형 이해하기\n",
        "\"시퀀스 자료형은 어떤 객체가 순서를 가지고 나열되어 있는 것을 말함\"  \n",
        "\"예를들어 문자형'abcd'는 문자 a,b,c,d가 순서를 가지고 차례대로 나열되어 있는 것입니다\"\n",
        "\n",
        "```\n",
        "예:\n",
        "a = 'scott' <- 객체\n",
        "print(a)    # scott 출력\n",
        "```\n",
        "\n",
        "```\n",
        "위의 scott이라는 문자를 담은 a 변수에서 첫번째 요소만 출력하고 싶다면   \n",
        "  \n",
        "s c o t t  \n",
        "0 1 2 3 4   \n",
        "print( a[0] )   # s\n",
        "print( a[1] )   # c\n",
        "```"
      ]
    },
    {
      "cell_type": "markdown",
      "metadata": {
        "id": "pscfYeh3x7Hq"
      },
      "source": [
        "**문제 87. 위의 scott을 담은 문자형 변수 a 에서 알파벳 o를 출력하시오**"
      ]
    },
    {
      "cell_type": "code",
      "metadata": {
        "colab": {
          "base_uri": "https://localhost:8080/"
        },
        "id": "Qn1gX3q8xDrO",
        "outputId": "6102c9b0-9645-4065-8fa1-d0793cc526bf"
      },
      "source": [
        "a = 'scott'\n",
        "print( a[2] )"
      ],
      "execution_count": null,
      "outputs": [
        {
          "output_type": "stream",
          "text": [
            "o\n"
          ],
          "name": "stdout"
        }
      ]
    },
    {
      "cell_type": "code",
      "metadata": {
        "colab": {
          "base_uri": "https://localhost:8080/"
        },
        "id": "2AQpnii7zi3g",
        "outputId": "0cee1d61-0e99-4392-f3a4-4d9f8ed47d6e"
      },
      "source": [
        "print ('a')"
      ],
      "execution_count": null,
      "outputs": [
        {
          "output_type": "stream",
          "text": [
            "a\n"
          ],
          "name": "stdout"
        }
      ]
    },
    {
      "cell_type": "markdown",
      "metadata": {
        "id": "ttIWV_-K15jc"
      },
      "source": [
        "**설명: 문자형 변수에서 특정 철자만 가져오고 싶으면 문자형 변수 옆에 대괄호를 쓰고 순서에 해당하는 순자를 적어주면 됨**"
      ]
    },
    {
      "cell_type": "markdown",
      "metadata": {
        "id": "rILJ-iWx2Ck8"
      },
      "source": [
        "**문제 88. 아래의 문자형 변수에서 맨 끝의 철자인 h를 출력하시오!**<br/>\n",
        "b='smith'"
      ]
    },
    {
      "cell_type": "code",
      "metadata": {
        "colab": {
          "base_uri": "https://localhost:8080/"
        },
        "id": "LdY-4iUFznS8",
        "outputId": "7ea10b82-c39e-432e-8ccd-0d9ae2ec25f4"
      },
      "source": [
        "b = 'smith'        #  s  m  i  t  h\n",
        "print( b[4] )      #  0  1  2  3  4\n",
        "print( b[-1] )     # -5 -4 -3 -2 -1"
      ],
      "execution_count": null,
      "outputs": [
        {
          "output_type": "stream",
          "text": [
            "h\n",
            "h\n"
          ],
          "name": "stdout"
        }
      ]
    },
    {
      "cell_type": "markdown",
      "metadata": {
        "id": "UPL1nC9J29cq"
      },
      "source": [
        "**문제 89. 판다스를 이용해서 emp3.csv에서 이름을 출력하는데 이름의 첫번째 철자만 출력하시요**"
      ]
    },
    {
      "cell_type": "code",
      "metadata": {
        "colab": {
          "base_uri": "https://localhost:8080/"
        },
        "id": "cTVCsWo53Gcx",
        "outputId": "fc2da39c-819f-4f75-d2c7-7056f235382a"
      },
      "source": [
        "import pandas as pd\n",
        "\n",
        "emp=pd.read_csv(\"emp3.csv\")\n",
        "print( emp['ename'][0],'\\n' )\n",
        "\n",
        "for i in emp['ename']: # emp3.csv에서 ename만 가져와서 \n",
        "    print(i[0])        # ename의 갯수만큼 loop문을 수행해서 ename을 출력\n"
      ],
      "execution_count": null,
      "outputs": [
        {
          "output_type": "stream",
          "text": [
            "KING \n",
            "\n",
            "K\n",
            "B\n",
            "C\n",
            "J\n",
            "M\n",
            "A\n",
            "T\n",
            "J\n",
            "W\n",
            "F\n",
            "S\n",
            "S\n",
            "A\n",
            "M\n"
          ],
          "name": "stdout"
        }
      ]
    },
    {
      "cell_type": "markdown",
      "metadata": {
        "id": "PGkR8DYx3VVJ"
      },
      "source": [
        "SQL>\n",
        "```\n",
        "select substr(ename, 1, 1)\n",
        "    from emp\n",
        "```"
      ]
    },
    {
      "cell_type": "code",
      "metadata": {
        "colab": {
          "base_uri": "https://localhost:8080/"
        },
        "id": "c0069dEE5_Nb",
        "outputId": "7f65694a-0a46-4254-beda-f95a7c2e87e8"
      },
      "source": [
        "emp=pd.read_csv(\"emp3.csv\")\n",
        "print(type(emp['ename']), '\\n')\n",
        "\n",
        "# type 명령어는 변수가 문자형, 숫자형, 리스트형, 딕셔너리형, 튜플형인지 확인하는 함수\n",
        "# <class 'pandas.core.series.Series'>  => 오라클로 치면 컬럼\n",
        "\n",
        "for i in emp['ename']:  \n",
        "    print(type(i))     # string이여지만이 slicing이 가능\n",
        "\n",
        "# 판다스의 <class 'pandas.core.series.Series'>를 문자형으로 변경하려면 for loop문을 이용해서 하나씩 가져오면 됨\n",
        "\n",
        "a = 'scott'\n",
        "print( type(a),'\\n')    # <class'str'>\n",
        "print(a[0])\n",
        "\n",
        "# <class 'str'> 문자형으로 변경해줘야 문자형에서 특정요소를 가져오는 문법을 사용할 수 있음"
      ],
      "execution_count": null,
      "outputs": [
        {
          "output_type": "stream",
          "text": [
            "<class 'pandas.core.series.Series'> \n",
            "\n",
            "<class 'str'>\n",
            "<class 'str'>\n",
            "<class 'str'>\n",
            "<class 'str'>\n",
            "<class 'str'>\n",
            "<class 'str'>\n",
            "<class 'str'>\n",
            "<class 'str'>\n",
            "<class 'str'>\n",
            "<class 'str'>\n",
            "<class 'str'>\n",
            "<class 'str'>\n",
            "<class 'str'>\n",
            "<class 'str'>\n",
            "<class 'str'>\n",
            "s\n"
          ],
          "name": "stdout"
        }
      ]
    },
    {
      "cell_type": "markdown",
      "metadata": {
        "id": "Gb0kip2p5--d"
      },
      "source": [
        "**문제 90. 판다스를 이용해서 emp3.csv를 가져와서 이름의 끝글자를 출력하시오**"
      ]
    },
    {
      "cell_type": "code",
      "metadata": {
        "colab": {
          "base_uri": "https://localhost:8080/"
        },
        "id": "-a7PaOtJ783x",
        "outputId": "f0294388-b5a9-41d5-e219-2dd75c5fa6cc"
      },
      "source": [
        "emp=pd.read_csv(\"emp3.csv\")\n",
        "\n",
        "for i in emp['ename']:\n",
        "    print(i[-1])"
      ],
      "execution_count": null,
      "outputs": [
        {
          "output_type": "stream",
          "text": [
            "G\n",
            "E\n",
            "K\n",
            "S\n",
            "N\n",
            "N\n",
            "R\n",
            "S\n",
            "D\n",
            "D\n",
            "H\n",
            "T\n",
            "S\n",
            "R\n"
          ],
          "name": "stdout"
        }
      ]
    },
    {
      "cell_type": "markdown",
      "metadata": {
        "id": "gRAt0GAN8aGn"
      },
      "source": [
        "**문제 91. 위의 결과에서 앞에 이름도 같이 출력하시오**"
      ]
    },
    {
      "cell_type": "code",
      "metadata": {
        "colab": {
          "base_uri": "https://localhost:8080/"
        },
        "id": "QJZX9Jnc8eQ_",
        "outputId": "94432fad-6689-423f-a4d0-08f595674323"
      },
      "source": [
        "emp=pd.read_csv(\"emp3.csv\")\n",
        "\n",
        "for i in emp['ename']:\n",
        "    print(i,'     ', i[-1])"
      ],
      "execution_count": null,
      "outputs": [
        {
          "output_type": "stream",
          "text": [
            "KING       G\n",
            "BLAKE       E\n",
            "CLARK       K\n",
            "JONES       S\n",
            "MARTIN       N\n",
            "ALLEN       N\n",
            "TURNER       R\n",
            "JAMES       S\n",
            "WARD       D\n",
            "FORD       D\n",
            "SMITH       H\n",
            "SCOTT       T\n",
            "ADAMS       S\n",
            "MILLER       R\n"
          ],
          "name": "stdout"
        }
      ]
    },
    {
      "cell_type": "markdown",
      "metadata": {
        "id": "Nahky67V82xv"
      },
      "source": [
        "**문제 92. 이름의 첫번째 철자가 s로 시작하는 사원들의 이름을 출력하시오**"
      ]
    },
    {
      "cell_type": "code",
      "metadata": {
        "colab": {
          "base_uri": "https://localhost:8080/"
        },
        "id": "fgf36v5K89su",
        "outputId": "f01685d1-308e-435c-eb35-a86155c47589"
      },
      "source": [
        "emp=pd.read_csv(\"emp3.csv\")\n",
        "\n",
        "for i in emp['ename']:\n",
        "    if i[0] == 'S':\n",
        "        print(i)"
      ],
      "execution_count": null,
      "outputs": [
        {
          "output_type": "stream",
          "text": [
            "SMITH\n",
            "SCOTT\n"
          ],
          "name": "stdout"
        }
      ]
    },
    {
      "cell_type": "markdown",
      "metadata": {
        "id": "ZN7bQaeT89KB"
      },
      "source": [
        "SQL>\n",
        "```\n",
        "select ename\n",
        "    from emp\n",
        "    where ename like 'S%';\n",
        "```"
      ]
    },
    {
      "cell_type": "markdown",
      "metadata": {
        "id": "3SBvArfO-QpE"
      },
      "source": [
        "**문제 93. 이름의 끝글자가 T로 끝나는 사원들의 이름을 출력하시오**"
      ]
    },
    {
      "cell_type": "code",
      "metadata": {
        "colab": {
          "base_uri": "https://localhost:8080/"
        },
        "id": "uSUNbUmg-Y7z",
        "outputId": "94cfd72b-91c1-41d3-ed2a-2a4d640dabcf"
      },
      "source": [
        "emp = pd.read_csv(\"emp3.csv\")\n",
        "\n",
        "for i in emp['ename']:\n",
        "    if i[-1] == 'T':\n",
        "        print(i)"
      ],
      "execution_count": null,
      "outputs": [
        {
          "output_type": "stream",
          "text": [
            "SCOTT\n"
          ],
          "name": "stdout"
        }
      ]
    },
    {
      "cell_type": "markdown",
      "metadata": {
        "id": "nUrjVJ7F-lzr"
      },
      "source": [
        "```\n",
        "> SQL\n",
        " select ename\n",
        "    from emp\n",
        "    where ename like '%T';\n",
        "```"
      ]
    },
    {
      "cell_type": "markdown",
      "metadata": {
        "id": "wTmyyslaC9mM"
      },
      "source": [
        "#27. 시퀀스 자료 인덱싱 이해하기\n",
        "\n",
        "- 인덱싱(indexing)이란 시퀀스 자료형에서 인덱스를 통해 해당하는 값을 얻는 방법\n",
        "-  파이썬에서는 인덱스를 0부터 시작하며 음수인 인덱스도 사용가능  \n",
        "     음수 인덱스는 '끝에서 몇 번째' 라는 의미를 가짐"
      ]
    },
    {
      "cell_type": "code",
      "metadata": {
        "colab": {
          "base_uri": "https://localhost:8080/"
        },
        "id": "iUfq-vQl-j_j",
        "outputId": "f74c4487-48ae-4671-d82a-d9497fca331c"
      },
      "source": [
        "# 예\n",
        "a = 'SALESMAN'\n",
        "print( a[2] )  # L이 출력됨"
      ],
      "execution_count": null,
      "outputs": [
        {
          "output_type": "stream",
          "text": [
            "L\n"
          ],
          "name": "stdout"
        }
      ]
    },
    {
      "cell_type": "markdown",
      "metadata": {
        "id": "k3XDG4iDDjup"
      },
      "source": [
        "**문제 94. 이름의 두 번째 철자가 M인 사원의 이름을 출력하시오**"
      ]
    },
    {
      "cell_type": "code",
      "metadata": {
        "colab": {
          "base_uri": "https://localhost:8080/"
        },
        "id": "W-Fe8B0fDiPK",
        "outputId": "ae37d0ab-08ce-4c18-e753-f63117d3a927"
      },
      "source": [
        "import pandas as pd\n",
        "\n",
        "emp = pd.read_csv(\"emp3.csv\")\n",
        "\n",
        "for i in emp['ename']:\n",
        "    if i[1] == 'M':\n",
        "        print(i)"
      ],
      "execution_count": null,
      "outputs": [
        {
          "output_type": "stream",
          "text": [
            "SMITH\n"
          ],
          "name": "stdout"
        }
      ]
    },
    {
      "cell_type": "markdown",
      "metadata": {
        "id": "J0wgmQJqDr_j"
      },
      "source": [
        "```\n",
        "> SQL\n",
        "\n",
        "select ename\n",
        "    from emp\n",
        "    where substr(ename, 2) = 'M%';\n",
        "```"
      ]
    },
    {
      "cell_type": "markdown",
      "metadata": {
        "id": "qXNsfy2yEmvs"
      },
      "source": [
        "#28. 시퀀스 자료 슬라이싱 이해하기\n",
        "\n",
        "- 인덱싱은 인덱스에 요소 하나를 취하는 방법이지만\n",
        "- 슬라이싱은 시퀀스 자료에서 일정 범위에 해당하는 부분을 취하는 방법"
      ]
    },
    {
      "cell_type": "code",
      "metadata": {
        "colab": {
          "base_uri": "https://localhost:8080/"
        },
        "id": "9H0aBTr5FEXi",
        "outputId": "7e30ebc3-b42a-4513-887e-5d9152090455"
      },
      "source": [
        "# 예\n",
        "a = 'scott'     # s  c  o  t  t\n",
        "print(a[1:3])   # 0  1  2  3  4\n",
        "\n",
        "# 1번째 자리부터 3미만의 자리까지 요소들을 출력"
      ],
      "execution_count": null,
      "outputs": [
        {
          "output_type": "stream",
          "text": [
            "co\n"
          ],
          "name": "stdout"
        }
      ]
    },
    {
      "cell_type": "markdown",
      "metadata": {
        "id": "Sy0JTccbFjsf"
      },
      "source": [
        "**문제 95. 아래의 SQL을 판다스로 구현하시오**\n",
        "\n",
        "```\n",
        "> SQL\n",
        "select substr(ename, 1, 3)\n",
        "    from emp;\n",
        "```"
      ]
    },
    {
      "cell_type": "code",
      "metadata": {
        "colab": {
          "base_uri": "https://localhost:8080/"
        },
        "id": "J5ZF9mYNFu7s",
        "outputId": "ea6871fe-38d5-4a47-d42e-2f4de09084d1"
      },
      "source": [
        "import pandas as pd\n",
        "\n",
        "emp = pd.read_csv(\"emp3.csv\")\n",
        "\n",
        "for i in emp['ename']:\n",
        "    print(i[0:3])"
      ],
      "execution_count": null,
      "outputs": [
        {
          "output_type": "stream",
          "text": [
            "KIN\n",
            "BLA\n",
            "CLA\n",
            "JON\n",
            "MAR\n",
            "ALL\n",
            "TUR\n",
            "JAM\n",
            "WAR\n",
            "FOR\n",
            "SMI\n",
            "SCO\n",
            "ADA\n",
            "MIL\n"
          ],
          "name": "stdout"
        }
      ]
    },
    {
      "cell_type": "markdown",
      "metadata": {
        "id": "gFQsXTJXGntN"
      },
      "source": [
        "**문제 96. 아래의 SQL을 판다스로 구현하시오**\n",
        "```\n",
        "> SQL\n",
        "select substr(ename, -2, 2)\n",
        "    from emp;\n",
        "```"
      ]
    },
    {
      "cell_type": "code",
      "metadata": {
        "colab": {
          "base_uri": "https://localhost:8080/"
        },
        "id": "v4kH5zjcG_zM",
        "outputId": "75abd12d-d3d4-4ce6-ea62-6d24bcc0c258"
      },
      "source": [
        "import pandas as pd\n",
        "\n",
        "emp = pd.read_csv(\"emp3.csv\")\n",
        "\n",
        "for i in emp['ename']:  #  K  I  N  G\n",
        "    print(i[-2:])       #       -2 -1\n",
        "#콜론(:) 다음에 아무것도 안넣으면 그냥 끝까지 읽는다"
      ],
      "execution_count": null,
      "outputs": [
        {
          "output_type": "stream",
          "text": [
            "NG\n",
            "KE\n",
            "RK\n",
            "ES\n",
            "IN\n",
            "EN\n",
            "ER\n",
            "ES\n",
            "RD\n",
            "RD\n",
            "TH\n",
            "TT\n",
            "MS\n",
            "ER\n"
          ],
          "name": "stdout"
        }
      ]
    },
    {
      "cell_type": "markdown",
      "metadata": {
        "id": "FgpN_WvkISgS"
      },
      "source": [
        "**문제97. 아래의 SQL을 판다스로 구현하시오\n",
        "```\n",
        "> SQL\n",
        "select substr( ename, 2, 3)\n",
        "    from emp;\n",
        "```"
      ]
    },
    {
      "cell_type": "code",
      "metadata": {
        "colab": {
          "base_uri": "https://localhost:8080/"
        },
        "id": "fLMzi9KxIp_K",
        "outputId": "1118b394-a4e4-4dbd-9b52-3ca1e5a88373"
      },
      "source": [
        "import pandas as pd\n",
        "\n",
        "emp = pd.read_csv(\"emp3.csv\")\n",
        "\n",
        "for i in emp['ename']:\n",
        "    print( i[1:4])"
      ],
      "execution_count": null,
      "outputs": [
        {
          "output_type": "stream",
          "text": [
            "ING\n",
            "LAK\n",
            "LAR\n",
            "ONE\n",
            "ART\n",
            "LLE\n",
            "URN\n",
            "AME\n",
            "ARD\n",
            "ORD\n",
            "MIT\n",
            "COT\n",
            "DAM\n",
            "ILL\n"
          ],
          "name": "stdout"
        }
      ]
    },
    {
      "cell_type": "markdown",
      "metadata": {
        "id": "7X78c0ejdrZb"
      },
      "source": [
        "# 29. 시퀀스 자료 연결 이해하기(+)\n",
        "\n",
        "- 자료형이 동일한 두개의 시퀀스 자료는 + 연산자로 순서있게 연결하여 새로운 시퀀스 자료를 만들수 있음.\n",
        "\n",
        "- 문자열 + 문자열, 리스트 + 리스트, 튜플 + 튜플과 같이 구개의 동일한 시퀀스 자료형에 대해 '+'연산자로 연결이 가능함\n"
      ]
    },
    {
      "cell_type": "code",
      "metadata": {
        "colab": {
          "base_uri": "https://localhost:8080/"
        },
        "id": "vhwKntEceAZx",
        "outputId": "8fb8ffe4-b94c-4240-d97f-a2e6fa2b1ed1"
      },
      "source": [
        "# 예제\n",
        "a = ' I love '\n",
        "b = 'Python'\n",
        "print(a + b)"
      ],
      "execution_count": null,
      "outputs": [
        {
          "output_type": "stream",
          "text": [
            " I love Python\n"
          ],
          "name": "stdout"
        }
      ]
    },
    {
      "cell_type": "markdown",
      "metadata": {
        "id": "BYFEH21keAMr"
      },
      "source": [
        "**문제 98. 아래의 두개의 리스트를 연결하여 출력하시오**  \n",
        "a = [2,3,4,5]  \n",
        "b = [9,2,4,8]"
      ]
    },
    {
      "cell_type": "code",
      "metadata": {
        "colab": {
          "base_uri": "https://localhost:8080/"
        },
        "id": "KJUKXomzecme",
        "outputId": "cd2d9dfa-aeeb-4ab3-a217-7612365e1b13"
      },
      "source": [
        "a = [2,3,4,5]\n",
        "b = [9,2,4,8]\n",
        "print(a + b)"
      ],
      "execution_count": null,
      "outputs": [
        {
          "output_type": "stream",
          "text": [
            "[2, 3, 4, 5, 9, 2, 4, 8]\n"
          ],
          "name": "stdout"
        }
      ]
    },
    {
      "cell_type": "markdown",
      "metadata": {
        "id": "QL3A051ne3fe"
      },
      "source": [
        "**문제 99. 아래의 SQL을 판다스로 구현하시오**\n",
        "```\n",
        "> SQL\n",
        "select ename||sal\n",
        "    from emp;\n",
        "```"
      ]
    },
    {
      "cell_type": "code",
      "metadata": {
        "colab": {
          "base_uri": "https://localhost:8080/"
        },
        "id": "EhlK1inSejE_",
        "outputId": "6eb3e7b9-4119-46a2-a1d4-b8e61d4b2cb7"
      },
      "source": [
        "import pandas as pd\n",
        "\n",
        "emp = pd.read_csv('emp3.csv')\n",
        "\n",
        "for i , k in zip( emp['ename'], emp['sal']): # zip함수를 for loop문에 사용하게 되면 두개의 범위 데이터를 한번에 받아서 loop를 수행할 수 있음\n",
        "    print( i + str(k) )                      # ename이 i로, sal이 k로 들어감\n",
        "    \n",
        "    # 문자형 + 숫자형은 연결이 되지 않으므로 \n",
        "    # 숫자형을 문자형으로 변환해주기 위해서 str 함수를 사용"
      ],
      "execution_count": null,
      "outputs": [
        {
          "output_type": "stream",
          "text": [
            "KING5000\n",
            "BLAKE2850\n",
            "CLARK2450\n",
            "JONES2975\n",
            "MARTIN1250\n",
            "ALLEN1600\n",
            "TURNER1500\n",
            "JAMES950\n",
            "WARD1250\n",
            "FORD3000\n",
            "SMITH800\n",
            "SCOTT3000\n",
            "ADAMS1100\n",
            "MILLER1300\n"
          ],
          "name": "stdout"
        }
      ]
    },
    {
      "cell_type": "code",
      "metadata": {
        "colab": {
          "base_uri": "https://localhost:8080/"
        },
        "id": "6wYQd9uHfMWf",
        "outputId": "d1eef1da-aefd-4cb6-cc5c-d30c323d9fcd"
      },
      "source": [
        "# 사실 이렇게도 가능 (하지만 위의 항목처럼 두개의 값이 아예 붙어서 나오진 않음)\n",
        "import pandas as pd\n",
        "\n",
        "emp = pd.read_csv('emp3.csv')\n",
        "\n",
        "for i , k in zip( emp['ename'], emp['sal']):\n",
        "    print( i, k )                     "
      ],
      "execution_count": null,
      "outputs": [
        {
          "output_type": "stream",
          "text": [
            "KING 5000\n",
            "BLAKE 2850\n",
            "CLARK 2450\n",
            "JONES 2975\n",
            "MARTIN 1250\n",
            "ALLEN 1600\n",
            "TURNER 1500\n",
            "JAMES 950\n",
            "WARD 1250\n",
            "FORD 3000\n",
            "SMITH 800\n",
            "SCOTT 3000\n",
            "ADAMS 1100\n",
            "MILLER 1300\n"
          ],
          "name": "stdout"
        }
      ]
    },
    {
      "cell_type": "markdown",
      "metadata": {
        "id": "jG90Hl-1hPAU"
      },
      "source": [
        "# 30. 시퀀스 자료 반복 이해하기(*)\n",
        "**\" 동일한 시퀀스 자료를 반복하여 새로운 시퀀스 자료로 만들고자 한다면 별표(*)을 연산자로 사용함 \"**"
      ]
    },
    {
      "cell_type": "code",
      "metadata": {
        "colab": {
          "base_uri": "https://localhost:8080/"
        },
        "id": "2igxsK58hg_Y",
        "outputId": "086b6bae-11aa-4032-8cea-bf7ca4485e00"
      },
      "source": [
        "# 예제\n",
        "\n",
        "print('a' * 7) # 소문자 알파벳 a를 7번 출력함\n",
        "\n",
        "print( [1,2,3] * 5 )"
      ],
      "execution_count": null,
      "outputs": [
        {
          "output_type": "stream",
          "text": [
            "aaaaaaa\n",
            "[1, 2, 3, 1, 2, 3, 1, 2, 3, 1, 2, 3, 1, 2, 3]\n"
          ],
          "name": "stdout"
        }
      ]
    },
    {
      "cell_type": "markdown",
      "metadata": {
        "id": "THY5hkHXiQRl"
      },
      "source": [
        "**문제 100. 주사위의 눈 6개를 100개 담은 리스트 dice100을 만드시오**"
      ]
    },
    {
      "cell_type": "code",
      "metadata": {
        "colab": {
          "base_uri": "https://localhost:8080/"
        },
        "id": "zErONUg3iZR1",
        "outputId": "16a52ca2-2fd4-4ca1-ef94-98bddcd3a5fa"
      },
      "source": [
        "dice = [1,2,3,4,5,6]\n",
        "dice100 = []\n",
        "dice100.append(dice * 100)\n",
        "print(dice100)\n",
        "# 이거나\n",
        "dice100 = [1,2,3,4,5,6] * 100\n",
        "print(dice100)"
      ],
      "execution_count": null,
      "outputs": [
        {
          "output_type": "stream",
          "text": [
            "[[1, 2, 3, 4, 5, 6, 1, 2, 3, 4, 5, 6, 1, 2, 3, 4, 5, 6, 1, 2, 3, 4, 5, 6, 1, 2, 3, 4, 5, 6, 1, 2, 3, 4, 5, 6, 1, 2, 3, 4, 5, 6, 1, 2, 3, 4, 5, 6, 1, 2, 3, 4, 5, 6, 1, 2, 3, 4, 5, 6, 1, 2, 3, 4, 5, 6, 1, 2, 3, 4, 5, 6, 1, 2, 3, 4, 5, 6, 1, 2, 3, 4, 5, 6, 1, 2, 3, 4, 5, 6, 1, 2, 3, 4, 5, 6, 1, 2, 3, 4, 5, 6, 1, 2, 3, 4, 5, 6, 1, 2, 3, 4, 5, 6, 1, 2, 3, 4, 5, 6, 1, 2, 3, 4, 5, 6, 1, 2, 3, 4, 5, 6, 1, 2, 3, 4, 5, 6, 1, 2, 3, 4, 5, 6, 1, 2, 3, 4, 5, 6, 1, 2, 3, 4, 5, 6, 1, 2, 3, 4, 5, 6, 1, 2, 3, 4, 5, 6, 1, 2, 3, 4, 5, 6, 1, 2, 3, 4, 5, 6, 1, 2, 3, 4, 5, 6, 1, 2, 3, 4, 5, 6, 1, 2, 3, 4, 5, 6, 1, 2, 3, 4, 5, 6, 1, 2, 3, 4, 5, 6, 1, 2, 3, 4, 5, 6, 1, 2, 3, 4, 5, 6, 1, 2, 3, 4, 5, 6, 1, 2, 3, 4, 5, 6, 1, 2, 3, 4, 5, 6, 1, 2, 3, 4, 5, 6, 1, 2, 3, 4, 5, 6, 1, 2, 3, 4, 5, 6, 1, 2, 3, 4, 5, 6, 1, 2, 3, 4, 5, 6, 1, 2, 3, 4, 5, 6, 1, 2, 3, 4, 5, 6, 1, 2, 3, 4, 5, 6, 1, 2, 3, 4, 5, 6, 1, 2, 3, 4, 5, 6, 1, 2, 3, 4, 5, 6, 1, 2, 3, 4, 5, 6, 1, 2, 3, 4, 5, 6, 1, 2, 3, 4, 5, 6, 1, 2, 3, 4, 5, 6, 1, 2, 3, 4, 5, 6, 1, 2, 3, 4, 5, 6, 1, 2, 3, 4, 5, 6, 1, 2, 3, 4, 5, 6, 1, 2, 3, 4, 5, 6, 1, 2, 3, 4, 5, 6, 1, 2, 3, 4, 5, 6, 1, 2, 3, 4, 5, 6, 1, 2, 3, 4, 5, 6, 1, 2, 3, 4, 5, 6, 1, 2, 3, 4, 5, 6, 1, 2, 3, 4, 5, 6, 1, 2, 3, 4, 5, 6, 1, 2, 3, 4, 5, 6, 1, 2, 3, 4, 5, 6, 1, 2, 3, 4, 5, 6, 1, 2, 3, 4, 5, 6, 1, 2, 3, 4, 5, 6, 1, 2, 3, 4, 5, 6, 1, 2, 3, 4, 5, 6, 1, 2, 3, 4, 5, 6, 1, 2, 3, 4, 5, 6, 1, 2, 3, 4, 5, 6, 1, 2, 3, 4, 5, 6, 1, 2, 3, 4, 5, 6, 1, 2, 3, 4, 5, 6, 1, 2, 3, 4, 5, 6, 1, 2, 3, 4, 5, 6, 1, 2, 3, 4, 5, 6, 1, 2, 3, 4, 5, 6, 1, 2, 3, 4, 5, 6, 1, 2, 3, 4, 5, 6, 1, 2, 3, 4, 5, 6, 1, 2, 3, 4, 5, 6, 1, 2, 3, 4, 5, 6, 1, 2, 3, 4, 5, 6, 1, 2, 3, 4, 5, 6, 1, 2, 3, 4, 5, 6, 1, 2, 3, 4, 5, 6, 1, 2, 3, 4, 5, 6, 1, 2, 3, 4, 5, 6, 1, 2, 3, 4, 5, 6, 1, 2, 3, 4, 5, 6, 1, 2, 3, 4, 5, 6, 1, 2, 3, 4, 5, 6]]\n",
            "[1, 2, 3, 4, 5, 6, 1, 2, 3, 4, 5, 6, 1, 2, 3, 4, 5, 6, 1, 2, 3, 4, 5, 6, 1, 2, 3, 4, 5, 6, 1, 2, 3, 4, 5, 6, 1, 2, 3, 4, 5, 6, 1, 2, 3, 4, 5, 6, 1, 2, 3, 4, 5, 6, 1, 2, 3, 4, 5, 6, 1, 2, 3, 4, 5, 6, 1, 2, 3, 4, 5, 6, 1, 2, 3, 4, 5, 6, 1, 2, 3, 4, 5, 6, 1, 2, 3, 4, 5, 6, 1, 2, 3, 4, 5, 6, 1, 2, 3, 4, 5, 6, 1, 2, 3, 4, 5, 6, 1, 2, 3, 4, 5, 6, 1, 2, 3, 4, 5, 6, 1, 2, 3, 4, 5, 6, 1, 2, 3, 4, 5, 6, 1, 2, 3, 4, 5, 6, 1, 2, 3, 4, 5, 6, 1, 2, 3, 4, 5, 6, 1, 2, 3, 4, 5, 6, 1, 2, 3, 4, 5, 6, 1, 2, 3, 4, 5, 6, 1, 2, 3, 4, 5, 6, 1, 2, 3, 4, 5, 6, 1, 2, 3, 4, 5, 6, 1, 2, 3, 4, 5, 6, 1, 2, 3, 4, 5, 6, 1, 2, 3, 4, 5, 6, 1, 2, 3, 4, 5, 6, 1, 2, 3, 4, 5, 6, 1, 2, 3, 4, 5, 6, 1, 2, 3, 4, 5, 6, 1, 2, 3, 4, 5, 6, 1, 2, 3, 4, 5, 6, 1, 2, 3, 4, 5, 6, 1, 2, 3, 4, 5, 6, 1, 2, 3, 4, 5, 6, 1, 2, 3, 4, 5, 6, 1, 2, 3, 4, 5, 6, 1, 2, 3, 4, 5, 6, 1, 2, 3, 4, 5, 6, 1, 2, 3, 4, 5, 6, 1, 2, 3, 4, 5, 6, 1, 2, 3, 4, 5, 6, 1, 2, 3, 4, 5, 6, 1, 2, 3, 4, 5, 6, 1, 2, 3, 4, 5, 6, 1, 2, 3, 4, 5, 6, 1, 2, 3, 4, 5, 6, 1, 2, 3, 4, 5, 6, 1, 2, 3, 4, 5, 6, 1, 2, 3, 4, 5, 6, 1, 2, 3, 4, 5, 6, 1, 2, 3, 4, 5, 6, 1, 2, 3, 4, 5, 6, 1, 2, 3, 4, 5, 6, 1, 2, 3, 4, 5, 6, 1, 2, 3, 4, 5, 6, 1, 2, 3, 4, 5, 6, 1, 2, 3, 4, 5, 6, 1, 2, 3, 4, 5, 6, 1, 2, 3, 4, 5, 6, 1, 2, 3, 4, 5, 6, 1, 2, 3, 4, 5, 6, 1, 2, 3, 4, 5, 6, 1, 2, 3, 4, 5, 6, 1, 2, 3, 4, 5, 6, 1, 2, 3, 4, 5, 6, 1, 2, 3, 4, 5, 6, 1, 2, 3, 4, 5, 6, 1, 2, 3, 4, 5, 6, 1, 2, 3, 4, 5, 6, 1, 2, 3, 4, 5, 6, 1, 2, 3, 4, 5, 6, 1, 2, 3, 4, 5, 6, 1, 2, 3, 4, 5, 6, 1, 2, 3, 4, 5, 6, 1, 2, 3, 4, 5, 6, 1, 2, 3, 4, 5, 6, 1, 2, 3, 4, 5, 6, 1, 2, 3, 4, 5, 6, 1, 2, 3, 4, 5, 6, 1, 2, 3, 4, 5, 6, 1, 2, 3, 4, 5, 6, 1, 2, 3, 4, 5, 6, 1, 2, 3, 4, 5, 6, 1, 2, 3, 4, 5, 6, 1, 2, 3, 4, 5, 6, 1, 2, 3, 4, 5, 6, 1, 2, 3, 4, 5, 6, 1, 2, 3, 4, 5, 6, 1, 2, 3, 4, 5, 6, 1, 2, 3, 4, 5, 6, 1, 2, 3, 4, 5, 6]\n"
          ],
          "name": "stdout"
        }
      ]
    },
    {
      "cell_type": "markdown",
      "metadata": {
        "id": "bZTruaq0i1_5"
      },
      "source": [
        "**문제 101. 초등학생 키가 10개가 들어있는 아래의 tall 리스트의 요소 10개를 10000개로 증가시켜서 tall10000 리스트에 담고 출력하시오**"
      ]
    },
    {
      "cell_type": "code",
      "metadata": {
        "id": "nd8hF0C_i_gQ"
      },
      "source": [
        "tall = [129.3, 130.2, 132.5, 134.7, 136.3, 137.8, 138.1, 140.2, 142.3, 145.2 ]\n",
        "tall10000 = tall *1000\n",
        "print(tall10000)"
      ],
      "execution_count": null,
      "outputs": []
    },
    {
      "cell_type": "markdown",
      "metadata": {
        "id": "IfaypaA2je7q"
      },
      "source": [
        "**문제 102. 위의 모집단의 평균, 분산, 표준편차 값을 출력하시오**"
      ]
    },
    {
      "cell_type": "code",
      "metadata": {
        "colab": {
          "base_uri": "https://localhost:8080/"
        },
        "id": "aC0AImCujm8Y",
        "outputId": "23b14230-faeb-486e-9cd3-a2fe0c20e966"
      },
      "source": [
        "import numpy as np\n",
        "\n",
        "tall = [129.3, 130.2, 132.5, 134.7, 136.3, 137.8, 138.1, 140.2, 142.3, 145.2 ]\n",
        "tall10000 = tall *1000\n",
        "print(type(tall10000))\n",
        "\n",
        "print(np.mean(tall10000)) # np.mean, var, std (리스트)를 사용하면 평균값이 출력\n",
        "print(np.var(tall10000))\n",
        "print(np.std(tall10000))\n"
      ],
      "execution_count": null,
      "outputs": [
        {
          "output_type": "stream",
          "text": [
            "<class 'list'>\n",
            "136.66\n",
            "23.78239999999999\n",
            "4.876720209321014\n"
          ],
          "name": "stdout"
        }
      ]
    },
    {
      "cell_type": "markdown",
      "metadata": {
        "id": "_u_BAQcZkuTC"
      },
      "source": [
        "**문제 103. 위의 모집단 tall10000에서 표본을 20개를 랜덤으로 추출하시오**"
      ]
    },
    {
      "cell_type": "code",
      "metadata": {
        "colab": {
          "base_uri": "https://localhost:8080/"
        },
        "id": "NnqD04zRk0X8",
        "outputId": "e81a7b34-c3f1-40c3-ee0e-eae1e5db9cb8"
      },
      "source": [
        "import random as rd\n",
        "import numpy as np\n",
        "\n",
        "tall = [129.3, 130.2, 132.5, 134.7, 136.3, 137.8, 138.1, 140.2, 142.3, 145.2 ]\n",
        "tall10000 = tall *1000     # 초등학생 키 데이터 10000개 생성 (모집단 생성)\n",
        "random_tall = []\n",
        "\n",
        "for i in range (1, 21):   # 20번 loop 돌면서\n",
        "    print( rd.choice(tall10000) ) # 모집단에서 랜덤으로 20명의 키를 한명씩 추출"
      ],
      "execution_count": null,
      "outputs": [
        {
          "output_type": "stream",
          "text": [
            "138.1\n",
            "145.2\n",
            "130.2\n",
            "129.3\n",
            "140.2\n",
            "137.8\n",
            "134.7\n",
            "134.7\n",
            "132.5\n",
            "134.7\n",
            "140.2\n",
            "138.1\n",
            "129.3\n",
            "130.2\n",
            "138.1\n",
            "138.1\n",
            "132.5\n",
            "142.3\n",
            "145.2\n",
            "130.2\n"
          ],
          "name": "stdout"
        }
      ]
    },
    {
      "cell_type": "markdown",
      "metadata": {
        "id": "vnwshzGumVgT"
      },
      "source": [
        "**문제 104. 위의 랜덤으로 추출한 표본 20개를 비어있는 a 리스트에 담으시오**"
      ]
    },
    {
      "cell_type": "code",
      "metadata": {
        "colab": {
          "base_uri": "https://localhost:8080/"
        },
        "id": "23nnCuwmmeSp",
        "outputId": "eafbdffc-5806-4918-e517-4039e9bc0aad"
      },
      "source": [
        "import random as rd\n",
        "import numpy as np\n",
        "\n",
        "tall = [129.3, 130.2, 132.5, 134.7, 136.3, 137.8, 138.1, 140.2, 142.3, 145.2 ]\n",
        "tall10000 = tall *1000     # 초등학생 키 데이터 10000개 생성 (모집단 생성)\n",
        "a = []  # 표본을 담기 위해 a라는 비어있는 리스트를 만듬\n",
        "\n",
        "for i in range (1, 21):   # 20번 loop 돌면서\n",
        "    random = rd.choice(tall10000) # 모집단에서 랜덤으로 20명의 키를 한명씩 추출\n",
        "    a.append(random)    # 모집단에서 랜덤으로 키 하나를 추출해서 a 리스트에 담는다.\n",
        "\n",
        "print(a)"
      ],
      "execution_count": null,
      "outputs": [
        {
          "output_type": "stream",
          "text": [
            "[132.5, 136.3, 138.1, 140.2, 137.8, 138.1, 129.3, 136.3, 134.7, 134.7, 132.5, 129.3, 140.2, 142.3, 138.1, 138.1, 134.7, 132.5, 137.8, 137.8]\n"
          ],
          "name": "stdout"
        }
      ]
    },
    {
      "cell_type": "markdown",
      "metadata": {
        "id": "LIVAKDpInGNK"
      },
      "source": [
        "**문제 105. 위의 표본이 평균값을 출력하시오**"
      ]
    },
    {
      "cell_type": "code",
      "metadata": {
        "colab": {
          "base_uri": "https://localhost:8080/"
        },
        "id": "09wIHOlFnKSX",
        "outputId": "0adc219e-bd4d-4f1b-8569-17a5807861a4"
      },
      "source": [
        "import random as rd\n",
        "import numpy as np\n",
        "\n",
        "tall = [129.3, 130.2, 132.5, 134.7, 136.3, 137.8, 138.1, 140.2, 142.3, 145.2 ]\n",
        "tall10000 = tall *1000     # 초등학생 키 데이터 10000개 생성 (모집단 생성)\n",
        "a = []  # 표본을 담기 위해 a라는 비어있는 리스트를 만듬\n",
        "\n",
        "for i in range (1, 21):   # 20번 loop 돌면서\n",
        "    random = rd.choice(tall10000) # 모집단에서 랜덤으로 20명의 키를 한명씩 추출\n",
        "    a.append(random)    # 모집단에서 랜덤으로 키 하나를 추출해서 a 리스트에 담는다.\n",
        "\n",
        "print(np.mean(a))"
      ],
      "execution_count": null,
      "outputs": [
        {
          "output_type": "stream",
          "text": [
            "137.37\n"
          ],
          "name": "stdout"
        }
      ]
    },
    {
      "cell_type": "markdown",
      "metadata": {
        "id": "Aq_1vNeqntJD"
      },
      "source": [
        "#31. 시퀀스자료 크기 이해하기 (len)\n",
        "- 모든 시퀀스 자료는 고정된 길이 또는 크기를 가지고 있음\n",
        "- 시퀀스 자료의 크기는 시퀀스 자료를 구성하는 요수의 갯수"
      ]
    },
    {
      "cell_type": "code",
      "metadata": {
        "colab": {
          "base_uri": "https://localhost:8080/"
        },
        "id": "Q-JNG1RvoQge",
        "outputId": "a82f96be-001a-4d4e-abe7-37be89a2c5ce"
      },
      "source": [
        "# 예\n",
        "a = 'scott'\n",
        "print(len(a))\n",
        "\n",
        "b= [ 2, 3, 4, 8, 1 ]\n",
        "print( len(b) ) # 리스트의 요소의 갯수가 출력됨"
      ],
      "execution_count": null,
      "outputs": [
        {
          "output_type": "stream",
          "text": [
            "5\n",
            "5\n"
          ],
          "name": "stdout"
        }
      ]
    },
    {
      "cell_type": "markdown",
      "metadata": {
        "id": "rrJjJxX0oe-D"
      },
      "source": [
        "**문제 106. 아래의 SQL을 판다스로 구현하시오**\n",
        "\n",
        "```\n",
        "> SQL\n",
        "select ename, length(ename)\n",
        "    from emp;\n",
        "```"
      ]
    },
    {
      "cell_type": "code",
      "metadata": {
        "colab": {
          "base_uri": "https://localhost:8080/"
        },
        "id": "zft7cwlloqOH",
        "outputId": "d466cb44-9d14-4669-df81-7f11fa6f0cb9"
      },
      "source": [
        "import pandas as pd\n",
        "\n",
        "emp = pd.read_csv('emp3.csv')\n",
        "\n",
        "for i in emp['ename']:\n",
        "    print( i, len(i))"
      ],
      "execution_count": null,
      "outputs": [
        {
          "output_type": "stream",
          "text": [
            "KING 4\n",
            "BLAKE 5\n",
            "CLARK 5\n",
            "JONES 5\n",
            "MARTIN 6\n",
            "ALLEN 5\n",
            "TURNER 6\n",
            "JAMES 5\n",
            "WARD 4\n",
            "FORD 4\n",
            "SMITH 5\n",
            "SCOTT 5\n",
            "ADAMS 5\n",
            "MILLER 6\n"
          ],
          "name": "stdout"
        }
      ]
    },
    {
      "cell_type": "markdown",
      "metadata": {
        "id": "hAsxag2fsgSc"
      },
      "source": [
        "#32. 멤버체크 이해하기 (in)\n",
        "- in은 자료에 어떤 값이 있는지 없는지 확일 할 때 사용하는 키워드\n",
        "  \n",
        "> 예: 값 in 자료  \n",
        "설명: 값이 자료에 있으면 True이고 없으면 False가 됨 "
      ]
    },
    {
      "cell_type": "code",
      "metadata": {
        "colab": {
          "base_uri": "https://localhost:8080/"
        },
        "id": "T8cBKcBbs0Px",
        "outputId": "88a1ff32-d679-48ab-c27b-74893db0e9bc"
      },
      "source": [
        "# 예\n",
        "listdata = [1,2,3,4]\n",
        "\n",
        "a = 5 in listdata\n",
        "b = 4 in listdata\n",
        "\n",
        "print(a)\n",
        "print(b)"
      ],
      "execution_count": null,
      "outputs": [
        {
          "output_type": "stream",
          "text": [
            "False\n",
            "True\n"
          ],
          "name": "stdout"
        }
      ]
    },
    {
      "cell_type": "markdown",
      "metadata": {
        "id": "Dq-tfJW9thwh"
      },
      "source": [
        "**문제 107. 모평균이 30이고 모표준편차가 7인 모집단을 구성하시오**"
      ]
    },
    {
      "cell_type": "code",
      "metadata": {
        "colab": {
          "base_uri": "https://localhost:8080/"
        },
        "id": "o2P05GIqto51",
        "outputId": "9980d3ac-3c9c-421e-9c80-03d851c9992f"
      },
      "source": [
        "import numpy as np\n",
        "\n",
        "avg = 30\n",
        "std = 7\n",
        "N = 1000000\n",
        "\n",
        "population = np.random.randn(N) * std + avg # np.random.radn(숫자)를 쓰면 이 숫자만큼 가우시안 정규분포에 따르는 난수들이 숫자만큼 생성된다.\n",
        "print(population)\n",
        "print(len(population))"
      ],
      "execution_count": null,
      "outputs": [
        {
          "output_type": "stream",
          "text": [
            "[19.90183414 34.72180586 46.45712534 ... 20.31463091 36.52043683\n",
            " 40.19106077]\n",
            "1000000\n"
          ],
          "name": "stdout"
        }
      ]
    },
    {
      "cell_type": "markdown",
      "metadata": {
        "id": "p7BweCxPvJ8L"
      },
      "source": [
        "**문제 108. 위의 모집단의 모평균을 출력하시오!**"
      ]
    },
    {
      "cell_type": "code",
      "metadata": {
        "colab": {
          "base_uri": "https://localhost:8080/"
        },
        "id": "VBHe3EbIvkKj",
        "outputId": "654faaea-9cda-4468-c2ce-07c48962cc67"
      },
      "source": [
        "import numpy as np\n",
        "\n",
        "avg = 30\n",
        "std = 7\n",
        "N = 1000000\n",
        "\n",
        "population = np.random.randn(N) * std + avg\n",
        "print( np.mean( population ))"
      ],
      "execution_count": null,
      "outputs": [
        {
          "output_type": "stream",
          "text": [
            "29.990301244855303\n"
          ],
          "name": "stdout"
        }
      ]
    },
    {
      "cell_type": "markdown",
      "metadata": {
        "id": "sug3xLXIwDW5"
      },
      "source": [
        "**문제 109. 아래의 SQL을 판다스로 구현하시오**\n",
        "```\n",
        "> SQL\n",
        "select ename, job\n",
        "    from emp\n",
        "    where job in ('SALESMAN', 'ANALYST' )\n",
        "```"
      ]
    },
    {
      "cell_type": "code",
      "metadata": {
        "colab": {
          "base_uri": "https://localhost:8080/",
          "height": 235
        },
        "id": "d17egzXGwXEP",
        "outputId": "d13289be-1d38-4912-acee-bccf8f87393a"
      },
      "source": [
        "import pandas as pd\n",
        "\n",
        "emp = pd.read_csv(\"emp3.csv\")\n",
        "\n",
        "emp[ ['ename', 'job'] ][ emp['job'].isin( ['SALESMAN', 'ANALYST'] ) ]"
      ],
      "execution_count": null,
      "outputs": [
        {
          "output_type": "execute_result",
          "data": {
            "text/html": [
              "<div>\n",
              "<style scoped>\n",
              "    .dataframe tbody tr th:only-of-type {\n",
              "        vertical-align: middle;\n",
              "    }\n",
              "\n",
              "    .dataframe tbody tr th {\n",
              "        vertical-align: top;\n",
              "    }\n",
              "\n",
              "    .dataframe thead th {\n",
              "        text-align: right;\n",
              "    }\n",
              "</style>\n",
              "<table border=\"1\" class=\"dataframe\">\n",
              "  <thead>\n",
              "    <tr style=\"text-align: right;\">\n",
              "      <th></th>\n",
              "      <th>ename</th>\n",
              "      <th>job</th>\n",
              "    </tr>\n",
              "  </thead>\n",
              "  <tbody>\n",
              "    <tr>\n",
              "      <th>4</th>\n",
              "      <td>MARTIN</td>\n",
              "      <td>SALESMAN</td>\n",
              "    </tr>\n",
              "    <tr>\n",
              "      <th>5</th>\n",
              "      <td>ALLEN</td>\n",
              "      <td>SALESMAN</td>\n",
              "    </tr>\n",
              "    <tr>\n",
              "      <th>6</th>\n",
              "      <td>TURNER</td>\n",
              "      <td>SALESMAN</td>\n",
              "    </tr>\n",
              "    <tr>\n",
              "      <th>8</th>\n",
              "      <td>WARD</td>\n",
              "      <td>SALESMAN</td>\n",
              "    </tr>\n",
              "    <tr>\n",
              "      <th>9</th>\n",
              "      <td>FORD</td>\n",
              "      <td>ANALYST</td>\n",
              "    </tr>\n",
              "    <tr>\n",
              "      <th>11</th>\n",
              "      <td>SCOTT</td>\n",
              "      <td>ANALYST</td>\n",
              "    </tr>\n",
              "  </tbody>\n",
              "</table>\n",
              "</div>"
            ],
            "text/plain": [
              "     ename       job\n",
              "4   MARTIN  SALESMAN\n",
              "5    ALLEN  SALESMAN\n",
              "6   TURNER  SALESMAN\n",
              "8     WARD  SALESMAN\n",
              "9     FORD   ANALYST\n",
              "11   SCOTT   ANALYST"
            ]
          },
          "metadata": {
            "tags": []
          },
          "execution_count": 128
        }
      ]
    },
    {
      "cell_type": "markdown",
      "metadata": {
        "id": "hwxqsltLxZV4"
      },
      "source": [
        "**문제 110. 아래의 SQL을 판다스로 구현하시오**\n",
        "```\n",
        "> SQL\n",
        "select ename, job\n",
        "    from emp\n",
        "    where job not in ('SALESMAN', 'ANALYST');\n",
        "```"
      ]
    },
    {
      "cell_type": "code",
      "metadata": {
        "colab": {
          "base_uri": "https://localhost:8080/",
          "height": 297
        },
        "id": "ZuFo2PgnxmGN",
        "outputId": "971207db-f47c-4a60-d34b-7073b9486eba"
      },
      "source": [
        "import pandas as pd\n",
        "\n",
        "emp = pd.read_csv(\"emp3.csv\")\n",
        "\n",
        "emp[ ['ename', 'job'] ][ ~ emp['job'].isin( ['SALESMAN', 'ANALYST'] ) ]"
      ],
      "execution_count": null,
      "outputs": [
        {
          "output_type": "execute_result",
          "data": {
            "text/html": [
              "<div>\n",
              "<style scoped>\n",
              "    .dataframe tbody tr th:only-of-type {\n",
              "        vertical-align: middle;\n",
              "    }\n",
              "\n",
              "    .dataframe tbody tr th {\n",
              "        vertical-align: top;\n",
              "    }\n",
              "\n",
              "    .dataframe thead th {\n",
              "        text-align: right;\n",
              "    }\n",
              "</style>\n",
              "<table border=\"1\" class=\"dataframe\">\n",
              "  <thead>\n",
              "    <tr style=\"text-align: right;\">\n",
              "      <th></th>\n",
              "      <th>ename</th>\n",
              "      <th>job</th>\n",
              "    </tr>\n",
              "  </thead>\n",
              "  <tbody>\n",
              "    <tr>\n",
              "      <th>0</th>\n",
              "      <td>KING</td>\n",
              "      <td>PRESIDENT</td>\n",
              "    </tr>\n",
              "    <tr>\n",
              "      <th>1</th>\n",
              "      <td>BLAKE</td>\n",
              "      <td>MANAGER</td>\n",
              "    </tr>\n",
              "    <tr>\n",
              "      <th>2</th>\n",
              "      <td>CLARK</td>\n",
              "      <td>MANAGER</td>\n",
              "    </tr>\n",
              "    <tr>\n",
              "      <th>3</th>\n",
              "      <td>JONES</td>\n",
              "      <td>MANAGER</td>\n",
              "    </tr>\n",
              "    <tr>\n",
              "      <th>7</th>\n",
              "      <td>JAMES</td>\n",
              "      <td>CLERK</td>\n",
              "    </tr>\n",
              "    <tr>\n",
              "      <th>10</th>\n",
              "      <td>SMITH</td>\n",
              "      <td>CLERK</td>\n",
              "    </tr>\n",
              "    <tr>\n",
              "      <th>12</th>\n",
              "      <td>ADAMS</td>\n",
              "      <td>CLERK</td>\n",
              "    </tr>\n",
              "    <tr>\n",
              "      <th>13</th>\n",
              "      <td>MILLER</td>\n",
              "      <td>CLERK</td>\n",
              "    </tr>\n",
              "  </tbody>\n",
              "</table>\n",
              "</div>"
            ],
            "text/plain": [
              "     ename        job\n",
              "0     KING  PRESIDENT\n",
              "1    BLAKE    MANAGER\n",
              "2    CLARK    MANAGER\n",
              "3    JONES    MANAGER\n",
              "7    JAMES      CLERK\n",
              "10   SMITH      CLERK\n",
              "12   ADAMS      CLERK\n",
              "13  MILLER      CLERK"
            ]
          },
          "metadata": {
            "tags": []
          },
          "execution_count": 130
        }
      ]
    },
    {
      "cell_type": "markdown",
      "metadata": {
        "id": "iVNjOZVxx6Xx"
      },
      "source": [
        "#34. 문자열 이해하기\n",
        "\n",
        "- 문자열은 문자나 기호 순서로 나열되어있는 시퀀스 자료\n",
        "- 문자열을 선언하는 3가지 방법\n",
        "\n",
        "```\n",
        "1.'문자열' <---- 싱글 쿼테이션 마크\n",
        "2. \"문자열 <---- 더블 쿼테이션 마크\n",
        "3.\"\"\"문자열\"\"\"<--더블 쿼테이션 마크를 3개\n",
        "```\n"
      ]
    },
    {
      "cell_type": "code",
      "metadata": {
        "colab": {
          "base_uri": "https://localhost:8080/"
        },
        "id": "lXM79mFLwXB_",
        "outputId": "9a759c99-2896-420a-cb0e-c36d16b1dffe"
      },
      "source": [
        "a = \"My son's name is john\"\n",
        "print(a)"
      ],
      "execution_count": null,
      "outputs": [
        {
          "output_type": "stream",
          "text": [
            "My son's name is john\n"
          ],
          "name": "stdout"
        }
      ]
    },
    {
      "cell_type": "markdown",
      "metadata": {
        "id": "YBI1w8hRy5HM"
      },
      "source": [
        "- 문자에 아래와 같이 더블 쿼테이션 마크가 있다면 위의 세번째인 \"\"\" \"\"\" 더블 3개를 사용하면 되"
      ]
    },
    {
      "cell_type": "code",
      "metadata": {
        "colab": {
          "base_uri": "https://localhost:8080/"
        },
        "id": "z4mkrU0dzCg7",
        "outputId": "b00f8de5-e4a5-45ff-9840-c3eac293b329"
      },
      "source": [
        "b = \"\"\" My son's name is \"jone\" \"\"\"\n",
        "print(b)"
      ],
      "execution_count": null,
      "outputs": [
        {
          "output_type": "stream",
          "text": [
            " My son's name is \"jone\" \n"
          ],
          "name": "stdout"
        }
      ]
    },
    {
      "cell_type": "markdown",
      "metadata": {
        "id": "k2Atf-gTzPCZ"
      },
      "source": [
        "**문제 111. 아래와 같은 글씨가 출력되게 하시오**  \n",
        "\"모집단\"의 모평균은  \n",
        "\"모집단\"의 모분산은  \n",
        "모집단\"의 모표준편차는"
      ]
    },
    {
      "cell_type": "code",
      "metadata": {
        "colab": {
          "base_uri": "https://localhost:8080/"
        },
        "id": "Hrq099DBzhND",
        "outputId": "589f262a-5ddc-4fc2-eb25-78f36fda5aee"
      },
      "source": [
        "print('\"모집단\"의 모평균은')\n",
        "print('\"모집단\"의 모분산은')\n",
        "print('\"모집단\"의 모표준편차는')"
      ],
      "execution_count": null,
      "outputs": [
        {
          "output_type": "stream",
          "text": [
            "\"모집단\"의 모평균은\n",
            "\"모집단\"의 모분산은\n",
            "\"모집단\"의 모표준편차는\n"
          ],
          "name": "stdout"
        }
      ]
    },
    {
      "cell_type": "markdown",
      "metadata": {
        "id": "mrzTdJOE0GGs"
      },
      "source": [
        "**문제 112. 모평균이 30이고 모표준편차가 7인 모집단 1000000개의 모평균과 모분산과 모표준편차를 아래와 같이 출력하시오**\n",
        "```\n",
        "\"모집단\"의 모평균은 136.66\n",
        "\"모집단\"의 모분산은 23.78239999999999\n",
        "\"모집단\"의 모표준편차는 4.876720209321014\n",
        "```"
      ]
    },
    {
      "cell_type": "code",
      "metadata": {
        "colab": {
          "base_uri": "https://localhost:8080/"
        },
        "id": "1-hEtoSF0PWG",
        "outputId": "bf43990d-483f-4652-d9a3-1ef3c626a9a2"
      },
      "source": [
        "import numpy as np\n",
        "\n",
        "avg = 30\n",
        "std = 7\n",
        "N = 1000000\n",
        "\n",
        "population = np.random.randn(N) * std + avg\n",
        "\n",
        "print(\"\"\" \"모집단\"의 모평균은\"\"\", np.mean(population)) # np.mean, var, std (리스트)를 사용하면 평균값이 출력\n",
        "print(\"\"\" \"모집단\"의 모분산은\"\"\", np.var(population))\n",
        "print(\"\"\" \"모집단\"의 모표준편차은\"\"\", np.std(population))"
      ],
      "execution_count": null,
      "outputs": [
        {
          "output_type": "stream",
          "text": [
            " \"모집단\"의 모평균은 29.999876691316935\n",
            " \"모집단\"의 모분산은 49.05697795314472\n",
            " \"모집단\"의 모표준편차은 7.004068671361291\n"
          ],
          "name": "stdout"
        }
      ]
    },
    {
      "cell_type": "markdown",
      "metadata": {
        "id": "MhccKZ4e1M7q"
      },
      "source": [
        "**문제 113. 모평균이 30이고 모표준편차가 7인 모집단(1000000개)에서 표본을 49개를 뽑으시오** "
      ]
    },
    {
      "cell_type": "code",
      "metadata": {
        "colab": {
          "base_uri": "https://localhost:8080/"
        },
        "id": "LXzI1JTY2EWt",
        "outputId": "3e8a0165-2aac-4bc8-eff0-6a99cbcb9878"
      },
      "source": [
        "import numpy as np\n",
        "\n",
        "avg = 30\n",
        "std = 7\n",
        "N = 1000000\n",
        "\n",
        "population = np.random.randn(N) * std + avg\n",
        "print( np.random.choice(population, 49) )"
      ],
      "execution_count": null,
      "outputs": [
        {
          "output_type": "stream",
          "text": [
            "[30.37463024 24.83518981 26.45392737 23.55149717 40.569369   30.09036936\n",
            " 34.55056836 30.14414833 30.61102982 29.75663233 28.87617075 26.66524455\n",
            " 31.1783833  22.24440901 25.77666201 43.60948122 26.08489526 32.65522766\n",
            " 33.47888552 27.54477544 44.06597771 25.53857361 32.56823435 38.60690578\n",
            " 26.38407065 19.58472985 44.14444091 26.47658356 31.78955272 32.13926646\n",
            " 33.12188714 33.07114857 35.28255195 22.38185227 33.45099552 30.34897524\n",
            " 28.22721072 27.03830269 21.98547106 34.87384545 35.41512326 19.89344597\n",
            " 49.09093763 36.06052767 33.94188906 21.52563507 37.82315149 23.66734964\n",
            " 22.93510469]\n"
          ],
          "name": "stdout"
        }
      ]
    },
    {
      "cell_type": "markdown",
      "metadata": {
        "id": "N_EZsPLg51eg"
      },
      "source": [
        "**문제 114. 위에서 뽑은 49개의 평균값을 출력하시오**"
      ]
    },
    {
      "cell_type": "code",
      "metadata": {
        "colab": {
          "base_uri": "https://localhost:8080/"
        },
        "id": "aZS7MrgR56EP",
        "outputId": "6b34d59b-1441-4b71-cfc6-17bad092c688"
      },
      "source": [
        "import numpy as np\n",
        "\n",
        "avg = 30\n",
        "std = 7\n",
        "N = 1000000\n",
        "\n",
        "population = np.random.randn(N) * std + avg\n",
        "sample = np.random.choice(population, 49)\n",
        "print(np.mean(sample))\n",
        "print( np.random.choice(population, 49).mean() )\n",
        "# numpy의 random 안의 choice 함수를 이용해서 population에서 49개를 표본 샘플링하고 그 표본의 평균값을 출력한다."
      ],
      "execution_count": null,
      "outputs": [
        {
          "output_type": "stream",
          "text": [
            "30.215272162139662\n",
            "31.297403301498044\n"
          ],
          "name": "stdout"
        }
      ]
    },
    {
      "cell_type": "markdown",
      "metadata": {
        "id": "xzYrWenz7J4B"
      },
      "source": [
        "**문제 115. 위에서 출력한 표본이 평균값을 하나가 아니라 100개가 출력되게 하시오**"
      ]
    },
    {
      "cell_type": "code",
      "metadata": {
        "id": "D2w845SY7PXU"
      },
      "source": [
        "import numpy as np\n",
        "\n",
        "avg = 30\n",
        "std = 7\n",
        "N = 1000000\n",
        "\n",
        "population = np.random.randn(N) * std + avg\n",
        "\n",
        "for i in range(1, 101):\n",
        "    print( np.random.choice(population, 49).mean() )"
      ],
      "execution_count": null,
      "outputs": []
    },
    {
      "cell_type": "markdown",
      "metadata": {
        "id": "95I4fGoR8Hvy"
      },
      "source": [
        "**문제 116. 이번에는 100개를 출력하지 말고 비어있는 리스트a를 선언하고 a에 100개를 담으시오**"
      ]
    },
    {
      "cell_type": "code",
      "metadata": {
        "colab": {
          "base_uri": "https://localhost:8080/"
        },
        "id": "YgNBPkjG8Avc",
        "outputId": "d08228fa-a471-4661-bc3a-f739db3b2236"
      },
      "source": [
        "import numpy as np\n",
        "\n",
        "avg = 30\n",
        "std = 7\n",
        "N = 1000000\n",
        "\n",
        "population = np.random.randn(N) * std + avg\n",
        "list_a = []\n",
        "\n",
        "for i in range(1, 101):\n",
        "    list_a.append( np.random.choice(population, 49).mean() )\n",
        "\n",
        "print(list_a)"
      ],
      "execution_count": null,
      "outputs": [
        {
          "output_type": "stream",
          "text": [
            "[27.78029970223015, 29.99497846043443, 28.26784226160535, 29.970746964969837, 30.575840791313336, 27.821910555078393, 28.61509264637336, 30.65497812374477, 30.82188210103479, 30.076495885617113, 31.23184078411532, 30.99567078569607, 29.915529545096025, 30.367689122007793, 31.342258003436264, 30.050502161566712, 30.925794600727016, 29.956907479129725, 29.121230926356176, 28.951691588937663, 29.667399764790936, 29.684835380615095, 30.848653816021688, 28.737901525532575, 30.83945137931779, 28.369068449809625, 29.035425009949165, 29.395899867887707, 31.334777268540737, 31.40118219650997, 31.062090122067353, 29.83578504924565, 30.314203567688388, 31.510500955737427, 28.911196285020974, 29.519171369895318, 30.559089572587272, 30.72102121052838, 29.067809007149986, 28.556732051019704, 30.465025908180525, 29.965985096178628, 29.116864122941234, 29.09304338124177, 29.84487048832792, 30.5973197133429, 30.47633517487417, 28.834355335322936, 31.87568566629955, 28.966296716637178, 28.788976211268963, 29.99766386640339, 30.28286906945248, 30.498658557910133, 29.244552748023235, 31.669315754923936, 30.64287795584393, 30.764145444836014, 29.845868007124057, 28.550475360138105, 31.92309690470994, 31.06431762055052, 28.88377250872339, 29.01988372003769, 30.0430246916004, 30.1227585600706, 31.027526018917612, 28.95932690619255, 30.298167175720938, 32.37016697393236, 29.057712357633864, 31.75421896460004, 29.5821114352053, 30.183563507077046, 30.165578995476377, 32.098262207008865, 27.04195191320014, 30.855188423022003, 29.874321950372966, 27.93666312280208, 31.12298845420587, 30.821123310965262, 30.19354723262627, 30.621648598026997, 32.28363136465229, 30.615026931623017, 30.352992438323884, 30.717271293465775, 30.074322514322088, 29.778233090898205, 30.676670672620887, 28.86962310259974, 30.34364511972898, 29.836018217467082, 30.527934616043282, 30.39062710372015, 28.981024553157944, 30.014942151363787, 27.509832818741824, 28.383502422676752]\n"
          ],
          "name": "stdout"
        }
      ]
    },
    {
      "cell_type": "markdown",
      "metadata": {
        "id": "l4MhMTnu9O1o"
      },
      "source": [
        "**문제 117. 위에서 구한 표본평균의 평균값과 표준편차를 아래와 같이 출력하시오**\n",
        "```\n",
        "\"표본평균\" 의 평균값은 ***\n",
        "\"표본평균\" 의 표준편차는 ***\n",
        "```"
      ]
    },
    {
      "cell_type": "code",
      "metadata": {
        "colab": {
          "base_uri": "https://localhost:8080/"
        },
        "id": "wJosuVM39igh",
        "outputId": "883de415-e9a5-4f77-b3c1-9534ba93a438"
      },
      "source": [
        "import numpy as np\n",
        "\n",
        "avg = 30\n",
        "std = 7\n",
        "N = 1000000\n",
        "\n",
        "population = np.random.randn(N) * std + avg\n",
        "list_a = []\n",
        "\n",
        "for i in range(1, 101):\n",
        "    list_a.append( np.random.choice(population, 49).mean() )\n",
        "\n",
        "print(\"\"\" \"표본평균\" 의 평균값은 \"\"\", np.mean(list_a) )\n",
        "print(\"\"\" \"표본평균\" 의 표준편차는 \"\"\", np.std(list_a) ) # n-1로 나누어줘야하긴 함(함수를 배우기 위해 자유도는 무시한다)\n",
        "                                                         # 맨 마지막 문제로 풀기로 함"
      ],
      "execution_count": null,
      "outputs": [
        {
          "output_type": "stream",
          "text": [
            " \"표본평균\" 의 평균값은  30.040386241794486\n",
            " \"표본평균\" 의 표준편차는  0.9531921739392857\n"
          ],
          "name": "stdout"
        }
      ]
    },
    {
      "cell_type": "markdown",
      "metadata": {
        "id": "9mj9lWq0_Ba-"
      },
      "source": [
        "#34. 문자열 포멧팅 이해하기\n",
        "- 문자열 포멧팅이란 변하는 값을 포함하는 문자열을 표현하기 위해 하나의 양식으로 문자열을 만드는 것\n",
        "- 문자열 포멧팅에서는 변하는 값을 나타내기 위해 사용하는 기호를 '포멧 문자열'이라고 하며, 자주 사용하는 포멧 문자열은 다음과 같음\n",
        "\n",
        "|포멧 문자열| |설명|\n",
        "|:----:|----|:----:|\n",
        "|%s||문자열에 대응됨|\n",
        "|%c||문자나 기호 한개에 대응됨|\n",
        "|%f||실수에 대응됨|\n",
        "|%d||정수에 대응됨|\n",
        "|%%||%라는 기호 자체를 표시함|"
      ]
    },
    {
      "cell_type": "code",
      "metadata": {
        "colab": {
          "base_uri": "https://localhost:8080/"
        },
        "id": "3J0YWtz7_2Qs",
        "outputId": "f4d60bc2-73a3-4a12-cc17-d0f9f5226c62"
      },
      "source": [
        "# 예제\n",
        "txt1 = '자바'\n",
        "txt2 = '파이썬'\n",
        "num1 = 5\n",
        "num2 = 10\n",
        "print('나는 %s보다 %s에 더 익숙합니다' %(txt1,txt2))\n",
        "print('나는 ', txt1, '보다 ', txt2,'에 더 익숙합니다')"
      ],
      "execution_count": null,
      "outputs": [
        {
          "output_type": "stream",
          "text": [
            "나는 자바보다 파이썬에 더 익숙합니다\n",
            "나는  자바 보다  파이썬 에 더 익숙합니다\n"
          ],
          "name": "stdout"
        }
      ]
    },
    {
      "cell_type": "markdown",
      "metadata": {
        "id": "4tpCQ8tFBAp0"
      },
      "source": [
        "**문제 118. 아래의 변수를 이용해서 아래와 같이 결과가 출력되게 하시오**\n",
        "```\n",
        "num1 = 5\n",
        "num2 = 10\n",
        "\n",
        "결과: 5는 10보다 작습니다.\n",
        "```"
      ]
    },
    {
      "cell_type": "code",
      "metadata": {
        "colab": {
          "base_uri": "https://localhost:8080/"
        },
        "id": "8PEte2I2BGMe",
        "outputId": "bcd7191b-5ad9-4a41-ce25-861683a8fa8a"
      },
      "source": [
        "num1 = 5\n",
        "num2 = 10\n",
        "\n",
        "print('%d는 %d보다 작습니다' %(num1, num2))"
      ],
      "execution_count": null,
      "outputs": [
        {
          "output_type": "stream",
          "text": [
            "5는 10보다 작습니다\n"
          ],
          "name": "stdout"
        }
      ]
    },
    {
      "cell_type": "markdown",
      "metadata": {
        "id": "sV0_8B7TB_8T"
      },
      "source": [
        "**문제 119. 문제 117번의 결고가 아래와 같이 출력되게 하시오(문자열 포멧을 이용하세요)**\n",
        "\n",
        "```\n",
        "표본평균의 평균값은 **.***이고 분산값은 **.***이고 표준편차는 *.***입니다.\n",
        "```"
      ]
    },
    {
      "cell_type": "code",
      "metadata": {
        "colab": {
          "base_uri": "https://localhost:8080/"
        },
        "id": "ngoN2AVXCX3I",
        "outputId": "682745d4-49fe-4ee5-909c-fef86da48caa"
      },
      "source": [
        "import numpy as np\n",
        "\n",
        "avg = 30\n",
        "std = 7\n",
        "N = 1000000\n",
        "\n",
        "population = np.random.randn(N) * std + avg\n",
        "list_a = []\n",
        "\n",
        "for i in range(1, 101):\n",
        "    list_a.append( np.random.choice(population, 49).mean() )\n",
        "\n",
        "Mean = np.mean(list_a)\n",
        "Var = np.var(list_a)\n",
        "Std = np.std(list_a)\n",
        "\n",
        "print(\"표본평균 의 평균값은 %f이고 분산값은 %f이고 표준편차는 %f입니다.\" %(Mean,Var,Std))\n"
      ],
      "execution_count": null,
      "outputs": [
        {
          "output_type": "stream",
          "text": [
            "표본평균 의 평균값은 29.888862이고 분산값은 0.910215이고 표준편차는 0.954052입니다.\n"
          ],
          "name": "stdout"
        }
      ]
    },
    {
      "cell_type": "markdown",
      "metadata": {
        "id": "3mb-FSRIDLU2"
      },
      "source": [
        "**문제 120. 위의 결과가 아래와 같이 소수점 두번째 자리까지만 나오게 하시오**"
      ]
    },
    {
      "cell_type": "code",
      "metadata": {
        "colab": {
          "base_uri": "https://localhost:8080/"
        },
        "id": "WJFGjDBWDUiV",
        "outputId": "d92d7a88-e83b-49fb-b767-79fe7825172e"
      },
      "source": [
        "import numpy as np\n",
        "\n",
        "avg = 30\n",
        "std = 7\n",
        "N = 1000000\n",
        "\n",
        "population = np.random.randn(N) * std + avg\n",
        "list_a = []\n",
        "\n",
        "for i in range(1, 101):\n",
        "    list_a.append( np.random.choice(population, 49).mean() )\n",
        "\n",
        "Mean = round( np.mean(list_a), 2)\n",
        "Var = round( np.var(list_a), 2)\n",
        "Std = round( np.std(list_a), 2)\n",
        "\n",
        "print(\"표본평균 의 평균값은 %.2f이고 분산값은 %.2f이고 표준편차는 %.2f입니다.\" %(Mean,Var,Std))"
      ],
      "execution_count": null,
      "outputs": [
        {
          "output_type": "stream",
          "text": [
            "표본평균 의 평균값은 30.01이고 분산값은 1.29이고 표준편차는 1.14입니다.\n"
          ],
          "name": "stdout"
        }
      ]
    },
    {
      "cell_type": "markdown",
      "metadata": {
        "id": "mbi3XXMXHlZu"
      },
      "source": [
        "**문제 121. (통계를 코드로 구현 4번) 어느 비행기 탑승객의 짐의 무게는 평균이 18kg이고 표준편차가 3kg인 정규분포를 따른다고 한다. 이 비행기 탑승객 중에서 36명을 임의추출할 때, 짐의 평균 무게가 17kg 이상일 확률을 구하여라**"
      ]
    },
    {
      "cell_type": "code",
      "metadata": {
        "colab": {
          "base_uri": "https://localhost:8080/"
        },
        "id": "En3rltWSIK4d",
        "outputId": "5e91618e-c613-4ce3-f2ca-7ba0a34a5a77"
      },
      "source": [
        "import numpy as np\n",
        "\n",
        "avg = 18  # 짐의 무게의 평균\n",
        "std = 3   # 짐의 무게의 표준편차\n",
        "n = 36    # 표본의 수\n",
        "\n",
        "distribution = np.random.randn(n) *std + avg # 가우시안 정규분포를 따르는 난수를 생성\n",
        "count= 0  # 평균무게가 17kg를 넘는 확률을 구하기 위한 초기변수 선엉\n",
        "\n",
        "for i in range(1, 37):  # for loop를 통해 \n",
        "    sample = np.random.choice(distribution) # 36명의 표본을 임의 추출\n",
        "    if sample >= 17:    # 만약 17kg이 넘는다면\n",
        "        count += 1      # 카운트\n",
        "\n",
        "print(count/36)"
      ],
      "execution_count": null,
      "outputs": [
        {
          "output_type": "stream",
          "text": [
            "0.8055555555555556\n"
          ],
          "name": "stdout"
        }
      ]
    }
  ]
}