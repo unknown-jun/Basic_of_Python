{
  "nbformat": 4,
  "nbformat_minor": 0,
  "metadata": {
    "colab": {
      "name": "Untitled2.ipynb",
      "provenance": [],
      "authorship_tag": "ABX9TyOFXrnEnAzWyB+Y7Taxwoms",
      "include_colab_link": true
    },
    "kernelspec": {
      "name": "python3",
      "display_name": "Python 3"
    }
  },
  "cells": [
    {
      "cell_type": "markdown",
      "metadata": {
        "id": "view-in-github",
        "colab_type": "text"
      },
      "source": [
        "<a href=\"https://colab.research.google.com/github/unknown-jun/Basic_of_Python/blob/master/Untitled2.ipynb\" target=\"_parent\"><img src=\"https://colab.research.google.com/assets/colab-badge.svg\" alt=\"Open In Colab\"/></a>"
      ]
    },
    {
      "cell_type": "markdown",
      "metadata": {
        "id": "wcsvGQNH8MLf"
      },
      "source": [
        "# 1. for문\n",
        "2단을 9번 나오게 하는게 아니라 2단부터 9단까지 출력해야 하므로 다음과 같이 작성해야 함\n"
      ]
    },
    {
      "cell_type": "code",
      "metadata": {
        "colab": {
          "base_uri": "https://localhost:8080/"
        },
        "id": "8wKik60z8LLU",
        "outputId": "293c56e2-9057-4e20-cd7d-5c805dfcfcc7"
      },
      "source": [
        "for i in range(2, 10):       # i는 2부터 10미만까지 출력이 된다.\n",
        "    for e in range(1, 10):   # i는 1부터 10미만까지 출력이 된다.\n",
        "      print( i ,' X ', e, ' = ', i*e)"
      ],
      "execution_count": 7,
      "outputs": [
        {
          "output_type": "stream",
          "text": [
            "2  X  1  =  2\n",
            "2  X  2  =  4\n",
            "2  X  3  =  6\n",
            "2  X  4  =  8\n",
            "2  X  5  =  10\n",
            "2  X  6  =  12\n",
            "2  X  7  =  14\n",
            "2  X  8  =  16\n",
            "2  X  9  =  18\n",
            "3  X  1  =  3\n",
            "3  X  2  =  6\n",
            "3  X  3  =  9\n",
            "3  X  4  =  12\n",
            "3  X  5  =  15\n",
            "3  X  6  =  18\n",
            "3  X  7  =  21\n",
            "3  X  8  =  24\n",
            "3  X  9  =  27\n",
            "4  X  1  =  4\n",
            "4  X  2  =  8\n",
            "4  X  3  =  12\n",
            "4  X  4  =  16\n",
            "4  X  5  =  20\n",
            "4  X  6  =  24\n",
            "4  X  7  =  28\n",
            "4  X  8  =  32\n",
            "4  X  9  =  36\n",
            "5  X  1  =  5\n",
            "5  X  2  =  10\n",
            "5  X  3  =  15\n",
            "5  X  4  =  20\n",
            "5  X  5  =  25\n",
            "5  X  6  =  30\n",
            "5  X  7  =  35\n",
            "5  X  8  =  40\n",
            "5  X  9  =  45\n",
            "6  X  1  =  6\n",
            "6  X  2  =  12\n",
            "6  X  3  =  18\n",
            "6  X  4  =  24\n",
            "6  X  5  =  30\n",
            "6  X  6  =  36\n",
            "6  X  7  =  42\n",
            "6  X  8  =  48\n",
            "6  X  9  =  54\n",
            "7  X  1  =  7\n",
            "7  X  2  =  14\n",
            "7  X  3  =  21\n",
            "7  X  4  =  28\n",
            "7  X  5  =  35\n",
            "7  X  6  =  42\n",
            "7  X  7  =  49\n",
            "7  X  8  =  56\n",
            "7  X  9  =  63\n",
            "8  X  1  =  8\n",
            "8  X  2  =  16\n",
            "8  X  3  =  24\n",
            "8  X  4  =  32\n",
            "8  X  5  =  40\n",
            "8  X  6  =  48\n",
            "8  X  7  =  56\n",
            "8  X  8  =  64\n",
            "8  X  9  =  72\n",
            "9  X  1  =  9\n",
            "9  X  2  =  18\n",
            "9  X  3  =  27\n",
            "9  X  4  =  36\n",
            "9  X  5  =  45\n",
            "9  X  6  =  54\n",
            "9  X  7  =  63\n",
            "9  X  8  =  72\n",
            "9  X  9  =  81\n"
          ],
          "name": "stdout"
        }
      ]
    },
    {
      "cell_type": "markdown",
      "metadata": {
        "id": "TtqYZvs-8ygd"
      },
      "source": [
        "설명: i = 2 일때 e 가 1 ~ 9까지 반복 실행\n",
        "\n",
        ">  2 x 1 = 2 * 1\n",
        "\n",
        "\n",
        "> 2 x 2 = 2 * 2\n",
        "\n",
        "\n",
        "> 2 x 3 = 2 * 3\n",
        "\n",
        "\n",
        ">       ~\n",
        "\n",
        "> 2 X 9 = 2 * 9\n",
        "\n",
        "\n",
        "\n",
        "      i = 3 일때 e 가 1 ~ 9까지 반복 실행\n",
        "      i = 4 일때 e 가 1 ~ 9까지 반복 실행\n",
        "                  :\n",
        "      i = 9 일때 e 가 1 ~ 9까지 반복 실행"
      ]
    },
    {
      "cell_type": "markdown",
      "metadata": {
        "id": "0YaSdF8V-60p"
      },
      "source": [
        "문제 25. 주사위를 10번 던져서 주사위의 눈을 10개 출력하시오"
      ]
    },
    {
      "cell_type": "code",
      "metadata": {
        "colab": {
          "base_uri": "https://localhost:8080/"
        },
        "id": "KC5v2YOr_CCg",
        "outputId": "9c2c8557-b6eb-4159-88f9-0bd1ff0f7ce0"
      },
      "source": [
        "import random\n",
        "\n",
        "dice = [1,2,3,4,5,6]\n",
        "\n",
        "for i in range(1, 11):\n",
        "  print(random.choice(dice))"
      ],
      "execution_count": 6,
      "outputs": [
        {
          "output_type": "stream",
          "text": [
            "4\n",
            "4\n",
            "3\n",
            "6\n",
            "2\n",
            "6\n",
            "4\n",
            "2\n",
            "4\n",
            "1\n"
          ],
          "name": "stdout"
        }
      ]
    },
    {
      "cell_type": "markdown",
      "metadata": {
        "id": "8g4UU7Na_TvA"
      },
      "source": [
        "문제 26. 주사위를 10번 던졌을 때 짝수가 나오는 횟수를 출력하시오!"
      ]
    },
    {
      "cell_type": "code",
      "metadata": {
        "colab": {
          "base_uri": "https://localhost:8080/"
        },
        "id": "5ESZv8zD_b33",
        "outputId": "26deb121-eed4-42df-9f05-642a037a3b37"
      },
      "source": [
        "import random\n",
        "\n",
        "dice = [1,2,3,4,5,6]\n",
        "cnt = 0\n",
        "\n",
        "for i in range(1, 11):\n",
        "  result = random.choice(dice) # 주사위의 눈이 result 변수에 할당이 됨\n",
        "  if result % 2 == 0:          # result 변수의 주사위의 눈이 짝수면\n",
        "    cnt = cnt + 1              # cnt를 1씩 증가 시킨다.\n",
        "\n",
        "print(cnt)             # print의 위치를 for 문과 맞추어 cnt에 담긴 최종 결과를 출력한다."
      ],
      "execution_count": 13,
      "outputs": [
        {
          "output_type": "stream",
          "text": [
            "7\n"
          ],
          "name": "stdout"
        }
      ]
    },
    {
      "cell_type": "markdown",
      "metadata": {
        "id": "fejyyGU1AGzP"
      },
      "source": [
        "문제 27. 위의 주사위를 10번 던져서 짝수가 나오는 횟수를 확인하는 작업을 5번 반복해서 짝수가 나오는 횟수가 5개가 나오게 하시오"
      ]
    },
    {
      "cell_type": "code",
      "metadata": {
        "colab": {
          "base_uri": "https://localhost:8080/"
        },
        "id": "LjbmWuwGA6Ws",
        "outputId": "a160231f-6846-41b1-8e91-7a72e11890e5"
      },
      "source": [
        "import random\n",
        "\n",
        "dice = [1,2,3,4,5,6]\n",
        "cnt = 0\n",
        "\n",
        "for i in range(1, 11):\n",
        "  result = random.choice(dice)\n",
        "  if result % 2 ==0:\n",
        "    print(result)\n",
        "    for e in range(1, 6):\n",
        "      cnt = cnt + 1\n",
        "print( cnt )"
      ],
      "execution_count": 15,
      "outputs": [
        {
          "output_type": "stream",
          "text": [
            "6\n",
            "6\n",
            "6\n",
            "2\n",
            "4\n",
            "6\n",
            "6\n",
            "6\n",
            "40\n"
          ],
          "name": "stdout"
        }
      ]
    },
    {
      "cell_type": "markdown",
      "metadata": {
        "id": "ALnj6Ed6A3Y-"
      },
      "source": [
        "import rand"
      ]
    }
  ]
}