{
  "nbformat": 4,
  "nbformat_minor": 0,
  "metadata": {
    "colab": {
      "name": "01_Dec_2020.ipynb",
      "provenance": [],
      "authorship_tag": "ABX9TyOIJIrYDFejdnagl6jaOcGl",
      "include_colab_link": true
    },
    "kernelspec": {
      "name": "python3",
      "display_name": "Python 3"
    }
  },
  "cells": [
    {
      "cell_type": "markdown",
      "metadata": {
        "id": "view-in-github",
        "colab_type": "text"
      },
      "source": [
        "<a href=\"https://colab.research.google.com/github/unknown-jun/Basic_of_Python/blob/master/01_Dec_2020.ipynb\" target=\"_parent\"><img src=\"https://colab.research.google.com/assets/colab-badge.svg\" alt=\"Open In Colab\"/></a>"
      ]
    },
    {
      "cell_type": "markdown",
      "metadata": {
        "id": "2pSRSdVo0klY"
      },
      "source": [
        "# 파이썬 복습 \n",
        "\n",
        "1. 파이썬의 자료형 5가지 : 문자형, 숫자형, 리스트형, 튜플형, 사전형\n",
        "2. 파이썬의 연산자: >, <, >=, <=, =, !=\n",
        "3. 파이썬에서의 들여쓰기의 용도와 중요성\n",
        "\n",
        "   다른 자바나 c 언어는 괄호로 특정 블럭을 지정하는데 \n",
        "   파이썬은 들여쓰기로 특정 블럭(실행영역) 을 지정합니다. \n",
        "\n",
        "~~~\n",
        "for   i  in  range(1,11):\n",
        "    print ('a')   # for loop문의 관할하에 있는 실행영역\n",
        "print ('b')  # for  loop 문과 상관없는 별도의 독립적인 실행영역\n",
        "~~~\n",
        "\n",
        "4. if 문 사용법\n",
        "~~~\n",
        "if  조건:\n",
        "    실행코드\n",
        "elif  조건:\n",
        "    실행코드\n",
        "elif  조건:\n",
        "    실행코드\n",
        "else:\n",
        "    실행코드\n",
        "\n",
        "5. 반복문 :  for  loop 문,  while  loop 문\n",
        "\n",
        "\n",
        "6. 판다스 사용법 : 데이터 검색, 시각화, 통계와 머신러닝 구현을 쉽게 해주는 파이썬의 모듈 \n",
        "\n",
        "\n",
        "7. 문자열 변수에서 특정 철자를 취하는 방법(인덱싱)\n",
        "~~~\n",
        "a ='scott'\n",
        "print (a[0])  # s\n",
        "~~~\n",
        "\n",
        "8. 문자열 변수에서 특정 철자들을 취하는 방법(슬라이싱)\n",
        "~~~\n",
        "a = 'scott'\n",
        "print (a[0:2]) # sc\n",
        "~~~\n",
        "9. 문자열 변수의 길이 확인하는 방법(len)\n",
        "```\n",
        "a = 'scott'\n",
        "print(len(a))  # 5\n",
        "```\n",
        "10. 맴버 체크하는 방법(in)\n",
        "```\n",
        "a = [1,2,3,4,5]\n",
        "b = 3 in a\n",
        "print(b)       # True\n",
        "```\n",
        "11. 문자열 포멧 이해하기\n",
        "~~~\n",
        "print(\"표본평균 의 평균값은 %.2f이고 분산값은 %.2f이고 표준편차는 %.2f입니다.\" %(Mean,Var,Std))\n",
        "~~~"
      ]
    },
    {
      "cell_type": "markdown",
      "metadata": {
        "id": "WIkG33J71wHP"
      },
      "source": [
        "#35. 이스케이프 문자 이해하기\n",
        "- \"이스케이프 문자는 키보드로 입력하기 어려운 기호를 나타내기 위해 역슬래쉬 '\\\\ '로 시작하는 문자\"\n",
        "- 파이썬에서 자주 사용되는 이스케이프 문자는 다음과 같음\n",
        "\n",
        "|이스케이프 문자| 설명|\n",
        "|:---:|:--:|\n",
        "|\\t|텝|\n",
        "|\\엔터|\\ 줄 계속|\n",
        "|\\\\\\ |\\ 기호자체|\n",
        "|\\\\' 또는 \\\\\"|' 기호 또는 \" 기호 자체|"
      ]
    },
    {
      "cell_type": "code",
      "metadata": {
        "colab": {
          "base_uri": "https://localhost:8080/"
        },
        "id": "1Gi9VTc-1vg9",
        "outputId": "840c1b85-1553-4f8d-d637-792b732e31f8"
      },
      "source": [
        "#예\n",
        "print('나는 파이썬을 배웁니다. \\n 파이썬은 자바보다 \\\n",
        "훨씬 쉽습니다')"
      ],
      "execution_count": null,
      "outputs": [
        {
          "output_type": "stream",
          "text": [
            "나는 파이썬을 배웁니다. \n",
            " 파이썬은 자바보다 훨씬 쉽습니다\n"
          ],
          "name": "stdout"
        }
      ]
    },
    {
      "cell_type": "markdown",
      "metadata": {
        "id": "0dNdbKMz3Kul"
      },
      "source": [
        "#36. 리스트 이해하기 (  [ ]  )\n",
        "- 리스트는 파이썬에서 가장 많이 활용되는 시퀀스 자료형 \n",
        "- 리스트는 [ ] 로 표시하며[ ] 안에 요소를 콤마(,)로 구분하여 순서있게 나열함\n"
      ]
    },
    {
      "cell_type": "code",
      "metadata": {
        "colab": {
          "base_uri": "https://localhost:8080/"
        },
        "id": "O71WqJuy20Ip",
        "outputId": "2ee23f18-1df4-489e-9aef-f2d08cf98d95"
      },
      "source": [
        "# 예제\n",
        "k = ['a', 'b', 'c', 'd', 'e']\n",
        "print(k)\n",
        "print(type(k)) # <class 'list'> <- 리스트 형태라는 것을 뜻 함\n",
        "print(k[1])    # b 출력 (리스트 역시 슬라이싱이 가능)"
      ],
      "execution_count": null,
      "outputs": [
        {
          "output_type": "stream",
          "text": [
            "['a', 'b', 'c', 'd', 'e']\n",
            "<class 'list'>\n",
            "b\n"
          ],
          "name": "stdout"
        }
      ]
    },
    {
      "cell_type": "markdown",
      "metadata": {
        "id": "_W_OiPV64Gm2"
      },
      "source": [
        "**문제 122. 동전의 앞면과 뒷면을 포함하는 리스트 coin을 만드시오**"
      ]
    },
    {
      "cell_type": "code",
      "metadata": {
        "colab": {
          "base_uri": "https://localhost:8080/"
        },
        "id": "1-7ojtBM4FR0",
        "outputId": "d449bf6a-adf4-463d-9005-3e9155564a4b"
      },
      "source": [
        "coin = ['front', 'back']\n",
        "print(coin)"
      ],
      "execution_count": null,
      "outputs": [
        {
          "output_type": "stream",
          "text": [
            "['front', 'back']\n"
          ],
          "name": "stdout"
        }
      ]
    },
    {
      "cell_type": "markdown",
      "metadata": {
        "id": "l123wGPL4ZvW"
      },
      "source": [
        "**문제 123. 위에서 만든 coin의 요소를 100개로 늘려서 coin_100 변수에 담으시오**"
      ]
    },
    {
      "cell_type": "code",
      "metadata": {
        "colab": {
          "base_uri": "https://localhost:8080/"
        },
        "id": "lEcuYsiK4YxV",
        "outputId": "93a41a54-98e6-4039-a97e-ad0ce3548861"
      },
      "source": [
        "coin = ['front', 'back']\n",
        "coin_100 = coin * 100\n",
        "print(coin_100)"
      ],
      "execution_count": null,
      "outputs": [
        {
          "output_type": "stream",
          "text": [
            "['front', 'back', 'front', 'back', 'front', 'back', 'front', 'back', 'front', 'back', 'front', 'back', 'front', 'back', 'front', 'back', 'front', 'back', 'front', 'back', 'front', 'back', 'front', 'back', 'front', 'back', 'front', 'back', 'front', 'back', 'front', 'back', 'front', 'back', 'front', 'back', 'front', 'back', 'front', 'back', 'front', 'back', 'front', 'back', 'front', 'back', 'front', 'back', 'front', 'back', 'front', 'back', 'front', 'back', 'front', 'back', 'front', 'back', 'front', 'back', 'front', 'back', 'front', 'back', 'front', 'back', 'front', 'back', 'front', 'back', 'front', 'back', 'front', 'back', 'front', 'back', 'front', 'back', 'front', 'back', 'front', 'back', 'front', 'back', 'front', 'back', 'front', 'back', 'front', 'back', 'front', 'back', 'front', 'back', 'front', 'back', 'front', 'back', 'front', 'back', 'front', 'back', 'front', 'back', 'front', 'back', 'front', 'back', 'front', 'back', 'front', 'back', 'front', 'back', 'front', 'back', 'front', 'back', 'front', 'back', 'front', 'back', 'front', 'back', 'front', 'back', 'front', 'back', 'front', 'back', 'front', 'back', 'front', 'back', 'front', 'back', 'front', 'back', 'front', 'back', 'front', 'back', 'front', 'back', 'front', 'back', 'front', 'back', 'front', 'back', 'front', 'back', 'front', 'back', 'front', 'back', 'front', 'back', 'front', 'back', 'front', 'back', 'front', 'back', 'front', 'back', 'front', 'back', 'front', 'back', 'front', 'back', 'front', 'back', 'front', 'back', 'front', 'back', 'front', 'back', 'front', 'back', 'front', 'back', 'front', 'back', 'front', 'back', 'front', 'back', 'front', 'back', 'front', 'back', 'front', 'back', 'front', 'back', 'front', 'back']\n"
          ],
          "name": "stdout"
        }
      ]
    },
    {
      "cell_type": "markdown",
      "metadata": {
        "id": "1_eSltVd4ufS"
      },
      "source": [
        "**문제 124. 위에서 만든 coin_100리스트에서 표본을 10개를 추출하시오**\n"
      ]
    },
    {
      "cell_type": "code",
      "metadata": {
        "colab": {
          "base_uri": "https://localhost:8080/"
        },
        "id": "qDfZRH1h4zx5",
        "outputId": "fd9d9540-13cb-42de-caa7-38c4538be844"
      },
      "source": [
        "import numpy as np\n",
        "\n",
        "coin = ['front', 'back']\n",
        "coin_100 = coin * 100\n",
        "print( np.random.choice( coin_100, 10 ) )\n",
        "     # np.random.choice은 numpy 모듈안에 random 코드 안에 choice 함수를 사용하겠다.\n",
        "     # np.random.choice( 모집단 리스트: 내가 참고하고 싶은 리스트, 샘플데이터: 얼마나 뽑을 건지 )"
      ],
      "execution_count": null,
      "outputs": [
        {
          "output_type": "stream",
          "text": [
            "['front' 'front' 'front' 'front' 'front' 'back' 'front' 'front' 'back'\n",
            " 'front']\n"
          ],
          "name": "stdout"
        }
      ]
    },
    {
      "cell_type": "markdown",
      "metadata": {
        "id": "yDT7TxqP5sbO"
      },
      "source": [
        "**문제 125. 위에서 추출한 샘플 10개에서 앞면이 몇번 나오는지 출력하시오**"
      ]
    },
    {
      "cell_type": "code",
      "metadata": {
        "colab": {
          "base_uri": "https://localhost:8080/"
        },
        "id": "-u-RyLZw5rcU",
        "outputId": "bce8363c-7f4f-4de5-c901-93b210fa4639"
      },
      "source": [
        "import numpy as np\n",
        "\n",
        "coin = ['front', 'back']\n",
        "coin_100 = coin * 100\n",
        "sample = np.random.choice( coin_100, 10 ) \n",
        "cnt = 0\n",
        "\n",
        "for i in sample:\n",
        "    if i == 'front':\n",
        "        cnt += 1\n",
        "        \n",
        "print(cnt)"
      ],
      "execution_count": null,
      "outputs": [
        {
          "output_type": "stream",
          "text": [
            "4\n"
          ],
          "name": "stdout"
        }
      ]
    },
    {
      "cell_type": "markdown",
      "metadata": {
        "id": "vU1PSUmr_HAm"
      },
      "source": [
        "#37. 튜플 이해하기( ( ) )\n",
        "\n",
        "- 튜플은 리스트와 비슷한 성질을 가지고 있는 자료형이지만 요소의 값을 변경할 수 없다는 게 특징\n",
        "- 리스트는 대괄호 [ ]로 요소들을 감쌌는데 튜플은 소괄호로 ( )로 요소들을 감쌈\n",
        "- 튜플은 데이터가 변경이 안되므로 튜플로 만든 데이터에 대한 신뢰도가 높아짐"
      ]
    },
    {
      "cell_type": "code",
      "metadata": {
        "colab": {
          "base_uri": "https://localhost:8080/"
        },
        "id": "BrWGA7zE_nfm",
        "outputId": "321514a9-d4ec-4a16-a400-fa5358301d01"
      },
      "source": [
        "# 예제: 리스트에서 특정 요소를 변경하는 방법\n",
        "\n",
        "a = [1, 2, 3, 4, 5]\n",
        "\n",
        "print( type(a) ) # <calss 'list'>\n",
        "print( a[0] )    # 1\n",
        "\n",
        "a[0] = 7   # a 리스트의 0번째 요소를 7로 변경함\n",
        "print(a)   # a 리스트의 0번째 요소가 7로 변경이 되었음"
      ],
      "execution_count": null,
      "outputs": [
        {
          "output_type": "stream",
          "text": [
            "<class 'list'>\n",
            "1\n",
            "[7, 2, 3, 4, 5]\n"
          ],
          "name": "stdout"
        }
      ]
    },
    {
      "cell_type": "markdown",
      "metadata": {
        "id": "K4qWeLqgAZrX"
      },
      "source": [
        "**문제 126. a 리스트에 세번째<sub>(인덱스 번호 기준)</sub> 요소를 17로 변경하시오**"
      ]
    },
    {
      "cell_type": "code",
      "metadata": {
        "colab": {
          "base_uri": "https://localhost:8080/"
        },
        "id": "Y6x_WMG1AfiI",
        "outputId": "93b84f88-d7bc-424d-eb1c-d2784dc99744"
      },
      "source": [
        "a = [1, 2, 3, 4, 5]\n",
        "(    )\n",
        "a[3] = 17\n",
        "print(a)"
      ],
      "execution_count": null,
      "outputs": [
        {
          "output_type": "stream",
          "text": [
            "[1, 2, 3, 17, 5]\n"
          ],
          "name": "stdout"
        }
      ]
    },
    {
      "cell_type": "code",
      "metadata": {
        "colab": {
          "base_uri": "https://localhost:8080/",
          "height": 249
        },
        "id": "Eb0M6X1lBDF3",
        "outputId": "f9df221a-01ec-40ae-c0eb-bd67c9886f01"
      },
      "source": [
        "# 예제 2: 튜플은 데이터를 변경할 수 없다\n",
        "\n",
        "b = (1,2,3,4,5)\n",
        "print(b[0])\n",
        "\n",
        "b[0]=7 # tuple은 데이터를 변경할 수 없기에 오류가 나면서 실행이 되지 않음\n",
        "\n",
        "# 회사에서 변경이 되어서는 안되는 데이터는 프로그래밍할 때 튜플로 만들어서 관리함\n",
        "# 신세계 백화점, 이마트에서 사용하는 포인트 적립 카드에서 포인트 적립 시 구매금액의 0.01%로 적립을 해준다고 하면 이 0.01은 절대 프로그램에서 변경이 되어서는 안됌 -> 튜플로 관리"
      ],
      "execution_count": null,
      "outputs": [
        {
          "output_type": "stream",
          "text": [
            "1\n"
          ],
          "name": "stdout"
        },
        {
          "output_type": "error",
          "ename": "TypeError",
          "evalue": "ignored",
          "traceback": [
            "\u001b[0;31m---------------------------------------------------------------------------\u001b[0m",
            "\u001b[0;31mTypeError\u001b[0m                                 Traceback (most recent call last)",
            "\u001b[0;32m<ipython-input-10-be1e66198cc7>\u001b[0m in \u001b[0;36m<module>\u001b[0;34m()\u001b[0m\n\u001b[1;32m      4\u001b[0m \u001b[0mprint\u001b[0m\u001b[0;34m(\u001b[0m\u001b[0mb\u001b[0m\u001b[0;34m[\u001b[0m\u001b[0;36m0\u001b[0m\u001b[0;34m]\u001b[0m\u001b[0;34m)\u001b[0m\u001b[0;34m\u001b[0m\u001b[0;34m\u001b[0m\u001b[0m\n\u001b[1;32m      5\u001b[0m \u001b[0;34m\u001b[0m\u001b[0m\n\u001b[0;32m----> 6\u001b[0;31m \u001b[0mb\u001b[0m\u001b[0;34m[\u001b[0m\u001b[0;36m0\u001b[0m\u001b[0;34m]\u001b[0m\u001b[0;34m=\u001b[0m\u001b[0;36m7\u001b[0m \u001b[0;31m# tuple은 데이터를 변경할 수 없기에 오류가 나면서 실행이 되지 않음\u001b[0m\u001b[0;34m\u001b[0m\u001b[0;34m\u001b[0m\u001b[0m\n\u001b[0m\u001b[1;32m      7\u001b[0m \u001b[0;34m\u001b[0m\u001b[0m\n\u001b[1;32m      8\u001b[0m \u001b[0;31m# 회사에서 변경이 되어서는 안되는 데이터는 프로그래밍할 때 튜플로 만들어서 관리함\u001b[0m\u001b[0;34m\u001b[0m\u001b[0;34m\u001b[0m\u001b[0;34m\u001b[0m\u001b[0m\n",
            "\u001b[0;31mTypeError\u001b[0m: 'tuple' object does not support item assignment"
          ]
        }
      ]
    },
    {
      "cell_type": "markdown",
      "metadata": {
        "id": "Pno97OiMCXDW"
      },
      "source": [
        "**문제 127. 아래의 숫자 데이터들을 튜플로 생성하시오. 튜플 변수 이름은 point라고 하시오**  \n",
        "  \n",
        "0.01, 0.02, 0.03, 0.04, 0.05"
      ]
    },
    {
      "cell_type": "code",
      "metadata": {
        "colab": {
          "base_uri": "https://localhost:8080/"
        },
        "id": "Q8Vqty4FCVoY",
        "outputId": "82ba2979-cc98-4292-e1df-e054a49bcd81"
      },
      "source": [
        "point = ( 0.01, 0.02, 0.03, 0.04, 0.05 )\n",
        "print( type(point) )"
      ],
      "execution_count": null,
      "outputs": [
        {
          "output_type": "stream",
          "text": [
            "<class 'tuple'>\n"
          ],
          "name": "stdout"
        }
      ]
    },
    {
      "cell_type": "markdown",
      "metadata": {
        "id": "_d8JoHnFC9CZ"
      },
      "source": [
        "**문제 128. 위의 튜플 point의 요소 중 0.03만 뽑아서 출력하시오**"
      ]
    },
    {
      "cell_type": "code",
      "metadata": {
        "colab": {
          "base_uri": "https://localhost:8080/"
        },
        "id": "8Tl1-nbEDCWf",
        "outputId": "29274714-5aa8-4752-f9e4-1836a4ef576f"
      },
      "source": [
        "point = ( 0.01, 0.02, 0.03, 0.04, 0.05 )\n",
        "print( point[2] )"
      ],
      "execution_count": null,
      "outputs": [
        {
          "output_type": "stream",
          "text": [
            "0.03\n"
          ],
          "name": "stdout"
        }
      ]
    },
    {
      "cell_type": "markdown",
      "metadata": {
        "id": "V3vitoDsDeSq"
      },
      "source": [
        "**문제 129. 위의 튜플의 모든 요소들을 다 출력하시오!**\n",
        "~~~\n",
        "결과:\n",
        "0.01\n",
        "0.02\n",
        "0.03\n",
        "0.04\n",
        "0.04\n",
        "~~~"
      ]
    },
    {
      "cell_type": "code",
      "metadata": {
        "colab": {
          "base_uri": "https://localhost:8080/"
        },
        "id": "RL9wy1C8DZnM",
        "outputId": "4f82fe30-1588-46b6-db2f-f6afe1601d78"
      },
      "source": [
        "point = ( 0.01, 0.02, 0.03, 0.04, 0.05 )\n",
        "for i in point:\n",
        "    print(i)\n",
        "\n",
        "# 이 방식은 요소들을 하나씩 빼내는 추출 방식\n",
        "\n",
        "for j in 'scott':\n",
        "    print(j)"
      ],
      "execution_count": null,
      "outputs": [
        {
          "output_type": "stream",
          "text": [
            "0.01\n",
            "0.02\n",
            "0.03\n",
            "0.04\n",
            "0.05\n",
            "s\n",
            "c\n",
            "o\n",
            "t\n",
            "t\n"
          ],
          "name": "stdout"
        }
      ]
    },
    {
      "cell_type": "markdown",
      "metadata": {
        "id": "cuDgjeqhEkWp"
      },
      "source": [
        "#38. 사전 이해하기 ( {  } )\n",
        "- 사전은 키와 값을 하나의 요소로 하는 순서가 없는 집함\n",
        "- 그러므로 사전은 시퀀스 자료형이 아니며 인덱싱으로 값을 접근 불가\n",
        "- 사전은 '키:값' 쌍이 하나의 요소임"
      ]
    },
    {
      "cell_type": "code",
      "metadata": {
        "colab": {
          "base_uri": "https://localhost:8080/"
        },
        "id": "CYG96JJNE9Qm",
        "outputId": "1841a73f-afea-41ce-d284-b36992a2f121"
      },
      "source": [
        "# 예\n",
        "a = {'apple':'사과', 'banana':'바나나', 'peach':'복숭아', 'pear':'배'}\n",
        "      # 키    # 값\n",
        "\n",
        "print(a,'\\n')\n",
        "print( type(a),'\\n' )\n",
        "print( a.keys(),'\\n' )   # 키 들만 출력\n",
        "print( a.values(),'\\n')  # 값 들만 출력\n",
        "a['grape']='포도' # 새로운 키와 값을 추가하는 방법\n",
        "print(a)"
      ],
      "execution_count": null,
      "outputs": [
        {
          "output_type": "stream",
          "text": [
            "{'apple': '사과', 'banana': '바나나', 'peach': '복숭아', 'pear': '배'} \n",
            "\n",
            "<class 'dict'> \n",
            "\n",
            "dict_keys(['apple', 'banana', 'peach', 'pear']) \n",
            "\n",
            "dict_values(['사과', '바나나', '복숭아', '배']) \n",
            "\n",
            "{'apple': '사과', 'banana': '바나나', 'peach': '복숭아', 'pear': '배', 'grape': '포도'}\n"
          ],
          "name": "stdout"
        }
      ]
    },
    {
      "cell_type": "code",
      "metadata": {
        "colab": {
          "base_uri": "https://localhost:8080/"
        },
        "id": "WpROtOgmGZXg",
        "outputId": "e69f0a7b-2da9-4a16-994e-d34053bf71a9"
      },
      "source": [
        "# 예제\n",
        "b = {} # 비어있는 딕셔너리를 생성한다.\n",
        "\n",
        "b['apple']='사과'\n",
        "b['pear']='배'\n",
        "b['grape']='포도'\n",
        "\n",
        "print(b)"
      ],
      "execution_count": null,
      "outputs": [
        {
          "output_type": "stream",
          "text": [
            "{'apple': '사과', 'pear': '배', 'grape': '포도'}\n"
          ],
          "name": "stdout"
        }
      ]
    },
    {
      "cell_type": "markdown",
      "metadata": {
        "id": "KQtMQx2EE700"
      },
      "source": [
        "**문제 130. 아래의 두개의 리스트를 각각 만들고 아래와 같이 fruit라는 딕셔너리를 생성하시오**\n",
        "~~~\n",
        "a=['사과','배', '포도', '복숭아', '바나나']\n",
        "b=['apple', 'pear', 'grape', 'peach', 'banana'\n",
        "\n",
        "결과 \n",
        "print( fruit )\n",
        "{'사과':'apple', '바나나':'banana', '복숭아':'peach', '배':'pear','포도': 'grape'}\n",
        "~~~"
      ]
    },
    {
      "cell_type": "code",
      "metadata": {
        "colab": {
          "base_uri": "https://localhost:8080/"
        },
        "id": "TqrgGkD2IFd2",
        "outputId": "1ed45cb5-345a-402e-b2d7-ae2c80a8fa77"
      },
      "source": [
        "fruit = {}\n",
        "a = ['사과','배', '포도', '복숭아', '바나나']\n",
        "b = ['apple', 'pear', 'grape', 'peach', 'banana']\n",
        "\n",
        "for i, e in zip(a, b): # dictionary 에서 요소를 넣을 때, 자주 쓰이는 코드\n",
        "    fruit[i] = e\n",
        "\n",
        "print(fruit)"
      ],
      "execution_count": null,
      "outputs": [
        {
          "output_type": "stream",
          "text": [
            "{'사과': 'apple', '배': 'pear', '포도': 'grape', '복숭아': 'peach', '바나나': 'banana'}\n"
          ],
          "name": "stdout"
        }
      ]
    },
    {
      "cell_type": "markdown",
      "metadata": {
        "id": "-N1nRf3PMyPY"
      },
      "source": [
        "#39. 함수 이해하기 ( def )\n",
        "- 오라클에서 함수를 다음과 같이 사용했었음\n",
        "~~~\n",
        "select max(sal)\n",
        "    from emp;  \n",
        "select substr('smith', 1, 3)\n",
        "    from dual;\n",
        "~~~\n",
        "- 파이썬에서는 직접 함수를 생성할 수 있음\n",
        "- 파이썬에도 개발자가 미리 만들어 놓은 함수들이 있음\n",
        "- 파이썬이 오픈 소스고 전세계인이 사용하는 프로그램이다 보니 각국의 뛰어난 개발자들이 파이썬 함수를 직접 만들어서 공유를 해줌\n",
        "- 우리는 그냥 import 명령어로 불러와서 그 개발자가 만든 함수를 사용할 수 있음\n",
        "- 파이썬의 가장 큰 장점은 내 전공에 해당하는 코드들을 쉽게 구현할 수 있다\n",
        "\n",
        "|오라클 함수|파이썬 함수|\n",
        "|:---:|:---:|\n",
        "|upper|upper()|\n",
        "|lower|lower()|\n",
        "|initcap|capitalize()|\n",
        "|substr|만들어 써야함|\n",
        "|replace|replace()|\n",
        "|length| len()|\n",
        "|rtrim|rstrip()|\n",
        "|ltrim|lstrip()|\n",
        "|rpad|만들어 써야함|\n",
        "|lpad|만들어 써야함\n",
        "|instr|만들어 써야함|\n",
        "|round|round()|\n",
        "|trunc|trunc()|\n",
        "|mod|%|\n",
        "|power|pow|\n",
        "|to_char|str|\n",
        "|to_number|int, float|\n",
        "|to_date|datetime.strptime()|\n",
        "|nvl|만들어써야함|\n",
        "|decode|if문|\n",
        "|case|if문|"
      ]
    },
    {
      "cell_type": "markdown",
      "metadata": {
        "id": "gZnjW75JP37H"
      },
      "source": [
        "**예. 아래의 SQL을 파이썬으로 구현하시오**\n",
        "~~~\n",
        "SQL> \n",
        "select lower(ename)\n",
        "    from emp;\n",
        "~~~"
      ]
    },
    {
      "cell_type": "code",
      "metadata": {
        "colab": {
          "resources": {
            "http://localhost:8080/nbextensions/google.colab/files.js": {
              "data": "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",
              "ok": true,
              "headers": [
                [
                  "content-type",
                  "application/javascript"
                ]
              ],
              "status": 200,
              "status_text": ""
            }
          },
          "base_uri": "https://localhost:8080/",
          "height": 55
        },
        "id": "TwxJInNWPrC9",
        "outputId": "07b6b38d-7e92-4673-af81-8b9fe203d4df"
      },
      "source": [
        "from google.colab import files\n",
        "myfile = files.upload()"
      ],
      "execution_count": null,
      "outputs": [
        {
          "output_type": "display_data",
          "data": {
            "text/html": [
              "\n",
              "     <input type=\"file\" id=\"files-d58ab007-98cf-4da2-bd60-2ab57f9c8370\" name=\"files[]\" multiple disabled\n",
              "        style=\"border:none\" />\n",
              "     <output id=\"result-d58ab007-98cf-4da2-bd60-2ab57f9c8370\">\n",
              "      Upload widget is only available when the cell has been executed in the\n",
              "      current browser session. Please rerun this cell to enable.\n",
              "      </output>\n",
              "      <script src=\"/nbextensions/google.colab/files.js\"></script> "
            ],
            "text/plain": [
              "<IPython.core.display.HTML object>"
            ]
          },
          "metadata": {
            "tags": []
          }
        },
        {
          "output_type": "stream",
          "text": [
            "Saving emp3.csv to emp3 (1).csv\n"
          ],
          "name": "stdout"
        }
      ]
    },
    {
      "cell_type": "code",
      "metadata": {
        "colab": {
          "base_uri": "https://localhost:8080/"
        },
        "id": "aodp3z4-QQlT",
        "outputId": "2f94d190-8d4a-47dd-8532-941b388ee661"
      },
      "source": [
        "import pandas as pd\n",
        "\n",
        "emp = pd.read_csv(\"emp3.csv\")\n",
        "for i in emp['ename']:\n",
        "    print( i.lower() )"
      ],
      "execution_count": null,
      "outputs": [
        {
          "output_type": "stream",
          "text": [
            "king\n",
            "blake\n",
            "clark\n",
            "jones\n",
            "martin\n",
            "allen\n",
            "turner\n",
            "james\n",
            "ward\n",
            "ford\n",
            "smith\n",
            "scott\n",
            "adams\n",
            "miller\n"
          ],
          "name": "stdout"
        }
      ]
    },
    {
      "cell_type": "markdown",
      "metadata": {
        "id": "-olI4OVAQ0lh"
      },
      "source": [
        "**문제 131. 아래의 SQL을 파이썬으로 구현하시오**\n",
        "~~~\n",
        "SQL>\n",
        "select lower(ename), lower(job)\n",
        "    from emp;\n",
        "~~~"
      ]
    },
    {
      "cell_type": "code",
      "metadata": {
        "colab": {
          "base_uri": "https://localhost:8080/"
        },
        "id": "fzJfzClhRRQ8",
        "outputId": "47c1eb5b-7f34-4bc5-ea71-01c2e8a940d0"
      },
      "source": [
        "import pandas as pd\n",
        "\n",
        "emp = pd.read_csv(\"emp3.csv\")\n",
        "for i,e in zip(emp['ename'], emp['job']):\n",
        "    print(i.lower(), e.lower() )"
      ],
      "execution_count": null,
      "outputs": [
        {
          "output_type": "stream",
          "text": [
            "king president\n",
            "blake manager\n",
            "clark manager\n",
            "jones manager\n",
            "martin salesman\n",
            "allen salesman\n",
            "turner salesman\n",
            "james clerk\n",
            "ward salesman\n",
            "ford analyst\n",
            "smith clerk\n",
            "scott analyst\n",
            "adams clerk\n",
            "miller clerk\n"
          ],
          "name": "stdout"
        }
      ]
    },
    {
      "cell_type": "markdown",
      "metadata": {
        "id": "DFXByGQHnJ3N"
      },
      "source": [
        "**콜론(:)으로 끝을 맺는 경우 4가지**\n",
        "1. if문 종료 시  \n",
        "   if 조건**:**\n",
        "2. for문 종료 시  \n",
        "for i in range(1, 11)**:**\n",
        "3. 함수 생성 시  \n",
        "def 함수이름(입력 매개변수)**:**\n",
        "4. 클래스 생성 시  \n",
        "class 클래스 이름**:**\n",
        "\n",
        "**함수를 생성하는 방법**  \n",
        "\n",
        "~~~\n",
        "def 함수이름( 매개변수들 ):  \n",
        "   실행문  \n",
        "   return 출력값이 있는 변수명\n",
        "\n",
        "* 함수를 생성하고 컴퓨터를 재부팅 후에 다시 함수를 호출하려 해도 실행이 되지 않음\n",
        "-> 다시 함수를 만들어줘야 한다.\n",
        "~~~"
      ]
    },
    {
      "cell_type": "code",
      "metadata": {
        "colab": {
          "base_uri": "https://localhost:8080/"
        },
        "id": "_36vh-CGpShy",
        "outputId": "6be61e87-e4b2-4509-9c48-7826bf52555d"
      },
      "source": [
        "# 두개의 입력값을 받아서 더하는 함수를 생성\n",
        "\n",
        "def add_number( n1, n2 ):\n",
        "    result = n1 + n2 # n1에 입력된 값과 n2에 입력된 값을 더해서 result에 입력\n",
        "    return result    # result에 입력된 값을 출력함\n",
        "\n",
        "print(add_number(1,2))"
      ],
      "execution_count": null,
      "outputs": [
        {
          "output_type": "stream",
          "text": [
            "3\n"
          ],
          "name": "stdout"
        }
      ]
    },
    {
      "cell_type": "markdown",
      "metadata": {
        "id": "od-u_jbYqYs8"
      },
      "source": [
        "**문제 132. for loop문을 사용하여 1부터 10까지 출력하시오**"
      ]
    },
    {
      "cell_type": "code",
      "metadata": {
        "colab": {
          "base_uri": "https://localhost:8080/"
        },
        "id": "7CcD0Hbfqcg_",
        "outputId": "7029cb93-f261-4717-fc5f-0ce6204518fb"
      },
      "source": [
        "for i in range(1, 11):\n",
        "    print(i)"
      ],
      "execution_count": null,
      "outputs": [
        {
          "output_type": "stream",
          "text": [
            "1\n",
            "2\n",
            "3\n",
            "4\n",
            "5\n",
            "6\n",
            "7\n",
            "8\n",
            "9\n",
            "10\n"
          ],
          "name": "stdout"
        }
      ]
    },
    {
      "cell_type": "markdown",
      "metadata": {
        "id": "eWOrwiH9qs3p"
      },
      "source": [
        "**문제133. 1부터 10까지 다 더한 값을 출력하시오**"
      ]
    },
    {
      "cell_type": "code",
      "metadata": {
        "colab": {
          "base_uri": "https://localhost:8080/"
        },
        "id": "NlWpJmdWqw3C",
        "outputId": "ba420826-ba3d-4ac1-9cde-8796be386113"
      },
      "source": [
        "cnt = 0\n",
        "for i in range(1, 11):\n",
        "    cnt = cnt + i\n",
        "print(cnt)"
      ],
      "execution_count": null,
      "outputs": [
        {
          "output_type": "stream",
          "text": [
            "55\n"
          ],
          "name": "stdout"
        }
      ]
    },
    {
      "cell_type": "markdown",
      "metadata": {
        "id": "ffeKZ2Pqr3_6"
      },
      "source": [
        "**문제 134. 위의 코드를 이용해서 함수를 생성하는데 아래와 같이 숫자를 입력하고 함수를 실행하면 해당 숫자까지 1부터 다 더한 값이 출력되게 하시오!**"
      ]
    },
    {
      "cell_type": "code",
      "metadata": {
        "colab": {
          "base_uri": "https://localhost:8080/"
        },
        "id": "Df7lQxDRr4hr",
        "outputId": "7f6972ea-62f2-453a-e8d1-b808941be622"
      },
      "source": [
        "def all_add(n1):\n",
        "    sum_ = 0\n",
        "    for i in range(1, n1+1):\n",
        "        sum_ = sum_ + i\n",
        "    return sum_\n",
        "\n",
        "print( all_add(10) )"
      ],
      "execution_count": null,
      "outputs": [
        {
          "output_type": "stream",
          "text": [
            "55\n"
          ],
          "name": "stdout"
        }
      ]
    },
    {
      "cell_type": "markdown",
      "metadata": {
        "id": "C5U-_IyPtFgE"
      },
      "source": [
        "**문제 135. 다음의 문자열 변수를 생성하고 문자열 변수의 문자를 소문자로 출력하시오**  \n",
        "a = 'SCOTT'"
      ]
    },
    {
      "cell_type": "code",
      "metadata": {
        "colab": {
          "base_uri": "https://localhost:8080/"
        },
        "id": "lBQ5homZtMXn",
        "outputId": "b0d346e7-27ca-459e-f5d1-e6cea8a21120"
      },
      "source": [
        "a = 'SCOTT'\n",
        "print( a.lower() )\n",
        "print( 'SCOTT'.lower() )"
      ],
      "execution_count": null,
      "outputs": [
        {
          "output_type": "stream",
          "text": [
            "scott\n",
            "scott\n"
          ],
          "name": "stdout"
        }
      ]
    },
    {
      "cell_type": "markdown",
      "metadata": {
        "id": "YX5qq8uRttjG"
      },
      "source": [
        "**문제 136. 아래의 문자열을 대문자로 출력하시오!**  \n",
        "a = 'scott'"
      ]
    },
    {
      "cell_type": "code",
      "metadata": {
        "colab": {
          "base_uri": "https://localhost:8080/"
        },
        "id": "QN9aerGktz7I",
        "outputId": "72ce7aaf-e5b2-43fc-c972-f3523ed9e642"
      },
      "source": [
        "a = 'scott'\n",
        "print( a.upper() )\n",
        "print( 'scott'.upper() )"
      ],
      "execution_count": null,
      "outputs": [
        {
          "output_type": "stream",
          "text": [
            "SCOTT\n",
            "SCOTT\n"
          ],
          "name": "stdout"
        }
      ]
    },
    {
      "cell_type": "markdown",
      "metadata": {
        "id": "PG3FKqnOuAnX"
      },
      "source": [
        "**문제 137. 아래의 문자열에서 첫번째 철자만 출력하세요**  \n",
        "a = 'scott'"
      ]
    },
    {
      "cell_type": "code",
      "metadata": {
        "id": "rqFS-gLGunDQ"
      },
      "source": [
        "a = 'scott'\n",
        "print(a[0])"
      ],
      "execution_count": null,
      "outputs": []
    },
    {
      "cell_type": "markdown",
      "metadata": {
        "id": "uJeXeCaSuneG"
      },
      "source": [
        "**문제 138. 위에 출력한 첫번째 철자를 대문자로 출력하시오**"
      ]
    },
    {
      "cell_type": "code",
      "metadata": {
        "colab": {
          "base_uri": "https://localhost:8080/"
        },
        "id": "EujHag0DuEto",
        "outputId": "097a0be8-dff3-44bd-ba6e-ad6e14feeccf"
      },
      "source": [
        "a = 'scott'\n",
        "print(a[0].upper())"
      ],
      "execution_count": null,
      "outputs": [
        {
          "output_type": "stream",
          "text": [
            "S\n"
          ],
          "name": "stdout"
        }
      ]
    },
    {
      "cell_type": "markdown",
      "metadata": {
        "id": "GjEWCYKzwJd1"
      },
      "source": [
        "**문제139. 아래의 문자열 변수에서 cott 만 출력하시오 (두번째 철자부터 끝까지 출력하시오 )**"
      ]
    },
    {
      "cell_type": "code",
      "metadata": {
        "colab": {
          "base_uri": "https://localhost:8080/"
        },
        "id": "T4dR2FEewOYQ",
        "outputId": "34421bfc-5fa6-453b-a594-806a73f9d2cd"
      },
      "source": [
        "a = 'scott'\n",
        "print( a[1:] )"
      ],
      "execution_count": null,
      "outputs": [
        {
          "output_type": "stream",
          "text": [
            "cott\n"
          ],
          "name": "stdout"
        }
      ]
    },
    {
      "cell_type": "markdown",
      "metadata": {
        "id": "pDxNZOv5vMqd"
      },
      "source": [
        "**문제 140 아래의 함수를 생성하시오!(첫번째 철자 대문자 나머지 소문자로 출력되게 하는 함수)**\n",
        "~~~\n",
        "print( initcap('scott') )\n",
        "결과: Scott\n",
        "~~~"
      ]
    },
    {
      "cell_type": "code",
      "metadata": {
        "colab": {
          "base_uri": "https://localhost:8080/"
        },
        "id": "vfFDUoxVvMa5",
        "outputId": "f2998be3-b70b-4f6a-8ffa-78eec4b2c13e"
      },
      "source": [
        "def initcap( name ):\n",
        "    return name[0].upper() + name[1:].lower()\n",
        "\n",
        "print( initcap('scott'))"
      ],
      "execution_count": null,
      "outputs": [
        {
          "output_type": "stream",
          "text": [
            "Scott\n"
          ],
          "name": "stdout"
        }
      ]
    },
    {
      "cell_type": "markdown",
      "metadata": {
        "id": "zcLCGmSPwo94"
      },
      "source": [
        "#40. 함수 인자 이해하기\n",
        "- 인자란 위에서 사용한 입력 매개변수를 말함\n"
      ]
    },
    {
      "cell_type": "code",
      "metadata": {
        "colab": {
          "base_uri": "https://localhost:8080/"
        },
        "id": "ZroImxXJvI7y",
        "outputId": "41f1a0a2-2f79-48a7-ae13-3a42d55ce87c"
      },
      "source": [
        "def add_text(t1, t2):\n",
        "    return t1 + '  ' + t2\n",
        "\n",
        "print( add_text('파이썬', '자바'))"
      ],
      "execution_count": null,
      "outputs": [
        {
          "output_type": "stream",
          "text": [
            "파이썬  자바\n"
          ],
          "name": "stdout"
        }
      ]
    },
    {
      "cell_type": "code",
      "metadata": {
        "colab": {
          "base_uri": "https://localhost:8080/"
        },
        "id": "oRk8-maFxtBa",
        "outputId": "408062d2-c2a5-45fb-aed3-cf1711b62c2e"
      },
      "source": [
        "# 매개변수에 아무것도 입력하지 않고 실행하면 기본값이 출력되게끔 함수를 생성하는 방법\n",
        "\n",
        "def add_text(t1, t2='최고'):\n",
        "    return t1 + '    ' + t2\n",
        "\n",
        "print( add_text('파이썬', '자바') ) # 파이썬 자바\n",
        "print( add_text('파이썬') )  # 파이썬 최고\n",
        "\n",
        "# t2에 값을 아무것도 넣지 않았더니 기본값으로 지정한 '최고'가 출력 됨"
      ],
      "execution_count": null,
      "outputs": [
        {
          "output_type": "stream",
          "text": [
            "파이썬    자바\n",
            "파이썬    최고\n"
          ],
          "name": "stdout"
        }
      ]
    },
    {
      "cell_type": "markdown",
      "metadata": {
        "id": "s59Tpnb0xsQQ"
      },
      "source": [
        "#41. 지역변수와 전역변수 이해하기 ( global )\n",
        "- 변수는 자신이 생성된 범위( 코드블럭 ) 안에서만 유효\n",
        "- 함수 안에서 만든 변수는 함수 안에서 살아 있다가 함수 코드의 실행이 종료되면 그 생명을 다한다.\n",
        "- 이것을 '지역변수'라고 한다.  \n",
        "  \n",
        "> 예: 스타벅스 내에서의 머그컵  \n",
        "\n",
        "- 이와는 반대로 함수 외부에서 만든 변수는 프로그램이 살아있는 동안에 함께 살아있다가 프로그램이 종료되면 같이 소멸\n",
        "- 이렇게 프로그램 전체를 유효 범위로 가지는 변수를 '전역변수'라고 함  \n",
        "\n",
        "> 예: 개인 텀블러"
      ]
    },
    {
      "cell_type": "code",
      "metadata": {
        "colab": {
          "base_uri": "https://localhost:8080/"
        },
        "id": "o3vdK81R25PR",
        "outputId": "150f6fb1-47c6-4c19-89dc-6ed4974bb1f5"
      },
      "source": [
        "# 예제\n",
        "strdata='전역변수' # func1 함수 외부에 있는 변수 (개인 텀블러)\n",
        "\n",
        "def func1():\n",
        "    strdata2 = '지역변수' # func1 함수 내부에 있는 변수 (스타벅스 머그컵)\n",
        "    return strdata2\n",
        "\n",
        "print( func1() )\n"
      ],
      "execution_count": null,
      "outputs": [
        {
          "output_type": "stream",
          "text": [
            "지역변수\n"
          ],
          "name": "stdout"
        }
      ]
    },
    {
      "cell_type": "markdown",
      "metadata": {
        "id": "83LSoQa436ar"
      },
      "source": [
        "- 대부분 많은 코드들이 지역변수를 사용함\n",
        "- '전역변수'를 사용하는 경우\n",
        "    - 프로그램전체에서 공통적으로 사용되고 잘 변하지 않는 데이터"
      ]
    },
    {
      "cell_type": "code",
      "metadata": {
        "colab": {
          "base_uri": "https://localhost:8080/"
        },
        "id": "vzzB4oWa4dZZ",
        "outputId": "05ab4bb8-3428-40ad-edaa-c208f16dfc32"
      },
      "source": [
        "pi = 3.141592653589793\n",
        "\n",
        "def cycle_func1(num1):  # 원의 넓이를 구하는 함수\n",
        "    global pi    # 전역변수 pi를 함수 내부로 가져올 수 있음\n",
        "                 # global 이라는 키워드를 앞에 쓰면 가능\n",
        "    return pi * num1 * num1\n",
        "\n",
        "def cycle_func2(num1):  # 원의 1/4인 부채꼴의 넓이를 구하는 함수\n",
        "    global pi\n",
        "    return 1/4 *pi * num1 * num1\n",
        "\n",
        "print( cycle_func1(5) )\n",
        "print( cycle_func2(5) )"
      ],
      "execution_count": null,
      "outputs": [
        {
          "output_type": "stream",
          "text": [
            "78.53981633974483\n",
            "19.634954084936208\n"
          ],
          "name": "stdout"
        }
      ]
    },
    {
      "cell_type": "markdown",
      "metadata": {
        "id": "Az3lQOYx6cVe"
      },
      "source": [
        "#42. 함수 리턴값 이해하기(return)\n",
        "- 모든 함수는 이름을 가지고 있음\n",
        "- 이 이름을 불러주면 파이썬은 그 이름 아래에 정의 되어 있는 코드를 실행함\n",
        "- 이 때, 함수를 부르는 코드를 호출자라고 합니다.\n",
        "- 함수가 호출자에게 결과를 돌려주는 것을 반환(return)이라고 합니다."
      ]
    },
    {
      "cell_type": "code",
      "metadata": {
        "colab": {
          "base_uri": "https://localhost:8080/"
        },
        "id": "YnzqREPK5PuK",
        "outputId": "418b3928-a50c-4b43-867e-738e2e6c84b2"
      },
      "source": [
        "pi = 3.141592653589793\n",
        "\n",
        "def cycle_func1(num1):  # 원의 넓이를 구하는 함수\n",
        "    global pi    \n",
        "    return pi * num1 * num1\n",
        "\n",
        "print( cycle_func1(5) ) # 함수를 호출하는 호출자 코드"
      ],
      "execution_count": null,
      "outputs": [
        {
          "output_type": "stream",
          "text": [
            "78.53981633974483\n"
          ],
          "name": "stdout"
        }
      ]
    },
    {
      "cell_type": "code",
      "metadata": {
        "colab": {
          "base_uri": "https://localhost:8080/"
        },
        "id": "Ga8okHJP7S00",
        "outputId": "9ed2271d-ad32-42c9-f435-497989992268"
      },
      "source": [
        "# 절대값을 출력하는 함수(무조건 양수로 출력하는 함수)\n",
        "\n",
        "print( abs(-9) )\n",
        "print( abs(9) )"
      ],
      "execution_count": null,
      "outputs": [
        {
          "output_type": "stream",
          "text": [
            "9\n",
            "9\n"
          ],
          "name": "stdout"
        }
      ]
    },
    {
      "cell_type": "markdown",
      "metadata": {
        "id": "Aq3TxFxR7sJv"
      },
      "source": [
        "**문제 141. abs 함수를 사용하지 말고 if 문을 이용해서 절대값을 출력하는 my_abs 라는 함수를 생성하시오!**"
      ]
    },
    {
      "cell_type": "code",
      "metadata": {
        "colab": {
          "base_uri": "https://localhost:8080/"
        },
        "id": "HLHe_Zfp7rVt",
        "outputId": "78f9ca47-9a79-4fe9-8c2f-e28828d7cc61"
      },
      "source": [
        "def my_abs(num1):\n",
        "    if num1 >0:        # 0보다 크면\n",
        "        return num1    # 입력값 그대로 리턴\n",
        "    else:              # 그게 아니라면 ( 0에 음수를 써도 0은 0)\n",
        "        return -num1   # 음수를 붙여 리턴\n",
        "\n",
        "print( my_abs(-5) )\n",
        "print( my_abs(5) )"
      ],
      "execution_count": null,
      "outputs": [
        {
          "output_type": "stream",
          "text": [
            "<class 'int'>\n"
          ],
          "name": "stdout"
        }
      ]
    },
    {
      "cell_type": "markdown",
      "metadata": {
        "id": "NEUMeqsL95H5"
      },
      "source": [
        "#43. 파이썬 모듈 이해하기\n",
        "- 파이썬에서는 각각의 소스 파일을 일컬어 모튤이라고 함\n",
        "- 이미 만들어져 있고 안정성이 검증된 함수들을 성격에 맞게 하나의 파일로 묶어 높은 것을 모듈이라고 함\n",
        "- 외부의 모듈에 있는 함수를 사용하려면 이 모듈을 먼저 우리 코드로 가져와서 자유롭게 사용할 수 있도록 해야 하는데 이런 일을 파이썬에서는 모듈을 import 한다라고 함"
      ]
    },
    {
      "cell_type": "code",
      "metadata": {
        "colab": {
          "base_uri": "https://localhost:8080/"
        },
        "id": "gVvmSjWF7eMS",
        "outputId": "3771142b-e32d-4633-cd07-b82a1099cccf"
      },
      "source": [
        "# 예제\n",
        "import time        # time 모듈을 import\n",
        "\n",
        "print('5초간 프로그램을 정지합니다.')\n",
        "time.sleep(5)      # 5초동안 멈춰 있는 것임\n",
        "print('5초가 지났습니다.')"
      ],
      "execution_count": null,
      "outputs": [
        {
          "output_type": "stream",
          "text": [
            "5초간 프로그램을 정지합니다.\n",
            "5초가 지났습니다.\n"
          ],
          "name": "stdout"
        }
      ]
    },
    {
      "cell_type": "code",
      "metadata": {
        "id": "MyYOxUvQ_JOT"
      },
      "source": [
        "#평균이 30이고 표준편차가 5인 가우시안 정규분포를 따르는 모집단을 백만개 구성하는 코드\n",
        "\n",
        "import numpy as np\n",
        "\n",
        "avg = 30\n",
        "std = 5\n",
        "N = 100000\n",
        "\n",
        "population = np.random.randn(N) * std + avg\n",
        "\n",
        "print( population )"
      ],
      "execution_count": null,
      "outputs": []
    },
    {
      "cell_type": "markdown",
      "metadata": {
        "id": "csEkn9aM_e38"
      },
      "source": [
        "**문제 142. 서울시 초등학생 백만명의 키로 모집단을 구성하는데 평균키가 148.5이고 표준편차가 30인 모집단을 만드시오!**"
      ]
    },
    {
      "cell_type": "code",
      "metadata": {
        "id": "A3u6C0pN_x_m"
      },
      "source": [
        "import numpy as np\n",
        "\n",
        "avg = 148.5\n",
        "std = 30\n",
        "N = 1000000\n",
        "\n",
        "population = np.random.randn(N) * std + avg"
      ],
      "execution_count": null,
      "outputs": []
    },
    {
      "cell_type": "markdown",
      "metadata": {
        "id": "h4kl2ffYEFwR"
      },
      "source": [
        "**문제 143. 위의 모집단에서 100명을 표본으로 추출하여 100명의 평균키를 비어있는 리스트 a에 입력하는 작업을 10000번 수행하여 a 리스트에 10000개의 표본의 평균키가 입력되게 하시오**"
      ]
    },
    {
      "cell_type": "code",
      "metadata": {
        "colab": {
          "base_uri": "https://localhost:8080/"
        },
        "id": "IAfGYno4EEK5",
        "outputId": "0fd5d7dc-f918-4e72-b133-2b24735f887b"
      },
      "source": [
        "import numpy as np\n",
        "\n",
        "avg = 148.5\n",
        "std = 30\n",
        "N = 1000000\n",
        "\n",
        "population = np.random.randn(N) * std + avg\n",
        "result = []\n",
        "\n",
        "for i in range(1, 10001):\n",
        "    sample = np.random.choice( population, 100 ).mean() #모집단에서 100개를 추출\n",
        "    result.append(sample)   # 평균값을 10000번 입력함\n",
        "\n",
        "print(len(result))\n",
        "\n",
        "#설명: 초등학생 100만명의 키 모집단에서 표본 100개 추출해서 표본평균을 10000개 모았음"
      ],
      "execution_count": null,
      "outputs": [
        {
          "output_type": "stream",
          "text": [
            "10000\n"
          ],
          "name": "stdout"
        }
      ]
    },
    {
      "cell_type": "markdown",
      "metadata": {
        "id": "oFvKHXuSHmQ9"
      },
      "source": [
        "**문제 144. 통계학을 전문으로 구현하는 모듈인 scipy 모듈을 import 하여 위의 표본의 평균 키값에 대한 확률밀도 값을 출력하시오**"
      ]
    },
    {
      "cell_type": "code",
      "metadata": {
        "colab": {
          "base_uri": "https://localhost:8080/"
        },
        "id": "TLwieVeoH-db",
        "outputId": "713ad22a-8ef6-4e11-927d-f36399a46f8a"
      },
      "source": [
        "from scipy.stats import norm # scipy의 stats패키지로부터 norm이라는 모듈을 import 해라\n",
        "import numpy as np\n",
        "# 모듈을 다 패키징한 것이 패키지\n",
        "\n",
        "avg = 148.5\n",
        "std = 30\n",
        "N = 1000000\n",
        "\n",
        "population = np.random.randn(N) * std + avg\n",
        "result = []\n",
        "\n",
        "for i in range(1, 10001):\n",
        "    sample = np.random.choice( population, 100 ).mean()\n",
        "    result.append(sample)\n",
        "\n",
        "x = np.arange(140, 160, 0.001) # 140~160까지 0.001 간격으로 숫자를 생성\n",
        "y = norm.pdf(x, np.mean(a), np.std(a))\n",
        "# y = norm.pdf(x, 표본 평균들의 평균, 표본평균값들의 표준편차)\n",
        "# 초등학생 키의 표본 평균값들에 대한 확률 밀도함수 값이 출력 됨\n",
        "print(y)"
      ],
      "execution_count": null,
      "outputs": [
        {
          "output_type": "stream",
          "text": [
            "[0.01278239 0.01278251 0.01278263 ... 0.01238662 0.01238647 0.01238631]\n"
          ],
          "name": "stdout"
        }
      ]
    },
    {
      "cell_type": "markdown",
      "metadata": {
        "id": "BGwEFND4HOaj"
      },
      "source": [
        "**문제 145. 데이터 시각화전문 모듈인 matplotlib를 import 하여 위의 표본 평균값 10000개의 데이터에 대한 확률 밀도함수 값으로 정규분포 그래프를 그리시오**"
      ]
    },
    {
      "cell_type": "code",
      "metadata": {
        "colab": {
          "base_uri": "https://localhost:8080/",
          "height": 265
        },
        "id": "-VfuTLhrHddA",
        "outputId": "74e934bd-f4e9-43b7-f180-874678722d42"
      },
      "source": [
        "import matplotlib.pyplot as plt # matplotlib 모듈안에 pyplot라는 함수를 import 하는데 별칭은 plt로 지정\n",
        "from scipy.stats import norm # scipy의 stats패키지로부터 norm이라는 모듈을 import 해라\n",
        "import numpy as np\n",
        "# 모듈을 다 패키징한 것이 패키지\n",
        "\n",
        "avg = 148.5\n",
        "std = 30\n",
        "N = 1000000\n",
        "\n",
        "population = np.random.randn(N) * std + avg\n",
        "result = []\n",
        "\n",
        "for i in range(1, 10001):\n",
        "    sample = np.random.choice( population, 100 ).mean()\n",
        "    result.append(sample)\n",
        "\n",
        "x = np.arange(140, 160, 0.001) # 140~160까지 0.001 간격으로 숫자를 생성\n",
        "y = norm.pdf(x, np.mean(result), np.std(result))\n",
        "# y = norm.pdf(x, 표본 평균들의 평균, 표본평균값들의 표준편차)\n",
        "# 초등학생 키의 표본 평균값들에 대한 확률 밀도함수 값이 출력 됨\n",
        "\n",
        "plt.plot(x,y,color='blue')\n",
        "plt.show()"
      ],
      "execution_count": null,
      "outputs": [
        {
          "output_type": "display_data",
          "data": {
            "image/png": "[encoded data removed]",
            "text/plain": [
              "<Figure size 432x288 with 1 Axes>"
            ]
          },
          "metadata": {
            "tags": [],
            "needs_background": "light"
          }
        }
      ]
    },
    {
      "cell_type": "markdown",
      "metadata": {
        "id": "5qEK1dMnRKxQ"
      },
      "source": [
        "**문제 146. 위의 확률밀도 함수 그래프의 아래쪽 영역도 색깔로 채우시오**"
      ]
    },
    {
      "cell_type": "code",
      "metadata": {
        "colab": {
          "base_uri": "https://localhost:8080/",
          "height": 267
        },
        "id": "pAOrBmoxRIIG",
        "outputId": "0fc78ea4-4c83-4c83-9506-7ddd70587097"
      },
      "source": [
        "import matplotlib.pyplot as plt # matplotlib 모듈안에 pyplot라는 함수를 import 하는데 별칭은 plt로 지정\n",
        "from scipy.stats import norm # scipy의 stats패키지로부터 norm이라는 모듈을 import 해라\n",
        "import numpy as np\n",
        "# 모듈을 다 패키징한 것이 패키지\n",
        "\n",
        "avg = 148.5\n",
        "std = 30\n",
        "N = 1000000\n",
        "\n",
        "population = np.random.randn(N) * std + avg\n",
        "result = []\n",
        "\n",
        "for i in range(1, 10001):\n",
        "    sample = np.random.choice( population, 100 ).mean()\n",
        "    result.append(sample)\n",
        "\n",
        "x = np.arange(140, 160, 0.001) # 140~160까지 0.001 간격으로 숫자를 생성\n",
        "y = norm.pdf(x, np.mean(result), np.std(result))\n",
        "# y = norm.pdf(x, 표본 평균들의 평균, 표본평균값들의 표준편차)\n",
        "# 초등학생 키의 표본 평균값들에 대한 확률 밀도함수 값이 출력 됨\n",
        "\n",
        "plt.plot(x,y,color='blue')\n",
        "plt.fill_between( x, y, interpolate = False, color = 'skyblue', alpha=0.7)\n",
        "# plt 모듈안의 fill_between 함수를 이용해서 확률밀도 함수 그래프의 아래 영역을 색깔로 채움\n",
        "# interpolate = True 를 이용해서 아래의 영역이 색깔로 채워지게 됨\n",
        "# alpha는 색깔 투명도인데 0.0~1.0사이로 기술 할 수 있음\n",
        "\n",
        "plt.show()"
      ],
      "execution_count": null,
      "outputs": [
        {
          "output_type": "display_data",
          "data": {
            "image/png": "[encoded data removed]",
            "text/plain": [
              "<Figure size 432x288 with 1 Axes>"
            ]
          },
          "metadata": {
            "tags": [],
            "needs_background": "light"
          }
        }
      ]
    },
    {
      "cell_type": "markdown",
      "metadata": {
        "id": "c2XA76sNSd5I"
      },
      "source": [
        "**문제 147. 위에서 그린 확률 밀도 함수 그래프의 색깔을 변경하고 그래프를 사진으로 첨부해서 올리시오**"
      ]
    },
    {
      "cell_type": "code",
      "metadata": {
        "colab": {
          "base_uri": "https://localhost:8080/",
          "height": 265
        },
        "id": "XeSFc343Su3j",
        "outputId": "0384dac1-24be-4297-832e-c918e447e76b"
      },
      "source": [
        "import matplotlib.pyplot as plt # matplotlib 모듈안에 pyplot라는 함수를 import 하는데 별칭은 plt로 지정\n",
        "from scipy.stats import norm # scipy의 stats패키지로부터 norm이라는 모듈을 import 해라\n",
        "import numpy as np\n",
        "# 모듈을 다 패키징한 것이 패키지\n",
        "\n",
        "avg = 148.5\n",
        "std = 30\n",
        "N = 1000000\n",
        "\n",
        "population = np.random.randn(N) * std + avg\n",
        "result = []\n",
        "\n",
        "for i in range(1, 10001):\n",
        "    sample = np.random.choice( population, 100 ).mean()\n",
        "    result.append(sample)\n",
        "\n",
        "x = np.arange(140, 160, 0.001) # 140~160까지 0.001 간격으로 숫자를 생성\n",
        "y = norm.pdf(x, np.mean(result), np.std(result))\n",
        "# y = norm.pdf(x, 표본 평균들의 평균, 표본평균값들의 표준편차)\n",
        "# 초등학생 키의 표본 평균값들에 대한 확률 밀도함수 값이 출력 됨\n",
        "\n",
        "plt.plot(x,y,color='blue')\n",
        "plt.fill_between( x, y, interpolate = True, color = 'lime', alpha=0.4)\n",
        "# plt 모듈안의 fill_between 함수를 이용해서 확률밀도 함수 그래프의 아래 영역을 색깔로 채움\n",
        "# interpolate = True 를 이용해서 아래의 영역이 색깔로 채워지게 됨\n",
        "# alpha는 색깔 투명도인데 0.0~1.0사이로 기술 할 수 있음\n",
        "\n",
        "plt.show()\n"
      ],
      "execution_count": null,
      "outputs": [
        {
          "output_type": "display_data",
          "data": {
            "image/png": "[encoded data removed]",
            "text/plain": [
              "<Figure size 432x288 with 1 Axes>"
            ]
          },
          "metadata": {
            "tags": [],
            "needs_background": "light"
          }
        }
      ]
    }
  ]
}