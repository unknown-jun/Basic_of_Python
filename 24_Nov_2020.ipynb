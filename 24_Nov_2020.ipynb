{
  "nbformat": 4,
  "nbformat_minor": 0,
  "metadata": {
    "colab": {
      "name": "24_Nov_2020.ipynb",
      "provenance": []
    },
    "kernelspec": {
      "name": "python3",
      "display_name": "Python 3"
    }
  },
  "cells": [
    {
      "cell_type": "code",
      "metadata": {
        "colab": {
          "base_uri": "https://localhost:8080/"
        },
        "id": "iZuMjGbj0zM9",
        "outputId": "3aa02c3b-3275-4d08-8ff7-2a34dc1cfb1f"
      },
      "source": [
        "from google.colab import drive\n",
        "\n",
        "drive.mount('/content/drive/')"
      ],
      "execution_count": 9,
      "outputs": [
        {
          "output_type": "stream",
          "text": [
            "Mounted at /content/drive/\n"
          ],
          "name": "stdout"
        }
      ]
    },
    {
      "cell_type": "code",
      "metadata": {
        "colab": {
          "base_uri": "https://localhost:8080/"
        },
        "id": "fGpZyvBa0irw",
        "outputId": "007a27fc-f5b5-47ba-c58a-1c7a4a9f1b8e"
      },
      "source": [
        "!git clone https://github.com/unknown-jun/Basic_of_Python.git"
      ],
      "execution_count": 16,
      "outputs": [
        {
          "output_type": "stream",
          "text": [
            "fatal: destination path 'Basic_of_Python' already exists and is not an empty directory.\n"
          ],
          "name": "stdout"
        }
      ]
    },
    {
      "cell_type": "markdown",
      "metadata": {
        "id": "NB2RpX9xpRip"
      },
      "source": [
        "\t• 데이터 분석가가 기본적으로 갖추어야 할 기술\n",
        "\t\ta. SQL\n",
        "\t\tb. 파이썬 + 통계기본지식 + 머신러닝 지식\n",
        "\t\tc. R            알고리즘\n",
        "\t\td. 하둡\n",
        "\n",
        "\t• 파이썬을 통해서 우리가 얻어야 할 지식들\n",
        "\t\ta. 빅데이터 수집을 위한 웹스크롤링을 할 수 있는 능력 키우기\n",
        "\t\tb. SQL 처럼 파이썬으로 데이터를 검색하고 데이터를 분석할 수 있는 능력 키우기\n",
        "\t\tc. 딥러닝 개발자(연구원)가 되기 위한 기본 코딩능력 갖추기\n",
        "\n",
        "\t• 파이썬 설치\n",
        "\t- 아나콘다 최신 버전으로 설치\n",
        "\t- 파이썬 기본 프로그램 + 여러가지 유용한 패키지들, Spyder 툴로 파이썬 코드를 연습\n"
      ]
    },
    {
      "cell_type": "markdown",
      "metadata": {
        "id": "Vd8iRYfno5yx"
      },
      "source": [
        "`1. 대화식 모드로 프로그래밍하기`\n",
        "\n",
        "\t파이썬을 실행하는 방법 2가지\n",
        "\t\ta. 대화식 모드: 한 라인 한 라인씩 실행하는 모드\n",
        "\t\tb. 배치모드    : 여러 개의 스크립트로 작성해서 한 번에 실행하는 모드\n"
      ]
    },
    {
      "cell_type": "markdown",
      "metadata": {
        "id": "KW2_bnxJqBOV"
      },
      "source": [
        "\t2. 텍스트 에디터로 프로그래밍하기\n",
        "  \n",
        "\tSpyder 와 같은 텍스트 창에서 프로그램 코드를 작성하는 것을 말함\n",
        "\tSpyder 프로그램에서 ctl+ enter 키로 코드를 실행하거나 F5를 누르면 실행됨\n"
      ]
    },
    {
      "cell_type": "markdown",
      "metadata": {
        "id": "tI47pV0rqZSP"
      },
      "source": [
        "\t► 문제2. 아래와 같은 결과가 나오게 프로그래밍 하시오\n",
        "\t2\n",
        "\t3\n",
        "\t4\n",
        "\t\n",
        "\t\n",
        "\n",
        "```\n",
        "for i in [2,3,4]:\n",
        "\t    print ( i )\n",
        "```\n"
      ]
    },
    {
      "cell_type": "markdown",
      "metadata": {
        "id": "Kmy-3lIFqqiA"
      },
      "source": [
        "\t3. 변수명 만들기\n",
        "\t\" 어떤 값을 임시로 저장하는 변수의 이름을 만드는 방법과 규칙\"\n",
        "\tEx) a = 1\n",
        "\t-> a라는 변수에 숫자 1을 할당한다.\n",
        "\t\n",
        "\t▪ 변수 이름을 생성할 때 주의할 사항\n",
        "\t\t1. 변수 이름에는 다음 문자만 사용할 수 있음)\n",
        "\t\t\ti. 소문자 (a ~ z)\n",
        "\t\t\tii. 대문자 (A ~ Z)\n",
        "\t\t\tiii. 숫자 (0~9)\n",
        "\t\t\tiv. 언더스코어( _ )\n",
        "\t\t\t\n",
        "\t\t2. 변수 이름은 숫자로 시작할 수 없음(문자로 시작해야함)\n",
        "\t\t3. 예약어를 사용할 수 없다. ( 파이썬에서 이미 사용되고 있는 단어를 예약어라고 함 )\n",
        "\t\tEx) True, False, class, is, return\n"
      ]
    },
    {
      "cell_type": "markdown",
      "metadata": {
        "id": "adZ-PRmOquJr"
      },
      "source": [
        "\t문제 3. 파이썬 예약어가 무엇이 있는지 확인하시오\n",
        "\t\n",
        "```\n",
        "import keyword\n",
        "\tprint(keyword.kwlist)\n",
        "```\n",
        "\n",
        "\t\n",
        "\t문제 4. 위의 예약어를 변수로 사용하면 에러가 나는지 직접 테스트 하시오!\n",
        "```\t\n",
        "and = 1\n",
        "```\n",
        "SyntaxError: invalid syntax\n"
      ]
    },
    {
      "cell_type": "markdown",
      "metadata": {
        "id": "EqGSGIdtrmv1"
      },
      "source": [
        "\t4. 변수에 값 대입하기\n",
        "\t- 다양한 값을 변수에 대입하는 방법을 배웁니다\n",
        "\t- 파이썬은 변수에 값을 대입할 때 = (assingment) 기호를 사용합니다.\n",
        "\tEx) \n",
        "\ta = 1\n",
        "\tb = 'scott'\n",
        "\tprint( b )\n",
        "\t- 다른 프로그램 언어에서는 아래와 같이 좀 더 복잡한 코드로 작성하곤 함\n",
        "\tB varchar2(10) := 'scott';\n",
        "\t- 파이썬의 코드는 심플함을 철학으로 삼고 있음\n",
        "\t- 파이썬의 기본 철학을 확인하는 방법\n",
        "\timport this\n",
        "\t\n",
        "\tthe Zen of Python, by Tim Peters\n",
        "\t\n",
        "\tBeautiful is better than ugly.\n",
        "\tExplicit is better than implicit.\n",
        "\tSimple is better than complex.\n",
        "\tComplex is better than complicated.\n",
        "\tFlat is better than nested.\n",
        "\tSparse is better than dense.\n",
        "\tReadability counts.\n",
        "\tSpecial cases aren't special enough to break the rules.\n",
        "\tAlthough practicality beats purity.\n",
        "\tErrors should never pass silently.\n",
        "\tUnless explicitly silenced.\n",
        "\tIn the face of ambiguity, refuse the temptation to guess.\n",
        "\tThere should be one-- and preferably only one --obvious way to do it.\n",
        "\tAlthough that way may not be obvious at first unless you're Dutch.\n",
        "\tNow is better than never.\n",
        "\tAlthough never is often better than *right* now.\n",
        "\tIf the implementation is hard to explain, it's a bad idea.\n",
        "\tIf the implementation is easy to explain, it may be a good idea.\n",
        "\tNamespaces are one honking great idea -- let's do more of those!\n",
        "\t\n",
        "\t- 파이썬은 c, c++, java와는 달리 변수를 선언할 때 숫자형 자료인지 문자형 자료인지 자료형을 명시하지 않아도 됨\n"
      ]
    },
    {
      "cell_type": "markdown",
      "metadata": {
        "id": "_BDPUSBery8t"
      },
      "source": [
        "\t► 문제 5. 변수의 자료형을 확인하시오!\n",
        "\n",
        "\n",
        "```\n",
        "b = 'scott'\n",
        "print(b)\n",
        "\t\n",
        "print(type(b))\n",
        "```\n",
        "\n",
        "\t\n",
        "\tscott\n",
        "\t<class 'str'>   -> 문자형\n",
        "\t\n",
        "\t► 문자 6. 숫자형 변수의 자료형을 확인하시오!\n",
        "\t\n",
        "  \n",
        "\n",
        "```\n",
        "c = 5\n",
        "print(c)\n",
        "\t\n",
        "print(type(c))\n",
        "```\n",
        "\t5\n",
        "\t<class 'int'> -> 정수형\n"
      ]
    },
    {
      "cell_type": "markdown",
      "metadata": {
        "id": "53n4LZUZsOqP"
      },
      "source": [
        "\t5. 주석처리하기(#)\n",
        "\t프로그램에서 주석부분은 인터프리터에 의해 무시되는 텍스트의 한 부분.\n",
        "\t코드를 설명하거나 나중에 어떤 문제를 고치기 위해 표시하는 등 다양한 목적으로 주석을 사용할 수 있음.\n",
        "\t코드를 작성할 때 주석을 잘 작성해두면 차후에 코드를 다시 보거나 타인이 코드를 검토할 때 매우 중요한 정보로 활용이 될 수 있음.\n",
        "\t그래서 주석을 항상 달아주는 습관을 가지는 것이 중요.\n",
        "\t\n",
        "\tEx) \n",
        "\t\ta. 한줄 주석\n",
        "\t\ta = 1 # 변수 a에 숫자1을 할당합니다.\n",
        "\t\tprint(a) # a의 결과를 출력합니다\n",
        "\t\t\n",
        "\t\tb. 여러줄 주석\n",
        "\t\t\"\"\" 아래의 프로그램은 a 변수에 1을 할당해서 프린트 하는 프로그램입니다. \"\"\"\n"
      ]
    },
    {
      "cell_type": "markdown",
      "metadata": {
        "id": "BccYn62esbb1"
      },
      "source": [
        "\t6. 자료형 개념 배우기\n",
        "\t자료형이란 프로그래밍을 할 때 쓰이는 숫자, 문자열 등의 자료형태로 사용되는 모든 것을 뜻함\n",
        "\t• 파이썬에서 자주 다루게 되는 자료형 5가지\n",
        "\t\ta. 숫자형 자료형: 숫자를 표현하는 자료형\n",
        "\t\tEx) a = 1\n",
        "\t\tb. 문자형 자료형: 문자를 표현하는 자료형\n",
        "\t\tEx) b = 'scott'\n",
        "\t\tc. 리스트 자료형: [ ] 대괄호 안에 임의 객체를 순서있게 나열한 자료형\n",
        "\t\tEx) d = [ 1,2,3 ] # 파이썬은 시작을 0부터 시작함\n",
        "\t\t            0/1/2\n",
        "\t\t     print (d)\n",
        "\t\t     print (d[0]) # d 리스트에서 첫번째 요소를 프린트해라\n",
        "\t\td. 튜플 자료형: 리스트: 리스트와 비슷하지만 요소값을 변경할 수 없다는 것이 리스트와 다른 점\n",
        "\t\tEx) c= (1,2,3)                                                데이터의 신뢰를 높일 수 있음\n",
        "\t\t    print(c)\n",
        "\t\te. 딕셔너리 자료형: 사전 자료형은 { } 중괄호 안의 키:값으로 된 쌍이 요소로 구성된 순서가 없는 자료형입니다.\n",
        "\t\tEx) m = {'I':'나는', 'am':'입니다', 'boy':'소년'}\n"
      ]
    },
    {
      "cell_type": "markdown",
      "metadata": {
        "id": "mn7TLbgcshm-"
      },
      "source": [
        "\t► 문제 7. 아래의 리스트에서 문자 k를 출력하시오!\n",
        "\t\n",
        "\n",
        "```\n",
        "mmm = ['a', 'b','d','e','k','m','n','z']\n",
        "print( mmm [4])\n",
        "```\n",
        "\n",
        "\n",
        "\t\n",
        "\t► 문제 8. 동전을 던져서 앞면이 나오는 지 뒷면이 나오는지 확인하시오!\n",
        "\n",
        "```\n",
        "import random # random 이라는 모듈을 이 코드에 쓰겠다.\n",
        "        \t  # 특정 목적으로 만든 파이썬 코드의 집합\n",
        "coin=['앞면', '뒷면']\n",
        "print(random.choice(coin))\n",
        "\t          # random 모듈안의 choice라는 함수를 이용해라~\n",
        "```\n",
        "\n",
        "\t\n",
        "\t► 문제 9. 위에서는 동전을 던졌는데 이번에는 주사위를 던져서 주사위의 눈이 뭐가 나오는지 확인하는 파이썬 코드를 작성하시오\n",
        "```\n",
        "import random\n",
        "\tdise=[1, 2, 3, 4, 5, 6]\n",
        "\tprint(random.choice(dise))\n",
        "```\n",
        "\n"
      ]
    },
    {
      "cell_type": "markdown",
      "metadata": {
        "id": "lyDUpl8Utywt"
      },
      "source": [
        "\t7. 자료형 출력 개념 배우기 (print)\n",
        "\tPrint 함수를 이용하면 다양한 자료형을 화면에 출력할 수 있습니다.\n",
        "\ta = 200\n",
        "\tb = 'i love python'\n",
        "\tc=['a', 'b', 'c']\n",
        "\tprint(a)\n",
        "\tprint(b)\n",
        "\tprint(c)\n",
        "\t\n",
        "\t8. 들여쓰기 개념 배우기\n",
        "\t파이썬에는 실행코드 부분을 묶어주는 (   ) 괄호가 없음.\n",
        "\t들여쓰기로 괄호를 대신함.\n",
        "\t파이썬은 다른 프로그래밍 언어와 달리 if, for, while 등과 같은 제어문, 루프문의 실행코드 부분을 구분해 주는 괄호가 없음.\n",
        "\t대신 들여쓰기로 괄호를 대신 함.\n",
        "\t파이썬에서 제어문이나 함수이름, 클래스 이름 뒤에 콜론 (:)으로 제어문, 함수이름, 클래스 이름의 끝을 표시하며 콜론(:) 다음에 실행코드를 작성하는데 이때 들여쓰기를 해야 함.\n"
      ]
    },
    {
      "cell_type": "markdown",
      "metadata": {
        "id": "yeRl1g6guM3B"
      },
      "source": [
        "\tEx1. 실행코드를 다음라인에 작성했을 경우 \n",
        "```\n",
        "listdate = ['a', 'b','c']          #  listdata 라는 변수로 리스트를 생성\n",
        "if 'a' in listdate:                   #  listdata 변수에 'a'요소가 있다면 \n",
        "  print('a가 listdate에 있습니다.') #  아래의 실행문을 실행해라\n",
        "\n",
        "```\n",
        "\tEx2. 실행코드를 한 라인에 작성한 경우\n",
        "\n",
        "\n",
        "```\n",
        "listdata=['a','b','c']    \n",
        "if 'a' in listdata: print('a가 listdata에 있습니다.')\n",
        "# 콜론(:)으로 if 문의 끝을 알림\n",
        "```\n",
        "\n",
        "\n"
      ]
    },
    {
      "cell_type": "markdown",
      "metadata": {
        "id": "6EtYP-xJuooK"
      },
      "source": [
        "\t► 문제 10. 주사위의 눈이 6개가 있는 변수를 만들고 if문을 써서 \"주사위의 눈에 숫자 5가 있습니다.\"라는 메세지가 출력되게 하시오\n",
        "\n",
        "\n",
        "```\n",
        "import random \n",
        "\tdise=[1, 2, 3, 4, 5, 6]\n",
        "\tif 5 in dise:\n",
        "\t    print(\"주사위의 눈에 숫자 5가 있습니다\")\n",
        "\n",
        "```\n",
        "\t► 문제11. 위의 코드를 수정해서 숫자를 물어보게 하고 숫자를 입력하면 위의 메세지가 출력되게 하시오\n",
        "\n",
        "\n",
        "\n",
        "```\n",
        "import random\n",
        "a = int(input('숫자를 입력하세요:')) \n",
        "dise=[1, 2, 3, 4, 5, 6]\n",
        "if a in dise:\n",
        "  print(\"주사위의 눈에 숫자 \", a ,\"가 있습니다\") \n",
        "# 그냥 input값을 출력하면 str로 들어가기 때문에 int로 정수형을 맞춰준 후에 값을 입력해야지만이 정확한 값이 출력됨\n",
        "\n",
        "```\n",
        "\n",
        "\n"
      ]
    },
    {
      "cell_type": "markdown",
      "metadata": {
        "id": "KvZCF8sWu6PH"
      },
      "source": [
        "\t9. If문 개념 배우기 ( if ~ else )\n",
        "\t어떤 조건을 참과 거짓으로 판단할 때 if 문을 사용함\n",
        "\t참과 거짓을 구분하여 코드를 실행하면 if ~ else를 사용함\n",
        "\t코드를 작성하다 보면 조건에 따라 수행하는 일을 달리 해야 하는 경우가 있음.\n",
        "\t조건이 참인지 거짓인지 검사를 하고, 참인 경우에는 그 명령을 수행하고 거짓인 경우엔 다른 명령을 수행해라 라는 식으로 처리가 가능.\n",
        "\t\n",
        "\tEx) \n",
        "\tif 조건:\n",
        "\t\t실행코드1\n",
        "\telse:\n",
        "\t\t실행코드2\n",
        "\n",
        "\n",
        "\n",
        "```\n",
        "a=int( input('숫자를 입력하세요: '))\n",
        "if a%2 == 0:         # %는 나눈 나머지 값을 출력하는 연산자.\n",
        "                     # ==은 equal (같다) 연산자임.\n",
        "                     # =는 할당연산자.\n",
        "    print('짝수입니다.')\n",
        "else:\n",
        "    print('홀수입니다')    \n",
        "```\n",
        "\n"
      ]
    },
    {
      "cell_type": "markdown",
      "metadata": {
        "id": "00gN46C2vOKk"
      },
      "source": [
        "\t► 문제 12. 주사위의 눈을 담은 dice 변수를 만들고 숫자를 물어보게 해서 \n",
        "    해당 숫자가 주사위의 눈 중에 있으면 해당 숫자가 있습니다 라는 메세지가 출력되게 하고 \n",
        "    없으면 해당 숫자가 없습니다. 라는 메세지가 출력되게 하시오\n",
        "\t\n",
        "\t숫자를 입력하세요~ 2\n",
        "\t2가 주사위의 눈에 있습니다\n",
        "\t숫자를 입력하세요~7\n",
        "\t7가 주사위의 눈에 없습니다.\n",
        "\n",
        "```\n",
        "Dice=[1,2,3,4,5,6]\n",
        "\t\n",
        "e=int(input('숫자를 입력하세요: '))    \n",
        "if e in Dice:\n",
        "    print(e, '가 주사위의 눈에 있습니다.')    \n",
        "else:\n",
        "    print(e,'가 주사위의 눈에 없습니다')\n",
        "\n",
        "```\n",
        "\n"
      ]
    },
    {
      "cell_type": "markdown",
      "metadata": {
        "id": "BWS8BYXev4ii"
      },
      "source": [
        "    문제 13. 숫자 두개를 아래와 같이 각각 물어보게 하고 아래처럼 메세지가 출력되게 하시오\n",
        "\n",
        "\t첫번째 숫자를 입력하세요~2\n",
        "\t두번째 숫자를 입력하세요~3\n",
        "\t\n",
        "\t2는 3보다 작습니다\n",
        "\t\n",
        "\t첫번째 숫자를 입력하세요~3\n",
        "\t두번째 숫자를 입력하세요~2\n",
        "\t\n",
        "\t3은 2보다 큽니다.\n",
        "\n",
        "\n",
        "\n",
        "```\n",
        "first =int(input('첫번째 숫자를 입력하세요'))\n",
        "second = int(input('두번째 숫자를 입력하세요')) \n",
        "\t\n",
        "if first > second:\n",
        "    print(first,'는',second,'보다 큽습니다.')\n",
        "else:   \n",
        "    print(first,'은',second,'보다 작습니다.')\n",
        "\n",
        "```\n",
        "\n",
        "\n"
      ]
    },
    {
      "cell_type": "markdown",
      "metadata": {
        "id": "c6XdB0E-wKdU"
      },
      "source": [
        "\t10. If 문 개념 배우기2 (if ~ elif )\n",
        "\t여러개의 조건을 순차적으로 체크하고 해당 조건이 참이면 특정 로직을 수행하고자 할 때 if ~ elif 문을 사용합니다.\n",
        "\t\n",
        "\tEx)\n",
        "\tIf 조건1:\n",
        "\t\t실행코드 1\n",
        "\telif 조건2:\n",
        "\t\t실행코드 2\n",
        "\telif 조건3:\n",
        "\t\t실행코드 3\n",
        "\telse 조건4:         # 위의 조건1과 조건2가 조건3이 아니라면\n",
        "    실행코드 4"
      ]
    },
    {
      "cell_type": "markdown",
      "metadata": {
        "id": "EN8lf7Hgwmu0"
      },
      "source": [
        "\t문제 13번을 다시 수행하는데 같은 숫자가 2개가 들어오면 '서로 같습니다'라는 메세지가 출력되게 하시오\n",
        "\t\n",
        "\n",
        "```\n",
        "first =int(input('첫번째 숫자를 입력하세요'))\n",
        "second = int(input('두번째 숫자를 입력하세요')) \n",
        "\t\n",
        "if first > second:\n",
        "    print(first,'는',second,'보다 큽습니다.')\n",
        "elif first == second:\n",
        "    print(first, '은 ', second ,'와 같습니다.')\n",
        "else:   \n",
        "    print(first,'은',second,'보다 작습니다.')\n",
        "```\n",
        "\n",
        "\n"
      ]
    },
    {
      "cell_type": "markdown",
      "metadata": {
        "id": "1b2AOxXnwx6a"
      },
      "source": [
        "for문 개념 배우기1 (for)\n",
        "\t\n",
        "\tEx) \n",
        "\tfor 변수 in 범위:\n",
        "\t\t반복적으로 실행할 코드\n",
        "\t\n",
        "\t1. 리스트 범위인 경우\n",
        "\tfor i in [1,2,3]:\n",
        "\t   print(i)\n",
        "\t\n",
        "\t2. 튜플 범위인 경우\n",
        "\tfor i in (1,2,3):\n",
        "\t    print(i)\n",
        "\t\n",
        "\t3. range() 범위인 경우\n",
        "\tfor i in range(10):\n",
        "\t    print(i)           # 0번부터 10개의 숫자를 출력 = 0 ~ 9\n",
        "\t\n",
        "\t4. dictionary 범위인 경우         키     값\n",
        "\tm = {'i': '나는', 'am':'입니다', 'boy':'소년' }\n",
        "\tfor i in m:\n",
        "\t    print(i)\n",
        "\t\n",
        "\t5. str 범위인 경우\n",
        "\tfor i in 'i am a boy':\n",
        "\t    print(i)\n",
        "\t\n",
        "\t• For 루프 (loop)문의 range 사용법 정리\n",
        "\tfor i in range(6):\n",
        "\t    print(i)     # 0부터 5까지 출력한다.\n",
        "\tfor i in range(1,6):\n",
        "\t    print(i)     # 1부터 5까지 출력된다.\n",
        "\tfor i in  range(1, 6, 2):\n",
        "\t    print(i)          # 1, 3, 5를 출력한다.\n",
        "\tfor i in range(6,1,-1):\n",
        "\t    print(i)      #6부터 1씩 차감해서 2까지 출력한다.\n"
      ]
    },
    {
      "cell_type": "markdown",
      "metadata": {
        "id": "WtLa-qp-w-gZ"
      },
      "source": [
        "\t 문제 14. ★을 5개 출력하시오\n",
        "\n",
        "\n",
        "```\n",
        "print('★'*5)\n",
        "```\n",
        "\n"
      ]
    },
    {
      "cell_type": "markdown",
      "metadata": {
        "id": "YzIykXKHxNhf"
      },
      "source": [
        "\t문제 15.(알고리즘 5번문제) 아래와 같은 결과가 출력되는 파이썬 코드를 작성하시오\n",
        "\n",
        "\t숫자를 입력하세요~ 4\n",
        "\t★\n",
        "\t★★\n",
        "\t★★★\n",
        "\t★★★★\n",
        "\n",
        "\n",
        "```\n",
        "a = int(input('숫자를 입력하세요'))\n",
        "for i in range(a+1):\n",
        "    print('★'*i)    \n",
        "\n",
        "```\n",
        "\n"
      ]
    },
    {
      "cell_type": "markdown",
      "metadata": {
        "id": "2nyTjbgUxYxH"
      },
      "source": [
        "\t문제16. 주사위를 10번 던져서 출력되는 눈을 확인하세요\n",
        "\n",
        "\n",
        "```\n",
        "import random \n",
        "\t\n",
        "dise=[1,2,3,4,5,6]\n",
        "for i in range(11):\n",
        "    print(random.choice(dise))\n",
        "```\n",
        "\n",
        "\t 문제17. 동전 10번을 던지시오\n",
        "\n",
        "\n",
        "```\n",
        "import random \n",
        "\t\n",
        "coin=['앞면', '뒷면']\n",
        "for i in range(1,11):\n",
        "    print(random.choice(coin))\n",
        "```\n",
        "\n"
      ]
    },
    {
      "cell_type": "markdown",
      "metadata": {
        "id": "y7GIHGNYxqgD"
      },
      "source": [
        "\t문제 18. 동전을 10번 던졌을때 앞면이 나오는 횟수가 어떻게 되는가?\n",
        "\n",
        "\n",
        "```\n",
        "import random \n",
        "\t\n",
        "coin=['앞면', '뒷면']\n",
        "cnt = 0 # cnt라는 변수에 0을 할당한다.\n",
        "\t\n",
        "for i in range(1,11): # 1부터 10까지 루프문을 10번 실행된다.\n",
        "    result = random.choice(coin) # 동전 던진 결과를 result 변수를 할당한다\n",
        "    if result == '앞면':\n",
        "        cnt = cnt +1 # 할당연산자는 오른쪽 부터 실행하고 실행한 결과를 왼쪽 변수에 할당해준다.\n",
        "\t\n",
        "print(cnt) # for 문의 실행문이 아닌 for문과 위치를 맞춰서 같은 라인에 prin(cnt)쓰면 for문이 다 완료되면\n",
        "           # print(cnt)가 수행됩니다.\n",
        "\n",
        "```\n",
        "\n"
      ]
    },
    {
      "cell_type": "markdown",
      "metadata": {
        "id": "n9bRXMdMx8a2"
      },
      "source": [
        "\t문제 19. 주사위를 100번 던져서 주사위의 눈이 3이 나오는 횟수를 출력하시오\n",
        "\n",
        "\n",
        "```\n",
        "import random\n",
        "\n",
        "dice=[1,2,3,4,5,6]\n",
        "cnt = 0\n",
        "\t\n",
        "for i in range(1, 101):\n",
        "    result = random.choice(dice)\n",
        "    if result == 3:\n",
        "        cnt = cnt +1\n",
        "\n",
        "prin(cnt)\n",
        "```\n",
        "\n",
        "\t문제 20. 주사위를 1000번 던지고 주사위의 눈이 5가 나올 확률을 구하시오\n",
        "```\n",
        "  import random\n",
        "\tdice = [1,2,3,4,5,6]\n",
        "\tcnt = 0\n",
        "\t\n",
        "\tfor i in range(1,1001):\n",
        "\t    result = random.choice(dice)\n",
        "\t    if result == 5:\n",
        "\t        cnt = cnt + 1\n",
        "\t\n",
        "\tprint(cnt/1000)\n",
        "```\n",
        "    문제 21. 동전을 10000번 던져서 앞면이 나올 확률을 구하시오\n",
        "\n",
        "```\n",
        "import random\n",
        "\t\n",
        "coin = ('앞면', '뒷면')\n",
        "cnt = 0\n",
        "\t\n",
        "for i in range(10000):\n",
        "    result = random.choice(coin)\n",
        "    if result == '앞면':\n",
        "        cnt = cnt +1\n",
        "\t        \n",
        "print(cnt/10000)\n",
        "\n",
        "```\n",
        "\t► 문제 22. (SQL 알고리즘 13번) \n",
        "\t\t     주사위 하나와 동전 한개를 동시에 던져서 주사위의 눈은 5가 나오고 \n",
        "\t\t     동전은 앞면이 나올 확률은 어떻게 되는가?\n",
        "\n",
        "```\n",
        "import random  # 랜덤 패키지 실행\n",
        "\n",
        "coin = ('앞면', '뒷면') # 동전의 경우의 수\n",
        "dice = (1,2,3,4,5,6)  # 주사위의 경우의 수\n",
        "\n",
        "cnt = 0  # 총계의 초기값 설정\n",
        "\n",
        "for i in range(1, 100001):\n",
        "    result_c = random.choice(coin) # 동전과 주사위의 랜덤함수 진행\n",
        "    result_d = random.choice(dice)\n",
        "    if result_c == '앞면' and result_d == 5: # 동전이 앞면이 나오고 주사위가 5가 되었을 시\n",
        "            cnt = cnt +1  # 총계에 1을 더함\n",
        "print(cnt/100000) # 총 나온 결과값에 시행횟수를 나눔\n",
        "```\n",
        " \n"
      ]
    }
  ]
}