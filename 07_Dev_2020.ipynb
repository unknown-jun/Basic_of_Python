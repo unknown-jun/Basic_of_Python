{
  "nbformat": 4,
  "nbformat_minor": 0,
  "metadata": {
    "colab": {
      "name": "07_Dev_2020.ipynb",
      "provenance": [],
      "authorship_tag": "ABX9TyPee10IDhTnXcIGQRv8FoAU",
      "include_colab_link": true
    },
    "kernelspec": {
      "name": "python3",
      "display_name": "Python 3"
    }
  },
  "cells": [
    {
      "cell_type": "markdown",
      "metadata": {
        "id": "view-in-github",
        "colab_type": "text"
      },
      "source": [
        "<a href=\"https://colab.research.google.com/github/unknown-jun/Basic_of_Python/blob/master/07_Dev_2020.ipynb\" target=\"_parent\"><img src=\"https://colab.research.google.com/assets/colab-badge.svg\" alt=\"Open In Colab\"/></a>"
      ]
    },
    {
      "cell_type": "code",
      "metadata": {
        "id": "pmloUnL5rKRF"
      },
      "source": [
        "import pandas as pd\n",
        "import numpy as np\n",
        "import random"
      ],
      "execution_count": null,
      "outputs": []
    },
    {
      "cell_type": "code",
      "metadata": {
        "colab": {
          "resources": {
            "http://localhost:8080/nbextensions/google.colab/files.js": {
              "data": "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",
              "ok": true,
              "headers": [
                [
                  "content-type",
                  "application/javascript"
                ]
              ],
              "status": 200,
              "status_text": ""
            }
          },
          "base_uri": "https://localhost:8080/",
          "height": 72
        },
        "id": "7H576c0oqtN-",
        "outputId": "195d09b9-bd88-4a1d-bbf7-c1378d999439"
      },
      "source": [
        "from google.colab import files\n",
        "files = files.upload()"
      ],
      "execution_count": null,
      "outputs": [
        {
          "output_type": "display_data",
          "data": {
            "text/html": [
              "\n",
              "     <input type=\"file\" id=\"files-7ea331fc-e2cb-417e-b34d-2567b2ff8d45\" name=\"files[]\" multiple disabled\n",
              "        style=\"border:none\" />\n",
              "     <output id=\"result-7ea331fc-e2cb-417e-b34d-2567b2ff8d45\">\n",
              "      Upload widget is only available when the cell has been executed in the\n",
              "      current browser session. Please rerun this cell to enable.\n",
              "      </output>\n",
              "      <script src=\"/nbextensions/google.colab/files.js\"></script> "
            ],
            "text/plain": [
              "<IPython.core.display.HTML object>"
            ]
          },
          "metadata": {
            "tags": []
          }
        },
        {
          "output_type": "stream",
          "text": [
            "Saving emp3.csv to emp3.csv\n"
          ],
          "name": "stdout"
        }
      ]
    },
    {
      "cell_type": "markdown",
      "metadata": {
        "id": "6GxOmr4crRls"
      },
      "source": [
        "# 지난주의 복습\n",
        "\n",
        "1. 파이썬의 자료형 5가지\n",
        "2. 파이썬 연산자\n",
        "3. if문\n",
        "4. loop문\n",
        "5. 문자열에서 특정 위치의 철자 검색, 슬라이싱 검색\n",
        "6. 파이썬으로 함수 생성하기\n",
        "7. 파이썬으로 class 생성하기\n",
        "8. 파이썬의 예외처리\n",
        "9. 판다스 사용법\n",
        "\n",
        "- 클래스를 왜 사용하는지?\n",
        "(객체 지향 언어의 장점이 무엇인지?)\n",
        "> 상속을 사용할 수 있기 때문에\n",
        "\n",
        "- 상속을 사용했을 때의 장점은?\n",
        "> 부모 클래스가 작성한 기능(메소드)을 코딩하지 않아도 됨  \n",
        "중요한 기능은 부모 클래스를 작성하는 팀장님이 구현하고 팀원은 그 중요기능을 그대로 상속받고 팀장님이 시킨 상세코드에 집중할수 있기 때문\n"
      ]
    },
    {
      "cell_type": "markdown",
      "metadata": {
        "id": "qplxkOJcuEGg"
      },
      "source": [
        "# 판다스로 조인 복습\n",
        "- 판다스로 조인(join)을 하기 위해서는 merge를 사용하면 가능\n",
        "~~~\n",
        "문법: pandas.merger( emp, dept, how = 'inner', on = 'deptno' )  \n",
        "옵션:   \n",
        "***how ='inner'**:  emp와 dept 데이터프레임에 공통적으로 존재하는 교집합일 경우에만 추출하겠다.  \n",
        "***how = 'outer'**:  열의 데이터가 양쪽 데이터 프레임에 공통적으로 존재하는 교집합이 아니어도 추출하겠다.  \n",
        "***how = 'left'**:  왼쪽 데이터 프레임의 키열에 속하는 데이터 값을 기준으로 병합하겠다.  \n",
        "***how = 'right'**:  오른쪽 데이터 프레임의 키열에 속하는 데이터 값을 기준으로 병합하겠다."
      ]
    },
    {
      "cell_type": "code",
      "metadata": {
        "colab": {
          "resources": {
            "http://localhost:8080/nbextensions/google.colab/files.js": {
              "data": "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",
              "ok": true,
              "headers": [
                [
                  "content-type",
                  "application/javascript"
                ]
              ],
              "status": 200,
              "status_text": ""
            }
          },
          "base_uri": "https://localhost:8080/",
          "height": 72
        },
        "id": "2NBQzLfivIkL",
        "outputId": "326df92f-84a8-4056-c3e1-56302cfa65c9"
      },
      "source": [
        "from google.colab import files\n",
        "files = files.upload()"
      ],
      "execution_count": null,
      "outputs": [
        {
          "output_type": "display_data",
          "data": {
            "text/html": [
              "\n",
              "     <input type=\"file\" id=\"files-6e76ebda-6bbe-419f-bd4c-271b7a2534c1\" name=\"files[]\" multiple disabled\n",
              "        style=\"border:none\" />\n",
              "     <output id=\"result-6e76ebda-6bbe-419f-bd4c-271b7a2534c1\">\n",
              "      Upload widget is only available when the cell has been executed in the\n",
              "      current browser session. Please rerun this cell to enable.\n",
              "      </output>\n",
              "      <script src=\"/nbextensions/google.colab/files.js\"></script> "
            ],
            "text/plain": [
              "<IPython.core.display.HTML object>"
            ]
          },
          "metadata": {
            "tags": []
          }
        },
        {
          "output_type": "stream",
          "text": [
            "Saving dept3.csv to dept3.csv\n"
          ],
          "name": "stdout"
        }
      ]
    },
    {
      "cell_type": "markdown",
      "metadata": {
        "id": "XAr4nlIpvx5i"
      },
      "source": [
        "```\n",
        "> SQL\n",
        "select e.ename, d.loc\n",
        "    from emp e, dept d\n",
        "    where e.deptno = d.deptno\n",
        "```"
      ]
    },
    {
      "cell_type": "code",
      "metadata": {
        "colab": {
          "base_uri": "https://localhost:8080/",
          "height": 483
        },
        "id": "7H375AiNveF-",
        "outputId": "9f9d789e-2428-4108-f8e8-2d562fef3fd6"
      },
      "source": [
        "emp = pd.read_csv('emp3.csv')\n",
        "dept = pd.read_csv('dept3.csv')\n",
        "result = pd.merge( emp, dept, on = 'deptno', how = 'left')\n",
        "result[['ename', 'loc']]"
      ],
      "execution_count": null,
      "outputs": [
        {
          "output_type": "execute_result",
          "data": {
            "text/html": [
              "<div>\n",
              "<style scoped>\n",
              "    .dataframe tbody tr th:only-of-type {\n",
              "        vertical-align: middle;\n",
              "    }\n",
              "\n",
              "    .dataframe tbody tr th {\n",
              "        vertical-align: top;\n",
              "    }\n",
              "\n",
              "    .dataframe thead th {\n",
              "        text-align: right;\n",
              "    }\n",
              "</style>\n",
              "<table border=\"1\" class=\"dataframe\">\n",
              "  <thead>\n",
              "    <tr style=\"text-align: right;\">\n",
              "      <th></th>\n",
              "      <th>ename</th>\n",
              "      <th>loc</th>\n",
              "    </tr>\n",
              "  </thead>\n",
              "  <tbody>\n",
              "    <tr>\n",
              "      <th>0</th>\n",
              "      <td>KING</td>\n",
              "      <td>NEW YORK</td>\n",
              "    </tr>\n",
              "    <tr>\n",
              "      <th>1</th>\n",
              "      <td>BLAKE</td>\n",
              "      <td>CHICAGO</td>\n",
              "    </tr>\n",
              "    <tr>\n",
              "      <th>2</th>\n",
              "      <td>CLARK</td>\n",
              "      <td>NEW YORK</td>\n",
              "    </tr>\n",
              "    <tr>\n",
              "      <th>3</th>\n",
              "      <td>JONES</td>\n",
              "      <td>DALLAS</td>\n",
              "    </tr>\n",
              "    <tr>\n",
              "      <th>4</th>\n",
              "      <td>MARTIN</td>\n",
              "      <td>CHICAGO</td>\n",
              "    </tr>\n",
              "    <tr>\n",
              "      <th>5</th>\n",
              "      <td>ALLEN</td>\n",
              "      <td>CHICAGO</td>\n",
              "    </tr>\n",
              "    <tr>\n",
              "      <th>6</th>\n",
              "      <td>TURNER</td>\n",
              "      <td>CHICAGO</td>\n",
              "    </tr>\n",
              "    <tr>\n",
              "      <th>7</th>\n",
              "      <td>JAMES</td>\n",
              "      <td>CHICAGO</td>\n",
              "    </tr>\n",
              "    <tr>\n",
              "      <th>8</th>\n",
              "      <td>WARD</td>\n",
              "      <td>CHICAGO</td>\n",
              "    </tr>\n",
              "    <tr>\n",
              "      <th>9</th>\n",
              "      <td>FORD</td>\n",
              "      <td>DALLAS</td>\n",
              "    </tr>\n",
              "    <tr>\n",
              "      <th>10</th>\n",
              "      <td>SMITH</td>\n",
              "      <td>DALLAS</td>\n",
              "    </tr>\n",
              "    <tr>\n",
              "      <th>11</th>\n",
              "      <td>SCOTT</td>\n",
              "      <td>DALLAS</td>\n",
              "    </tr>\n",
              "    <tr>\n",
              "      <th>12</th>\n",
              "      <td>ADAMS</td>\n",
              "      <td>DALLAS</td>\n",
              "    </tr>\n",
              "    <tr>\n",
              "      <th>13</th>\n",
              "      <td>MILLER</td>\n",
              "      <td>NEW YORK</td>\n",
              "    </tr>\n",
              "  </tbody>\n",
              "</table>\n",
              "</div>"
            ],
            "text/plain": [
              "     ename       loc\n",
              "0     KING  NEW YORK\n",
              "1    BLAKE   CHICAGO\n",
              "2    CLARK  NEW YORK\n",
              "3    JONES    DALLAS\n",
              "4   MARTIN   CHICAGO\n",
              "5    ALLEN   CHICAGO\n",
              "6   TURNER   CHICAGO\n",
              "7    JAMES   CHICAGO\n",
              "8     WARD   CHICAGO\n",
              "9     FORD    DALLAS\n",
              "10   SMITH    DALLAS\n",
              "11   SCOTT    DALLAS\n",
              "12   ADAMS    DALLAS\n",
              "13  MILLER  NEW YORK"
            ]
          },
          "metadata": {
            "tags": []
          },
          "execution_count": 11
        }
      ]
    },
    {
      "cell_type": "markdown",
      "metadata": {
        "id": "PreLZboEv8Mb"
      },
      "source": [
        "**문제 221. 부서번호, 부서번호 별 평균 월급을 출력하시오**\n",
        "~~~\n",
        "SQL>\n",
        "select deptno, avg(sal)\n",
        "    from emp\n",
        "    group by deptno\n",
        "~~~"
      ]
    },
    {
      "cell_type": "code",
      "metadata": {
        "colab": {
          "base_uri": "https://localhost:8080/",
          "height": 142
        },
        "id": "Nlvi1jTDv78J",
        "outputId": "effdc816-b138-49f3-c156-e8ad89c86b17"
      },
      "source": [
        "result =  emp.groupby('deptno')['sal'].mean().reset_index()\n",
        "result\n",
        "\"\"\"\n",
        "groupby 후에 reset_index()를 쓰지 않으면 Series 타입이기에 수정하기가 번거로움\n",
        "groupby 부터 시작해서 reset_index()를 한 세트로 외워 항상 같이 사용하자\n",
        "\"\"\""
      ],
      "execution_count": null,
      "outputs": [
        {
          "output_type": "execute_result",
          "data": {
            "text/html": [
              "<div>\n",
              "<style scoped>\n",
              "    .dataframe tbody tr th:only-of-type {\n",
              "        vertical-align: middle;\n",
              "    }\n",
              "\n",
              "    .dataframe tbody tr th {\n",
              "        vertical-align: top;\n",
              "    }\n",
              "\n",
              "    .dataframe thead th {\n",
              "        text-align: right;\n",
              "    }\n",
              "</style>\n",
              "<table border=\"1\" class=\"dataframe\">\n",
              "  <thead>\n",
              "    <tr style=\"text-align: right;\">\n",
              "      <th></th>\n",
              "      <th>deptno</th>\n",
              "      <th>sal</th>\n",
              "    </tr>\n",
              "  </thead>\n",
              "  <tbody>\n",
              "    <tr>\n",
              "      <th>0</th>\n",
              "      <td>10</td>\n",
              "      <td>2916.666667</td>\n",
              "    </tr>\n",
              "    <tr>\n",
              "      <th>1</th>\n",
              "      <td>20</td>\n",
              "      <td>2175.000000</td>\n",
              "    </tr>\n",
              "    <tr>\n",
              "      <th>2</th>\n",
              "      <td>30</td>\n",
              "      <td>1566.666667</td>\n",
              "    </tr>\n",
              "  </tbody>\n",
              "</table>\n",
              "</div>"
            ],
            "text/plain": [
              "   deptno          sal\n",
              "0      10  2916.666667\n",
              "1      20  2175.000000\n",
              "2      30  1566.666667"
            ]
          },
          "metadata": {
            "tags": []
          },
          "execution_count": 20
        }
      ]
    },
    {
      "cell_type": "markdown",
      "metadata": {
        "id": "TwF-aObexVBV"
      },
      "source": [
        "**문제 222. 위의 결와에서 평균월급을 출력할 때 정수부분만 출력해라 (소수점 이전까지만 출력)**"
      ]
    },
    {
      "cell_type": "code",
      "metadata": {
        "colab": {
          "base_uri": "https://localhost:8080/",
          "height": 142
        },
        "id": "T6MQOKLjvupI",
        "outputId": "c9ad2af7-fc66-4b5c-8f86-688d90a1df6d"
      },
      "source": [
        "result = emp.groupby('deptno')['sal'].mean().reset_index().astype(int)\n",
        "result\n",
        "# astype(int)는 출력되는 데이터에서 정수형으로 변환해라 라는 뜻"
      ],
      "execution_count": null,
      "outputs": [
        {
          "output_type": "execute_result",
          "data": {
            "text/html": [
              "<div>\n",
              "<style scoped>\n",
              "    .dataframe tbody tr th:only-of-type {\n",
              "        vertical-align: middle;\n",
              "    }\n",
              "\n",
              "    .dataframe tbody tr th {\n",
              "        vertical-align: top;\n",
              "    }\n",
              "\n",
              "    .dataframe thead th {\n",
              "        text-align: right;\n",
              "    }\n",
              "</style>\n",
              "<table border=\"1\" class=\"dataframe\">\n",
              "  <thead>\n",
              "    <tr style=\"text-align: right;\">\n",
              "      <th></th>\n",
              "      <th>deptno</th>\n",
              "      <th>sal</th>\n",
              "    </tr>\n",
              "  </thead>\n",
              "  <tbody>\n",
              "    <tr>\n",
              "      <th>0</th>\n",
              "      <td>10</td>\n",
              "      <td>2916</td>\n",
              "    </tr>\n",
              "    <tr>\n",
              "      <th>1</th>\n",
              "      <td>20</td>\n",
              "      <td>2175</td>\n",
              "    </tr>\n",
              "    <tr>\n",
              "      <th>2</th>\n",
              "      <td>30</td>\n",
              "      <td>1566</td>\n",
              "    </tr>\n",
              "  </tbody>\n",
              "</table>\n",
              "</div>"
            ],
            "text/plain": [
              "   deptno   sal\n",
              "0      10  2916\n",
              "1      20  2175\n",
              "2      30  1566"
            ]
          },
          "metadata": {
            "tags": []
          },
          "execution_count": 22
        }
      ]
    },
    {
      "cell_type": "markdown",
      "metadata": {
        "id": "-m8q6kpxyErU"
      },
      "source": [
        "**문제 223. 직업과 직업별 토탈월급을 출력하시오**\n",
        "~~~\n",
        "select job, sum( sal )\n",
        "    from emp\n",
        "    group by job;\n",
        "~~~\n"
      ]
    },
    {
      "cell_type": "code",
      "metadata": {
        "colab": {
          "base_uri": "https://localhost:8080/",
          "height": 204
        },
        "id": "40dGamd1yIwn",
        "outputId": "db9e952b-5bde-45c6-823e-602930773f23"
      },
      "source": [
        "result = emp.groupby('job')['sal'].sum().reset_index()\n",
        "result"
      ],
      "execution_count": null,
      "outputs": [
        {
          "output_type": "execute_result",
          "data": {
            "text/html": [
              "<div>\n",
              "<style scoped>\n",
              "    .dataframe tbody tr th:only-of-type {\n",
              "        vertical-align: middle;\n",
              "    }\n",
              "\n",
              "    .dataframe tbody tr th {\n",
              "        vertical-align: top;\n",
              "    }\n",
              "\n",
              "    .dataframe thead th {\n",
              "        text-align: right;\n",
              "    }\n",
              "</style>\n",
              "<table border=\"1\" class=\"dataframe\">\n",
              "  <thead>\n",
              "    <tr style=\"text-align: right;\">\n",
              "      <th></th>\n",
              "      <th>job</th>\n",
              "      <th>sal</th>\n",
              "    </tr>\n",
              "  </thead>\n",
              "  <tbody>\n",
              "    <tr>\n",
              "      <th>0</th>\n",
              "      <td>ANALYST</td>\n",
              "      <td>6000</td>\n",
              "    </tr>\n",
              "    <tr>\n",
              "      <th>1</th>\n",
              "      <td>CLERK</td>\n",
              "      <td>4150</td>\n",
              "    </tr>\n",
              "    <tr>\n",
              "      <th>2</th>\n",
              "      <td>MANAGER</td>\n",
              "      <td>8275</td>\n",
              "    </tr>\n",
              "    <tr>\n",
              "      <th>3</th>\n",
              "      <td>PRESIDENT</td>\n",
              "      <td>5000</td>\n",
              "    </tr>\n",
              "    <tr>\n",
              "      <th>4</th>\n",
              "      <td>SALESMAN</td>\n",
              "      <td>5600</td>\n",
              "    </tr>\n",
              "  </tbody>\n",
              "</table>\n",
              "</div>"
            ],
            "text/plain": [
              "         job   sal\n",
              "0    ANALYST  6000\n",
              "1      CLERK  4150\n",
              "2    MANAGER  8275\n",
              "3  PRESIDENT  5000\n",
              "4   SALESMAN  5600"
            ]
          },
          "metadata": {
            "tags": []
          },
          "execution_count": 23
        }
      ]
    },
    {
      "cell_type": "markdown",
      "metadata": {
        "id": "7roOpVJpy6zf"
      },
      "source": [
        "**문제 224. 부서위치, 부서위치별 토탈월급을 출력하시오**\n",
        "```\n",
        "select d.loc, sum( e.sal )\n",
        "    from emp e, dept d\n",
        "    where d.deptno = e.deptno;\n",
        "```"
      ]
    },
    {
      "cell_type": "code",
      "metadata": {
        "colab": {
          "base_uri": "https://localhost:8080/",
          "height": 142
        },
        "id": "pHbeQRy4y-t-",
        "outputId": "84d9fb5e-89ff-4799-8737-b491aa563d9f"
      },
      "source": [
        "result = pd.merge( emp, dept, on='deptno')\n",
        "sum_sal = result.groupby('loc')['sal'].sum().reset_index()\n",
        "sum_sal"
      ],
      "execution_count": null,
      "outputs": [
        {
          "output_type": "execute_result",
          "data": {
            "text/html": [
              "<div>\n",
              "<style scoped>\n",
              "    .dataframe tbody tr th:only-of-type {\n",
              "        vertical-align: middle;\n",
              "    }\n",
              "\n",
              "    .dataframe tbody tr th {\n",
              "        vertical-align: top;\n",
              "    }\n",
              "\n",
              "    .dataframe thead th {\n",
              "        text-align: right;\n",
              "    }\n",
              "</style>\n",
              "<table border=\"1\" class=\"dataframe\">\n",
              "  <thead>\n",
              "    <tr style=\"text-align: right;\">\n",
              "      <th></th>\n",
              "      <th>loc</th>\n",
              "      <th>sal</th>\n",
              "    </tr>\n",
              "  </thead>\n",
              "  <tbody>\n",
              "    <tr>\n",
              "      <th>0</th>\n",
              "      <td>CHICAGO</td>\n",
              "      <td>9400</td>\n",
              "    </tr>\n",
              "    <tr>\n",
              "      <th>1</th>\n",
              "      <td>DALLAS</td>\n",
              "      <td>10875</td>\n",
              "    </tr>\n",
              "    <tr>\n",
              "      <th>2</th>\n",
              "      <td>NEW YORK</td>\n",
              "      <td>8750</td>\n",
              "    </tr>\n",
              "  </tbody>\n",
              "</table>\n",
              "</div>"
            ],
            "text/plain": [
              "        loc    sal\n",
              "0   CHICAGO   9400\n",
              "1    DALLAS  10875\n",
              "2  NEW YORK   8750"
            ]
          },
          "metadata": {
            "tags": []
          },
          "execution_count": 27
        }
      ]
    },
    {
      "cell_type": "markdown",
      "metadata": {
        "id": "3QEWuN5j0G29"
      },
      "source": [
        "**문제 225. 아래의 SQL을 판다스로 구현하시오**\n",
        "~~~\n",
        "SQL>\n",
        "select d.loc, nvl( sum( e.sal ), 0 )\n",
        "    from emp e, dept d\n",
        "    where d.deptno = e.deptno\n",
        "    group by d.loc;\n",
        "~~~"
      ]
    },
    {
      "cell_type": "code",
      "metadata": {
        "colab": {
          "base_uri": "https://localhost:8080/",
          "height": 173
        },
        "id": "kg2MXUDA0Z6E",
        "outputId": "b0bb6cc7-e15b-4901-da2e-7406b7af7cdd"
      },
      "source": [
        "result = pd.merge( emp, dept, how='right', on='deptno')\n",
        "sum_sal = result.groupby('loc')['sal'].sum().reset_index()\n",
        "sum_sal"
      ],
      "execution_count": null,
      "outputs": [
        {
          "output_type": "execute_result",
          "data": {
            "text/html": [
              "<div>\n",
              "<style scoped>\n",
              "    .dataframe tbody tr th:only-of-type {\n",
              "        vertical-align: middle;\n",
              "    }\n",
              "\n",
              "    .dataframe tbody tr th {\n",
              "        vertical-align: top;\n",
              "    }\n",
              "\n",
              "    .dataframe thead th {\n",
              "        text-align: right;\n",
              "    }\n",
              "</style>\n",
              "<table border=\"1\" class=\"dataframe\">\n",
              "  <thead>\n",
              "    <tr style=\"text-align: right;\">\n",
              "      <th></th>\n",
              "      <th>loc</th>\n",
              "      <th>sal</th>\n",
              "    </tr>\n",
              "  </thead>\n",
              "  <tbody>\n",
              "    <tr>\n",
              "      <th>0</th>\n",
              "      <td>BOSTON</td>\n",
              "      <td>0.0</td>\n",
              "    </tr>\n",
              "    <tr>\n",
              "      <th>1</th>\n",
              "      <td>CHICAGO</td>\n",
              "      <td>9400.0</td>\n",
              "    </tr>\n",
              "    <tr>\n",
              "      <th>2</th>\n",
              "      <td>DALLAS</td>\n",
              "      <td>10875.0</td>\n",
              "    </tr>\n",
              "    <tr>\n",
              "      <th>3</th>\n",
              "      <td>NEW YORK</td>\n",
              "      <td>8750.0</td>\n",
              "    </tr>\n",
              "  </tbody>\n",
              "</table>\n",
              "</div>"
            ],
            "text/plain": [
              "        loc      sal\n",
              "0    BOSTON      0.0\n",
              "1   CHICAGO   9400.0\n",
              "2    DALLAS  10875.0\n",
              "3  NEW YORK   8750.0"
            ]
          },
          "metadata": {
            "tags": []
          },
          "execution_count": 28
        }
      ]
    },
    {
      "cell_type": "markdown",
      "metadata": {
        "id": "bTTSSBPd0oAS"
      },
      "source": [
        "**문제 226. 아래의 SQL을 판다스로 구현하시오**\n",
        "~~~\n",
        "SQL>\n",
        "select deptno, count(*)\n",
        "    from emp\n",
        "    group by deptno;\n",
        "~~~"
      ]
    },
    {
      "cell_type": "code",
      "metadata": {
        "colab": {
          "base_uri": "https://localhost:8080/",
          "height": 142
        },
        "id": "SyEipMS20nfV",
        "outputId": "efec50e5-2bb0-4506-c19e-7f2c5af80d4d"
      },
      "source": [
        "merge_table = pd.merge( emp, dept, on='deptno')\n",
        "count_dept = merge_table.groupby('deptno')['empno'].count().reset_index()\n",
        "count_dept\n",
        "# 판다스에선 *이 없기 때문에 Null 값이 없는 컬럼인 empno로 맞춤"
      ],
      "execution_count": null,
      "outputs": [
        {
          "output_type": "execute_result",
          "data": {
            "text/html": [
              "<div>\n",
              "<style scoped>\n",
              "    .dataframe tbody tr th:only-of-type {\n",
              "        vertical-align: middle;\n",
              "    }\n",
              "\n",
              "    .dataframe tbody tr th {\n",
              "        vertical-align: top;\n",
              "    }\n",
              "\n",
              "    .dataframe thead th {\n",
              "        text-align: right;\n",
              "    }\n",
              "</style>\n",
              "<table border=\"1\" class=\"dataframe\">\n",
              "  <thead>\n",
              "    <tr style=\"text-align: right;\">\n",
              "      <th></th>\n",
              "      <th>deptno</th>\n",
              "      <th>empno</th>\n",
              "    </tr>\n",
              "  </thead>\n",
              "  <tbody>\n",
              "    <tr>\n",
              "      <th>0</th>\n",
              "      <td>10</td>\n",
              "      <td>3</td>\n",
              "    </tr>\n",
              "    <tr>\n",
              "      <th>1</th>\n",
              "      <td>20</td>\n",
              "      <td>5</td>\n",
              "    </tr>\n",
              "    <tr>\n",
              "      <th>2</th>\n",
              "      <td>30</td>\n",
              "      <td>6</td>\n",
              "    </tr>\n",
              "  </tbody>\n",
              "</table>\n",
              "</div>"
            ],
            "text/plain": [
              "   deptno  empno\n",
              "0      10      3\n",
              "1      20      5\n",
              "2      30      6"
            ]
          },
          "metadata": {
            "tags": []
          },
          "execution_count": 30
        }
      ]
    },
    {
      "cell_type": "markdown",
      "metadata": {
        "id": "xreRXn4m2IqB"
      },
      "source": [
        "**문제 227. emp122.csv를 내려받아 판다스 데이터 프레임으로 만드시오**"
      ]
    },
    {
      "cell_type": "code",
      "metadata": {
        "colab": {
          "resources": {
            "http://localhost:8080/nbextensions/google.colab/files.js": {
              "data": "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",
              "ok": true,
              "headers": [
                [
                  "content-type",
                  "application/javascript"
                ]
              ],
              "status": 200,
              "status_text": ""
            }
          },
          "base_uri": "https://localhost:8080/",
          "height": 72
        },
        "id": "KfzzdMjQ2OyX",
        "outputId": "86bf23e7-4b09-402a-b499-a73b1c0f2db9"
      },
      "source": [
        "from google.colab import files\n",
        "file = files.upload()"
      ],
      "execution_count": null,
      "outputs": [
        {
          "output_type": "display_data",
          "data": {
            "text/html": [
              "\n",
              "     <input type=\"file\" id=\"files-e8013cfd-14ee-4eae-8cc2-b421e65a27ac\" name=\"files[]\" multiple disabled\n",
              "        style=\"border:none\" />\n",
              "     <output id=\"result-e8013cfd-14ee-4eae-8cc2-b421e65a27ac\">\n",
              "      Upload widget is only available when the cell has been executed in the\n",
              "      current browser session. Please rerun this cell to enable.\n",
              "      </output>\n",
              "      <script src=\"/nbextensions/google.colab/files.js\"></script> "
            ],
            "text/plain": [
              "<IPython.core.display.HTML object>"
            ]
          },
          "metadata": {
            "tags": []
          }
        },
        {
          "output_type": "stream",
          "text": [
            "Saving emp122.csv to emp122.csv\n"
          ],
          "name": "stdout"
        }
      ]
    },
    {
      "cell_type": "code",
      "metadata": {
        "id": "9AZzz3ih2YNl"
      },
      "source": [
        "emp12 = pd.read_csv('emp122.csv')"
      ],
      "execution_count": null,
      "outputs": []
    },
    {
      "cell_type": "markdown",
      "metadata": {
        "id": "ulVm1GD72gak"
      },
      "source": [
        "**문제 228. 통신사, 통신사별 인원수를 출력하시오**"
      ]
    },
    {
      "cell_type": "code",
      "metadata": {
        "colab": {
          "base_uri": "https://localhost:8080/",
          "height": 142
        },
        "id": "AFeFDbNe2kzr",
        "outputId": "7f702a16-2a59-49b5-e1b9-3ce978a76b9f"
      },
      "source": [
        "result = emp12.groupby('TELECOM')['INDEX'].count().reset_index()\n",
        "result"
      ],
      "execution_count": null,
      "outputs": [
        {
          "output_type": "execute_result",
          "data": {
            "text/html": [
              "<div>\n",
              "<style scoped>\n",
              "    .dataframe tbody tr th:only-of-type {\n",
              "        vertical-align: middle;\n",
              "    }\n",
              "\n",
              "    .dataframe tbody tr th {\n",
              "        vertical-align: top;\n",
              "    }\n",
              "\n",
              "    .dataframe thead th {\n",
              "        text-align: right;\n",
              "    }\n",
              "</style>\n",
              "<table border=\"1\" class=\"dataframe\">\n",
              "  <thead>\n",
              "    <tr style=\"text-align: right;\">\n",
              "      <th></th>\n",
              "      <th>TELECOM</th>\n",
              "      <th>INDEX</th>\n",
              "    </tr>\n",
              "  </thead>\n",
              "  <tbody>\n",
              "    <tr>\n",
              "      <th>0</th>\n",
              "      <td>kt</td>\n",
              "      <td>15</td>\n",
              "    </tr>\n",
              "    <tr>\n",
              "      <th>1</th>\n",
              "      <td>lg</td>\n",
              "      <td>4</td>\n",
              "    </tr>\n",
              "    <tr>\n",
              "      <th>2</th>\n",
              "      <td>sk</td>\n",
              "      <td>11</td>\n",
              "    </tr>\n",
              "  </tbody>\n",
              "</table>\n",
              "</div>"
            ],
            "text/plain": [
              "  TELECOM  INDEX\n",
              "0      kt     15\n",
              "1      lg      4\n",
              "2      sk     11"
            ]
          },
          "metadata": {
            "tags": []
          },
          "execution_count": 41
        }
      ]
    },
    {
      "cell_type": "markdown",
      "metadata": {
        "id": "YWsA6Zyi3emf"
      },
      "source": [
        "**문제 229. 우리반 테이블에서 통신사가 KT이고 나이가 30살 이상인 학생들의 이름과 나이와 통신사를 출력하시오!**"
      ]
    },
    {
      "cell_type": "code",
      "metadata": {
        "colab": {
          "base_uri": "https://localhost:8080/",
          "height": 80
        },
        "id": "gbhCATrP3eR9",
        "outputId": "3c4a8587-402f-48aa-a44f-98cfb4e09a3b"
      },
      "source": [
        "search = emp12[['ENAME', 'AGE', 'TELECOM']][ (emp12['TELECOM'] == 'kt') & (emp12['AGE'] >= 30) ]\n",
        "\"\"\"\n",
        "and는 판다스에서 &이고 or은 판다스에서 |\n",
        "그리고 &, |를 사용할 때는 양족 조건에 소괄호를 둘러줘야함\n",
        "\"\"\"\n",
        "search"
      ],
      "execution_count": null,
      "outputs": [
        {
          "output_type": "execute_result",
          "data": {
            "text/html": [
              "<div>\n",
              "<style scoped>\n",
              "    .dataframe tbody tr th:only-of-type {\n",
              "        vertical-align: middle;\n",
              "    }\n",
              "\n",
              "    .dataframe tbody tr th {\n",
              "        vertical-align: top;\n",
              "    }\n",
              "\n",
              "    .dataframe thead th {\n",
              "        text-align: right;\n",
              "    }\n",
              "</style>\n",
              "<table border=\"1\" class=\"dataframe\">\n",
              "  <thead>\n",
              "    <tr style=\"text-align: right;\">\n",
              "      <th></th>\n",
              "      <th>ENAME</th>\n",
              "      <th>AGE</th>\n",
              "      <th>TELECOM</th>\n",
              "    </tr>\n",
              "  </thead>\n",
              "  <tbody>\n",
              "    <tr>\n",
              "      <th>1</th>\n",
              "      <td>한결</td>\n",
              "      <td>31</td>\n",
              "      <td>kt</td>\n",
              "    </tr>\n",
              "  </tbody>\n",
              "</table>\n",
              "</div>"
            ],
            "text/plain": [
              "  ENAME  AGE TELECOM\n",
              "1    한결   31      kt"
            ]
          },
          "metadata": {
            "tags": []
          },
          "execution_count": 55
        }
      ]
    },
    {
      "cell_type": "markdown",
      "metadata": {
        "id": "878cSjV-_-v8"
      },
      "source": [
        "#68. 반올림수 구하기(round)\n",
        "- 파이썬 내장함수 round()는 인자로 입력된 숫자형 자리수에서 반올림한 결과를 리턴함\n"
      ]
    },
    {
      "cell_type": "code",
      "metadata": {
        "colab": {
          "base_uri": "https://localhost:8080/"
        },
        "id": "FTxIG6nqARib",
        "outputId": "66db8e1f-f7bf-44c4-8599-a97ae000065b"
      },
      "source": [
        "# 예제\n",
        "print( round(16.554) )     # 소수점 첫번째 자리에서 반올림\n",
        "print( round(16.554, 0) )  # 소수점 첫번째 자리에서 반올림(하지만 float)\n",
        "print( round(16.554, 1) )  # 소수점 두번째 자리에서 반올림 (16.6)\n",
        "print( round(16.554, 2) )  # 소수점 세번째 자리에서 반올림 (16.55)"
      ],
      "execution_count": null,
      "outputs": [
        {
          "output_type": "stream",
          "text": [
            "17\n",
            "17.0\n",
            "16.6\n",
            "16.55\n"
          ],
          "name": "stdout"
        }
      ]
    },
    {
      "cell_type": "markdown",
      "metadata": {
        "id": "0QIV9qHIA0y7"
      },
      "source": [
        "- 파이썬에서 반올림할 때 중요하게 알아야 할 내용"
      ]
    },
    {
      "cell_type": "code",
      "metadata": {
        "colab": {
          "base_uri": "https://localhost:8080/"
        },
        "id": "ZOt93mmBAyA7",
        "outputId": "2ed3add0-7729-4f2b-a280-9b5a45e274be"
      },
      "source": [
        "round(142.5) # 143으로 예상이 되는데 142가 나옴"
      ],
      "execution_count": null,
      "outputs": [
        {
          "output_type": "execute_result",
          "data": {
            "text/plain": [
              "142"
            ]
          },
          "metadata": {
            "tags": []
          },
          "execution_count": 59
        }
      ]
    },
    {
      "cell_type": "markdown",
      "metadata": {
        "id": "7IwnsjMGBDvo"
      },
      "source": [
        "\"R과 파이썬은 짝수를 선호함\"  \n",
        "142.5 ---> 142  \n",
        "187.5 ---> 188  \n",
        "  \n",
        "파이썬은 기본적으로 이것을 해결하는 함수가 없음  \n",
        "0.5일때 짝수를 좋아하게끔 반올림되고 0.51일 때는 그냥 반올림"
      ]
    },
    {
      "cell_type": "markdown",
      "metadata": {
        "id": "-wrOSBYkEHP-"
      },
      "source": [
        "```\n",
        "# 예제 판다스를 이용하지 않고 파이썬으로만 emp3.csv에서 이름과 월급을 출력하시오\n",
        "import csv\n",
        "\n",
        "file = open(\"/Users/LeeJunhyeok/Downloads/emp2.csv\")  # os에 있는 emp2.csv 읽어서 file 이라는 변수에 넣는다.\n",
        "emp_csv = csv.reader(file)   # file 변수에 있는 csv 파일을 읽어서 emp_csv 변수에 넣는다.\n",
        "print( emp_csv )             # 이 상테에서 그냥 프린트 하면 메모리가 주소만 나옴\n",
        "\n",
        "for emp_list in emp_csv:\n",
        "    print(emp_list[1], emp_list[5])\n",
        "```\n",
        "\n",
        "![Screen Shot 2020-12-07 at 11.39.26 AM.png](data:image/png;base64,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)"
      ]
    },
    {
      "cell_type": "markdown",
      "metadata": {
        "id": "vI7-68EIEKb3"
      },
      "source": [
        "**문제 230. 판다스를 이용하지 말고 이름과 월급 X 12.3를 출력하시오**"
      ]
    },
    {
      "cell_type": "markdown",
      "metadata": {
        "id": "4275YvBgJkhG"
      },
      "source": [
        "~~~\n",
        "import csv\n",
        "\n",
        "file = open(\"/Users/LeeJunhyeok/Downloads/emp2.csv\")  # os에 있는 emp2.csv 읽어서 file 이라는 변수에 넣는다.\n",
        "emp_csv = csv.reader(file)   # file 변수에 있는 csv 파일을 읽어서 emp_csv 변수에 넣는다.\n",
        "print( emp_csv )             # 이 상테에서 그냥 프린트 하면 메모리가 주소만 나옴\n",
        "\n",
        "for emp_list in emp_csv:\n",
        "    print(emp_list[1], int(emp_list[5])*12.3)\n",
        "~~~"
      ]
    },
    {
      "cell_type": "markdown",
      "metadata": {
        "id": "GHKda9x9Jxd6"
      },
      "source": [
        "**문제 231. 위의 문제에서 월급을 반올림 하시오**\n",
        "```\n",
        "import csv\n",
        "\n",
        "file = open(\"/Users/LeeJunhyeok/Downloads/emp2.csv\")  # os에 있는 emp2.csv 읽어서 file 이라는 변수에 넣는다.\n",
        "emp_csv = csv.reader(file)   # file 변수에 있는 csv 파일을 읽어서 emp_csv 변수에 넣는다.\n",
        "print( emp_csv )             # 이 상테에서 그냥 프린트 하면 메모리가 주소만 나옴\n",
        "\n",
        "for emp_list in emp_csv:\n",
        "    print(emp_list[1], round( int(emp_list[5])*12.3) )\n",
        "```\n",
        "![Screen Shot 2020-12-07 at 12.03.40 PM.png](data:image/png;base64,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)"
      ]
    },
    {
      "cell_type": "markdown",
      "metadata": {
        "id": "GDKUzplzKDHw"
      },
      "source": [
        "**문제 232. 직업이 SALESMAN인 사원들의 이름과 직업을 출력하는데 판다스를 이용하지 말고 emp2.csv를 읽어서 출력하시오**\n",
        "```\n",
        "import csv\n",
        "\n",
        "file = open(\"/Users/LeeJunhyeok/Downloads/emp2.csv\")  \n",
        "emp_csv = csv.reader(file) \n",
        "for emp_list in emp_csv:\n",
        "    if emp_list[2]=='SALESMAN':\n",
        "        print(emp_list[1],emp_list[2] )\n",
        "```\n",
        "![Screen Shot 2020-12-07 at 12.07.21 PM.png](data:image/png;base64,iVBORw0KGgoAAAANSUhEUgAAAnAAAAB8CAYAAADpTo3xAAAYNGlDQ1BJQ0MgUHJvZmlsZQAAWIWVeQVUVU3X/5yb3Mvl0t3d3SDd3Y3ApbsblRQpJQQUARVUEFSwCBEMBBFEBBUwEAlFSgUVFAH5H0Kf53vftf7f+matOed39+zZs2fvPbHvAYBVjhQeHoygAiAkNDrS2kCby9HJmQv7HpADJKAHskCI5BUVrmVpaQrg8uf9P8vqCIC238/Ft2X9d/v/t1B7+0R5AQBZwtjTO8orBMY3AUApeIVHRgOAXoTpvHHR4TDGwFoCukhYQRjzbWO/Xay0jT13sekOj621Dow9ACAjkEiRfgAQt/XiivXyg+UQ8+A2mlDvgFCY9SyM1b38Sd4AsEzAPGIhIWEwZiXAWMjzX3L8/odMz78ySSS/v3h3LjuFTDcgKjyYlPB/NMf/XkKCY/6MwQtXgn+kofX2nLftFhRmso1h3aFHoZ7mFjCmgfGLAO8d/m084x9jaLfH/9MrSge2GWAAAEHwJumawJgNxjyhweame3R13wB9IxjDtkfYBkQb2e72RXhHhlnvyUfE+0Tp2fzBpMidsbZ5cmKC7LT2ZJ729zH6I7Mt0d/WYVdPxGBsgL05jIkwHosKsjHZ45lP9Ncx/8MTGWO9rTPscyTwjdS33uVB8oVE/ZkXUsU/wMh8D5tG+9sa7vZFunmRdnRjgnGgT5Sj6R89vX109XbnhUzzCbXb0x9ZFB6tbb3Hfz482HKPH9nuE2ywTeeB8UBUrM2fvkvRcLDtzhcFwqMtbXd1Q9EFkowtd3VAiQBToAN0AReIgasnCAOBIGBgsWUR/rXbog9IIBL4AR8gvkf508NhpyUUftqARPAJRj4g6m8/7Z1WHxAL0zf/Unef4sB3pzV2p0cQmIFxCDABwfDvmJ1eoX9HswfvYUrAf43uBesaDNfttv+icVH+oWH0MLoYQ4w+RhjFglJHqaJM4acmXGVQSijlP3r9w4+eQQ+hp9DD6An0K/eAtMj/0JwLmIEJWEf9vdl5/nt2KAFYqjxKG6UGy4dloxhQLEAcJQePpIXSgMeWh6n/1jXm74z/seWeLJwUDoFjxGnihP5TA6IIUf6vlG1L/dsWu3p5/rWWzt+W/5yHzr/s5w2/Tf6TE5mFvIHsQd5H9iLbkS2AC3kX2YrsR3Zs47+x8X4nNv6MZr2jTxAsJ+C/xiPtjblttSipS1JzUht7bSDaJz56e7HohIUnRAb4+UdzacG7tQ+XUaiXhBiXjJSMFADbe//u1vLNemdPhxie/kPzmQVgHxzzuMF/aIHHAajvBoAx5x+agAsAzGIAXHvmFRMZu0tDbT/QAA8o4ZXCDDjgvUsInpEMUACqQBPoAWNgAWyBE3CD7ewPx2kkiAMHQCrIBLmgAJSAU+AMOAcugivgOmgB7eA+eAgeg0EwDN7AsfIBLIAlsArWIQjCQhQQLcQMcUL8kCgkAylB6pAeZApZQ06QB+QHhUIx0AEoHcqFiqBTUBVUB12DbkH3oV5oCHoFTUJz0FfoFwKJICDoEOwIAYQkQgmhhTBB2CL2I/wQEYhERAbiGOIkohpxGdGMuI94jBhGTCAWECtIgCRHMiC5keJIJaQO0gLpjPRFRiIPIXOQpchqZAOyDfb0c+QEchG5hsKgaFFcKHE4Xg1RdigvVATqECoPdQp1EdWM6kI9R02illC/0RRoNrQoWgVthHZE+6Hj0JnoUnQNugndDa+dD+hVDAbDgBHEKMJrzwkTiEnC5GEqMY2Ye5ghzDRmBYvFMmNFsWpYCywJG43NxJZhL2PvYp9hP2B/kpGTcZLJkOmTOZOFkqWRlZLVk90he0b2kWwdR4Xjx6ngLHDeuARcPu48rg33FPcBt46nxgvi1fC2+EB8Kv4kvgHfjR/DfyMnJ+chVya3Ig8gTyE/SX6V/BH5JPkagYYgQtAhuBJiCMcItYR7hFeEbxQUFAIUmhTOFNEUxyjqKB5QjFP8JNISJYhGRG9iMrGc2Ex8RvxMiaPkp9SidKNMpCylvEH5lHKRCkclQKVDRaI6RFVOdYtqlGqFmpZamtqCOoQ6j7qeupd6lgZLI0CjR+NNk0FzjuYBzTQtkpaXVofWizad9jxtN+0HOgydIJ0RXSBdLt0VugG6JXoaejl6e/p4+nL6DvoJBiSDAIMRQzBDPsN1hhGGX4zsjFqMPozZjA2Mzxh/MLEyaTL5MOUwNTINM/1i5mLWYw5iLmRuYX7LgmIRYbFiiWM5zdLNsshKx6rK6sWaw3qd9TUbgk2EzZotie0cWz/bCjsHuwF7OHsZ+wP2RQ4GDk2OQI5ijjscc5y0nOqcAZzFnHc557noubS4grlOcnVxLXGzcRtyx3BXcQ9wr/MI8tjxpPE08rzlxfMq8fryFvN28i7xcfKZ8R3gu8T3mh/Hr8Tvz3+Cv4f/h4CggIPAEYEWgVlBJkEjwUTBS4JjQhRCGkIRQtVCL4QxwkrCQcKVwoMiCBF5EX+RcpGnoghRBdEA0UrRITG0mLJYqFi12Kg4QVxLPFb8kvikBIOEqUSaRIvEZ0k+SWfJQskeyd9S8lLBUuel3kjTSBtLp0m3SX+VEZHxkimXeSFLIasvmyzbKrssJyrnI3da7qU8rbyZ/BH5TvlNBUWFSIUGhTlFPkUPxQrFUSU6JUulPKVHymhlbeVk5XblNRUFlWiV6ypfVMVVg1TrVWf3Ce7z2Xd+37QajxpJrUptQp1L3UP9rPqEBrcGSaNaY0qTV9Nbs0bzo5awVqDWZa3P2lLakdpN2j90VHQO6tzTReoa6OboDujR6NnpndIb1+fR99O/pL9kIG+QZHDPEG1oYlhoOGrEbuRlVGe0ZKxofNC4y4RgYmNyymTKVMQ00rTNDGFmbHbcbMyc3zzUvMUCWBhZHLd4ayloGWF52wpjZWlVbjVjLW19wLrHhtbG3abeZtVW2zbf9o2dkF2MXac9pb2rfZ39DwddhyKHCUdJx4OOj51YnAKcWp2xzvbONc4rLnouJS4fXOVdM11H9gvuj9/f68biFuzW4U7pTnK/4YH2cPCo99ggWZCqSSueRp4VnkteOl4nvBa8Nb2Lved81HyKfD76qvkW+c76qfkd95vz1/Av9V8M0Ak4FbAcaBh4JvBHkEVQbdBWsENwYwhZiEfIrVCa0KDQrjCOsPiwoXDR8MzwiQiViJKIpUiTyJooKGp/VGs0HXzJ7o8RijkcMxmrHlse+zPOPu5GPHV8aHx/gkhCdsLHRP3EC0moJK+kzgPcB1IPTB7UOlh1CDrkeagzmTc5I/lDikHKxVR8alDqkzSptKK07+kO6W0Z7BkpGdOHDQ5fyiRmRmaOHlE9ciYLlRWQNZAtm12W/TvHO6cvVyq3NHcjzyuv76j00ZNHt475HhvIV8g/XYApCC0YKdQovFhEXZRYNH3c7HhzMVdxTvH3EveS3lK50jMn8CdiTkycND3ZWsZXVlC2ccr/1HC5dnljBVtFdsWPSu/KZ6c1TzecYT+Te+bX2YCzL6sMqpqrBapLz2HOxZ6bOW9/vueC0oW6Gpaa3JrN2tDaiYvWF7vqFOvq6tnq8y8hLsVcmrvsennwiu6V1gbxhqpGhsbcq+BqzNX5ax7XRq6bXO+8oXSj4Sb/zYom2qacZqg5oXmpxb9lotWpdeiW8a3ONtW2ptsSt2vbudvLO+g78u/g72Tc2bqbeHflXvi9xft+96c73TvfPHB88KLLqmug26T70UP9hw96tHruPlJ71N6r0nurT6mv5bHC4+Z++f6mJ/JPmgYUBpqfKj5tHVQebBvaN3Tnmcaz+891nz98YfTi8bD58NCI3cjLUdfRiZfeL2dfBb9afh37ev1Nyhh6LOct1dvScbbx6nfC7xonFCY6JnUn+6dspt5Me00vvI96v/EhY4ZipvQj58e6WZnZ9jn9ucF5l/kPC+EL64uZn6g/VXwW+nzzi+aX/iXHpQ/LkctbX/O+MX+r/S73vXPFcmV8NWR1/UfOT+afF9eU1np+Ofz6uB63gd04uSm82fbb5PfYVsjWVjgpkrRzFUDCFeHrC8DXWgAonACgHQQA77Kbm+0VJHz5QMBve0gPoYVUQjGh8RgyrBSZEy4df5eAoSARW6jw1ME0fXTy9BWMgCmIeYBVga2AfYFTkyufe4gXz6fM7yQQJBgi5CqsLcIusiz6UKxMPEhCTZJC8p1Uo3SKjJUst+wnuVvyhxWsFNkUPyg1KMeraKniVZ/vq1DzVhdT/6rRonlAS1uboP1O545uvV6lfqHBIUOSkYYxk/GySb9pg1mleZVFu+W0NdqG2ZbFjsoeab/hsO4EnHEuRFeK/aj9K25T7oMe90g3PGu8yrxzfBJ8/fxs/bUD5AJFgriDmUMoQ5Gh38OmwgcjbkeejzoWnRyTGdsUj0rwSbx3ABwUOKSSbJTikhqTdiy9JCPpsNzh6cz8I5ZZ/NnkOSAXkUd9VOiYer55gUOhc5Hzccdi+xLbUqsT5idNygxOaZerVyhXyp4WPyNyVqrKpDr93MQFo5rLtQt11PX8l6Qvq17RbTBrdLjqfs3/eviNuJuHmtKaD7dktebeym8ruV3RXtNx80733dF7E/dHOhsf+HYxdT3qLn0Y1+P7aH+vQ5/VY5N+gyeGA7ZPIwbPDr16Tv5CclhnxGhU76XSK/7XxNdrb2bHXr69P37uXfqE36TdlPm02XuLDxYzxh+VZxlnJ+Zy5uXmJxYuLiZ+MvxM9rnui8GX6aVzy/Ff3b5ZfDdbCVzt/HnkV8um7tbWnv+lkSjkHGoCPY1ZIkPiFPD+5BWECaIIZRzVQxpm2gS6FwwyjGlMb1nkWTPZBjlYOB25CrnbecZ4V/hW+ecFngieE4oUVhchE3khekYsUFxe/LfEQ8ljUg7SnNIfZRpkY+XU5CH5boUcRQslWqUR5TIVF1V21TE4ClzVmdVHNU5oumgJaK1rD+tc083T89HfZ0BtMGPYblRiHGviY+pp5m8eZhFi6WllYa1qI2LLake0R9ivOnx0HHF64NzgUu6asz/RLcDd0UOXJOnJ5AV5zXsP+3T5NvnV+JcGZASGBTkFa4YIhlLAkTAZPh7xPYo72j2mLPZ+3Mv46YTFxLUD5Ac5Dgklc6VgUt6lNqXlp0dmuB22y3Q8EpCVnl2ZcyW3Ka/56M1j1/KvFNQVXig6e7y8uKQkvzT7RNrJhLKwU37lARUplXfPCJ+9WC14ruj88wtrtcSLLHW89SJwHCheUW/QbTS76nQt+HrmjXM37zQNNY+3zLZ+a0PeZmwX7VC9o3lX8R73fcT9qc6eB01dtd3lDwt6Dj9K7I3si36c3d8+wPD04ODbZyzPNV7YDvuOpIxeePn01fc3NGPib03Hw9+dmLg9+WxqfHrq/cIMGvZ+6tzQAvWi1Cf5zwJfKL/8XJpZHv3a9+3W96qV5FX7H4I/Vn+2ryX+Ul0nbOhuzu35XwJaQFQi3VDCaCx6GTOHnSebwi2T4wn8FFpEZ8pUqsvUQzRbdPz0egyBjIeZzjDfZOlmfcT2kP02RxVnPJc21y/u8zwmPAu8WXyCfJ38bvxrAsWCUoJ9Qn7CWOFaEUORj6KZYkJi3eJeEkCiUnKf5EupGPh20yhjKjMrmy7HIdcqby2/qHBYkVOxBb61zConqzCoXFLVUn22z2vfZ7Ukdax6uYacxohmohaHVqu2hfYrHX+dLd1qPUt9nP4DgwOGcobzRtXGriZMJiOmJWY25pTmvRbplqqW360arYNsBG3e21bZ7bdntn/hkO9o6Ljl1OQc7MLn8ta1dL/5/lW3Ynd+95seWh6vSfGePJ4v4X3E38fAV9FP2d8ogBQYEkQK1gihChkLvRAWEi4fvhHxIDInyjKaPvpNzJlY7ziBuJn40wl6CWOJwUl0Sc8P3D5451BX8oOUW6l1aaXp6Rlhh10y9Y6IZKGzXmSX5Tjn8uWu500cfXLsVv7ZgkOFLkUqx1mOrxWPlFwvPXHi6MmisqpTN8ofVrysnD+9fpaiiqta9pzhedcLYTWHarMv5tWl1JMuKV4mXv565VPD2lXCNY7rMjcsbyY13Wz+2ap8K7yt7PbV9taO23d6767cN+i81WXTvdJT2ivb96L/6IDHoNEzrRfaI8GviGMLUwPzK9/Xtv2/+x/ddsEoAHA8Fc5QMwGw0wCgsAvOM4fhvBMPgCUFALbKACHgCxCEfgCpTP49PyD4tMEAckANmAAnEARSQAXOhS2AM/AFUXB2mQ9OgwZwBzwFk+A7nDmyQdKQAeQOxUGF0GXoETSDwCCEEKaIKEQlnOdtwXldLPIW8jfKAHUcNYWWRWeh32FUMGWYdTjD6iNTJKvFseIK8eT4bHI8eQGBhVBLIUfRTlQjtlEqUd6mMqR6Qx1NQ0VzhVaXdojOlm6I3oL+GYM7w0/GMiY1pnHmgyysLG2sbmw4tnb2WA45jm+c17kiueW5N3h6eEv5/Pn3CRAFJgRvCGUJe4poiQqIEcXWxT9LvJcclmqSTpKRlhmXzZKTl/si36pQpJig5K1sqiKlyriPqCahXq4pqnVUu1fnix6ZPr0BsyGbEZ+xnIm5aYTZSfMui69WvNYONsdse+xRDrqOmU79Lgyunvvr3d57YEjUnhjPFa8P3mM+836U/iYBJYEfg/eFFId+DjeOqI8iREfEvI7Tj29NFE+qOch1qDyFIbUwHZ+RenjlSGDWQk5uXsixpkLq4yzFn0rrTrqfYigfrDx6xuDsSnX+eboLWTWrF4Pqvl4quKLXSH11+frMzdnmhdaPbdPty3cZ7+s8cOv26LHp1Xgs+UT4qcJQ6POfo6jXuLEz72gn73wgzh5Y0PrU+GX9q8J3/VX8j6M/+9Zmf31Yf7Vxc7Pgt+eW1M7+se1/LCAAGsAMuIEIkAVqwBDYAg8QApJANigDdeAWeAzegiUIDbFAUjveT4CKoavQAPQJQYmQRTgj0hHXER+QnEh35HnkIkoBlYEaRgujU9FjsO/LsQDrjx0m0yNrxUni6vHC+MvkcuR3CZaEaYp4Io5YQslNeRXOX99Qx9Ew0LTQ2tN+ojtIj6c/ySDO0McYxsTIdI85gIWO5R5rGBsf2xh7GYcjJxPnK65Kbm8eKV7A+4LvEn+GgKugHJzLzQv3i9yAT7F88XSJA5LRUl7SmjIEmQHZHDkTeUb5ZYVXij1KzcrVKnmqifti1bLVWzV+aMlqe+vk6tboNevfNrht2GHUazxpijATMbe3OGzZYrVow2frbldpP+7I4xTo3OyK3e/gdsq922OI1OlZ55XlHeBj7Wvo5+SfFnAviCLYM6Q9jCU8MeJtlHZ0XSxlXHj840TupNgDg4fkk8+nsqYVZ+APJ2UuZpGyp3ITj0rlIwreFl0rji2VO/G17Fp5TKXK6V9na6plzlWe/1gjWOt/8Wo946WKK2oNn66WXVe+MdBEal5vrW6zagcddXdN7y13nunyfKjyiLsP9fjJk9inmMGcZ4Tn1cPuo2avgt/Uvv04wTll+T515s4c40LBZ4GlJ9+KV/PWjNZlNk5vvv+9vOd/FMABKnj1cwNRoAB0gCVwg31/EF75VeAmeATG4XVPgAQgTWg/lASVQx3QJAIHe52EKEEMIumRPsgOFBsqBTWPdkI/wehgOrBq2PtkpmRvcVF4SvxVcnsCktBCEUGUJv6k7KYqo46hcaI1ojOmt2IwZlRkEmaWZ3FnTWCLZvfksOU05zLjNuMx5TXjs+Z3F4gSPCpUL/xIZE6MQlxRwlfylNSIDIust1yj/LqipdITlex9TupojQLNDW0TnXTYgy367QZ3DAeM1k1MTJvNJSwuW0lYN9vq2I04hDjhnS+72rtRe5B7unu7+Lz3U/XPDZgJsg7uDzULexbhEjkbnRTLETee8DDp3sHKZLuUX2lVGfaZnEeWsjty84765hsUMhc9LvYtWT2RXkZ9qrpCofLJGd8qqLrivNKF4dqYOtb6R5eTGwyuSl7Xv5ncXN2a3+bUztgxerf8vtMDbNeFh3I9t3v1+kb74wckB5FDS89nh4dGC18Jvq588/ut3njOu8eTlFN202ffz81IfwyaPTv3aH5+Ef2J7bPUF90lh2XSV+9vlt95vq+sHF1lW63/ofzj1I+1nw4/m9cY1iLXmtfWf2n+yvjVu05ct1k/sT64QbahuRG/cW1jbpN702mzaLNvc/O39G/v3yd+P/79e0t6y2fr5Fb/tv+jfGVldo4PiKANAHp8a+ubAADYIgA2C7e21qu3tjbPwcnGGAD3gne/++ycNVQAVCxtoz7u4/H/+f3l/wFqvcnaPXRG7wAAAZ1pVFh0WE1MOmNvbS5hZG9iZS54bXAAAAAAADx4OnhtcG1ldGEgeG1sbnM6eD0iYWRvYmU6bnM6bWV0YS8iIHg6eG1wdGs9IlhNUCBDb3JlIDUuNC4wIj4KICAgPHJkZjpSREYgeG1sbnM6cmRmPSJodHRwOi8vd3d3LnczLm9yZy8xOTk5LzAyLzIyLXJkZi1zeW50YXgtbnMjIj4KICAgICAgPHJkZjpEZXNjcmlwdGlvbiByZGY6YWJvdXQ9IiIKICAgICAgICAgICAgeG1sbnM6ZXhpZj0iaHR0cDovL25zLmFkb2JlLmNvbS9leGlmLzEuMC8iPgogICAgICAgICA8ZXhpZjpQaXhlbFhEaW1lbnNpb24+NjI0PC9leGlmOlBpeGVsWERpbWVuc2lvbj4KICAgICAgICAgPGV4aWY6UGl4ZWxZRGltZW5zaW9uPjEyNDwvZXhpZjpQaXhlbFlEaW1lbnNpb24+CiAgICAgIDwvcmRmOkRlc2NyaXB0aW9uPgogICA8L3JkZjpSREY+CjwveDp4bXBtZXRhPgpgSlglAABAAElEQVR4AexdC1xU1fb+1EEHBRFUFPSiDigoD8UQwQeKD3wr4iMhr6+u3bDsetW6Wt7UsvRaejUrSxOza1BoivkIrXy/wgITVFBBIQGFAAWEUdD+a59zZubMMMAMgo9/e/9+M+ec/Vh77e+8vrP22nvX6x444o/sjAyw4ODkBM2+sWMhE//jCHAEOAIcAY4AR4AjwBF4rAjUf6y188o5AhwBjgBHgCPAEeAIcATMRoATOLMh4wU4AhwBjgBHgCPAEeAIPF4EOIF7vPjz2jkCHAGOAEeAI8AR4AiYjQAncGZDxgtwBDgCHAGOAEeAI8AReLwIcAL3ePHntXMEOAIcAY4AR4AjwBEwGwFO4MyGjBfgCHAEOAIcAY4AR4Aj8HgR4ATu8eLPa+cIcAQ4AhwBjgBHgCNgNgKcwJkNGS/AEeAIcAQ4AhwBjgBH4PEiwAnc48Wf184R4AhwBDgCHAGOAEfAbAQ4gTMbMl6AI8AR4AhwBDgCHAGOwONFgBO4x4s/r50jwBHgCHAEOAIcAY6A2QhwAmc2ZLwAR4AjwBHgCHAEOAIcgceLACdwjxd/XjtHgCPAEeAIcAQ4AhwBsxFQmF3iiSnwBx6MLccfTB8l/TIboMHRuuKjD3A/9D6gFuuqF2+B+imsYh4eBwKeQ4fDAxmIik16HNXzOjkCHAGOAEeAIyAhYIfgsf2BCzsQ84h5wdNL4LqXouC9VNyTIFSkuKDlUcuaXVL2D/Cg+wMqWw/1YhvQv0HorkbO26naSOsvusDqrQbaY75TEYHgBUsR5myLMuEMNcSVfWuweGeaQUYVFq6ZA48mFM1OZMMCbHtjMWJyDLLJDwMWYe+HE1Ea9/ETROAsMHS+N1TN7uHU6rNIyJcrzPf/vAg0x3PLOgLJV/Hl1ptPFAw2vh0xfpwtcvYlYPeRsidKt7pWxnGIG0b2VeLM/6t71QKO7pZo1cISd3/Px4Xzf65zWpfXjPfz3eDfqSHS6F6JNXqvOGLam0vgazkBJW6hOFCXyhjIfigCV7btN/zufctAJDtsihYT28Ei3khSbUXdIbJFshqmdIDtvxuj3nW59e0+7m4pwN0ud3DXthDlrM4iR7T2bm5Azh7gXmQO8nxzdVqVN0OzTxxhuUZG0OIt0XqiOx6E5CNnUjbqaVijrhTfM0BA5dUHfXxbamMdfosEKhC4xujZrz98rTXZ1MhoWzWBW/6v0VAgF5/O+URTSG87epoD/hnWgshUfRQkXke35/P00uvmwBLeI5zhpCjH71GmEbihq8dgTI/GuLhuFz6ILhHUshnth3de7YB7yecwd+Z5rap9l41AWL+myIg8gOXrH0V7tFU/5E4rvBo7AKpGefg88AB+0kpzwuJDvdH6/k2sG3QQF7Txdb3TFHNjR6Aj+2DQhkJsH7MXP9YB6baZ2AV9+rVFQVmWtrYnZcf/r17w6dYQCScSTFbJZogv3lnkjNKzCXh1drLJ5Z60jM+M94S3W33cMvFefdL019enMZ7fOgQ+7Vg3lC6U3ryO/71wrIqPycruTVGGTT83PD+5Na5vj0P0fvH5pJP+59rr4NcRnm4K2GWlEoEz9vxNwr83nMD+eb2x4E0/HHjr9CMDSM56zK60fqYlGue0QJPsZmJZdTM0yWiBxtlEqO6YLa5GBeqVNUD9+PqoJ7fadL+L4t7ZuKMhb0yyRUXx99cYkDeWRXELt16+jrIAeX4ii1RH/d8r2Obkmfi+DIHVYQPh6OKFIR+eFWLLjJLeJAR7ewn51iUUU75yrUVVJkq3az8dw1yVKE87hNXy881yNG+KvQe8sG6WvUDeWJSF4qEubybC5HD3Lsv6QPxYqK5UBzcMJPKG29exXSJvrIiqU1Owz4b8lN/1JDi1pbwkOeMXYw8PvaxP1EGX+V2hIrKUezhJRt5IRV87NKdPx7IbZCl4xBoX3yhGwc1C5OYJn3XAnTu4WgfkjTXLrbOV0Lobqfrn8xE32Uh1FnByaEjxJchINNVSY4HxM53p+ryHM/97eskb0BgdHOjiK89Dku4byQhGT0mUXRt0JPJWevMWLp+8ip+PZOM2PYssW7VF2FKy/lYSKr03pfzNu7RFRzcHdFLVsFerknqfxuiycvFZcd/oO0xsUeL6aCRTNrdRU+H5CBv5UBa4BnNawIYpa69G+UmyxF1siaYT9L8E6rotgg9cJZUoiuzQkB5SJdbMec0wkPVNY3krcoD982SdC7qNvL/9Rq/KQtzrfx8WR2VWOMPi/NgkBMRXmElZq80UPH8M7ClXwsGYinkdlXBrVg/lvxdjS4waz/6tRcU8T0jMqLmdwXC5+MUvkNtmOjhbU+wD5FySM4rmcGzLbtNCZFx5QhpgkhqtEDKiOeW8hb1L5a0kovqMnfA9VXBN3k6ThD5kpkJsmLZblOH7DD5c1QkPfsuHYcf+Q1aiLd6uAzvL93B1n2jBsLEjzv6om6zVRr7TEvbs1NwpwqWr8vjK921GPwOfVkBpcjKi4yrP98SmEPYQsG+BFuyllVmIzCdWWTMUy7+GD6ZcQ9ZVGRGXru1GSkbSjYXK701N7k5d2LPoHn79+un6aNTo/+i3h/B9YgHcvHvihaHA7NhHo8FDETitim1FGvWHRUU69ceMQtyeW4RG0XQH9c/BLadCKqZEkxNtYT3V0qBLUyvx4Xaoy9Nuhjvq0aCG8sjfUOJrjMDRq1L6uLC8aI0G8WRdi7eB1bO/4ZZ47dZIB9bewvAioWzDCAdYrq+pFcgDmw9ugMvFjfj4N18smtYbtuxsqXPxzb9nYjZ1R7700Ta84gt8OnkCVkvOk54z3sdXc3sgbvVLmB7BnPxJzoGP4Ku4guOpTTEs0JW6IElMzlksC56CCANLln/oIqycOxrOtiIRVxdl49TOT/HcWzuENrE/x6FzsPXNMLjZi3nKC1Kw+d9/x+LYunw72WGYjxPVnovjO40MXsgqxqefpWLlBrLkOTcnAkfGVK3Gdb+jofrV1tnBHQHdCLe8DD3rG3M7aP8X9sBVI1tuFelAL9tGFH27EKkyeLtMfgYTJqnQ2kas8f7de8g9dxkb556TkULyzVvcFwP7t4KVkK0cN05ewJp/ncdtGSRdwvvjb2Oa4JeIS2g+2gOdpe6Y28mXsHzmL1Lexhi1zA8BvTWyyIJ2pxi/bj2JTVsrPuS9yfrWhurM/e5Xfesb1dupi/DZh9+Tq7NMmaY/7Bzxwn+egZeblWDBxN1i/Py5cb00ze7i31zIm3tVpoOdExZ+0ROW58/izX9dlrI2xtTPB6Or8nd8OOmEQPa8/zEAfx3WCL/syobLmM5ozbpky9W4GP0TPlivIatN0a41AXAnD01f7I8PhjkIpLUsLxf73vgBsYL1pxXmbu+DFtnJeH22vjkoZN0I9O+swK8ffI9N34oEUDWxG/4a1hGtmfmSQmlmNnYuPIxjeiTMAiHL+qFP75awrOycu7eAHaWVpf+uJa9dnvfD5LFtoCwvwM4ZB3FMdq2x7otnp3SgGu/h9Bp9PQVFTPyr/pptjBeoO7CjsghXsy3QpVsz4RyVZl7H17OO4SdBJ/Mw6/mP3hg7ygk27B5i1wU9oxitvp1VILsHTLzOOnTE4vVeuP/rZVwosUf/QS2Fc3r/TiGO/vcAdTXKSFSVmFTfTsfJvfHPafa4+vmP+Hgre2dqgiNe3e4PB+Tgs/HHyIJdRuRNkyZtc9V0ptjzT/NU0k+v9N6knoG31nvCkixODQTyVx/Do8chQP0AjRT38P28vditPf3VYdYcs74KgIvVA6BJY7oWy5F25Dc09ukg3C+3yfy5PPyccA56vj4IzwY0QvLRW1ANpnPFrls6V6c/+BFbpGtfvwWVH5kia+h/hmG4+33smnJAz3XCcaIfXnnhLyj95Wcs/ZchqJXXqUnZc/AKZnv3gA8NskPsPk10nW5ryi70lbqjf6h31LQMpcp83JpyBbeUjWG7/y9oTA+7O72voGQOndw6CdTlKY1I/cNI16lYZX00TBedYco6FuN+AI00XXCbrHViar3bNewupfaW2OYLvwc2fzxU6+ztreA8MByr/tYblrkpSEhIQYGyJbp52gtym9q3gbVtO7QUmyHEWTW1h63SFo5UVhPsW9rC1qkHRgW2Qfz+A0jILobSvhuWbF2qySJsgxZswjdvTyTyRn7XJw5g9/4TyCx1QOCUKQiScjqGvo/TH84g8iblOXQe5baumPnhHiwP0BNXyweOaGtPd7Y6E4clsqpXQV6JSN6EyNq5rPXkV3Nwlx5y7CVeKL5rK8096rVOwgskMTJBRrQou11z0TJw9zbOy54dNj2aC/lLs/O1+VWT+2L23zuhtfIeLh9JRcLJbOSrG6K1yhq6W5H5xgRjzKBWaHQ7Dwk/XEVmXn207uWFf/2HvYx1wa17c1g2aYo+s33Quc0DZJzNRubNcti4NUcbKdvEjfTQ69cKDYiAMFkXk/JQ3sQKbRlJqRBaYQSzvpWT9e1dDaHRZGoMlQMj/vdwLaEqsEzU390N7+7qRz5NVshPuo6fT95EcSMr+Px9AJ7rp6mz4tbZTbzRc69Qz4EmeLZEG3p7WOo9M5qhvTO9gKzqC4PQWdaO3raEVzP0CeuMBlevIzGpEPcVSnQmn7cuGlkdHNGc3ZdNmqPPMFtcO5mBjJv3YNG8JYJedpNylQJWDWHr4aArx1LI12xAt6awKP4d30kvMEYaX51NZNGmnLrKUnExuRiWbRwQtr6/rKyFcM4H92uJhnSefv4hAzdui+d83mJHqU76APNrAfbtmnfpphAXsnoEZk8jX2JFEQ68YUjeAJvRvvBm1rcksr5pX+BacSbtmHTNUnegij4erFq1hCf55106chVpdB1atmmL51Z3k+oxHbOerwdh2ngiBCjGRZKVcasxfMY4iW0/L7addamaep849m5D5KMh2vRyx2Aib8WpN5GWXIgGdO9Yq00lb9QME9qZdekOGjVSwqWn7rwxAAau7gFVq4YoTkw16n7g6NsBc//rIbTxypFrrIhBqOLebHwXv/+Wh5zse2jYiJ6hREzTLtLxb7eR/VshbmlvVxMw69AaLm2UsKT76XpCHtFMBVT9OqDB5Qxk0tejDb1ANM8Wly7sfmoK72FOdI1lIOHsLdyne9jv1UD0NdC+ukNTZN0pU8DCpjmc+8hvdBpw9EIHIvoPcPEb2QOYVVgu8pS796o+x4kHE8FMN63ad6pOzVpLN/b0rTXhckGKjPZoMcBasLgpAyxQHpEGdf+7aLJGMoPJMz+ifYvgv6ApPZQKbbOQE6F70VjGdUTjmlrOlHLSVkMSKLW/jF0vSiWSv1qAAYv2SbF28HeVA1SN3xhlFS+7XKwbMRDLBfLjgb1JkfB27AB/Sj8liBuOf0/rQXsF2DKjHxYeFSKFv9DwEGQLex5YMzeIbsVcbCRZizVEqvtrSImejGf/9RqVW6krWKt79OBlVyv5GUgcu1alP5ywQnwQ/HX1ItzJ+uYhWt++lPm+CQU97QSiVnZdZxVh8SqXpkJyfpLOUtStnz3FleP7ibuwQ2YpcexgobUq9FwcSI7NdKaOnMabizQPpAt49YcR1IXpTC/9q9ILQGP5A4rpq3iZ9FUs1O3eWLTQ0Jd5D7eGwM1UzB0fJ+gj/jWGo532qa6N957fXbC+3fguvoL1DWiGlqz7johqchVkwDT9G2PWf7xhyyxDy77Blv2SCv2oe3RZJ3Qb74Yvjxjz1yI/KMna+dsZnf5dutkKNosc7cud5Pm2AFO39GquRKCZZY2wIPwT3tuLDRLBmvrVs/Br0wTOxI0vENw2ns2E84k7N7Fh6EEIQwXs3LB6lzcUCo1lpBDXrt5DRw8buLlTOQEPalM48zUrx+n/nhDrdPfCX8cTg8rLxrrgw9oX90AaCDO+R0t4SGW7/KOfcM5LUy9i7rSzIhh27lSnF1r2cIaKpKVRbGd3dgc9QO7Nppi1vT88W9VHMVlb/0vWVt1TUCwuWN9mONHBPRz/sIoTpsleydaUa9amh62I2V0a9DJIM+jlKhYdGoA2bVsIRPUCuRKYhBlds+OH0ZkzlPUDyWp0D+mnRauWadeZ2CgN6Wcyt88k643mtnInNwfxAVlJ6/WjTWpnHPlnlxNh/wvJpuLCeaHrYATznb2Tjc/lbglk1X/vCy8RO6EqujY//QEb9Cx3og5V3pv05fjBTGoUyVtN8nD5Et6bfVlfeToyBbNbzAJMeTMiv8Pq9c3w7rF+sKXnx5uz4zBwXWuM99CIbQ4n4SPwARI/3U3WRvF+HLV+HIZ7WKHTEAscM9myaZqs1HP00dbPCg4e1Cv4rUjke77uS4Ot6O13JL6Ci8Du2buwW6OuKVsL9nx4NOGREbhGqY103aU3adABte+PR9PGSmt5MOcO1MwYYBBKOxfBmpzlG2gIikF6VYf1dtrCPl3sIqofVQuWoPLzWKElb6zmfJyqgV76lqsknEtXw9u1jUAGBXmunSAYuJL26pE3VmPU+h1sA3QfhK5knQO9Mgf8Jwp9LTSXj/glo3T2Fix1B1iW2g6uTkK3D7nn1rbkRyZvFFlemF00MSJOS7Q0lavoK5ShmHtVZhGi4w4d6IHN/OKSZUwN7LpSwHd1b5REJePU/jxBntYPxq4DWd6aUh41Us7dRd+JHcgXlF7B6kZQMG8C5QOtNQl2rWDPLEV3c7FZRt4oBmnnJXJztQRk9yDLyF/w6uI7+GH7VSQIaSXIkqvFCtHrZsSIZsRv8vDtu+LDUYjW/FH3HesBvJ9ZoCUimiTt1kT9HSc+A0+61e7fvEHExAkDJzJidB/3rC2IbgCV+gBRmwU/KANrp7Mbu291L3emj8qzhXBesi/kskM6IY4iXpnpWvLGrDg2ZKHD3SKt9VQzICWDupAF8sbKuogP9vJymlNSCsnJRRjs0Rztvel8nS+EKrwXPIl3FJ9NxJYjYqbnXu0oXPU3Em7AenQHDGTPLPV9NL7NWtkYLchCiPMKDBrcko5LcGCuRN5Y8fzfkH3HCyplI3JcYcEC7R2ZHvXhOc1HiNEn+UKU9s9mIlnfSJ9SIvc7as7fhPqqvGYpRxsivewMZuz+RUb8S1FylyIVumvWFMx6TnEW7rVMQ1nMH71BES6ztph4nVFOIajaMwQf4Of3ZOSNpZzPI4LFukUHkx9ufdyTLDZCIemvgUKBst9S8Xr4WRPbmYvsPKB1q2ZwJhlZ9Ju6sLNwHSR8LHbla+Xfpi5nsporFQ3hQFZzK6rLwY3d/yRAL1Rzb0p5VQNaieTrgpH710TMOnuyj4R7SImlZ4i7i3AubsSnU1xjuHeg6+9uufgMIkudHREnZF7VkjemhqUle8bVR5OW7KlYteWL5ReCibKyzuSSTbYtmneijyJQG+06Yuww8Zm1TfuxK8mswUZJvWCeVC6xBmXNLaJ5A5tbzuz8DegB82SFcpS8+JvwoG+c4EyDL2jkbPd7KP4iBUXWN3B7mTXsajIgI4UmFKZfbQQL4Y2eCSMeXw8tvrCEPckstd2vngM8BctWkYBIJeLvSPHqIlg2t4N1A805LUdRdjaKCjMFE3IlpR8uOuU4rhXNgr1Fad3V8XAaVl2arG+BHvTguklzgn1b8YEkOg0Dv+uNWNRYx2i04CVdmR83JsLzra5o7eyEMYvY7wH5tv1Kvm3JIjGUrHnM17TP7H4V9aIXoua7xaZPc2EgUsEvxrtkxMIZ+H6XChPGOEA1yAsv0A93S/DzhkPYFC33zwG8Xxd9327skhEXmQYq6r5jl/XtzArMT5fLRP3dA1sIZRq0ckIY4WAYCvKLDKPEY5JPj2uUXZcPYJCsckQ8hZe7VLJTN0bqdCOANV3aN35mLyMpUJeYIyOS6bdFiyVFd3AVX2CpP+heoowMss+PjHPsdSyGC8nUXUQ2PnsiL+x+/OtERsIK8a12mo6mcBQsfvQyH+SNaYOkgtrNPdxIZS9Jd7QnHcpS06HniioRzvtap3072LfQ3Lesa6g+mrm0pGvgaoWPCvayfS6M4arG8ZXGLJlaJardqfaaJQluAmZqJH2rw4wRzkaCuvW112z1mFlII4Dv4YIMf62sPOoaZBqbeJ2JjSNLGLMUkUX10H4xRv/fkghUfTqXDFPjobxQfICa1s4yZGSUUNe1FVS+wLH2veHXrj7KyGy9wfD5kZ+Bj2dniJUSGXl3lw9a+8mt7GJSdfemRmvdNa9/bwvpJmFmgbbt6KOC7iWaAhGOz0sfQb8wQkg+cOw6TcoVzoFjD7HnIfOUbp5VVk9pKcPxHnW/Sh+RLLKaYLIssqbn0DNQRVZdZt30e8dLeAZe3nRa97FVTV3Gk0Vf+6Ib5FZhPEOtx2ru5FoXXEGgXtdihdS6j9C9/8S6utMUs1LrG34nDaaIbwjluWYo8qWHanNWQPOaM0e9P/CHq5Q/RZyrzpzShnnVedeNdGsY5qr5MfuGZyHxJyKu6FH1xw6z1FAouvg5fCZsFg+q+1ey1zXdy2oaXFAbQWGJ9iTnVG3IeoQyQsj6xl7eCTTyVD6AQFShsTStAz2wTsgeWBrr2J3bOEcPQk24HZeMpUOT4ejrCL9BneA/2IF827oiuF+yYLXRWPMyth/E8v/lE7kQz4GmPDvJGgrBLEUs3EhkD9fKw7H3yVn+fQt4D2mPHsFu8KbuDZ8XfHAo+qCWtDDr2+jB4pfst+8bl9dJ6L5j/lfyl7R+vabq7yxYIqlrb9G32JNogSaMa8nCHbIcGgtdyK9Q+DaSzx9CWLMXy/3MPFl7GqNTB/YMuIWMOFGSW2dGtIBs2UhhTZdY4TXJSqcZkFKeWwkZlL0YyRpQSDaWpm1a0iCR1mAcIWP7aRwTq6P3XSvBl+5+eirenZxAx0bOJbs2OogFykv1H3SO1JXFrL6303PF644soC2ZxeM2dceOPAH/7SHwaeOMqROTtPMRipKoG3iit2QNvIgdsutPk67bWqDn853Qhr5PFERhkr5OxgUDfl7dNasdxEPdg3IfUAyh+RVJ39LkbJ3FtjrMCH/7FswiWoCz53VaMlltSFYxmbbYPWjqdSZIIOsOw63sKvm9yUTqdvPwwaSdusNK96SPMhPaee58kTBXpP0zHfDKCCeSWIJ9756rVLKQkJ+J3+/4iAPe9HJWf2+K2clH9S90zZP/6hXpmpeLMQ2zphhD3fLI/F04Z0OFjyD6CD1DkvrZ0dmh503yDUGss5f4/Ckpll+3zeHRkS4mujNy5eeP7tqqrjPTZeUh/Xo5VM5N4EdW/P70YX0/MxWrjXQ5C0qa+telnfCMLyoTiZypxR4mX+0QuIJ6gg71ysTtwyhUK2Vd7+P+AOqmuEUPZBvpi8jiPspDy1C/2R+od7Ah6tPHEDPSsnBvkBrKCCJxrveg9qJCFOqX1syK9secfNx4WXw9Nv2sC5qsqJkcQYlq/kR6SRMMsie0FPr3bqfZNW97/bpg2XL0HIQZWIMIeWl7OyCHnsjxvyKTDHdu3uPwkv1mfJQjz0Svb3sy9RvEnTp7iewX7mhD872hCluipi1WsrboS0/C0XO58O3tiqBQO0RFkT6VhVviOS830pWhKbJw20kaMcQqK8DGif2wOF6TUgdb8l3pI1nfvjb8ehaqs4QNdb2w7pkSGbvrMoOcaim2+EKmlnDJtcuKy8IO+qHTsxjsLF3nLMM9cd/GsTF1od2kbk75w1Eugd77kqVIjzjqZ5EdlSFh/2X63cRC8qVzohTxvIlZepL1jRGQzEqsb8wC0oame2Ff1sk7ZSRGVoOwa6L+Yg9+fSiItNymNhqboqPn8x2Ru+my7KVrgT5+1CdIV2Xq4QxdzQ6NhbbcK6BR85rYIR7oxE4AWWw09gEXoUu7RG+ksErq+tOOqpWIN+smJsolBSLp7MVIDyW9FyOdnxtUoW27ThjObl0anbxlrYzcXi1EMd1zNq2tSL8ypMmni9CIZls61SwoLOXPm+aYNKktxd5D/BciA3P0Fn2Tcs9copdrGS6suwrvZc7oPIN8gKIPy3DSWd+Orq7O+maHodO80FrQgK69oxUJnJBEf5Ves6xbW/hAbCI4t6dJBab+VXyeJe++pBEhXNNVYqbJ2aiJwGvlshg6+ZquQROvMyaOEWH2AZZpMEcjSzMrmNHOrNO/o3RaK6jC/IQqbnx3BrHiaaRjWnmhQ8URqKrnnxHmXgTNdZgpU6z6e1OTWYEm7DK9W4rfNFHyrSmYMbJLzwFxmiALkRDezcY5emSLfqYP8NtZ8Rp3ai9euMznUxNU4V0F0l58NlX3ISMkVn2dmSMr/SoZFJybYfDsTiT5Hg69Haepvsbb0H6e9AFDroPHDtRYhrkFH4rA3X/zNtTdGfBl9N1FweUW7kTSF2LjBlD+i/wZUipRR7Lk1AbdMybjj7EFyPlbtn7lypv4/W3RKmDdki2FRSNkMmgCRCc1TTNCI2KvsKtWx5yVP7EvgCc7xP5yBTO9u2HMqijkr9+Nhv4TMZVGyFUWrI0kaFuZE4mP90/FsiFOWJawB95bIpFQ2Aje/cZhXM9STHObQEuEHMKKyPP4fIo73ji4B15bv8G5HKCtmzf6D++D0uhZGGA4C3UskT6MRbvec7B/oyeukcnv2u6NWB6reayKSm0/+Cu1pTdC1+5B6yOJuGdxB7uWLtNbVmv1pv14ufdk9AqZQo55ayq05tl5f8GULg1QqpD8ff7SAts/saFH3V2sezETP8hLCCNEWISF4B8mT6rt/ZA5og+Tcesbq418aG48EEbgBfzHDxY023dTz3bw78WIRgmOrrssqWSBqV8F4xnK/8upLFy/ehetezvD35nIH/mwnTkiZkvbeRUF9OC37eWDhctsEBd3G43b2KBjzw7o2LaIVj/4QbJmSNYAKsu6OoyGDm5Y8UVXmn3/KllpyYpzj3xYRncSHrC3aeLQC9pCjhjK/EhI1o5KrG/kbAIHZhmhT6fu7wyAm7Ys7VD3U/7pBGzaRBYwE/VPTrqNwW4t4ffWCCh2XcIlemM5eNjDI8AJDX89jQX/ysOAyT5wCu2ExIO/IS3jPnUBdyKnfarv9g18L+ElqFFCH320Y9WRZqAPb4AC29YYQFN/sBd+MY3MI5pMQZqTj5zY5VYiDQnWjKrVWOSK0+UfGc3gwE4nkUH9F2MJrv6mRmcb9vyRDVxg1QnhJn7LfIA27VohfGtfHP02HSUNrdG+uwO69rDBT/O+wZfs3XNenBajtbMrXn2dBnVcaQC/MA+oiIAWnDynHT0q+iZRV/1F8UMVR+JwNLUdAp0d8Ow/mmO5RB4F/0LSt/jsReyu7NqQNIR7K+FDQzgkbMhdThZMu2YZZk2FUk0xYqMvmnxfAKfBXeBNA3HKaFCGfrdhdZjR+RIsLFYYuP4Z4LtCuIZ4wZNksZd1xi/ix4Op1xlTS8TtARF3+TkVFDbrz6x20mCa/Lv08UuWP9Z1+z/5iO4OnbCABhqUpJNF8HI+fmfP4Z5/QWdn8Qs4MTpJ9yFClvHq701ZMxhMjWwxafEzuEmGjjLqEoyWloIzBTPNAIZrwjRBLYVBS2Xkw8vuoWcEP9MSXE9k9Und0rSnmtAPE4vOo9RFhcHD2A1aiNjFBh8OVV5n5slKvkjXwCB6XlG4fZIGLuhds0K0mX8emNzPiSjEeXy8Xv/dZqYgs7I/FIF74HkLhR6yL2lr6g7wZfU3RUMaZs8efrgr/LM9XbhTX0i7X7lhQJe3mj1a0p4GQ/xBkwlTdyVdxEJQG6lTJkdcCqseGk3qgGZfZUpz02nIWxM03dMGTd7Sh+YPsi49aPFAJqX63fo1nYqketFCjlMrVmL3gA0YpXLHzNfdKY6++BMy4O3tRK8Cgy5L8r8woLSUvxS5dINqQsRLQ9BsTRReHumOcS8vwDgpISchWms7O/BWKOZhPZZM6Y1Rf/snRmkKU3fR7suaE6CJZNsdeOHVLthM05N4Bo4QnDuTf9tVgcAlrg/HO65RmEd1B46kG4HI9I1N+gQONMJ1b8YkjPMehpfISviRvBradyVzvAfNnaUNzZTo0Z29GJugvycROOGhwVJV8GgvEV11On6K15ao/R1mfZNGcBq3volVfvnveHRYR6M33TpgOP1YuH/nFg4t/0H2AiV/ILreLdq0gh8blSgFNh/Y3rd1oxORfxWfrWuJF2g0o1O/zvTT5CRfru+Y5UUK1D3HBjCUkd+dNk6Tpt3SoIC7NBVFN2fhJ0Y/QCaRggjZXEk9F3sLFpjM3QmVy2Lzj7GXEX2ntvbQ6a+pqlGStGei/hfW/oB9jjS9Sa9m8AnzgY9U/D7NIXXq4HU6sqDJj4vhRA7dnsPchWuPZSm7eRO7Xj2mb9W8moqzyZ3pXFHXcJg35aJl3ci3zIkGCORcEOkbyLLA5uQrTZZ3o2lI8E3tqNrmKnE+upxEmSXN3Va0pmrJINNEDKk0kAE0Ork06YJ24IImjW23vHIKzTf0oBn322L4bGZRE0NxegYuMPImhCxsXJeKf86m0abDaF1eIY75RibQnFaaDwCy5NmxTzY1rstG30a/dwE9PvGC0yhveBOmCWTOGz+F1UMfD9Va3+hukqYlYVWyUdT615Jp12wbN/F9UZB6C03dnDFGYvfFqalYrxlRyyqQQnWYfbn0LFw2ki+YRydxxOOdEhTfbQirBiU6C6iJ1xmrsrkde46U4NqZh3tpmdfOfOTTY5wRuMSI0zLrKJ1HJwtqD7PctiKSq7uXyvLycHz9cb3lr0y6NyVcGXGKP3gTDoNboSN97HSk+PupZVoCZ8qzpa8wRY/kDtKhgzCKOyeFGU8kP9PbObjIeLA0x2XZzTzcsmqOwNm9RS3uFuL71ysub1fldWamrNvkG1k82wlW1FW8U/YcExUw/98x9AV4k4Ukfcf/HulaqPW6B474IztD7EpwcHKCZp81wfDY/GbVYYnuJciLli9m74yWIxrXqMI/upPraTsigRTq71ToRstqpFFduVQXszWy8KQtZu9PEwe2JzKWFHuolpwnVQgeS0/QvHykJp9GojFeRtaU4LFk2i/NJ7/8HBoZ+4i+OoYuRdaHY1Fw4r9wn7pZPCHm/tOSXGdP/lNY1SHxsxcwZMVpcyWYnP+5rc+iDzkf/7xsOzaZMBxeRXOttVQ2QNH1WzStRInxeuwao4sLdeiweVUyaDmqyrrViMB0oTnBGpEF8vbvpbpRpcalVhnrSFMltCLnd/b6/+0IdcvKc9PItBW7/GBDJH5doMa6J89Q030T9bdrip49rGiU7V3czCjUn5VeqJq6cWj5rpa2tBBUwS0kxFWCK+V19G2Fv1iWUxs1Vrea6m5qOVqfdQ+tz2pTgl1jdukPQDAQIehG3x1FBaXIjJN19erla0x+ivQmUZfjZg3boAqnOefCWqH4zM94da6O/OlVY+5BNddsCE0bMdgD2DfmG+y2oTnBnKpalN1UzJjPJs2JR/63Px2RGRoq6G7idVahnPkRZrXTtxtWr+qMhpmX8PKkX4xWZtOhKdq0tCSDWQPcvZ5bcRH7x31vGtVajHSc2Bf/pg+SzO0HsGxtIT2r7OhZVYqEKs+VcYHmyqrd9aU9EJ0QiT7WaZjnEowo4yrWSazMXFEn8utOaLwSzVZ1JNtbPTL3AvWOsldLzUK9eBo5WpUVhuqy06uLdQM9OeEUzfp8qlbVSUMMrfRQdcinPPuqzlIXqbGLMe3f1/CM5bUaS/cM6yOQNxSdxZI6JG/si7PwQjpNTEnzRplA3liD0ogcVYc88kvI8lI5CdEBQz5OR/Soli7JzL0sYaoE44VsXBRIo4lqb51INLC+GM9veqyJ+ucX4qf9Vb2gyXcszgRcSbEsylc7iFXdShsixG2aNIL/zJ5E3sip+7vTVZI3Js003UrIR9GUa6Ny/Wzu3Ubiydv45T+1RN5YVVVes2TFZFNL0AeAsNoInc8E8v0zDOZjxnw2TTmbJl5nhgqZfWxaO4WPJefWGP0KmzZEje/fNk7eWPW3CSf2qyw89nuzMsUo3rlzUyE1R9CfnQPRxamKIpUmmSaLiLpvUzgEeGJsP6o7j6YuWZ9XqUzTE0pwZMvHiI0/8EjJG9Pv6SVw5EfTYD0zaz+K8CjrehTtebrrOBC1+aHM1FaF15Gc1hSXv1pZy8TXENcS7H637qx7hrU9ruPbcZexgX48mI7AkIVBCGwn5i9NvYQ1xubMM11creZM2PSLbPBFrYo2LoymOmnL/KKrmhuQkp9kzIw3zCDWlHaSxeyVT8iaLRR9gMuRRx9q/r0n+d5UCQTOYOlAA8hMPTRFlio8ELPDmosi797Crn+elvkJmlqTsXxp+GjNJ8YS6jzuKSZwdY4Nr+D/KQKnIhZjQMT/08bxZj0VCPz8v9MobavArSs3cawGXUZPRSNNVfJ2FvZ+TpmvV20te+oxM6Wd+Xn4/tMEYeDVzRM0YfZVU0F8+vKdi/wZ+cpCmY9vzdtgiqy8o0nYdY8sb0WFOBed9Ugs7TVvkWkln14fONPax3NxBDgCHAGOAEeAI8AR+H+HwJPlzPX/Dl7eII4AR4AjwBHgCHAEOAK1jwDvQq19TOEfEIhWNJom9eYlJKbk10ENNRPp2d0PzvaWuJmTjlPx1brK16wSXoojwBHgCHAEOAIcgTpHoIYWOBo2eyYeWVfO4XzMazIlVfjyZJwYv+1FWTztutLUDZSfldm/gKafkAfXF7VpLF34Jcfh55gPEOoqZXSdg/OatEq3J7G8O+WnvCmV5Dm7ZTpl8ECMRv9tc+SawDN8Pc0dRe0y1F8vl/GDoDnv01xS5/BNxFp8HLEB+/ceRkbSfqwLVVUoEPRmlNjOK/sx194gWWprioFuBrmwMPKIJEPCTNbmlBhZu7qHYe+xOOyP3oCPP1yLb6JjqFwcDq4JEUTO3bJflJMUQ6sw6ELoSpaPZCfvwVzNeZCSK9Nfgx+T/+UM/XbP3fKjIG/vHJovgAeOAEeAI8AR4AhwBGqMQA0JHNBQIRrvbD0CdC/9gPHwtxdHhios9EeI+o8NFKduIFU7DhhkoDCtiiDEqJGVlobUtAwUKZRw9OiPVbu2IVhIy8H17FxkZWQjneatyyoQJ95VF0jH2dnIyb6Cy9dZ5hxco+P0jAKhJPtT59AxlWcTI7JgodHfeyKWMtInBStafoW1zFB/TXqlW5qf7LOXg2CvoCV64mg48Vc7EZeUDYXSAd06GjI0YFQfZ0mUAwbSjOmGgekgLGZvmCA/pkUvWCjIzhAwYbgI2FA7MzM1k7f5Ye+mBfB2UNKC82ex+6to7D5xlqb8VcKti4tQvlFj6VwpVRgdrtFFhbGBEgFT0Bxa0uoZQgH6q0x/DX5skaXAv80RFgvWlGnUmLWKsFVaaaL4liPAEeAIcAQ4AhyBGiAgvlFrUFBXxEl46UesT0JoSAC9to2H8X3dKEGNIrUS1io/gfTJBwIKk+QWJWJ60PPSZLSB2HtmLbxtXRG+gCxmKyIxpG+kVrhj+Cb8PK8HLn4ZjhFrDLoDaVkoMa8dYhIOw9e6GBuDh2C5htOQBa5MK8kK4+e/iMVhDzcMeOHzgwXil/DhFNJHM6U8TQwaEIZJzbUVS7WGwV9FSNEEk+VEZjoPHg7IymhVq3aHMbhibB03UtY2/UKOoWHCDNHqtJ1wDVosS/TASzNayo7ZQj6A10jShc4lSG8fmjS0nCIZ16UVsGTBRP3t++A9Wrf0uarWLZVJ5bscAY4AR4AjwBHgCJiGQI0tcIL4gjQkk5GrO3vp08z8Y2ktMHV2Gll32CI28hCCXq5EWLKP4tN9jGw5YahB95qY2wIO2mKHsO9srnRU0WLTrpFYg0JZ0bqlFUH2H40eTdvqYrV7RWSVI2VtfSdgoUEXoTaPWTvFOB6pI2+saNbRSKw2mBTXM7yvYJlKjtmIY8TtlK69EGpWPfqZldKqUPqx4lG7ds2EncvHtxkkJ+GjiENSHEMpF6dPZJAuAwVdgkP6EhnPwLFEzTnQFTdFf3VBLtF1BQJnvqoryPc4AhwBjgBHgCPAEagVBB6OwNHqmt8fSoOCEZCAKfChFVx+/v5XmXVL1NFxxmCwOStzkg9i9Z5fBUtP12FBRhuQLYtt2uzhDYQaS5u+BUmqpDwNG788Qwct8ez8MFnNNd21wrg1i6gbuery4wd0pQzlSNixGT+eZwRJhZFGCW3VcsRUBZyGhSA0NAQzZL8giZAWq0UEPEe9gbkBUpeoUbEKXIw5iiKi0CNDAzGmtwPUCT8gqaTiOTBF/9LL+7Ezibq5nYZg3VCjFfJIjgBHgCPAEeAIcARqiMDDETjLhji8KZZe+iosWjGRLDYp2LknW2v10ug0dVAXYTfh4D7g6GGkU7ecded+km+bJhdtLe0wLXw65oa/iHVbtmGmNzMt5eLwztOyTLW4a9kEZ9b8FwnEM+wDpwrdupKLnNmVLN+0j3BgaylOxDe00HfKmf3YH/k+XpL514lCA9HXkyyK5ak4Fg/EnjovRHcbZJzQVq0II2dKDHl5CVa9vQTLZL9/P+snFE2k9h0nKx9s3TE/IoYGVRzBqb1fYBXNSq0fLKA+sR0nySIZOHcRBhL0P+/4FoUaE6Y2s2n6KyxyMW/1d0RTFRhB8njgCHAEOAIcAY4AR6D2EHg4AkdUrTjlE5wkgmBrbwV10o+IIlKib7PxQ38v5kyVgl1RTPFDOJhMNEnpimFj7fRbonBC6Lx/Yv68WRjX25WoSTbe6TUQy1P0s9XmkRWSsDaakSgHzFwZiLxCjc3OzFpil8F1xBLsjktBTpEa1rYO8PQNwhvR8YiWj7ocOwJuBFBR4o+IoSqyImKRSltbr14wn8IxdqXGoc9WYNG7K/CO5rdqBVZ9fUlqQBIm9grGuh0nkJ5D7Iz6W9u5diOc19JI29ekPOJGSatwRu2nLm7blnQO0xAZlYZGhiMpTNXfwobI+mJ8l1EOpWo0lpNF8K5ebfyAI8AR4AhwBDgCHIGaIvCQBA5g3mm7DooM69S30TSFB/m6ycPQYejMokotMWblUnxKv86NWQYFnhk+VJ6TuEgK3pkRhlmvrsChNGYLc8D0d9i0H3UXqNcXB97agGSyCrYb/gImNTXa2WqaAik78PewCejm7QvHXmFYt+e8YIHq87fX4C9JeGm4t7BnYdMV61Yup98AKMgCCKUbRhnAYVql5biyMxIREZHk0yb91kciRm/+uTQsfy0c/r36wcmlP2a9uxNZVKet92R8KZ/ihPwED/zvsODDWESDPxjBbGSghLn6L914kDUOoxe/iEYlBDIPHAGOAEeAI8AR4Ag8NAL6xrIaiGMEKGbRBPpJhQ26DGeM8hMtctZOGBLipFeDY7e+8ESkNOqUkspKEU/rlZ0iq1jMzmzsT1oLz8CZNLfbZiwky15dBNbtyayCH2xPwceT3DFldEWn/RrVm5OE5XPeQM9+MTQK1gVDCZdT8R4Y7COO/FSqemOcnkuaEv6jQqhPdYf51TUxp0g+Ymgt0JK2XfD5FFe0MJziJGUN3F3WVCKwev0jL+sXzYp6F/tnBWEIDRTpn/bQl5u+cH7EEeAIcAQ4AhyBPykCD22BEwmQDL07sn3yjRvq60ARBdg40QuOZP3x6dWftmGSX1ZXhBkQPl3pQ1iylXVtWiHkTf2uPl2e6vaytBnU17W7RndiFm1GMlml7J1EgmU0UxWRQTRdR1CFwQv2sBR8yPKRzuoPCIYXY7w5hzHOxUvAwoe2jjO2Sv5zg4nQ6kJZGTPNVR+qbJu9B4ID7CoI8XAT40oLzfD6M0H/iujl442PD5MlsiU8VcynkQeOAEeAI8AR4AhwBB4Wgbo1iXQfj67snV1wAdsFC1o+sphDPfIRm5CNPkMc0GcSOdNvMvSbE5t1asVaJE7eAE+PYKwKWIl5R8X4av/tQxC9YQKakDtbe2GGYOrC2/AF+pDP3vXDa/H3NcZIyz58sO8FfByiZxartipNhsDJ8zH17ZeReOIkTiech1rZHoNHD4MbdR+XpxxFBLU7eL4PdSYC6XGxZGWkkJMvFj+6DxcLJsPXtgvGE6FNlEiwtctI7I3spTcni4IIYdKWJZgnTE3C/PWsxbbJXffIb+1O0jZMXETWvLbD8UHEZCxJO4NjxxNxlQyMngMGYYg3o1oZ+Jbmn2vVW1Sjuv/gkdXr369pegUxWVFrcGx2fwRWILgVsvIIjgBHgCPAEeAIcARMQODhCJycNGgrU5O1hQKl+Qd5EL0gR/24Y7puUilfxO7TWDRkLNr59CcCl00rhzIqYijwNFbRAIPPp7hj5Ow5ROAqdu0Z9apq64SuHu5C3WJ1CrTz6CZMZdLZwo8mzf1BjDaoLua1DZg3egWcGSoGaWKByv/P/fQTCtr1hGfvIOGnyZmTcgBLpq8UDsf4sy5kNU7G7tMkS9skfH82G76BDvALIv12EuljKdTt7O2r3+0sFHBlTChN0lHXNiFN+lPjJ3Hv+hUkZhfDW9WDumx7aLOU0xx+21bPRQTFzC1jjRVMhdp03Y4uzRT9vdszUyMFPfzSsOKzw+j7en+hO72cJjDmgSPAEeAIcAQ4AhyBmiNQr3vgiD+yaQkmFhycnKDZN3YsZOJ/VSLg6OoBjw4t0Zwsf9cuHMIpcXxHlWUeSaK9Cv5u7dCeFCvNS0bMUSKAPHAEOAIcAY4AR4Aj8FQi8HAWuKeyyXWrdFZKErKeFNImb2pOGk6xnzyO73MEOAIcAY4AR4Aj8FQi8NCDGJ7KVnOlOQIcAY4AR4AjwBHgCDzFCHAC9xSfPK46R4AjwBHgCHAEOAJ/TgQ4gftznnfeao4AR4AjwBHgCHAEnmIEOIF7ik8eV50jwBHgCHAEOAIcgT8nAnwQgxnn3bO7H5ztLXEzJ51WVXiCRnHSCNPg7u1QUpKLpGQaRCHMtWdGw3hWjgBHgCPAEeAIcASeKgRqxQIX9GYUsq6co99+zDWcrNV1Ds5TWsq2OVUC4z/nC0HG3gUeVeTzQMwZVo/x3/4FflgY+aOYThPZhupJksom78FcWljdrNA9DHuPxWF/9AZ8/OFafBMdQ3XE4eCakIpiXKfjrKQf08cwmNJOz/BNlbYxK+kL7bqqoJUulm/Zg6yTMYJen9NaqD+fJKwPbkIoOw+uL0q6xCM6XIZrwGvCOWE47p0ji2fKVqo/wy9e0Ou8wbn0DF+PDJJ1ftuLhs3lxxwBjgBHgCPAEeAI1AECtULgRvVxllRzwMAwA0JAKczMR4sDmBQUtHRWlUGwGaqRRXPXpWfTj20zspFDU2TEn71EFUlGRaUrZq0cridKSFLYoaVZa4f6Ye+mBfB2UKIo+yx2fxWN3SfO0uJgSrh1cdGTzw78xwZCw2E70ooHlYWq2mnVSAJLXSC0T2ir0N5sZKXrzGtzt2zE1N5ONDdwLo7viUbUnsNIzlHT/L894NOW1ayUpudVwG+kDovQkABoFrVSKPXxrkp/C4WIra33RCylFSM0wapRE+EcKyzYOhM8cAQ4AhwBjgBHgCNQ1whIbOdhqgmDv4pe3DS7fjmRgc6DiSjQ8kx1GtSJmD7g+QqrO7A6Fz6vq9l5+HQEv7YPMVKUZnGAe7os1e450hqn3rSchDptJ1yDFsvye+ClGRVX/hzf143yqFGkVsJa5YcZdMRWO6hJKLoYBf8Jn1RS1A8DnxGXw3rHYyQ+kuUKDX8RpdcpQsPSaFfhGkC6rCRdVBjLSF8loSr9Nfix9WnHz38Ri8Mq060S4TyaI8AR4AhwBDgCHIFaQeChLXCe4X3hSKokx2zEMTIOKV17GXRd1oqeBkIsqrPToVxNi1GRFe6VNyt2YxoIq/KwXbtmQvrl49sM8iXho4hDBnEh6OVKZDb7KD7dx3zknDB0hsogTy0dkj+eCzN4Fd3EUQORUes/QYxkqGMMvSgjjSilE0aH2wG0Pq0PEbvkBKafYTBB/6JspBcQN/SdgIXmdkUbVsePOQIcAY4AR4AjwBGoEQIPTeDGD+hKFZcjYcdm/HieVkonC8/IuiIt2iY2Rf+xwzEjNET2Gw5PbToQH7MDbFl1t7GzZD5jsgwm7harRbuT56g3MDegajLmOGOwsN5qTvJBrN7zq7CeaddhQSbWVDGbZXMXzBiq385QjQ7xvyKTLZhq7YK5c3TdoxWl0Nm58TNOZRN3GzARrPtUiRR8/0tehawm6V+eho1fnqGyLfHs/LAKMngER4AjwBHgCHAEOAJ1j8BDErhA9PUkH6ryVByLB2JPnRc07jao5qTFpCYrVZj93gose3uJ7LcC02R+WRaZkdh4iAildTcskhz1TXTD01Mhcc1/cZxZs2zdMT8iBhlJR3Bq7xdYFR6ol48dTB3URYhLOLgPOHoY6USwrDv3Q3CFnKZFKJyCsOxD/XauWjReKnwIW2OZFc0WQ15eIQyqOHssBtErX9QjsiyzApnY9n0aFN5T8K9gJ6iTfsQeyUInCRM2Julv2QRnCJMENWAfOFXoIuZL08tR5PscAY4AR4AjwBGoewQezgdu7Ai4kYSihB9FP7OIWKS+3h/OXr0QhE9woK70Z1agpV8gx5L1IUqhNBs7iUROlQ4VNuR7NnMrXrnyT3g/9xL55b0HnQ+XppAp2yRM7BWMhStfxeg+XdDG3hbtXNlvLYYO2Ar3CSslIX7o70V9k+Up2BXFog7hYHIxnD1cMWysHWJ25ptSmV4edcYBrFp3kjiapp2NUJrFrF9iiJgTjOvnFuEfk/rCxckB9g4q2IfMwv7hA7FowASd751FI8R8Eov/TJkFexJ1/OtPkNesl0aMtK1Of112KyRhbfR5fD7FHTNXBiI2uWbI6iTyPY4AR4AjwBHgCHAEzEHgoQjcS8O9hbosbLpi3crltG8BBVlmoHTDqKHAgVhzVDEjb3khYqN2VLMwOxsLuhlfx03DbN/e2BwajXusy7FGIQ3LXwsHayFgh+AZ/8CiuWPh6D0ZX4Zux3NRZAkbOgydGc8qssSYlUsxjHZtG7P8CjwznMDYGckOzApleVfw0c4dVZY5ELEMByLELJ4BIViwaD4CVa6Yt2Y6IpaK8RZsdGjOGpzMfgFDWqZiJxHM5oazulSr/zmtHjSmAwfe2oDksLVwG/4CJmXd0qbxHY4AR4AjwBHgCHAE6h6BhyBwHhjsI47CVKp6Y5yee5gS/qNCqE+1avJR980Dli+NwuS9szBw5nRcrBVDUT5iIhajpG0XskC5okVHRhTTMGOUnzCVBs3hgSEhTnpNc+zWl7o1I42OmtXLaHhg5rQciUd34LnJ9kg5OQuWjckEaRCm99X1MfsbpFWvv47AFQllD+GD7Sn4eJI7poymrmoeOAIcAY4AR4AjwBF4ZAjU3AcuIBhezBSTcxjjXLzg06s/fGjrOGMr2Ave0Xewni9WWRkzzVUfytVGnLMqFCuDyX5XKZ9ga0IBFE7d4KmZoK2CvCoi7D0QHGBXIYOHmxhXWsg0UWGorwNtC7BxImHgQlgQHo4uYZL/XFeE6biTIMukdlaJGVkCac65CqF3O1hWiKwuwnz9mcSYRZuRTKfV3kkk8tXVwtM5AhwBjgBHgCPAEagdBGpsgQse6UOjGYH0uFixKzNH8vE6ug8XCybD17YLxhNpSbwjKmrtMhJ7I8nvSjaSQEH7SVuWYN5O5owvBpfR7yCmd5k8G1m2buHzl15BlIbbKV3w/rZNNMpTJ0yQ9fUS/K4RJNsuX74T06JngPFNs0Pb4fggYjKWpJ3BseOJuErGJs8BgzDEm5GWDHzL5rzr/hq6sjnXCi5gezyrIV9aziofsQnZ6DPEAX0mEdmK1007UlU7rzERFKw7j62IGXIIi/mERSe88t5afPx6Bo6fOI2ElEw0de2D0UN7CJbA+MM/kIRBgpxq/2hqker174K8CoL24YN9L+DjED3za4VcPIIjNFdUUwAAGlZJREFUwBHgCHAEOAIcgdpFoMYEbow/6yZU42QsjbjUC0n4/mw2fAMd4BfkR75fbJIRCtS16O2r37UoFHMVuyA1Iqyd3FExWzHc2lIODYGjkZee3j00RXTb0/Y4LB3pubvFr8FXCWMx05uxLDP7Ua9fQWJ2MbxVPaibWFdneUEatq2eKwwU8A/yEMhhVtyxCt2kEbtPY9GQsWjn05/q1hG4qtqZdFfSUelAmDHLnjyo4UVYROVcwk9xGXAhsPqMZD9NnmIk7NmIYEYsXUUCV1pyW5NYYVtOEzCbpr+PSOAM4It5bQPmjV4BZ3YlGaRVqIxHcAQ4AhwBjgBHgCNQKwjU6x444o9sWqaJBQcnJ2j2jR0Lmf6sf7RgvL9bO7RvbonSvGTEHNVZDR8vJHbw7N4JDvaWaI5SHIk9jazHqxCvnSPAEeAIcAQ4AhyBOkagxha4OtbryRNPa62eYr8nTrN8JMafrmD5e+LU5ApxBDgCHAGOAEeAI1BrCNR8EEOtqcAFcQQ4AhwBjgBHgCPAEeAImIMAJ3DmoMXzcgQ4AhwBjgBHgCPAEXgCEOAE7gk4CVwFjgBHgCPAEeAIcAQ4AuYgwAmcOWjxvBwBjgBHgCPAEeAIcASeAAT4IIY6OAn+AYFoRSNCU29eQmKKND9eHdRjrkjP7n5wptGqN3PScSr+SRlFa24reH6OAEeAI8AR4AhwBGpogfNAzJlzyLpS9W//Aj8s3HaE8p3EUr2VCKh8ApVN+ALCkk6uL+KsoazkOPwc8wFCXcWT5Bm+HhlCnjh8OUOld+bmbvlR0GXvHA8h3jN8U+W6JZlep14lJhwEzXkfZ5PP4ZsImmA3YgP27z2MjKT9WBeqry8TFfRmlKTjfsw1XCHCdQ7OU1tTthkuWKqvxMJIhq3xc5ASIyvbPQx7j8Vhf/QGfPzhWnwTHUPl4nBwTYggcO6W/aKcpBjMkFURupLlI/nJezBXOg+a5Mr0N+c8aWTxLUeAI8AR4AhwBDgC5iFQQwJXgtRrGcjJzkY6zSGXnl0g1qouEI6zKC4rJxtZt9kyU7rVEiqopk1SSss/qZGVlobUtAwUKZRw9OiPVbu2IZgKWjVqIq41Sus/BP5tDhxlwho1Fg2JCqWVEGvVSBIs00fUk3RK18wGXH2dsiqq3x26FJ+9HAR7RTlS4w4g6qudiEvKhoIm4+0mrJeqL2JUH2cpwgEDw0TiKc/BWmShxUeeItuX0guy6Ryw8yD9srJzkZmpaacf9m5aAG8HJYqyz2L3V9HYfeIsLfqlhFsXF0FYo8ZsTQ0KShVGh2t0UWFsoEQ8FXZo2UTMovmvTH9zzpNGFt9yBDgCHAGOAEeAI2AeAjXsQk3DvAkjdTXZvygsoI6LUfCf8IkunvYWDtA7rPRAWDmhKBHTg56X5jQLxN4za+Ft64rwBR5YQmtuaoN9H7wXaofnoqruniwyoo9WBu1UV2fMClrNwMSw8PnBAsFM+HAKRrBVEKTgGBCGSc01ZEoTGwZ/FZEmWgWhnEhn58HDAVkZTa7qt4zBFWPruJFYbliFVNgxNAzetIaYOm0nXIMWy0R64KUZbDkwXWB4eI0kXdaT/qS3Dy1cUU6RCrpK7umy0Z6J+pt4nvRE8wOOAEeAI8AR4AhwBKpFoIYWOAO5bUULjoWFZMkxSDb90AK6haMOYd9ZWnhUCKJlje2qC3JpAS8FAme+KiY99H/1dZpeRTGOR+rIGyuXdTQSq2VrvbI4z/C+ggUxOWYjjhHxUrr2QihLqGFQshXCKgnt2jUTUi4f32aQIwkfRWiW9mJEMBenT2SQLgMFXYJD+pKNLgPHEjXnQFfcFP1r/zzp6ud7HAGOAEeAI8AR+LMjUDsE7k7twZgtE9W0WUUDYenl/diZROY4pyFYN1SW2ciuZXMXzBg6HDNCQ7S/0ACpW1CWv7o6ZVmr2bXCuDWL4G/o02ZQavyArhRTjoQdm/HjeUaQVBhp4NdnUKSKQwWchoUgVNZG1t4gyWetWC0uUOo56g3MNdJ2nWAFLsYcRRFR6JGhgRjT2wHqhB+QVFLxHJiivznnSacD3+MIcAQ4AhwBjgBHwBQEKr6dTSlVV3ks7TAtfDoy0Qgd/AZihLD4fC4O7zwNDJsl1KqwyMW81d9hQsRYjJi7CLNjl1WqjcIpCMs+DNJPT9uKqKCVuriq6tTlqnZv+aZ9mPbhRDj6TsQ3JyeiqCAb1y4n4tv35+OjeHnxQPT1JItieQqOUXzcqfNYFtgf3QaRnhH63c/yUsb3GTmzwpCXl2CIQYbUL7Jw4C1aYmvNf3F8YiT62LtjfkQM5pBfYGZ6Ok7u2Yx56zUWOFbYAuoT23GyYDKGEK7lZNU7vfpbFI4aayDZNP3NOU8GFfBDjgBHgCPAEeAIcASqQeDJInAKJ4TO+6dM5Wy802sIPqJuRv9hUrSFDXB0Mb7LGIVRqtFY7rqMOv+MB3XGAaxadxKw1XTtNkJp1hn9zFXUqZ+xmiMikq4jLuDTxaHo2bkd7G0d4OlLv+h49CO/uIkaH7exI+BGqBcl/IgYJjIiFqmv94ezVy8E4RMcqKYa/WTW9anGoc/W4EfCyFKT2AjIPHhJOkrCxF7BWLjyVYzu0wVt7G3RzpX91mLogK1wn6Ajs0qkIWp/GoZMUlEndRoio9KgCpFGSmhkV6N/kSafGedJU4RvOQIcAY4AR4AjwBEwDYEni8CpU/DOrKXIbO6FCeEvI1DlgOnvTMdHMzdXaM3SjQcx6u0gjF78IraWCMMRKuQpy7uCj3buqBCvF2FGnXrljB2k7MDfw6T67D2w8PU3ED7SHX3+9hr810zBKSrz0nBvoaSFTVesW7mc9i2gYAM0lG4YRV3CB2KFZDP+ynFlZyQiUqoqkoblr4WD1QbYIXjGP7Bo7lg4ek/Gl6HbofXaa0v1/+8wChiBSzgsEMyFBmKr0z/SIL8p58mgCD/kCHAEOAIcAY4AR6AaBGrHB66aSoRkU/zkykoRfzQJMURIngt6A4lEbBwDZ2K53hxyYmVZUe9ifzYZ13wnoL9DJTzUlEEVZtRpSjO1eXKSsHzOG4hnJimlC4YKbfDAYB9x5KdS1RvjQkbQLwjtBAOhEv6jxHnZtDJM3WliakaWLx8xEYvxerTI+FoYTnGSsgbuLl5wnbDGiFDz9TfpPBmpiUdxBDgCHAGOAEeAI1A5Ao+IwFmh6zD54AEvtKWpLZj1SdgY1e8Qlmw9TylWCHnzNSM58vHGx4dpKEBLeKrIYctYKGOmLXNCdXVWLiuIpusIqjB4wR6WQg9kPtKvU9mAYHixBuccxjgiST69+sOHto4zttLgASKrvoPhKauizET91Ux2ZYEsgcEBdhVSPdzEuNLC4gpplUaYoL9IT+USTDhP8ux8nyPAEeAIcAQ4AhyBahGoxHRVbTmTM2zZcRKzvYPg++JGfNliN375nZzux40WptEo+OWI1ufLmCKnVqxF4uQN8PQIxpRzVyrUmRW1Bsdm90dgBeIkZrXuPBZ7I3sxnqgNCuTg85fmI4piqqtzVcBKzDuqLVrlTuDk+Zj69stIPHESpxPOQ61sj8Gjh8GNrGvlKUcRQT5qwfN9aGoOID0uVuhORU6+KPPoPlykwQO+tl0wnix1iZK10tplZEX9qS1JW5ZgnjA1CRvEYI3RG75AH3GwqSiPZgC+k7QNExdRd27b4fggYjKWpJ3BseOJuEoOg54DBmGIN6NaGfiWfPNa9RaLVfcfPLJ6/fs1Ta8gprrzVKEAj+AIcAQ4AhwBjgBHoEoEjHGYKgtUlih4oclJhJQxK2o+5nXchCVTeiBw0gwESvE5STsRPvUT6UhNK4cyKmIo4DRWRZ/H51PcMbAXDV5gQS9LGlZ8dhh9X+8vkLFymhiXheK7UiZaBcGbBhLoBzW8yNcr6k71dY6cPYcInLGuRH2J7OjcTz+hoF1PePYOEn6aHDkpB7BkujhQYIy/E0WrcTJ2nyZZ2ibh+7PZ8A10gF+QH7CTTTJCwdqJ9GdlDIIrY6y0lqnQTAXaeXRDO4Msavwkxly/gsTsYniremAc/TShvCAN21bPRQRFzC1jgmQsV5NJ2OrSTNHfu/11sbR0CsQD4+dJrxp+wBHgCHAEOAIcAY6AyQjU6x444o9sWoKJBQcnJ2j2jR0LmWr8Z4egoV3RmMrfvHoIp6p0uq9xJY+9oKOrBzw6tERzGhJ67cIT1E57Ffzd2qE9KVaal4yYo0QAeeAIcAQ4AhwBjgBH4KlE4BESuKcSH640R4AjwBHgCHAEOAIcgScOgUc0iOGJazdXiCPAEeAIcAQ4AhwBjsBTiwAncE/tqeOKcwQ4AhwBjgBHgCPwZ0WAE7g/65nn7eYIcAQ4AhwBjgBH4KlFgBO4p/bUccU5AhwBjgBHgCPAEfizIlBr04g81QDSCM3g7u1QUpKLpOQkZNGcbU9K8A8IRCuaZCX15iUkpkjzxj0pynE9OAIcAY4AR4AjwBF4LAjUzALXfQ5SrpxD2t5FxpV2nYPzlJ4S85ou3XU6zlJcFv32L6C5zuTB9UVtGksXfslx+DnmA4S66jL6z/lCTNPkuRKHUzHvI7SSiXx1JSvbU2H5lj3IOhmDjz9ci88jIvHzSdL74CYjMu2w7kCcUH/agaUVBWravG1OxTRZzMLIIwZtkNpLbUqJ0ZUNmvM+ziafwzcRa/FxxAbs33sYGUn7sS5URdI8EH0mXpBzXo4xVPjypKjj+W0vymplu5XrvzDyR1Enmvw3VK+UB2LOkH7JezBXdh70svADjgBHgCPAEeAIcAQeOQI1I3Dxp3FNTUt8tnNHkDGVmzQUJta1wD1tqv/YQGh4VkdaCUA/KEHTplFQIystDalpGShSKOHo0R+rdm1DsH5mqHMykJyShoJyJU1iG4RVJ49g+dCKy0UZFKtwOHfLRkztTRPlqnNxfE80ovYcRnKOmubP7QEfmuxXL9iPgb9KWLQUSpUfXtI0RpaJmTNpEYSqg5RekJ2BdJp/T/PLys5FZqZk+hu6FJ+9HAR7RTlS4w4g6qudiEvKhoImJu4mrV3aUCEaT209AjBDU2PAePjbizoqDNeBrUp/C8kQq3TFrJXDNdKErZCksENLs9Zb1RPBDzgCHAGOAEeAI8ARqGUEpDe3uVKLcZstnSCyrgqF/YM8hDVOE4noacL4vm60q0aRWglrIkCMdLBVADRBWHmgKBHTg55HohAZiL1n1sLb1hXhC8gStCJJkxUXo1/BiDVsIloVVsVsRKhHS0x983Wsi52PLG2u6nb8MPAZcTmpdzxG4iNZ9tDwF1F6XRZBu/5hfYTlv9RFaiitHTB4nAc+Wq/TST93VUeMwRVj67iRWF5JV+3C5wcLBDjhwynUTl0djgFhmNScFWosq8AJo8M9EEG6hIYECEt1yRK1u6bq7zx8OoJf24cYqaRmQQUdFdeK5DscAY4AR4AjwBHgCDwmBGpmgUMSEq7RslXKdgiktTthPxzrPvoAm1e+KJAc4mlCKM2lPEIIQS9XsgxlH8Wn+xjxcsLQGSopTb6xgG7hq0PYd5YW7hSClTwTWaI05q80zAt+A4msPvtemB2gl63qg+5+cGHGqqKbOGqQM2r9J4gxIFejB7Nl5gvw9bpvhYXnvYYMMihl3qHStrr8xTgeqSNvLHfW0UisFtZAlcrScljJBUD3kcMpwg5j+zlBnU2WSToyNASaon+5mmg0WeFeedOgi1uqjm84AhwBjgBHgCPAEXgyEKghgaPlsKSF2O/dARzDJmHckP4YEjIS/ahd/r1d6L8Yv/4kEhDHGYOFtTpzkg9i9Z5fhXU+uw4z2vmKbBkuTZuZYiA8jcMXGWWxQvdeZhCP+F+Rycx+1i6YO4cRoKrCcPRxJrZXdAWRETG4QoRR6da7QtduVRL00xRwGhaC0NAQzJD9gvT8zKwwbs0i6hLVL6l/lI3vD6VB4doLoQFT4GMN/Pz9r/rLxQoFTNM/PmYH2FL0bmNnwV+/In7EEeAIcAQ4AhwBjsAThECNCdzFy2xEpBV8Bqgw1L2N1CR7+JBFTlxLPh/p8WL01EFdhJ2Eg/uAo4eRTsTJunO/igTI0g7TwqdjLnVhrtuyDTO9mZkqF4d3npbkV7LR9PNVkmw8+hC2xjJroC2GvLyCnPjjcPZYDKLJishsbfLgGDoUzsQlCy6eoe7dJBxnhFHhijGh5vvdiSvQK6nOJVj19hIsk/3+/axIQJdv2idY+Rx9J+IbNqjizH7sj3wfLzFrpzxYNsThTbGUV4VFKyZS92kKdu7JrmB9M1V/i8xIbDxEVk/rblg0x0OoydCSJ6+e73MEOAIcAY4AR4Aj8HgQqDGBOxWfJPSUlsENPd1bQp12nvzPlPAICkOv9tTlqc7HRaFNfujvRUSsPAW7oljEIRxMZt2vrhg21oAAKZwQOu+fmD9vFsb1diVp2Xin10Asr2bh+8I7ZBKrQYiYE4xp70YjIS0bRTQgwt5BhT4hs7CfRmPOkFm+Jo3qKkg/u/sTYbvluwvC1nvomBrUyiiRGoc+W4FF767AO5rfqhVY9fUlUV7sMriOWILdcSnIIZ87a1sHePoG4Y3oeERLxErMaIHilE9wkrp7be2toE76EVFEmg3tlqbqr7Ahv8SZW0Hi4P3cS/RfYsSaJ9bM/zkCHAGOAEeAI8AReHwIGL7rTdfkZiHNTgZ0HDIKbYnsXP52G65ZuqO/nydKiaOUpyfhFJM2dBg6C75mlhizcimGUZRtY5agwDPDhwI7I9mBGNQpeGfWUmQ298KE8JcRqHLA9Hem46OZmzU5jG6bNmMV1CwciFiGAxFiWc+AECxYNJ/qdcW8NdMREcbqpcEOnZklsBwOA5ZjXc97aEiEigV7rz7U1bhZbKcQY+pfOa5QuyOqIqYpO/D3sB2iQHsPLHz9DYSPdEefv70G/zUrtRUx78BdB1MwZJIrTn0bDbhO0aaJO9XrryvAWOtmfB03DbN9e2NzaDTuCaNLdDn4HkeAI8AR4AhwBDgCjx+BGlvgkHJcmErEtk0XGrigRtKBHfgpORfWHkPQnfhO0e1CoXUzRvmJFiFrJ/KRG4tR9OujEgclOHbrq99dWVaK+KNJiCFy81yQODjBMXAmlht2HerhZodOrcn5i8Lv6cx2VPOQeHQHnpv8hdB9admYzFEsBBABFcQr4BY4AuNGUht6q8Q0684Yb87ACbGU+G/OtBw5SVg+5w3EF1FRpQuGyvBgqsUsmgBHFy88F0Hd2oZya6D/8qVRwkCIgTOnw6ZG3dPyhvJ9jgBHgCPAEeAIcARqG4GaEzjqMM3JIfOMLeseTccx6rqLPcW6ABUCYbt27jjtk3+cL7NWFWDjRC8iGf3h06s/bcNwnHEt264Ik5ERipGFQ1iy9TwdWyHkzddk8VSdWkfUghe8h4EOZEhUn8WHUcynzdRgh2Cam65C6N1Ob3aU0JBnhKk5UncsEEiSqL8XFu3JoKJW6BUyXE9EWZlp3bnq63rF9A6CQsMQxIxhesEeloJDGvkW/l97dxMa1RWGcfyppGCgEVQMpIuJWs0UkmASv6AOpRaa2HYYko24CEbFlagUdCUKARcRi6XddKEY2tKWIkFBU7FFUFOjk6AOmg+ZrDTghAomiyhkEdD33snYsRPaRDGBl/+FzEzmfp33dzYP5945N2/fINO9stiPSvKX2bY/3Ncuy/6cGlNRpEbVBe3IPzqfEUAAAQQQQGA+BCz5vO4yqqEnE2qIvKfJzGB23rDuu3b/1CabsHdSjx/ajGx1u7UmuPo4NqgOC3jS6NRjqkZ1KTWiWEOZYtssRJ0uvG8r2Prmse/U13xS1VWNOvHxcXUEX9qy/ItW/VL5TJHKtfognLh2Qn980zrLS5kV2v+1PeXg0LCudyeVSj/SomhMiS3rwwB65+plO9NKxTdE7N2m9Oi8GJza2m+jXLa0n03qcDyi8g2f2gjkxZfzz5Wsiuv3Xz96ZR6PIgte/T+26kA4BUgwpFWixMmfFMsf3bIZgJ/ZvXdbD5/V5uaDajm6V33dN5RMDWhi4XJ9lvhcH9qV4sl0l9otvybCVvzfy8za/+6jwuO0tZ3TjjO7wvn8CtfyDQIIIIAAAgjMp8AbBDjpdp9NOlFbqYe3erI12GXVobE9Kl08rmF7bmduQt9M719Tk/P+U2r7BQtADU0qX/eJBbiR8H66koJb5pM6cWZAP2yvVHzfV+rozu6/eGWN3acWfJ5UJn1V3x/Zr/YwIGbXz+x1SD29w1plAS1mQSwWz+31VKnOU2oMJtC1R3zVBCNQ4/d1viu3fuq967Luj29VbWmtWqJSm30d3i5ml4prw9D3r+2jwYFshDAMbUX2BImacGqV/K0mlHW819OjsfKNqt5UH/7ltnmc/lOtO4/bv1XZr/IDYG4ju5wdtiNYF62fUftX/53dOdwvd5w73+q3VNPUL4GnPVFuS94RQAABBBBAYI4F3qnb/OXzEXukU7CURSLKfZ7u/3Ajdy9LVF1XobLSYi21GHntUvLlaNp8l/p+tEpVK5ZpabH0YPCKbv7Xjx7mu7GcHwEEEEAAAQTmTOCNRuDmrJVv9USjCh75lX1811s90awPnkn32wjjrHdjBwQQQAABBBBwLrDAeX2UhwACCCCAAAIIuBMgwLnrUgpCAAEEEEAAAe8CBDjvPUx9CCCAAAIIIOBOgADnrkspCAEEEEAAAQS8CxDgvPcw9SGAAAIIIICAOwECnLsupSAEEEAAAQQQ8C5AgPPew9SHAAIIIIAAAu4ECHDuupSCEEAAAQQQQMC7AAHOew9THwIIIIAAAgi4EyDAuetSCkIAAQQQQAAB7wIEOO89TH0IIIAAAggg4E6AAOeuSykIAQQQQAABBLwLEOC89zD1IYAAAggggIA7AQKcuy6lIAQQQAABBBDwLkCA897D1IcAAggggAAC7gQIcO66lIIQQAABBBBAwLsAAc57D1MfAggggAACCLgTIMC561IKQgABBBBAAAHvAi8ATmsAa9awl5UAAAAASUVORK5CYII=)"
      ]
    },
    {
      "cell_type": "markdown",
      "metadata": {
        "id": "vf5fn1ONK6Gg"
      },
      "source": [
        "**문제 233. 부서번호가 20번인 사원들의 이름과 월급과 부서번호를 출력하시오**  \n",
        "판다스를 이용한 방법과 이용하지 않고 하는 방법 모두로 출력하시오"
      ]
    },
    {
      "cell_type": "markdown",
      "metadata": {
        "id": "pbDdxgl8MkW-"
      },
      "source": [
        "~~~\n",
        "import csv\n",
        "\n",
        "file = open(\"/Users/LeeJunhyeok/Downloads/emp2.csv\")  \n",
        "emp_csv = csv.reader(file) \n",
        "for emp_list in emp_csv:\n",
        "    if int(emp_list[7])== 20:\n",
        "        print(emp_list[1],emp_list[3], emp_list[7] )\n",
        "~~~\n",
        "![Screen Shot 2020-12-07 at 12.15.56 PM.png](data:image/png;base64,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)"
      ]
    },
    {
      "cell_type": "code",
      "metadata": {
        "colab": {
          "base_uri": "https://localhost:8080/",
          "height": 204
        },
        "id": "iAqXwniNLIqI",
        "outputId": "6f1aa407-80c3-4c8b-e86c-a26f31c6b8a6"
      },
      "source": [
        "emp[['ename', 'sal', 'deptno']][emp['deptno']==20]"
      ],
      "execution_count": null,
      "outputs": [
        {
          "output_type": "execute_result",
          "data": {
            "text/html": [
              "<div>\n",
              "<style scoped>\n",
              "    .dataframe tbody tr th:only-of-type {\n",
              "        vertical-align: middle;\n",
              "    }\n",
              "\n",
              "    .dataframe tbody tr th {\n",
              "        vertical-align: top;\n",
              "    }\n",
              "\n",
              "    .dataframe thead th {\n",
              "        text-align: right;\n",
              "    }\n",
              "</style>\n",
              "<table border=\"1\" class=\"dataframe\">\n",
              "  <thead>\n",
              "    <tr style=\"text-align: right;\">\n",
              "      <th></th>\n",
              "      <th>ename</th>\n",
              "      <th>sal</th>\n",
              "      <th>deptno</th>\n",
              "    </tr>\n",
              "  </thead>\n",
              "  <tbody>\n",
              "    <tr>\n",
              "      <th>3</th>\n",
              "      <td>JONES</td>\n",
              "      <td>2975</td>\n",
              "      <td>20</td>\n",
              "    </tr>\n",
              "    <tr>\n",
              "      <th>9</th>\n",
              "      <td>FORD</td>\n",
              "      <td>3000</td>\n",
              "      <td>20</td>\n",
              "    </tr>\n",
              "    <tr>\n",
              "      <th>10</th>\n",
              "      <td>SMITH</td>\n",
              "      <td>800</td>\n",
              "      <td>20</td>\n",
              "    </tr>\n",
              "    <tr>\n",
              "      <th>11</th>\n",
              "      <td>SCOTT</td>\n",
              "      <td>3000</td>\n",
              "      <td>20</td>\n",
              "    </tr>\n",
              "    <tr>\n",
              "      <th>12</th>\n",
              "      <td>ADAMS</td>\n",
              "      <td>1100</td>\n",
              "      <td>20</td>\n",
              "    </tr>\n",
              "  </tbody>\n",
              "</table>\n",
              "</div>"
            ],
            "text/plain": [
              "    ename   sal  deptno\n",
              "3   JONES  2975      20\n",
              "9    FORD  3000      20\n",
              "10  SMITH   800      20\n",
              "11  SCOTT  3000      20\n",
              "12  ADAMS  1100      20"
            ]
          },
          "metadata": {
            "tags": []
          },
          "execution_count": 63
        }
      ]
    },
    {
      "cell_type": "markdown",
      "metadata": {
        "id": "gd7Aijuuhdx6"
      },
      "source": [
        "#69. 실수형 자료를 정수형 자료로 변환하기(int)\n",
        "- 파이썬의 변환함수 정리\n",
        "\n",
        "| | 데이터유형|변환함수|\n",
        "|:--:|:--:|:--:|\n",
        "|정수형|int|int()|\n",
        "|문자형|str| tr()|\n",
        "|실수형|float|float()|\n",
        "|리스트형|list|list()|\n",
        "|튜플형|tuple|tuple()|\n",
        "\n",
        "- 코드 작성시 수학 연산을 하다보면 정수끼리만 계산해야 하는 경우가 있음\n",
        "> 이때 우리가 가진 데이터가 실수형이라면 실수형 자료를 정수형으로 변환한 뒤 계산을 해줘야 함\n",
        "- 파이썬 내장함수 int()는 인자로 입력된 실수형 자료를 정수형 자료로 변환해줌\n",
        "- int()는 입력된 실수형 자료의 소수부분은 버리고 정수부분만 취하여 정수값으로 리턴함"
      ]
    },
    {
      "cell_type": "code",
      "metadata": {
        "colab": {
          "base_uri": "https://localhost:8080/"
        },
        "id": "Y_xkPFQnaY9Z",
        "outputId": "2ca636d4-a62c-4303-f74a-f995adf71f97"
      },
      "source": [
        "print( int(-5.4) )"
      ],
      "execution_count": null,
      "outputs": [
        {
          "output_type": "stream",
          "text": [
            "-5\n"
          ],
          "name": "stdout"
        }
      ]
    },
    {
      "cell_type": "markdown",
      "metadata": {
        "id": "EndaPAc3ixUZ"
      },
      "source": [
        "**문제 234. 판다스를 이용하여 emp3.csv를 읽어 이름과 월급을 출력하는데 월급을 출력할 때 소수점 이하는 버리고 정수부분만 출력하게 하시오**"
      ]
    },
    {
      "cell_type": "code",
      "metadata": {
        "colab": {
          "base_uri": "https://localhost:8080/",
          "height": 483
        },
        "id": "K6jcB8eGi5ol",
        "outputId": "f0f73efd-4a3a-4674-d568-2f19b6e2ddc3"
      },
      "source": [
        "emp[['ename', 'sal']]"
      ],
      "execution_count": null,
      "outputs": [
        {
          "output_type": "execute_result",
          "data": {
            "text/html": [
              "<div>\n",
              "<style scoped>\n",
              "    .dataframe tbody tr th:only-of-type {\n",
              "        vertical-align: middle;\n",
              "    }\n",
              "\n",
              "    .dataframe tbody tr th {\n",
              "        vertical-align: top;\n",
              "    }\n",
              "\n",
              "    .dataframe thead th {\n",
              "        text-align: right;\n",
              "    }\n",
              "</style>\n",
              "<table border=\"1\" class=\"dataframe\">\n",
              "  <thead>\n",
              "    <tr style=\"text-align: right;\">\n",
              "      <th></th>\n",
              "      <th>ename</th>\n",
              "      <th>sal</th>\n",
              "    </tr>\n",
              "  </thead>\n",
              "  <tbody>\n",
              "    <tr>\n",
              "      <th>0</th>\n",
              "      <td>KING</td>\n",
              "      <td>5000</td>\n",
              "    </tr>\n",
              "    <tr>\n",
              "      <th>1</th>\n",
              "      <td>BLAKE</td>\n",
              "      <td>2850</td>\n",
              "    </tr>\n",
              "    <tr>\n",
              "      <th>2</th>\n",
              "      <td>CLARK</td>\n",
              "      <td>2450</td>\n",
              "    </tr>\n",
              "    <tr>\n",
              "      <th>3</th>\n",
              "      <td>JONES</td>\n",
              "      <td>2975</td>\n",
              "    </tr>\n",
              "    <tr>\n",
              "      <th>4</th>\n",
              "      <td>MARTIN</td>\n",
              "      <td>1250</td>\n",
              "    </tr>\n",
              "    <tr>\n",
              "      <th>5</th>\n",
              "      <td>ALLEN</td>\n",
              "      <td>1600</td>\n",
              "    </tr>\n",
              "    <tr>\n",
              "      <th>6</th>\n",
              "      <td>TURNER</td>\n",
              "      <td>1500</td>\n",
              "    </tr>\n",
              "    <tr>\n",
              "      <th>7</th>\n",
              "      <td>JAMES</td>\n",
              "      <td>950</td>\n",
              "    </tr>\n",
              "    <tr>\n",
              "      <th>8</th>\n",
              "      <td>WARD</td>\n",
              "      <td>1250</td>\n",
              "    </tr>\n",
              "    <tr>\n",
              "      <th>9</th>\n",
              "      <td>FORD</td>\n",
              "      <td>3000</td>\n",
              "    </tr>\n",
              "    <tr>\n",
              "      <th>10</th>\n",
              "      <td>SMITH</td>\n",
              "      <td>800</td>\n",
              "    </tr>\n",
              "    <tr>\n",
              "      <th>11</th>\n",
              "      <td>SCOTT</td>\n",
              "      <td>3000</td>\n",
              "    </tr>\n",
              "    <tr>\n",
              "      <th>12</th>\n",
              "      <td>ADAMS</td>\n",
              "      <td>1100</td>\n",
              "    </tr>\n",
              "    <tr>\n",
              "      <th>13</th>\n",
              "      <td>MILLER</td>\n",
              "      <td>1300</td>\n",
              "    </tr>\n",
              "  </tbody>\n",
              "</table>\n",
              "</div>"
            ],
            "text/plain": [
              "     ename   sal\n",
              "0     KING  5000\n",
              "1    BLAKE  2850\n",
              "2    CLARK  2450\n",
              "3    JONES  2975\n",
              "4   MARTIN  1250\n",
              "5    ALLEN  1600\n",
              "6   TURNER  1500\n",
              "7    JAMES   950\n",
              "8     WARD  1250\n",
              "9     FORD  3000\n",
              "10   SMITH   800\n",
              "11   SCOTT  3000\n",
              "12   ADAMS  1100\n",
              "13  MILLER  1300"
            ]
          },
          "metadata": {
            "tags": []
          },
          "execution_count": 72
        }
      ]
    },
    {
      "cell_type": "markdown",
      "metadata": {
        "id": "bfQy0fVzjT1g"
      },
      "source": [
        "#70. 정수형 자료를 실수형 자료로 변환하기(float)\n",
        "- 이미지 처리나 공학용 프로그램을 작성할 때 실수형 끼리만 계산해야 하는 경우가 많음\n",
        "- 이때 우리가 가진 데이터가 정수형이라면 실수형 자료로 변환한 후에 계산해 주어야 함\n",
        "- 파이썬 내장함수 float()은 인자로 입력된 정수형 자료를 실수형으로 변환해 줌"
      ]
    },
    {
      "cell_type": "code",
      "metadata": {
        "colab": {
          "base_uri": "https://localhost:8080/"
        },
        "id": "kieW6nUFjW5A",
        "outputId": "aea37093-c9d3-4221-884c-5f71a424a684"
      },
      "source": [
        "print( float(10) )"
      ],
      "execution_count": null,
      "outputs": [
        {
          "output_type": "stream",
          "text": [
            "10.0\n"
          ],
          "name": "stdout"
        }
      ]
    },
    {
      "cell_type": "code",
      "metadata": {
        "colab": {
          "base_uri": "https://localhost:8080/"
        },
        "id": "hCjP0rsGk5DA",
        "outputId": "dcf0d339-3e87-4d88-cfa4-9ef66891b8fb"
      },
      "source": [
        "emp['sal']=emp['sal'].apply(float)\n",
        "emp['sal']"
      ],
      "execution_count": null,
      "outputs": [
        {
          "output_type": "execute_result",
          "data": {
            "text/plain": [
              "0     5000.0\n",
              "1     2850.0\n",
              "2     2450.0\n",
              "3     2975.0\n",
              "4     1250.0\n",
              "5     1600.0\n",
              "6     1500.0\n",
              "7      950.0\n",
              "8     1250.0\n",
              "9     3000.0\n",
              "10     800.0\n",
              "11    3000.0\n",
              "12    1100.0\n",
              "13    1300.0\n",
              "Name: sal, dtype: float64"
            ]
          },
          "metadata": {
            "tags": []
          },
          "execution_count": 87
        }
      ]
    },
    {
      "cell_type": "markdown",
      "metadata": {
        "id": "ore_d18JkN20"
      },
      "source": [
        "**문제 235. 판다스를 이용해서 이름과 월급을 출력하는데 월급을 출력할 때 실수형으로 출력하시오**"
      ]
    },
    {
      "cell_type": "code",
      "metadata": {
        "colab": {
          "base_uri": "https://localhost:8080/",
          "height": 483
        },
        "id": "s5NTs__PkUDx",
        "outputId": "33ed0f5a-0028-49a6-c3bb-baa86be54944"
      },
      "source": [
        "emp['sal']=emp['sal'].apply(float)  # emp 데이터 프레임의 sal 컬럼의 데이터를 float로 변환함\n",
        "emp[['ename','sal']]"
      ],
      "execution_count": null,
      "outputs": [
        {
          "output_type": "execute_result",
          "data": {
            "text/html": [
              "<div>\n",
              "<style scoped>\n",
              "    .dataframe tbody tr th:only-of-type {\n",
              "        vertical-align: middle;\n",
              "    }\n",
              "\n",
              "    .dataframe tbody tr th {\n",
              "        vertical-align: top;\n",
              "    }\n",
              "\n",
              "    .dataframe thead th {\n",
              "        text-align: right;\n",
              "    }\n",
              "</style>\n",
              "<table border=\"1\" class=\"dataframe\">\n",
              "  <thead>\n",
              "    <tr style=\"text-align: right;\">\n",
              "      <th></th>\n",
              "      <th>ename</th>\n",
              "      <th>sal</th>\n",
              "    </tr>\n",
              "  </thead>\n",
              "  <tbody>\n",
              "    <tr>\n",
              "      <th>0</th>\n",
              "      <td>KING</td>\n",
              "      <td>5000.0</td>\n",
              "    </tr>\n",
              "    <tr>\n",
              "      <th>1</th>\n",
              "      <td>BLAKE</td>\n",
              "      <td>2850.0</td>\n",
              "    </tr>\n",
              "    <tr>\n",
              "      <th>2</th>\n",
              "      <td>CLARK</td>\n",
              "      <td>2450.0</td>\n",
              "    </tr>\n",
              "    <tr>\n",
              "      <th>3</th>\n",
              "      <td>JONES</td>\n",
              "      <td>2975.0</td>\n",
              "    </tr>\n",
              "    <tr>\n",
              "      <th>4</th>\n",
              "      <td>MARTIN</td>\n",
              "      <td>1250.0</td>\n",
              "    </tr>\n",
              "    <tr>\n",
              "      <th>5</th>\n",
              "      <td>ALLEN</td>\n",
              "      <td>1600.0</td>\n",
              "    </tr>\n",
              "    <tr>\n",
              "      <th>6</th>\n",
              "      <td>TURNER</td>\n",
              "      <td>1500.0</td>\n",
              "    </tr>\n",
              "    <tr>\n",
              "      <th>7</th>\n",
              "      <td>JAMES</td>\n",
              "      <td>950.0</td>\n",
              "    </tr>\n",
              "    <tr>\n",
              "      <th>8</th>\n",
              "      <td>WARD</td>\n",
              "      <td>1250.0</td>\n",
              "    </tr>\n",
              "    <tr>\n",
              "      <th>9</th>\n",
              "      <td>FORD</td>\n",
              "      <td>3000.0</td>\n",
              "    </tr>\n",
              "    <tr>\n",
              "      <th>10</th>\n",
              "      <td>SMITH</td>\n",
              "      <td>800.0</td>\n",
              "    </tr>\n",
              "    <tr>\n",
              "      <th>11</th>\n",
              "      <td>SCOTT</td>\n",
              "      <td>3000.0</td>\n",
              "    </tr>\n",
              "    <tr>\n",
              "      <th>12</th>\n",
              "      <td>ADAMS</td>\n",
              "      <td>1100.0</td>\n",
              "    </tr>\n",
              "    <tr>\n",
              "      <th>13</th>\n",
              "      <td>MILLER</td>\n",
              "      <td>1300.0</td>\n",
              "    </tr>\n",
              "  </tbody>\n",
              "</table>\n",
              "</div>"
            ],
            "text/plain": [
              "     ename     sal\n",
              "0     KING  5000.0\n",
              "1    BLAKE  2850.0\n",
              "2    CLARK  2450.0\n",
              "3    JONES  2975.0\n",
              "4   MARTIN  1250.0\n",
              "5    ALLEN  1600.0\n",
              "6   TURNER  1500.0\n",
              "7    JAMES   950.0\n",
              "8     WARD  1250.0\n",
              "9     FORD  3000.0\n",
              "10   SMITH   800.0\n",
              "11   SCOTT  3000.0\n",
              "12   ADAMS  1100.0\n",
              "13  MILLER  1300.0"
            ]
          },
          "metadata": {
            "tags": []
          },
          "execution_count": 88
        }
      ]
    },
    {
      "cell_type": "markdown",
      "metadata": {
        "id": "tnHL8tj2mgiS"
      },
      "source": [
        "- emp['sal'].apply는 emp 데이터 프레임에서 sal 시리즈에 apply 함수를 적용해서 데이터 유형을 변경할 수 있음\n",
        "- emp['sal'].apply(float) 이렇게 하면 데이터 유형을 실수형으로 변경하라는 것임"
      ]
    },
    {
      "cell_type": "markdown",
      "metadata": {
        "id": "i0eKdl7dmx0_"
      },
      "source": [
        "#71. 정수 리스트에서 소수만 걸러내기 (filter)\n",
        "- 파이썬 내장함수인 filter()는 리스트와 같은 자료형에서 특정 조건을 만족하는 값만 편리하게 추출할 수 있는 방법을 제공함\n",
        "- filter()의 첫번째 인자는 특정 조건의 값을 추출하는 함수가 입력되며 두번째( 입력매개변수 ) 리스트와 같은 자료형이 입력됩니다."
      ]
    },
    {
      "cell_type": "code",
      "metadata": {
        "colab": {
          "base_uri": "https://localhost:8080/"
        },
        "id": "tIVgv3LemxPq",
        "outputId": "f4a58541-1e8e-494c-c1a5-e4d9ecd01732"
      },
      "source": [
        "# 예제 숫자가 나열되어 있는 리스트에서 짝수만 추출해내는 코드를 작성\n",
        "a = [1, 2, 3, 4, 5, 6, 7, 8, 9, 10]\n",
        "# 숫자를 입력하여 짝수면 결과를 출력하고 홀수면 출력하지 않는 함수를 생성\n",
        "\n",
        "def get_even(num):\n",
        "    if num%2 == 0:\n",
        "        return num\n",
        "    else:\n",
        "        return    # 리턴 다음에 아무것도 쓰지 않아서 아무것도 리턴되지 않음\n",
        "\n",
        "print( get_even(2) )\n",
        "print( get_even(5) )"
      ],
      "execution_count": null,
      "outputs": [
        {
          "output_type": "stream",
          "text": [
            "2\n",
            "None\n"
          ],
          "name": "stdout"
        }
      ]
    },
    {
      "cell_type": "code",
      "metadata": {
        "colab": {
          "base_uri": "https://localhost:8080/"
        },
        "id": "g4p3-I72oQYY",
        "outputId": "1150beff-917a-4e40-a0c3-bf9cbd5e8fcf"
      },
      "source": [
        "# filter함수와 get_even 함수를 이용해서 위의 a 리스트에서 짝수를 추출하기\n",
        "a = [1,2,3,4,5,6,7,8,9,10]\n",
        "result = filter( get_even,a )\n",
        "            # ( 함수이름, 리스트 이름 )\n",
        "print( result )   # <filter object at 0x7f7b7c940048>\n",
        "print( list(result) )  # 리스트로 변환해야 결과가 출력됨"
      ],
      "execution_count": null,
      "outputs": [
        {
          "output_type": "stream",
          "text": [
            "<filter object at 0x7f7b7c940860>\n",
            "[2, 4, 6, 8, 10]\n"
          ],
          "name": "stdout"
        }
      ]
    },
    {
      "cell_type": "markdown",
      "metadata": {
        "id": "3_w_U_QFpg11"
      },
      "source": [
        "**문제 236. 아래의 리스트에서 숫자가 300 이상이면 출력하고 300 미만이면 출력되지 않게 하시오**\n"
      ]
    },
    {
      "cell_type": "code",
      "metadata": {
        "colab": {
          "base_uri": "https://localhost:8080/"
        },
        "id": "NywGNv56pofA",
        "outputId": "b348984b-d77b-4af6-9f50-d004afd610da"
      },
      "source": [
        "b = [100, 352, 254, 456, 123, 234, 567, 903]\n",
        "\n",
        "def over_300(num):\n",
        "    if num >= 300:\n",
        "        return num\n",
        "    else:\n",
        "        return\n",
        "\n",
        "result = filter( over_300, b )\n",
        "list(result)"
      ],
      "execution_count": null,
      "outputs": [
        {
          "output_type": "execute_result",
          "data": {
            "text/plain": [
              "[352, 456, 567, 903]"
            ]
          },
          "metadata": {
            "tags": []
          },
          "execution_count": 105
        }
      ]
    },
    {
      "cell_type": "markdown",
      "metadata": {
        "id": "BTAmN-LRq5zM"
      },
      "source": [
        "**문제 237. 우리반 데이터에서 나이가 30살 이상인 나이만 따로 결과 리스트로 출력하시오**"
      ]
    },
    {
      "cell_type": "code",
      "metadata": {
        "colab": {
          "base_uri": "https://localhost:8080/"
        },
        "id": "dYxskNj5q5QW",
        "outputId": "8ab45fb6-f7df-45ec-b6fb-c89b491ce082"
      },
      "source": [
        "over_30 =[]\n",
        "for i in emp12['AGE']:\n",
        "    if i >= 30:\n",
        "        over_30.append(i)\n",
        "\n",
        "print( over_300 )"
      ],
      "execution_count": null,
      "outputs": [
        {
          "output_type": "stream",
          "text": [
            "<function over_300 at 0x7f7b7ca198c8>\n"
          ],
          "name": "stdout"
        }
      ]
    },
    {
      "cell_type": "markdown",
      "metadata": {
        "id": "iI4kllqIvkfk"
      },
      "source": [
        "#72. 최대값, 최소값 구하기(max, min)\n",
        "- max()와 min()은 인자로 입력된 자료에서 최대, 최소값을 구해주는 함수.\n",
        "- max()와 min()의 인자로 리스트와 같은 시퀀스 자료가 입력되면 시퀀스 자료의 요소 가운데 최대값 또는 최소값을 리턴함\n",
        "\n",
        "|오라클|파이썬|\n",
        "|:--:|:--:|\n",
        "|min|min|\n",
        "|max|max|\n",
        "|count|len|\n",
        "|sum|sum|\n",
        "|avg|mean|\n"
      ]
    },
    {
      "cell_type": "code",
      "metadata": {
        "colab": {
          "base_uri": "https://localhost:8080/"
        },
        "id": "a8VmypVMwKOl",
        "outputId": "682cc51d-725e-472e-f96f-6c0773149469"
      },
      "source": [
        "# 예제\n",
        "a = [8, 7, 12, 55, 21, 34, 15, 9, 22]\n",
        "max(a)"
      ],
      "execution_count": null,
      "outputs": [
        {
          "output_type": "execute_result",
          "data": {
            "text/plain": [
              "55"
            ]
          },
          "metadata": {
            "tags": []
          },
          "execution_count": 111
        }
      ]
    },
    {
      "cell_type": "markdown",
      "metadata": {
        "id": "vyqndFPrwZyd"
      },
      "source": [
        "**문제 238. 사원 테이블에서 최대 월급을 출력하시오(emp3.csv)**\n",
        "1. 판다스를 이용했을 때\n",
        "2. 판다스를 이용하지 않았을때\n",
        "```\n",
        "import csv\n",
        "file = open(\"/Users/LeeJunhyeok/Downloads/emp2.csv\") \n",
        "emp_csv = csv.reader(file)\n",
        "emp_list = []\n",
        "for i in emp_csv:\n",
        "    emp_list.append(int(i[5]))\n",
        "\n",
        "\n",
        "\n",
        "![Screen Shot 2020-12-07 at 2.59.35 PM.png](data:image/png;base64,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)\n",
        "```"
      ]
    },
    {
      "cell_type": "code",
      "metadata": {
        "colab": {
          "base_uri": "https://localhost:8080/"
        },
        "id": "3FDlwf7nwkew",
        "outputId": "f9320eb7-c9d5-415e-9079-93757ce1fee7"
      },
      "source": [
        "emp[['sal']].max()"
      ],
      "execution_count": null,
      "outputs": [
        {
          "output_type": "execute_result",
          "data": {
            "text/plain": [
              "sal    5000.0\n",
              "dtype: float64"
            ]
          },
          "metadata": {
            "tags": []
          },
          "execution_count": 114
        }
      ]
    },
    {
      "cell_type": "markdown",
      "metadata": {
        "id": "CI9lL0BiyPE8"
      },
      "source": [
        "**문제 239. 우리반 데이터에서 최소나이를 출력하시오**\n",
        "1. 판다스를 이용했을때\n",
        "2. 판다스를 이용하지 않았을때"
      ]
    },
    {
      "cell_type": "code",
      "metadata": {
        "colab": {
          "base_uri": "https://localhost:8080/"
        },
        "id": "I8rIOhfZwmWo",
        "outputId": "5fab835a-0dc6-4c85-a069-db604f3ab92a"
      },
      "source": [
        "emp12[['AGE']].min()"
      ],
      "execution_count": null,
      "outputs": [
        {
          "output_type": "execute_result",
          "data": {
            "text/plain": [
              "AGE    24\n",
              "dtype: int64"
            ]
          },
          "metadata": {
            "tags": []
          },
          "execution_count": 117
        }
      ]
    },
    {
      "cell_type": "code",
      "metadata": {
        "id": "dXW59KiMyfTA",
        "colab": {
          "base_uri": "https://localhost:8080/",
          "height": 979
        },
        "outputId": "293460d4-387d-428d-8f63-d2cd60632301"
      },
      "source": [
        "emp12"
      ],
      "execution_count": null,
      "outputs": [
        {
          "output_type": "execute_result",
          "data": {
            "text/html": [
              "<div>\n",
              "<style scoped>\n",
              "    .dataframe tbody tr th:only-of-type {\n",
              "        vertical-align: middle;\n",
              "    }\n",
              "\n",
              "    .dataframe tbody tr th {\n",
              "        vertical-align: top;\n",
              "    }\n",
              "\n",
              "    .dataframe thead th {\n",
              "        text-align: right;\n",
              "    }\n",
              "</style>\n",
              "<table border=\"1\" class=\"dataframe\">\n",
              "  <thead>\n",
              "    <tr style=\"text-align: right;\">\n",
              "      <th></th>\n",
              "      <th>INDEX</th>\n",
              "      <th>ENAME</th>\n",
              "      <th>AGE</th>\n",
              "      <th>GENDER</th>\n",
              "      <th>MAJOR</th>\n",
              "      <th>TELECOM</th>\n",
              "      <th>EMAIL</th>\n",
              "      <th>ADDRESS</th>\n",
              "      <th>TELECOM_PRICE</th>\n",
              "    </tr>\n",
              "  </thead>\n",
              "  <tbody>\n",
              "    <tr>\n",
              "      <th>0</th>\n",
              "      <td>1</td>\n",
              "      <td>이준혁</td>\n",
              "      <td>29</td>\n",
              "      <td>남</td>\n",
              "      <td>경영학과</td>\n",
              "      <td>kt</td>\n",
              "      <td>3461419@naver.com</td>\n",
              "      <td>경기도 안양시 동안구 호개동</td>\n",
              "      <td>17000</td>\n",
              "    </tr>\n",
              "    <tr>\n",
              "      <th>1</th>\n",
              "      <td>2</td>\n",
              "      <td>한결</td>\n",
              "      <td>31</td>\n",
              "      <td>남</td>\n",
              "      <td>경제학과</td>\n",
              "      <td>kt</td>\n",
              "      <td>gksruf90@naver.com</td>\n",
              "      <td>경기도 광주시 곤지암읍 삼리</td>\n",
              "      <td>17000</td>\n",
              "    </tr>\n",
              "    <tr>\n",
              "      <th>2</th>\n",
              "      <td>3</td>\n",
              "      <td>현지연</td>\n",
              "      <td>35</td>\n",
              "      <td>여</td>\n",
              "      <td>관광경영학과</td>\n",
              "      <td>sk</td>\n",
              "      <td>hyunjy86@naver.com</td>\n",
              "      <td>경기도 안산시 상록구 본삼로</td>\n",
              "      <td>18500</td>\n",
              "    </tr>\n",
              "    <tr>\n",
              "      <th>3</th>\n",
              "      <td>4</td>\n",
              "      <td>성기창</td>\n",
              "      <td>29</td>\n",
              "      <td>남</td>\n",
              "      <td>경영학과</td>\n",
              "      <td>sk</td>\n",
              "      <td>goboy2005@gmail.com</td>\n",
              "      <td>서울시 양천구 목5동</td>\n",
              "      <td>18500</td>\n",
              "    </tr>\n",
              "    <tr>\n",
              "      <th>4</th>\n",
              "      <td>5</td>\n",
              "      <td>유혜영</td>\n",
              "      <td>28</td>\n",
              "      <td>여</td>\n",
              "      <td>응용통계학과</td>\n",
              "      <td>sk</td>\n",
              "      <td>jjku0519@naver.com</td>\n",
              "      <td>경기도 안산시 단원구 고잔동</td>\n",
              "      <td>18500</td>\n",
              "    </tr>\n",
              "    <tr>\n",
              "      <th>5</th>\n",
              "      <td>6</td>\n",
              "      <td>김정민</td>\n",
              "      <td>28</td>\n",
              "      <td>남</td>\n",
              "      <td>메카트로닉스과</td>\n",
              "      <td>lg</td>\n",
              "      <td>rlawjdals113@naver.com</td>\n",
              "      <td>경기도 시흥시 은행동</td>\n",
              "      <td>18000</td>\n",
              "    </tr>\n",
              "    <tr>\n",
              "      <th>6</th>\n",
              "      <td>7</td>\n",
              "      <td>이성원</td>\n",
              "      <td>25</td>\n",
              "      <td>남</td>\n",
              "      <td>통계학과</td>\n",
              "      <td>kt</td>\n",
              "      <td>pumadd1227@gmail.com</td>\n",
              "      <td>경기도 성남시 수정구 고등동</td>\n",
              "      <td>17000</td>\n",
              "    </tr>\n",
              "    <tr>\n",
              "      <th>7</th>\n",
              "      <td>8</td>\n",
              "      <td>김정원</td>\n",
              "      <td>28</td>\n",
              "      <td>여</td>\n",
              "      <td>수학통계학과</td>\n",
              "      <td>kt</td>\n",
              "      <td>jungwkim415@gmail.com</td>\n",
              "      <td>경기도 성남시 분당구 정자동</td>\n",
              "      <td>17000</td>\n",
              "    </tr>\n",
              "    <tr>\n",
              "      <th>8</th>\n",
              "      <td>9</td>\n",
              "      <td>김미승</td>\n",
              "      <td>27</td>\n",
              "      <td>여</td>\n",
              "      <td>금융학과</td>\n",
              "      <td>lg</td>\n",
              "      <td>miseung.hailey@gmail.com</td>\n",
              "      <td>경기도 용인시 수지구 성복동</td>\n",
              "      <td>18000</td>\n",
              "    </tr>\n",
              "    <tr>\n",
              "      <th>9</th>\n",
              "      <td>10</td>\n",
              "      <td>김예린</td>\n",
              "      <td>27</td>\n",
              "      <td>여</td>\n",
              "      <td>컨벤션경영학과</td>\n",
              "      <td>kt</td>\n",
              "      <td>marykim1205@naver.com</td>\n",
              "      <td>경기도 성남시 분당구 운중동</td>\n",
              "      <td>17000</td>\n",
              "    </tr>\n",
              "    <tr>\n",
              "      <th>10</th>\n",
              "      <td>11</td>\n",
              "      <td>신현종</td>\n",
              "      <td>27</td>\n",
              "      <td>남</td>\n",
              "      <td>병원행정학과</td>\n",
              "      <td>lg</td>\n",
              "      <td>ad_guswhd@naver.com</td>\n",
              "      <td>경기도 성남시 중원구 성남동</td>\n",
              "      <td>18000</td>\n",
              "    </tr>\n",
              "    <tr>\n",
              "      <th>11</th>\n",
              "      <td>12</td>\n",
              "      <td>구윤모</td>\n",
              "      <td>26</td>\n",
              "      <td>남</td>\n",
              "      <td>사회학과</td>\n",
              "      <td>sk</td>\n",
              "      <td>kooym5@naver.com</td>\n",
              "      <td>서울시 광진구 광장동</td>\n",
              "      <td>18500</td>\n",
              "    </tr>\n",
              "    <tr>\n",
              "      <th>12</th>\n",
              "      <td>13</td>\n",
              "      <td>김승순</td>\n",
              "      <td>33</td>\n",
              "      <td>남</td>\n",
              "      <td>국제통상학과</td>\n",
              "      <td>sk</td>\n",
              "      <td>nostelgia18@gmail.com</td>\n",
              "      <td>서울시 도봉구 쌍문동</td>\n",
              "      <td>18500</td>\n",
              "    </tr>\n",
              "    <tr>\n",
              "      <th>13</th>\n",
              "      <td>14</td>\n",
              "      <td>허정민</td>\n",
              "      <td>30</td>\n",
              "      <td>여</td>\n",
              "      <td>마케팅학과</td>\n",
              "      <td>sk</td>\n",
              "      <td>gwa1103@hanmail.net</td>\n",
              "      <td>경기도 수원시 영통구 이의동</td>\n",
              "      <td>18500</td>\n",
              "    </tr>\n",
              "    <tr>\n",
              "      <th>14</th>\n",
              "      <td>15</td>\n",
              "      <td>이신성</td>\n",
              "      <td>27</td>\n",
              "      <td>남</td>\n",
              "      <td>경제학과</td>\n",
              "      <td>sk</td>\n",
              "      <td>icecreamn2@naver,com</td>\n",
              "      <td>강원도 속초시 교동</td>\n",
              "      <td>18500</td>\n",
              "    </tr>\n",
              "    <tr>\n",
              "      <th>15</th>\n",
              "      <td>16</td>\n",
              "      <td>황나현</td>\n",
              "      <td>27</td>\n",
              "      <td>여</td>\n",
              "      <td>광고학과</td>\n",
              "      <td>kt</td>\n",
              "      <td>nhyun0901@naver.com</td>\n",
              "      <td>서울 노원구 상계동</td>\n",
              "      <td>17000</td>\n",
              "    </tr>\n",
              "    <tr>\n",
              "      <th>16</th>\n",
              "      <td>17</td>\n",
              "      <td>장수진</td>\n",
              "      <td>25</td>\n",
              "      <td>여</td>\n",
              "      <td>음악학과</td>\n",
              "      <td>kt</td>\n",
              "      <td>sujin5277@naver.com</td>\n",
              "      <td>경기도 안양시 만안구 안양동</td>\n",
              "      <td>17000</td>\n",
              "    </tr>\n",
              "    <tr>\n",
              "      <th>17</th>\n",
              "      <td>18</td>\n",
              "      <td>권준환</td>\n",
              "      <td>28</td>\n",
              "      <td>남</td>\n",
              "      <td>국문학과</td>\n",
              "      <td>kt</td>\n",
              "      <td>kjunh934@naver.com</td>\n",
              "      <td>서울시 금천구 독산동</td>\n",
              "      <td>17000</td>\n",
              "    </tr>\n",
              "    <tr>\n",
              "      <th>18</th>\n",
              "      <td>19</td>\n",
              "      <td>송종미</td>\n",
              "      <td>29</td>\n",
              "      <td>여</td>\n",
              "      <td>정보통계학과</td>\n",
              "      <td>kt</td>\n",
              "      <td>thdwhdal@naver.com</td>\n",
              "      <td>경기도 남양주시 다산2동</td>\n",
              "      <td>17000</td>\n",
              "    </tr>\n",
              "    <tr>\n",
              "      <th>19</th>\n",
              "      <td>20</td>\n",
              "      <td>정희원</td>\n",
              "      <td>24</td>\n",
              "      <td>여</td>\n",
              "      <td>전자공학과</td>\n",
              "      <td>sk</td>\n",
              "      <td>hikbm8@naver.com</td>\n",
              "      <td>경기도 고양시 일산서구 탄현동</td>\n",
              "      <td>18500</td>\n",
              "    </tr>\n",
              "    <tr>\n",
              "      <th>20</th>\n",
              "      <td>21</td>\n",
              "      <td>김홍비</td>\n",
              "      <td>24</td>\n",
              "      <td>여</td>\n",
              "      <td>호텔조리학과</td>\n",
              "      <td>kt</td>\n",
              "      <td>ghdql9703@naver.com</td>\n",
              "      <td>경기도 구리시 토평동</td>\n",
              "      <td>17000</td>\n",
              "    </tr>\n",
              "    <tr>\n",
              "      <th>21</th>\n",
              "      <td>22</td>\n",
              "      <td>김소라</td>\n",
              "      <td>29</td>\n",
              "      <td>여</td>\n",
              "      <td>영어영문학과</td>\n",
              "      <td>kt</td>\n",
              "      <td>sorakorean@naver.com</td>\n",
              "      <td>서울시 서초구 방배동</td>\n",
              "      <td>17000</td>\n",
              "    </tr>\n",
              "    <tr>\n",
              "      <th>22</th>\n",
              "      <td>23</td>\n",
              "      <td>권세원</td>\n",
              "      <td>36</td>\n",
              "      <td>남</td>\n",
              "      <td>요리학과</td>\n",
              "      <td>sk</td>\n",
              "      <td>bigneva84@gmail.com</td>\n",
              "      <td>서울시 송파구 장지동</td>\n",
              "      <td>18500</td>\n",
              "    </tr>\n",
              "    <tr>\n",
              "      <th>23</th>\n",
              "      <td>24</td>\n",
              "      <td>정다희</td>\n",
              "      <td>26</td>\n",
              "      <td>여</td>\n",
              "      <td>통계학과</td>\n",
              "      <td>kt</td>\n",
              "      <td>wjdekgml707@naver.com</td>\n",
              "      <td>서울시 송파구 장지동</td>\n",
              "      <td>17000</td>\n",
              "    </tr>\n",
              "    <tr>\n",
              "      <th>24</th>\n",
              "      <td>25</td>\n",
              "      <td>허혁</td>\n",
              "      <td>26</td>\n",
              "      <td>남</td>\n",
              "      <td>통게학과</td>\n",
              "      <td>kt</td>\n",
              "      <td>h6729772@naver.com</td>\n",
              "      <td>경기도 용인시 수지구 풍덕천동</td>\n",
              "      <td>17000</td>\n",
              "    </tr>\n",
              "    <tr>\n",
              "      <th>25</th>\n",
              "      <td>26</td>\n",
              "      <td>양건준</td>\n",
              "      <td>26</td>\n",
              "      <td>남</td>\n",
              "      <td>경영학과</td>\n",
              "      <td>sk</td>\n",
              "      <td>skysk8er@naver.com</td>\n",
              "      <td>서울시 성동구 옥수동</td>\n",
              "      <td>18500</td>\n",
              "    </tr>\n",
              "    <tr>\n",
              "      <th>26</th>\n",
              "      <td>27</td>\n",
              "      <td>김주원</td>\n",
              "      <td>44</td>\n",
              "      <td>여</td>\n",
              "      <td>경제학과</td>\n",
              "      <td>lg</td>\n",
              "      <td>kjwlji@gmail.com</td>\n",
              "      <td>서울시 서대문구 홍은동</td>\n",
              "      <td>18000</td>\n",
              "    </tr>\n",
              "    <tr>\n",
              "      <th>27</th>\n",
              "      <td>28</td>\n",
              "      <td>박혜진</td>\n",
              "      <td>28</td>\n",
              "      <td>여</td>\n",
              "      <td>응용수학과</td>\n",
              "      <td>sk</td>\n",
              "      <td>qkrwls93@nate.com</td>\n",
              "      <td>서울시 관악구 봉천동</td>\n",
              "      <td>18500</td>\n",
              "    </tr>\n",
              "    <tr>\n",
              "      <th>28</th>\n",
              "      <td>29</td>\n",
              "      <td>하상준</td>\n",
              "      <td>29</td>\n",
              "      <td>남</td>\n",
              "      <td>무역학과</td>\n",
              "      <td>kt</td>\n",
              "      <td>tkdwns1942@naver.com</td>\n",
              "      <td>서울시 서초구 서초동</td>\n",
              "      <td>17000</td>\n",
              "    </tr>\n",
              "    <tr>\n",
              "      <th>29</th>\n",
              "      <td>30</td>\n",
              "      <td>홍재연</td>\n",
              "      <td>28</td>\n",
              "      <td>여</td>\n",
              "      <td>경제학과</td>\n",
              "      <td>kt</td>\n",
              "      <td>hongjaeyeon@naver.com</td>\n",
              "      <td>서울시 서초구 서초동</td>\n",
              "      <td>17000</td>\n",
              "    </tr>\n",
              "  </tbody>\n",
              "</table>\n",
              "</div>"
            ],
            "text/plain": [
              "    INDEX ENAME  ...            ADDRESS TELECOM_PRICE\n",
              "0       1   이준혁  ...    경기도 안양시 동안구 호개동         17000\n",
              "1       2    한결  ...    경기도 광주시 곤지암읍 삼리         17000\n",
              "2       3   현지연  ...    경기도 안산시 상록구 본삼로         18500\n",
              "3       4   성기창  ...        서울시 양천구 목5동         18500\n",
              "4       5   유혜영  ...    경기도 안산시 단원구 고잔동         18500\n",
              "5       6   김정민  ...        경기도 시흥시 은행동         18000\n",
              "6       7   이성원  ...    경기도 성남시 수정구 고등동         17000\n",
              "7       8   김정원  ...    경기도 성남시 분당구 정자동         17000\n",
              "8       9   김미승  ...    경기도 용인시 수지구 성복동         18000\n",
              "9      10   김예린  ...    경기도 성남시 분당구 운중동         17000\n",
              "10     11   신현종  ...    경기도 성남시 중원구 성남동         18000\n",
              "11     12   구윤모  ...        서울시 광진구 광장동         18500\n",
              "12     13   김승순  ...        서울시 도봉구 쌍문동         18500\n",
              "13     14   허정민  ...    경기도 수원시 영통구 이의동         18500\n",
              "14     15   이신성  ...         강원도 속초시 교동         18500\n",
              "15     16   황나현  ...         서울 노원구 상계동         17000\n",
              "16     17   장수진  ...    경기도 안양시 만안구 안양동         17000\n",
              "17     18   권준환  ...        서울시 금천구 독산동         17000\n",
              "18     19   송종미  ...      경기도 남양주시 다산2동         17000\n",
              "19     20   정희원  ...   경기도 고양시 일산서구 탄현동         18500\n",
              "20     21   김홍비  ...        경기도 구리시 토평동         17000\n",
              "21     22   김소라  ...        서울시 서초구 방배동         17000\n",
              "22     23   권세원  ...        서울시 송파구 장지동         18500\n",
              "23     24   정다희  ...        서울시 송파구 장지동         17000\n",
              "24     25    허혁  ...   경기도 용인시 수지구 풍덕천동         17000\n",
              "25     26   양건준  ...        서울시 성동구 옥수동         18500\n",
              "26     27   김주원  ...       서울시 서대문구 홍은동         18000\n",
              "27     28   박혜진  ...        서울시 관악구 봉천동         18500\n",
              "28     29   하상준  ...        서울시 서초구 서초동         17000\n",
              "29     30   홍재연  ...        서울시 서초구 서초동         17000\n",
              "\n",
              "[30 rows x 9 columns]"
            ]
          },
          "metadata": {
            "tags": []
          },
          "execution_count": 118
        }
      ]
    },
    {
      "cell_type": "markdown",
      "metadata": {
        "id": "s0P3plrj1i9e"
      },
      "source": [
        "#73. 판다스에서 결측치(NaN) 확인하기\n",
        "\n",
        "- emp3.csv에 comm 처럼 결측치(NaN)을 처리하는 판다스 함수 => **isnull()**\n",
        "\n",
        "- 데이터를 받았으면 데이터 분석전 데이터 전처리를 해야 함\n",
        "- 데이터 전처리 중에서 결측치를 확인하는 단계가 있음"
      ]
    },
    {
      "cell_type": "code",
      "metadata": {
        "id": "w5ffwFZgyfz5",
        "colab": {
          "base_uri": "https://localhost:8080/",
          "height": 483
        },
        "outputId": "d7ab3732-0a47-4c77-f98b-3b4ac82a884f"
      },
      "source": [
        "emp[['ename', 'comm']]"
      ],
      "execution_count": null,
      "outputs": [
        {
          "output_type": "execute_result",
          "data": {
            "text/html": [
              "<div>\n",
              "<style scoped>\n",
              "    .dataframe tbody tr th:only-of-type {\n",
              "        vertical-align: middle;\n",
              "    }\n",
              "\n",
              "    .dataframe tbody tr th {\n",
              "        vertical-align: top;\n",
              "    }\n",
              "\n",
              "    .dataframe thead th {\n",
              "        text-align: right;\n",
              "    }\n",
              "</style>\n",
              "<table border=\"1\" class=\"dataframe\">\n",
              "  <thead>\n",
              "    <tr style=\"text-align: right;\">\n",
              "      <th></th>\n",
              "      <th>ename</th>\n",
              "      <th>comm</th>\n",
              "    </tr>\n",
              "  </thead>\n",
              "  <tbody>\n",
              "    <tr>\n",
              "      <th>0</th>\n",
              "      <td>KING</td>\n",
              "      <td>NaN</td>\n",
              "    </tr>\n",
              "    <tr>\n",
              "      <th>1</th>\n",
              "      <td>BLAKE</td>\n",
              "      <td>NaN</td>\n",
              "    </tr>\n",
              "    <tr>\n",
              "      <th>2</th>\n",
              "      <td>CLARK</td>\n",
              "      <td>NaN</td>\n",
              "    </tr>\n",
              "    <tr>\n",
              "      <th>3</th>\n",
              "      <td>JONES</td>\n",
              "      <td>NaN</td>\n",
              "    </tr>\n",
              "    <tr>\n",
              "      <th>4</th>\n",
              "      <td>MARTIN</td>\n",
              "      <td>1400.0</td>\n",
              "    </tr>\n",
              "    <tr>\n",
              "      <th>5</th>\n",
              "      <td>ALLEN</td>\n",
              "      <td>300.0</td>\n",
              "    </tr>\n",
              "    <tr>\n",
              "      <th>6</th>\n",
              "      <td>TURNER</td>\n",
              "      <td>0.0</td>\n",
              "    </tr>\n",
              "    <tr>\n",
              "      <th>7</th>\n",
              "      <td>JAMES</td>\n",
              "      <td>NaN</td>\n",
              "    </tr>\n",
              "    <tr>\n",
              "      <th>8</th>\n",
              "      <td>WARD</td>\n",
              "      <td>500.0</td>\n",
              "    </tr>\n",
              "    <tr>\n",
              "      <th>9</th>\n",
              "      <td>FORD</td>\n",
              "      <td>NaN</td>\n",
              "    </tr>\n",
              "    <tr>\n",
              "      <th>10</th>\n",
              "      <td>SMITH</td>\n",
              "      <td>NaN</td>\n",
              "    </tr>\n",
              "    <tr>\n",
              "      <th>11</th>\n",
              "      <td>SCOTT</td>\n",
              "      <td>NaN</td>\n",
              "    </tr>\n",
              "    <tr>\n",
              "      <th>12</th>\n",
              "      <td>ADAMS</td>\n",
              "      <td>NaN</td>\n",
              "    </tr>\n",
              "    <tr>\n",
              "      <th>13</th>\n",
              "      <td>MILLER</td>\n",
              "      <td>NaN</td>\n",
              "    </tr>\n",
              "  </tbody>\n",
              "</table>\n",
              "</div>"
            ],
            "text/plain": [
              "     ename    comm\n",
              "0     KING     NaN\n",
              "1    BLAKE     NaN\n",
              "2    CLARK     NaN\n",
              "3    JONES     NaN\n",
              "4   MARTIN  1400.0\n",
              "5    ALLEN   300.0\n",
              "6   TURNER     0.0\n",
              "7    JAMES     NaN\n",
              "8     WARD   500.0\n",
              "9     FORD     NaN\n",
              "10   SMITH     NaN\n",
              "11   SCOTT     NaN\n",
              "12   ADAMS     NaN\n",
              "13  MILLER     NaN"
            ]
          },
          "metadata": {
            "tags": []
          },
          "execution_count": 121
        }
      ]
    },
    {
      "cell_type": "markdown",
      "metadata": {
        "id": "lWXKiajP2CNu"
      },
      "source": [
        "**문제 240. 커미션이 결측치(NaN)인 사원들의 이름과 커미션을 출력하시오**"
      ]
    },
    {
      "cell_type": "code",
      "metadata": {
        "colab": {
          "base_uri": "https://localhost:8080/",
          "height": 359
        },
        "id": "v1U8A1WB2Bxv",
        "outputId": "810ef8b3-6588-4538-f9f3-cd5edd89d6c6"
      },
      "source": [
        "emp[['ename', 'comm']][emp['comm'].isnull()]"
      ],
      "execution_count": null,
      "outputs": [
        {
          "output_type": "execute_result",
          "data": {
            "text/html": [
              "<div>\n",
              "<style scoped>\n",
              "    .dataframe tbody tr th:only-of-type {\n",
              "        vertical-align: middle;\n",
              "    }\n",
              "\n",
              "    .dataframe tbody tr th {\n",
              "        vertical-align: top;\n",
              "    }\n",
              "\n",
              "    .dataframe thead th {\n",
              "        text-align: right;\n",
              "    }\n",
              "</style>\n",
              "<table border=\"1\" class=\"dataframe\">\n",
              "  <thead>\n",
              "    <tr style=\"text-align: right;\">\n",
              "      <th></th>\n",
              "      <th>ename</th>\n",
              "      <th>comm</th>\n",
              "    </tr>\n",
              "  </thead>\n",
              "  <tbody>\n",
              "    <tr>\n",
              "      <th>0</th>\n",
              "      <td>KING</td>\n",
              "      <td>NaN</td>\n",
              "    </tr>\n",
              "    <tr>\n",
              "      <th>1</th>\n",
              "      <td>BLAKE</td>\n",
              "      <td>NaN</td>\n",
              "    </tr>\n",
              "    <tr>\n",
              "      <th>2</th>\n",
              "      <td>CLARK</td>\n",
              "      <td>NaN</td>\n",
              "    </tr>\n",
              "    <tr>\n",
              "      <th>3</th>\n",
              "      <td>JONES</td>\n",
              "      <td>NaN</td>\n",
              "    </tr>\n",
              "    <tr>\n",
              "      <th>7</th>\n",
              "      <td>JAMES</td>\n",
              "      <td>NaN</td>\n",
              "    </tr>\n",
              "    <tr>\n",
              "      <th>9</th>\n",
              "      <td>FORD</td>\n",
              "      <td>NaN</td>\n",
              "    </tr>\n",
              "    <tr>\n",
              "      <th>10</th>\n",
              "      <td>SMITH</td>\n",
              "      <td>NaN</td>\n",
              "    </tr>\n",
              "    <tr>\n",
              "      <th>11</th>\n",
              "      <td>SCOTT</td>\n",
              "      <td>NaN</td>\n",
              "    </tr>\n",
              "    <tr>\n",
              "      <th>12</th>\n",
              "      <td>ADAMS</td>\n",
              "      <td>NaN</td>\n",
              "    </tr>\n",
              "    <tr>\n",
              "      <th>13</th>\n",
              "      <td>MILLER</td>\n",
              "      <td>NaN</td>\n",
              "    </tr>\n",
              "  </tbody>\n",
              "</table>\n",
              "</div>"
            ],
            "text/plain": [
              "     ename  comm\n",
              "0     KING   NaN\n",
              "1    BLAKE   NaN\n",
              "2    CLARK   NaN\n",
              "3    JONES   NaN\n",
              "7    JAMES   NaN\n",
              "9     FORD   NaN\n",
              "10   SMITH   NaN\n",
              "11   SCOTT   NaN\n",
              "12   ADAMS   NaN\n",
              "13  MILLER   NaN"
            ]
          },
          "metadata": {
            "tags": []
          },
          "execution_count": 124
        }
      ]
    },
    {
      "cell_type": "markdown",
      "metadata": {
        "id": "peTqzRGT2n2h"
      },
      "source": [
        "**문제 241. 커미션이 결측치(NaN)이 아닌 사원들의 이름과 커미션을 출력하시오**"
      ]
    },
    {
      "cell_type": "code",
      "metadata": {
        "colab": {
          "base_uri": "https://localhost:8080/",
          "height": 173
        },
        "id": "M_eP5C4m2ufS",
        "outputId": "7d33f09e-1d0b-45ab-f3e4-ff0df9026151"
      },
      "source": [
        "emp[['ename', 'comm']][~emp['comm'].isnull()]"
      ],
      "execution_count": null,
      "outputs": [
        {
          "output_type": "execute_result",
          "data": {
            "text/html": [
              "<div>\n",
              "<style scoped>\n",
              "    .dataframe tbody tr th:only-of-type {\n",
              "        vertical-align: middle;\n",
              "    }\n",
              "\n",
              "    .dataframe tbody tr th {\n",
              "        vertical-align: top;\n",
              "    }\n",
              "\n",
              "    .dataframe thead th {\n",
              "        text-align: right;\n",
              "    }\n",
              "</style>\n",
              "<table border=\"1\" class=\"dataframe\">\n",
              "  <thead>\n",
              "    <tr style=\"text-align: right;\">\n",
              "      <th></th>\n",
              "      <th>ename</th>\n",
              "      <th>comm</th>\n",
              "    </tr>\n",
              "  </thead>\n",
              "  <tbody>\n",
              "    <tr>\n",
              "      <th>4</th>\n",
              "      <td>MARTIN</td>\n",
              "      <td>1400.0</td>\n",
              "    </tr>\n",
              "    <tr>\n",
              "      <th>5</th>\n",
              "      <td>ALLEN</td>\n",
              "      <td>300.0</td>\n",
              "    </tr>\n",
              "    <tr>\n",
              "      <th>6</th>\n",
              "      <td>TURNER</td>\n",
              "      <td>0.0</td>\n",
              "    </tr>\n",
              "    <tr>\n",
              "      <th>8</th>\n",
              "      <td>WARD</td>\n",
              "      <td>500.0</td>\n",
              "    </tr>\n",
              "  </tbody>\n",
              "</table>\n",
              "</div>"
            ],
            "text/plain": [
              "    ename    comm\n",
              "4  MARTIN  1400.0\n",
              "5   ALLEN   300.0\n",
              "6  TURNER     0.0\n",
              "8    WARD   500.0"
            ]
          },
          "metadata": {
            "tags": []
          },
          "execution_count": 126
        }
      ]
    },
    {
      "cell_type": "markdown",
      "metadata": {
        "id": "Eputf6NP3UXg"
      },
      "source": [
        "**문제 242. emp3.csv에 결측치가 있는 지 확인하시오**"
      ]
    },
    {
      "cell_type": "code",
      "metadata": {
        "colab": {
          "base_uri": "https://localhost:8080/",
          "height": 483
        },
        "id": "7WlGEJ_n3UJ8",
        "outputId": "00e0f775-4549-4edd-c6f0-e199a5e44f7f"
      },
      "source": [
        "emp.isnull()"
      ],
      "execution_count": null,
      "outputs": [
        {
          "output_type": "execute_result",
          "data": {
            "text/html": [
              "<div>\n",
              "<style scoped>\n",
              "    .dataframe tbody tr th:only-of-type {\n",
              "        vertical-align: middle;\n",
              "    }\n",
              "\n",
              "    .dataframe tbody tr th {\n",
              "        vertical-align: top;\n",
              "    }\n",
              "\n",
              "    .dataframe thead th {\n",
              "        text-align: right;\n",
              "    }\n",
              "</style>\n",
              "<table border=\"1\" class=\"dataframe\">\n",
              "  <thead>\n",
              "    <tr style=\"text-align: right;\">\n",
              "      <th></th>\n",
              "      <th>index</th>\n",
              "      <th>empno</th>\n",
              "      <th>ename</th>\n",
              "      <th>job</th>\n",
              "      <th>mgr</th>\n",
              "      <th>hiredate</th>\n",
              "      <th>sal</th>\n",
              "      <th>comm</th>\n",
              "      <th>deptno</th>\n",
              "    </tr>\n",
              "  </thead>\n",
              "  <tbody>\n",
              "    <tr>\n",
              "      <th>0</th>\n",
              "      <td>False</td>\n",
              "      <td>False</td>\n",
              "      <td>False</td>\n",
              "      <td>False</td>\n",
              "      <td>True</td>\n",
              "      <td>False</td>\n",
              "      <td>False</td>\n",
              "      <td>True</td>\n",
              "      <td>False</td>\n",
              "    </tr>\n",
              "    <tr>\n",
              "      <th>1</th>\n",
              "      <td>False</td>\n",
              "      <td>False</td>\n",
              "      <td>False</td>\n",
              "      <td>False</td>\n",
              "      <td>False</td>\n",
              "      <td>False</td>\n",
              "      <td>False</td>\n",
              "      <td>True</td>\n",
              "      <td>False</td>\n",
              "    </tr>\n",
              "    <tr>\n",
              "      <th>2</th>\n",
              "      <td>False</td>\n",
              "      <td>False</td>\n",
              "      <td>False</td>\n",
              "      <td>False</td>\n",
              "      <td>False</td>\n",
              "      <td>False</td>\n",
              "      <td>False</td>\n",
              "      <td>True</td>\n",
              "      <td>False</td>\n",
              "    </tr>\n",
              "    <tr>\n",
              "      <th>3</th>\n",
              "      <td>False</td>\n",
              "      <td>False</td>\n",
              "      <td>False</td>\n",
              "      <td>False</td>\n",
              "      <td>False</td>\n",
              "      <td>False</td>\n",
              "      <td>False</td>\n",
              "      <td>True</td>\n",
              "      <td>False</td>\n",
              "    </tr>\n",
              "    <tr>\n",
              "      <th>4</th>\n",
              "      <td>False</td>\n",
              "      <td>False</td>\n",
              "      <td>False</td>\n",
              "      <td>False</td>\n",
              "      <td>False</td>\n",
              "      <td>False</td>\n",
              "      <td>False</td>\n",
              "      <td>False</td>\n",
              "      <td>False</td>\n",
              "    </tr>\n",
              "    <tr>\n",
              "      <th>5</th>\n",
              "      <td>False</td>\n",
              "      <td>False</td>\n",
              "      <td>False</td>\n",
              "      <td>False</td>\n",
              "      <td>False</td>\n",
              "      <td>False</td>\n",
              "      <td>False</td>\n",
              "      <td>False</td>\n",
              "      <td>False</td>\n",
              "    </tr>\n",
              "    <tr>\n",
              "      <th>6</th>\n",
              "      <td>False</td>\n",
              "      <td>False</td>\n",
              "      <td>False</td>\n",
              "      <td>False</td>\n",
              "      <td>False</td>\n",
              "      <td>False</td>\n",
              "      <td>False</td>\n",
              "      <td>False</td>\n",
              "      <td>False</td>\n",
              "    </tr>\n",
              "    <tr>\n",
              "      <th>7</th>\n",
              "      <td>False</td>\n",
              "      <td>False</td>\n",
              "      <td>False</td>\n",
              "      <td>False</td>\n",
              "      <td>False</td>\n",
              "      <td>False</td>\n",
              "      <td>False</td>\n",
              "      <td>True</td>\n",
              "      <td>False</td>\n",
              "    </tr>\n",
              "    <tr>\n",
              "      <th>8</th>\n",
              "      <td>False</td>\n",
              "      <td>False</td>\n",
              "      <td>False</td>\n",
              "      <td>False</td>\n",
              "      <td>False</td>\n",
              "      <td>False</td>\n",
              "      <td>False</td>\n",
              "      <td>False</td>\n",
              "      <td>False</td>\n",
              "    </tr>\n",
              "    <tr>\n",
              "      <th>9</th>\n",
              "      <td>False</td>\n",
              "      <td>False</td>\n",
              "      <td>False</td>\n",
              "      <td>False</td>\n",
              "      <td>False</td>\n",
              "      <td>False</td>\n",
              "      <td>False</td>\n",
              "      <td>True</td>\n",
              "      <td>False</td>\n",
              "    </tr>\n",
              "    <tr>\n",
              "      <th>10</th>\n",
              "      <td>False</td>\n",
              "      <td>False</td>\n",
              "      <td>False</td>\n",
              "      <td>False</td>\n",
              "      <td>False</td>\n",
              "      <td>False</td>\n",
              "      <td>False</td>\n",
              "      <td>True</td>\n",
              "      <td>False</td>\n",
              "    </tr>\n",
              "    <tr>\n",
              "      <th>11</th>\n",
              "      <td>False</td>\n",
              "      <td>False</td>\n",
              "      <td>False</td>\n",
              "      <td>False</td>\n",
              "      <td>False</td>\n",
              "      <td>False</td>\n",
              "      <td>False</td>\n",
              "      <td>True</td>\n",
              "      <td>False</td>\n",
              "    </tr>\n",
              "    <tr>\n",
              "      <th>12</th>\n",
              "      <td>False</td>\n",
              "      <td>False</td>\n",
              "      <td>False</td>\n",
              "      <td>False</td>\n",
              "      <td>False</td>\n",
              "      <td>False</td>\n",
              "      <td>False</td>\n",
              "      <td>True</td>\n",
              "      <td>False</td>\n",
              "    </tr>\n",
              "    <tr>\n",
              "      <th>13</th>\n",
              "      <td>False</td>\n",
              "      <td>False</td>\n",
              "      <td>False</td>\n",
              "      <td>False</td>\n",
              "      <td>False</td>\n",
              "      <td>False</td>\n",
              "      <td>False</td>\n",
              "      <td>True</td>\n",
              "      <td>False</td>\n",
              "    </tr>\n",
              "  </tbody>\n",
              "</table>\n",
              "</div>"
            ],
            "text/plain": [
              "    index  empno  ename    job    mgr  hiredate    sal   comm  deptno\n",
              "0   False  False  False  False   True     False  False   True   False\n",
              "1   False  False  False  False  False     False  False   True   False\n",
              "2   False  False  False  False  False     False  False   True   False\n",
              "3   False  False  False  False  False     False  False   True   False\n",
              "4   False  False  False  False  False     False  False  False   False\n",
              "5   False  False  False  False  False     False  False  False   False\n",
              "6   False  False  False  False  False     False  False  False   False\n",
              "7   False  False  False  False  False     False  False   True   False\n",
              "8   False  False  False  False  False     False  False  False   False\n",
              "9   False  False  False  False  False     False  False   True   False\n",
              "10  False  False  False  False  False     False  False   True   False\n",
              "11  False  False  False  False  False     False  False   True   False\n",
              "12  False  False  False  False  False     False  False   True   False\n",
              "13  False  False  False  False  False     False  False   True   False"
            ]
          },
          "metadata": {
            "tags": []
          },
          "execution_count": 128
        }
      ]
    },
    {
      "cell_type": "markdown",
      "metadata": {
        "id": "KCf6LBQT333m"
      },
      "source": [
        "**문제 243. emp3.csv에 결측치가 몇개인지 확인하시오**\n"
      ]
    },
    {
      "cell_type": "code",
      "metadata": {
        "colab": {
          "base_uri": "https://localhost:8080/"
        },
        "id": "ruwyJ-Px38o4",
        "outputId": "ffe84ae3-aead-49fa-a355-f14281ce4800"
      },
      "source": [
        "emp.isnull().sum()"
      ],
      "execution_count": null,
      "outputs": [
        {
          "output_type": "execute_result",
          "data": {
            "text/plain": [
              "index        0\n",
              "empno        0\n",
              "ename        0\n",
              "job          0\n",
              "mgr          1\n",
              "hiredate     0\n",
              "sal          0\n",
              "comm        10\n",
              "deptno       0\n",
              "dtype: int64"
            ]
          },
          "metadata": {
            "tags": []
          },
          "execution_count": 130
        }
      ]
    },
    {
      "cell_type": "markdown",
      "metadata": {
        "id": "qpVfLpDG4bQn"
      },
      "source": [
        "- **결측치가 있으면 데이터 분석하기가 어렵고 머신러닝을 이용한 데이터 분석인 경우 좋은 머신러닝 모델이 나오기 어렵기 때문에 결측치를 처리를 해줘야 함**"
      ]
    },
    {
      "cell_type": "markdown",
      "metadata": {
        "id": "bpqFq1wr4te1"
      },
      "source": [
        "**문제 244. 타이타닉 데이터에 결측치가 어느 컬럼에 많은지 확인하시오**"
      ]
    },
    {
      "cell_type": "code",
      "metadata": {
        "colab": {
          "resources": {
            "http://localhost:8080/nbextensions/google.colab/files.js": {
              "data": "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",
              "ok": true,
              "headers": [
                [
                  "content-type",
                  "application/javascript"
                ]
              ],
              "status": 200,
              "status_text": ""
            }
          },
          "base_uri": "https://localhost:8080/",
          "height": 72
        },
        "id": "Osxebh5C4x3P",
        "outputId": "85042aa8-3cb2-4172-ac0a-2c2a90cf63ac"
      },
      "source": [
        "from google.colab import files\n",
        "file2 = files.upload()"
      ],
      "execution_count": null,
      "outputs": [
        {
          "output_type": "display_data",
          "data": {
            "text/html": [
              "\n",
              "     <input type=\"file\" id=\"files-a1779b7b-332d-4947-8cf5-5a0be6a0661a\" name=\"files[]\" multiple disabled\n",
              "        style=\"border:none\" />\n",
              "     <output id=\"result-a1779b7b-332d-4947-8cf5-5a0be6a0661a\">\n",
              "      Upload widget is only available when the cell has been executed in the\n",
              "      current browser session. Please rerun this cell to enable.\n",
              "      </output>\n",
              "      <script src=\"/nbextensions/google.colab/files.js\"></script> "
            ],
            "text/plain": [
              "<IPython.core.display.HTML object>"
            ]
          },
          "metadata": {
            "tags": []
          }
        },
        {
          "output_type": "stream",
          "text": [
            "Saving train.csv to train.csv\n"
          ],
          "name": "stdout"
        }
      ]
    },
    {
      "cell_type": "code",
      "metadata": {
        "colab": {
          "base_uri": "https://localhost:8080/"
        },
        "id": "7aOtxjBD5Tpq",
        "outputId": "afcd3fa1-ceac-4f30-b144-dd6feb217f23"
      },
      "source": [
        "tat = pd.read_csv(\"train.csv\")\n",
        "tat.isnull().sum()"
      ],
      "execution_count": null,
      "outputs": [
        {
          "output_type": "execute_result",
          "data": {
            "text/plain": [
              "PassengerId      0\n",
              "Survived         0\n",
              "Pclass           0\n",
              "Name             0\n",
              "Sex              0\n",
              "Age            177\n",
              "SibSp            0\n",
              "Parch            0\n",
              "Ticket           0\n",
              "Fare             0\n",
              "Cabin          687\n",
              "Embarked         2\n",
              "dtype: int64"
            ]
          },
          "metadata": {
            "tags": []
          },
          "execution_count": 132
        }
      ]
    },
    {
      "cell_type": "markdown",
      "metadata": {
        "id": "LOIGkzYE9WRS"
      },
      "source": [
        "#74. 판다스에서 파생변수 추가하는 방법\n",
        "- 파생변수란 기존의 데이터를 가지고 새롭게 가공해서 만든 새로운 컬럼\n"
      ]
    },
    {
      "cell_type": "markdown",
      "metadata": {
        "id": "CQcqdfqD9gQD"
      },
      "source": [
        "- emp 데이터 프레임에 sal의 데이터와 똑같은 데이터로 sal2라는 컬럼에 추가하시오"
      ]
    },
    {
      "cell_type": "code",
      "metadata": {
        "colab": {
          "base_uri": "https://localhost:8080/",
          "height": 483
        },
        "id": "a9HuXGLp9m5E",
        "outputId": "61d9b950-86e9-4787-9d9a-d6166eafea5b"
      },
      "source": [
        "emp['sal2']=emp['sal']   # emp 데이터 프레임에 sal2 컬럼을 추가하는데 데이터는 emp 데이터프레임에 sal로 하시오\n",
        "emp             "
      ],
      "execution_count": null,
      "outputs": [
        {
          "output_type": "execute_result",
          "data": {
            "text/html": [
              "<div>\n",
              "<style scoped>\n",
              "    .dataframe tbody tr th:only-of-type {\n",
              "        vertical-align: middle;\n",
              "    }\n",
              "\n",
              "    .dataframe tbody tr th {\n",
              "        vertical-align: top;\n",
              "    }\n",
              "\n",
              "    .dataframe thead th {\n",
              "        text-align: right;\n",
              "    }\n",
              "</style>\n",
              "<table border=\"1\" class=\"dataframe\">\n",
              "  <thead>\n",
              "    <tr style=\"text-align: right;\">\n",
              "      <th></th>\n",
              "      <th>index</th>\n",
              "      <th>empno</th>\n",
              "      <th>ename</th>\n",
              "      <th>job</th>\n",
              "      <th>mgr</th>\n",
              "      <th>hiredate</th>\n",
              "      <th>sal</th>\n",
              "      <th>comm</th>\n",
              "      <th>deptno</th>\n",
              "      <th>sal2</th>\n",
              "    </tr>\n",
              "  </thead>\n",
              "  <tbody>\n",
              "    <tr>\n",
              "      <th>0</th>\n",
              "      <td>1</td>\n",
              "      <td>7839</td>\n",
              "      <td>KING</td>\n",
              "      <td>PRESIDENT</td>\n",
              "      <td>NaN</td>\n",
              "      <td>1981-11-17 0:00</td>\n",
              "      <td>5000.0</td>\n",
              "      <td>NaN</td>\n",
              "      <td>10</td>\n",
              "      <td>5000.0</td>\n",
              "    </tr>\n",
              "    <tr>\n",
              "      <th>1</th>\n",
              "      <td>2</td>\n",
              "      <td>7698</td>\n",
              "      <td>BLAKE</td>\n",
              "      <td>MANAGER</td>\n",
              "      <td>7839.0</td>\n",
              "      <td>1981-05-01 0:00</td>\n",
              "      <td>2850.0</td>\n",
              "      <td>NaN</td>\n",
              "      <td>30</td>\n",
              "      <td>2850.0</td>\n",
              "    </tr>\n",
              "    <tr>\n",
              "      <th>2</th>\n",
              "      <td>3</td>\n",
              "      <td>7782</td>\n",
              "      <td>CLARK</td>\n",
              "      <td>MANAGER</td>\n",
              "      <td>7839.0</td>\n",
              "      <td>1981-05-09 0:00</td>\n",
              "      <td>2450.0</td>\n",
              "      <td>NaN</td>\n",
              "      <td>10</td>\n",
              "      <td>2450.0</td>\n",
              "    </tr>\n",
              "    <tr>\n",
              "      <th>3</th>\n",
              "      <td>4</td>\n",
              "      <td>7566</td>\n",
              "      <td>JONES</td>\n",
              "      <td>MANAGER</td>\n",
              "      <td>7839.0</td>\n",
              "      <td>1981-04-01 0:00</td>\n",
              "      <td>2975.0</td>\n",
              "      <td>NaN</td>\n",
              "      <td>20</td>\n",
              "      <td>2975.0</td>\n",
              "    </tr>\n",
              "    <tr>\n",
              "      <th>4</th>\n",
              "      <td>5</td>\n",
              "      <td>7654</td>\n",
              "      <td>MARTIN</td>\n",
              "      <td>SALESMAN</td>\n",
              "      <td>7698.0</td>\n",
              "      <td>1981-09-10 0:00</td>\n",
              "      <td>1250.0</td>\n",
              "      <td>1400.0</td>\n",
              "      <td>30</td>\n",
              "      <td>1250.0</td>\n",
              "    </tr>\n",
              "    <tr>\n",
              "      <th>5</th>\n",
              "      <td>6</td>\n",
              "      <td>7499</td>\n",
              "      <td>ALLEN</td>\n",
              "      <td>SALESMAN</td>\n",
              "      <td>7698.0</td>\n",
              "      <td>1981-02-11 0:00</td>\n",
              "      <td>1600.0</td>\n",
              "      <td>300.0</td>\n",
              "      <td>30</td>\n",
              "      <td>1600.0</td>\n",
              "    </tr>\n",
              "    <tr>\n",
              "      <th>6</th>\n",
              "      <td>7</td>\n",
              "      <td>7844</td>\n",
              "      <td>TURNER</td>\n",
              "      <td>SALESMAN</td>\n",
              "      <td>7698.0</td>\n",
              "      <td>1981-08-21 0:00</td>\n",
              "      <td>1500.0</td>\n",
              "      <td>0.0</td>\n",
              "      <td>30</td>\n",
              "      <td>1500.0</td>\n",
              "    </tr>\n",
              "    <tr>\n",
              "      <th>7</th>\n",
              "      <td>8</td>\n",
              "      <td>7900</td>\n",
              "      <td>JAMES</td>\n",
              "      <td>CLERK</td>\n",
              "      <td>7698.0</td>\n",
              "      <td>1981-12-11 0:00</td>\n",
              "      <td>950.0</td>\n",
              "      <td>NaN</td>\n",
              "      <td>30</td>\n",
              "      <td>950.0</td>\n",
              "    </tr>\n",
              "    <tr>\n",
              "      <th>8</th>\n",
              "      <td>9</td>\n",
              "      <td>7521</td>\n",
              "      <td>WARD</td>\n",
              "      <td>SALESMAN</td>\n",
              "      <td>7698.0</td>\n",
              "      <td>1981-02-23 0:00</td>\n",
              "      <td>1250.0</td>\n",
              "      <td>500.0</td>\n",
              "      <td>30</td>\n",
              "      <td>1250.0</td>\n",
              "    </tr>\n",
              "    <tr>\n",
              "      <th>9</th>\n",
              "      <td>10</td>\n",
              "      <td>7902</td>\n",
              "      <td>FORD</td>\n",
              "      <td>ANALYST</td>\n",
              "      <td>7566.0</td>\n",
              "      <td>1981-12-11 0:00</td>\n",
              "      <td>3000.0</td>\n",
              "      <td>NaN</td>\n",
              "      <td>20</td>\n",
              "      <td>3000.0</td>\n",
              "    </tr>\n",
              "    <tr>\n",
              "      <th>10</th>\n",
              "      <td>11</td>\n",
              "      <td>7369</td>\n",
              "      <td>SMITH</td>\n",
              "      <td>CLERK</td>\n",
              "      <td>7902.0</td>\n",
              "      <td>1980-12-09 0:00</td>\n",
              "      <td>800.0</td>\n",
              "      <td>NaN</td>\n",
              "      <td>20</td>\n",
              "      <td>800.0</td>\n",
              "    </tr>\n",
              "    <tr>\n",
              "      <th>11</th>\n",
              "      <td>12</td>\n",
              "      <td>7788</td>\n",
              "      <td>SCOTT</td>\n",
              "      <td>ANALYST</td>\n",
              "      <td>7566.0</td>\n",
              "      <td>1982-12-22 0:00</td>\n",
              "      <td>3000.0</td>\n",
              "      <td>NaN</td>\n",
              "      <td>20</td>\n",
              "      <td>3000.0</td>\n",
              "    </tr>\n",
              "    <tr>\n",
              "      <th>12</th>\n",
              "      <td>13</td>\n",
              "      <td>7876</td>\n",
              "      <td>ADAMS</td>\n",
              "      <td>CLERK</td>\n",
              "      <td>7788.0</td>\n",
              "      <td>1983-01-15 0:00</td>\n",
              "      <td>1100.0</td>\n",
              "      <td>NaN</td>\n",
              "      <td>20</td>\n",
              "      <td>1100.0</td>\n",
              "    </tr>\n",
              "    <tr>\n",
              "      <th>13</th>\n",
              "      <td>14</td>\n",
              "      <td>7934</td>\n",
              "      <td>MILLER</td>\n",
              "      <td>CLERK</td>\n",
              "      <td>7782.0</td>\n",
              "      <td>1982-01-11 0:00</td>\n",
              "      <td>1300.0</td>\n",
              "      <td>NaN</td>\n",
              "      <td>10</td>\n",
              "      <td>1300.0</td>\n",
              "    </tr>\n",
              "  </tbody>\n",
              "</table>\n",
              "</div>"
            ],
            "text/plain": [
              "    index  empno   ename        job  ...     sal    comm  deptno    sal2\n",
              "0       1   7839    KING  PRESIDENT  ...  5000.0     NaN      10  5000.0\n",
              "1       2   7698   BLAKE    MANAGER  ...  2850.0     NaN      30  2850.0\n",
              "2       3   7782   CLARK    MANAGER  ...  2450.0     NaN      10  2450.0\n",
              "3       4   7566   JONES    MANAGER  ...  2975.0     NaN      20  2975.0\n",
              "4       5   7654  MARTIN   SALESMAN  ...  1250.0  1400.0      30  1250.0\n",
              "5       6   7499   ALLEN   SALESMAN  ...  1600.0   300.0      30  1600.0\n",
              "6       7   7844  TURNER   SALESMAN  ...  1500.0     0.0      30  1500.0\n",
              "7       8   7900   JAMES      CLERK  ...   950.0     NaN      30   950.0\n",
              "8       9   7521    WARD   SALESMAN  ...  1250.0   500.0      30  1250.0\n",
              "9      10   7902    FORD    ANALYST  ...  3000.0     NaN      20  3000.0\n",
              "10     11   7369   SMITH      CLERK  ...   800.0     NaN      20   800.0\n",
              "11     12   7788   SCOTT    ANALYST  ...  3000.0     NaN      20  3000.0\n",
              "12     13   7876   ADAMS      CLERK  ...  1100.0     NaN      20  1100.0\n",
              "13     14   7934  MILLER      CLERK  ...  1300.0     NaN      10  1300.0\n",
              "\n",
              "[14 rows x 10 columns]"
            ]
          },
          "metadata": {
            "tags": []
          },
          "execution_count": 133
        }
      ]
    },
    {
      "cell_type": "markdown",
      "metadata": {
        "id": "615c0ZB3-Dur"
      },
      "source": [
        "**문제 245. 판다스를 이용해서 이름과 부서위치를 출력하시오**\n",
        "(emp3.csv와 dept3.csv)를 이용하시오)"
      ]
    },
    {
      "cell_type": "code",
      "metadata": {
        "colab": {
          "base_uri": "https://localhost:8080/",
          "height": 483
        },
        "id": "4yD45oKX-N-0",
        "outputId": "dfab9ad9-f002-4386-96cc-26e7468c807e"
      },
      "source": [
        "emp = pd.read_csv(\"emp3.csv\")\n",
        "dept = pd.read_csv(\"dept3.csv\")\n",
        "\n",
        "result = pd.merge(emp, dept, how='inner',  on = \"deptno\")\n",
        "result[['ename', 'loc']]"
      ],
      "execution_count": null,
      "outputs": [
        {
          "output_type": "execute_result",
          "data": {
            "text/html": [
              "<div>\n",
              "<style scoped>\n",
              "    .dataframe tbody tr th:only-of-type {\n",
              "        vertical-align: middle;\n",
              "    }\n",
              "\n",
              "    .dataframe tbody tr th {\n",
              "        vertical-align: top;\n",
              "    }\n",
              "\n",
              "    .dataframe thead th {\n",
              "        text-align: right;\n",
              "    }\n",
              "</style>\n",
              "<table border=\"1\" class=\"dataframe\">\n",
              "  <thead>\n",
              "    <tr style=\"text-align: right;\">\n",
              "      <th></th>\n",
              "      <th>ename</th>\n",
              "      <th>loc</th>\n",
              "    </tr>\n",
              "  </thead>\n",
              "  <tbody>\n",
              "    <tr>\n",
              "      <th>0</th>\n",
              "      <td>KING</td>\n",
              "      <td>NEW YORK</td>\n",
              "    </tr>\n",
              "    <tr>\n",
              "      <th>1</th>\n",
              "      <td>CLARK</td>\n",
              "      <td>NEW YORK</td>\n",
              "    </tr>\n",
              "    <tr>\n",
              "      <th>2</th>\n",
              "      <td>MILLER</td>\n",
              "      <td>NEW YORK</td>\n",
              "    </tr>\n",
              "    <tr>\n",
              "      <th>3</th>\n",
              "      <td>BLAKE</td>\n",
              "      <td>CHICAGO</td>\n",
              "    </tr>\n",
              "    <tr>\n",
              "      <th>4</th>\n",
              "      <td>MARTIN</td>\n",
              "      <td>CHICAGO</td>\n",
              "    </tr>\n",
              "    <tr>\n",
              "      <th>5</th>\n",
              "      <td>ALLEN</td>\n",
              "      <td>CHICAGO</td>\n",
              "    </tr>\n",
              "    <tr>\n",
              "      <th>6</th>\n",
              "      <td>TURNER</td>\n",
              "      <td>CHICAGO</td>\n",
              "    </tr>\n",
              "    <tr>\n",
              "      <th>7</th>\n",
              "      <td>JAMES</td>\n",
              "      <td>CHICAGO</td>\n",
              "    </tr>\n",
              "    <tr>\n",
              "      <th>8</th>\n",
              "      <td>WARD</td>\n",
              "      <td>CHICAGO</td>\n",
              "    </tr>\n",
              "    <tr>\n",
              "      <th>9</th>\n",
              "      <td>JONES</td>\n",
              "      <td>DALLAS</td>\n",
              "    </tr>\n",
              "    <tr>\n",
              "      <th>10</th>\n",
              "      <td>FORD</td>\n",
              "      <td>DALLAS</td>\n",
              "    </tr>\n",
              "    <tr>\n",
              "      <th>11</th>\n",
              "      <td>SMITH</td>\n",
              "      <td>DALLAS</td>\n",
              "    </tr>\n",
              "    <tr>\n",
              "      <th>12</th>\n",
              "      <td>SCOTT</td>\n",
              "      <td>DALLAS</td>\n",
              "    </tr>\n",
              "    <tr>\n",
              "      <th>13</th>\n",
              "      <td>ADAMS</td>\n",
              "      <td>DALLAS</td>\n",
              "    </tr>\n",
              "  </tbody>\n",
              "</table>\n",
              "</div>"
            ],
            "text/plain": [
              "     ename       loc\n",
              "0     KING  NEW YORK\n",
              "1    CLARK  NEW YORK\n",
              "2   MILLER  NEW YORK\n",
              "3    BLAKE   CHICAGO\n",
              "4   MARTIN   CHICAGO\n",
              "5    ALLEN   CHICAGO\n",
              "6   TURNER   CHICAGO\n",
              "7    JAMES   CHICAGO\n",
              "8     WARD   CHICAGO\n",
              "9    JONES    DALLAS\n",
              "10    FORD    DALLAS\n",
              "11   SMITH    DALLAS\n",
              "12   SCOTT    DALLAS\n",
              "13   ADAMS    DALLAS"
            ]
          },
          "metadata": {
            "tags": []
          },
          "execution_count": 139
        }
      ]
    },
    {
      "cell_type": "markdown",
      "metadata": {
        "id": "28p_qpub-x5T"
      },
      "source": [
        "**문제 246. emp 데이터 프레임에 loc 컬럼을 추가하고 해당사원의 부서위치로 값을 갱신하시오**"
      ]
    },
    {
      "cell_type": "code",
      "metadata": {
        "colab": {
          "base_uri": "https://localhost:8080/",
          "height": 483
        },
        "id": "J8vUE43z-4xv",
        "outputId": "ddfe0a15-15a8-41ba-c4dd-4980b6b4e8a9"
      },
      "source": [
        "emp['loc'] = result['loc'] # emp 데이터프레임에 loc컬럼을 추가하면서 result의 loc로 값을 갱신합니다.\n",
        "emp"
      ],
      "execution_count": null,
      "outputs": [
        {
          "output_type": "execute_result",
          "data": {
            "text/html": [
              "<div>\n",
              "<style scoped>\n",
              "    .dataframe tbody tr th:only-of-type {\n",
              "        vertical-align: middle;\n",
              "    }\n",
              "\n",
              "    .dataframe tbody tr th {\n",
              "        vertical-align: top;\n",
              "    }\n",
              "\n",
              "    .dataframe thead th {\n",
              "        text-align: right;\n",
              "    }\n",
              "</style>\n",
              "<table border=\"1\" class=\"dataframe\">\n",
              "  <thead>\n",
              "    <tr style=\"text-align: right;\">\n",
              "      <th></th>\n",
              "      <th>index</th>\n",
              "      <th>empno</th>\n",
              "      <th>ename</th>\n",
              "      <th>job</th>\n",
              "      <th>mgr</th>\n",
              "      <th>hiredate</th>\n",
              "      <th>sal</th>\n",
              "      <th>comm</th>\n",
              "      <th>deptno</th>\n",
              "      <th>loc</th>\n",
              "    </tr>\n",
              "  </thead>\n",
              "  <tbody>\n",
              "    <tr>\n",
              "      <th>0</th>\n",
              "      <td>1</td>\n",
              "      <td>7839</td>\n",
              "      <td>KING</td>\n",
              "      <td>PRESIDENT</td>\n",
              "      <td>NaN</td>\n",
              "      <td>1981-11-17 0:00</td>\n",
              "      <td>5000</td>\n",
              "      <td>NaN</td>\n",
              "      <td>10</td>\n",
              "      <td>NEW YORK</td>\n",
              "    </tr>\n",
              "    <tr>\n",
              "      <th>1</th>\n",
              "      <td>2</td>\n",
              "      <td>7698</td>\n",
              "      <td>BLAKE</td>\n",
              "      <td>MANAGER</td>\n",
              "      <td>7839.0</td>\n",
              "      <td>1981-05-01 0:00</td>\n",
              "      <td>2850</td>\n",
              "      <td>NaN</td>\n",
              "      <td>30</td>\n",
              "      <td>NEW YORK</td>\n",
              "    </tr>\n",
              "    <tr>\n",
              "      <th>2</th>\n",
              "      <td>3</td>\n",
              "      <td>7782</td>\n",
              "      <td>CLARK</td>\n",
              "      <td>MANAGER</td>\n",
              "      <td>7839.0</td>\n",
              "      <td>1981-05-09 0:00</td>\n",
              "      <td>2450</td>\n",
              "      <td>NaN</td>\n",
              "      <td>10</td>\n",
              "      <td>NEW YORK</td>\n",
              "    </tr>\n",
              "    <tr>\n",
              "      <th>3</th>\n",
              "      <td>4</td>\n",
              "      <td>7566</td>\n",
              "      <td>JONES</td>\n",
              "      <td>MANAGER</td>\n",
              "      <td>7839.0</td>\n",
              "      <td>1981-04-01 0:00</td>\n",
              "      <td>2975</td>\n",
              "      <td>NaN</td>\n",
              "      <td>20</td>\n",
              "      <td>CHICAGO</td>\n",
              "    </tr>\n",
              "    <tr>\n",
              "      <th>4</th>\n",
              "      <td>5</td>\n",
              "      <td>7654</td>\n",
              "      <td>MARTIN</td>\n",
              "      <td>SALESMAN</td>\n",
              "      <td>7698.0</td>\n",
              "      <td>1981-09-10 0:00</td>\n",
              "      <td>1250</td>\n",
              "      <td>1400.0</td>\n",
              "      <td>30</td>\n",
              "      <td>CHICAGO</td>\n",
              "    </tr>\n",
              "    <tr>\n",
              "      <th>5</th>\n",
              "      <td>6</td>\n",
              "      <td>7499</td>\n",
              "      <td>ALLEN</td>\n",
              "      <td>SALESMAN</td>\n",
              "      <td>7698.0</td>\n",
              "      <td>1981-02-11 0:00</td>\n",
              "      <td>1600</td>\n",
              "      <td>300.0</td>\n",
              "      <td>30</td>\n",
              "      <td>CHICAGO</td>\n",
              "    </tr>\n",
              "    <tr>\n",
              "      <th>6</th>\n",
              "      <td>7</td>\n",
              "      <td>7844</td>\n",
              "      <td>TURNER</td>\n",
              "      <td>SALESMAN</td>\n",
              "      <td>7698.0</td>\n",
              "      <td>1981-08-21 0:00</td>\n",
              "      <td>1500</td>\n",
              "      <td>0.0</td>\n",
              "      <td>30</td>\n",
              "      <td>CHICAGO</td>\n",
              "    </tr>\n",
              "    <tr>\n",
              "      <th>7</th>\n",
              "      <td>8</td>\n",
              "      <td>7900</td>\n",
              "      <td>JAMES</td>\n",
              "      <td>CLERK</td>\n",
              "      <td>7698.0</td>\n",
              "      <td>1981-12-11 0:00</td>\n",
              "      <td>950</td>\n",
              "      <td>NaN</td>\n",
              "      <td>30</td>\n",
              "      <td>CHICAGO</td>\n",
              "    </tr>\n",
              "    <tr>\n",
              "      <th>8</th>\n",
              "      <td>9</td>\n",
              "      <td>7521</td>\n",
              "      <td>WARD</td>\n",
              "      <td>SALESMAN</td>\n",
              "      <td>7698.0</td>\n",
              "      <td>1981-02-23 0:00</td>\n",
              "      <td>1250</td>\n",
              "      <td>500.0</td>\n",
              "      <td>30</td>\n",
              "      <td>CHICAGO</td>\n",
              "    </tr>\n",
              "    <tr>\n",
              "      <th>9</th>\n",
              "      <td>10</td>\n",
              "      <td>7902</td>\n",
              "      <td>FORD</td>\n",
              "      <td>ANALYST</td>\n",
              "      <td>7566.0</td>\n",
              "      <td>1981-12-11 0:00</td>\n",
              "      <td>3000</td>\n",
              "      <td>NaN</td>\n",
              "      <td>20</td>\n",
              "      <td>DALLAS</td>\n",
              "    </tr>\n",
              "    <tr>\n",
              "      <th>10</th>\n",
              "      <td>11</td>\n",
              "      <td>7369</td>\n",
              "      <td>SMITH</td>\n",
              "      <td>CLERK</td>\n",
              "      <td>7902.0</td>\n",
              "      <td>1980-12-09 0:00</td>\n",
              "      <td>800</td>\n",
              "      <td>NaN</td>\n",
              "      <td>20</td>\n",
              "      <td>DALLAS</td>\n",
              "    </tr>\n",
              "    <tr>\n",
              "      <th>11</th>\n",
              "      <td>12</td>\n",
              "      <td>7788</td>\n",
              "      <td>SCOTT</td>\n",
              "      <td>ANALYST</td>\n",
              "      <td>7566.0</td>\n",
              "      <td>1982-12-22 0:00</td>\n",
              "      <td>3000</td>\n",
              "      <td>NaN</td>\n",
              "      <td>20</td>\n",
              "      <td>DALLAS</td>\n",
              "    </tr>\n",
              "    <tr>\n",
              "      <th>12</th>\n",
              "      <td>13</td>\n",
              "      <td>7876</td>\n",
              "      <td>ADAMS</td>\n",
              "      <td>CLERK</td>\n",
              "      <td>7788.0</td>\n",
              "      <td>1983-01-15 0:00</td>\n",
              "      <td>1100</td>\n",
              "      <td>NaN</td>\n",
              "      <td>20</td>\n",
              "      <td>DALLAS</td>\n",
              "    </tr>\n",
              "    <tr>\n",
              "      <th>13</th>\n",
              "      <td>14</td>\n",
              "      <td>7934</td>\n",
              "      <td>MILLER</td>\n",
              "      <td>CLERK</td>\n",
              "      <td>7782.0</td>\n",
              "      <td>1982-01-11 0:00</td>\n",
              "      <td>1300</td>\n",
              "      <td>NaN</td>\n",
              "      <td>10</td>\n",
              "      <td>DALLAS</td>\n",
              "    </tr>\n",
              "  </tbody>\n",
              "</table>\n",
              "</div>"
            ],
            "text/plain": [
              "    index  empno   ename        job  ...   sal    comm  deptno       loc\n",
              "0       1   7839    KING  PRESIDENT  ...  5000     NaN      10  NEW YORK\n",
              "1       2   7698   BLAKE    MANAGER  ...  2850     NaN      30  NEW YORK\n",
              "2       3   7782   CLARK    MANAGER  ...  2450     NaN      10  NEW YORK\n",
              "3       4   7566   JONES    MANAGER  ...  2975     NaN      20   CHICAGO\n",
              "4       5   7654  MARTIN   SALESMAN  ...  1250  1400.0      30   CHICAGO\n",
              "5       6   7499   ALLEN   SALESMAN  ...  1600   300.0      30   CHICAGO\n",
              "6       7   7844  TURNER   SALESMAN  ...  1500     0.0      30   CHICAGO\n",
              "7       8   7900   JAMES      CLERK  ...   950     NaN      30   CHICAGO\n",
              "8       9   7521    WARD   SALESMAN  ...  1250   500.0      30   CHICAGO\n",
              "9      10   7902    FORD    ANALYST  ...  3000     NaN      20    DALLAS\n",
              "10     11   7369   SMITH      CLERK  ...   800     NaN      20    DALLAS\n",
              "11     12   7788   SCOTT    ANALYST  ...  3000     NaN      20    DALLAS\n",
              "12     13   7876   ADAMS      CLERK  ...  1100     NaN      20    DALLAS\n",
              "13     14   7934  MILLER      CLERK  ...  1300     NaN      10    DALLAS\n",
              "\n",
              "[14 rows x 10 columns]"
            ]
          },
          "metadata": {
            "tags": []
          },
          "execution_count": 143
        }
      ]
    },
    {
      "cell_type": "markdown",
      "metadata": {
        "id": "wS9nSRfD_hiJ"
      },
      "source": [
        "< 파생변수를 추가를 하는 이유 >\n",
        "- emp 테이블에서 퇴사할 것 같은 사원이 누구인지 예측하시오!\n",
        "    - 머신러닝을 이용해서 예측을 함\n",
        "    - 월급이 작은 사람\n",
        "    - 머신러닝이 예측을 잘하려면 좋은 데이터를 주고 학습시켜야 함\n",
        "    - 자기의 월급이 자기가 속한 직업의 평균월급보다 더 작은 월급을 받는 사원이면 퇴사할 가능성이 높음\n",
        "    - 직업별 평균월급이 emp 데이터프레임에 추가되어 있으면 머신러닝이 예측하기 좋은 데이터가 추가가 된것\n",
        "    "
      ]
    },
    {
      "cell_type": "markdown",
      "metadata": {
        "id": "4fF7CbvfBEil"
      },
      "source": [
        "**문제 247. 직업, 직업별 평균월급을 판다스로 출력하시오**"
      ]
    },
    {
      "cell_type": "code",
      "metadata": {
        "colab": {
          "base_uri": "https://localhost:8080/",
          "height": 204
        },
        "id": "k48GW6nhBI7e",
        "outputId": "d667fb53-f8e8-403e-9ae5-8637ff72585c"
      },
      "source": [
        "result = emp.groupby('job')['sal'].mean().reset_index()\n",
        "result['sal'] = result['sal'].astype(int)   # result 데이터프레임에 sal을 정수형으로 변환하여 result데이터 프레임에 sal에 반영하겠다.\n",
        "result"
      ],
      "execution_count": null,
      "outputs": [
        {
          "output_type": "execute_result",
          "data": {
            "text/html": [
              "<div>\n",
              "<style scoped>\n",
              "    .dataframe tbody tr th:only-of-type {\n",
              "        vertical-align: middle;\n",
              "    }\n",
              "\n",
              "    .dataframe tbody tr th {\n",
              "        vertical-align: top;\n",
              "    }\n",
              "\n",
              "    .dataframe thead th {\n",
              "        text-align: right;\n",
              "    }\n",
              "</style>\n",
              "<table border=\"1\" class=\"dataframe\">\n",
              "  <thead>\n",
              "    <tr style=\"text-align: right;\">\n",
              "      <th></th>\n",
              "      <th>job</th>\n",
              "      <th>sal</th>\n",
              "    </tr>\n",
              "  </thead>\n",
              "  <tbody>\n",
              "    <tr>\n",
              "      <th>0</th>\n",
              "      <td>ANALYST</td>\n",
              "      <td>3000</td>\n",
              "    </tr>\n",
              "    <tr>\n",
              "      <th>1</th>\n",
              "      <td>CLERK</td>\n",
              "      <td>1037</td>\n",
              "    </tr>\n",
              "    <tr>\n",
              "      <th>2</th>\n",
              "      <td>MANAGER</td>\n",
              "      <td>2758</td>\n",
              "    </tr>\n",
              "    <tr>\n",
              "      <th>3</th>\n",
              "      <td>PRESIDENT</td>\n",
              "      <td>5000</td>\n",
              "    </tr>\n",
              "    <tr>\n",
              "      <th>4</th>\n",
              "      <td>SALESMAN</td>\n",
              "      <td>1400</td>\n",
              "    </tr>\n",
              "  </tbody>\n",
              "</table>\n",
              "</div>"
            ],
            "text/plain": [
              "         job   sal\n",
              "0    ANALYST  3000\n",
              "1      CLERK  1037\n",
              "2    MANAGER  2758\n",
              "3  PRESIDENT  5000\n",
              "4   SALESMAN  1400"
            ]
          },
          "metadata": {
            "tags": []
          },
          "execution_count": 155
        }
      ]
    },
    {
      "cell_type": "markdown",
      "metadata": {
        "id": "uMt2FBW8Csrp"
      },
      "source": [
        "**문제 248. emp와 result를 서로 조인해서 조인된 전체 데이터 프레임을 출력하시오**"
      ]
    },
    {
      "cell_type": "code",
      "metadata": {
        "colab": {
          "base_uri": "https://localhost:8080/",
          "height": 483
        },
        "id": "UTNxqxVuC1P8",
        "outputId": "076b8b62-db13-420f-98f5-f4a45ff77c15"
      },
      "source": [
        "\"\"\"\n",
        "emp에도 sal 이 있고 result에도 sal이 있어서 emp의 sal은 컬럼명이 sal_x로 변경되었고 result의 sal은 sal_y로 변경 됨.\n",
        "sal_y는 해당 직업의 평균월급\n",
        "\"\"\"\n",
        "\n",
        "merge_job = pd.merge(emp, result, on='job', how='inner' )\n",
        "merge_job"
      ],
      "execution_count": null,
      "outputs": [
        {
          "output_type": "execute_result",
          "data": {
            "text/html": [
              "<div>\n",
              "<style scoped>\n",
              "    .dataframe tbody tr th:only-of-type {\n",
              "        vertical-align: middle;\n",
              "    }\n",
              "\n",
              "    .dataframe tbody tr th {\n",
              "        vertical-align: top;\n",
              "    }\n",
              "\n",
              "    .dataframe thead th {\n",
              "        text-align: right;\n",
              "    }\n",
              "</style>\n",
              "<table border=\"1\" class=\"dataframe\">\n",
              "  <thead>\n",
              "    <tr style=\"text-align: right;\">\n",
              "      <th></th>\n",
              "      <th>index</th>\n",
              "      <th>empno</th>\n",
              "      <th>ename</th>\n",
              "      <th>job</th>\n",
              "      <th>mgr</th>\n",
              "      <th>hiredate</th>\n",
              "      <th>sal_x</th>\n",
              "      <th>comm</th>\n",
              "      <th>deptno</th>\n",
              "      <th>loc</th>\n",
              "      <th>sal_y</th>\n",
              "    </tr>\n",
              "  </thead>\n",
              "  <tbody>\n",
              "    <tr>\n",
              "      <th>0</th>\n",
              "      <td>1</td>\n",
              "      <td>7839</td>\n",
              "      <td>KING</td>\n",
              "      <td>PRESIDENT</td>\n",
              "      <td>NaN</td>\n",
              "      <td>1981-11-17 0:00</td>\n",
              "      <td>5000</td>\n",
              "      <td>NaN</td>\n",
              "      <td>10</td>\n",
              "      <td>NEW YORK</td>\n",
              "      <td>5000</td>\n",
              "    </tr>\n",
              "    <tr>\n",
              "      <th>1</th>\n",
              "      <td>2</td>\n",
              "      <td>7698</td>\n",
              "      <td>BLAKE</td>\n",
              "      <td>MANAGER</td>\n",
              "      <td>7839.0</td>\n",
              "      <td>1981-05-01 0:00</td>\n",
              "      <td>2850</td>\n",
              "      <td>NaN</td>\n",
              "      <td>30</td>\n",
              "      <td>NEW YORK</td>\n",
              "      <td>2758</td>\n",
              "    </tr>\n",
              "    <tr>\n",
              "      <th>2</th>\n",
              "      <td>3</td>\n",
              "      <td>7782</td>\n",
              "      <td>CLARK</td>\n",
              "      <td>MANAGER</td>\n",
              "      <td>7839.0</td>\n",
              "      <td>1981-05-09 0:00</td>\n",
              "      <td>2450</td>\n",
              "      <td>NaN</td>\n",
              "      <td>10</td>\n",
              "      <td>NEW YORK</td>\n",
              "      <td>2758</td>\n",
              "    </tr>\n",
              "    <tr>\n",
              "      <th>3</th>\n",
              "      <td>4</td>\n",
              "      <td>7566</td>\n",
              "      <td>JONES</td>\n",
              "      <td>MANAGER</td>\n",
              "      <td>7839.0</td>\n",
              "      <td>1981-04-01 0:00</td>\n",
              "      <td>2975</td>\n",
              "      <td>NaN</td>\n",
              "      <td>20</td>\n",
              "      <td>CHICAGO</td>\n",
              "      <td>2758</td>\n",
              "    </tr>\n",
              "    <tr>\n",
              "      <th>4</th>\n",
              "      <td>5</td>\n",
              "      <td>7654</td>\n",
              "      <td>MARTIN</td>\n",
              "      <td>SALESMAN</td>\n",
              "      <td>7698.0</td>\n",
              "      <td>1981-09-10 0:00</td>\n",
              "      <td>1250</td>\n",
              "      <td>1400.0</td>\n",
              "      <td>30</td>\n",
              "      <td>CHICAGO</td>\n",
              "      <td>1400</td>\n",
              "    </tr>\n",
              "    <tr>\n",
              "      <th>5</th>\n",
              "      <td>6</td>\n",
              "      <td>7499</td>\n",
              "      <td>ALLEN</td>\n",
              "      <td>SALESMAN</td>\n",
              "      <td>7698.0</td>\n",
              "      <td>1981-02-11 0:00</td>\n",
              "      <td>1600</td>\n",
              "      <td>300.0</td>\n",
              "      <td>30</td>\n",
              "      <td>CHICAGO</td>\n",
              "      <td>1400</td>\n",
              "    </tr>\n",
              "    <tr>\n",
              "      <th>6</th>\n",
              "      <td>7</td>\n",
              "      <td>7844</td>\n",
              "      <td>TURNER</td>\n",
              "      <td>SALESMAN</td>\n",
              "      <td>7698.0</td>\n",
              "      <td>1981-08-21 0:00</td>\n",
              "      <td>1500</td>\n",
              "      <td>0.0</td>\n",
              "      <td>30</td>\n",
              "      <td>CHICAGO</td>\n",
              "      <td>1400</td>\n",
              "    </tr>\n",
              "    <tr>\n",
              "      <th>7</th>\n",
              "      <td>9</td>\n",
              "      <td>7521</td>\n",
              "      <td>WARD</td>\n",
              "      <td>SALESMAN</td>\n",
              "      <td>7698.0</td>\n",
              "      <td>1981-02-23 0:00</td>\n",
              "      <td>1250</td>\n",
              "      <td>500.0</td>\n",
              "      <td>30</td>\n",
              "      <td>CHICAGO</td>\n",
              "      <td>1400</td>\n",
              "    </tr>\n",
              "    <tr>\n",
              "      <th>8</th>\n",
              "      <td>8</td>\n",
              "      <td>7900</td>\n",
              "      <td>JAMES</td>\n",
              "      <td>CLERK</td>\n",
              "      <td>7698.0</td>\n",
              "      <td>1981-12-11 0:00</td>\n",
              "      <td>950</td>\n",
              "      <td>NaN</td>\n",
              "      <td>30</td>\n",
              "      <td>CHICAGO</td>\n",
              "      <td>1037</td>\n",
              "    </tr>\n",
              "    <tr>\n",
              "      <th>9</th>\n",
              "      <td>11</td>\n",
              "      <td>7369</td>\n",
              "      <td>SMITH</td>\n",
              "      <td>CLERK</td>\n",
              "      <td>7902.0</td>\n",
              "      <td>1980-12-09 0:00</td>\n",
              "      <td>800</td>\n",
              "      <td>NaN</td>\n",
              "      <td>20</td>\n",
              "      <td>DALLAS</td>\n",
              "      <td>1037</td>\n",
              "    </tr>\n",
              "    <tr>\n",
              "      <th>10</th>\n",
              "      <td>13</td>\n",
              "      <td>7876</td>\n",
              "      <td>ADAMS</td>\n",
              "      <td>CLERK</td>\n",
              "      <td>7788.0</td>\n",
              "      <td>1983-01-15 0:00</td>\n",
              "      <td>1100</td>\n",
              "      <td>NaN</td>\n",
              "      <td>20</td>\n",
              "      <td>DALLAS</td>\n",
              "      <td>1037</td>\n",
              "    </tr>\n",
              "    <tr>\n",
              "      <th>11</th>\n",
              "      <td>14</td>\n",
              "      <td>7934</td>\n",
              "      <td>MILLER</td>\n",
              "      <td>CLERK</td>\n",
              "      <td>7782.0</td>\n",
              "      <td>1982-01-11 0:00</td>\n",
              "      <td>1300</td>\n",
              "      <td>NaN</td>\n",
              "      <td>10</td>\n",
              "      <td>DALLAS</td>\n",
              "      <td>1037</td>\n",
              "    </tr>\n",
              "    <tr>\n",
              "      <th>12</th>\n",
              "      <td>10</td>\n",
              "      <td>7902</td>\n",
              "      <td>FORD</td>\n",
              "      <td>ANALYST</td>\n",
              "      <td>7566.0</td>\n",
              "      <td>1981-12-11 0:00</td>\n",
              "      <td>3000</td>\n",
              "      <td>NaN</td>\n",
              "      <td>20</td>\n",
              "      <td>DALLAS</td>\n",
              "      <td>3000</td>\n",
              "    </tr>\n",
              "    <tr>\n",
              "      <th>13</th>\n",
              "      <td>12</td>\n",
              "      <td>7788</td>\n",
              "      <td>SCOTT</td>\n",
              "      <td>ANALYST</td>\n",
              "      <td>7566.0</td>\n",
              "      <td>1982-12-22 0:00</td>\n",
              "      <td>3000</td>\n",
              "      <td>NaN</td>\n",
              "      <td>20</td>\n",
              "      <td>DALLAS</td>\n",
              "      <td>3000</td>\n",
              "    </tr>\n",
              "  </tbody>\n",
              "</table>\n",
              "</div>"
            ],
            "text/plain": [
              "    index  empno   ename        job  ...    comm deptno       loc  sal_y\n",
              "0       1   7839    KING  PRESIDENT  ...     NaN     10  NEW YORK   5000\n",
              "1       2   7698   BLAKE    MANAGER  ...     NaN     30  NEW YORK   2758\n",
              "2       3   7782   CLARK    MANAGER  ...     NaN     10  NEW YORK   2758\n",
              "3       4   7566   JONES    MANAGER  ...     NaN     20   CHICAGO   2758\n",
              "4       5   7654  MARTIN   SALESMAN  ...  1400.0     30   CHICAGO   1400\n",
              "5       6   7499   ALLEN   SALESMAN  ...   300.0     30   CHICAGO   1400\n",
              "6       7   7844  TURNER   SALESMAN  ...     0.0     30   CHICAGO   1400\n",
              "7       9   7521    WARD   SALESMAN  ...   500.0     30   CHICAGO   1400\n",
              "8       8   7900   JAMES      CLERK  ...     NaN     30   CHICAGO   1037\n",
              "9      11   7369   SMITH      CLERK  ...     NaN     20    DALLAS   1037\n",
              "10     13   7876   ADAMS      CLERK  ...     NaN     20    DALLAS   1037\n",
              "11     14   7934  MILLER      CLERK  ...     NaN     10    DALLAS   1037\n",
              "12     10   7902    FORD    ANALYST  ...     NaN     20    DALLAS   3000\n",
              "13     12   7788   SCOTT    ANALYST  ...     NaN     20    DALLAS   3000\n",
              "\n",
              "[14 rows x 11 columns]"
            ]
          },
          "metadata": {
            "tags": []
          },
          "execution_count": 161
        }
      ]
    },
    {
      "cell_type": "markdown",
      "metadata": {
        "id": "VKXuYxmrD2cS"
      },
      "source": [
        "**문제 249. emp 데이터 프레임에 컬럼을 하나 추가하는데 job_avgsal로 추가하고 문제 248번에서 구한 직업별 평균월급인 result['sal_y']의 값으로 값을 갱신하시오**"
      ]
    },
    {
      "cell_type": "code",
      "metadata": {
        "colab": {
          "base_uri": "https://localhost:8080/",
          "height": 483
        },
        "id": "PAlSWWC8EI1w",
        "outputId": "e897c67c-cd16-4e38-de1d-21fe59ec78b1"
      },
      "source": [
        "emp['job_avgsal'] = merge_job['sal_y']\n",
        "emp"
      ],
      "execution_count": null,
      "outputs": [
        {
          "output_type": "execute_result",
          "data": {
            "text/html": [
              "<div>\n",
              "<style scoped>\n",
              "    .dataframe tbody tr th:only-of-type {\n",
              "        vertical-align: middle;\n",
              "    }\n",
              "\n",
              "    .dataframe tbody tr th {\n",
              "        vertical-align: top;\n",
              "    }\n",
              "\n",
              "    .dataframe thead th {\n",
              "        text-align: right;\n",
              "    }\n",
              "</style>\n",
              "<table border=\"1\" class=\"dataframe\">\n",
              "  <thead>\n",
              "    <tr style=\"text-align: right;\">\n",
              "      <th></th>\n",
              "      <th>index</th>\n",
              "      <th>empno</th>\n",
              "      <th>ename</th>\n",
              "      <th>job</th>\n",
              "      <th>mgr</th>\n",
              "      <th>hiredate</th>\n",
              "      <th>sal</th>\n",
              "      <th>comm</th>\n",
              "      <th>deptno</th>\n",
              "      <th>loc</th>\n",
              "      <th>job_avgsal</th>\n",
              "    </tr>\n",
              "  </thead>\n",
              "  <tbody>\n",
              "    <tr>\n",
              "      <th>0</th>\n",
              "      <td>1</td>\n",
              "      <td>7839</td>\n",
              "      <td>KING</td>\n",
              "      <td>PRESIDENT</td>\n",
              "      <td>NaN</td>\n",
              "      <td>1981-11-17 0:00</td>\n",
              "      <td>5000</td>\n",
              "      <td>NaN</td>\n",
              "      <td>10</td>\n",
              "      <td>NEW YORK</td>\n",
              "      <td>5000</td>\n",
              "    </tr>\n",
              "    <tr>\n",
              "      <th>1</th>\n",
              "      <td>2</td>\n",
              "      <td>7698</td>\n",
              "      <td>BLAKE</td>\n",
              "      <td>MANAGER</td>\n",
              "      <td>7839.0</td>\n",
              "      <td>1981-05-01 0:00</td>\n",
              "      <td>2850</td>\n",
              "      <td>NaN</td>\n",
              "      <td>30</td>\n",
              "      <td>NEW YORK</td>\n",
              "      <td>2758</td>\n",
              "    </tr>\n",
              "    <tr>\n",
              "      <th>2</th>\n",
              "      <td>3</td>\n",
              "      <td>7782</td>\n",
              "      <td>CLARK</td>\n",
              "      <td>MANAGER</td>\n",
              "      <td>7839.0</td>\n",
              "      <td>1981-05-09 0:00</td>\n",
              "      <td>2450</td>\n",
              "      <td>NaN</td>\n",
              "      <td>10</td>\n",
              "      <td>NEW YORK</td>\n",
              "      <td>2758</td>\n",
              "    </tr>\n",
              "    <tr>\n",
              "      <th>3</th>\n",
              "      <td>4</td>\n",
              "      <td>7566</td>\n",
              "      <td>JONES</td>\n",
              "      <td>MANAGER</td>\n",
              "      <td>7839.0</td>\n",
              "      <td>1981-04-01 0:00</td>\n",
              "      <td>2975</td>\n",
              "      <td>NaN</td>\n",
              "      <td>20</td>\n",
              "      <td>CHICAGO</td>\n",
              "      <td>2758</td>\n",
              "    </tr>\n",
              "    <tr>\n",
              "      <th>4</th>\n",
              "      <td>5</td>\n",
              "      <td>7654</td>\n",
              "      <td>MARTIN</td>\n",
              "      <td>SALESMAN</td>\n",
              "      <td>7698.0</td>\n",
              "      <td>1981-09-10 0:00</td>\n",
              "      <td>1250</td>\n",
              "      <td>1400.0</td>\n",
              "      <td>30</td>\n",
              "      <td>CHICAGO</td>\n",
              "      <td>1400</td>\n",
              "    </tr>\n",
              "    <tr>\n",
              "      <th>5</th>\n",
              "      <td>6</td>\n",
              "      <td>7499</td>\n",
              "      <td>ALLEN</td>\n",
              "      <td>SALESMAN</td>\n",
              "      <td>7698.0</td>\n",
              "      <td>1981-02-11 0:00</td>\n",
              "      <td>1600</td>\n",
              "      <td>300.0</td>\n",
              "      <td>30</td>\n",
              "      <td>CHICAGO</td>\n",
              "      <td>1400</td>\n",
              "    </tr>\n",
              "    <tr>\n",
              "      <th>6</th>\n",
              "      <td>7</td>\n",
              "      <td>7844</td>\n",
              "      <td>TURNER</td>\n",
              "      <td>SALESMAN</td>\n",
              "      <td>7698.0</td>\n",
              "      <td>1981-08-21 0:00</td>\n",
              "      <td>1500</td>\n",
              "      <td>0.0</td>\n",
              "      <td>30</td>\n",
              "      <td>CHICAGO</td>\n",
              "      <td>1400</td>\n",
              "    </tr>\n",
              "    <tr>\n",
              "      <th>7</th>\n",
              "      <td>8</td>\n",
              "      <td>7900</td>\n",
              "      <td>JAMES</td>\n",
              "      <td>CLERK</td>\n",
              "      <td>7698.0</td>\n",
              "      <td>1981-12-11 0:00</td>\n",
              "      <td>950</td>\n",
              "      <td>NaN</td>\n",
              "      <td>30</td>\n",
              "      <td>CHICAGO</td>\n",
              "      <td>1400</td>\n",
              "    </tr>\n",
              "    <tr>\n",
              "      <th>8</th>\n",
              "      <td>9</td>\n",
              "      <td>7521</td>\n",
              "      <td>WARD</td>\n",
              "      <td>SALESMAN</td>\n",
              "      <td>7698.0</td>\n",
              "      <td>1981-02-23 0:00</td>\n",
              "      <td>1250</td>\n",
              "      <td>500.0</td>\n",
              "      <td>30</td>\n",
              "      <td>CHICAGO</td>\n",
              "      <td>1037</td>\n",
              "    </tr>\n",
              "    <tr>\n",
              "      <th>9</th>\n",
              "      <td>10</td>\n",
              "      <td>7902</td>\n",
              "      <td>FORD</td>\n",
              "      <td>ANALYST</td>\n",
              "      <td>7566.0</td>\n",
              "      <td>1981-12-11 0:00</td>\n",
              "      <td>3000</td>\n",
              "      <td>NaN</td>\n",
              "      <td>20</td>\n",
              "      <td>DALLAS</td>\n",
              "      <td>1037</td>\n",
              "    </tr>\n",
              "    <tr>\n",
              "      <th>10</th>\n",
              "      <td>11</td>\n",
              "      <td>7369</td>\n",
              "      <td>SMITH</td>\n",
              "      <td>CLERK</td>\n",
              "      <td>7902.0</td>\n",
              "      <td>1980-12-09 0:00</td>\n",
              "      <td>800</td>\n",
              "      <td>NaN</td>\n",
              "      <td>20</td>\n",
              "      <td>DALLAS</td>\n",
              "      <td>1037</td>\n",
              "    </tr>\n",
              "    <tr>\n",
              "      <th>11</th>\n",
              "      <td>12</td>\n",
              "      <td>7788</td>\n",
              "      <td>SCOTT</td>\n",
              "      <td>ANALYST</td>\n",
              "      <td>7566.0</td>\n",
              "      <td>1982-12-22 0:00</td>\n",
              "      <td>3000</td>\n",
              "      <td>NaN</td>\n",
              "      <td>20</td>\n",
              "      <td>DALLAS</td>\n",
              "      <td>1037</td>\n",
              "    </tr>\n",
              "    <tr>\n",
              "      <th>12</th>\n",
              "      <td>13</td>\n",
              "      <td>7876</td>\n",
              "      <td>ADAMS</td>\n",
              "      <td>CLERK</td>\n",
              "      <td>7788.0</td>\n",
              "      <td>1983-01-15 0:00</td>\n",
              "      <td>1100</td>\n",
              "      <td>NaN</td>\n",
              "      <td>20</td>\n",
              "      <td>DALLAS</td>\n",
              "      <td>3000</td>\n",
              "    </tr>\n",
              "    <tr>\n",
              "      <th>13</th>\n",
              "      <td>14</td>\n",
              "      <td>7934</td>\n",
              "      <td>MILLER</td>\n",
              "      <td>CLERK</td>\n",
              "      <td>7782.0</td>\n",
              "      <td>1982-01-11 0:00</td>\n",
              "      <td>1300</td>\n",
              "      <td>NaN</td>\n",
              "      <td>10</td>\n",
              "      <td>DALLAS</td>\n",
              "      <td>3000</td>\n",
              "    </tr>\n",
              "  </tbody>\n",
              "</table>\n",
              "</div>"
            ],
            "text/plain": [
              "    index  empno   ename        job  ...    comm deptno       loc  job_avgsal\n",
              "0       1   7839    KING  PRESIDENT  ...     NaN     10  NEW YORK        5000\n",
              "1       2   7698   BLAKE    MANAGER  ...     NaN     30  NEW YORK        2758\n",
              "2       3   7782   CLARK    MANAGER  ...     NaN     10  NEW YORK        2758\n",
              "3       4   7566   JONES    MANAGER  ...     NaN     20   CHICAGO        2758\n",
              "4       5   7654  MARTIN   SALESMAN  ...  1400.0     30   CHICAGO        1400\n",
              "5       6   7499   ALLEN   SALESMAN  ...   300.0     30   CHICAGO        1400\n",
              "6       7   7844  TURNER   SALESMAN  ...     0.0     30   CHICAGO        1400\n",
              "7       8   7900   JAMES      CLERK  ...     NaN     30   CHICAGO        1400\n",
              "8       9   7521    WARD   SALESMAN  ...   500.0     30   CHICAGO        1037\n",
              "9      10   7902    FORD    ANALYST  ...     NaN     20    DALLAS        1037\n",
              "10     11   7369   SMITH      CLERK  ...     NaN     20    DALLAS        1037\n",
              "11     12   7788   SCOTT    ANALYST  ...     NaN     20    DALLAS        1037\n",
              "12     13   7876   ADAMS      CLERK  ...     NaN     20    DALLAS        3000\n",
              "13     14   7934  MILLER      CLERK  ...     NaN     10    DALLAS        3000\n",
              "\n",
              "[14 rows x 11 columns]"
            ]
          },
          "metadata": {
            "tags": []
          },
          "execution_count": 163
        }
      ]
    },
    {
      "cell_type": "markdown",
      "metadata": {
        "id": "vSjqliK-EZIF"
      },
      "source": [
        "- 현업에서 머신러닝 데이터 분석가들이 하는 일 중 상당수가 바로 이런 파생변수를 추가하는 작업임\n",
        "- 좋은 파생변수를 추가해야 머신러닝의 예측이 좋은 결과를 얻을 수 있음\n",
        "- 게임회사에선 그 게임을 탈퇴할 것 같은 유저를 머신러닝으로 찾아 형평성에 어긋나지 않도록 하면서 그 유저가 인식하지 못하도록 혜택을 줌"
      ]
    },
    {
      "cell_type": "markdown",
      "metadata": {
        "id": "jySYfusMFRTg"
      },
      "source": [
        "**문제 250. emp 데이터 프레임에 해당 사원이 근무하는 부서번호의 평균월급을 sal_avg라는 이름으로 파생변수를 생성하시오**"
      ]
    },
    {
      "cell_type": "code",
      "metadata": {
        "colab": {
          "base_uri": "https://localhost:8080/",
          "height": 483
        },
        "id": "7LjuNimkEfVC",
        "outputId": "fe5cb214-c465-4b77-cf3d-2f488d790f15"
      },
      "source": [
        "emp = pd.read_csv(\"emp3.csv\")\n",
        "result = emp.groupby('deptno')['sal'].mean()\n",
        "result2 = pd.merge(result, emp, on='deptno')\n",
        "result2['sal_avg'] = result2['sal_y']\n",
        "result2"
      ],
      "execution_count": null,
      "outputs": [
        {
          "output_type": "execute_result",
          "data": {
            "text/html": [
              "<div>\n",
              "<style scoped>\n",
              "    .dataframe tbody tr th:only-of-type {\n",
              "        vertical-align: middle;\n",
              "    }\n",
              "\n",
              "    .dataframe tbody tr th {\n",
              "        vertical-align: top;\n",
              "    }\n",
              "\n",
              "    .dataframe thead th {\n",
              "        text-align: right;\n",
              "    }\n",
              "</style>\n",
              "<table border=\"1\" class=\"dataframe\">\n",
              "  <thead>\n",
              "    <tr style=\"text-align: right;\">\n",
              "      <th></th>\n",
              "      <th>deptno</th>\n",
              "      <th>sal_x</th>\n",
              "      <th>index</th>\n",
              "      <th>empno</th>\n",
              "      <th>ename</th>\n",
              "      <th>job</th>\n",
              "      <th>mgr</th>\n",
              "      <th>hiredate</th>\n",
              "      <th>sal_y</th>\n",
              "      <th>comm</th>\n",
              "      <th>sal_avg</th>\n",
              "    </tr>\n",
              "  </thead>\n",
              "  <tbody>\n",
              "    <tr>\n",
              "      <th>0</th>\n",
              "      <td>10</td>\n",
              "      <td>2916.666667</td>\n",
              "      <td>1</td>\n",
              "      <td>7839</td>\n",
              "      <td>KING</td>\n",
              "      <td>PRESIDENT</td>\n",
              "      <td>NaN</td>\n",
              "      <td>1981-11-17 0:00</td>\n",
              "      <td>5000</td>\n",
              "      <td>NaN</td>\n",
              "      <td>5000</td>\n",
              "    </tr>\n",
              "    <tr>\n",
              "      <th>1</th>\n",
              "      <td>10</td>\n",
              "      <td>2916.666667</td>\n",
              "      <td>3</td>\n",
              "      <td>7782</td>\n",
              "      <td>CLARK</td>\n",
              "      <td>MANAGER</td>\n",
              "      <td>7839.0</td>\n",
              "      <td>1981-05-09 0:00</td>\n",
              "      <td>2450</td>\n",
              "      <td>NaN</td>\n",
              "      <td>2450</td>\n",
              "    </tr>\n",
              "    <tr>\n",
              "      <th>2</th>\n",
              "      <td>10</td>\n",
              "      <td>2916.666667</td>\n",
              "      <td>14</td>\n",
              "      <td>7934</td>\n",
              "      <td>MILLER</td>\n",
              "      <td>CLERK</td>\n",
              "      <td>7782.0</td>\n",
              "      <td>1982-01-11 0:00</td>\n",
              "      <td>1300</td>\n",
              "      <td>NaN</td>\n",
              "      <td>1300</td>\n",
              "    </tr>\n",
              "    <tr>\n",
              "      <th>3</th>\n",
              "      <td>20</td>\n",
              "      <td>2175.000000</td>\n",
              "      <td>4</td>\n",
              "      <td>7566</td>\n",
              "      <td>JONES</td>\n",
              "      <td>MANAGER</td>\n",
              "      <td>7839.0</td>\n",
              "      <td>1981-04-01 0:00</td>\n",
              "      <td>2975</td>\n",
              "      <td>NaN</td>\n",
              "      <td>2975</td>\n",
              "    </tr>\n",
              "    <tr>\n",
              "      <th>4</th>\n",
              "      <td>20</td>\n",
              "      <td>2175.000000</td>\n",
              "      <td>10</td>\n",
              "      <td>7902</td>\n",
              "      <td>FORD</td>\n",
              "      <td>ANALYST</td>\n",
              "      <td>7566.0</td>\n",
              "      <td>1981-12-11 0:00</td>\n",
              "      <td>3000</td>\n",
              "      <td>NaN</td>\n",
              "      <td>3000</td>\n",
              "    </tr>\n",
              "    <tr>\n",
              "      <th>5</th>\n",
              "      <td>20</td>\n",
              "      <td>2175.000000</td>\n",
              "      <td>11</td>\n",
              "      <td>7369</td>\n",
              "      <td>SMITH</td>\n",
              "      <td>CLERK</td>\n",
              "      <td>7902.0</td>\n",
              "      <td>1980-12-09 0:00</td>\n",
              "      <td>800</td>\n",
              "      <td>NaN</td>\n",
              "      <td>800</td>\n",
              "    </tr>\n",
              "    <tr>\n",
              "      <th>6</th>\n",
              "      <td>20</td>\n",
              "      <td>2175.000000</td>\n",
              "      <td>12</td>\n",
              "      <td>7788</td>\n",
              "      <td>SCOTT</td>\n",
              "      <td>ANALYST</td>\n",
              "      <td>7566.0</td>\n",
              "      <td>1982-12-22 0:00</td>\n",
              "      <td>3000</td>\n",
              "      <td>NaN</td>\n",
              "      <td>3000</td>\n",
              "    </tr>\n",
              "    <tr>\n",
              "      <th>7</th>\n",
              "      <td>20</td>\n",
              "      <td>2175.000000</td>\n",
              "      <td>13</td>\n",
              "      <td>7876</td>\n",
              "      <td>ADAMS</td>\n",
              "      <td>CLERK</td>\n",
              "      <td>7788.0</td>\n",
              "      <td>1983-01-15 0:00</td>\n",
              "      <td>1100</td>\n",
              "      <td>NaN</td>\n",
              "      <td>1100</td>\n",
              "    </tr>\n",
              "    <tr>\n",
              "      <th>8</th>\n",
              "      <td>30</td>\n",
              "      <td>1566.666667</td>\n",
              "      <td>2</td>\n",
              "      <td>7698</td>\n",
              "      <td>BLAKE</td>\n",
              "      <td>MANAGER</td>\n",
              "      <td>7839.0</td>\n",
              "      <td>1981-05-01 0:00</td>\n",
              "      <td>2850</td>\n",
              "      <td>NaN</td>\n",
              "      <td>2850</td>\n",
              "    </tr>\n",
              "    <tr>\n",
              "      <th>9</th>\n",
              "      <td>30</td>\n",
              "      <td>1566.666667</td>\n",
              "      <td>5</td>\n",
              "      <td>7654</td>\n",
              "      <td>MARTIN</td>\n",
              "      <td>SALESMAN</td>\n",
              "      <td>7698.0</td>\n",
              "      <td>1981-09-10 0:00</td>\n",
              "      <td>1250</td>\n",
              "      <td>1400.0</td>\n",
              "      <td>1250</td>\n",
              "    </tr>\n",
              "    <tr>\n",
              "      <th>10</th>\n",
              "      <td>30</td>\n",
              "      <td>1566.666667</td>\n",
              "      <td>6</td>\n",
              "      <td>7499</td>\n",
              "      <td>ALLEN</td>\n",
              "      <td>SALESMAN</td>\n",
              "      <td>7698.0</td>\n",
              "      <td>1981-02-11 0:00</td>\n",
              "      <td>1600</td>\n",
              "      <td>300.0</td>\n",
              "      <td>1600</td>\n",
              "    </tr>\n",
              "    <tr>\n",
              "      <th>11</th>\n",
              "      <td>30</td>\n",
              "      <td>1566.666667</td>\n",
              "      <td>7</td>\n",
              "      <td>7844</td>\n",
              "      <td>TURNER</td>\n",
              "      <td>SALESMAN</td>\n",
              "      <td>7698.0</td>\n",
              "      <td>1981-08-21 0:00</td>\n",
              "      <td>1500</td>\n",
              "      <td>0.0</td>\n",
              "      <td>1500</td>\n",
              "    </tr>\n",
              "    <tr>\n",
              "      <th>12</th>\n",
              "      <td>30</td>\n",
              "      <td>1566.666667</td>\n",
              "      <td>8</td>\n",
              "      <td>7900</td>\n",
              "      <td>JAMES</td>\n",
              "      <td>CLERK</td>\n",
              "      <td>7698.0</td>\n",
              "      <td>1981-12-11 0:00</td>\n",
              "      <td>950</td>\n",
              "      <td>NaN</td>\n",
              "      <td>950</td>\n",
              "    </tr>\n",
              "    <tr>\n",
              "      <th>13</th>\n",
              "      <td>30</td>\n",
              "      <td>1566.666667</td>\n",
              "      <td>9</td>\n",
              "      <td>7521</td>\n",
              "      <td>WARD</td>\n",
              "      <td>SALESMAN</td>\n",
              "      <td>7698.0</td>\n",
              "      <td>1981-02-23 0:00</td>\n",
              "      <td>1250</td>\n",
              "      <td>500.0</td>\n",
              "      <td>1250</td>\n",
              "    </tr>\n",
              "  </tbody>\n",
              "</table>\n",
              "</div>"
            ],
            "text/plain": [
              "    deptno        sal_x  index  empno  ...         hiredate sal_y    comm sal_avg\n",
              "0       10  2916.666667      1   7839  ...  1981-11-17 0:00  5000     NaN    5000\n",
              "1       10  2916.666667      3   7782  ...  1981-05-09 0:00  2450     NaN    2450\n",
              "2       10  2916.666667     14   7934  ...  1982-01-11 0:00  1300     NaN    1300\n",
              "3       20  2175.000000      4   7566  ...  1981-04-01 0:00  2975     NaN    2975\n",
              "4       20  2175.000000     10   7902  ...  1981-12-11 0:00  3000     NaN    3000\n",
              "5       20  2175.000000     11   7369  ...  1980-12-09 0:00   800     NaN     800\n",
              "6       20  2175.000000     12   7788  ...  1982-12-22 0:00  3000     NaN    3000\n",
              "7       20  2175.000000     13   7876  ...  1983-01-15 0:00  1100     NaN    1100\n",
              "8       30  1566.666667      2   7698  ...  1981-05-01 0:00  2850     NaN    2850\n",
              "9       30  1566.666667      5   7654  ...  1981-09-10 0:00  1250  1400.0    1250\n",
              "10      30  1566.666667      6   7499  ...  1981-02-11 0:00  1600   300.0    1600\n",
              "11      30  1566.666667      7   7844  ...  1981-08-21 0:00  1500     0.0    1500\n",
              "12      30  1566.666667      8   7900  ...  1981-12-11 0:00   950     NaN     950\n",
              "13      30  1566.666667      9   7521  ...  1981-02-23 0:00  1250   500.0    1250\n",
              "\n",
              "[14 rows x 11 columns]"
            ]
          },
          "metadata": {
            "tags": []
          },
          "execution_count": 173
        }
      ]
    },
    {
      "cell_type": "markdown",
      "metadata": {
        "id": "GprgLL1-Kx7c"
      },
      "source": [
        "**문제 251. emp 데이터 프레임을 출력하는데 월급이 높은 순서대로 출력하시오**"
      ]
    },
    {
      "cell_type": "code",
      "metadata": {
        "colab": {
          "base_uri": "https://localhost:8080/",
          "height": 483
        },
        "id": "cBIZ88bxK2cx",
        "outputId": "93494b07-d05a-4c30-90b4-cce61d142667"
      },
      "source": [
        "emp = pd.read_csv('emp3.csv')\n",
        "result = emp.sort_values('sal', ascending=False) # 데이터를 정렬하기 위해선 sort_values 함수를 사용함\n",
        "result"
      ],
      "execution_count": null,
      "outputs": [
        {
          "output_type": "execute_result",
          "data": {
            "text/html": [
              "<div>\n",
              "<style scoped>\n",
              "    .dataframe tbody tr th:only-of-type {\n",
              "        vertical-align: middle;\n",
              "    }\n",
              "\n",
              "    .dataframe tbody tr th {\n",
              "        vertical-align: top;\n",
              "    }\n",
              "\n",
              "    .dataframe thead th {\n",
              "        text-align: right;\n",
              "    }\n",
              "</style>\n",
              "<table border=\"1\" class=\"dataframe\">\n",
              "  <thead>\n",
              "    <tr style=\"text-align: right;\">\n",
              "      <th></th>\n",
              "      <th>index</th>\n",
              "      <th>empno</th>\n",
              "      <th>ename</th>\n",
              "      <th>job</th>\n",
              "      <th>mgr</th>\n",
              "      <th>hiredate</th>\n",
              "      <th>sal</th>\n",
              "      <th>comm</th>\n",
              "      <th>deptno</th>\n",
              "    </tr>\n",
              "  </thead>\n",
              "  <tbody>\n",
              "    <tr>\n",
              "      <th>0</th>\n",
              "      <td>1</td>\n",
              "      <td>7839</td>\n",
              "      <td>KING</td>\n",
              "      <td>PRESIDENT</td>\n",
              "      <td>NaN</td>\n",
              "      <td>1981-11-17 0:00</td>\n",
              "      <td>5000</td>\n",
              "      <td>NaN</td>\n",
              "      <td>10</td>\n",
              "    </tr>\n",
              "    <tr>\n",
              "      <th>9</th>\n",
              "      <td>10</td>\n",
              "      <td>7902</td>\n",
              "      <td>FORD</td>\n",
              "      <td>ANALYST</td>\n",
              "      <td>7566.0</td>\n",
              "      <td>1981-12-11 0:00</td>\n",
              "      <td>3000</td>\n",
              "      <td>NaN</td>\n",
              "      <td>20</td>\n",
              "    </tr>\n",
              "    <tr>\n",
              "      <th>11</th>\n",
              "      <td>12</td>\n",
              "      <td>7788</td>\n",
              "      <td>SCOTT</td>\n",
              "      <td>ANALYST</td>\n",
              "      <td>7566.0</td>\n",
              "      <td>1982-12-22 0:00</td>\n",
              "      <td>3000</td>\n",
              "      <td>NaN</td>\n",
              "      <td>20</td>\n",
              "    </tr>\n",
              "    <tr>\n",
              "      <th>3</th>\n",
              "      <td>4</td>\n",
              "      <td>7566</td>\n",
              "      <td>JONES</td>\n",
              "      <td>MANAGER</td>\n",
              "      <td>7839.0</td>\n",
              "      <td>1981-04-01 0:00</td>\n",
              "      <td>2975</td>\n",
              "      <td>NaN</td>\n",
              "      <td>20</td>\n",
              "    </tr>\n",
              "    <tr>\n",
              "      <th>1</th>\n",
              "      <td>2</td>\n",
              "      <td>7698</td>\n",
              "      <td>BLAKE</td>\n",
              "      <td>MANAGER</td>\n",
              "      <td>7839.0</td>\n",
              "      <td>1981-05-01 0:00</td>\n",
              "      <td>2850</td>\n",
              "      <td>NaN</td>\n",
              "      <td>30</td>\n",
              "    </tr>\n",
              "    <tr>\n",
              "      <th>2</th>\n",
              "      <td>3</td>\n",
              "      <td>7782</td>\n",
              "      <td>CLARK</td>\n",
              "      <td>MANAGER</td>\n",
              "      <td>7839.0</td>\n",
              "      <td>1981-05-09 0:00</td>\n",
              "      <td>2450</td>\n",
              "      <td>NaN</td>\n",
              "      <td>10</td>\n",
              "    </tr>\n",
              "    <tr>\n",
              "      <th>5</th>\n",
              "      <td>6</td>\n",
              "      <td>7499</td>\n",
              "      <td>ALLEN</td>\n",
              "      <td>SALESMAN</td>\n",
              "      <td>7698.0</td>\n",
              "      <td>1981-02-11 0:00</td>\n",
              "      <td>1600</td>\n",
              "      <td>300.0</td>\n",
              "      <td>30</td>\n",
              "    </tr>\n",
              "    <tr>\n",
              "      <th>6</th>\n",
              "      <td>7</td>\n",
              "      <td>7844</td>\n",
              "      <td>TURNER</td>\n",
              "      <td>SALESMAN</td>\n",
              "      <td>7698.0</td>\n",
              "      <td>1981-08-21 0:00</td>\n",
              "      <td>1500</td>\n",
              "      <td>0.0</td>\n",
              "      <td>30</td>\n",
              "    </tr>\n",
              "    <tr>\n",
              "      <th>13</th>\n",
              "      <td>14</td>\n",
              "      <td>7934</td>\n",
              "      <td>MILLER</td>\n",
              "      <td>CLERK</td>\n",
              "      <td>7782.0</td>\n",
              "      <td>1982-01-11 0:00</td>\n",
              "      <td>1300</td>\n",
              "      <td>NaN</td>\n",
              "      <td>10</td>\n",
              "    </tr>\n",
              "    <tr>\n",
              "      <th>4</th>\n",
              "      <td>5</td>\n",
              "      <td>7654</td>\n",
              "      <td>MARTIN</td>\n",
              "      <td>SALESMAN</td>\n",
              "      <td>7698.0</td>\n",
              "      <td>1981-09-10 0:00</td>\n",
              "      <td>1250</td>\n",
              "      <td>1400.0</td>\n",
              "      <td>30</td>\n",
              "    </tr>\n",
              "    <tr>\n",
              "      <th>8</th>\n",
              "      <td>9</td>\n",
              "      <td>7521</td>\n",
              "      <td>WARD</td>\n",
              "      <td>SALESMAN</td>\n",
              "      <td>7698.0</td>\n",
              "      <td>1981-02-23 0:00</td>\n",
              "      <td>1250</td>\n",
              "      <td>500.0</td>\n",
              "      <td>30</td>\n",
              "    </tr>\n",
              "    <tr>\n",
              "      <th>12</th>\n",
              "      <td>13</td>\n",
              "      <td>7876</td>\n",
              "      <td>ADAMS</td>\n",
              "      <td>CLERK</td>\n",
              "      <td>7788.0</td>\n",
              "      <td>1983-01-15 0:00</td>\n",
              "      <td>1100</td>\n",
              "      <td>NaN</td>\n",
              "      <td>20</td>\n",
              "    </tr>\n",
              "    <tr>\n",
              "      <th>7</th>\n",
              "      <td>8</td>\n",
              "      <td>7900</td>\n",
              "      <td>JAMES</td>\n",
              "      <td>CLERK</td>\n",
              "      <td>7698.0</td>\n",
              "      <td>1981-12-11 0:00</td>\n",
              "      <td>950</td>\n",
              "      <td>NaN</td>\n",
              "      <td>30</td>\n",
              "    </tr>\n",
              "    <tr>\n",
              "      <th>10</th>\n",
              "      <td>11</td>\n",
              "      <td>7369</td>\n",
              "      <td>SMITH</td>\n",
              "      <td>CLERK</td>\n",
              "      <td>7902.0</td>\n",
              "      <td>1980-12-09 0:00</td>\n",
              "      <td>800</td>\n",
              "      <td>NaN</td>\n",
              "      <td>20</td>\n",
              "    </tr>\n",
              "  </tbody>\n",
              "</table>\n",
              "</div>"
            ],
            "text/plain": [
              "    index  empno   ename        job  ...         hiredate   sal    comm  deptno\n",
              "0       1   7839    KING  PRESIDENT  ...  1981-11-17 0:00  5000     NaN      10\n",
              "9      10   7902    FORD    ANALYST  ...  1981-12-11 0:00  3000     NaN      20\n",
              "11     12   7788   SCOTT    ANALYST  ...  1982-12-22 0:00  3000     NaN      20\n",
              "3       4   7566   JONES    MANAGER  ...  1981-04-01 0:00  2975     NaN      20\n",
              "1       2   7698   BLAKE    MANAGER  ...  1981-05-01 0:00  2850     NaN      30\n",
              "2       3   7782   CLARK    MANAGER  ...  1981-05-09 0:00  2450     NaN      10\n",
              "5       6   7499   ALLEN   SALESMAN  ...  1981-02-11 0:00  1600   300.0      30\n",
              "6       7   7844  TURNER   SALESMAN  ...  1981-08-21 0:00  1500     0.0      30\n",
              "13     14   7934  MILLER      CLERK  ...  1982-01-11 0:00  1300     NaN      10\n",
              "4       5   7654  MARTIN   SALESMAN  ...  1981-09-10 0:00  1250  1400.0      30\n",
              "8       9   7521    WARD   SALESMAN  ...  1981-02-23 0:00  1250   500.0      30\n",
              "12     13   7876   ADAMS      CLERK  ...  1983-01-15 0:00  1100     NaN      20\n",
              "7       8   7900   JAMES      CLERK  ...  1981-12-11 0:00   950     NaN      30\n",
              "10     11   7369   SMITH      CLERK  ...  1980-12-09 0:00   800     NaN      20\n",
              "\n",
              "[14 rows x 9 columns]"
            ]
          },
          "metadata": {
            "tags": []
          },
          "execution_count": 175
        }
      ]
    },
    {
      "cell_type": "markdown",
      "metadata": {
        "id": "NtAvHUaBLM5a"
      },
      "source": [
        "- 판다스를 사용할 때 데이터를 정렬하려면 위와 같이 sort_values 함수를 이용하면 됨\n",
        "    - ascending = True: 낮은 값에 높은 값 순으로 정렬\n",
        "    - asceding = False: 높은 값에 낮은 값 순으로 정렬"
      ]
    },
    {
      "cell_type": "markdown",
      "metadata": {
        "id": "67rmrKpaLdfd"
      },
      "source": [
        "**문제 252. 아래의 SQL을 판다스로 구현하시오**\n",
        "~~~\n",
        "SQL>\n",
        "select job, sum( sal )\n",
        "    from emp\n",
        "    group by job\n",
        "    having sum( sal ) >= 6000\n",
        "    order by sum( sal ) desc;\n",
        "~~~"
      ]
    },
    {
      "cell_type": "code",
      "metadata": {
        "colab": {
          "resources": {
            "http://localhost:8080/nbextensions/google.colab/files.js": {
              "data": "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",
              "ok": true,
              "headers": [
                [
                  "content-type",
                  "application/javascript"
                ]
              ],
              "status": 200,
              "status_text": ""
            }
          },
          "base_uri": "https://localhost:8080/",
          "height": 72
        },
        "id": "3PTZ7WfOLc08",
        "outputId": "0256444d-b87f-4312-9dc8-97746836d019"
      },
      "source": [
        "from google.colab import files\n",
        "files = files.upload()"
      ],
      "execution_count": null,
      "outputs": [
        {
          "output_type": "display_data",
          "data": {
            "text/html": [
              "\n",
              "     <input type=\"file\" id=\"files-ab9606a9-4605-4137-99e1-2dbb83202629\" name=\"files[]\" multiple disabled\n",
              "        style=\"border:none\" />\n",
              "     <output id=\"result-ab9606a9-4605-4137-99e1-2dbb83202629\">\n",
              "      Upload widget is only available when the cell has been executed in the\n",
              "      current browser session. Please rerun this cell to enable.\n",
              "      </output>\n",
              "      <script src=\"/nbextensions/google.colab/files.js\"></script> "
            ],
            "text/plain": [
              "<IPython.core.display.HTML object>"
            ]
          },
          "metadata": {
            "tags": []
          }
        },
        {
          "output_type": "stream",
          "text": [
            "Saving emp3.csv to emp3 (1).csv\n"
          ],
          "name": "stdout"
        }
      ]
    },
    {
      "cell_type": "code",
      "metadata": {
        "colab": {
          "base_uri": "https://localhost:8080/"
        },
        "id": "L4xSHAcgMA6M",
        "outputId": "b519bc9d-1b7c-4f77-90b2-e261a1786073"
      },
      "source": [
        "emp = pd.read_csv(\"emp3.csv\")\n",
        "result = emp.groupby('job')['sal'].sum().reset_index()\n",
        "print( result[['job','sal']][result['sal'] >= 6000].sort_values('sal', ascending=False) )"
      ],
      "execution_count": null,
      "outputs": [
        {
          "output_type": "stream",
          "text": [
            "       job   sal\n",
            "2  MANAGER  8275\n",
            "0  ANALYST  6000\n"
          ],
          "name": "stdout"
        }
      ]
    }
  ]
}