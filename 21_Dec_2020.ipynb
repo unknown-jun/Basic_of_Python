{
  "nbformat": 4,
  "nbformat_minor": 0,
  "metadata": {
    "colab": {
      "name": "21_Dec_2020.ipynb",
      "provenance": [],
      "toc_visible": true,
      "mount_file_id": "1yi6AFomWILFBx5621UhgUvwsr4hXDzCU",
      "authorship_tag": "ABX9TyM1LGNK9LdrQgeSz52Nh9JS",
      "include_colab_link": true
    },
    "kernelspec": {
      "name": "python3",
      "display_name": "Python 3"
    }
  },
  "cells": [
    {
      "cell_type": "markdown",
      "metadata": {
        "id": "view-in-github",
        "colab_type": "text"
      },
      "source": [
        "<a href=\"https://colab.research.google.com/github/unknown-jun/Basic_of_Python/blob/master/21_Dec_2020.ipynb\" target=\"_parent\"><img src=\"https://colab.research.google.com/assets/colab-badge.svg\" alt=\"Open In Colab\"/></a>"
      ]
    },
    {
      "cell_type": "markdown",
      "metadata": {
        "id": "e27DbS-MxP5J"
      },
      "source": [
        "#148. 파이썬과 Oracle 연동\n",
        "\n",
        "- 데이터의 구조에 따른 종류 3가지\n",
        "    1. 정형화 데이터: RDBMS 에 저장된 데이터\n",
        "                Relational DataBase Management System\n",
        "                ( 관계형 데이터 베이스 관리 시스템 )\n",
        "    2. 반정형 데이터: html, 웹로그 데이터, xml\n",
        "    3. 비정형 데이터: 동영상, 사진, 이미지, sns의 텍스트 데이터\n",
        "\n",
        "- 오라클과 파이썬을 연동하는 이유?\n",
        "    1. 오라클 데이터 베이스에서 실시간으로 변하는 데이터를 csv 파일로 매번 내리기엔 번거로운 점이 있다.\n",
        "\n",
        "    2. 파이썬의 여러 장점들을 이용해서 데이터를 분석할 수 있기 때문  \n",
        "    (통계 구현, 시각화, 머신러닝 구현, 업무 자동화)\n",
        "\n",
        "    3. 폐사진을 숫자로 변환해서 오라클 database에 저장함  \n",
        "     이미지를 숫자로 변환하여 오라클 database에 저장함\n",
        "     DB에 저장하고 관리를 함 ( OS에 파일로 남겨만 두지 않음 )  \n",
        "            DB에 저장하면 백업과 복구를 할 수 있다라는 장점이 있다.\n",
        "            효율적으로 data를 관리를 할 수가 있음\n",
        "            OS에 파일로 저장되어 있으면 바이러스에 노출될 수도 있음\n",
        "\n",
        "- 오라클과 파이썬 연동\n",
        "    1. 도스창을 열고 리스너의 상태를 확인할 수 있음  \n",
        "    리스너 상태를 확인하는 명령어: lsnrctl status  \n",
        "            맥: docker exec -it oracle2 lsnrctl stauts\n",
        "\n",
        "            리스너: 외부에서 오라클에 접속하려면 리스너를 통해야지만 접속이 가능\n",
        "            리스너가 그 접속을 허영해줌\n",
        "            리스너가 가지고 있는 정보 중 3가지를 확인해야 함\n",
        "            1. IP 주소 (건물 주소):\n",
        "            2. 포트번호 (건물안의 복도):\n",
        "            3. 서비스 이름 (회사 이름)\n",
        "\n",
        "    2. 위의 정보들을 이용해서 오라클 databse 에 접속  \n",
        "            윈도우: sqlplus scott/tiger@localhost: 숫자 4자리/xe  \n",
        "            맥: docker exec -it oracle2 sqlplus scott/tiger@localhost: 숫자 4자리/xe\n",
        "    3. 아나콘다 프롬프트 창을 열고 cx_Oracle 모듈을 설치함\n",
        "            conda install cx_Oracle\n",
        "    4. 파이썬에서 오라클과 연동하는 코드를 작성한다.\n",
        "            import cx_Oracle\n",
        "            import pandas as pd\n",
        "\n",
        "            dsn = cx_Oracle(\"localhost\", 숫자네자리, 'xe')\n",
        "\n"
      ]
    },
    {
      "cell_type": "markdown",
      "metadata": {
        "id": "mUKHpCDqX8Jq"
      },
      "source": [
        "**문제440. 위의 emp 테이블 전체를 select 했는데 전체를 다 select 하지 말고 아래의 쿼리의 결과만 select 하시오 !**\n",
        "\n",
        "~~~\n",
        "select  empno, ename, sal, deptno\n",
        "   from emp;\n",
        "~~~"
      ]
    },
    {
      "cell_type": "code",
      "metadata": {
        "id": "HDhNA-mMYVBP"
      },
      "source": [
        "import  cx_Oracle\n",
        "import  pandas  as   pd\n",
        "\n",
        "dsn = cx_Oracle.makedsn(\"localhost\", 1522, 'xe' )  #오라클 주소를 기입한다.\n",
        "db = cx_Oracle.connect('system', 'oracle', dsn ) # 오라클 접속 유져 정보\n",
        "cursor = db.cursor() # 결과 데이터를 담을 메모리 이름을 cursor 로 선언함\n",
        "cursor.execute(\"\"\" select * from  dept\"\"\") # 작성한 쿼리문의 결과가 \n",
        "                                                     # cursor 메모리에 담긴다. \n",
        "row = cursor.fetchall()   # cursor 메모리에 담긴 결과를 한번에 row 변수에\n",
        "                               # 담는다.\n",
        "dept= pd.DataFrame(row)\n",
        "print (dept)"
      ],
      "execution_count": null,
      "outputs": []
    },
    {
      "cell_type": "markdown",
      "metadata": {
        "id": "FFMJHuf7YOot"
      },
      "source": [
        "**문제441.   dept 테이블의 모든 데이터를 조회하시오 !**\n"
      ]
    },
    {
      "cell_type": "code",
      "metadata": {
        "id": "p2gjLVsaYTvJ"
      },
      "source": [
        "import  pandas  as   pd\n",
        "\n",
        "dsn = cx_Oracle.makedsn(\"localhost\", 1522, 'xe' )  #오라클 주소를 기입한다.\n",
        "db = cx_Oracle.connect('system', 'oracle', dsn ) # 오라클 접속 유져 정보\n",
        "cursor = db.cursor() # 결과 데이터를 담을 메모리 이름을 cursor 로 선언함\n",
        "cursor.execute(\"\"\" select * from  emp12 \"\"\") # 작성한 쿼리문의 결과가 \n",
        "                                                     # cursor 메모리에 담긴다. \n",
        "row = cursor.fetchall()   # cursor 메모리에 담긴 결과를 한번에 row 변수에\n",
        "                               # 담는다.\n",
        "emp12 = pd.DataFrame(row)\n",
        "print (emp12)"
      ],
      "execution_count": null,
      "outputs": []
    },
    {
      "cell_type": "markdown",
      "metadata": {
        "id": "bzipWE6vYa04"
      },
      "source": [
        "**문제442.  우리반 테이블(emp12) 를 조회하시오 !**\n"
      ]
    },
    {
      "cell_type": "code",
      "metadata": {
        "id": "OKv1c9KUYf8Y"
      },
      "source": [
        "import  pandas  as   pd\n",
        "\n",
        "dsn = cx_Oracle.makedsn(\"localhost\", 1522, 'xe' )  #오라클 주소를 기입한다.\n",
        "db = cx_Oracle.connect('system', 'oracle', dsn ) # 오라클 접속 유져 정보\n",
        "cursor = db.cursor() # 결과 데이터를 담을 메모리 이름을 cursor 로 선언함\n",
        "cursor.execute(\"\"\" select * from  emp12 \"\"\") # 작성한 쿼리문의 결과가 \n",
        "                                                     # cursor 메모리에 담긴다. \n",
        "row = cursor.fetchall()   # cursor 메모리에 담긴 결과를 한번에 row 변수에\n",
        "                               # 담는다.\n",
        "emp12 = pd.DataFrame(row)\n",
        "print (emp12)"
      ],
      "execution_count": null,
      "outputs": []
    },
    {
      "cell_type": "markdown",
      "metadata": {
        "id": "-hC3WuylYhA4"
      },
      "source": [
        "**문제444.  사원 테이블의 월급을 막대 그래프로 그리시오**"
      ]
    },
    {
      "cell_type": "code",
      "metadata": {
        "id": "fnWAxlEyYplt"
      },
      "source": [
        "import cx_Oracle\n",
        "import  pandas  as   pd\n",
        "\n",
        "dsn = cx_Oracle.makedsn(\"localhost\", 1522, 'xe' )  #오라클 주소를 기입한다.\n",
        "db = cx_Oracle.connect('system', 'oracle', dsn ) # 오라클 접속 유져 정보\n",
        "cursor = db.cursor() # 결과 데이터를 담을 메모리 이름을 cursor 로 선언함\n",
        "cursor.execute(\"\"\" select ename,sal from  emp \"\"\") # 작성한 쿼리문의 결과가 \n",
        "                                                     # cursor 메모리에 담긴다. \n",
        "row = cursor.fetchall()   # cursor 메모리에 담긴 결과를 한번에 row 변수에\n",
        "                               # 담는다.\n",
        "emp = pd.DataFrame(row)\n",
        "print(list(emp[0]))\n",
        "emp.index = list(emp[0])  \n",
        "emp.plot(kind='bar') \n",
        "db = cx_Oracle.connect('sys', 'oracle_4U', dsn, cx_Oracle.SYSDBA)"
      ],
      "execution_count": null,
      "outputs": []
    },
    {
      "cell_type": "markdown",
      "metadata": {
        "id": "C3ABExgZYvX3"
      },
      "source": [
        "**문제446.  직업, 직업별 최대월급을 출력하시오 !**"
      ]
    },
    {
      "cell_type": "code",
      "metadata": {
        "id": "omwR6k4aYzE6"
      },
      "source": [
        "import cx_Oracle\n",
        "import  pandas  as   pd\n",
        "\n",
        "dsn = cx_Oracle.makedsn(\"localhost\", 1522, 'xe' )  #오라클 주소를 기입한다.\n",
        "db = cx_Oracle.connect('system', 'oracle', dsn ) # 오라클 접속 유져 정보\n",
        "cursor = db.cursor() # 결과 데이터를 담을 메모리 이름을 cursor 로 선언함\n",
        "cursor.execute(\"\"\" select job, max(sal) from  emp group by job \"\"\") # 작성한 쿼리문의 결과가 \n",
        "                                                   \n",
        "row = cursor.fetchall()   # cursor 메모리에 담긴 결과를 한번에 row 변수에\n",
        "emp = pd.DataFrame(row)\n",
        "print(emp)\n"
      ],
      "execution_count": null,
      "outputs": []
    },
    {
      "cell_type": "markdown",
      "metadata": {
        "id": "zn6JCK_PY2H5"
      },
      "source": [
        "**문제447.  직업, 직업별 토탈월급을 출력하는데 직업별 토탈월급이 높은것부터 출력하시오 !**"
      ]
    },
    {
      "cell_type": "code",
      "metadata": {
        "id": "TQqxRQNIZQRR"
      },
      "source": [
        "import cx_Oracle\n",
        "import  pandas  as   pd\n",
        "\n",
        "dsn = cx_Oracle.makedsn(\"localhost\", 1522, 'xe' ) .\n",
        "db = cx_Oracle.connect('system', 'oracle', dsn ) \n",
        "cursor = db.cursor() \n",
        "cursor.execute(\"\"\" select job, sum(sal) \n",
        "                          from  emp \n",
        "                          group by job \n",
        "                          order by sum(sal) desc \"\"\") \n",
        "                                                   \n",
        "row = cursor.fetchall()   \n",
        "emp = pd.DataFrame(row)\n",
        "print(emp)"
      ],
      "execution_count": null,
      "outputs": []
    },
    {
      "cell_type": "markdown",
      "metadata": {
        "id": "4wUAR06fnxp4"
      },
      "source": [
        "**문제 448. 이름, 월급, 순위를 출력하는데 순위가 월급이 높은 사원순으로 순위를 부여하시오**"
      ]
    },
    {
      "cell_type": "code",
      "metadata": {
        "id": "XuLni8RBn67V"
      },
      "source": [
        "import cx_Oracle\n",
        "import pandas as pd\n",
        "\n",
        "dsn = cx_Oracle.makedsn(\"localhost\", 1521, \"xe\")\n",
        "db = cx_Oracle.connect(\"scott\", \"tiger\", dsn)\n",
        "cursor = db.cursor()\n",
        "cursor.execute(\"\"\" select ename, sal\n",
        "               dense_rank() over (order by sal desc) rnk\n",
        "               from emp \"\"\")\n",
        "\n",
        "row = cursor.fetchall()\n",
        "emp = pd.DataFrame(row)\n",
        "print(emp)"
      ],
      "execution_count": null,
      "outputs": []
    },
    {
      "cell_type": "markdown",
      "metadata": {
        "id": "TJGLpwTgojFZ"
      },
      "source": [
        "**문제 449. 부서번호, 부서번호별 토탈월급을 출력하시오!**"
      ]
    },
    {
      "cell_type": "code",
      "metadata": {
        "id": "h4pona7qonMl"
      },
      "source": [
        "import cx_Oracle\n",
        "import pandas as pd\n",
        "\n",
        "dsn = cx_Oracle.makedsn(\"localhost\", 1521, \"xe\")\n",
        "db = cx_Oracle.connect(\"scott\", \"tiger\", dsn)\n",
        "cursor = db.cursor()\n",
        "cursor.execute(\"\"\" select deptno, sum( sal )\n",
        "               from emp \n",
        "               group by deptno\"\"\")\n",
        "\n",
        "row = cursor.fetchall()\n",
        "emp = pd.DataFrame(row)\n",
        "print(emp)"
      ],
      "execution_count": null,
      "outputs": []
    },
    {
      "cell_type": "markdown",
      "metadata": {
        "id": "OKrUY7z0pJqX"
      },
      "source": [
        "**문제 450. 위의 결과를 막대그래프로 시각화하시오**"
      ]
    },
    {
      "cell_type": "code",
      "metadata": {
        "id": "wWO_0oUApJZQ"
      },
      "source": [
        "import cx_Oracle\n",
        "import pandas as pd\n",
        "\n",
        "dsn = cx_Oracle.makedsn(\"localhost\", 1521, 'xe') # 오라클 주소를 기입 \n",
        "db = cx_Oracle.connect('scott', 'tiger', dsn)  # 오라클 접속 유저 정보\n",
        "cursor=db.cursor()  # 결과데이터를 담을 메모리 이름을 cursor로 선언\n",
        "cursor.execute(\"\"\" select * from emp \"\"\") # 작성한 쿼리문의 결과가 cursor 메모리에 담긴다.\n",
        "\n",
        "dsn = cx_Oracle.makedsn(\"localhost\", 1521, \"xe\")\n",
        "db = cx_Oracle.connect(\"scott\", \"tiger\", dsn)\n",
        "cursor = db.cursor()\n",
        "cursor.execute(\"\"\" select deptno, sum( sal )\n",
        "               from emp \n",
        "               group by deptno\"\"\")\n",
        "\n",
        "row = cursor.fetchall()\n",
        "emp = pd.DataFrame(row)\n",
        "emp.index = list(emp[0])\n",
        "emp.plot(kind='bar', color='blue')"
      ],
      "execution_count": null,
      "outputs": []
    },
    {
      "cell_type": "markdown",
      "metadata": {
        "id": "hQdK_ojepjwU"
      },
      "source": [
        "**문제 451. emp 테이블 전체를 출력하는데 컬럼명이 붙어서 출력되게 하시오**"
      ]
    },
    {
      "cell_type": "code",
      "metadata": {
        "id": "lNaLs18OpnzP"
      },
      "source": [
        "import cx_Oracle\n",
        "import pandas as pd\n",
        "\n",
        "dsn = cx_Oracle.makedsn(\"localhost\", 1521, 'xe') # 오라클 주소를 기입 \n",
        "db = cx_Oracle.connect('scott', 'tiger', dsn)  # 오라클 접속 유저 정보\n",
        "cursor=db.cursor()  # 결과데이터를 담을 메모리 이름을 cursor로 선언\n",
        "cursor.execute(\"\"\" select * from emp \"\"\") # 작성한 쿼리문의 결과가 cursor 메모리에 담긴다.\n",
        "\n",
        "dsn = cx_Oracle.makedsn(\"localhost\", 1521, \"xe\")\n",
        "db = cx_Oracle.connect(\"scott\", \"tiger\", dsn)\n",
        "cursor = db.cursor()\n",
        "cursor.execute(\"\"\" select *\n",
        "               from emp \"\"\")\n",
        "               \n",
        "row = cursor.fetchall()\n",
        "emp = pd.DataFrame(row)\n",
        "colname = cursor.description   # 컬럼명을 가져온다\n",
        "col = []\n",
        "for i in colname:\n",
        "    col.append( i[0].lower() )\n",
        "print(col)"
      ],
      "execution_count": null,
      "outputs": []
    },
    {
      "cell_type": "markdown",
      "metadata": {
        "id": "HjQ5g61Rrr3f"
      },
      "source": [
        "**문제 452. 위의 col 리스트에 담긴 컬럼명을 위의 데이터에 매핑시켜보시오**"
      ]
    },
    {
      "cell_type": "code",
      "metadata": {
        "id": "CfWCk3RnrzkD"
      },
      "source": [
        "import cx_Oracle\n",
        "import pandas as pd\n",
        "\n",
        "dsn = cx_Oracle.makedsn(\"localhost\", 1521, 'xe') # 오라클 주소를 기입 \n",
        "db = cx_Oracle.connect('scott', 'tiger', dsn)  # 오라클 접속 유저 정보\n",
        "cursor=db.cursor()  # 결과데이터를 담을 메모리 이름을 cursor로 선언\n",
        "cursor.execute(\"\"\" select * from emp \"\"\") # 작성한 쿼리문의 결과가 cursor 메모리에 담긴다.\n",
        "\n",
        "dsn = cx_Oracle.makedsn(\"localhost\", 1521, \"xe\")\n",
        "db = cx_Oracle.connect(\"scott\", \"tiger\", dsn)\n",
        "cursor = db.cursor()\n",
        "cursor.execute(\"\"\" select *\n",
        "               from emp \"\"\")\n",
        "               \n",
        "row = cursor.fetchall()\n",
        "emp = pd.DataFrame(row)\n",
        "colname = cursor.description   # 컬럼명을 가져온다\n",
        "\n",
        "col = []\n",
        "for i in colname:\n",
        "    col.append( i[0].lower() )\n",
        "\n",
        "emp = pd.DataFrame(list(row), columns=col)\n",
        "print(emp)"
      ],
      "execution_count": null,
      "outputs": []
    },
    {
      "cell_type": "markdown",
      "metadata": {
        "id": "bsXvCjasri79"
      },
      "source": [
        "**문제 453. 위의 컬럼명을 이용해서 판다스 문법으로 이름과 월급을 출력하시오**"
      ]
    },
    {
      "cell_type": "code",
      "metadata": {
        "id": "HqK53nMRrmAb"
      },
      "source": [
        "import cx_Oracle\n",
        "import pandas as pd\n",
        "\n",
        "dsn = cx_Oracle.makedsn(\"localhost\", 1521, 'xe') # 오라클 주소를 기입 \n",
        "db = cx_Oracle.connect('scott', 'tiger', dsn)  # 오라클 접속 유저 정보\n",
        "cursor=db.cursor()  # 결과데이터를 담을 메모리 이름을 cursor로 선언\n",
        "cursor.execute(\"\"\" select * from emp \"\"\") # 작성한 쿼리문의 결과가 cursor 메모리에 담긴다.\n",
        "\n",
        "dsn = cx_Oracle.makedsn(\"localhost\", 1521, \"xe\")\n",
        "db = cx_Oracle.connect(\"scott\", \"tiger\", dsn)\n",
        "cursor = db.cursor()\n",
        "cursor.execute(\"\"\" select *\n",
        "               from emp \"\"\")\n",
        "               \n",
        "row = cursor.fetchall()\n",
        "emp = pd.DataFrame(row)\n",
        "colname = cursor.description   # 컬럼명을 가져온다\n",
        "\n",
        "col = []\n",
        "for i in colname:\n",
        "    col.append( i[0].lower() )\n",
        "\n",
        "emp = pd.DataFrame(list(row), columns=col)\n",
        "print( emp[['ename', 'sal']] )"
      ],
      "execution_count": null,
      "outputs": []
    },
    {
      "cell_type": "markdown",
      "metadata": {
        "id": "_zdapjPgtJD9"
      },
      "source": [
        "**문제 454. 월급이 3000 이상인 사원들의 이름과 월급을 출력하시오***"
      ]
    },
    {
      "cell_type": "code",
      "metadata": {
        "id": "lUzgI-8WtXej"
      },
      "source": [
        "import cx_Oracle\n",
        "import pandas as pd\n",
        "\n",
        "dsn = cx_Oracle.makedsn(\"localhost\", 1521, 'xe') # 오라클 주소를 기입 \n",
        "db = cx_Oracle.connect('scott', 'tiger', dsn)  # 오라클 접속 유저 정보\n",
        "cursor=db.cursor()  # 결과데이터를 담을 메모리 이름을 cursor로 선언\n",
        "cursor.execute(\"\"\" select * from emp \"\"\") # 작성한 쿼리문의 결과가 cursor 메모리에 담긴다.\n",
        "\n",
        "dsn = cx_Oracle.makedsn(\"localhost\", 1521, \"xe\")\n",
        "db = cx_Oracle.connect(\"scott\", \"tiger\", dsn)\n",
        "cursor = db.cursor()\n",
        "cursor.execute(\"\"\" select *\n",
        "               from emp \"\"\")\n",
        "               \n",
        "row = cursor.fetchall()\n",
        "emp = pd.DataFrame(row)\n",
        "colname = cursor.description   # 컬럼명을 가져온다\n",
        "\n",
        "col = []\n",
        "for i in colname:\n",
        "    col.append( i[0].lower() )\n",
        "\n",
        "emp = pd.DataFrame(list(row), columns=col)\n",
        "print( emp[[ 'ename', 'sal' ]][ emp['sal'] >=3000 ] )"
      ],
      "execution_count": null,
      "outputs": []
    },
    {
      "cell_type": "markdown",
      "metadata": {
        "id": "x-8iDmh8uInZ"
      },
      "source": [
        "**문제 455.부서위치별 이름을 출력하시오**"
      ]
    },
    {
      "cell_type": "code",
      "metadata": {
        "id": "UT4xT_8GuJl_"
      },
      "source": [
        "import cx_Oracle\n",
        "import pandas as pd\n",
        "\n",
        "dsn = cx_Oracle.makedsn(\"localhost\", 1521, 'xe') # 오라클 주소를 기입 \n",
        "db = cx_Oracle.connect('scott', 'tiger', dsn)  # 오라클 접속 유저 정보\n",
        "cursor=db.cursor()  # 결과데이터를 담을 메모리 이름을 cursor로 선언\n",
        "cursor.execute(\"\"\" select * from emp \"\"\") # 작성한 쿼리문의 결과가 cursor 메모리에 담긴다.\n",
        "\n",
        "dsn = cx_Oracle.makedsn(\"localhost\", 1521, \"xe\")\n",
        "db = cx_Oracle.connect(\"scott\", \"tiger\", dsn)\n",
        "cursor = db.cursor()\n",
        "cursor.execute(\"\"\" select e.ename, d.loc\n",
        "               from emp e, dept d\n",
        "               where e.deptno = d.deptno \"\"\")\n",
        "               \n",
        "row = cursor.fetchall()\n",
        "emp = pd.DataFrame(row)\n",
        "print(emp)"
      ],
      "execution_count": null,
      "outputs": []
    },
    {
      "cell_type": "markdown",
      "metadata": {
        "id": "_ZmXoGbMuOSh"
      },
      "source": [
        "**문제 456. 부서위치, 부서위치별 토탈월급을 출력하시오**"
      ]
    },
    {
      "cell_type": "code",
      "metadata": {
        "id": "aVLE7Yz_uNpb"
      },
      "source": [
        "import cx_Oracle\n",
        "import pandas as pd\n",
        "\n",
        "dsn = cx_Oracle.makedsn(\"localhost\", 1521, 'xe') # 오라클 주소를 기입 \n",
        "db = cx_Oracle.connect('scott', 'tiger', dsn)  # 오라클 접속 유저 정보\n",
        "cursor=db.cursor()  # 결과데이터를 담을 메모리 이름을 cursor로 선언\n",
        "cursor.execute(\"\"\" select * from emp \"\"\") # 작성한 쿼리문의 결과가 cursor 메모리에 담긴다.\n",
        "\n",
        "dsn = cx_Oracle.makedsn(\"localhost\", 1521, \"xe\")\n",
        "db = cx_Oracle.connect(\"scott\", \"tiger\", dsn)\n",
        "cursor = db.cursor()\n",
        "cursor.execute(\"\"\" select d.loc, sum( e.sal )\n",
        "               from emp e, dept d\n",
        "               where e.deptno = d.deptno\n",
        "               group by d.loc\"\"\")\n",
        "               \n",
        "row = cursor.fetchall()\n",
        "emp = pd.DataFrame(row)\n",
        "print(emp)"
      ],
      "execution_count": null,
      "outputs": []
    },
    {
      "cell_type": "markdown",
      "metadata": {
        "id": "OVqAAAb8uhgf"
      },
      "source": [
        "**문제 457. 위의 결과를 막대그래프로 시각화 하시오**"
      ]
    },
    {
      "cell_type": "code",
      "metadata": {
        "id": "j9iiT5Hnuwys"
      },
      "source": [
        "import cx_Oracle\n",
        "import pandas as pd\n",
        "\n",
        "dsn = cx_Oracle.makedsn(\"localhost\", 1521, 'xe') # 오라클 주소를 기입 \n",
        "db = cx_Oracle.connect('scott', 'tiger', dsn)  # 오라클 접속 유저 정보\n",
        "cursor=db.cursor()  # 결과데이터를 담을 메모리 이름을 cursor로 선언\n",
        "cursor.execute(\"\"\" select * from emp \"\"\") # 작성한 쿼리문의 결과가 cursor 메모리에 담긴다.\n",
        "\n",
        "dsn = cx_Oracle.makedsn(\"localhost\", 1521, \"xe\")\n",
        "db = cx_Oracle.connect(\"scott\", \"tiger\", dsn)\n",
        "cursor = db.cursor()\n",
        "cursor.execute(\"\"\" select d.loc, sum( e.sal )\n",
        "               from emp e, dept d\n",
        "               where e.deptno = d.deptno\n",
        "               group by d.loc\"\"\")\n",
        "               \n",
        "row = cursor.fetchall()\n",
        "emp = pd.DataFrame(row)\n",
        "emp.index = list( emp[0] )\n",
        "emp.plot( kind = 'bar', color = 'black' )"
      ],
      "execution_count": null,
      "outputs": []
    },
    {
      "cell_type": "markdown",
      "metadata": {
        "id": "x4FMfsYhvl7R"
      },
      "source": [
        "#149. 파이썬과 mySQL 연동\n",
        "\n",
        "- 현업에서는 오라클도 많이 쓰지만 mySQL도 많이 사용함\n",
        "- 오라클은 가격이 많이 나가서 중요한 데이터(Business data) 오라클에 저장하고 \n",
        "- 상대적으로 덜 중요한 데이터는 mySQL에 저장함\n",
        "\n",
        "- MySQL을 실행하고 database를 실행하고 생성하는 방법    \n",
        "\n",
        "        Enter password: **** <--- oracle\n",
        "        mysql> reate database orcl;\n",
        "        mysql> use orcl;\n",
        "    \n",
        "- mySQL 에서 emp 테이블 생성하는 방법"
      ]
    },
    {
      "cell_type": "markdown",
      "metadata": {
        "id": "Gycu_tNK373G"
      },
      "source": [
        "**문제 458. 월급이 3000 이상인 사원들의 이름과 월급을 출력하시오**\n",
        "~~~\n",
        "mysql>\n",
        "select ename, sal\n",
        "    from emp\n",
        "    where sal >= 3000;\n",
        "~~~"
      ]
    },
    {
      "cell_type": "markdown",
      "metadata": {
        "id": "2oa8_UNL4Tn5"
      },
      "source": [
        "**문제 459. 직업이 SALESMAN인 사원들의 이름과 월급과 직업을 출력하는데 월급이 높은 사원부터 출력하시오**\n",
        "~~~\n",
        "mysql>\n",
        "select ename, sal, job\n",
        "    from emp\n",
        "    where job ='SALESMAN'\n",
        "    order by sal desc;\n",
        "~~~"
      ]
    },
    {
      "cell_type": "markdown",
      "metadata": {
        "id": "6bEFcqH043x8"
      },
      "source": [
        "**문제 460. 이름과 부서위치를 출력하시오**\n",
        "~~~\n",
        "mysql>\n",
        "select e.ename, d.loc\n",
        "    from emp e, dept d\n",
        "    where e.deptno = d.deptno;\n",
        "~~~"
      ]
    },
    {
      "cell_type": "markdown",
      "metadata": {
        "id": "PN48Mn3v5RBZ"
      },
      "source": [
        "**문제 461. JONES 보다 더 많은 월급을 받는 사원들의 이름과 월급을 출력하시오 (서브쿼리문)**\n",
        "\n",
        "~~~\n",
        "mysql>\n",
        "select ename, sal\n",
        "    from emp\n",
        "    where sal > ( select sal\n",
        "                    from emp\n",
        "                    where ename = 'JONES' );\n",
        "~~~"
      ]
    },
    {
      "cell_type": "markdown",
      "metadata": {
        "id": "tZqcZvFV5xVH"
      },
      "source": [
        "**문제 462. 이름, 월급, 순위를 출력하시오 ( 순위는 월급이 높은 순으로 순위를 부여하세요)**\n",
        "~~~\n",
        "mysql>\n",
        "select ename, sal, rank() over(order by sal desc) 순위\n",
        "    from emp;\n",
        "~~~"
      ]
    },
    {
      "cell_type": "markdown",
      "metadata": {
        "id": "5VHXlFxc6De7"
      },
      "source": [
        "# Oracle과 MySQL 함수 비교\n",
        "\n",
        "|Oracle|MySQL|\n",
        "|:--:|:--:|\n",
        "|nvl|ifnull|\n",
        "|sysdate|sysdate()|\n",
        "|months_between|period_add|\n",
        "|decode|if|\n",
        "|rollup|with rollup|\n",
        "|listagg|group_concat|\n"
      ]
    },
    {
      "cell_type": "markdown",
      "metadata": {
        "id": "BL4h_xTW6yNK"
      },
      "source": [
        "**문제 463. 이름, 커미션을 출력하는데 커미션이 null인 사람들은 0으로 출력하시오**\n",
        "~~~\n",
        "mysql>\n",
        "select ename, ifnull(comm, 0)\n",
        "    from emp;\n",
        "~~~"
      ]
    },
    {
      "cell_type": "markdown",
      "metadata": {
        "id": "GU0lREz_7Cw4"
      },
      "source": [
        "**문제 464. 오늘 날짜를 출력하시오!**\n",
        "~~~\n",
        "mysql>\n",
        "select sysdate\n",
        ";\n",
        "~~~\n",
        "\n",
        "- MySQL 은 오라클과 다르게 dual이 존재하지 않음"
      ]
    },
    {
      "cell_type": "markdown",
      "metadata": {
        "id": "cc8u1taN7Z57"
      },
      "source": [
        "**문제 465. 부서번호, 부서번호별 토탈월급을 출력하시오**\n",
        "~~~\n",
        "mysql>\n",
        "select deptno, sum( sal )\n",
        "    from emp\n",
        "    group by deptno;\n",
        "~~~\n"
      ]
    },
    {
      "cell_type": "markdown",
      "metadata": {
        "id": "n4MJbm_8777X"
      },
      "source": [
        "**문제 466. 위의 결과를 다시 출력하는데 맨 아래에 전체 토탈 월급이 출력되게 하시오**\n",
        "\n",
        "~~~\n",
        "MySQL>\n",
        "select deptno, sum( sal )\n",
        "    from emp\n",
        "    group by deptno with rollup;\n",
        "\n",
        "Oracle>\n",
        "select deptno, sum( sal )\n",
        "    from emp\n",
        "    group by rollup( deptno );\n",
        "~~~\n"
      ]
    },
    {
      "cell_type": "markdown",
      "metadata": {
        "id": "CPHkJJyq8mCz"
      },
      "source": [
        "**문제 467. < 매우매우 중요함!!> scott의 월급을 0로 변경하시오**\n",
        "~~~\n",
        "MySQL>\n",
        "update emp\n",
        "set sal = 0\n",
        "where ename = 'SCOTT';\n",
        "\n",
        "rollback;\n",
        "~~~ \n",
        "- MySQL은 오라클과는 다르게 기본 자동 커밋이 활성화 되어 있다.\n",
        "- 자동 commit 되어 버려 rollback을 할 수 없음 => MySQL 사용자들이 많이 하는 실수 중 하나!"
      ]
    },
    {
      "cell_type": "markdown",
      "metadata": {
        "id": "5YMRV4Ez-F80"
      },
      "source": [
        "**문제 468. 자동 commit이 활성화 되어져 있는지 확인하시오**\n",
        "~~~\n",
        "mysql>\n",
        "select @@autocommit;\n",
        "~~~\n",
        "\n",
        "> 숫자 1이면 autocommit이 켜져 있는 것\n"
      ]
    },
    {
      "cell_type": "markdown",
      "metadata": {
        "id": "lNUSF5zh-dsN"
      },
      "source": [
        "**문제 469. 자동 커밋 기능을 쓰시오**\n",
        "~~~\n",
        "mysql>\n",
        "set autocommit = FALSE;\n",
        "\n",
        "select @@autocommit;\n",
        "~~~\n",
        "> 숫자가 0이면 자동 커밋 기능이 비활성화 된 것임"
      ]
    },
    {
      "cell_type": "markdown",
      "metadata": {
        "id": "7Wrzp6YZ-vui"
      },
      "source": [
        "**문제 470. KING의 월급을 0로 변경하시오**\n",
        "\n",
        "~~~\n",
        "mysql>\n",
        "update emp\n",
        "set sal = 0\n",
        "where ename = 'KING';\n",
        "~~~\n",
        "- MySQL 을 켰으면 제일 먼저 확인해야 하는 것이 자동 커밋이 활성화 되었는지 확인하는 게 매우 아주 중요!"
      ]
    },
    {
      "cell_type": "markdown",
      "metadata": {
        "id": "KC_lV12Z-0KY"
      },
      "source": [
        "**문제 471. 오라클의 listagg 함수와 같은 기능인 group_concat을 이용해서 부서번호, 부서번호별로 속한 사원들의 이름을 가로로 출력하시오**\n",
        "~~~\n",
        "mysql>\n",
        "select deptno, group_concat(ename seperator ',')\n",
        "    from emp\n",
        "    group by deptno;\n",
        "~~~"
      ]
    },
    {
      "cell_type": "markdown",
      "metadata": {
        "id": "cPoBuJ7XEbtU"
      },
      "source": [
        "**문제 472. MySQL과 파이썬을 연동해서 MySQL 의 emp 테이블을 파이썬에서 출력하시오**  \n",
        "먼저 아나콘다 프롬프트 창을 열고 pymysql을 설치하시오  \n",
        "\n",
        "    conda install pymysql"
      ]
    },
    {
      "cell_type": "code",
      "metadata": {
        "id": "mWhYJ94aFOE0"
      },
      "source": [
        "import pymysql,pandas as pd\n",
        "\n",
        "conn = pymysql.connect(host=\"localhost\", user=\"root\",password=\"oracle\", db=\"orcl\",charset=\"utf8\")\n",
        "\n",
        "curs = conn.cursor()\n",
        "sql = \"select * from emp\"\n",
        "curs.execute(sql)\n",
        "rows = curs.fetchall()\n",
        "colname = curs.description\n",
        "col = []\n",
        "for i in colname:\n",
        "    col.append(i[0].upper())\n",
        "emp = pd.DataFrame(list(rows),columns=col)\n",
        "print(emp[['ENAME', 'SAL']] )"
      ],
      "execution_count": null,
      "outputs": []
    },
    {
      "cell_type": "markdown",
      "metadata": {
        "id": "HonAhmqWF6Yf"
      },
      "source": [
        "**문제 473. 직업, 직업별 토탈월급을 출력하시오**\n",
        "\n"
      ]
    },
    {
      "cell_type": "code",
      "metadata": {
        "id": "aK7t3I0RH1Qm"
      },
      "source": [
        "import pymysql,pandas as pd\n",
        "\n",
        "conn = pymysql.connect(host=\"localhost\", user=\"root\",password=\"oracle\", db=\"orcl\",charset=\"utf8\")\n",
        "\n",
        "curs = conn.cursor()\n",
        "sql = \"select job, sum( sal ) from emp group by job\"\n",
        "curs.execute(sql)\n",
        "rows = curs.fetchall()\n",
        "colname = curs.description\n",
        "col = []\n",
        "for i in colname:\n",
        "    col.append(i[0].upper())\n",
        "emp = pd.DataFrame(list(rows),columns=col)\n",
        "print(emp[['ENAME', 'SAL']] )"
      ],
      "execution_count": null,
      "outputs": []
    },
    {
      "cell_type": "markdown",
      "metadata": {
        "id": "2zyvEx5hH3Hz"
      },
      "source": [
        "**문제 474. 위의 결과를 막대그래프로 시각화 하시오!**"
      ]
    },
    {
      "cell_type": "code",
      "metadata": {
        "id": "cQQ8U0kAH6aK"
      },
      "source": [
        "import pymysql,pandas as pd\n",
        "\n",
        "conn = pymysql.connect(host=\"localhost\", user=\"root\",password=\"oracle\", db=\"orcl\",charset=\"utf8\")\n",
        "\n",
        "curs = conn.cursor()\n",
        "sql = \"select job, sum( sal ) from emp group by job\"\n",
        "curs.execute(sql)\n",
        "rows = curs.fetchall()\n",
        "colname = curs.description\n",
        "col = []\n",
        "for i in colname:\n",
        "    col.append(i[0].upper())\n",
        "emp = pd.DataFrame(list(rows),columns=col)\n",
        "\n",
        "emp = pd.DataFrame( rows )\n",
        "\n",
        "emp.index = emp[0]\n",
        "emp.plot( kind = 'bar' )"
      ],
      "execution_count": null,
      "outputs": []
    },
    {
      "cell_type": "markdown",
      "metadata": {
        "id": "CPb6io7uLrYu"
      },
      "source": [
        "#150. 이미지를 숫자로 변환하는 방법 ( 폐사진 )\n",
        "- 딥러닝 수업을 할 때 이미지를 인공 신경망에 넣어서 학습을 시키는데 인공 신경망에 사진을 넣을 때 숫자로 변환해서 넣어야 함"
      ]
    },
    {
      "cell_type": "markdown",
      "metadata": {
        "id": "qtj5HHl9Q8PZ"
      },
      "source": [
        "**문제 475. 오라클과 파이썬을 연동하여 아래의 사원들을 검색하시오**  \n",
        "이름과 월급과 부서번호와 자기가 속한 부서번호의 평균월급을 출력하는데 자신의 월급이 자기가 속한 부서번호의 평균월급보다 더 큰 사원들만 출력하시오!"
      ]
    },
    {
      "cell_type": "code",
      "metadata": {
        "id": "P6QeMq9vWMf2"
      },
      "source": [
        "\n",
        "import cx_Oracle\n",
        "import pandas as pd\n",
        "\n",
        "dsn = cx_Oracle.makedsn(\"localhost\", 1521, 'xe') # 오라클 주소를 기입 \n",
        "db = cx_Oracle.connect('scott', 'tiger', dsn)  # 오라클 접속 유저 정보\n",
        "cursor=db.cursor()  # 결과데이터를 담을 메모리 이름을 cursor로 선언\n",
        "cursor.execute(\"\"\" select * from emp \"\"\") # 작성한 쿼리문의 결과가 cursor 메모리에 담긴다.\n",
        "\n",
        "dsn = cx_Oracle.makedsn(\"localhost\", 1521, \"xe\")\n",
        "db = cx_Oracle.connect(\"scott\", \"tiger\", dsn)\n",
        "cursor = db.cursor()\n",
        "cursor.execute(\"\"\" select e.ename, e.sal, e.deptno, z.ag\n",
        "               from emp e, ( select deptno, avg( sal ) as ag\n",
        "                               from emp\n",
        "                               group by deptno) z\n",
        "               where e.deptno = z.deptno and z.ag < e.sal\n",
        "               \"\"\")\n",
        "               \n",
        "row = cursor.fetchall()\n",
        "emp = pd.DataFrame(row)\n",
        "print( emp )\n",
        "\n",
        " \n",
        "저작자 표시컨텐츠변경비영리\n"
      ],
      "execution_count": null,
      "outputs": []
    }
  ]
}