{
  "nbformat": 4,
  "nbformat_minor": 0,
  "metadata": {
    "colab": {
      "name": "review.ipynb",
      "provenance": [],
      "authorship_tag": "ABX9TyNgZ84h9TGxLHNrrP7SjW2A",
      "include_colab_link": true
    },
    "kernelspec": {
      "name": "python3",
      "display_name": "Python 3"
    }
  },
  "cells": [
    {
      "cell_type": "markdown",
      "metadata": {
        "id": "view-in-github",
        "colab_type": "text"
      },
      "source": [
        "<a href=\"https://colab.research.google.com/github/unknown-jun/Basic_of_Python/blob/master/review.ipynb\" target=\"_parent\"><img src=\"https://colab.research.google.com/assets/colab-badge.svg\" alt=\"Open In Colab\"/></a>"
      ]
    },
    {
      "cell_type": "code",
      "metadata": {
        "colab": {
          "resources": {
            "http://localhost:8080/nbextensions/google.colab/files.js": {
              "data": "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",
              "ok": true,
              "headers": [
                [
                  "content-type",
                  "application/javascript"
                ]
              ],
              "status": 200,
              "status_text": ""
            }
          },
          "base_uri": "https://localhost:8080/",
          "height": 72
        },
        "id": "JlJ4AuAWDIKG",
        "outputId": "59c47794-5628-4f7c-c429-d1bee689656f"
      },
      "source": [
        "from google.colab import files\n",
        "emp = files.upload()"
      ],
      "execution_count": null,
      "outputs": [
        {
          "output_type": "display_data",
          "data": {
            "text/html": [
              "\n",
              "     <input type=\"file\" id=\"files-f814ebc5-768c-4818-8a14-03fca04bf8e8\" name=\"files[]\" multiple disabled\n",
              "        style=\"border:none\" />\n",
              "     <output id=\"result-f814ebc5-768c-4818-8a14-03fca04bf8e8\">\n",
              "      Upload widget is only available when the cell has been executed in the\n",
              "      current browser session. Please rerun this cell to enable.\n",
              "      </output>\n",
              "      <script src=\"/nbextensions/google.colab/files.js\"></script> "
            ],
            "text/plain": [
              "<IPython.core.display.HTML object>"
            ]
          },
          "metadata": {
            "tags": []
          }
        },
        {
          "output_type": "stream",
          "text": [
            "Saving emp3.csv to emp3.csv\n"
          ],
          "name": "stdout"
        }
      ]
    },
    {
      "cell_type": "code",
      "metadata": {
        "id": "SwzNt4dE6eHQ"
      },
      "source": [
        "import pandas as pd\n",
        "emp = pd.read_csv(\"emp3.csv\")"
      ],
      "execution_count": null,
      "outputs": []
    },
    {
      "cell_type": "markdown",
      "metadata": {
        "id": "xAWj8BCqD49H"
      },
      "source": [
        "문제 86. 이름이 SCOTT인 사원의 이름과 월급을 출력하시오"
      ]
    },
    {
      "cell_type": "code",
      "metadata": {
        "colab": {
          "base_uri": "https://localhost:8080/",
          "height": 80
        },
        "id": "_iM44CwnD3tA",
        "outputId": "1c54f61e-437f-42d5-be3a-4997e3712132"
      },
      "source": [
        "emp[['ename','sal']] [emp['ename']=='SCOTT']"
      ],
      "execution_count": null,
      "outputs": [
        {
          "output_type": "execute_result",
          "data": {
            "text/html": [
              "<div>\n",
              "<style scoped>\n",
              "    .dataframe tbody tr th:only-of-type {\n",
              "        vertical-align: middle;\n",
              "    }\n",
              "\n",
              "    .dataframe tbody tr th {\n",
              "        vertical-align: top;\n",
              "    }\n",
              "\n",
              "    .dataframe thead th {\n",
              "        text-align: right;\n",
              "    }\n",
              "</style>\n",
              "<table border=\"1\" class=\"dataframe\">\n",
              "  <thead>\n",
              "    <tr style=\"text-align: right;\">\n",
              "      <th></th>\n",
              "      <th>ename</th>\n",
              "      <th>sal</th>\n",
              "    </tr>\n",
              "  </thead>\n",
              "  <tbody>\n",
              "    <tr>\n",
              "      <th>11</th>\n",
              "      <td>SCOTT</td>\n",
              "      <td>3000</td>\n",
              "    </tr>\n",
              "  </tbody>\n",
              "</table>\n",
              "</div>"
            ],
            "text/plain": [
              "    ename   sal\n",
              "11  SCOTT  3000"
            ]
          },
          "metadata": {
            "tags": []
          },
          "execution_count": 3
        }
      ]
    },
    {
      "cell_type": "markdown",
      "metadata": {
        "id": "b3Oi1pb8GZX-"
      },
      "source": [
        "문제 89. 판다스를 이용해서 emp3.csv에서 이름을 출력하는데 이름의 첫번째 철자만 출력하시요"
      ]
    },
    {
      "cell_type": "code",
      "metadata": {
        "colab": {
          "base_uri": "https://localhost:8080/"
        },
        "id": "ZQl7rf6IGeIn",
        "outputId": "b8e8d18f-edd9-4961-9c9b-3594f15c3111"
      },
      "source": [
        "for i in emp['ename']:\n",
        "    print( i[0] )"
      ],
      "execution_count": null,
      "outputs": [
        {
          "output_type": "stream",
          "text": [
            "K\n",
            "B\n",
            "C\n",
            "J\n",
            "M\n",
            "A\n",
            "T\n",
            "J\n",
            "W\n",
            "F\n",
            "S\n",
            "S\n",
            "A\n",
            "M\n"
          ],
          "name": "stdout"
        }
      ]
    },
    {
      "cell_type": "markdown",
      "metadata": {
        "id": "5pom0WCQGnNx"
      },
      "source": [
        "문제 90. 판다스를 이용해서 emp3.csv를 가져와서 이름의 끝글자를 출력하시오"
      ]
    },
    {
      "cell_type": "code",
      "metadata": {
        "colab": {
          "base_uri": "https://localhost:8080/"
        },
        "id": "ZSIv0PVVGyOL",
        "outputId": "493f0640-022f-451a-c795-7a3c3154f177"
      },
      "source": [
        "for i in emp['ename']:\n",
        "    print( i[-1] )"
      ],
      "execution_count": null,
      "outputs": [
        {
          "output_type": "stream",
          "text": [
            "G\n",
            "E\n",
            "K\n",
            "S\n",
            "N\n",
            "N\n",
            "R\n",
            "S\n",
            "D\n",
            "D\n",
            "H\n",
            "T\n",
            "S\n",
            "R\n"
          ],
          "name": "stdout"
        }
      ]
    },
    {
      "cell_type": "markdown",
      "metadata": {
        "id": "DmdGzz8NG4sC"
      },
      "source": [
        "문제 91. 위의 결과에서 앞에 이름도 같이 출력하시오"
      ]
    },
    {
      "cell_type": "code",
      "metadata": {
        "colab": {
          "base_uri": "https://localhost:8080/"
        },
        "id": "dj3_ZSJwG9ZY",
        "outputId": "a8f988e8-64dd-404a-ad5b-7939c16d1ca7"
      },
      "source": [
        "for i in emp[ 'ename' ]:\n",
        "    print( i, i[-1] )"
      ],
      "execution_count": null,
      "outputs": [
        {
          "output_type": "stream",
          "text": [
            "KING G\n",
            "BLAKE E\n",
            "CLARK K\n",
            "JONES S\n",
            "MARTIN N\n",
            "ALLEN N\n",
            "TURNER R\n",
            "JAMES S\n",
            "WARD D\n",
            "FORD D\n",
            "SMITH H\n",
            "SCOTT T\n",
            "ADAMS S\n",
            "MILLER R\n"
          ],
          "name": "stdout"
        }
      ]
    },
    {
      "cell_type": "markdown",
      "metadata": {
        "id": "AA2BlMHgHDiu"
      },
      "source": [
        "문제 92. 이름의 첫번째 철자가 s로 시작하는 사원들의 이름을 출력하시오"
      ]
    },
    {
      "cell_type": "code",
      "metadata": {
        "colab": {
          "base_uri": "https://localhost:8080/"
        },
        "id": "IHySMIMnHWpa",
        "outputId": "34d8ba69-7dca-429e-9675-c44622b35cf8"
      },
      "source": [
        "for i in emp['ename']:\n",
        "    if i[0] == 'S':\n",
        "        print(i)"
      ],
      "execution_count": null,
      "outputs": [
        {
          "output_type": "stream",
          "text": [
            "SMITH\n",
            "SCOTT\n"
          ],
          "name": "stdout"
        }
      ]
    },
    {
      "cell_type": "markdown",
      "metadata": {
        "id": "Gdbqs9OfHhcb"
      },
      "source": [
        "문제 93. 이름의 끝글자가 T로 끝나는 사원들의 이름을 출력하시오\n"
      ]
    },
    {
      "cell_type": "code",
      "metadata": {
        "colab": {
          "base_uri": "https://localhost:8080/"
        },
        "id": "VChybzyVHd4G",
        "outputId": "bc984774-24ee-4d59-a9b2-b2f326236847"
      },
      "source": [
        "for i in emp['ename']:\n",
        "    if i[-1] == 'T':\n",
        "        print( i )"
      ],
      "execution_count": null,
      "outputs": [
        {
          "output_type": "stream",
          "text": [
            "SCOTT\n"
          ],
          "name": "stdout"
        }
      ]
    },
    {
      "cell_type": "markdown",
      "metadata": {
        "id": "JJunFUKOHCIO"
      },
      "source": [
        "문제 94. 이름의 두 번째 철자가 M인 사원의 이름을 출력하시오"
      ]
    },
    {
      "cell_type": "code",
      "metadata": {
        "colab": {
          "base_uri": "https://localhost:8080/"
        },
        "id": "UIQnwsOLH3Zt",
        "outputId": "0382ff84-6b62-49e1-fc7b-ba97c957c8bf"
      },
      "source": [
        "for i in emp[ 'ename' ]:\n",
        "    if i[ 1 ] == 'M':\n",
        "        print( i )"
      ],
      "execution_count": null,
      "outputs": [
        {
          "output_type": "stream",
          "text": [
            "SMITH\n"
          ],
          "name": "stdout"
        }
      ]
    },
    {
      "cell_type": "markdown",
      "metadata": {
        "id": "ui52AdUTH_yD"
      },
      "source": [
        "문제 95. 아래의 SQL을 판다스로 구현하시오\n",
        "```\n",
        "> SQL\n",
        "select substr(ename, 1, 3)\n",
        "    from emp;\n",
        "```"
      ]
    },
    {
      "cell_type": "code",
      "metadata": {
        "colab": {
          "base_uri": "https://localhost:8080/"
        },
        "id": "nF-SlGKsKFJK",
        "outputId": "f7980663-46b8-45b7-e6d6-34db999b2468"
      },
      "source": [
        "for i in emp[ 'ename' ]:\n",
        "    print( i[0:3] )"
      ],
      "execution_count": null,
      "outputs": [
        {
          "output_type": "stream",
          "text": [
            "KIN\n",
            "BLA\n",
            "CLA\n",
            "JON\n",
            "MAR\n",
            "ALL\n",
            "TUR\n",
            "JAM\n",
            "WAR\n",
            "FOR\n",
            "SMI\n",
            "SCO\n",
            "ADA\n",
            "MIL\n"
          ],
          "name": "stdout"
        }
      ]
    },
    {
      "cell_type": "markdown",
      "metadata": {
        "id": "ChGmj8YNKYCJ"
      },
      "source": [
        "문제 96. 아래의 SQL을 판다스로 구현하시오\n",
        "```\n",
        "> SQL\n",
        "select substr(ename, -2, 2)\n",
        "    from emp;\n",
        "```"
      ]
    },
    {
      "cell_type": "code",
      "metadata": {
        "colab": {
          "base_uri": "https://localhost:8080/"
        },
        "id": "ZsYOH2P1KpFp",
        "outputId": "3a0bbccd-0da6-4272-a882-cb3228c2aaa9"
      },
      "source": [
        "for i in emp[ 'ename' ]:\n",
        "    print(i[-2:])"
      ],
      "execution_count": null,
      "outputs": [
        {
          "output_type": "stream",
          "text": [
            "NG\n",
            "KE\n",
            "RK\n",
            "ES\n",
            "IN\n",
            "EN\n",
            "ER\n",
            "ES\n",
            "RD\n",
            "RD\n",
            "TH\n",
            "TT\n",
            "MS\n",
            "ER\n"
          ],
          "name": "stdout"
        }
      ]
    },
    {
      "cell_type": "markdown",
      "metadata": {
        "id": "wQq70gBZLh2e"
      },
      "source": [
        "문제97. 아래의 SQL을 판다스로 구현하시오\n",
        "```\n",
        "> SQL\n",
        "select substr( ename, 2, 3)\n",
        "    from emp;\n",
        "```"
      ]
    },
    {
      "cell_type": "code",
      "metadata": {
        "colab": {
          "base_uri": "https://localhost:8080/"
        },
        "id": "KhSKYsQwLlkW",
        "outputId": "01fffceb-26f3-4e4c-8d85-6518d6b3db9d"
      },
      "source": [
        "for i in emp['ename']:\n",
        "    print( i[1:4] )"
      ],
      "execution_count": null,
      "outputs": [
        {
          "output_type": "stream",
          "text": [
            "ING\n",
            "LAK\n",
            "LAR\n",
            "ONE\n",
            "ART\n",
            "LLE\n",
            "URN\n",
            "AME\n",
            "ARD\n",
            "ORD\n",
            "MIT\n",
            "COT\n",
            "DAM\n",
            "ILL\n"
          ],
          "name": "stdout"
        }
      ]
    },
    {
      "cell_type": "markdown",
      "metadata": {
        "id": "t5_3_kohLuh1"
      },
      "source": [
        "\n",
        "문제 99. 아래의 SQL을 판다스로 구현하시오\n",
        "```\n",
        "> SQL\n",
        "select ename||sal\n",
        "    from emp;\n",
        "```"
      ]
    },
    {
      "cell_type": "code",
      "metadata": {
        "colab": {
          "base_uri": "https://localhost:8080/"
        },
        "id": "JgFjUc6vL1kv",
        "outputId": "4a5eb728-7092-4781-8c9e-fd082c5b7a68"
      },
      "source": [
        "for i,k in zip( emp['ename'], emp['sal'] ): # 두개의 변수를 한번에 for loop를 실행할 때 zip을 사용한다.\n",
        "    print( i + str(k) )\n",
        "print('\\n')\n",
        "for i,k in zip( emp['ename'], emp['sal'] ):\n",
        "    print( i, k)"
      ],
      "execution_count": null,
      "outputs": [
        {
          "output_type": "stream",
          "text": [
            "KING5000\n",
            "BLAKE2850\n",
            "CLARK2450\n",
            "JONES2975\n",
            "MARTIN1250\n",
            "ALLEN1600\n",
            "TURNER1500\n",
            "JAMES950\n",
            "WARD1250\n",
            "FORD3000\n",
            "SMITH800\n",
            "SCOTT3000\n",
            "ADAMS1100\n",
            "MILLER1300\n",
            "\n",
            "\n",
            "KING 5000\n",
            "BLAKE 2850\n",
            "CLARK 2450\n",
            "JONES 2975\n",
            "MARTIN 1250\n",
            "ALLEN 1600\n",
            "TURNER 1500\n",
            "JAMES 950\n",
            "WARD 1250\n",
            "FORD 3000\n",
            "SMITH 800\n",
            "SCOTT 3000\n",
            "ADAMS 1100\n",
            "MILLER 1300\n"
          ],
          "name": "stdout"
        }
      ]
    },
    {
      "cell_type": "markdown",
      "metadata": {
        "id": "NyB9dOtTMTOa"
      },
      "source": [
        "문제 100. 주사위의 눈 6개를 100개 담은 리스트 dice100을 만드시오"
      ]
    },
    {
      "cell_type": "code",
      "metadata": {
        "id": "V8cuNx0ZMzDB"
      },
      "source": [
        "dice = [1,2,3,4,5,6]\n",
        "dice100 = dice *100\n",
        "print(dice100)"
      ],
      "execution_count": null,
      "outputs": []
    },
    {
      "cell_type": "markdown",
      "metadata": {
        "id": "d6OleYb-M8Mi"
      },
      "source": [
        "문제 101. 초등학생 키가 10개가 들어있는 아래의 tall 리스트의 요소 10개를 10000개로 증가시켜서 tall10000 리스트에 담고 출력하시오\n",
        "```\n",
        "tall = [129.3, 130.2, 132.5, 134.7, 136.3, 137.8, 138.1, 140.2, 142.3, 145.2 ]\n",
        "```"
      ]
    },
    {
      "cell_type": "code",
      "metadata": {
        "id": "nr0lqLx3M_C7"
      },
      "source": [
        "tall = [129.3, 130.2, 132.5, 134.7, 136.3, 137.8, 138.1, 140.2, 142.3, 145.2 ]\n",
        "tall_10000 = tall * 10000"
      ],
      "execution_count": null,
      "outputs": []
    },
    {
      "cell_type": "markdown",
      "metadata": {
        "id": "mN3PIkgxNKqZ"
      },
      "source": [
        "문제 102. 위의 모집단의 평균, 분산, 표준편차 값을 출력하시오"
      ]
    },
    {
      "cell_type": "code",
      "metadata": {
        "colab": {
          "base_uri": "https://localhost:8080/"
        },
        "id": "B8FyAbwZNOlf",
        "outputId": "c6e31e47-37ea-4e8a-a6cb-f6e3d3fb8325"
      },
      "source": [
        "import numpy as np\n",
        "\n",
        "print( np.mean( tall_10000 ) )\n",
        "print( np.var( tall_10000 ))\n",
        "print( np.std( tall_10000 ))"
      ],
      "execution_count": null,
      "outputs": [
        {
          "output_type": "stream",
          "text": [
            "136.66\n",
            "23.782399999999985\n",
            "4.876720209321013\n"
          ],
          "name": "stdout"
        }
      ]
    },
    {
      "cell_type": "markdown",
      "metadata": {
        "id": "xCfY9yEqNlq7"
      },
      "source": [
        "\n",
        "문제 103. 위의 모집단 tall10000에서 표본을 20개를 랜덤으로 추출하시오"
      ]
    },
    {
      "cell_type": "code",
      "metadata": {
        "colab": {
          "base_uri": "https://localhost:8080/"
        },
        "id": "Ee-jsaqINmcm",
        "outputId": "ebd7046b-ece8-458b-bc1b-4518658eea95"
      },
      "source": [
        "import random as rd\n",
        "\n",
        "sample = []\n",
        "\n",
        "for i in range(1, 21):\n",
        "    random_tall = rd.choice( tall_10000 )\n",
        "    sample.append(random_tall)\n",
        "    \n",
        "print(sample)"
      ],
      "execution_count": null,
      "outputs": [
        {
          "output_type": "stream",
          "text": [
            "[129.3, 134.7, 129.3, 137.8, 138.1, 136.3, 137.8, 136.3, 129.3, 145.2, 137.8, 134.7, 137.8, 136.3, 130.2, 142.3, 136.3, 140.2, 132.5, 137.8]\n"
          ],
          "name": "stdout"
        }
      ]
    },
    {
      "cell_type": "markdown",
      "metadata": {
        "id": "SdzR1GToOKew"
      },
      "source": [
        "\n",
        "문제 105. 위의 표본이 평균값을 출력하시오"
      ]
    },
    {
      "cell_type": "code",
      "metadata": {
        "colab": {
          "base_uri": "https://localhost:8080/"
        },
        "id": "EdUEy_fvOLBb",
        "outputId": "c979fbcc-295a-4ae5-ed54-819fb414b6f6"
      },
      "source": [
        "np.mean( sample )"
      ],
      "execution_count": null,
      "outputs": [
        {
          "output_type": "execute_result",
          "data": {
            "text/plain": [
              "136.0"
            ]
          },
          "metadata": {
            "tags": []
          },
          "execution_count": 18
        }
      ]
    },
    {
      "cell_type": "markdown",
      "metadata": {
        "id": "_y2zl8IFPHIV"
      },
      "source": [
        "문제 106. 아래의 SQL을 판다스로 구현하시오\n",
        "```\n",
        "> SQL\n",
        "select ename, length(ename)\n",
        "    from emp;\n",
        "```"
      ]
    },
    {
      "cell_type": "code",
      "metadata": {
        "colab": {
          "base_uri": "https://localhost:8080/"
        },
        "id": "9BXIi5j4PJuT",
        "outputId": "09c3b3dd-adc8-48be-f4db-a380d5cadc07"
      },
      "source": [
        "for i in emp['ename']:\n",
        "    print( i, len(i) )"
      ],
      "execution_count": null,
      "outputs": [
        {
          "output_type": "stream",
          "text": [
            "KING 4\n",
            "BLAKE 5\n",
            "CLARK 5\n",
            "JONES 5\n",
            "MARTIN 6\n",
            "ALLEN 5\n",
            "TURNER 6\n",
            "JAMES 5\n",
            "WARD 4\n",
            "FORD 4\n",
            "SMITH 5\n",
            "SCOTT 5\n",
            "ADAMS 5\n",
            "MILLER 6\n"
          ],
          "name": "stdout"
        }
      ]
    },
    {
      "cell_type": "markdown",
      "metadata": {
        "id": "_Hwkpt6xWFxQ"
      },
      "source": [
        "문제 107. 모평균이 30이고 모표준편차가 7인 모집단을 구성하시오"
      ]
    },
    {
      "cell_type": "code",
      "metadata": {
        "colab": {
          "base_uri": "https://localhost:8080/"
        },
        "id": "-HfqLdqqWL5X",
        "outputId": "782abd2f-50b8-4f8b-8187-e79ff9b60fc0"
      },
      "source": [
        "avg = 30\n",
        "std = 7\n",
        "N = 10000\n",
        "\n",
        "population = np.random.randn(N) * std + avg\n",
        "print( len( population ) )"
      ],
      "execution_count": null,
      "outputs": [
        {
          "output_type": "stream",
          "text": [
            "10000\n"
          ],
          "name": "stdout"
        }
      ]
    },
    {
      "cell_type": "markdown",
      "metadata": {
        "id": "5VpAbYMAWnRJ"
      },
      "source": [
        "\n",
        "문제 108. 위의 모집단의 모평균을 출력하시오!"
      ]
    },
    {
      "cell_type": "code",
      "metadata": {
        "colab": {
          "base_uri": "https://localhost:8080/"
        },
        "id": "BYWFy2VoWlyF",
        "outputId": "010b1fb4-daed-45eb-9de1-6c2e13d774ea"
      },
      "source": [
        "avg = 30\n",
        "std = 7\n",
        "N = 10000\n",
        "\n",
        "population = np.random.randn(N) * std + avg\n",
        "np.mean( population )"
      ],
      "execution_count": null,
      "outputs": [
        {
          "output_type": "execute_result",
          "data": {
            "text/plain": [
              "29.99444875872508"
            ]
          },
          "metadata": {
            "tags": []
          },
          "execution_count": 21
        }
      ]
    },
    {
      "cell_type": "markdown",
      "metadata": {
        "id": "TpdWYF1GW5At"
      },
      "source": [
        "문제 109. 아래의 SQL을 판다스로 구현하시오\n",
        "```\n",
        "> SQL\n",
        "select ename, job\n",
        "    from emp\n",
        "    where job in ('SALESMAN', 'ANALYST' );\n",
        "```"
      ]
    },
    {
      "cell_type": "code",
      "metadata": {
        "colab": {
          "base_uri": "https://localhost:8080/",
          "height": 337
        },
        "id": "jfFboP9TXW7t",
        "outputId": "ec8eb061-ae41-43ed-e41b-6d5ba70c7118"
      },
      "source": [
        "for i,e in zip( emp['ename'], emp['job'] ):\n",
        "    if e in ( 'SALESMAN', 'ANALYST' ):\n",
        "        print(i, e)\n",
        "\n",
        "emp[['ename', 'job']][ emp['job'].isin( ['SALESMAN', 'ANALYST'] ) ]"
      ],
      "execution_count": null,
      "outputs": [
        {
          "output_type": "stream",
          "text": [
            "MARTIN SALESMAN\n",
            "ALLEN SALESMAN\n",
            "TURNER SALESMAN\n",
            "WARD SALESMAN\n",
            "FORD ANALYST\n",
            "SCOTT ANALYST\n"
          ],
          "name": "stdout"
        },
        {
          "output_type": "execute_result",
          "data": {
            "text/html": [
              "<div>\n",
              "<style scoped>\n",
              "    .dataframe tbody tr th:only-of-type {\n",
              "        vertical-align: middle;\n",
              "    }\n",
              "\n",
              "    .dataframe tbody tr th {\n",
              "        vertical-align: top;\n",
              "    }\n",
              "\n",
              "    .dataframe thead th {\n",
              "        text-align: right;\n",
              "    }\n",
              "</style>\n",
              "<table border=\"1\" class=\"dataframe\">\n",
              "  <thead>\n",
              "    <tr style=\"text-align: right;\">\n",
              "      <th></th>\n",
              "      <th>ename</th>\n",
              "      <th>job</th>\n",
              "    </tr>\n",
              "  </thead>\n",
              "  <tbody>\n",
              "    <tr>\n",
              "      <th>4</th>\n",
              "      <td>MARTIN</td>\n",
              "      <td>SALESMAN</td>\n",
              "    </tr>\n",
              "    <tr>\n",
              "      <th>5</th>\n",
              "      <td>ALLEN</td>\n",
              "      <td>SALESMAN</td>\n",
              "    </tr>\n",
              "    <tr>\n",
              "      <th>6</th>\n",
              "      <td>TURNER</td>\n",
              "      <td>SALESMAN</td>\n",
              "    </tr>\n",
              "    <tr>\n",
              "      <th>8</th>\n",
              "      <td>WARD</td>\n",
              "      <td>SALESMAN</td>\n",
              "    </tr>\n",
              "    <tr>\n",
              "      <th>9</th>\n",
              "      <td>FORD</td>\n",
              "      <td>ANALYST</td>\n",
              "    </tr>\n",
              "    <tr>\n",
              "      <th>11</th>\n",
              "      <td>SCOTT</td>\n",
              "      <td>ANALYST</td>\n",
              "    </tr>\n",
              "  </tbody>\n",
              "</table>\n",
              "</div>"
            ],
            "text/plain": [
              "     ename       job\n",
              "4   MARTIN  SALESMAN\n",
              "5    ALLEN  SALESMAN\n",
              "6   TURNER  SALESMAN\n",
              "8     WARD  SALESMAN\n",
              "9     FORD   ANALYST\n",
              "11   SCOTT   ANALYST"
            ]
          },
          "metadata": {
            "tags": []
          },
          "execution_count": 22
        }
      ]
    },
    {
      "cell_type": "markdown",
      "metadata": {
        "id": "58eCiohsYVvl"
      },
      "source": [
        "문제 110. 아래의 SQL을 판다스로 구현하시오\n",
        "```\n",
        "> SQL\n",
        "select ename, job\n",
        "    from emp\n",
        "    where job not in ('SALESMAN', 'ANALYST');\n",
        "```"
      ]
    },
    {
      "cell_type": "code",
      "metadata": {
        "colab": {
          "base_uri": "https://localhost:8080/",
          "height": 297
        },
        "id": "xi5YZrMAYYgb",
        "outputId": "fa5477d9-19a0-47f9-ee2e-6fc3ceea6d92"
      },
      "source": [
        "emp[['ename', 'job']][~ emp['job'].isin(['SALESMAN', 'ANALYST'])]"
      ],
      "execution_count": null,
      "outputs": [
        {
          "output_type": "execute_result",
          "data": {
            "text/html": [
              "<div>\n",
              "<style scoped>\n",
              "    .dataframe tbody tr th:only-of-type {\n",
              "        vertical-align: middle;\n",
              "    }\n",
              "\n",
              "    .dataframe tbody tr th {\n",
              "        vertical-align: top;\n",
              "    }\n",
              "\n",
              "    .dataframe thead th {\n",
              "        text-align: right;\n",
              "    }\n",
              "</style>\n",
              "<table border=\"1\" class=\"dataframe\">\n",
              "  <thead>\n",
              "    <tr style=\"text-align: right;\">\n",
              "      <th></th>\n",
              "      <th>ename</th>\n",
              "      <th>job</th>\n",
              "    </tr>\n",
              "  </thead>\n",
              "  <tbody>\n",
              "    <tr>\n",
              "      <th>0</th>\n",
              "      <td>KING</td>\n",
              "      <td>PRESIDENT</td>\n",
              "    </tr>\n",
              "    <tr>\n",
              "      <th>1</th>\n",
              "      <td>BLAKE</td>\n",
              "      <td>MANAGER</td>\n",
              "    </tr>\n",
              "    <tr>\n",
              "      <th>2</th>\n",
              "      <td>CLARK</td>\n",
              "      <td>MANAGER</td>\n",
              "    </tr>\n",
              "    <tr>\n",
              "      <th>3</th>\n",
              "      <td>JONES</td>\n",
              "      <td>MANAGER</td>\n",
              "    </tr>\n",
              "    <tr>\n",
              "      <th>7</th>\n",
              "      <td>JAMES</td>\n",
              "      <td>CLERK</td>\n",
              "    </tr>\n",
              "    <tr>\n",
              "      <th>10</th>\n",
              "      <td>SMITH</td>\n",
              "      <td>CLERK</td>\n",
              "    </tr>\n",
              "    <tr>\n",
              "      <th>12</th>\n",
              "      <td>ADAMS</td>\n",
              "      <td>CLERK</td>\n",
              "    </tr>\n",
              "    <tr>\n",
              "      <th>13</th>\n",
              "      <td>MILLER</td>\n",
              "      <td>CLERK</td>\n",
              "    </tr>\n",
              "  </tbody>\n",
              "</table>\n",
              "</div>"
            ],
            "text/plain": [
              "     ename        job\n",
              "0     KING  PRESIDENT\n",
              "1    BLAKE    MANAGER\n",
              "2    CLARK    MANAGER\n",
              "3    JONES    MANAGER\n",
              "7    JAMES      CLERK\n",
              "10   SMITH      CLERK\n",
              "12   ADAMS      CLERK\n",
              "13  MILLER      CLERK"
            ]
          },
          "metadata": {
            "tags": []
          },
          "execution_count": 23
        }
      ]
    },
    {
      "cell_type": "markdown",
      "metadata": {
        "id": "VsPd2p-NZA2e"
      },
      "source": [
        "\n",
        "문제 112. 모평균이 30이고 모표준편차가 7인 모집단 1000000개의 모평균과 모분산과 모표준편차를 아래와 같이 출력하시오\n",
        "```\n",
        "\"모집단\"의 모평균은 136.66\n",
        "\"모집단\"의 모분산은 23.78239999999999\n",
        "\"모집단\"의 모표준편차는 4.876720209321014\n"
      ]
    },
    {
      "cell_type": "code",
      "metadata": {
        "colab": {
          "base_uri": "https://localhost:8080/"
        },
        "id": "K_Qt7ojyckMC",
        "outputId": "eed494ef-39c5-43ae-de54-d62bc82d80a1"
      },
      "source": [
        "N = 10000\n",
        "std = 7\n",
        "avg = 30\n",
        "\n",
        "population = np.random.randn(N) * std + avg\n",
        "print(f'\"모집단\"의 모평균은 {np.mean(population)}' )\n",
        "print(f'\"모집단\"의 모분산은 {np.var(population)}' )\n",
        "print(f'\"모집단\"의 모표준편차은 {np.std(population)}' )"
      ],
      "execution_count": null,
      "outputs": [
        {
          "output_type": "stream",
          "text": [
            "\"모집단\"의 모평균은 29.932710987435904\n",
            "\"모집단\"의 모분산은 48.44196201886415\n",
            "\"모집단\"의 모표준편차은 6.96002600705372\n"
          ],
          "name": "stdout"
        }
      ]
    },
    {
      "cell_type": "markdown",
      "metadata": {
        "id": "yG64_iqGdUJ1"
      },
      "source": [
        "\n",
        "문제 113. 모평균이 30이고 모표준편차가 7인 모집단(1000000개)에서 표본을 49개를 뽑으시오"
      ]
    },
    {
      "cell_type": "code",
      "metadata": {
        "id": "93jddaP_dROa"
      },
      "source": [
        "sample_list = []\n",
        "\n",
        "for i in range(49):\n",
        "    sample = rd.choice(population)\n",
        "    sample_list.append( sample )\n",
        "\n",
        "print( sample_list )\n",
        "np.random.choice( population , 49)"
      ],
      "execution_count": null,
      "outputs": []
    },
    {
      "cell_type": "markdown",
      "metadata": {
        "id": "0wRDC_QWd_jG"
      },
      "source": [
        "문제 114. 위에서 뽑은 49개의 평균값을 출력하시오"
      ]
    },
    {
      "cell_type": "code",
      "metadata": {
        "colab": {
          "base_uri": "https://localhost:8080/"
        },
        "id": "oZ4ces_7eCin",
        "outputId": "f934c2cf-fe49-41b1-e135-607fc6fdb305"
      },
      "source": [
        "print( np.mean(sample_list) )\n",
        "np.mean( np.random.choice( population, 49 ) )"
      ],
      "execution_count": null,
      "outputs": [
        {
          "output_type": "stream",
          "text": [
            "29.275787669775873\n"
          ],
          "name": "stdout"
        },
        {
          "output_type": "execute_result",
          "data": {
            "text/plain": [
              "29.88238062385161"
            ]
          },
          "metadata": {
            "tags": []
          },
          "execution_count": 26
        }
      ]
    },
    {
      "cell_type": "markdown",
      "metadata": {
        "id": "dWByyOUWed8U"
      },
      "source": [
        "\n",
        "문제 115. 위에서 출력한 표본이 평균값을 하나가 아니라 100개가 출력되게 하시오"
      ]
    },
    {
      "cell_type": "code",
      "metadata": {
        "id": "ZN6xW-pSeejJ"
      },
      "source": [
        "avg = 30\n",
        "std = 7\n",
        "N = 1000000\n",
        "\n",
        "population = np.random.randn(N) * std + avg\n",
        "for i in range(1, 101):\n",
        "    sample = np.random.choice(population, 49)\n",
        "    print(sample.mean())"
      ],
      "execution_count": null,
      "outputs": []
    },
    {
      "cell_type": "markdown",
      "metadata": {
        "id": "Ge3JBfi2e6OD"
      },
      "source": [
        "\n",
        "문제 116. 이번에는 100개를 출력하지 말고 비어있는 리스트a를 선언하고 a에 100개를 담으시오"
      ]
    },
    {
      "cell_type": "code",
      "metadata": {
        "id": "aTEFkP0he8eJ"
      },
      "source": [
        "avg = 30\n",
        "std = 7\n",
        "N = 10000\n",
        "\n",
        "population = np.random.randn(N) * std + avg\n",
        "sample_list = []\n",
        "\n",
        "for i in range(1, 101):\n",
        "    sample = np.random.choice(population, 49 )\n",
        "    sample_list.append( sample )\n",
        "\n",
        "sample_list"
      ],
      "execution_count": null,
      "outputs": []
    },
    {
      "cell_type": "markdown",
      "metadata": {
        "id": "eXKfFowNfvMb"
      },
      "source": [
        "문제 117. 위에서 구한 표본평균의 평균값과 표준편차를 아래와 같이 출력하시오\n",
        "```\n",
        "\"표본평균\" 의 평균값은 ***\n",
        "\"표본평균\" 의 표준편차는 ***\n"
      ]
    },
    {
      "cell_type": "code",
      "metadata": {
        "colab": {
          "base_uri": "https://localhost:8080/"
        },
        "id": "VLnCXsPcfxcn",
        "outputId": "c7db8c73-dea7-4978-f285-1bbd1e8b51a9"
      },
      "source": [
        "N=10000\n",
        "std = 7\n",
        "avg = 30\n",
        "\n",
        "population = np.random.randn(N) * std + avg\n",
        "sample_list = []\n",
        "\n",
        "for i in range(100):\n",
        "    sample_list.append( np.random.choice(population, 30).mean() )\n",
        "\n",
        "print(f'\"표본평균\"의 평균값은 {np.mean(sample_list)}')\n",
        "print(f'\"표본평균\"의 표준편차는 {np.std(sample_list)}')"
      ],
      "execution_count": null,
      "outputs": [
        {
          "output_type": "stream",
          "text": [
            "\"표본평균\"의 평균값은 30.05026870727082\n",
            "\"표본평균\"의 표준편차는 1.287740200558459\n"
          ],
          "name": "stdout"
        }
      ]
    },
    {
      "cell_type": "markdown",
      "metadata": {
        "id": "TZd9sGX5kYJw"
      },
      "source": [
        "\n",
        "문제 121. (통계를 코드로 구현 4번) 어느 비행기 탑승객의 짐의 무게는 평균이 18kg이고 표준편차가 3kg인 정규분포를 따른다고 한다. 이 비행기 탑승객 중에서 36명을 임의추출할 때, 짐의 평균 무게가 17kg 이상일 확률을 구하여라"
      ]
    },
    {
      "cell_type": "code",
      "metadata": {
        "colab": {
          "base_uri": "https://localhost:8080/"
        },
        "id": "NwlIiLBbkcvH",
        "outputId": "680d768a-efbd-478c-e7ea-fe651323683e"
      },
      "source": [
        "n = 36\n",
        "avg = 18\n",
        "std = 3\n",
        "\n",
        "population = np.random.randn(N) * std + avg\n",
        "cnt = 0\n",
        "\n",
        "for i in range(1, 37):\n",
        "    sample = np.random.choice( population )\n",
        "    if sample >= 17:\n",
        "        cnt += 1\n",
        "\n",
        "cnt/36"
      ],
      "execution_count": null,
      "outputs": [
        {
          "output_type": "execute_result",
          "data": {
            "text/plain": [
              "0.6388888888888888"
            ]
          },
          "metadata": {
            "tags": []
          },
          "execution_count": 30
        }
      ]
    },
    {
      "cell_type": "markdown",
      "metadata": {
        "id": "W7n0e4SRqYsh"
      },
      "source": [
        "\n",
        "문제 122. 동전의 앞면과 뒷면을 포함하는 리스트 coin을 만드시오"
      ]
    },
    {
      "cell_type": "code",
      "metadata": {
        "id": "Xk95aNPeqbAT"
      },
      "source": [
        "coin = ['front', 'back']"
      ],
      "execution_count": null,
      "outputs": []
    },
    {
      "cell_type": "markdown",
      "metadata": {
        "id": "1UDV8MziqfaD"
      },
      "source": [
        "문제 123. 위에서 만든 coin의 각각의 요소를 100개로 늘려서 coin_100 변수에 담으시오"
      ]
    },
    {
      "cell_type": "code",
      "metadata": {
        "colab": {
          "base_uri": "https://localhost:8080/"
        },
        "id": "EMXo2nfQqeHw",
        "outputId": "554f5989-f6fb-4a2f-aba1-d94b1fc53c4e"
      },
      "source": [
        "coin_100 = coin * 100\n",
        "len( coin_100 )"
      ],
      "execution_count": null,
      "outputs": [
        {
          "output_type": "execute_result",
          "data": {
            "text/plain": [
              "200"
            ]
          },
          "metadata": {
            "tags": []
          },
          "execution_count": 32
        }
      ]
    },
    {
      "cell_type": "markdown",
      "metadata": {
        "id": "nc5yYvMdqm-R"
      },
      "source": [
        "문제 124. 위에서 만든 coin_100리스트에서 표본을 10개를 추출하시오"
      ]
    },
    {
      "cell_type": "code",
      "metadata": {
        "colab": {
          "base_uri": "https://localhost:8080/"
        },
        "id": "-hkCzeS0quBw",
        "outputId": "008f9c18-3dfb-400b-a4d6-5b0522cb6515"
      },
      "source": [
        "import numpy as np\n",
        "\n",
        "np.random.choice( coin_100, 10 )"
      ],
      "execution_count": null,
      "outputs": [
        {
          "output_type": "execute_result",
          "data": {
            "text/plain": [
              "array(['front', 'back', 'front', 'back', 'front', 'back', 'back', 'back',\n",
              "       'back', 'back'], dtype='<U5')"
            ]
          },
          "metadata": {
            "tags": []
          },
          "execution_count": 33
        }
      ]
    },
    {
      "cell_type": "markdown",
      "metadata": {
        "id": "HDpX33-Rq5PV"
      },
      "source": [
        "\n",
        "문제 125. 위에서 추출한 샘플 10개에서 앞면이 몇번 나오는지 출력하시오"
      ]
    },
    {
      "cell_type": "code",
      "metadata": {
        "colab": {
          "base_uri": "https://localhost:8080/"
        },
        "id": "LaWA5RJXq6ee",
        "outputId": "6ba9df61-f30b-4826-b4e1-0b0d37f17509"
      },
      "source": [
        "cnt = 0\n",
        "for i in range(10):\n",
        "    if np.random.choice( coin_100 ) == 'front':\n",
        "        cnt += 1\n",
        "\n",
        "print( cnt, '\\n' )\n",
        "\n",
        "# or\n",
        "\n",
        "cnt_1 = 0\n",
        "random_stuff = np.random.choice( coin_100, 10 )\n",
        "\n",
        "for i in random_stuff:\n",
        "    if i == 'front':\n",
        "        cnt_1 += 1\n",
        "\n",
        "cnt_1"
      ],
      "execution_count": null,
      "outputs": [
        {
          "output_type": "stream",
          "text": [
            "4 \n",
            "\n"
          ],
          "name": "stdout"
        },
        {
          "output_type": "execute_result",
          "data": {
            "text/plain": [
              "2"
            ]
          },
          "metadata": {
            "tags": []
          },
          "execution_count": 34
        }
      ]
    },
    {
      "cell_type": "markdown",
      "metadata": {
        "id": "TauFKs7lryeR"
      },
      "source": [
        "문제 129. 위의 튜플의 모든 요소들을 다 출력하시오!\n",
        "```\n",
        "결과:\n",
        "0.01\n",
        "0.02\n",
        "0.03\n",
        "0.04\n",
        "0.04\n"
      ]
    },
    {
      "cell_type": "code",
      "metadata": {
        "colab": {
          "base_uri": "https://localhost:8080/"
        },
        "id": "ozVjNtTosDHA",
        "outputId": "4265af4d-daae-40fd-b92a-dbba2c048818"
      },
      "source": [
        "a = (0.01, 0.02, 0.03, 0.04, 0.04)\n",
        "\n",
        "for i in a:\n",
        "    print( i )"
      ],
      "execution_count": null,
      "outputs": [
        {
          "output_type": "stream",
          "text": [
            "0.01\n",
            "0.02\n",
            "0.03\n",
            "0.04\n",
            "0.04\n"
          ],
          "name": "stdout"
        }
      ]
    },
    {
      "cell_type": "markdown",
      "metadata": {
        "id": "GaAKMGfwsTrs"
      },
      "source": [
        "문제 130. 아래의 두개의 리스트를 각각 만들고 아래와 같이 fruit라는 딕셔너리를 생성하시오\n",
        "```\n",
        "a=['사과','배', '포도', '복숭아', '바나나']\n",
        "b=['apple', 'pear', 'grape', 'peach', 'banana'\n",
        "\n",
        "결과 \n",
        "print( fruit )\n",
        "{'사과':'apple', '바나나':'banana', '복숭아':'peach', '배':'pear','포도': 'grape'}\n",
        "```\n"
      ]
    },
    {
      "cell_type": "code",
      "metadata": {
        "colab": {
          "base_uri": "https://localhost:8080/"
        },
        "id": "izQNfQVxsTLV",
        "outputId": "ece0781b-dd5f-42a6-c8ec-22fd841ceb61"
      },
      "source": [
        "fruit = {}\n",
        "a=['사과','배', '포도', '복숭아', '바나나']\n",
        "b=['apple', 'pear', 'grape', 'peach', 'banana']\n",
        "\n",
        "for i,k in zip(a, b):\n",
        "    fruit[i] = k\n",
        "\n",
        "fruit"
      ],
      "execution_count": null,
      "outputs": [
        {
          "output_type": "execute_result",
          "data": {
            "text/plain": [
              "{'바나나': 'banana', '배': 'pear', '복숭아': 'peach', '사과': 'apple', '포도': 'grape'}"
            ]
          },
          "metadata": {
            "tags": []
          },
          "execution_count": 36
        }
      ]
    },
    {
      "cell_type": "markdown",
      "metadata": {
        "id": "M_ZvPEPvwTk3"
      },
      "source": [
        "예. 아래의 SQL을 파이썬으로 구현하시오\n",
        "```\n",
        "SQL> \n",
        "select lower(ename)\n",
        "    from emp;\n",
        "    "
      ]
    },
    {
      "cell_type": "code",
      "metadata": {
        "id": "m3QBNzlMwWhL",
        "colab": {
          "base_uri": "https://localhost:8080/"
        },
        "outputId": "4a00342e-940c-4260-f195-823565db7179"
      },
      "source": [
        "for i in emp['ename']:\n",
        "    print( i.lower() )"
      ],
      "execution_count": null,
      "outputs": [
        {
          "output_type": "stream",
          "text": [
            "king\n",
            "blake\n",
            "clark\n",
            "jones\n",
            "martin\n",
            "allen\n",
            "turner\n",
            "james\n",
            "ward\n",
            "ford\n",
            "smith\n",
            "scott\n",
            "adams\n",
            "miller\n"
          ],
          "name": "stdout"
        }
      ]
    },
    {
      "cell_type": "markdown",
      "metadata": {
        "id": "hjX3e60PnMzo"
      },
      "source": [
        "\n",
        "문제 131. 아래의 SQL을 파이썬으로 구현하시오\n",
        "```\n",
        "SQL>\n",
        "select lower(ename), lower(job)\n",
        "    from emp;\n",
        "```"
      ]
    },
    {
      "cell_type": "code",
      "metadata": {
        "colab": {
          "base_uri": "https://localhost:8080/"
        },
        "id": "kLHWxo78nWbB",
        "outputId": "ef881fd9-3fe5-418f-84ec-b1d8dea87752"
      },
      "source": [
        "for i, j in zip(emp['ename'], emp['job']):\n",
        "    print( i.lower(), j.lower() )"
      ],
      "execution_count": null,
      "outputs": [
        {
          "output_type": "stream",
          "text": [
            "king president\n",
            "blake manager\n",
            "clark manager\n",
            "jones manager\n",
            "martin salesman\n",
            "allen salesman\n",
            "turner salesman\n",
            "james clerk\n",
            "ward salesman\n",
            "ford analyst\n",
            "smith clerk\n",
            "scott analyst\n",
            "adams clerk\n",
            "miller clerk\n"
          ],
          "name": "stdout"
        }
      ]
    },
    {
      "cell_type": "code",
      "metadata": {
        "colab": {
          "base_uri": "https://localhost:8080/"
        },
        "id": "z6phur_EnpwO",
        "outputId": "7ccecfa1-3a4b-4694-ee43-b1c636ffc08f"
      },
      "source": [
        "# 두개의 입력값을 받아서 더하는 함수를 생성\n",
        "def sum_num(a,b):\n",
        "    return (a + b)\n",
        "\n",
        "sum_num(2, 3)"
      ],
      "execution_count": null,
      "outputs": [
        {
          "output_type": "execute_result",
          "data": {
            "text/plain": [
              "5"
            ]
          },
          "metadata": {
            "tags": []
          },
          "execution_count": 45
        }
      ]
    },
    {
      "cell_type": "markdown",
      "metadata": {
        "id": "DSuMaqIRn8AC"
      },
      "source": [
        "문제 132. for loop문을 사용하여 1부터 10까지 출력하시오"
      ]
    },
    {
      "cell_type": "code",
      "metadata": {
        "colab": {
          "base_uri": "https://localhost:8080/"
        },
        "id": "tg_lPhkwn1UO",
        "outputId": "f30cd50e-8216-4d60-f191-68e4c859ab20"
      },
      "source": [
        "for i in range(1, 11):\n",
        "    print(i)"
      ],
      "execution_count": null,
      "outputs": [
        {
          "output_type": "stream",
          "text": [
            "1\n",
            "2\n",
            "3\n",
            "4\n",
            "5\n",
            "6\n",
            "7\n",
            "8\n",
            "9\n",
            "10\n"
          ],
          "name": "stdout"
        }
      ]
    },
    {
      "cell_type": "markdown",
      "metadata": {
        "id": "idOgjw52oEGQ"
      },
      "source": [
        "문제133. 1부터 10까지 다 더한 값을 출력하시오\n",
        "\n"
      ]
    },
    {
      "cell_type": "code",
      "metadata": {
        "colab": {
          "base_uri": "https://localhost:8080/"
        },
        "id": "5HBYxjC3oGGv",
        "outputId": "db4c3633-9dc3-48e5-89a2-73bd143cb86f"
      },
      "source": [
        "cnt = 0\n",
        "\n",
        "for i in range(1, 11):\n",
        "    cnt += i\n",
        "\n",
        "cnt"
      ],
      "execution_count": null,
      "outputs": [
        {
          "output_type": "execute_result",
          "data": {
            "text/plain": [
              "55"
            ]
          },
          "metadata": {
            "tags": []
          },
          "execution_count": 47
        }
      ]
    },
    {
      "cell_type": "markdown",
      "metadata": {
        "id": "cpsk79D_oPdg"
      },
      "source": [
        "문제 134. 위의 코드를 이용해서 함수를 생성하는데 아래와 같이 숫자를 입력하고 함수를 실행하면 해당 숫자까지 1부터 다 더한 값이 출력되게 하시오!\n",
        "\n"
      ]
    },
    {
      "cell_type": "code",
      "metadata": {
        "colab": {
          "base_uri": "https://localhost:8080/"
        },
        "id": "nod3NQBmoQEX",
        "outputId": "2194e550-1a06-4a3c-97c0-d013136bf0a5"
      },
      "source": [
        "def sum_(a):\n",
        "    cnt = 0\n",
        "    for i in range(1, a+1):\n",
        "        cnt += i\n",
        "    return cnt\n",
        "\n",
        "sum_(10)"
      ],
      "execution_count": null,
      "outputs": [
        {
          "output_type": "execute_result",
          "data": {
            "text/plain": [
              "55"
            ]
          },
          "metadata": {
            "tags": []
          },
          "execution_count": 52
        }
      ]
    },
    {
      "cell_type": "markdown",
      "metadata": {
        "id": "MIN0XJPForNU"
      },
      "source": [
        "\n",
        "문제 135. 다음의 문자열 변수를 생성하고 문자열 변수의 문자를 소문자로 출력하시오\n",
        "```\n",
        "a = 'SCOTT'\n",
        "```"
      ]
    },
    {
      "cell_type": "code",
      "metadata": {
        "colab": {
          "base_uri": "https://localhost:8080/",
          "height": 52
        },
        "id": "1Xj72Pr_or1S",
        "outputId": "56f0dac3-f789-466f-cbb8-73e8873dd756"
      },
      "source": [
        "a = 'SCOTT'\n",
        "print( 'SCOTT'.lower() )\n",
        "a.lower()"
      ],
      "execution_count": null,
      "outputs": [
        {
          "output_type": "stream",
          "text": [
            "scott\n"
          ],
          "name": "stdout"
        },
        {
          "output_type": "execute_result",
          "data": {
            "application/vnd.google.colaboratory.intrinsic+json": {
              "type": "string"
            },
            "text/plain": [
              "'scott'"
            ]
          },
          "metadata": {
            "tags": []
          },
          "execution_count": 54
        }
      ]
    },
    {
      "cell_type": "markdown",
      "metadata": {
        "id": "0I4U13qPpJtM"
      },
      "source": [
        "\n",
        "문제 140 아래의 함수를 생성하시오!(첫번째 철자 대문자 나머지 소문자로 출력되게 하는 함수)\n",
        "```\n",
        "print( initcap('scott') )\n",
        "결과: Scott\n",
        "```"
      ]
    },
    {
      "cell_type": "code",
      "metadata": {
        "colab": {
          "base_uri": "https://localhost:8080/",
          "height": 35
        },
        "id": "ORNTUNHRpPbb",
        "outputId": "2c850c95-9aa8-4ec2-aa3e-cb31dcab19d0"
      },
      "source": [
        "def capital(a):\n",
        "    return a[0].upper() + a[1:].lower()\n",
        "\n",
        "capital('scott')"
      ],
      "execution_count": null,
      "outputs": [
        {
          "output_type": "execute_result",
          "data": {
            "application/vnd.google.colaboratory.intrinsic+json": {
              "type": "string"
            },
            "text/plain": [
              "'Scott'"
            ]
          },
          "metadata": {
            "tags": []
          },
          "execution_count": 59
        }
      ]
    },
    {
      "cell_type": "code",
      "metadata": {
        "colab": {
          "base_uri": "https://localhost:8080/",
          "height": 35
        },
        "id": "GRXR9TfT8K5P",
        "outputId": "54181fb2-2ea8-4a3f-f6c2-c87f7619a3cb"
      },
      "source": [
        "def add_text(t1, t2):\n",
        "    return t1 + '  ' + t2\n",
        "\n",
        "add_text('Python', 'Java')"
      ],
      "execution_count": 61,
      "outputs": [
        {
          "output_type": "execute_result",
          "data": {
            "application/vnd.google.colaboratory.intrinsic+json": {
              "type": "string"
            },
            "text/plain": [
              "'Python  Java'"
            ]
          },
          "metadata": {
            "tags": []
          },
          "execution_count": 61
        }
      ]
    },
    {
      "cell_type": "code",
      "metadata": {
        "colab": {
          "base_uri": "https://localhost:8080/",
          "height": 52
        },
        "id": "bwVuewrw8gWt",
        "outputId": "fd0b9efc-8d96-40fc-c94e-6998b9dd5c0b"
      },
      "source": [
        "def add_text2(t3, t4='is the best'):\n",
        "    return t3 + '    ' + t4\n",
        "\n",
        "print(add_text2('Python'))\n",
        "add_text2('Python', 'Java')"
      ],
      "execution_count": 65,
      "outputs": [
        {
          "output_type": "stream",
          "text": [
            "Python    is the best\n"
          ],
          "name": "stdout"
        },
        {
          "output_type": "execute_result",
          "data": {
            "application/vnd.google.colaboratory.intrinsic+json": {
              "type": "string"
            },
            "text/plain": [
              "'Python    Java'"
            ]
          },
          "metadata": {
            "tags": []
          },
          "execution_count": 65
        }
      ]
    }
  ]
}