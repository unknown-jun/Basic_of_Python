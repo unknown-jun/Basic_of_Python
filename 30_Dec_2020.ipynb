{
  "nbformat": 4,
  "nbformat_minor": 0,
  "metadata": {
    "colab": {
      "name": "30_Dec_2020.ipynb",
      "provenance": [],
      "collapsed_sections": [],
      "toc_visible": true,
      "authorship_tag": "ABX9TyPleCcgTtuM52RPDSW2dgNi",
      "include_colab_link": true
    },
    "kernelspec": {
      "name": "python3",
      "display_name": "Python 3"
    }
  },
  "cells": [
    {
      "cell_type": "markdown",
      "metadata": {
        "id": "view-in-github",
        "colab_type": "text"
      },
      "source": [
        "<a href=\"https://colab.research.google.com/github/unknown-jun/Basic_of_Python/blob/master/30_Dec_2020.ipynb\" target=\"_parent\"><img src=\"https://colab.research.google.com/assets/colab-badge.svg\" alt=\"Open In Colab\"/></a>"
      ]
    },
    {
      "cell_type": "markdown",
      "metadata": {
        "id": "rSZssbOnHN7l"
      },
      "source": [
        "문제 39. 이름이 allen인 사원의 이름과 월급을 출력하시오\n",
        "~~~\n",
        "# grep -i 'allen' emp.txt | awk '{print $2, $6}'\n",
        "~~~\n",
        "- 터미널창에 복사/붙여넣기 할 때 shift + control + c & v 로 가능"
      ]
    },
    {
      "cell_type": "markdown",
      "metadata": {
        "id": "1ZA_3rEJJe4I"
      },
      "source": [
        "문제 40. 월급이 3000인 사원의 이름과 월급을 출력하시오\n",
        "~~~\n",
        "# grep '3000' emp.txt | awk '{print $2, $6}'\n",
        "~~~\n",
        "- emp.txt만 이용하면 grep 만으로도 위의 문제를 해결할 수 있지만 월급이 3000인 데이터를 정확하게 검색하려면 awk를 이용해야 함\n",
        "- grep은 emp.txt에서 3000이라는 글씨가 포함되어져 있는 행을 다 출력함\n",
        "- 만약에 커미션에 누군가가 3000이 있다면 그 사원도 조회가 되므로 그럴땐 grep을 이용하지 말고 awk로만 조회해야 함"
      ]
    },
    {
      "cell_type": "markdown",
      "metadata": {
        "id": "SxNhP5TuLE2Q"
      },
      "source": [
        "문제 41. 부서번호가 10번인 사원들의 이름과 월급과 부서번호를 출력하시오\n",
        "~~~\n",
        "# grep '10' emp.txt | awk '{print $2, $6, $8}'\n",
        "\n",
        "KING 5000 10\n",
        "CLARK 2450 10\n",
        "MARTIN 1250 30  <-- 내가 원하지 않던 결과값이 나옴\n",
        "ADAMS 1100 20   <-- 내가 원하지 않던 결과값이 나옴\n",
        "MILLER 1300 10\n",
        "~~~\n",
        "- 월급에 10이 포함되어져 있기 때문\n",
        "~~~\n",
        "# grep -iw '10' emp.txt | awk '{print $2, $6, $8}'\n",
        "~~~\n",
        "- -w 옵션은 단어별 검색\n",
        "- MARTIN과 같은 경우 입사일에 10이 들어가기 때문에\n",
        "~~~\n",
        "# awk '{print $2, $6, $8}' emp.txt | grep -iw '10'\n",
        "~~~\n",
        "- awk로 먼저 emp.txt에서 이름과 월급과 부서번호를 선택해서 출력하고 그 출력된 결과에서 10을 포함하고 있는 행들만 출력함\n",
        "\n",
        "\n",
        "- grep은 emp.txt에서 틀정 글자가 포함되어져 있는 행들만 검색하기 때문에 특정 열에 대해서 검색하는 것은 grep만으로는 어렵다.\n",
        "- 그렇기 때문에 awk 명령어가 필요함"
      ]
    },
    {
      "cell_type": "markdown",
      "metadata": {
        "id": "0dyd5Q2gNP3V"
      },
      "source": [
        "### 13. awk 명령어\n",
        "- 특정 컬럼을 출력하고자 할 때 사용하는 명령어\n",
        "~~~\n",
        "예제\n",
        "# awk '패턴 {action}' 대상 파일명\n",
        "# awk '$3==\"SALESMAN\" {print $2, $3}' emp.txt\n",
        "   < 직업이 SALESMAN인 사원의 이름과 직업을 출력하는 명령어 >\n",
        "# awk '{print $2, $3}' emp.txt\n",
        "   < 사원의 이름과 직업만을 출력하는 명령어 >\n",
        "~~~\n"
      ]
    },
    {
      "cell_type": "markdown",
      "metadata": {
        "id": "4hU4rY-2O0TI"
      },
      "source": [
        "### 리눅스 연산자 3가지 정리\n",
        "1. 산술연산자: +, -, *, /\n",
        "2. 비교연산자: <, >, >=, <=, ==, !=\n",
        "3. 논리연산자: &&, ||, !"
      ]
    },
    {
      "cell_type": "markdown",
      "metadata": {
        "id": "8lbmZ4RFPFFz"
      },
      "source": [
        "문제 42. 월급이 3000 이상인 사원들의 이름과 월급을 출력하시오\n",
        "~~~\n",
        "# awk '$6 >= 3000 {print $2, $6}' emp.txt\n",
        "~~~"
      ]
    },
    {
      "cell_type": "markdown",
      "metadata": {
        "id": "bHXmfe6HPsAa"
      },
      "source": [
        "문제 43. 직업이 salesman이 아닌 사원들의 이름과 직업을 출력하시오\n",
        "~~~\n",
        "# awk '$3 != toupper(\"salesman\") {print $2, $3}' emp.txt\n",
        "~~~"
      ]
    },
    {
      "cell_type": "markdown",
      "metadata": {
        "id": "dNnLZIfVUql_"
      },
      "source": [
        "문제44. 직업이 salesman 이고 월급이 1500 이상인 사원들의 이름과 월급과 직업을 출력하시오!\n",
        "\n",
        "~~~\n",
        "# awk '$3==toupper(\"salesman\") && $6 >=1500 {print $2,$6,$3}' emp.txt\n",
        "~~~"
      ]
    },
    {
      "cell_type": "markdown",
      "metadata": {
        "id": "-WfsZM5QUbIZ"
      },
      "source": [
        "- 만약 Oracle과 같은 기능이 있는지 확인을 하고 싶다면\n",
        "~~~\n",
        "# man awk\n",
        "/substr   <-- 현재 보고 있는 페이지에서 substr을 검색하는 명령어\n",
        "n을 누르면 다음으로 넘어감\n",
        "~~~"
      ]
    },
    {
      "cell_type": "markdown",
      "metadata": {
        "id": "HQUnA4Q4V0Uw"
      },
      "source": [
        "문제 45. 81년도에 입사한 사원들의 이름과 입사일을 출력하시오\n",
        "~~~\n",
        "# awk 'substr($5, 3, 2)==81 {print $2, $5}' emp.txt\n",
        "~~~\n",
        "~~~\n",
        "설명:\n",
        "5번째 열에 있는 1981-12-11\n",
        "             123    --> 3번째 부터\n",
        "               12   --> 2개를 읽는다 \n",
        "이 결과값이 81이라면!! \n",
        "2열과 5열을 출력해라\n",
        "emp.txt에서!\n",
        "~~~\n",
        "- 외부에서 text, excel, csv를 받으면 Oracle이나 하둡에 데이터를 넣고 SQL이나 Hive를 써서 데이터 검색을 하는데 그냥 바로 리눅스 명령어로 위와 같이 조회해서 데이터를 봐야 할 상황도 많다"
      ]
    },
    {
      "cell_type": "markdown",
      "metadata": {
        "id": "lnRPeuYSWzkD"
      },
      "source": [
        "문제 46. 12월에 입사한 사원들의 이름과 입사일을 출력하시오\n",
        "~~~\n",
        "# awk 'substr($5, 6, 2) == 12 {print $2, $5}' emp.txt\n",
        "~~~"
      ]
    },
    {
      "cell_type": "markdown",
      "metadata": {
        "id": "tg-mPkKwXc2l"
      },
      "source": [
        "문제 47. 81년도에 입사하지 않은 사원들의 이름과 입사일을 출력하시오!\n",
        "~~~\n",
        "# awk 'substr($5, 3, 2) != 81 {print $2, $5}' emp.txt\n",
        "~~~"
      ]
    },
    {
      "cell_type": "markdown",
      "metadata": {
        "id": "UEUeyLIKXwbW"
      },
      "source": [
        "문제 48. 이름의 첫글자가 A로 시작하는 사원들의 이름과 월급을 출력하시오\n",
        "~~~\n",
        "# awk '{print $2, $6}' emp.txt | grep -i '^a'\n",
        "\n",
        "or\n",
        "\n",
        "# awk 'substr($2, 1, 1) ==\"A\" {print $2, $6}' emp.txt\n",
        "\n",
        "~~~"
      ]
    },
    {
      "cell_type": "markdown",
      "metadata": {
        "id": "dLCETCnCYqFj"
      },
      "source": [
        "문제 49. 이름의 끝글자가 T로 끝나는 사원들의 이름과 월급을 출력하시오\n",
        "~~~\n",
        "# awk '{print $6, $2}' emp.txt | grep -i 't$'\n",
        "~~~\n",
        "- 월급과 이름을 출력하고 출력된 그 문자 끝에가 t인 행을 출력함"
      ]
    },
    {
      "cell_type": "markdown",
      "metadata": {
        "id": "Qn3hlhbcZ6qJ"
      },
      "source": [
        "문제 50. 위의 문제를 awk와 substr을 이용해서 수행하시오\n",
        "~~~\n",
        "# awk 'substr($2, 5, 1) == \"T\" {print $2, $6}' emp.txt\n",
        "~~~"
      ]
    },
    {
      "cell_type": "markdown",
      "metadata": {
        "id": "yeqyb2z-aemG"
      },
      "source": [
        "문제 51. 이름의 두번째 철자가 M인 사원들의 이름과 월급을 출력하시오\n",
        "~~~\n",
        "# awk 'substr($2, 2, 1) ==\"M\" {print $2, $6}' emp.txt \n",
        "~~~"
      ]
    },
    {
      "cell_type": "markdown",
      "metadata": {
        "id": "TIy31P6ubArM"
      },
      "source": [
        "### 14. sort 명령어\n",
        "- data를 특정 컬럼을 기준으로 정렬하는 명령어\n",
        "~~~\n",
        "예제:\n",
        "# sort 옵션 파일명\n",
        "# sort -nk 6 emp.txt\n",
        "~~~\n",
        "- -n옵션을 사용하면 숫자로 변환해서 정렬을 해줌\n",
        "- -k를 사용하고 6을 쓰면 6번째 컬럼을 기준으로 정렬하겠다는 명령어임\n",
        "- -r 옵션을 사용하면 월급이 높은 사원부터 출력됨 (reverse의 약자)"
      ]
    },
    {
      "cell_type": "markdown",
      "metadata": {
        "id": "wWyC4Lb0cU7x"
      },
      "source": [
        "문제 52. 이름과 월급을 출력하는데 월급이 높은 사원부터 출력하시오\n",
        "~~~\n",
        "# sort -nk 6 emp.txt | awk '{print $2, $6}'\n",
        "~~~"
      ]
    },
    {
      "cell_type": "markdown",
      "metadata": {
        "id": "su0DU7_TcqpX"
      },
      "source": [
        "문제 53. 직업이 SALESMAN인 사원들의 이름과 월급과 직업을 출력하는데 월급이 높은 사원부터 출력하시오\n",
        "~~~\n",
        "# awk '$3 == toupper(\"salesman\"){print $2, $6, $3}' emp.txt| sort -nk 2\n",
        "~~~\n",
        "- 이 경우엔 awk를 먼저해서 emp.txt에서 직업이 SALESMAN인 사원들의 이름과 직업을 출력하고 이 출력을 파이프 다음에 입력으로 보내서 정렬을 하는데 입력으로 보낸 3개의 컬럼 중에 두번째 컬럼을 기준으로 정렬을 했다"
      ]
    },
    {
      "cell_type": "markdown",
      "metadata": {
        "id": "Bd581780eaFb"
      },
      "source": [
        "문제 54. SALESMAN이 아닌 사원들의 이름과 월급과 직업을 출력하는데 월급이 낮은 사원부터 높은 사원 순으로 출력하시오\n",
        "\n",
        "~~~\n",
        "# awk '$3 !=  toupper(\"salesman\"){print $2, $6, $3}' emp.txt | sort -nk \n",
        "~~~"
      ]
    },
    {
      "cell_type": "markdown",
      "metadata": {
        "id": "FZ6vfIXwizXW"
      },
      "source": [
        "문제 55. 사원테이블의 월급의 토탈값을 출력하시오\n",
        "~~~\n",
        "# awk '{print $6}' emp.txt | awk '{sum += $1} END {print sum}'\n",
        "~~~\n",
        "\n",
        "- 월급만 추출해서 그 출력값을 파이프 다음에 입력값으로 보낸다\n",
        "- sum += $1이 실행되면서 월급이 계속 누적이 됨\n",
        "- END로 종료되면 sum을 프린트 함"
      ]
    },
    {
      "cell_type": "markdown",
      "metadata": {
        "id": "Ui0S5pepj8fj"
      },
      "source": [
        "문제 56. 직업이 salesman인 사원들의 토탈월급을 출력하시오\n",
        "~~~\n",
        "# grep -i 'salesman' emp.txt | awk '{print $6}'  | awk '{sum += $1} END {print sum}'\n",
        "~~~\n",
        "- emp.txt에서 salesman이 포함된 행만 추출해서 파이프 다음에 입력으로 보냄( 직업이 salesman인 모든 컬럼이 다 나옴 )\n",
        "- 두번째 awk으로 6번째 열(월급 컬럼)만 추출\n",
        "- 그 열에서 모든 합계를 구함"
      ]
    },
    {
      "cell_type": "markdown",
      "metadata": {
        "id": "t4brB5u9mTlg"
      },
      "source": [
        "문제 57. 직업이 SALESMAN이 아니고 월급이 2000이상인 사원들의 이름과 월급과 직업을 출력하시오!\n",
        "~~~\n",
        "# awk '$4 != toupper(\"salesman\") && $6 >=2000 {print $2, $6, $3}' emp.txt\n",
        "~~~"
      ]
    },
    {
      "cell_type": "markdown",
      "metadata": {
        "id": "Ysrfl9H3nTg4"
      },
      "source": [
        "문제 58. 위의 사원들의 월급의 토탈값을 출력하시오\n",
        "~~~\n",
        "# awk '$3 != toupper(\"salesman\") && $6 >=2000 {print $2, $6, $3}' emp.txt | awk '{sum += $2} END {print sum}'\n",
        "~~~"
      ]
    },
    {
      "cell_type": "markdown",
      "metadata": {
        "id": "WEuljmYXn6n9"
      },
      "source": [
        "문제 59. 81년도에 입사한 사원들의 월급의 토탈값을 출력하시오\n",
        "~~~\n",
        "# awk 'substr($5, 3, 2) == 81 {print $6}' emp.txt|awk '{sum += $1} END {print sum}'\n",
        "~~~"
      ]
    },
    {
      "cell_type": "markdown",
      "metadata": {
        "id": "pAknqtxJ88ld"
      },
      "source": [
        "문제 60. 아래 SQL의 결과를 리눅스 명령어로 출력하시오\n",
        "~~~\n",
        "SQL>\n",
        "select ename||'의 월급은'||sal||'입니다.'\n",
        "    from emp;\n",
        "~~~\n",
        "~~~\n",
        "Linux>\n",
        "# awk '{print $2 \"의 월급은 \" $6 \"입니다\"}' emp.txt\n",
        "~~~"
      ]
    },
    {
      "cell_type": "markdown",
      "metadata": {
        "id": "E3AAgIXm97mK"
      },
      "source": [
        "문제 61. 아래의 SQL의 결과를 리눅스 명령어로 출력하시오\n",
        "~~~\n",
        "SQL>\n",
        "select ename||' 의 직업은'||job||' 입니다'\n",
        "    from emp\n",
        "~~~\n",
        "~~~\n",
        "Linux>\n",
        "# awk '{print $2 \"의 직업은 \" $3 \"입니다\"}' emp.txt\n",
        "~~~"
      ]
    },
    {
      "cell_type": "markdown",
      "metadata": {
        "id": "_WZLIQ2C-1ax"
      },
      "source": [
        "문제 62. 집에서(/root) 에서 ls -l로 수행한 결과를 출력하시오\n",
        "~~~\n",
        "# cd\n",
        "# ls -l\n",
        "~~~"
      ]
    },
    {
      "cell_type": "markdown",
      "metadata": {
        "id": "yknHlooe_g-u"
      },
      "source": [
        "문제 63. 위에서 출력된 결과에서 파일의 크기에 해당하는 부분만 출력하시오\n",
        "~~~\n",
        "# cd\n",
        "# ls -l | awk '{print $5}'\n",
        "~~~"
      ]
    },
    {
      "cell_type": "markdown",
      "metadata": {
        "id": "L1zokSjdAHxj"
      },
      "source": [
        "문제 64. 위에서 출력된 숫자들의 총합을 출력하시오\n",
        "~~~\n",
        "# cd\n",
        "# ls -l | awk '{print $5}' | awk '{sum += $1} END {print sum}'\n",
        "~~~"
      ]
    },
    {
      "cell_type": "markdown",
      "metadata": {
        "id": "zoDo0vOsBL7Y"
      },
      "source": [
        "바이트  \n",
        "킬로바이트 1000^1  \n",
        "메가바이트 1000^2  \n",
        "기가바이트 1000^3  \n",
        "테라바이트 1000^4  \n",
        "페타바이트 1000^5  \n",
        "엑사바이트 1000^6  \n",
        "제타바이트 1000^7  \n",
        "요타바이트 1000^8"
      ]
    },
    {
      "cell_type": "markdown",
      "metadata": {
        "id": "5tP0pcNHBhwJ"
      },
      "source": [
        "### 15. uniq 명령어\n",
        "- 중복된 라인을 제거하는 명령어\n",
        "~~~\n",
        "예:\n",
        "# uniq 옵션 파일명 \n",
        "~~~"
      ]
    },
    {
      "cell_type": "markdown",
      "metadata": {
        "id": "WqLGwaOUB4z0"
      },
      "source": [
        "문제 65. emp.txt에서 직업만 출력하시오!\n",
        "~~~\n",
        "# awk '{print $3}' emp.txt\n",
        "~~~"
      ]
    },
    {
      "cell_type": "markdown",
      "metadata": {
        "id": "yAqMjxcnCZH7"
      },
      "source": [
        "문제 66. 위의 결과를 abcd순으로 정렬해서 출력하시오\n",
        "~~~\n",
        "# awk '{print $3}' emp.txt | sort -k 1\n",
        "~~~"
      ]
    },
    {
      "cell_type": "markdown",
      "metadata": {
        "id": "UMcmMJneCsHZ"
      },
      "source": [
        "문제 67. 위의 결과를 중복제거해서 출력하시오\n",
        "~~~\n",
        "# awk '{print $3}' emp.txt|sort -k 1 | uniq\n",
        "~~~\n",
        "- uniq 사용하기 전에 앞에서 정렬을 한 이유는 위아래가 같은 데이터만 중복을 제거하기 때문"
      ]
    },
    {
      "cell_type": "markdown",
      "metadata": {
        "id": "umOvFnZXDRrA"
      },
      "source": [
        "문제 68. 사원테이블에서 부서번호를 출력하는데 중복을 제거해서 출력하시오\n",
        "~~~\n",
        "# awk '{print $8}' emp.txt | sort -nk 1|uniq\n",
        "~~~"
      ]
    },
    {
      "cell_type": "markdown",
      "metadata": {
        "id": "QyZ-_VL6Dusm"
      },
      "source": [
        "문제 69. 직업이 CLERK인 사원들의 부서번호를 출력하는데 중복 제거해서 출력하시오\n",
        "~~~\n",
        "# awk '$3==toupper(\"clerk\")' {print$8}' emp.txt | sork -nk 1| uniq\n",
        "~~~"
      ]
    },
    {
      "cell_type": "markdown",
      "metadata": {
        "id": "j1xQ-lY7FS4W"
      },
      "source": [
        "### 16. echo 명령어\n",
        "- 출력하고자 하는 글자를 출력할 때 사용하는 명령어\n",
        "- 파이썬의 print와 같은 명령어\n",
        "- 변수 안의 글자를 출력할 때 사용하는 명령어\n",
        "~~~\n",
        "예제:\n",
        "# a= 1\n",
        "# echo $a\n",
        "# b ='scott'\n",
        "# echo $b\n",
        "~~~"
      ]
    },
    {
      "cell_type": "markdown",
      "metadata": {
        "id": "EOAlLXYGG6Ef"
      },
      "source": [
        "문제 70. 직업을 물어보게 하고 직업을 입력하면 해당 직업을 갖는 사원들의 이름과 직업이 출력되게 하시오\n",
        "~~~\n",
        "echo -n 'Enter the job name ~~~'\n",
        "read job\n",
        "grep -i $job emp.txt | awk '{print $2,$3}'\n",
        "~~~\n",
        "\n",
        "- -n은 엔터와 같은 역할을 수행함\n",
        "- \"Enter the job name\"에 salesman을 입력하면 -n이 엔터역할을 수행!\n",
        "- read job 으로 인해 salesman이라는 글씨가 job 변수에 입력이 됌\n",
        "- ```$``` 를 job 앞에 써줘야 job을 변수로 인정함\n",
        "- ```$```를 안써주면 그냥 영어철자 job일 뿐"
      ]
    },
    {
      "cell_type": "markdown",
      "metadata": {
        "id": "-hNuxLiBNrx4"
      },
      "source": [
        "- 위의 리눅스 명령어 여러개를 파일로 저장해서 한번에 수행하는 방법\n",
        "~~~\n",
        "# vi job2.sh\n",
        "~~~\n",
        "- vi 편집기 화면으로 들어가서 위의 3줄을 복사해서 붙여 넣으려면 알파벳 i를 누르고 아래쪽에 insert가 나오는지 확인한다.\n",
        "- 그리고 shift + insert 를 눌러서 붙여넣고 저장을 해야하는데 저장하려면 esc를 눌러서 아래쪽에 insert를 사라지게 하고 대문자 Z를 두번 연속으로 눌러 저장하고 빠져나오면 된다.\n",
        "~~~\n",
        "# sh job2.sh\n",
        "확장자가 .sh는 쉘스크립트입니다\n",
        "쉘스크립트는 리눅스 명령어를 모아 놓은 것\n",
        "쉘스크립트를 잘 작성할 줄 알면 업무의 많은 부분을 자동화시킬 수 있다.\n",
        "~~~\n",
        "- sh 명령어로 쉘스크립트를 실행함"
      ]
    },
    {
      "cell_type": "markdown",
      "metadata": {
        "id": "FL2pujezOPcq"
      },
      "source": [
        "문제 71. 아래와 같이 부서번호를 물어보게 하고 부서번호를 입력하면 해당 부서번호인 사원들의 이름과 월급과 부서번호가 출력되게 하시오\n",
        "~~~\n",
        "# sh deptno.sh\n",
        "\n",
        "Enter the deptno:  10\n",
        "SMITH   800   10\n",
        "  :      :     :   \n",
        "~~~\n"
      ]
    },
    {
      "cell_type": "markdown",
      "metadata": {
        "id": "MTXzZV7TRaJH"
      },
      "source": [
        "~~~\n",
        "# vi deptno.sh\n",
        "\n",
        "echo -n 'Enter the deptno: '\n",
        "read deptno\n",
        "awk -v num=$deptno '$8==num {print $2, $6, $8}' emp.txt\n",
        "\n",
        "# sh deptno.sh\n",
        "~~~\n",
        "\n",
        "\n",
        "```awk -v num=$deptno '$8==num {print $2, $6, $8}' emp.txt```\n",
        "- awk의 -v 옵션은 변수의 값을 다른 변수에 할당할 때 사용하는 옵션\n"
      ]
    },
    {
      "cell_type": "markdown",
      "metadata": {
        "id": "kvl-tVgvSTl4"
      },
      "source": [
        "문제 72. 이름이 SCOTT인 사원의 이름과 월급을 출력하시오\n",
        "~~~\n",
        "# awk '$2 == toupper(\"SCOTT\") {print $2, $4}' emp.txt\n",
        "~~~"
      ]
    },
    {
      "cell_type": "markdown",
      "metadata": {
        "id": "NHIFUzV6SwhG"
      },
      "source": [
        "문제 73. 이름을 물어보게 하고 이름을 입력하면 해당 사원의 이름과 월급이 출력되게 쉘 스크립트를 만들고 아래와 같이 실행되게 하시오\n",
        "~~~\n",
        "# sh find_sal.sh\n",
        "\n",
        "Enter the ename:  scott\n",
        "SCOTT     3000\n",
        "~~~\n"
      ]
    },
    {
      "cell_type": "markdown",
      "metadata": {
        "id": "GVZK-S_DTEJO"
      },
      "source": [
        "~~~\n",
        "# vi find_sal.sh\n",
        "\n",
        "echo -n 'Enter the ename: '\n",
        "read ename\n",
        "awk -v name=$ename '$2 == toupper(name) {print $2, $4}' emp.txt\n",
        "\n",
        "# sh find_sal.sh\n",
        "~~~"
      ]
    },
    {
      "cell_type": "markdown",
      "metadata": {
        "id": "wtwj_c4qUOPC"
      },
      "source": [
        "문제 74. dept.txt를 리눅스 서버에 올리시오 ( /root 밑에 올리세요 )"
      ]
    },
    {
      "cell_type": "markdown",
      "metadata": {
        "id": "SrpKKjZxVHbS"
      },
      "source": [
        "문제 75. dept.txt에서 부서번호가 10번의 부서위치가 어딘지 출력하시오\n",
        "~~~\n",
        "# awk '$1==10 {print $3}' dept.txt\n",
        "~~~"
      ]
    },
    {
      "cell_type": "markdown",
      "metadata": {
        "id": "-PPUqn1eZMG_"
      },
      "source": [
        "문제 76. SCOTT이 근무하는 부서위치를 출력하시오\n",
        "~~~\n",
        "SQL>\n",
        "select d.loc\n",
        "    from emp e, dept d\n",
        "    where e.detpno = d.deptno and ename='SCOTT'\n",
        "~~~"
      ]
    },
    {
      "cell_type": "markdown",
      "metadata": {
        "id": "pdoXjASTZgRA"
      },
      "source": [
        "~~~\n",
        "# deptno=`awk '$2 == toupper(\"scott\") {print $8}' emp.txt`\n",
        "# awk -v num=$deptno '$1==num{print $3}' dept.txt\n",
        "~~~"
      ]
    },
    {
      "cell_type": "markdown",
      "metadata": {
        "id": "dhhWsHVFchuh"
      },
      "source": [
        "문제 77. 위의 스크립트를 이용해서 shell script를 생성하여 아래와 같이 실행되게 하시오\n",
        "~~~\n",
        "# sh find_loc.sh\n",
        "Enter the ename:   scott\n",
        "DALLAS\n",
        "~~~"
      ]
    },
    {
      "cell_type": "markdown",
      "metadata": {
        "id": "YcA_apPqcvfK"
      },
      "source": [
        "~~~\n",
        "# vi find_loc.sh\n",
        "\n",
        "echo -n \"Enter the ename\"\n",
        "read ename\n",
        "deptno=`awk -v num1=$ename '$2==toupper(num1) {print $8}' emp.txt\n",
        "awk -v num=$deptno '$1==num {print $3}' dept.txt\n",
        "\n",
        "#sh find_loc.sh\n",
        "~~~"
      ]
    },
    {
      "cell_type": "markdown",
      "metadata": {
        "id": "HRXsM8-velBP"
      },
      "source": [
        "문제 79. 직업이 salesman인 사원들의 월급들을 출력하시오\n",
        "~~~\n",
        "# awk '$3==toupper(\"salesman\") {print $6}' emp.txt\n",
        "~~~"
      ]
    },
    {
      "cell_type": "markdown",
      "metadata": {
        "id": "aQ2sFuOtfYFD"
      },
      "source": [
        "문제 79. 위의 결과를 다시 출력하는데 월급 앞에 이름도 같이 출력하시오\n",
        "~~~\n",
        "# awk '$3==toupper(\"salesman\") {print $2, $6}' emp.txt\n",
        "~~~"
      ]
    },
    {
      "cell_type": "markdown",
      "metadata": {
        "id": "WD6oAhI1flSF"
      },
      "source": [
        "문제 80. 위의 스크립트를 이용해서 shell script를 만드는데 직업을 물어보게 하고 직업을 입력하면 해당 직업인 사원들의 이름과 월급이 물어보게 하시오\n",
        "~~~\n",
        "# sh find_job.sh\n",
        "\n",
        "Enter the job:    salesman\n",
        "\n",
        "MATIN 1250\n",
        "ALLEN 1600\n",
        "TURNER 1500\n",
        "WARD 1250\n",
        "~~~\n"
      ]
    },
    {
      "cell_type": "markdown",
      "metadata": {
        "id": "t2yuBK5Lg8rl"
      },
      "source": [
        "~~~\n",
        "# vi find_job.sh\n",
        "\n",
        "echo -n \"Enter the job: \"\n",
        "read job\n",
        "awk -v num=$job '$3==toupper(num) {print $2, $6}' emp.txt\n",
        "\n",
        "# sh find_job.sh\n",
        "~~~"
      ]
    },
    {
      "cell_type": "markdown",
      "metadata": {
        "id": "3judZYTthEvE"
      },
      "source": [
        "- 모금융회사에서 데이터 분석을 할 때 고객들을 나이대 별로 (20대, 30대, 40대) 별도의 텍스트 파일을 생성할 때 유용함"
      ]
    },
    {
      "cell_type": "markdown",
      "metadata": {
        "id": "9MFuXp6mhSh9"
      },
      "source": [
        "문제 81. 80번 코드를 수정해서 직업을 물어보게 하고 직업을 입력하면 해당 직업의 사원들의 모든 데이터가 다 출력되게 하시오\n",
        "~~~\n",
        "Enter the job:  salesman\n",
        "~~~"
      ]
    },
    {
      "cell_type": "markdown",
      "metadata": {
        "id": "CEjl2zM6hhuB"
      },
      "source": [
        "~~~\n",
        "# vi find_job.sh\n",
        "\n",
        "echo -n \"Enter the job: \"\n",
        "read job\n",
        "awk -v num=$job '$3==toupper(num) {print $0}' emp.txt\n",
        "\n",
        "# sh find_job.sh\n",
        "~~~"
      ]
    },
    {
      "cell_type": "markdown",
      "metadata": {
        "id": "TRRDpDMMisoG"
      },
      "source": [
        "문제 82. 직업을 물어보게 하고 직업을 입력하면 해당 직업인 사원들의 모든 데이터로 텍스트 파일을 생성되게 하시오\n",
        "~~~\n",
        "Enter the job:   salesman\n",
        "\n",
        "# ls -l salesman.txt  <-- salesman의 모든 데이터가 들어가 있어야 함\n",
        "~~~"
      ]
    },
    {
      "cell_type": "markdown",
      "metadata": {
        "id": "2LfYpZmUjFa6"
      },
      "source": [
        "~~~\n",
        "# vi get_job.sh\n",
        "\n",
        "echo -n \"Enter the job: \"\n",
        "read job\n",
        "awk -v num=$job '$3==toupper(num) {print $0}' emp.txt >> $job.txt\n",
        "\n",
        "# sh. get_job.sh\n",
        "~~~"
      ]
    },
    {
      "cell_type": "markdown",
      "metadata": {
        "id": "vd3FAQ1DnY4P"
      },
      "source": [
        "문제 83. 부서번호를 물어보게 하고 부서번호를 입력하면 해당 부서번호로 부서번호의 모든 사원의 데이터가 텍스트 파일로 생성되게 하시오\n",
        "~~~\n",
        "Enter the deptno: 10\n",
        "\n",
        "# ls -l 10.txt\n",
        "~~~"
      ]
    },
    {
      "cell_type": "markdown",
      "metadata": {
        "id": "YnweWc6kpStl"
      },
      "source": [
        "~~~\n",
        "# vi get_deptno.sh\n",
        "\n",
        "echo -n \"Enter the deptno: \"\n",
        "read deptno\n",
        "awk -v num=$deptno '$8==num {print $0}' emp.txt >> $deptno.txt\n",
        "\n",
        "# sh get_deptno.sh\n",
        "~~~"
      ]
    }
  ]
}