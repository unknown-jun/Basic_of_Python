{
  "nbformat": 4,
  "nbformat_minor": 0,
  "metadata": {
    "colab": {
      "name": "Untitled19.ipynb",
      "provenance": [],
      "toc_visible": true,
      "mount_file_id": "17W5tpjn2ZBfucXT8k5s3pYgKzmF9y6TA",
      "authorship_tag": "ABX9TyPRZe8oHh2stWEglJgWIerz",
      "include_colab_link": true
    },
    "kernelspec": {
      "name": "python3",
      "display_name": "Python 3"
    }
  },
  "cells": [
    {
      "cell_type": "markdown",
      "metadata": {
        "id": "view-in-github",
        "colab_type": "text"
      },
      "source": [
        "<a href=\"https://colab.research.google.com/github/unknown-jun/Basic_of_Python/blob/master/15_Dec_2020.ipynb\" target=\"_parent\"><img src=\"https://colab.research.google.com/assets/colab-badge.svg\" alt=\"Open In Colab\"/></a>"
      ]
    },
    {
      "cell_type": "markdown",
      "metadata": {
        "id": "vljG20Ak3hsZ"
      },
      "source": [
        "#132. 인자를 바꾸어 함수를 반복 호출하여 결과값 얻기(map)\n",
        "- 파이썬 내장함수 map은 리스트 A와 함수 f가 주어지면 리스트 A의 요소를 함수f에 입력해서 출력하는 결과를 간단하게 출력\n",
        "- map(함수명, 함수에 제공할 매개변수 값들)\n",
        "- 매개변수의 값들을 바꿔가면서 함수를 반복 실행할 때 유용하게 사용할 수 있음"
      ]
    },
    {
      "cell_type": "code",
      "metadata": {
        "colab": {
          "base_uri": "https://localhost:8080/"
        },
        "id": "Nd-yZh-M3gW1",
        "outputId": "96dd29c2-ffb9-4e8c-93b4-c74e4ba22875"
      },
      "source": [
        "def multiple(x):\n",
        "    return x*x\n",
        "\n",
        "a = [ 1,2,3,4,5 ]\n",
        "result = map( multiple, a )\n",
        "print( list(result) ) # map 함수가 리턴해주는 결과를 보려면 list함수로 반환해서 리스트형태로 봐야 함\n",
        "# 리스트 요소 하나하나를 함수에 입력값으로 입력한다(mapping)"
      ],
      "execution_count": 3,
      "outputs": [
        {
          "output_type": "stream",
          "text": [
            "[1, 4, 9, 16, 25]\n"
          ],
          "name": "stdout"
        }
      ]
    },
    {
      "cell_type": "markdown",
      "metadata": {
        "id": "bKb2L1kB5-1R"
      },
      "source": [
        "**문제 391. 숫자를 입력해서 해당 숫자가 3000보다 크면 숫자를 1을 리턴하게 하고 입력하는 숫자가 3000보다 작다면 0을 리턴하는 함수를 생성하시오**\n",
        "~~~\n",
        "print( high_income(3500) )\n",
        "결과 1\n",
        "print( high_income(2000) )\n",
        "결과 0\n"
      ]
    },
    {
      "cell_type": "code",
      "metadata": {
        "colab": {
          "base_uri": "https://localhost:8080/"
        },
        "id": "WIjxOVNW6Ujb",
        "outputId": "d185022a-9102-4584-824c-11d106d8273f"
      },
      "source": [
        "def high_income( num ):\n",
        "    if num >= 3000:\n",
        "        return 1\n",
        "    else: return 0\n",
        "\n",
        "print( high_income(3500) )\n",
        "print( high_income(2000) )"
      ],
      "execution_count": 4,
      "outputs": [
        {
          "output_type": "stream",
          "text": [
            "1\n",
            "0\n"
          ],
          "name": "stdout"
        }
      ]
    },
    {
      "cell_type": "markdown",
      "metadata": {
        "id": "HpxafECC62Ii"
      },
      "source": [
        "**문제 392. 위에서 만든 함수를 map 함수에 적용해서 아래의 리스트의 요소를 high_income함수의 입력 매개변수로 입력해서 아래의 결과가 출력되게 하시오**  \n",
        "~~~\n",
        "a = [4000, 5000, 2000, 3500, 1000 ]\n",
        "결과 [1, 1, 0, 1, 0]\n",
        "~~~"
      ]
    },
    {
      "cell_type": "code",
      "metadata": {
        "colab": {
          "base_uri": "https://localhost:8080/"
        },
        "id": "MySIb8z57fDz",
        "outputId": "cbd8b13d-664d-45f6-8e83-98b9b741f6ac"
      },
      "source": [
        "a = [4000, 5000, 2000, 3500, 1000 ]\n",
        "\n",
        "def high_income( num ):\n",
        "    if num >= 3000:\n",
        "        return 1\n",
        "    else: return 0\n",
        "\n",
        "result = map( high_income, a )\n",
        "print( list(result) )"
      ],
      "execution_count": 5,
      "outputs": [
        {
          "output_type": "stream",
          "text": [
            "[1, 1, 0, 1, 0]\n"
          ],
          "name": "stdout"
        }
      ]
    },
    {
      "cell_type": "markdown",
      "metadata": {
        "id": "pueEDBA18O-f"
      },
      "source": [
        "**문제 393. 동전을 지정된 숫자만큼 던져서 앞면이 나오는지 뒷면이 나오는지 출력하는 함수를 생성하시오**  \n",
        "~~~\n",
        "print( coin_cnt(5) )\n",
        "\n",
        "앞면\n",
        "앞면\n",
        "뒷면\n",
        "앞면\n",
        "뒷면\n",
        "~~~~"
      ]
    },
    {
      "cell_type": "code",
      "metadata": {
        "colab": {
          "base_uri": "https://localhost:8080/"
        },
        "id": "8vefgLaR8dbS",
        "outputId": "f6700168-1d42-4995-84bb-fb04ef7f5e39"
      },
      "source": [
        "import random\n",
        "\n",
        "def coin_cnt( num ):\n",
        "    coin = ['앞면', '뒷면']\n",
        "    for i in range(1, num+1):\n",
        "        result = random.choice(coin)\n",
        "        print( result )\n",
        "\n",
        "print( coin_cnt(5) )"
      ],
      "execution_count": 7,
      "outputs": [
        {
          "output_type": "stream",
          "text": [
            "앞면\n",
            "뒷면\n",
            "뒷면\n",
            "앞면\n",
            "뒷면\n",
            "None\n"
          ],
          "name": "stdout"
        }
      ]
    },
    {
      "cell_type": "markdown",
      "metadata": {
        "id": "m7RTSD099YvZ"
      },
      "source": [
        "**문제 394. 위의 함수를 수정해서 숫자를 입력하면 해당 숫자만큼 동전을 던져서 동전이 앞면이 나오는 확률을 출력하시오**"
      ]
    },
    {
      "cell_type": "code",
      "metadata": {
        "colab": {
          "base_uri": "https://localhost:8080/"
        },
        "id": "6iePjj8-9gLf",
        "outputId": "4a674566-7904-46be-fdfb-82f50329745e"
      },
      "source": [
        "import random\n",
        "\n",
        "def coin_cnt( num ):\n",
        "    coin = ['앞면', '뒷면']\n",
        "    cnt = 0\n",
        "    for i in range(1, num+1):\n",
        "        result = random.choice(coin)\n",
        "        if result == '앞면':\n",
        "            cnt += 1\n",
        "    return cnt / num\n",
        "\n",
        "print( coin_cnt(100) )"
      ],
      "execution_count": 11,
      "outputs": [
        {
          "output_type": "stream",
          "text": [
            "0.49\n"
          ],
          "name": "stdout"
        }
      ]
    },
    {
      "cell_type": "markdown",
      "metadata": {
        "id": "9DIs4eUz-M5m"
      },
      "source": [
        "**문제 395. 위에서 만든 coin_cnt 함수에 아래의 a리스트의 요소들을 적용해서 결과로 확률이 출력되게 하시오**\n",
        "~~~\n",
        "a = [10, 100, 1000, 10000 ]\n",
        "결과: [0.481, 0.4939, 0.5211, 0.51111, 0.50123]\n",
        "~~~"
      ]
    },
    {
      "cell_type": "code",
      "metadata": {
        "colab": {
          "base_uri": "https://localhost:8080/"
        },
        "id": "iskNF680-kMw",
        "outputId": "a47ac722-e29f-47b5-ee7d-125b340ee86d"
      },
      "source": [
        "import random\n",
        "\n",
        "a = [10, 100, 1000, 10000 ]\n",
        "\n",
        "def coin_cnt( num ):\n",
        "    coin = ['앞면', '뒷면']\n",
        "    cnt = 0\n",
        "    for i in range(1, num+1):\n",
        "        result = random.choice(coin)\n",
        "        if result == '앞면':\n",
        "            cnt += 1\n",
        "    return cnt / num\n",
        "    \n",
        "result = list( map( coin_cnt, a) )\n",
        "print( result )"
      ],
      "execution_count": 15,
      "outputs": [
        {
          "output_type": "stream",
          "text": [
            "[0.6, 0.42, 0.476, 0.4982]\n"
          ],
          "name": "stdout"
        }
      ]
    },
    {
      "cell_type": "markdown",
      "metadata": {
        "id": "zQ1p_GI1_Ryc"
      },
      "source": [
        "**문제 396. 주사위를 던져서 주사위의 눈이 5가 나올 확률을 출력하는 함수를 만들고 아래의 a리스트의 주사위를 던지는 횟수를 map함수로 적용해서 확률이 점점 1/6로 근사해지는 지 실험하시오** \n",
        "~~~\n",
        "a=[10, 100, 1000, 10000, 100000]\n",
        "result = map( dice_cnt,a )\n",
        "print( list( result ) )\n",
        "~~~"
      ]
    },
    {
      "cell_type": "code",
      "metadata": {
        "colab": {
          "base_uri": "https://localhost:8080/"
        },
        "id": "aBl5kHgz_iRv",
        "outputId": "ee723803-fc99-4301-b035-9882aed48f00"
      },
      "source": [
        "import random\n",
        "\n",
        "a = [10, 100, 1000, 10000, 100000]\n",
        "\n",
        "def dice_cnt( num ):\n",
        "    dice = [1, 2, 3, 4, 5, 6]\n",
        "    cnt = 0\n",
        "    for i in range(1, num+1):\n",
        "        result = random.choice(dice)\n",
        "        if result == 5:\n",
        "            cnt += 1\n",
        "    return cnt / num\n",
        "\n",
        "result = map( dice_cnt,a )\n",
        "print( list( result ) )"
      ],
      "execution_count": 17,
      "outputs": [
        {
          "output_type": "stream",
          "text": [
            "[0.0, 0.17, 0.164, 0.1657, 0.16911]\n"
          ],
          "name": "stdout"
        }
      ]
    },
    {
      "cell_type": "markdown",
      "metadata": {
        "id": "F1l81mIkA4bt"
      },
      "source": [
        "**문제 397. 아래의 불량품이 들어있는 박스에서 제품을 3개를 뽑았을 때 3개 중에 2개가 불량품일 확률은 출력하는 함수를 만드시오**  \n",
        "(함수를 실행할 때 3개를 뽑은 횟수를 입력 매개변수로 사용하시오)"
      ]
    },
    {
      "cell_type": "code",
      "metadata": {
        "colab": {
          "base_uri": "https://localhost:8080/"
        },
        "id": "tBVwXH1FBNHE",
        "outputId": "42678ca7-75c3-4a3d-d9e7-ac364adcacb1"
      },
      "source": [
        "import numpy as np\n",
        "\n",
        "def box_f( num ):\n",
        "    box = ['정상', '정상', '불량품', '정상', '불량품', '정상', '정상', '불량품']\n",
        "    cnt = 0\n",
        "    for i in range(1, num+1):\n",
        "        result = np.random.choice(box,3)\n",
        "        result = list(result)\n",
        "        if result.count('불량품') == 2:\n",
        "            cnt += 1\n",
        "    return cnt / num\n",
        "\n",
        "print(box_f(100))"
      ],
      "execution_count": 23,
      "outputs": [
        {
          "output_type": "stream",
          "text": [
            "0.2\n"
          ],
          "name": "stdout"
        }
      ]
    },
    {
      "cell_type": "markdown",
      "metadata": {
        "id": "M4ctB5LIGKym"
      },
      "source": [
        "**문제 위에서 만든 box_cnt 함수에 아래의 a 리스트의 횟수를 map 함수로 적용해서 확률이 출력되게 하시오!**\n",
        "~~~\n",
        "a = [ 10, 100, 1000, 10000 ]\n",
        "result = map( box_cnt, a )\n",
        "print(result)\n",
        "~~~"
      ]
    },
    {
      "cell_type": "code",
      "metadata": {
        "colab": {
          "base_uri": "https://localhost:8080/"
        },
        "id": "y7EkVXhEGpgB",
        "outputId": "30ba4cc5-d05f-4c60-b72c-8aa62ff41a65"
      },
      "source": [
        "import numpy as np\n",
        "\n",
        "a = [ 10, 100, 1000, 10000 ]\n",
        "\n",
        "def box_f( num ):\n",
        "    box = ['정상', '정상', '불량품', '정상', '불량품', '정상', '정상', '불량품']\n",
        "    cnt = 0\n",
        "    for i in range(1, num+1):\n",
        "        result = np.random.choice(box,3)\n",
        "        result = list(result)\n",
        "        if result.count('불량품') == 2:\n",
        "            cnt += 1\n",
        "    return cnt / num\n",
        "\n",
        "result = map( box_f, a )\n",
        "print( list(result) )"
      ],
      "execution_count": 27,
      "outputs": [
        {
          "output_type": "stream",
          "text": [
            "[0.3, 0.35, 0.286, 0.2604]\n"
          ],
          "name": "stdout"
        }
      ]
    },
    {
      "cell_type": "markdown",
      "metadata": {
        "id": "tKByXzLzFmHb"
      },
      "source": [
        "#133. 텍스트 파일을 읽고 출력하기(read)\n",
        "- 텍스트 파일을 읽고 그 내용을 화면에 출력하고자 하면 제일 먼저 텍스트 읽기 모드로 파일을 연다.\n",
        "- 그 파일을 오픈하면 텍스트 파일을 읽어 내용을 화면에 출력하면 됨\n"
      ]
    },
    {
      "cell_type": "code",
      "metadata": {
        "colab": {
          "resources": {
            "http://localhost:8080/nbextensions/google.colab/files.js": {
              "data": "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",
              "ok": true,
              "headers": [
                [
                  "content-type",
                  "application/javascript"
                ]
              ],
              "status": 200,
              "status_text": ""
            }
          },
          "base_uri": "https://localhost:8080/",
          "height": 72
        },
        "id": "m--KZZ0YCKkT",
        "outputId": "42459709-b24f-42c8-f06d-22b80471ea86"
      },
      "source": [
        "from google.colab import files\n",
        "file = files.upload()"
      ],
      "execution_count": 30,
      "outputs": [
        {
          "output_type": "display_data",
          "data": {
            "text/html": [
              "\n",
              "     <input type=\"file\" id=\"files-61188a41-4488-4309-9ffe-9b857b52485d\" name=\"files[]\" multiple disabled\n",
              "        style=\"border:none\" />\n",
              "     <output id=\"result-61188a41-4488-4309-9ffe-9b857b52485d\">\n",
              "      Upload widget is only available when the cell has been executed in the\n",
              "      current browser session. Please rerun this cell to enable.\n",
              "      </output>\n",
              "      <script src=\"/nbextensions/google.colab/files.js\"></script> "
            ],
            "text/plain": [
              "<IPython.core.display.HTML object>"
            ]
          },
          "metadata": {
            "tags": []
          }
        },
        {
          "output_type": "stream",
          "text": [
            "Saving jobs.txt to jobs.txt\n"
          ],
          "name": "stdout"
        }
      ]
    },
    {
      "cell_type": "code",
      "metadata": {
        "colab": {
          "base_uri": "https://localhost:8080/"
        },
        "id": "b1ZsgseKHl8_",
        "outputId": "1f034a21-82a9-49b6-95e8-05543cdd8cbf"
      },
      "source": [
        "f = open(\"jobs.txt\", encoding='UTF8')\n",
        "data = f.read()\n",
        "print( data )\n",
        "f.close()\n",
        "# 이 파일은 길지 않으므로 한번에 읽어와도 관계 없지만 텍스트 용량이 매우 클 경우 read()로 한꺼번에 파일의 내용을 읽어들이는 것은 메모리 문제를 야기시킬 수 있음\n",
        "# 웹에서 스크롤링한 데이터를 분석하고자 할 때 위와 같이 open 함수를 이용해서 파이썬으로 데이터를 불러옴"
      ],
      "execution_count": 31,
      "outputs": [
        {
          "output_type": "stream",
          "text": [
            "steve jobs'2005 stanford commencement address\n",
            "I am honored to be with you today at your commencement from one of the finest universities in the world. \n",
            "I never graduated from college. \n",
            "Truth be told, this is the closest I've ever gotten to a college graduation. \n",
            "Today I want to tell you three stories from my life. \n",
            "That's it. \n",
            "No big deal. \n",
            "Just three stories. \n",
            "The first story is about connecting the dots. \n",
            "I dropped out of Reed College after the first 6 months, but then stayed around as a drop-in for another 18 months or so before I really quit. \n",
            "So why did I drop out? \n",
            "It started before I was born. \n",
            "My biological mother was a young, unwed college graduate student, and she decided to put me up for adoption. \n",
            "She felt very strongly that I should be adopted by college graduates, so everything was all set for me to be adopted at birth by a lawyer and his wife. \n",
            "Except that when I popped out they decided at the last minute that they really wanted a girl. \n",
            "So my parents, who were on a waiting list, got a call in the middle of the night asking: \n",
            "\"We have an unexpected baby boy; \n",
            "do you want him?\" \n",
            "They said: \n",
            "\"Of course.\" \n",
            "My biological mother later found out that my mother had never graduated from college and that my father had never graduated from high school. She refused to sign the final adoption papers. \n",
            "She only relented a few months later when my parents promised that I would someday go to college. \n",
            "And 17 years later I did go to college. \n",
            "But I naively chose a college that was almost as expensive as Stanford, and all of my working-class parents' savings were being spent on my college tuition. \n",
            "After six months, I couldn't see the value in it. \n",
            "I had no idea what I wanted to do with my life and no idea how college was going to help me figure it out. \n",
            "And here I was spending all of the money my parents had saved their entire life. \n",
            "So I decided to drop out and trust that it would all work out OK. \n",
            "It was pretty scary at the time, but looking back it was one of the best decisions I ever made. \n",
            "The minute I dropped out I could stop taking the required classes that didn't interest me, and begin dropping in on the ones that looked interesting.  \n",
            "It wasn't all romantic. \n",
            "I didn't have a dorm room, so I slept on the floor in friends' rooms, I returned coke bottles for the 5￠ deposits to buy food with, and I would walk the 7 miles across town every Sunday night to get one good meal a week at the Hare Krishna temple. \n",
            "I loved it. \n",
            "And much of what I stumbled into by following my curiosity and intuition turned out to be priceless later on. \n",
            "Let me give you one example: \n",
            "Reed College at that time offered perhaps the best calligraphy instruction in the country. \n",
            "Throughout the campus every poster, every label on every drawer, was beautifully hand calligraphed. \n",
            "Because I had dropped out and didn't have to take the normal classes, I decided to take a calligraphy class to learn how to do this. \n",
            "I learned about serif and san serif typefaces, about varying the amount of space between different letter combinations, about what makes great typography great. \n",
            "It was beautiful, historical, artistically subtle in a way that science can't capture, and I found it fascinating. \n",
            "None of this had even a hope of any practical application in my life. \n",
            "But ten years later, when we were designing the first Macintosh computer, it all came back to me. \n",
            "And we designed it all into the Mac. It was the first computer with beautiful typography. \n",
            "If I had never dropped in on that single course in college, the Mac would have never had multiple typefaces or proportionally spaced fonts. \n",
            "And since Windows just copied the Mac, its likely that no personal computer would have them. \n",
            "If I had never dropped out, I would have never dropped in on this calligraphy class, and personal computers might not have the wonderful typography that they do. \n",
            "Of course it was impossible to connect the dots looking forward when I was in college. \n",
            "But it was very, very clear looking backwards ten years later. \n",
            "Again, you can't connect the dots looking forward; you can only connect them looking backwards. \n",
            "So you have to trust that the dots will somehow connect in your future. \n",
            "You have to trust in something - your gut, destiny, life, karma, whatever. \n",
            "This approach has never let me down, and it has made all the difference in my life. \n",
            "My second story is about love and loss. \n",
            "I was lucky ? \n",
            "I found what I loved to do early in life. \n",
            "Woz and I started Apple in my parents garage when I was 20. \n",
            "We worked hard, and in 10 years Apple had grown from just the two of us in a garage into a $2 billion company with over 4000 employees. \n",
            "We had just released our finest creation - the Macintosh - a year earlier, and I had just turned 30. \n",
            "And then I got fired. How can you get fired from a company you started? \n",
            "Well, as Apple grew we hired someone who I thought was very talented to run the company with me, and for the first year or so things went well. \n",
            "But then our visions of the future began to diverge and eventually we had a falling out. \n",
            "When we did, our Board of Directors sided with him. \n",
            "So at 30 I was out. And very publicly out. \n",
            "What had been the focus of my entire adult life was gone, and it was devastating. \n",
            "I really didn't know what to do for a few months. \n",
            "I felt that I had let the previous generation of entrepreneurs down - that I had dropped the baton as it was being passed to me. \n",
            "I met with David Packard and Bob Noyce and tried to apologize for screwing up so badly. \n",
            "I was a very public failure, and I even thought about running away from the valley. \n",
            "But something slowly began to dawn on me ? \n",
            "I still loved what I did. \n",
            "The turn of events at Apple had not changed that one bit. \n",
            "I had been rejected, but I was still in love. \n",
            "And so I decided to start over. \n",
            "I didn't see it then, but it turned out that getting fired from Apple was the best thing that could have ever happened to me. \n",
            "The heaviness of being successful was replaced by the lightness of being a beginner again, less sure about everything. \n",
            "It freed me to enter one of the most creative periods of my life.  \n",
            "During the next five years, I started a company named NeXT, another company named Pixar, and fell in love with an amazing woman who would become my wife. \n",
            "Pixar went on to create the worlds first computer animated feature film, Toy Story, and is now the most successful animation studio in the world. \n",
            "In a remarkable turn of events, Apple bought NeXT, I retuned to Apple, and the technology we developed at NeXT is at the heart of Apple's current renaissance. \n",
            "And Laurene and I have a wonderful family together.  \n",
            "I'm pretty sure none of this would have happened if I hadn't been fired from Apple. \n",
            "It was awful tasting medicine, but I guess the patient needed it. \n",
            "Sometimes life hits you in the head with a brick. Don't lose faith. \n",
            "I'm convinced that the only thing that kept me going was that I loved what I did. \n",
            "You've got to find what you love. And that is as true for your work as it is for your lovers. \n",
            "Your work is going to fill a large part of your life, and the only way to be truly satisfied is to do what you believe is great work. \n",
            "And the only way to do great work is to love what you do. \n",
            "If you haven't found it yet, keep looking. \n",
            "Don't settle. \n",
            "As with all matters of the heart, you'll know when you find it. \n",
            "And, like any great relationship, it just gets better and better as the years roll on. \n",
            "So keep looking until you find it. Don't settle.   \n",
            "My third story is about death. \n",
            "When I was 17, I read a quote that went something like: \n",
            "\"If you live each day as if it was your last, someday you'll most certainly be right.\" \n",
            "It made an impression on me, and since then, for the past 33 years, I have looked in the mirror every morning and asked myself: \n",
            "\"If today were the last day of my life, would I want to do what I am about to do today?\" \n",
            "And whenever the answer has been \"No\" for too many days in a row, I know I need to change something. \n",
            "Remembering that I'll be dead soon is the most important tool I've ever encountered to help me make the big choices in life. \n",
            "Because almost everything ? \n",
            "all external expectations, all pride, all fear of embarrassment or failure - these things just fall away in the face of death, leaving only what is truly important. \n",
            "Remembering that you are going to die is the best way I know to avoid the trap of thinking you have something to lose. \n",
            "You are already naked. \n",
            "There is no reason not to follow your heart. \n",
            "About a year ago I was diagnosed with cancer. \n",
            "I had a scan at 7:30 in the morning, and it clearly showed a tumor on my pancreas. \n",
            "I didn't even know what a pancreas was. \n",
            "The doctors told me this was almost certainly a type of cancer that is incurable, and that I should expect to live no longer than three to six months. \n",
            "My doctor advised me to go home and get my affairs in order, which is doctor's code for prepare to die. \n",
            "It means to try to tell your kids everything you thought you'd have the next 10 years to tell them in just a few months. It means to make sure everything is buttoned up so that it will be as easy as possible for your family. \n",
            "It means to say your goodbyes. \n",
            "I lived with that diagnosis all day. \n",
            "Later that evening I had a biopsy, where they stuck an endoscope down my throat, through my stomach and into my intestines, put a needle into my pancreas and got a few cells from the tumor. \n",
            "I was sedated, but my wife, who was there, told me that when they viewed the cells under a microscope the doctors started crying because it turned out to be a very rare form of pancreatic cancer that is curable with surgery. \n",
            "I had the surgery and I'm fine now. \n",
            "This was the closest I've been to facing death, and I hope its the closest I get for a few more decades. \n",
            "Having lived through it, I can now say this to you with a bit more certainty than when death was a useful but purely intellectual concept: \n",
            "No one wants to die. Even people who want to go to heaven don't want to die to get there. \n",
            "And yet death is the destination we all share. \n",
            "No one has ever escaped it. \n",
            "And that is as it should be, because Death is very likely the single best invention of Life. \n",
            "It is Life's change agent. \n",
            "It clears out the old to make way for the new. \n",
            "Right now the new is you, but someday not too long from now, you will gradually become the old and be cleared away. \n",
            "Sorry to be so dramatic, but it is quite true.  \n",
            "Your time is limited, so don't waste it living someone else's life. \n",
            "Don't be trapped by dogma - which is living with the results of other people's thinking. \n",
            "Don't let the noise of other's opinions drown out your own inner voice. \n",
            "And most important, have the courage to follow your heart and intuition. \n",
            "They somehow already know what you truly want to become. Everything else is secondary. \n",
            "When I was young, there was an amazing publication called The Whole Earth Catalog, which was one of the bibles of my generation. \n",
            "It was created by a fellow named Stewart Brand not far from here in Menlo Park, and he brought it to life with his poetic touch. \n",
            "This was in the late 1960's, before personal computers and desktop publishing, so it was all made with typewriters, scissors, and polaroid cameras. \n",
            "It was sort of like Google in paperback form, 35 years before Google came along: it was idealistic, and overflowing with neat tools and great notions. \n",
            "Stewart and his team put out several issues of The Whole Earth Catalog, and then when it had run its course, they put out a final issue. It was the mid-1970s, and I was your age. \n",
            "On the back cover of their final issue was a photograph of an early morning country road, the kind you might find yourself hitchhiking on if you were so adventurous. \n",
            "Beneath it were the words: \n",
            "\"Stay Hungry. Stay Foolish.\" \n",
            "It was their farewell message as they signed off. \n",
            "Stay Hungry. Stay Foolish. \n",
            "And I have always wished that for myself. \n",
            "And now, as you graduate to begin anew, I wish that for you. \n",
            "Stay Hungry. Stay Foolish. \n",
            "Thank you all very much. \n"
          ],
          "name": "stdout"
        }
      ]
    },
    {
      "cell_type": "markdown",
      "metadata": {
        "id": "n1toI26_JjGk"
      },
      "source": [
        "**문제 399. 중앙일보에서 인공지능으로 검색한 기사인 mydata3.txt를 파이썬으로 불러서 출력하시오!**"
      ]
    },
    {
      "cell_type": "code",
      "metadata": {
        "colab": {
          "resources": {
            "http://localhost:8080/nbextensions/google.colab/files.js": {
              "data": "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",
              "ok": true,
              "headers": [
                [
                  "content-type",
                  "application/javascript"
                ]
              ],
              "status": 200,
              "status_text": ""
            }
          },
          "base_uri": "https://localhost:8080/",
          "height": 72
        },
        "id": "3wgTvwn3Juqr",
        "outputId": "5758db3a-6807-4e2e-8f70-548866819687"
      },
      "source": [
        "f = files.upload()"
      ],
      "execution_count": 32,
      "outputs": [
        {
          "output_type": "display_data",
          "data": {
            "text/html": [
              "\n",
              "     <input type=\"file\" id=\"files-07db7140-ef15-4967-b635-e655b09d5d53\" name=\"files[]\" multiple disabled\n",
              "        style=\"border:none\" />\n",
              "     <output id=\"result-07db7140-ef15-4967-b635-e655b09d5d53\">\n",
              "      Upload widget is only available when the cell has been executed in the\n",
              "      current browser session. Please rerun this cell to enable.\n",
              "      </output>\n",
              "      <script src=\"/nbextensions/google.colab/files.js\"></script> "
            ],
            "text/plain": [
              "<IPython.core.display.HTML object>"
            ]
          },
          "metadata": {
            "tags": []
          }
        },
        {
          "output_type": "stream",
          "text": [
            "Saving mydata3.txt to mydata3.txt\n"
          ],
          "name": "stdout"
        }
      ]
    },
    {
      "cell_type": "code",
      "metadata": {
        "colab": {
          "base_uri": "https://localhost:8080/"
        },
        "id": "C1hT-uHoIbpR",
        "outputId": "8249aeef-6aa7-4c86-f655-efa700d7e882"
      },
      "source": [
        "f = open(\"mydata3.txt\", encoding='UTF8')\n",
        "data = f.read() # 파일을 한번에 전부 읽어오는 함수\n",
        "print( data )\n",
        "f.close()  # 파일을 닫는다. 닫는 코드를 안쓰면 스파이더를 실행하고 있으면 계속 파일이 열려있게 됨\n",
        "           # 파일을 계속 열면 메모리를 계속 차지하고 사용있게 되어 메모리를 지속적으로 사용하게 됨\n"
      ],
      "execution_count": 33,
      "outputs": [
        {
          "output_type": "stream",
          "text": [
            "신한은행, 클라우드 기반 인공지능 코어 플랫폼 금융권 최초로 상용화신한은행이 클라우드 기반의 인공지능(AI) 코어 플랫폼을 금융권 최초로 상용화했다. 빅데이터센터 직원이 AI 코어 플랫폼을 이용한 분석 화면을 모니터링하고 있다.\n",
            "\n",
            "박지호기자 jihopress@etnews.comBIM?인공지능 건설자동화 기술 2025년까지 개발.. 건설 사망자 30%...정부가 인공지능(AI)과 빌딩정보시스템(BIM)을 활용한 건설 자동화 기술을 2025년까지 개발한다. BIM 활용을 유도하기 위해 2020년까지 500억원 이상 도로 사업에 BIM 설계를 의무화한다. 첨단 기술로 건설현장 노동생산성을 40% 향상시키고, 안전사고로 인한 사망자 수를 30% 줄인다.\n",
            "\n",
            "국토교통부는 향후 5년간(2018～2022년) 건설기술정책 로드맵인 '제6차 건설기술진흥 기본계획'을 수립했다고 2일 밝혔다.\n",
            "\n",
            "국내 건설산업은 전통산업 이미지를 벗어나지 못하고 있다. 생산성이 20년 간 정체돼 선진국의 3분의 1 수준에 불과하다. 최저가 경쟁이 만연한데다 국내총생산(GDP) 대비 건설 투자 비중이 지속 감소했다. 정부는 BIM·AI·드론·로봇 등 첨단기술을 건설에 접목해 생산성과 안전성을 높인다.\n",
            "\n",
            "4차 산업혁명에 대응하는 스마트 건설기술을 2025년까지 개발한다. 3차원 설계 기술인 BIM을 활용해 가상현실(VR)로 시공한 후 3D 프린터를 활용해 공장에서 건설 부재를 모듈화 제작한다. AI를 탑재한 건설 로봇이 조립·시공하는 방식이다.\n",
            "\n",
            "BIM은 시뮬레이션을 통해 설계 단계부터 잘못된 부분을 수정한다. 공기 단축과 비용 절감 효과가 크다. 건물 설비 교환 주기와 에너지 소비량 등도 효과적으로 관리한다.\n",
            "\n",
            "BIM을 확산시키기 위해 설계 기준과 매뉴얼을 마련한다. 500억원 이상 도로사업에 BIM 설계를 의무화한다. 드론·사물인터넷(IoT)센서·마이크로로봇 등을 활용해 시설물 이상 여부를 신속하게 감지·대응하는 시스템도 개발한다.올 해부터 건설 엔지니어링 발주 제도를 기술 변별력을 강화한 종합심사낙찰제로 전면 개편한다. 현행 정량·절대평가 위주에서 용역을 수행할 전문적인 역량 등 기술력 중심의 정성·상대평가로 전환한다. 가격보다는 기술 경쟁을 통해 낙찰자를 선정한다.\n",
            "\n",
            "노후 시설물을 선제적으로 유지관리하기 위해 '지속가능한 기반시설 관리기본법' 제정도 추진한다. 지난해 11월 조정식 더불어민주당 의원이 관련 법안을 발의했다.\n",
            "\n",
            "국토부 관계자는 “국내 건설산업이 고부가가치 미래산업으로 도약하기 위해서는 4차 산업혁명 기술을 활용한 첨단 기술과 융합이 필수”라고 강조했다.문보경 산업정책부(세종)기자 okmun@etnews.comCES 주역은 AI..삼성·LG·구글 '왕좌의 게임'9일(현지시간) 미국 라스베이거스에서 개막하는 세계 최대 전자·IT 전시회 'CES 2018'에서 인공지능(AI) 플랫폼 기술 경쟁이 펼쳐진다. AI 분야에서 세계 최고 수준 기술을 갖춘 기업 중 하나인 구글이 CES에 최초로 참가한다. 아마존, 인텔은 물론이고, 삼성전자와 LG전자도 AI 기술을 핵심으로 내세운다.\n",
            "\n",
            "2일 관련 업계에 따르면 CES 2018에 참가하는 주요 글로벌 기업이 AI를 핵심으로 전시하고, 기술 경쟁을 펼친다. 특히 올해는 기술 시연 수준의 제품을 넘어 일상에서 사용하는 제품에 AI를 접목한 제품이 대거 등장할 예정이다.\n",
            "\n",
            "삼성전자는 자체 인공지능 플랫폼 '빅스비'를 고도화하고, 스마트폰과 가전 등 다양한 기기로 적용 영역을 확대한다. 빅스비와 사물인터넷(IoT), 음성인식을 결합해 삼성전자 기기간 연결성 확대와 이를 통한 시너지를 보여줄 계획이다. CES 전시 주제도 '원삼성'으로 정하고, 각각의 제품을 강조하는 대신 삼성전자 제품이 구현하는 생태계를 강조한다. 인공지능 반도체 등 신기술을 선보일지도 관심사다.LG전자는 CES 전시관 메인으로 새 인공지능 브랜드 '씽큐'를 낙점했다. LG전자 부스 면적 중 3분의 1을 'LG 씽큐존'에 할애할 정도로 비중을 뒀다. AI와 IoT 시대가 되면서 개별 제품을 강조하기 보다는 각 제품을 연결해 제공하는 더 큰 가치를 보여주겠다는 전략이다.\n",
            "\n",
            "씽큐존에서는 독자 개발 인공지능 플랫폼 '딥씽큐(DeepThinQ)'는 물론이고, 오픈 플랫폼 전략에 따라 외부 AI 플랫폼을 적용한 다양한 제품도 함께 선보인다. 특히 집 내부를 연출한 'LG 씽큐 스위트(ThinQ Suite)'에서는 LG 인공지능 제품과 함께 하는 일상생활을 시연한다.\n",
            "\n",
            "CES에 처음 자체 전시부스를 마련해 참가하는 구글이 어떤 전시를 선보일지도 관심사다. 구글은 스마트폰 등 기기는 물론이고, AI 스피커 '구글홈'과 AI 비서 '구글 어시스턴트' 등을 선보일 것으로 예상된다. 자체 AI 기술을 적용한 새 하드웨어를 공개할지도 주목된다.\n",
            "\n",
            "구글 자체 부스외에도 구글 어시스턴트를 통한 협업 전시는 전시장 곳곳에서 확인할 수 있다. LG전자 씽큐존에도 구글 어시스턴트 접목 제품이 전시될 예정이다.\n",
            "\n",
            "지난해 CES 2017에서 큰 관심을 받았던 아마존 AI 비서 '알렉사' 진화형도 관심을 끈다. 올해 적용 영역을 어디까지 확대하고, 얼마나 진화한 제품과 서비스를 선보일지 주목된다.\n",
            "\n",
            "전자업계 관계자는 “AI 기술은 스마트폰과 가전, 스피커 등과 결합해 이미 일상에서 사용하는 기술로 들어왔다”면서 “올해 CES에서는 더 많은 기기와 서비스에 AI가 결합된 것을 보게 될 것”이라고 말했다.권건호 전자산업 전문기자 wingh1@etnews.com삼성전자, C랩 우수과제 CES에 선보인다삼성전자가 세계 최대 전자·IT전시회 'CES 2018'에서 C랩 우수 과제와 C랩을 통해 창업한 스타트업 기업 기술과 제품을 선보인다고 2일 밝혔다.\n",
            "\n",
            "삼성전자는 미국 라스베이거스 샌즈 엑스포에 C랩 전시관을 마련하고, 9일부터 12일까지 CES 기간 동안 이들 과제를 소개할 계획이다.\n",
            "\n",
            "CES 2018에서 첫 선을 보이는 C랩 우수 과제는 △휴대용 지향성 스피커 'S레이(S-RAY)' △폐 합병증을 예방하는 호흡재활 솔루션 'Go브레쓰(GoBreath)' △저시력 장애인을 위한 시각보조솔루션 '릴루미노(Relumino) 글래스' 등이다.\n",
            "\n",
            "'S레이'는 주변에는 소리가 들리지 않고 스피커 앞 사용자만 들을 수 있게 해주는 휴대용 지향성 스피커다. 장시간 이어폰 사용으로 귀에 피로감을 느끼거나 야외에서 스피커를 사용하고 싶지만 주변에 소음 피해를 줄까 우려했던 사람들을 위한 제품이다. 목에 착용 가능한 넥밴드 타입, 원하는 장소에 쉽게 탈착할 수 있는 초소형 핸디타입, 스마트폰에 장착 가능한 커버타입 등을 선보인다.\n",
            "\n",
            "'Go브레쓰'는 전신 마취 수술 후 발생할 수 있는 폐 합병증을 예방하기 위해 만든 호흡 재활솔루션이다. 전신 마취를 하면 폐가 자가호흡을 하지 못해 기능이 약화되기 때문에 수술 후 폐호흡 운동을 꼭 해야 한다. 'Go브레쓰'는 전용 기기와 앱을 통해 환자가 호흡운동을 할 수 있게 하며, 호흡 운동 상태와 회복 정도도 확인할 수 있다. 의사가 환자 운동 상태를 모니터링할 수 있는 서비스도 제공한다.\n",
            "\n",
            "'릴루미노'는 저시력 장애인이 사물을 더 또렷하게 볼 수 있도록 도와주는 시각보조 솔루션이다. CES에서는 기존 기어VR용 시각보조 앱 외에 선글라스 형태 '릴루미노 글래스' 시제품을 처음 선보인다. 릴루미노 글래스는 스마트폰과 연결해 사용한다. 안경에 장착된 카메라로 보이는 영상을 스마트폰으로 전송하고, 스마트폰에서 릴루미노만의 이미지 처리 알고리즘을 거쳐 다시 글래스 내부 디스플레이에 보여주는 방식이다. 스마트폰 프로세서와 배터리를 활용해 더 가볍고 편하게 릴루미노 글래스를 착용할 수 있도록 했다.\n",
            "\n",
            "이와 함께 C랩에서 스핀오프한 7개 스타트업 기업도 참가해 세계시장 진출 기회를 타진할 예정이다.\n",
            "\n",
            "CES 2018에는 △일인칭 시점 넥밴드 타입 웨어러블 360도 카메라 '링크플로우' △어린이를\n",
            "\n",
            "위한 증강현실(AR) 스마트 칫솔 '키튼플래닛' △얼굴 피부를 분석하고 관리해 주는 인공지능 솔루션 '룰루랩' △좋은 습관을 형성시켜 주는 어린이용 스마트워치 '키즈소프트' △점착 메모지에 출력하는 소형 스마트 프린터 '망고슬래브' △손가락을 귀 옆에 대고 통화하는 스마트 시계줄 '이놈들연구소' △헬멧 사용자를 위한 스마트 커뮤니케이션 기기 '아날로그플러스'가 참가한다.\n",
            "\n",
            "특히 링크플로우의 웨어러블 카메라 '핏360'은 CES 2018 디지털이미징 부문에서 혁신상을 수상했다.\n",
            "\n",
            "권건호 전자산업 전문기자 wingh1@etnews.com[2018 신년기획]금융업계도 인공지능으로 승부2018년 금융은 핀테크에 이어 기술혁명의 접목이 본격화될 것으로 보인다. 지난 2~3년 간편결제, P2P대출, 크라우드펀딩, 로보어드바이저 등 핀테크와 비트코인 같은 새로운 디지털상품이 약진했다. 앞으론 이뿐만 아니라 빅 데이터, 인공지능, 블록체인과 같은 인프라 기술혁명의 도입과 활용도 빨라질 전망이다.\n",
            "\n",
            "빅데이터는 4차 산업혁명시대의 원유라 불릴 정도로 핵심 분야지만, 금융분야는 그동안 개인정보보안 이슈에 묶여 기술개발과 활용이 제한적이었다. 그러나 이젠 금융에서도 빅데이터 활용경쟁이 본격화될 가능성이 높다. 단초는 올해부터 유럽에서 도입하기로 한 결제서비스지침(PSD2). 당사자 동의에 따라 소비자 금융정보이전을 허용함으로써, 소비자편익을 높일 수 있는 다양한 금융서비스경쟁을 유도한다는 게 골자다.\n",
            "\n",
            "미국에서도 이런 움직임이 구체화되고 있는 만큼, 글로벌 금융시장에선 2018년이 금융 빅 데이터 활용원년이 될 거란 얘기가 나온다. 우리나라도 빅데이터가 금융부문 혁신성장의 핵심이슈인 점을 감안하면 향후 이에 대한 정부의 적극적 규제완화와 업계에서의 빅 데이터 구축, 활용이 화두가 될 전망이다.\n",
            "\n",
            "인공지능에 대한 관심도 더욱 높아질 전망이다. 이미 기술적 완성도가 높은 미국에선 금융회사들의 영업부문에서 부정거래 잡아내기, 고객 신용도평가, 챗봇(Chatbot)을 통한 대고객서비스제공 등이 확대되고 있다. 일부 대형사에선 영업뿐 아니라, 백오피스업무에도 인공지능기술을 활용한다. 소위 RPA(로보틱스 프로세스 오토메이션). 한마디로 직원이 컴퓨터에서 행하는 작업절차를 소프트웨어로 개발, 자동화시키는 기술이다.\n",
            "\n",
            "예컨대 제이피모건체이스는 법인대출계약서 내용을 자동확인하는 COIN이란 소프트웨어로 연 36만시간 걸리던 작업시간을 단 몇 초에 끝내는 엄청난 효과를 올리고 있다고 한다. 새해 우리 금융업계도 인공지능을 통한 서비스경쟁이 거세질 것으로 보인다.\n",
            "\n",
            "우선 뱅킹부문은 챗봇 차별화가 예상된다. 일반상담뿐 아니라 가계장부, 자산관리 등 서비스다양화 경쟁이 빨라질 전망이다. 미국 등 글로벌 자산운용업계에선 로보어드바이저의 성장세가 대단하다. 자본시장의 글로벌 경쟁력제고를 위해선 대형증권사뿐 아니라 로보어드바이저 육성을 적극 고려할만하다. 경쟁력만 있으면 소규모업체로도 세계를 제패할 수 있기 때문이다. 보다 적극적인 정부의 비대면거래 규제완화가 필요한 이유다.\n",
            "\n",
            "마지막으로 '20세기가 인터넷이라면 21세기는 블록체인'이라고 한다. 그만큼 블록체인이 경제와 시장구조를 통째로 바꿀 수 있는 혁명적 파워가 있단 얘기다. 핵심은 블록체인의 위변조 보안능력. 블록자체가 거래의 위변조위험을 제거할 수 있기 때문에 헤드쿼터(CPU) 또는 제 3자 검증비용이 불필요하다. 특히 다가오는 사물인터넷(IoT)시대엔 사물간의 금융거래도 엄청 늘기 때문에 거래비용축소가 필수다. 정부는 블록체인 적극육성방침이다. 문제는 업계. R3 프로젝트, 비자마스터의 블록체인기반 기업결제서비스 출시 등 글로벌 경쟁이 거세질 것인 만큼, 내부 인센티브 제공 등 적극적 업계대응이 요망된다.\n",
            "\n",
            "정유신 서강대 기술경영대학원장 겸 핀테크지원센터장 ysjung1617@sogang.ac.krLG전자, CES서 인공지능 브랜드 '씽큐' 전면 배치LG전자는 9일부터 미국 라스베이거스에서 열리는 'CES 2018'에서 'LG 씽큐(ThinQ) 존'을 조성한다고 1일 밝혔다. LG전자만의 차별화된 통합 인공지능(AI) 경험을 선보인다.\n",
            "\n",
            "LG 씽큐 존은 면적 총 624제곱미터로 LG전자 부스에서 가장 면적이 넓은 전시 존이다. 부스 전체 면적(2044제곱미터)에서 3분의 1을 차지한다. LG전자 전시관 주인공으로 AI 브랜드 '씽큐'를 전면에 내세운다. 이를 위해 기존 TV, 냉장고, 세탁기 등 제품별로 조성했던 전시존 규모를 축소했다.\n",
            "\n",
            "LG전자는 'LG 씽큐 존'에서 독자 개발 AI 플랫폼 '딥씽큐'와 다양한 AI 플랫폼을 탑재한 제품을 선보인다. 무선인터넷(와이파이)로 서로 대화하고, 오픈 플랫폼으로 세상 모든 지식을 활용하고, 딥 러닝 기반으로 스스로 학습하면서 똑똑해지는 인공지능 가전을 구현한다.\n",
            "\n",
            "LG전자는 집 내부를 그대로 연출한 'LG 씽큐 스위트(ThinQ Suite)'에서 'LG AI 제품과 함께 하는 일상 생활'을 시연한다. 고객이 실제 생활에서 매일 경험할 수 있는 상황을 연출, AI로 더 윤택해지는 삶을 보여준다. 방문객이 LG 씽큐 가치를 효과적으로 체감하도록 한다.\n",
            "\n",
            "LG 씽큐 존에서는 소비자가 생활하는 '공간'마다 음성인식 AI 가전이 사물인터넷(IoT)로 연결된 스마트홈을 보여준다. 세탁실에선 음성인식 트윈워시를 비롯해 건조기, 스타일러 등 의류관리가전이 연동하면서 효과적으로 의류를 관리한다. 거실에서는 음성인식 에어컨과 공기청정기가 실내 공기질을 알아서 관리한다. 주방에서는 음성인식 냉장고와 오븐이 냉장고에 있는 재료에 맞춰 요리를 추천하고 해당 조리기능을 자동으로 선택한다.\n",
            "\n",
            "안내로봇, 청소로봇, 잔디깎이 로봇 등 다양한 상업용 로봇도 전시한다.\n",
            "\n",
            "한창희 LG전자 글로벌마케팅센터장은 “집안 모든 가전이 AI를 매일 경험할 수 있는 통로이자 접점”이라며 “LG 씽큐 존을 찾은 고객이 일상 생활 속에서 LG 인공가전을 통해 실질적인 가치를 느끼게 하면서 공감대를 이끌어 낼 것”이라고 강조했다.\n",
            "\n",
            "권동준기자 djkwon@etnews.com[신년설문]한국 산업 경쟁력 '보통'..미래 유망 산업은 'SW·콘텐츠'전자신문은 새해 국내외 경기를 전망하기 위해 산업계 종사자를 대상으로 신년 설문조사를 진행했다. 지난 수년간 경기가 침체되면서 응답자들의 경제 인식은 전반적으로 부정적이었다. 새해 희망적 분위기에도 불구하고 향후 전망 역시 그리 밝게 보지 않았다. 기존 주력산업은 경쟁력이 점점 약화되고 중국 등 경쟁국 부상도 한국 산업계를 흔드는 요인으로 지목됐다.하지만 희망이 없는 것은 아니다. 현재 주력산업인 반도체와 디스플레이는 물론이고 소프트웨어와 콘텐츠 등 새로운 산업이 부상해 향후 먹거리가 될 것으로 기대하는 응답이 많았다. 이를 위한 정부 역할로는 동반성장과 소프트웨어 육성을 위한 정책을 펼쳐야 한다는 의견이 제시됐다.\n",
            "\n",
            "◇물음표 붙은 한국 산업 경쟁력\n",
            "\n",
            "우리나라 산업 경쟁력에 대해 확신을 갖지 못하는 것으로 나타났다. 현재 산업 경쟁력을 묻는 질문에는 '보통'을 꼽은 사람이 절반이 넘는 52%나 됐다. '나쁘다'와 '매우 나쁘다'를 택한 응답자는 27.5%로, '좋다'를 택한 응답자 20.5%보다 많았다. 매우 좋다는 아무도 선택하지 않았다. 40대 응답자는 부정적 의견이 많았던 반면, 20대는 희망적으로 보는 것도 대조적이었다.\n",
            "\n",
            "5년 후 산업 경쟁력을 묻는 질문에도 대답은 현재와 큰 차이가 없는 것으로 집계됐다. 역시 '보통'을 답한 사람이 50%로 최다였다. '좋다'를 선택한 사람은 26%로, '나빠질 것이다'(20%)와 '매우 나빠질 것이다'(4%)를 택한 사람보다 많았다. 소폭이지만 현재보다 나아질 것으로 보는 것으로 풀이된다. 주목할 부분은 40대는 좋아질 것으로 보는 의견이 높았고 20대는 타 집단 대비 나빠질 것으로 보는 의견이 높았다.\n",
            "\n",
            "40대는 현재보다 미래가 좋아질 것으로 보는 반면, 20대는 현재보다 미래가 더 나빠질 것으로 봤다.\n",
            "\n",
            "5년 후 사업 경쟁력이 크게 좋아지지 않을 것으로 보는 이유로는 '주력 산업 경쟁력 상실'(68.8%), '중국 등 경쟁국 부상'(64.6%), '차세대 성장산업 발굴 미흡'(58.3%) 등이 꼽혔다.\n",
            "\n",
            "◇소프트웨어·콘텐츠 산업 유망\n",
            "\n",
            "산업 분야별 경쟁력을 묻는 질문에는 소프트웨어 미래를 밝게 보는 시각이 두드러졌다.\n",
            "\n",
            "현재 가장 경쟁력 있는 산업을 묻자 △소프트웨어, 지식서비스(28.5%) △반도체, 디스플레이 (28%) △인터넷, 콘텐츠(14.5%) 순으로 답했다.\n",
            "\n",
            "향후 한국 경제 성장을 이끌 대표 산업으로는 △소프트웨어, 지식서비스(27%) △인터넷, 콘텐츠(23%) △반도체, 디스플레이(15.5%) 순으로 나타났다.\n",
            "\n",
            "현재 한국 산업을 이끌고 있는 반도체와 디스플레이 산업보다도 소프트웨어나 콘텐츠 산업을 높게 보는 시각이 눈에 띄었다. 반도체와 디스플레이 산업에서 중국 등 경쟁국 추격으로 기술격차가 좁혀진다는 인식이 반영된 것으로 보인다.\n",
            "\n",
            "현재 한국 주력 산업 중 향후 경쟁력이 약화될 것으로 예상되는 산업으로는 '중공업(조선, 자동차, 철강)'(45.5%)이 압도적으로 높은 응답이 나왔다. 두 번째 많은 응답을 받은 '완제품(스마트폰, 가전 등)'(14.5%)보다도 3배 이상 많았다. 조선 산업 경쟁력 상실, 철강 산업에 대한 무역분쟁과 중국 견제, 지난해 자동차 수출 급감 등이 영향을 미친 것으로 분석된다.\n",
            "\n",
            "◇미래 유망기술은 '인공지능'\n",
            "\n",
            "올해를 포함한 가까운 미래에 가장 유망한 기술을 묻는 질문에는 '인공지능(AI)'(31.5%)이 단연 첫 손에 꼽혔다. 40대(42.9%)와 20대(36.4%)에서 특히 응답률이 높았다. 이처럼 높은 응답률이 나온 것은 현재 AI가 스마트폰과 가전, 스피커 등 각종 기기에서부터 자동차까지 다양한 분야에서 적용되기 때문으로 보인다. 또 구글, 애플, 인텔 등 글로벌 기업부터 국내 삼성전자, LG전자, 네이버, 이동통신사 등 다양한 기업이 AI 개발에 뛰어든 것도 영향을 끼쳤다는 평가다.\n",
            "\n",
            "AI에 이어 '사물인터넷'(15.5%), '빅데이터'(11.5%) 등이 유망기술로 꼽혔다.\n",
            "\n",
            "권건호 전자산업 전문기자 wingh1@etnews.com'세개의 눈' 화웨이 P20 렌더링 이미지 살펴보니..후면에 트리플 카메라를 탑재한 화웨이 차세대 전략 스마트폰 렌더링 이미지가 등장했다.\n",
            "\n",
            "중국 정보기술(IT) 전문매체 잔장즈자는 후면에 트리플 카메라를 품은 화웨이 P20 스마트폰 렌더링 이미지가 온라인 커뮤니티를 통해 유출됐다고 보도했다.\n",
            "\n",
            "잔장즈자가 공개한 P20 추정 스마트폰은 화이트, 민트, 핑크 세 가지 색상으로 구분된다. 전면에는 베젤이 거의 없는 디스플레이가 장착됐으며, 애플 아이폰X(텐) 상단의 노치(M자탈모) 디자인도 눈에 띈다.\n",
            "\n",
            "외신은 화웨이가 내달 스페인에서 열리는 모바일월드콩그레스(MWC)에서 P20을 처음 공개한다고 전했다. P20플러스·P20라이트 상표 등록도 완료, 세계 시장에 출시할 것으로 예상된다고 덧붙였다.\n",
            "\n",
            "P20은 6.01인치 디스플레이, 인공지능(AI) 칩셋 기린 970, 6·8기가바이트(GB) 램, 후면 트리플 카메라, 전면 2400만 화소 카메라, 4100mAh 대용량 배터리 등을 탑재한 것으로 알려졌다.\n",
            "\n",
            "외신은 “P20은 화웨이가 자체 개발한 얼굴인식 기능을 갖출 것으로 예상된다”면서 “가격은 4000위안 이상이 될 것”이라고 말했다.최재필기자 jpchoi@etnews.com2018년 블록체인 정책방향과 기술개발 및 비즈니스 모델/기대효과 ...최근, 인공지능과 함께 가장 화두가 되고 있고 제2의 인터넷이라고 불리는 블록체인은 금융뿐만 아니라 사물인터넷, 제조업, 유통, 공유경제, 공공서비스, 미래산업 등 모든 산업분야에서 활용될 수 있는 것으로서 국내에서도 공공기관, 대기업을 중심으로 블록체인 확산에 나서고 있는 가운데 산업교육연구소는 오는 1월 18일(목)부터 19일(금)까지 이틀에 걸쳐 서울 여의도 사학연금회관에서 “2018년 블록체인 정책방향과 기술개발 및 비즈니스 모델/기대효과 세미나”를 개최한다고 밝혔다.\n",
            "\n",
            "1월 18일(금) 세미나에서는 ▲블록체인 기술의 제반 이해 및 응용분야 신비즈니스 영역과 분야별 활용사례 ▲블록체인 국내,외 최근 실태와 기업/기관의 도입 및 비즈니스사례/기대효과 ▲블록체인 기술 확산 기반 마련을 위한 정책 추진 현황 및 향후 방향 ▲블록체인 관련 국내 법률, 제도 및 세부적 이슈와 사업유형별 규제실태 ▲블록체인/분산원장 기술 국제 표준화 최근 분석과 선점 전략을 위한 대응방안 ▲블록체인 기반의 해외송금 및 결제서비스 최근 분석 ▲블록체인의 정보보호 및 기술적 조명과 한국 자본시장의 패러다임 전환 ▲하이퍼렛저 패블릭 1.0기반의 IBM 블록체인 플랫폼 소개와 글로벌 금융사, IT기업 및 일반기업의 도입 현황 방안/사례 ▲블록체인 관련 보안위협 및 대책 등의 주제가 발표된다. \n",
            "\n",
            "1월 19일(금) 세미나에서는 ▲Authentication(인증) 기술기반의 블록체인 플랫폼 소개와 도입 활용방안 및 구축사례 ▲블록체인 기술과 비즈니스의 만남 ▲블록체인 기반 프로젝트 수행을 위한 고려사항 및 방법론 ▲해운, 항만분야 블록체인 도입 추진실태 및 기술 소개와 기대효과 ▲보험분야 블록체인 도입 추진실태 및 기술 소개와 기대효과 ▲의료, 헬스케어분야 블록체인 도입 추진실태 및 기술 소개와 기대효과 ▲자동차, 전력, 에너지분야 블록체인 도입 추진실태 및 기술 소개와 기대효과 ▲KEB하나은행의 블록체인 도입 추진실태 및 기술 소개와 기대효과 등의 주제가 발표된다. \n",
            "\n",
            "산업교육연구소 관계자는 “현 시점에서 우리가 간과해서는 안 될 것은 블록체인 관련 시장이 성장하려면 무엇보다도 소비자 신뢰 확보가 중요하기 때문에 관련 법제 정비는 물론이고 사업화 과정에서 발생할 수 있는 보안 강화가 선결 과제”라고 하면서 “금번 세미나를 통하여 우리 앞에 온 블록체인 활용 시대를 맞아 미래 발전전략과 신성장 신사업 기회를 모색하는 소중한 시간이 되기를 바란다”고 말했다 \n",
            "\n",
            "자세한 사항은 홈페이지 또는 전화로 문의하면 된다.\n",
            "\n",
            "전자신문인터넷 이정민 기자 (jmlee@etnews.com)IT몰라도 빅데이터 분석..신한銀, AI코어 플랫폼 도입삼성전자, 구글 등 글로벌 정보기술(IT) 기업이 도입한 '클라우드 기반 인공지능(AI) 코어 플랫폼'이 금융권 최초로 도입된다. 플랫폼이 가동되면 IT 전문가나 특정 소프트웨어(SW) 없이도 방대한 빅데이터를 직원이 자유자재로 이용, 서비스나 상품을 만들 수 있다. 기계(딥)학습 기술을 프라이빗 클라우드 환경으로 구현한 것이다.\n",
            "\n",
            "2일 금융권과 IT 업계에 따르면 신한은행이 은행 내·외부 정보를 자유롭게 분석하는 'AI 코어 플랫폼'을 최초로 상용화했다.\n",
            "\n",
            "지금까지 데이터 분석 업무는 담당 부서에서 주로 특정 솔루션을 구매해 기업 매출액, 환율 및 시황 정보 등 정형화된 정보 분석에 그쳤다. 범위가 상당히 제한됐다.\n",
            "\n",
            "반면에 AI 코어 플랫폼을 적용하면 현업에 있는 일반 사용자도 최신 분석 기술을 자유롭게 사용할 수 있다. IT 전문가가 아니어도 R, 파이선 등 데이터 분석에 필요한 SW 기술 적용이 가능하다.\n",
            "\n",
            "R는 통계 계산과 그래픽을 위한 프로그래밍 언어의 한 종류다. 뉴질랜드 오클랜드대에서 오픈소스 기반으로 개발했다. 기계학습과 관련된 알고리즘을 제공, 빅데이터 분석에 가장 많이 사용되는 오픈소스 언어다. 파이선도 오픈소스 프래그래밍 언어의 하나다. AI 코어 플랫폼은 이 같은 확장성을 구현하고 은행 내부의 정형 데이터뿐만 아니라 사회관계망서비스(SNS), 뉴스, 은행 내부 섭외 정보 등 정형화되지 않은 데이터(비정형 데이터)까지 손쉽게 분석할 수 있다.\n",
            "\n",
            "비정형 데이터를 별도의 솔루션 없이 분석할 수 있는 플랫폼 구현은 처음이다.\n",
            "\n",
            "정형 데이터는 각종 형식에 맞춰 데이터를 저장한 후 추출한 여러 형태의 정보를 뜻한다. 반면에 비정형 데이터는 SNS, 뉴스 등 웹상의 일반 텍스트 데이터, 음성, 영상 데이터, 센서 등 장비에서 발생하는 머신·센싱데이터 등 어떤 형식에도 얽매이지 않는 데이터다. 이런 데이터는 AI와 접목해 처리하기가 어렵다.\n",
            "\n",
            "많은 양의 데이터를 학습 데이터로 연산하려면 기존의 컴퓨팅 자원으로는 시간이 오래 걸린다. 이 때문에 그래픽처리장치(GPU)를 활용한다. 신한은행은 GPU를 활용해 빠르고 정확한 분석 환경을 갖췄다. 프라이빗 클라우드 환경도 구축했다. 쉬고 빠른 계산과 알고리즘 및 분석 결과 등도 공유한다.\n",
            "\n",
            "구글, 삼성전자 등에서 적용한 도커 컨테이너를 제공한다. 격리 공간에서 프로세스가 동작하는 기술이다. 사용자가 동일한 인터페이스에서 분석이 가능한 환경을 제공한다. 다양한 알고리즘에서 사용이 가능하다.\n",
            "\n",
            "신한은행은 AI 코어 플랫폼을 통해 금융 상품 개발은 물론 마케팅 비즈니스, 내부 빅데이터를 활용한 모든 서비스에 적용할 계획이다.\n",
            "\n",
            "신한은행 빅데이터센터 관계자는 “다른 은행은 빅데이터를 내부에서 분석·활용하려면 외부 기관에 맡겼지만 신한은 내부에서 모든 데이터를 관리, 적용하게 됐다”면서 “은행 자체로 IBM 왓슨을 금융에 구현했다고 보면 된다”고 설명했다.\n",
            "\n",
            "길재식 금융산업 전문기자 osolgil@etnews.com, 김지선기자 river@etnews.com\n"
          ],
          "name": "stdout"
        }
      ]
    },
    {
      "cell_type": "markdown",
      "metadata": {
        "id": "0jyVF_LhKVbV"
      },
      "source": [
        "**문제 400. 위의 중앙일보 기사에서 '빅데이터'라는 단어가 몇번나오는지 count 하시오**"
      ]
    },
    {
      "cell_type": "code",
      "metadata": {
        "colab": {
          "base_uri": "https://localhost:8080/"
        },
        "id": "3u5uuCojKgpp",
        "outputId": "71756c06-4271-4842-a70d-879a6b824132"
      },
      "source": [
        "f = open(\"mydata3.txt\", encoding='UTF8')\n",
        "data = f.read() # 파일을 한번에 전부 읽어오는 함수\n",
        "\n",
        "print( data.count('빅데이터') )\n",
        "f.close()"
      ],
      "execution_count": 35,
      "outputs": [
        {
          "output_type": "stream",
          "text": [
            "11\n"
          ],
          "name": "stdout"
        }
      ]
    },
    {
      "cell_type": "markdown",
      "metadata": {
        "id": "bGJVYIDqLC1x"
      },
      "source": [
        "#134. 텍스트 파일을 한줄씩 읽고 출력하기 (readline)\n",
        "- 텍스트 파일의 용량이 매우 클 경우 read()로 한꺼번에 파일의 내용을 읽어들이는 것은 메모리 문제를 야기함\n",
        "- 이 경우 텍스트 파일 내용을 한 줄 단위로 읽고 작업을 수행하면 됨\n",
        "- readline()은 텍스트 파일에서 한 줄을 읽음\n",
        "- 한 줄을 읽고 나면 파일을 읽기 시작하는 위치는 그 다음줄의 맨 처음이 됨"
      ]
    },
    {
      "cell_type": "code",
      "metadata": {
        "colab": {
          "base_uri": "https://localhost:8080/"
        },
        "id": "hU0uvjQSLhZN",
        "outputId": "01ba63bf-f406-4e49-8f81-671d57fc504e"
      },
      "source": [
        "f = open(\"jobs.txt\", encoding='UTF8')\n",
        "data = f.readline()\n",
        "print(data)\n",
        "f.close()\n",
        "# read() 함수는 텍스트 파일 전체를 읽어오는 반면\n",
        "# readline()은 텍스트 파일에서 한줄만 읽어옴"
      ],
      "execution_count": 36,
      "outputs": [
        {
          "output_type": "stream",
          "text": [
            "steve jobs'2005 stanford commencement address\n",
            "\n"
          ],
          "name": "stdout"
        }
      ]
    },
    {
      "cell_type": "markdown",
      "metadata": {
        "id": "76dUWzCuMII5"
      },
      "source": [
        "**문제 401. 위의 스티브 잡스 연설문 데이터를 모두 읽어오시오**  \n",
        "( readline() 함수를 이용하시오)"
      ]
    },
    {
      "cell_type": "code",
      "metadata": {
        "colab": {
          "base_uri": "https://localhost:8080/"
        },
        "id": "K-BJcz2bMW4f",
        "outputId": "df3204ae-11ba-4d39-f4d4-b9ab439758dd"
      },
      "source": [
        "f = open(\"jobs.txt\", encoding='UTF8')\n",
        "data =  f.readline()\n",
        "while data:      # data 변수안에 data가 있으면 True\n",
        "    print( data )\n",
        "    data =  f.readline()  # 그 다음줄을 읽어서 data 변수에 입력함\n",
        "print(data)\n",
        "f.close()\n",
        "\n",
        "# 맨위의 data =  f.readline() 코드는 처음에 딱 한번만 실행되고 그 다음부터 실행되지 않음\n",
        "# 그 다음부터는 while문 안에 있는 data = f.readline()가 작동되어서 반복적으로 스티븐 잡스의 연설문을 한 줄씩 읽어서 data 변수에 넣음"
      ],
      "execution_count": 37,
      "outputs": [
        {
          "output_type": "stream",
          "text": [
            "steve jobs'2005 stanford commencement address\n",
            "\n",
            "steve jobs'2005 stanford commencement address\n",
            "\n",
            "I am honored to be with you today at your commencement from one of the finest universities in the world. \n",
            "\n",
            "I never graduated from college. \n",
            "\n",
            "Truth be told, this is the closest I've ever gotten to a college graduation. \n",
            "\n",
            "Today I want to tell you three stories from my life. \n",
            "\n",
            "That's it. \n",
            "\n",
            "No big deal. \n",
            "\n",
            "Just three stories. \n",
            "\n",
            "The first story is about connecting the dots. \n",
            "\n",
            "I dropped out of Reed College after the first 6 months, but then stayed around as a drop-in for another 18 months or so before I really quit. \n",
            "\n",
            "So why did I drop out? \n",
            "\n",
            "It started before I was born. \n",
            "\n",
            "My biological mother was a young, unwed college graduate student, and she decided to put me up for adoption. \n",
            "\n",
            "She felt very strongly that I should be adopted by college graduates, so everything was all set for me to be adopted at birth by a lawyer and his wife. \n",
            "\n",
            "Except that when I popped out they decided at the last minute that they really wanted a girl. \n",
            "\n",
            "So my parents, who were on a waiting list, got a call in the middle of the night asking: \n",
            "\n",
            "\"We have an unexpected baby boy; \n",
            "\n",
            "do you want him?\" \n",
            "\n",
            "They said: \n",
            "\n",
            "\"Of course.\" \n",
            "\n",
            "My biological mother later found out that my mother had never graduated from college and that my father had never graduated from high school. She refused to sign the final adoption papers. \n",
            "\n",
            "She only relented a few months later when my parents promised that I would someday go to college. \n",
            "\n",
            "And 17 years later I did go to college. \n",
            "\n",
            "But I naively chose a college that was almost as expensive as Stanford, and all of my working-class parents' savings were being spent on my college tuition. \n",
            "\n",
            "After six months, I couldn't see the value in it. \n",
            "\n",
            "I had no idea what I wanted to do with my life and no idea how college was going to help me figure it out. \n",
            "\n",
            "And here I was spending all of the money my parents had saved their entire life. \n",
            "\n",
            "So I decided to drop out and trust that it would all work out OK. \n",
            "\n",
            "It was pretty scary at the time, but looking back it was one of the best decisions I ever made. \n",
            "\n",
            "The minute I dropped out I could stop taking the required classes that didn't interest me, and begin dropping in on the ones that looked interesting.  \n",
            "\n",
            "It wasn't all romantic. \n",
            "\n",
            "I didn't have a dorm room, so I slept on the floor in friends' rooms, I returned coke bottles for the 5￠ deposits to buy food with, and I would walk the 7 miles across town every Sunday night to get one good meal a week at the Hare Krishna temple. \n",
            "\n",
            "I loved it. \n",
            "\n",
            "And much of what I stumbled into by following my curiosity and intuition turned out to be priceless later on. \n",
            "\n",
            "Let me give you one example: \n",
            "\n",
            "Reed College at that time offered perhaps the best calligraphy instruction in the country. \n",
            "\n",
            "Throughout the campus every poster, every label on every drawer, was beautifully hand calligraphed. \n",
            "\n",
            "Because I had dropped out and didn't have to take the normal classes, I decided to take a calligraphy class to learn how to do this. \n",
            "\n",
            "I learned about serif and san serif typefaces, about varying the amount of space between different letter combinations, about what makes great typography great. \n",
            "\n",
            "It was beautiful, historical, artistically subtle in a way that science can't capture, and I found it fascinating. \n",
            "\n",
            "None of this had even a hope of any practical application in my life. \n",
            "\n",
            "But ten years later, when we were designing the first Macintosh computer, it all came back to me. \n",
            "\n",
            "And we designed it all into the Mac. It was the first computer with beautiful typography. \n",
            "\n",
            "If I had never dropped in on that single course in college, the Mac would have never had multiple typefaces or proportionally spaced fonts. \n",
            "\n",
            "And since Windows just copied the Mac, its likely that no personal computer would have them. \n",
            "\n",
            "If I had never dropped out, I would have never dropped in on this calligraphy class, and personal computers might not have the wonderful typography that they do. \n",
            "\n",
            "Of course it was impossible to connect the dots looking forward when I was in college. \n",
            "\n",
            "But it was very, very clear looking backwards ten years later. \n",
            "\n",
            "Again, you can't connect the dots looking forward; you can only connect them looking backwards. \n",
            "\n",
            "So you have to trust that the dots will somehow connect in your future. \n",
            "\n",
            "You have to trust in something - your gut, destiny, life, karma, whatever. \n",
            "\n",
            "This approach has never let me down, and it has made all the difference in my life. \n",
            "\n",
            "My second story is about love and loss. \n",
            "\n",
            "I was lucky ? \n",
            "\n",
            "I found what I loved to do early in life. \n",
            "\n",
            "Woz and I started Apple in my parents garage when I was 20. \n",
            "\n",
            "We worked hard, and in 10 years Apple had grown from just the two of us in a garage into a $2 billion company with over 4000 employees. \n",
            "\n",
            "We had just released our finest creation - the Macintosh - a year earlier, and I had just turned 30. \n",
            "\n",
            "And then I got fired. How can you get fired from a company you started? \n",
            "\n",
            "Well, as Apple grew we hired someone who I thought was very talented to run the company with me, and for the first year or so things went well. \n",
            "\n",
            "But then our visions of the future began to diverge and eventually we had a falling out. \n",
            "\n",
            "When we did, our Board of Directors sided with him. \n",
            "\n",
            "So at 30 I was out. And very publicly out. \n",
            "\n",
            "What had been the focus of my entire adult life was gone, and it was devastating. \n",
            "\n",
            "I really didn't know what to do for a few months. \n",
            "\n",
            "I felt that I had let the previous generation of entrepreneurs down - that I had dropped the baton as it was being passed to me. \n",
            "\n",
            "I met with David Packard and Bob Noyce and tried to apologize for screwing up so badly. \n",
            "\n",
            "I was a very public failure, and I even thought about running away from the valley. \n",
            "\n",
            "But something slowly began to dawn on me ? \n",
            "\n",
            "I still loved what I did. \n",
            "\n",
            "The turn of events at Apple had not changed that one bit. \n",
            "\n",
            "I had been rejected, but I was still in love. \n",
            "\n",
            "And so I decided to start over. \n",
            "\n",
            "I didn't see it then, but it turned out that getting fired from Apple was the best thing that could have ever happened to me. \n",
            "\n",
            "The heaviness of being successful was replaced by the lightness of being a beginner again, less sure about everything. \n",
            "\n",
            "It freed me to enter one of the most creative periods of my life.  \n",
            "\n",
            "During the next five years, I started a company named NeXT, another company named Pixar, and fell in love with an amazing woman who would become my wife. \n",
            "\n",
            "Pixar went on to create the worlds first computer animated feature film, Toy Story, and is now the most successful animation studio in the world. \n",
            "\n",
            "In a remarkable turn of events, Apple bought NeXT, I retuned to Apple, and the technology we developed at NeXT is at the heart of Apple's current renaissance. \n",
            "\n",
            "And Laurene and I have a wonderful family together.  \n",
            "\n",
            "I'm pretty sure none of this would have happened if I hadn't been fired from Apple. \n",
            "\n",
            "It was awful tasting medicine, but I guess the patient needed it. \n",
            "\n",
            "Sometimes life hits you in the head with a brick. Don't lose faith. \n",
            "\n",
            "I'm convinced that the only thing that kept me going was that I loved what I did. \n",
            "\n",
            "You've got to find what you love. And that is as true for your work as it is for your lovers. \n",
            "\n",
            "Your work is going to fill a large part of your life, and the only way to be truly satisfied is to do what you believe is great work. \n",
            "\n",
            "And the only way to do great work is to love what you do. \n",
            "\n",
            "If you haven't found it yet, keep looking. \n",
            "\n",
            "Don't settle. \n",
            "\n",
            "As with all matters of the heart, you'll know when you find it. \n",
            "\n",
            "And, like any great relationship, it just gets better and better as the years roll on. \n",
            "\n",
            "So keep looking until you find it. Don't settle.   \n",
            "\n",
            "My third story is about death. \n",
            "\n",
            "When I was 17, I read a quote that went something like: \n",
            "\n",
            "\"If you live each day as if it was your last, someday you'll most certainly be right.\" \n",
            "\n",
            "It made an impression on me, and since then, for the past 33 years, I have looked in the mirror every morning and asked myself: \n",
            "\n",
            "\"If today were the last day of my life, would I want to do what I am about to do today?\" \n",
            "\n",
            "And whenever the answer has been \"No\" for too many days in a row, I know I need to change something. \n",
            "\n",
            "Remembering that I'll be dead soon is the most important tool I've ever encountered to help me make the big choices in life. \n",
            "\n",
            "Because almost everything ? \n",
            "\n",
            "all external expectations, all pride, all fear of embarrassment or failure - these things just fall away in the face of death, leaving only what is truly important. \n",
            "\n",
            "Remembering that you are going to die is the best way I know to avoid the trap of thinking you have something to lose. \n",
            "\n",
            "You are already naked. \n",
            "\n",
            "There is no reason not to follow your heart. \n",
            "\n",
            "About a year ago I was diagnosed with cancer. \n",
            "\n",
            "I had a scan at 7:30 in the morning, and it clearly showed a tumor on my pancreas. \n",
            "\n",
            "I didn't even know what a pancreas was. \n",
            "\n",
            "The doctors told me this was almost certainly a type of cancer that is incurable, and that I should expect to live no longer than three to six months. \n",
            "\n",
            "My doctor advised me to go home and get my affairs in order, which is doctor's code for prepare to die. \n",
            "\n",
            "It means to try to tell your kids everything you thought you'd have the next 10 years to tell them in just a few months. It means to make sure everything is buttoned up so that it will be as easy as possible for your family. \n",
            "\n",
            "It means to say your goodbyes. \n",
            "\n",
            "I lived with that diagnosis all day. \n",
            "\n",
            "Later that evening I had a biopsy, where they stuck an endoscope down my throat, through my stomach and into my intestines, put a needle into my pancreas and got a few cells from the tumor. \n",
            "\n",
            "I was sedated, but my wife, who was there, told me that when they viewed the cells under a microscope the doctors started crying because it turned out to be a very rare form of pancreatic cancer that is curable with surgery. \n",
            "\n",
            "I had the surgery and I'm fine now. \n",
            "\n",
            "This was the closest I've been to facing death, and I hope its the closest I get for a few more decades. \n",
            "\n",
            "Having lived through it, I can now say this to you with a bit more certainty than when death was a useful but purely intellectual concept: \n",
            "\n",
            "No one wants to die. Even people who want to go to heaven don't want to die to get there. \n",
            "\n",
            "And yet death is the destination we all share. \n",
            "\n",
            "No one has ever escaped it. \n",
            "\n",
            "And that is as it should be, because Death is very likely the single best invention of Life. \n",
            "\n",
            "It is Life's change agent. \n",
            "\n",
            "It clears out the old to make way for the new. \n",
            "\n",
            "Right now the new is you, but someday not too long from now, you will gradually become the old and be cleared away. \n",
            "\n",
            "Sorry to be so dramatic, but it is quite true.  \n",
            "\n",
            "Your time is limited, so don't waste it living someone else's life. \n",
            "\n",
            "Don't be trapped by dogma - which is living with the results of other people's thinking. \n",
            "\n",
            "Don't let the noise of other's opinions drown out your own inner voice. \n",
            "\n",
            "And most important, have the courage to follow your heart and intuition. \n",
            "\n",
            "They somehow already know what you truly want to become. Everything else is secondary. \n",
            "\n",
            "When I was young, there was an amazing publication called The Whole Earth Catalog, which was one of the bibles of my generation. \n",
            "\n",
            "It was created by a fellow named Stewart Brand not far from here in Menlo Park, and he brought it to life with his poetic touch. \n",
            "\n",
            "This was in the late 1960's, before personal computers and desktop publishing, so it was all made with typewriters, scissors, and polaroid cameras. \n",
            "\n",
            "It was sort of like Google in paperback form, 35 years before Google came along: it was idealistic, and overflowing with neat tools and great notions. \n",
            "\n",
            "Stewart and his team put out several issues of The Whole Earth Catalog, and then when it had run its course, they put out a final issue. It was the mid-1970s, and I was your age. \n",
            "\n",
            "On the back cover of their final issue was a photograph of an early morning country road, the kind you might find yourself hitchhiking on if you were so adventurous. \n",
            "\n",
            "Beneath it were the words: \n",
            "\n",
            "\"Stay Hungry. Stay Foolish.\" \n",
            "\n",
            "It was their farewell message as they signed off. \n",
            "\n",
            "Stay Hungry. Stay Foolish. \n",
            "\n",
            "And I have always wished that for myself. \n",
            "\n",
            "And now, as you graduate to begin anew, I wish that for you. \n",
            "\n",
            "Stay Hungry. Stay Foolish. \n",
            "\n",
            "Thank you all very much. \n",
            "\n"
          ],
          "name": "stdout"
        }
      ]
    },
    {
      "cell_type": "markdown",
      "metadata": {
        "id": "MtT3GwmUTDwD"
      },
      "source": [
        "**문제 402. 위에서 한줄 씩 읽은 데이터에서 인공지능이라는 단어가 나오면 count하게 하시오**"
      ]
    },
    {
      "cell_type": "code",
      "metadata": {
        "colab": {
          "base_uri": "https://localhost:8080/"
        },
        "id": "HXrrsLq9TLyz",
        "outputId": "754713ab-2e53-43e7-c631-7854ddff9416"
      },
      "source": [
        "f = open(\"mydata3.txt\", encoding='UTF8')\n",
        "data = f.readline()\n",
        "while data:\n",
        "    print(data.count('인공지능'))\n",
        "    data = f.readline()\n",
        "f.close()\n",
        "\n"
      ],
      "execution_count": 41,
      "outputs": [
        {
          "output_type": "stream",
          "text": [
            "2\n",
            "0\n",
            "2\n",
            "0\n",
            "0\n",
            "0\n",
            "0\n",
            "0\n",
            "0\n",
            "0\n",
            "0\n",
            "0\n",
            "0\n",
            "0\n",
            "0\n",
            "0\n",
            "1\n",
            "0\n",
            "0\n",
            "0\n",
            "3\n",
            "0\n",
            "2\n",
            "0\n",
            "0\n",
            "0\n",
            "0\n",
            "0\n",
            "0\n",
            "0\n",
            "0\n",
            "0\n",
            "0\n",
            "0\n",
            "0\n",
            "0\n",
            "0\n",
            "0\n",
            "0\n",
            "0\n",
            "0\n",
            "0\n",
            "0\n",
            "0\n",
            "0\n",
            "0\n",
            "1\n",
            "0\n",
            "0\n",
            "0\n",
            "2\n",
            "0\n",
            "0\n",
            "0\n",
            "0\n",
            "0\n",
            "2\n",
            "0\n",
            "1\n",
            "0\n",
            "0\n",
            "0\n",
            "0\n",
            "0\n",
            "2\n",
            "0\n",
            "0\n",
            "0\n",
            "1\n",
            "0\n",
            "0\n",
            "0\n",
            "0\n",
            "0\n",
            "0\n",
            "0\n",
            "0\n",
            "0\n",
            "0\n",
            "0\n",
            "0\n",
            "0\n",
            "0\n",
            "0\n",
            "0\n",
            "0\n",
            "0\n",
            "0\n",
            "0\n",
            "0\n",
            "0\n",
            "0\n",
            "0\n",
            "0\n",
            "0\n",
            "0\n",
            "0\n",
            "0\n",
            "0\n",
            "0\n",
            "0\n",
            "0\n",
            "1\n",
            "0\n",
            "1\n",
            "0\n",
            "0\n",
            "0\n",
            "0\n",
            "0\n",
            "0\n",
            "0\n",
            "0\n",
            "0\n",
            "0\n",
            "0\n",
            "1\n",
            "0\n",
            "1\n",
            "0\n",
            "0\n",
            "0\n",
            "0\n",
            "0\n",
            "0\n",
            "0\n",
            "0\n",
            "0\n",
            "1\n",
            "0\n",
            "0\n",
            "0\n",
            "0\n",
            "0\n",
            "0\n",
            "0\n",
            "0\n",
            "0\n",
            "0\n",
            "0\n",
            "0\n",
            "0\n",
            "0\n",
            "0\n",
            "0\n",
            "0\n",
            "0\n",
            "0\n",
            "0\n",
            "0\n",
            "0\n"
          ],
          "name": "stdout"
        }
      ]
    },
    {
      "cell_type": "markdown",
      "metadata": {
        "id": "7l_NbQPvTkmT"
      },
      "source": [
        "**문제 403. 위의 count한 건수를 다 누적시켜 출력하시오**"
      ]
    },
    {
      "cell_type": "code",
      "metadata": {
        "colab": {
          "base_uri": "https://localhost:8080/"
        },
        "id": "AORkIamPTotF",
        "outputId": "f7cb6a3c-62d9-4b9e-a27c-68e1e839ae20"
      },
      "source": [
        "f = open(\"mydata3.txt\", encoding='UTF8')\n",
        "data = f.readline()\n",
        "cnt = 0\n",
        "while data:\n",
        "    cnt += data.count('인공지능')\n",
        "    data = f.readline()\n",
        "print(cnt)\n",
        "f.close()\n",
        "\n"
      ],
      "execution_count": 44,
      "outputs": [
        {
          "output_type": "stream",
          "text": [
            "24\n"
          ],
          "name": "stdout"
        }
      ]
    },
    {
      "cell_type": "markdown",
      "metadata": {
        "id": "XBvqH1nmUnCr"
      },
      "source": [
        "**문제 404. 위의 코드를 수정해서 단어를 물어보게 하고 단어를 입력하면 해당 단어가 몇건 나오는지 출력되게 하시오**"
      ]
    },
    {
      "cell_type": "code",
      "metadata": {
        "colab": {
          "base_uri": "https://localhost:8080/"
        },
        "id": "TnjsUeb0Uv4x",
        "outputId": "8ddcf795-15ec-4feb-f77f-63ce7f7d30b3"
      },
      "source": [
        "word = input(\"단어를 입력하시오: \")\n",
        "\n",
        "f = open(\"mydata3.txt\", encoding='UTF8')\n",
        "\n",
        "data = f.readline()\n",
        "cnt = 0\n",
        "\n",
        "while data:\n",
        "    cnt += data.count(word)\n",
        "    data = f.readline()\n",
        "print('이 기사에서 ', word, '단어는 ',cnt,'번 나왔습니다.')\n",
        "f.close()"
      ],
      "execution_count": 45,
      "outputs": [
        {
          "output_type": "stream",
          "text": [
            "단어를 입력하시오: 인공지능\n",
            "이 기사에서  인공지능 단어는  24 번 나왔습니다.\n"
          ],
          "name": "stdout"
        }
      ]
    },
    {
      "cell_type": "markdown",
      "metadata": {
        "id": "NOSpSyWHVreu"
      },
      "source": [
        "#135. 화면에서 사용자 입력을 받고 파일로 쓰기(write)\n",
        "- 사용자로부터 입력받은 텍스트를 파일로 저장하려면 파일을 텍스트 쓰기 모드로 오픈하고 파일 객체의 write()를 이용해 데이터를 파일에 기록함"
      ]
    },
    {
      "cell_type": "code",
      "metadata": {
        "colab": {
          "base_uri": "https://localhost:8080/"
        },
        "id": "QAsb6b_1V3Uk",
        "outputId": "67905003-a01d-4921-af23-6346cf06751d"
      },
      "source": [
        "# 예제\n",
        "text = input('파일에 저장할 내용을 입력하세요: ')\n",
        "f = open(\"mydata3.txt\", \"w\") # w는 write의 약자. mydata3.txt 파일로 쓰겠다라는 뜻\n",
        "f.write( text )\n",
        "f.close()\n",
        "\n",
        "# 위의 코드는 웹에서 스크롤링한 데이터를 파일로 저장할 때 응용되게 됨"
      ],
      "execution_count": 46,
      "outputs": [
        {
          "output_type": "stream",
          "text": [
            "파일에 저장할 내용을 입력하세요: 나는 데이터 분석가로 일하게 됩니다.\n"
          ],
          "name": "stdout"
        }
      ]
    },
    {
      "cell_type": "markdown",
      "metadata": {
        "id": "o8BAcUAJXKAh"
      },
      "source": [
        "**문제 405. 아래의 파란색 공과 빨간색 공이 들어있는 박스에서 5개의 공을 뽑았을 때 그 중 2개가 파란색 공일 확률을 출력하는 함수를 만들고 공을 뽑는 횟수를 10, 100, 1000, 10000, 100000번 했을 때의 확률을 출력하시오**\n",
        "~~~\n",
        "a = [10, 100, 1000, 100000, 1000000]\n",
        "파란색 공: 24개, 빨간색 공 26개 \n",
        "총 50개의 공이 한 상자 안에 들어가 있음\n",
        "~~~"
      ]
    },
    {
      "cell_type": "code",
      "metadata": {
        "colab": {
          "base_uri": "https://localhost:8080/"
        },
        "id": "CR3tsbGBXJIu",
        "outputId": "be1cee47-3380-4d79-c845-56252a906ca7"
      },
      "source": [
        "import numpy as np\n",
        "\n",
        "a = [10, 100, 1000, 100000, 1000000]\n",
        "\n",
        "blue = ['blue'] * 24\n",
        "red = ['red'] * 26\n",
        "box = red + blue\n",
        "\n",
        "def box_cnt( num ):\n",
        "    cnt=0\n",
        "    for i in range(1, num+1):\n",
        "        box_f = list( np.random.choice(box, 5) )\n",
        "        if box_f.count('blue') == 2:\n",
        "            cnt += 1\n",
        "    return cnt/num\n",
        "\n",
        "print( list( map(box_cnt, a) ) )"
      ],
      "execution_count": 56,
      "outputs": [
        {
          "output_type": "execute_result",
          "data": {
            "text/plain": [
              "[0.3, 0.29, 0.356, 0.32766, 0.324026]"
            ]
          },
          "metadata": {
            "tags": []
          },
          "execution_count": 56
        }
      ]
    },
    {
      "cell_type": "code",
      "metadata": {
        "colab": {
          "base_uri": "https://localhost:8080/"
        },
        "id": "68b6ZiNWclmq",
        "outputId": "421e59cc-a930-48a3-a63c-da6fe06c545f"
      },
      "source": [
        "a = [1,2,3,4,5]\n",
        "print( random.sample(a,5) )\n",
        "random.choice(a)"
      ],
      "execution_count": 69,
      "outputs": [
        {
          "output_type": "stream",
          "text": [
            "[4, 3, 1, 2, 5]\n"
          ],
          "name": "stdout"
        },
        {
          "output_type": "execute_result",
          "data": {
            "text/plain": [
              "3"
            ]
          },
          "metadata": {
            "tags": []
          },
          "execution_count": 69
        }
      ]
    },
    {
      "cell_type": "markdown",
      "metadata": {
        "id": "wUHaA2P0tQCX"
      },
      "source": [
        "#136. 텍스트 파일에 한줄씩 쓰기(writelines)\n",
        "- 파일 객체의 writelines() 는 텍스트 문자열이나 텍스트 문자열이 요소도 되어 있는 리스트를 인자로 받아 파일에 한 줄씩 기록\n",
        "- 리스트가 인자인 경우 writedlines()는 리스트의 요소를 하나의 문자열로 결합하여 파일을 한꺼번에 기록함\n",
        "- writelines는 리스트 자료형도 파일에 저장할 수 있음"
      ]
    },
    {
      "cell_type": "code",
      "metadata": {
        "colab": {
          "base_uri": "https://localhost:8080/"
        },
        "id": "6D09Y65vwlyM",
        "outputId": "5a8c09d7-5935-4c31-f871-d843092392cc"
      },
      "source": [
        "# 예제:\n",
        "cnt = 1\n",
        "data =[]\n",
        "while True:\n",
        "    text = input('저장할 내용을 입력하세요 ')\n",
        "    if text =='':      # text에 아무것도 입력하지 않으면\n",
        "        break          # break 문을 실행해서 무한 루프를 종료함\n",
        "    data.append(text + '\\n')   # text가 엔터와 함께 data 리스트에 append 됨\n",
        "\n",
        "f = open(\"mydata99.txt\", \"w\")   # mydata99.txt를 생성함  (옵션에 \"a\"를 쓰면 이어 쓸 수 있게 가능)\n",
        "f.writelines(data)              # data 리스트의 내용을 mydata99.txt에 저장하\n",
        "f.close()"
      ],
      "execution_count": 74,
      "outputs": [
        {
          "output_type": "stream",
          "text": [
            "저장할 내용을 입력하세요안녕하세요\n",
            "저장할 내용을 입력하세요\n"
          ],
          "name": "stdout"
        }
      ]
    },
    {
      "cell_type": "code",
      "metadata": {
        "colab": {
          "base_uri": "https://localhost:8080/"
        },
        "id": "soBe3fgdtmnX",
        "outputId": "236f3a70-457c-4e5f-d953-65e44e583654"
      },
      "source": [
        "listdata = [2, 2, 1, 3, 8, 5, 7]\n",
        "result = sorted( listdata )\n",
        "print( result )"
      ],
      "execution_count": 71,
      "outputs": [
        {
          "output_type": "stream",
          "text": [
            "[1, 2, 2, 3, 5, 7, 8]\n"
          ],
          "name": "stdout"
        }
      ]
    },
    {
      "cell_type": "code",
      "metadata": {
        "colab": {
          "base_uri": "https://localhost:8080/"
        },
        "id": "KFTn4SHpt2rb",
        "outputId": "7f1ffa0d-0e05-41e3-cb2e-50e25e43af1f"
      },
      "source": [
        "f = open(\"mydata3.txt\", \"w\")\n",
        "f.write( str(result) ) # result에 있는 내용을 mydata3.txt로 생성한다.\n",
        "f.close                # result에 있는 내용을 문자로 변환해야 함"
      ],
      "execution_count": 73,
      "outputs": [
        {
          "output_type": "execute_result",
          "data": {
            "text/plain": [
              "<function TextIOWrapper.close>"
            ]
          },
          "metadata": {
            "tags": []
          },
          "execution_count": 73
        }
      ]
    },
    {
      "cell_type": "markdown",
      "metadata": {
        "id": "HSZ1IZ0Cu7jN"
      },
      "source": [
        "**문제 406. 아래의 리스트를 mydata9.txt로 저장하시오**\n",
        "~~~\n",
        "listdata2 = ['a', 'b', 'c', 'd', 'e', 'f', 'g']\n",
        "~~~"
      ]
    },
    {
      "cell_type": "code",
      "metadata": {
        "id": "gKYpTbC2uEd4"
      },
      "source": [
        "listdata2 = ['a', 'b', 'c', 'd', 'e', 'f', 'g']\n",
        "f = open(\"mydata9.txt\", \"w\")\n",
        "f.write( str(listdata2) )\n",
        "f.close()"
      ],
      "execution_count": null,
      "outputs": []
    },
    {
      "cell_type": "markdown",
      "metadata": {
        "id": "u5hFJou5vyW8"
      },
      "source": [
        "#137. 텍스트 파일 복사하기(read, write)\n",
        "- 텍스트 파일을 복사하는 방법을 파이썬으로 구현하려면 read와 write를 이용하면 가능\n",
        "- read()로 텍스트 파일을 읽고 write()로 읽은 내용을 다른 파일 이름으로 저장 가능"
      ]
    },
    {
      "cell_type": "code",
      "metadata": {
        "id": "FqoPl5Yp0yU8"
      },
      "source": [
        "# 예제:\n",
        "f = open(\"mydata3.txt\", \"r\")      # r은 read\n",
        "h = open(\"mydata_copy.txt\", \"w\")  # w는 write\n",
        "data = f.read()\n",
        "h.write( data )\n",
        "f.close()\n",
        "h.close() \n",
        "# mydata3.txt가 복사가 됨"
      ],
      "execution_count": null,
      "outputs": []
    },
    {
      "cell_type": "markdown",
      "metadata": {
        "id": "FspVSzLO1c6T"
      },
      "source": [
        "#138. 바이너리 파일 복사하기 (read, write)\n",
        "- 이미지나 동영상도 파이썬으로 복사 붙여넣기가 가능\n",
        "- 이미지나 동영상을 복사 붙여넣기 할 때는 파일의 크기가 크므로 한번에 읽어들일 수는 없고 일부분만 일정한 크기로 읽으면서 복사 붙여넣기를 함"
      ]
    },
    {
      "cell_type": "code",
      "metadata": {
        "id": "A5zXfLvs1-qa"
      },
      "source": [
        "bufsize = 1024    # 1kb 크기의 버퍼 사이즈를 지정함\n",
        "f = open(\"lena.png\", \"rb\")          # rb는 read binary의 약자\n",
        "h = open(\"lena_copy.png\", \"wb\")     # wb는 write binarydml dirwk\n",
        "data = f.read(bufsize)              # 이미지를 1kb을 읽어서 data에 저장\n",
        "while data:               # data에 data가 발견되는 동안에 루프문을 수행함\n",
        "    h.write(data)         # lena_copy.png에 1kb의 데이터씩 write함\n",
        "    data=f.read(bufsize)  # lena_png에 1kb의 데이터를 read 함\n",
        "f.close()\n",
        "h.close()"
      ],
      "execution_count": null,
      "outputs": []
    },
    {
      "cell_type": "markdown",
      "metadata": {
        "id": "OSRboQeu3xjq"
      },
      "source": [
        "#139. 파일을 열고 자동으로 닫기 (with ~ as)\n",
        "- with ~ as 절을 사용하게 되면 f.close()를 명시하지 않아도 되므로 프로그래머가 실수로 f.close()를 작성하지 않아서 발생하는 메모리 부족오류를 예방할 수 있음\n"
      ]
    },
    {
      "cell_type": "code",
      "metadata": {
        "id": "3mqUi6gR7wOm"
      },
      "source": [
        "# with ~ as 절을 사용하지 않았을 경우  \n",
        "f = open(\"mydata3.txt\", \"r\")\n",
        "data = f.readlines()\n",
        "print(data)\n",
        "f.close()\n",
        "\n",
        "# with ~ as 절을 사용했을 때\n",
        "with open(\"mydata3.txt\", \"r\") as f:\n",
        "    data = f.readlines()\n",
        "    print(data)\n",
        "    # close()를 쓰지 않아도 자동으로 파일이 닫힘"
      ],
      "execution_count": null,
      "outputs": []
    },
    {
      "cell_type": "markdown",
      "metadata": {
        "id": "_EKk2mML8ygI"
      },
      "source": [
        "#140. HTML 기본 문법\n",
        "<데이터 분석 순서>  \n",
        "데이터 수집 --> 데이터 유형 및 속성 파악 --> 데이터 변환 --> 데이터 저장 --> 데어터 정제 --> 데이터 분석  \n",
        "<데이터 수집기술, 웹스크롤링>  \n",
        "- html이란? Hyper Text Markup Language의 약자이며 여러개의 태그(tag)를 연결해서 모아놓은 문서"
      ]
    },
    {
      "cell_type": "markdown",
      "metadata": {
        "id": "f3-xkJR5-8qt"
      },
      "source": [
        "예제1. 메모장을 열고 아래와 같이 코딩하시오\n",
        "\n",
        "~~~\n",
        "<html><head><title> 양건준님의 오늘 일정 </title></head>\n",
        "<body>\n",
        "<p class=\"title\"> 양건준님은 오늘 점심시간에 우육탕을 먹었습니다. </p>\n",
        "</body>\n",
        "</html>\n",
        "~~~\n",
        "\n",
        "<html><head><title> 양건준님의 오늘 일정 </title></head>\n",
        "<body>\n",
        "<p class=\"title\"> 양건준님은 오늘 점심시간에 우육탕을 먹었습니다. </p>\n",
        "</body>\n",
        "</html>"
      ]
    },
    {
      "cell_type": "markdown",
      "metadata": {
        "id": "jIbq_mLKAYMB"
      },
      "source": [
        "예제2. 위의 글씨를 진하게 하시오!\n",
        "~~~\n",
        "<html><head><title> 양건준님의 오늘 일정 </title></head>\n",
        "<body>\n",
        "<p class=\"title\"><b> 양건준님은 오늘 점심시간에 우육탕을 먹었습니다.</b></p>\n",
        "</body>\n",
        "</html>\n",
        "~~~  \n",
        "<html><head><title> 양건준님의 오늘 일정 </title></head>\n",
        "<body>\n",
        "<p class=\"title\"><b> 양건준님은 오늘 점심시간에 우육탕을 먹었습니다.</b></p>\n",
        "</body>\n",
        "</html>\n",
        "\n",
        "- 글씨를 진하게 하려면 b 태그를 사용함"
      ]
    },
    {
      "cell_type": "markdown",
      "metadata": {
        "id": "KmnPCMh9BGwI"
      },
      "source": [
        "예제3. 위의 글씨에 밑줄을 그어 보시오\n",
        "~~~\n",
        "<html><head><title> 양건준님의 오늘 일정 </title></head>\n",
        "<body>\n",
        "<p class=\"title\"><b><u> 양건준님은 오늘 점심시간에 우육탕을 먹었습니다.</u></b></p>\n",
        "</body>\n",
        "</html>\n",
        "~~~\n",
        "<html><head><title> 양건준님의 오늘 일정 </title></head>\n",
        "<body>\n",
        "<p class=\"title\"><b><u> 양건준님은 오늘 점심시간에 우육탕을 먹었습니다.</u></b></p>\n",
        "</body>\n",
        "</html>  \n",
        "\n",
        "- 밑줄을 사용하려면 태그 u를 사용합니다"
      ]
    },
    {
      "cell_type": "markdown",
      "metadata": {
        "id": "JAb-nORBB0zX"
      },
      "source": [
        "예제4. 위의 글씨를 이텔릭 체로 변경하시오\n",
        "~~~\n",
        "<html><head><title> 양건준님의 오늘 일정 </title></head>\n",
        "<body>\n",
        "<p class=\"title\"><b><u><i> 양건준님은 오늘 점심시간에 우육탕을 먹었습니다.</i></u></b></p>\n",
        "</body>\n",
        "</html>\n",
        "~~~\n",
        "<html><head><title> 양건준님의 오늘 일정 </title></head>\n",
        "<body>\n",
        "<p class=\"title\"><b><u><i> 양건준님은 오늘 점심시간에 우육탕을 먹었습니다.</i></u></b></p>\n",
        "</body>\n",
        "</html>  \n",
        "\n",
        "- 글씨를 이텔릭체로 변경하려면 태그 i를 이용함"
      ]
    },
    {
      "cell_type": "markdown",
      "metadata": {
        "id": "ZjEEAXmdCdY3"
      },
      "source": [
        "예제5. p 태그를 추가해서 제목과 내용을 나누시오!\n",
        "~~~\n",
        "<html><head><title> 양건준님의 오늘 일정 </title></head>\n",
        "<body>\n",
        "<p class=\"title\"><b><u><i> 양건준님은 오늘 점심시간에 우육탕을 먹었습니다.</i></u></b></p>\n",
        "<p class=\"content\"> 양건준님은 오늘 점심에 지하식당으로 내려가서 반 친구들과 같이 우육탕을 먹었습니다. 코로나에 대한 걱정도 있었지만 용기내서 먹었습니다</p>\n",
        "</body>\n",
        "</html>\n",
        "~~~\n",
        "<html><head><title> 양건준님의 오늘 일정 </title></head>\n",
        "<body>\n",
        "<p class=\"title\"><b><u><i> 양건준님은 오늘 점심시간에 우육탕을 먹었습니다.</i></u></b></p>\n",
        "<p class=\"content\"> 양건준님은 오늘 점심에 지하식당으로 내려가서 반 친구들과 같이 우육탕을 먹었습니다. 코로나에 대한 걱정도 있었지만 용기내서 먹었습니다</p>\n",
        "</body>\n",
        "</html>\n",
        "\n",
        "- 제목은 class title에 적고 내용은 class content에 적음"
      ]
    },
    {
      "cell_type": "markdown",
      "metadata": {
        "id": "Zo3Frhg9DRFv"
      },
      "source": [
        "예제6. 위에서 만든 html 문서의 본문에 링크를 거시오!  \n",
        "( 링크는 우리반 카페 주소로 하시오)\n",
        "~~~\n",
        "<html><head><title> 양건준님의 오늘 일정 </title></head>\n",
        "<body>\n",
        "<p class=\"title\"><b><u><i> 양건준님은 오늘 점심시간에 우육탕을 먹었습니다.</i></u></b></p>\n",
        "<p class=\"content\"> 양건준님은 오늘 점심에 지하식당으로 내려가서 반 친구들과 같이 우육탕을 먹었습니다. 코로나에 대한 걱정도 있었지만 용기내서 먹었습니다\n",
        "<a href=\"http://cafe.daum.net/oracleoracle\" class=\"cafe1\" id=\"link1\"> </a>\n",
        "</p>\n",
        "</body>\n",
        "</html>\n",
        "~~~\n",
        "<html><head><title> 양건준님의 오늘 일정 </title></head>\n",
        "<body>\n",
        "<p class=\"title\"><b><u><i> 양건준님은 오늘 점심시간에 우육탕을 먹었습니다.</i></u></b></p>\n",
        "<p class=\"content\"> 양건준님은 오늘 점심에 지하식당으로 내려가서 반 친구들과 같이 우육탕을 먹었습니다. 코로나에 대한 걱정도 있었지만 용기내서 먹었습니다\n",
        "<a href=\"http://cafe.daum.net/oracleoracle\" class=\"cafe1\" id=\"link1\"> 다음카페 </a>\n",
        "</p>\n",
        "</body>\n",
        "</html>"
      ]
    },
    {
      "cell_type": "markdown",
      "metadata": {
        "id": "rM4FQY32EF6D"
      },
      "source": [
        "**문제 407. 다음과 같이 내용과 링크를 수정하시오**  \n",
        "양건준님은 오늘 점심에 지하식당으로 내려가서 반 친구들과 같이 우육탕을 먹었습니다. 코로나에 대한 걱정도 있었지만 용기내서 먹었습니다.우육탕집 식당 홍페이지는 바로가기를 누르세요 바로가기\n",
        "~~~\n",
        "<html><head><title> 양건준님의 오늘 일정 </title></head>\n",
        "<body>\n",
        "<p class=\"title\"><b><u><i> 양건준님은 오늘 점심시간에 우육탕을 먹었습니다.</i></u></b></p>\n",
        "<p class=\"content\"> 양건준님은 오늘 점심에 지하식당으로 내려가서 반 친구들과 같이 우육탕을 먹었습니다. 코로나에 대한 걱정도 있었지만 용기내서 먹었습니다</p>\n",
        "<p class=\"content\"> 우육탕집 식당 홈페이지는 바로가기를 누르세요\n",
        "<a href=\"https://www.google.com/url?sa=i&url=http%3A%2F%2Fprod.danawa.com%2Finfo%2F%3Fpcode%3D6012962&psig=AOvVaw2nbHX5xSlsT68uDhuhqjtv&ust=1608100040641000&source=images&cd=vfe&ved=0CAIQjRxqFwoTCJDz59Ctz-0CFQAAAAAdAAAAABAF\" class=\"resturant\" id=\"link1\">바로가기 </a>\n",
        "</body>\n",
        "</html>\n",
        "~~~\n",
        "<html><head><title> 양건준님의 오늘 일정 </title></head>\n",
        "<body>\n",
        "<p class=\"title\"><b><u><i> 양건준님은 오늘 점심시간에 우육탕을 먹었습니다.</i></u></b></p>\n",
        "<p class=\"content\"> 양건준님은 오늘 점심에 지하식당으로 내려가서 반 친구들과 같이 우육탕을 먹었습니다. 코로나에 대한 걱정도 있었지만 용기내서 먹었습니다</p>\n",
        "<p class=\"content\"> 우육탕집 식당 홈페이지는 바로가기를 누르세요\n",
        "<a href=\"https://www.google.com/url?sa=i&url=http%3A%2F%2Fprod.danawa.com%2Finfo%2F%3Fpcode%3D6012962&psig=AOvVaw2nbHX5xSlsT68uDhuhqjtv&ust=1608100040641000&source=images&cd=vfe&ved=0CAIQjRxqFwoTCJDz59Ctz-0CFQAAAAAdAAAAABAF\" class=\"resturant\" id=\"link1\">바로가기 </a>\n",
        "</body>\n",
        "</html>"
      ]
    },
    {
      "cell_type": "markdown",
      "metadata": {
        "id": "LvZvdAMsFYVP"
      },
      "source": [
        "- 워드 문서를 만들때도 그 문서 내에 단원도 있고 세부 목차도 있듯이 class는 그 html문서의 특정 단원이라고 보면 되고 id는 링크를 줄때 부여하는 제목인데 id값이 unique함"
      ]
    },
    {
      "cell_type": "markdown",
      "metadata": {
        "id": "8vspZJayJ2O_"
      },
      "source": [
        "#141. beautiful soup 모듈 배우기\n",
        "- beaufitul soup모듈이란\n",
        "> 파이썬 코드를 복잡하게 작성하지 않아도 편하게 웹스크롤링 할 수 있도록 여러 함수들을 제공하는 웹스크롤링 전문 모듈"
      ]
    },
    {
      "cell_type": "markdown",
      "metadata": {
        "id": "FY1xR4ZsK7of"
      },
      "source": [
        "예제 1. ecologicalpyramid.html코드를 beautiful soup 모듈에서 사용할 수 있도록 파싱을 하고 파싱된 내용을 출력하시오"
      ]
    },
    {
      "cell_type": "code",
      "metadata": {
        "colab": {
          "resources": {
            "http://localhost:8080/nbextensions/google.colab/files.js": {
              "data": "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",
              "ok": true,
              "headers": [
                [
                  "content-type",
                  "application/javascript"
                ]
              ],
              "status": 200,
              "status_text": ""
            }
          },
          "base_uri": "https://localhost:8080/",
          "height": 72
        },
        "id": "GxgUvZQ0LiuW",
        "outputId": "e90b9832-217b-4e8c-db98-79db4d4f1b36"
      },
      "source": [
        "from google.colab import files\n",
        "file = files.upload()"
      ],
      "execution_count": 75,
      "outputs": [
        {
          "output_type": "display_data",
          "data": {
            "text/html": [
              "\n",
              "     <input type=\"file\" id=\"files-182e2c55-b1bf-4ee8-a13b-889578dcf9dd\" name=\"files[]\" multiple disabled\n",
              "        style=\"border:none\" />\n",
              "     <output id=\"result-182e2c55-b1bf-4ee8-a13b-889578dcf9dd\">\n",
              "      Upload widget is only available when the cell has been executed in the\n",
              "      current browser session. Please rerun this cell to enable.\n",
              "      </output>\n",
              "      <script src=\"/nbextensions/google.colab/files.js\"></script> "
            ],
            "text/plain": [
              "<IPython.core.display.HTML object>"
            ]
          },
          "metadata": {
            "tags": []
          }
        },
        {
          "output_type": "stream",
          "text": [
            "Saving ecologicalpyramid.html to ecologicalpyramid.html\n"
          ],
          "name": "stdout"
        }
      ]
    },
    {
      "cell_type": "code",
      "metadata": {
        "colab": {
          "base_uri": "https://localhost:8080/"
        },
        "id": "HOxnaSQQLpVB",
        "outputId": "91fa3008-6188-4104-e419-b8ba06f7ca8f"
      },
      "source": [
        "from bs4 import BeautifulSoup\n",
        "\n",
        "f = open(\"ecologicalpyramid.html\")\n",
        "soup = BeautifulSoup(f, \"html.parser\")  # beautiful soup 에서 사용할 수 있게 해주는 것을 parsing 이라고 함\n",
        "print(soup) "
      ],
      "execution_count": 76,
      "outputs": [
        {
          "output_type": "stream",
          "text": [
            "<html>\n",
            "<body>\n",
            "<div class=\"ecopyramid\">\n",
            "<ul id=\"producers\">\n",
            "<li class=\"producerlist\">\n",
            "<div class=\"name\">plants</div>\n",
            "<div class=\"number\">100000</div>\n",
            "</li>\n",
            "<li class=\"producerlist\">\n",
            "<div class=\"name\">algae</div>\n",
            "<div class=\"number\">100000</div>\n",
            "</li>\n",
            "</ul>\n",
            "<ul id=\"primaryconsumers\">\n",
            "<li class=\"primaryconsumerlist\">\n",
            "<div class=\"name\">deer</div>\n",
            "<div class=\"number\">1000</div>\n",
            "</li>\n",
            "<li class=\"primaryconsumerlist\">\n",
            "<div class=\"name\">rabbit</div>\n",
            "<div class=\"number\">2000</div>\n",
            "</li>\n",
            "</ul>\n",
            "<ul id=\"secondaryconsumers\">\n",
            "<li class=\"secondaryconsumerlist\">\n",
            "<div class=\"name\">fox</div>\n",
            "<div class=\"number\">100</div>\n",
            "</li>\n",
            "<li class=\"secondaryconsumerlist\">\n",
            "<div class=\"name\">bear</div>\n",
            "<div class=\"number\">100</div>\n",
            "</li>\n",
            "</ul>\n",
            "<ul id=\"tertiaryconsumers\">\n",
            "<li class=\"tertiaryconsumerlist\">\n",
            "<div class=\"name\">lion</div>\n",
            "<div class=\"number\">80</div>\n",
            "</li>\n",
            "<li class=\"tertiaryconsumerlist\">\n",
            "<div class=\"name\">tiger</div>\n",
            "<div class=\"number\">50</div>\n",
            "</li>\n",
            "</ul>\n",
            "</div></body>\n",
            "</html>\n"
          ],
          "name": "stdout"
        }
      ]
    },
    {
      "cell_type": "markdown",
      "metadata": {
        "id": "NIvkNyL-L4DG"
      },
      "source": [
        "예제 2. ecologicalpyramid.html코드에서 class 이름 name에 접근해서 데어터를 긁어오시오!"
      ]
    },
    {
      "cell_type": "code",
      "metadata": {
        "colab": {
          "base_uri": "https://localhost:8080/"
        },
        "id": "zHq-_mLLMPgX",
        "outputId": "5a515943-332c-41d6-db28-fea1de33f8ce"
      },
      "source": [
        "from bs4 import BeautifulSoup\n",
        "\n",
        "f = open(\"ecologicalpyramid.html\")\n",
        "soup = BeautifulSoup(f, \"html.parser\")\n",
        "result = soup.find_all(class_=\"name\")  # class=\"name\"의 부분을 다 담아서 긁어옴\n",
        "print( result )"
      ],
      "execution_count": 77,
      "outputs": [
        {
          "output_type": "stream",
          "text": [
            "[<div class=\"name\">plants</div>, <div class=\"name\">algae</div>, <div class=\"name\">deer</div>, <div class=\"name\">rabbit</div>, <div class=\"name\">fox</div>, <div class=\"name\">bear</div>, <div class=\"name\">lion</div>, <div class=\"name\">tiger</div>]\n"
          ],
          "name": "stdout"
        }
      ]
    },
    {
      "cell_type": "markdown",
      "metadata": {
        "id": "tFhjPgiiNV9I"
      },
      "source": [
        "예제3. 위에서 긁어온 데이터에서 html 코드 말고 text만 출력하시오"
      ]
    },
    {
      "cell_type": "code",
      "metadata": {
        "colab": {
          "base_uri": "https://localhost:8080/"
        },
        "id": "g6-xsnW8NcAf",
        "outputId": "6c849959-d1f8-4640-f34c-df389dcca256"
      },
      "source": [
        "from bs4 import BeautifulSoup\n",
        "\n",
        "f = open(\"ecologicalpyramid.html\")\n",
        "soup = BeautifulSoup(f, \"html.parser\")\n",
        "result = soup.find_all(class_=\"name\")  # class=\"name\"의 부분을 다 담아서 긁어옴\n",
        "for i in result:    # result 리스트 안의 요소를 하나씩 가져옴\n",
        "    print( i.get_text() )\n",
        "# get_text()함수를 사용하면 html 코드 말고 텍스트만 가지고 옴"
      ],
      "execution_count": 79,
      "outputs": [
        {
          "output_type": "stream",
          "text": [
            "plants\n",
            "algae\n",
            "deer\n",
            "rabbit\n",
            "fox\n",
            "bear\n",
            "lion\n",
            "tiger\n"
          ],
          "name": "stdout"
        }
      ]
    },
    {
      "cell_type": "markdown",
      "metadata": {
        "id": "GUsEtpFfOUDr"
      },
      "source": [
        "**문제 408. ecologicalpyramid.html 문서에서 number 클래스에 있는 숫자들만 긁어와서 출력하시오**"
      ]
    },
    {
      "cell_type": "code",
      "metadata": {
        "colab": {
          "base_uri": "https://localhost:8080/"
        },
        "id": "PhoyRFqCOe-c",
        "outputId": "a5d33a3c-9f18-47b7-92f7-9c4840ef6412"
      },
      "source": [
        "from bs4 import BeautifulSoup\n",
        "\n",
        "f = open(\"ecologicalpyramid.html\")\n",
        "soup = BeautifulSoup(f, \"html.parser\")\n",
        "result = soup.find_all(class_=\"number\")\n",
        "  \n",
        "for i in result:    \n",
        "    print( i.get_text() )\n"
      ],
      "execution_count": 81,
      "outputs": [
        {
          "output_type": "stream",
          "text": [
            "100000\n",
            "100000\n",
            "1000\n",
            "2000\n",
            "100\n",
            "100\n",
            "80\n",
            "50\n"
          ],
          "name": "stdout"
        }
      ]
    },
    {
      "cell_type": "markdown",
      "metadata": {
        "id": "zidA3ysBO46h"
      },
      "source": [
        "**문제 409. 위에서 긁어온 숫자들을 a라는 비어있는 리스트에 저장한 후 a안의 요소들을 정렬하고 a 리스트를 출력하시오**"
      ]
    },
    {
      "cell_type": "code",
      "metadata": {
        "colab": {
          "base_uri": "https://localhost:8080/"
        },
        "id": "5sZJShQcPAKF",
        "outputId": "7d4e4bd7-eeb2-4f41-97ed-feccd910f4de"
      },
      "source": [
        "from bs4 import BeautifulSoup\n",
        "\n",
        "f = open(\"ecologicalpyramid.html\")\n",
        "soup = BeautifulSoup(f, \"html.parser\")\n",
        "result = soup.find_all(class_=\"number\")\n",
        "\n",
        "a = []\n",
        "for i in result:    \n",
        "    a.append( int(i.get_text()) )\n",
        "a.sort()\n",
        "print( a )"
      ],
      "execution_count": 91,
      "outputs": [
        {
          "output_type": "stream",
          "text": [
            "[50, 80, 100, 100, 1000, 2000, 100000, 100000]\n"
          ],
          "name": "stdout"
        }
      ]
    },
    {
      "cell_type": "markdown",
      "metadata": {
        "id": "1-lLrUgQQZEc"
      },
      "source": [
        "**문제 410. 중앙일보사 홈페이지로 가서 신문기사 하나를 보시오**  \n",
        "한 기사를 aa77.html로 저장하였음"
      ]
    },
    {
      "cell_type": "markdown",
      "metadata": {
        "id": "pLlrPOI0RTff"
      },
      "source": [
        "**문제 411. aa77.html을 beautifulsoup 모듈의 함수를 쓸 수 있도록 파싱된 결과를 출력하시오**"
      ]
    },
    {
      "cell_type": "code",
      "metadata": {
        "colab": {
          "resources": {
            "http://localhost:8080/nbextensions/google.colab/files.js": {
              "data": "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",
              "ok": true,
              "headers": [
                [
                  "content-type",
                  "application/javascript"
                ]
              ],
              "status": 200,
              "status_text": ""
            }
          },
          "base_uri": "https://localhost:8080/",
          "height": 72
        },
        "id": "yT-RhkwARsQn",
        "outputId": "7eab8dde-afea-4dbd-964f-1a0022a83f18"
      },
      "source": [
        "from google.colab import files\n",
        "file = files.upload()"
      ],
      "execution_count": 92,
      "outputs": [
        {
          "output_type": "display_data",
          "data": {
            "text/html": [
              "\n",
              "     <input type=\"file\" id=\"files-1afca25a-74f9-4662-8a69-35ab294b6560\" name=\"files[]\" multiple disabled\n",
              "        style=\"border:none\" />\n",
              "     <output id=\"result-1afca25a-74f9-4662-8a69-35ab294b6560\">\n",
              "      Upload widget is only available when the cell has been executed in the\n",
              "      current browser session. Please rerun this cell to enable.\n",
              "      </output>\n",
              "      <script src=\"/nbextensions/google.colab/files.js\"></script> "
            ],
            "text/plain": [
              "<IPython.core.display.HTML object>"
            ]
          },
          "metadata": {
            "tags": []
          }
        },
        {
          "output_type": "stream",
          "text": [
            "Saving aa77.htm to aa77.htm\n"
          ],
          "name": "stdout"
        }
      ]
    },
    {
      "cell_type": "code",
      "metadata": {
        "id": "fhw2PZjERTFC"
      },
      "source": [
        "from bs4 import BeautifulSoup\n",
        "\n",
        "f=open(\"aa77.htm\", encoding=\"UTF8\")\n",
        "soup = BeautifulSoup(f, \"html.parser\")\n",
        "soup"
      ],
      "execution_count": null,
      "outputs": []
    },
    {
      "cell_type": "markdown",
      "metadata": {
        "id": "kx2zDaS2SM8K"
      },
      "source": [
        "**문제 412. 위의 기사의 본문을 가져오기 위해서 기사 본문의 class 이름이 무엇인지 확인하시오**  \n",
        "- **크롬의 개발자 모드 단축키인 F12**를 누르면 옆에 html코드 창이 나오면서 개발자 모드 화면이 열림  \n",
        "- 그 후 위쪽 화살표를 클릭하고 기사본문을 선택하면 html 문서에 class 이름을 확인할 수 있는 html 문서쪽으로 바로 이동함"
      ]
    },
    {
      "cell_type": "markdown",
      "metadata": {
        "id": "3WXs61cxTPQk"
      },
      "source": [
        "**문제 413. 클래스 이름 \"article_body mg fs4\"로 접근하여 text를 긁어오시오**"
      ]
    },
    {
      "cell_type": "code",
      "metadata": {
        "colab": {
          "base_uri": "https://localhost:8080/"
        },
        "id": "4rgBr1VqTafp",
        "outputId": "6ae140ec-9af4-4735-d309-74f3e7b82365"
      },
      "source": [
        "from bs4 import BeautifulSoup\n",
        "\n",
        "f=open(\"aa77.htm\", encoding=\"UTF8\")\n",
        "soup = BeautifulSoup(f, \"html.parser\")\n",
        "result = soup.find_all(class_=\"article_body mg fs4\")\n",
        "for i in result:\n",
        "    print( i.get_text() )"
      ],
      "execution_count": 97,
      "outputs": [
        {
          "output_type": "stream",
          "text": [
            "\n",
            "\n",
            "\n",
            "\n",
            "인공지능(AI)이 질병을 미리 알려주고, 평균 신약 개발 기간을 10년에서 3년으로 줄여주는 세상. 생각보다 머지 않은 미래다. 국내에서도 의료 AI 기업들이 선전하고 있다. 저명한 학술지에 소개될 만큼 기술력도 인정받고 있다. 하지만 글로벌 수준의 대규모 투자 유치 소식은 아직이다. 왜일까.              의사와 AI가 함께 질환을 판독하는 시대 [사진 셔터스톡]    무슨 일이야   딥러닝 기반 국내 의료 AI 스타트업의 성장세가 가파르다. 눈에 띄는 곳은 '루닛'과 '뷰노'. 엑스레이·MRI·CT 영상 등을 보고 질환 신호를 읽어내는 AI를 만든다. 이들은 이달 초 보건복지부 인증 '30개 혁신형 의료기기 기업'에 나란히 꼽혔다.     · 루닛의 폐암·유방암 진단 AI는 서울대병원·아산병원 등 국내 상위 10개 대형병원 중 7개가 사용한다. 정확도는 97~99%. 김은경 용인세브란스병원 영상의학과 교수는 \"1년 전 루닛 AI를 도입한 뒤 판독 수준이 균일하게 상향 평준화됐다. '경험 많은 베테랑 의사'급이다\"며 \"의사의 영상 판독 시간도 평균 10시간에서 8시간으로 20% 줄어 환자 상담 등에 쓸 수 있는 시간이 많아졌다\"고 말했다. 루닛이 유치한 누적 투자액은 600억원.     · 뷰노는 뼈 나이 판독 AI, 치매 진단 AI, 흉부·망막질환 진단 AI 등을 만든다. 자체 연구 결과 의사의 판독 시간을 40~50% 단축한다. 전국 의료기관 200여 곳이 뷰노의 AI를 쓴다. 누적 투자유치 250억원.     · 두 기업 모두 글로벌 기업에 기술을 공급하고 있다. 지난 6월 루닛은 세계 1위 영상장비업체 GE헬스케어와, 뷰노는 일본 최대 의료정보 플랫폼 M3와 솔루션 판권 계약을 맺었다. GE와 M3의 의료 장비에 루닛과 뷰노의 기술이 각각 탑재된다는 뜻.     · 의료 현장에서도 긍정적 평가가 나온다. 한부경 삼성서울병원 영상의학과 교수는 \"기존에 쓰던 캐드(CAD·20여년 전 나온 의료영상 분석 소프트웨어)는 정확하게 진단을 잘 못해 '양치기 소년' 취급을 받았는데, 요즘 AI는 정확도가 높아 의사들도 진지하게 참고한다\"고 말했다.              서범석 루닛 대표(왼쪽), 김현준 뷰노 대표 [사진 각 사]    산업·의료계는 뭐래     의료 AI에 대한 시장과 의료계 현장의 기대가 높아지고 있다. 글로벌 의료 AI 시장은 2020년 5조원에서 2026년 49조원 규모까지 커질 전망(시장조사업체 마켓앤마켓).      · 지난 1월 데이터3법 통과로 의료 데이터 활용이 쉬워졌다. 서범석 루닛 대표는 \"여러 기관 간 정보 연계가 가능해져 가명정보 활용이 수월해질 것으로 본다\"고 했다.     · AI에 대한 의사들의 관심도 부쩍 늘었다. 한부경 삼성서울병원 교수는 \"AI 관련 교육, AI만 다루는 심포지엄 등이 10년 전보다 10배 이상 늘었다\"고 말했다.     · 유리한 개발 환경도 장점. 김현준 뷰노 대표는 \"한국은 수도권과 지방 대형 병원에 환자가 몰리는 편이라, 대규모 환자 데이터를 구하기 좋은 환경\"이라며 \"IT 인프라도 뛰어나 의료 AI 강국이 될 좋은 조건을 갖고 있다\"고 말했다.           남은 과제는?     글로벌 시장은 크지만, 국내 시장의 성장 속도가 더디다.     · 2014년 이후 설립된 기업 중 누적 투자액 상위 100개 글로벌 디지털 헬스케어 스타트업에 국내 업체는 없다(삼정KPMG). 이에 대해 뷰노에 투자한 백인수 스마일게이트인베스트먼트 이사는 \"의료 AI 기업은 대개 본격적인 매출과 수익이 나기 전에 특례상장제도를 통해 상장을 한다. 한국 투자자들은 상장(IPO)을 통해 투자금을 회수하는 편이라, 공모가 기준 예측가능한 기업가치만큼만 투자하게 된다\"며 \"미국의 의료AI 스타트업들만큼 투자를 받긴 힘든 환경\"이라고 설명했다.     · 아직 건강보험 수가(진료비)를 적용받지 못한다는 것도 한계. 판독형 의료 AI는 병원이 자비로 도입해야 한다. 의료 스타트업 엑셀러레이터인 디지털헬스케어파트너스(DHP)의 김치원 공동창업자(서울와이즈요양병원 원장)은 \"수가에 반영되지 않은 기술은 병원에 확산되기 어렵다\"며 \"의료 AI 기업이 매출을 내려면 하드웨어 기업에 솔루션을 팔거나, 판독형 AI를 뛰어넘는 혁신적인 기술을 만들어내는 수밖에 없다. 지금 수준의 의료 AI가 수가를 못 받는 건 해외서도 비슷하다\"고 전했다.     · 완고한 의료계 리더십도 풀어야 할 과제다. 김은경 용인세브란스 교수는 \"대형 병원이나 학회들이 'AI는 의사를 도와주는 존재'라는 인식이 자리잡아야 하는데 아직은 보수적\"이라고 말했다.          해외에선 어때        구글의 폐암 진단 AI 모델 [사진 구글]         · 바둑 AI '알파고'로 유명한 구글 딥마인드는 지난해 AI 의료기기를 출시했다. 녹내장·당뇨망막증 등 심각한 안과 질환 50여 종을 30초 안에 판독하는 의료기기다. 유방암과 폐암, 전립선암 진단 보조 AI도 구글의 연구 분야다. 구글벤처스가 투자한 헬스케어 스타트업만 누적 300여개다.     · 의사의 판독을 돕는 AI를 넘어 질병을 예측하는 AI도 나오고 있다. 미국 기업 '하트플로우'의 AI는 관상동맥 CT를 보고 심근경색 등 심장 질환 가능성을 예견한다. 결과적으로 불필요한 수술을 줄일 수 있다. 하트플로우는 미국, 영국 등에서 수가를 인정받았다.     · 최근 AI는 신약 개발에서도 주목받고 있다. 캐나다 제약 AI 조사업체 '벤치사이'가 과학자 330명을 설문한 결과에 따르면, AI는 신약 개발 기간과 비용을 약 20%씩 줄일 수 있다. 일본제약공업협회는 더 나아가 50%까지 줄일 것으로 내다봤다. AI가 100만건의 논문 탐색, 1만건의 후보물질 검토를 빠르게 처리해 평균 10년의 개발 기간을 3~4년으로, 1조2000억원의 개발비를 6000억원으로 줄일 수 있다는 것. 신약의 평균 이익률이 2~5%임을 감안하면 유의미한 숫자로 평가된다.         관련기사[팩플] '건강 데이터' 쥔 자, 223조 헬스케어 시장도 쥔다이래서 의료 클라우드 겉돈다···'데이터댐 5000억' 정부 착각23년전 '개구리 암' 해부···구글·MS 누른 의료 AI 만들었다  김정민 기자 kim.jungmin4@joongang.co.kr                      팩플레터 구독신청은 여기서 → https://url.kr/qmvPIX \n",
            "\n",
            "\n",
            "\n",
            "\n"
          ],
          "name": "stdout"
        }
      ]
    },
    {
      "cell_type": "markdown",
      "metadata": {
        "id": "4_p2n6RAXODn"
      },
      "source": [
        "**문제 414.위에서 스크롤링한 중앙일보 기사를 c드라이브 밑에 mytext23.txt로 저장하시오**  \n",
        "(반드시 저장해야 기사를 워드클라우드로 시각화를 할 수 있으니 오늘 배운 내용을 저장하시오)"
      ]
    },
    {
      "cell_type": "code",
      "metadata": {
        "id": "4sWVrVm8XNky"
      },
      "source": [
        ""
      ],
      "execution_count": null,
      "outputs": []
    }
  ]
}