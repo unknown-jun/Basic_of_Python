{
  "nbformat": 4,
  "nbformat_minor": 0,
  "metadata": {
    "colab": {
      "name": "03_Dec_2020.ipynb",
      "provenance": [],
      "authorship_tag": "ABX9TyMEQo+riCFXmf6PzXuS6TQA",
      "include_colab_link": true
    },
    "kernelspec": {
      "name": "python3",
      "display_name": "Python 3"
    }
  },
  "cells": [
    {
      "cell_type": "markdown",
      "metadata": {
        "id": "view-in-github",
        "colab_type": "text"
      },
      "source": [
        "<a href=\"https://colab.research.google.com/github/unknown-jun/Basic_of_Python/blob/master/03_Dec_2020.ipynb\" target=\"_parent\"><img src=\"https://colab.research.google.com/assets/colab-badge.svg\" alt=\"Open In Colab\"/></a>"
      ]
    },
    {
      "cell_type": "markdown",
      "metadata": {
        "id": "wJX20dhWEPDp"
      },
      "source": [
        "#클래스에 대한 복습\n",
        "\n",
        "- 클래스를 사용해서 파이썬코딩을 해야하는 이유\n",
        "    1. 객체 지향 언어의 장점인 상속을 활용할 수 있기 때문\n",
        "~~~\n",
        "    gun1 = Gun( )\n",
        "    <제품>  <설계도>\n",
        "    (객체)  (클래스)\n",
        "    => 다른 객체를 생성하고 싶다면\n",
        "    gun2 = Gun( )\n",
        "    gun2.charge(100)\n",
        "    gun2.shoot(3)\n",
        "    객체. 메소드(기능)\n",
        "~~~\n",
        "\n",
        "- 상속에 대한 예시\n",
        "~~~\n",
        "팀장님-> 카드의 중요 기본 기능을 담는 설계도(클래스)를 생성\n",
        "                                                                               .\n",
        "팀원1(나) -> 영화 할인 카드 클래스 생성\n",
        "팀원2(동료) -> 주유 할인 카드 클래스 생성\n",
        "                                                                               .\n",
        "상속 코드: Class Movie_Card( Card )\n",
        "                                                                               .\n",
        "만약에 내가 팀장님이 만든 카드의 중요기능(메소드)을 담는 클래스(Card)를 상속받기만 하면 \n",
        "나는 팀장님이 코딩한 카드의 주요기능을 코딩하지 않아도 되고 나는 단순히 영화할인에만 집중해서\n",
        "코드를 구현하면 됨\n",
        "~~~\n",
        "- 면접문제: 객체 지향언어의 장점이 무엇입니까?  상속을 사용할 수 있습니다.\n",
        "\n",
        "- 파이썬 클래스에서 사용하는 키워드인 self은 무엇인가?\n",
        "~~~ \n",
        "    class Card():\n",
        "\n",
        "        def __init__(self):\n",
        "            self.money = 0\n",
        "            print(\"카드가 발급되었습니다.\")\n",
        "\n",
        "        def charge(self, num):\n",
        "            self.money += num\n",
        "            print(num, \"원 충전되었습니다.\")\n",
        "\n",
        "    이준혁_card = Card( )\n",
        "    양건준_card = Card( )\n",
        "\n",
        "    이준혁_card.charge(100000):  # 준혁이가 준혁이 카드를 10만원 충전했습니다.\n",
        "    양건준_card.charge(5000000): # 건준이 카드에 500만원 충전함\n",
        "    \n",
        "    이준혁 양건준 => self로 인해서 소유권이 달리짐\n",
        "    - 여기서 500만원은 num변수에 들어가지만 양건준_card 객체 이름은 self매개변수에 들어가서 양건준_card에 500만원 충전했다는 것을 나타내는 것\n",
        "~~~"
      ]
    },
    {
      "cell_type": "markdown",
      "metadata": {
        "id": "tH3g8T6sKgYT"
      },
      "source": [
        "#52. 생성자 이해하기\n",
        "\n",
        "- 클래스의 인스턴스 객체가 생성될 때 자동적으로 호출되는 메소드가 클래스 생성자\n",
        "- 클래스 생성자는 `__init__(self): `입니다.\n",
        "\n",
        "카드의 기능\n",
        "0. 카드가 처음 만들어질때 0원으로 충전되게끔 하는 메세지\n",
        "1. 충전\n",
        "2. 소비"
      ]
    },
    {
      "cell_type": "code",
      "metadata": {
        "colab": {
          "base_uri": "https://localhost:8080/"
        },
        "id": "AhbXjf8ZKYPc",
        "outputId": "0d5d9a90-1268-49ac-c943-588b65f2c4b4"
      },
      "source": [
        "# 예제\n",
        "class Card():\n",
        "    def __init__(self):  # Class 생성자 메소드\n",
        "        self.cash = 0\n",
        "        print('카드가 발급되었습니다.', self.cash,'가 충전되어 있습니다.')\n",
        "\n",
        "ljh_card=Card()  # 객체(제품)를 생성하는 명령어"
      ],
      "execution_count": null,
      "outputs": [
        {
          "output_type": "stream",
          "text": [
            "카드가 발급되었습니다. 0 가 충전되어 있습니다.\n"
          ],
          "name": "stdout"
        }
      ]
    },
    {
      "cell_type": "markdown",
      "metadata": {
        "id": "LqhZ01X4MFnw"
      },
      "source": [
        "**문제 167. 총 클래스를 생성하는데 총 클래스로 아래와 같이 총(제품)을 생성하면 \"총이 만들어졌습니다. 총알은 0발 장전되었습니다\"라는 메세지가 출력되게 총 클래스를 만드시오**\n",
        "~~~\n",
        "yys_gun1 = Gun( )\n",
        "총이 만들어졌습니다. 총알은 0발 장전되었습니다.\n",
        "~~~"
      ]
    },
    {
      "cell_type": "code",
      "metadata": {
        "colab": {
          "base_uri": "https://localhost:8080/"
        },
        "id": "xQXB9WrWENSj",
        "outputId": "944873e6-c81a-41af-c8be-ad306c7cbbdf"
      },
      "source": [
        "class Gun():\n",
        "    def __init__(self):\n",
        "        self.bullet = 0\n",
        "        print('총이 만들어졌습니다. 총알은', self.bullet, '발 장전되었습니다.')\n",
        "\n",
        "yys_gun1 = Gun()"
      ],
      "execution_count": null,
      "outputs": [
        {
          "output_type": "stream",
          "text": [
            "총이 만들어졌습니다. 총알은 0 발 장전되었습니다.\n"
          ],
          "name": "stdout"
        }
      ]
    },
    {
      "cell_type": "markdown",
      "metadata": {
        "id": "XmQRzW3HNOX4"
      },
      "source": [
        "**문제 168. 문자열 포멧을 이용하여 위의 메세지를 자연스럽게 출력되게 하시오**"
      ]
    },
    {
      "cell_type": "code",
      "metadata": {
        "colab": {
          "base_uri": "https://localhost:8080/"
        },
        "id": "lMKqrcRSNspQ",
        "outputId": "7055591e-b015-4d87-e07a-462c8b290cf2"
      },
      "source": [
        "class Gun():\n",
        "    def __init__(self):\n",
        "        self.bullet = 0\n",
        "        print('총이 만들어졌습니다. 총알은 %d발 장전되었습니다.'%self.bullet)\n",
        "\n",
        "yys_gun1 = Gun()"
      ],
      "execution_count": null,
      "outputs": [
        {
          "output_type": "stream",
          "text": [
            "총이 만들어졌습니다. 총알은 0발 장전되었습니다.\n"
          ],
          "name": "stdout"
        }
      ]
    },
    {
      "cell_type": "markdown",
      "metadata": {
        "id": "lLUNspsdR4Hx"
      },
      "source": [
        "#53. 클래스 소멸자 이해하기\n",
        "- 객체가 사라질 때 자동으로 호출되는 함수를 소멸자 ```__del__(self):```라고 함\n",
        "\n",
        "예)  \n",
        "총 클래스로 yys_gun1이라는 총을 만들고 총을 사용하다가 이제 총을 폐기하고 싶으면 del 명령어로 총을 폐기하면 되는데 이 때 자동으로 작동되는 메소드(함수)가 소멸자 함수\n"
      ]
    },
    {
      "cell_type": "code",
      "metadata": {
        "colab": {
          "base_uri": "https://localhost:8080/"
        },
        "id": "RYtgcMeWSfNe",
        "outputId": "63299193-163b-4d5c-ba45-b8ae6cdc28ff"
      },
      "source": [
        "# 예제\n",
        "class Gun():\n",
        "    def __init__(self):\n",
        "        self.bullet = 0\n",
        "        print('총 한정이 생성되었습니다')\n",
        "    \n",
        "    def __del__(self):\n",
        "        print('총이 폐기 되었습니다.')\n",
        "\n",
        "yys_gun1 = Gun()\n",
        "del yys_gun1"
      ],
      "execution_count": null,
      "outputs": [
        {
          "output_type": "stream",
          "text": [
            "총 한정이 생성되었습니다\n",
            "총이 폐기 되었습니다.\n"
          ],
          "name": "stdout"
        }
      ]
    },
    {
      "cell_type": "markdown",
      "metadata": {
        "id": "Y1lIxfugTelm"
      },
      "source": [
        "#54. 클래스 상속 이해하기\n",
        "- 클래스는 상속이라는 특성을 가지고 있는 이름공간\n",
        "- 클래스에서 상속이란 어떤 클래스가 가지고 있는 맴버(변수)나 메소드(함수)를 상속받는 클래스가 모두 사용할 수 있도록 해주는 것\n",
        "- 상속을 해주는 클래스를 부모 클래스 또는 슈퍼 클래스라고 하고\n",
        "- 상속을 받는 클래스를 자식 클래스 또는 서브 클래스라고 함\n",
        "- 부모 클래스로 부터 상속을 받아 자식 클래스를 정의하는 방법은 다음과 같음\n",
        "~~~\n",
        "예제:\n",
        "    class 자식클래스 이름( 부모클래스 이름):\n",
        "~~~\n",
        "- 자식 클래스는 부모 클래스에서 정의된 모든 맴버와 메소드를 그대로 상속 받음\n",
        "1. 팀장님이 카드의 주요기능을 담는 Card()클래스를 생성한다.\n",
        "2. 팀원인 나는 영화할인 카드 클래스를 만들 것인데 팀장님이 구현한 카드의 주요기능을 Card()클래스로부터 다 상속받고 나는 팀장님이 구현한 코드는 구현하지 않음. 나는 그냥 영화할인에만 집중해서 메소드를 작성하면 됨\n",
        "~~~\n",
        "# 예제: 팀장님이 만든 카드 class (카드 설계도)\n",
        "        1. 카드가 발급되었을 때 0원이 충전되게 하는 기능: __init__(self)\n",
        "        2. 카드를 충전하는 기능  : charge(self, num)\n",
        "        3. 카드를 쓰는기능      : consume(self, num)  \n",
        "                                                                          .\n",
        "class Card():    # 부모 클래스\n",
        "    def __init__(self):\n",
        "        self.cash = 0\n",
        "        print('카드가 발급되었습니다')\n",
        "\n",
        "    def charge(self, num):\n",
        "        self.cash += num\n",
        "        print( num, '원이 충전되었습니다.' )\n",
        "\n",
        "    def consume(self, num):\n",
        "        if self.cash >= num:    # 잔액이 소비하는 돈보단 커야지만 쓸 수 있게\n",
        "            self.cash -= num\n",
        "            print(num, '원이 사용되었습니다.')\n",
        "        else:\n",
        "            print('잔액이 부족합니다')\n",
        "~~~\n"
      ]
    },
    {
      "cell_type": "code",
      "metadata": {
        "colab": {
          "base_uri": "https://localhost:8080/"
        },
        "id": "gTbbgrDCUiGa",
        "outputId": "865af7eb-d579-464d-e420-46be6129157e"
      },
      "source": [
        "\"\"\"\n",
        " 예제: 팀장님이 만든 카드 class (카드 설계도)\n",
        "        1. 카드가 발급되었을 때 0원이 충전되게 하는 기능: __init__(self)\n",
        "        2. 카드를 충전하는 기능  : charge(self, num)\n",
        "        3. 카드를 쓰는기능      : consume(self, num)  \n",
        "\"\"\"                                                                         \n",
        "class Card():    # 부모 클래스\n",
        "    def __init__(self):\n",
        "        self.cash = 0\n",
        "        print('카드가 발급되었습니다')\n",
        "\n",
        "    def charge(self, num):\n",
        "        self.cash += num\n",
        "        print( num, '원이 충전되었습니다.' )\n",
        "\n",
        "    def consume(self, num):\n",
        "        if self.cash >= num:    # 잔액이 소비하는 돈보단 커야지만 쓸 수 있게\n",
        "            self.cash -= num\n",
        "            print(num, '원이 사용되었습니다.')\n",
        "        else:\n",
        "            print('잔액이 부족합니다')\n",
        "    \n",
        "ljh_card1 = Card()\n",
        "ljh_card1.charge(10000)\n",
        "ljh_card1.consume(8000)"
      ],
      "execution_count": null,
      "outputs": [
        {
          "output_type": "stream",
          "text": [
            "카드가 발급되었습니다\n",
            "10000 원이 충전되었습니다.\n",
            "8000 원이 사용되었습니다.\n"
          ],
          "name": "stdout"
        }
      ]
    },
    {
      "cell_type": "markdown",
      "metadata": {
        "id": "HvOyvOqzXUUP"
      },
      "source": [
        "**문제 169. 충전한 금액보다 더 많은 금액을 소비하면 어떻게 되는지 테스트 하시오!**"
      ]
    },
    {
      "cell_type": "code",
      "metadata": {
        "colab": {
          "base_uri": "https://localhost:8080/"
        },
        "id": "TQUiuOYlXZxn",
        "outputId": "6db74449-24d8-496c-8051-f4998564d9ea"
      },
      "source": [
        "class Card():    # 부모 클래스\n",
        "    def __init__(self):\n",
        "        self.cash = 0\n",
        "        print('카드가 발급되었습니다')\n",
        "\n",
        "    def charge(self, num):\n",
        "        self.cash += num\n",
        "        print( num, '원이 충전되었습니다.' )\n",
        "\n",
        "    def consume(self, num):\n",
        "        if self.cash >= num:    # 잔액이 소비하는 돈보단 커야지만 쓸 수 있게\n",
        "            self.cash -= num\n",
        "            print(num, '원이 사용되었습니다.')\n",
        "        else:\n",
        "            print('잔액이 부족합니다')\n",
        "    \n",
        "ljh_card1 = Card()\n",
        "ljh_card1.charge(10000)\n",
        "ljh_card1.consume(800000)"
      ],
      "execution_count": null,
      "outputs": [
        {
          "output_type": "stream",
          "text": [
            "카드가 발급되었습니다\n",
            "10000 원이 충전되었습니다.\n",
            "잔액이 부족합니다\n"
          ],
          "name": "stdout"
        }
      ]
    },
    {
      "cell_type": "markdown",
      "metadata": {
        "id": "JMYqnKJQX2-Z"
      },
      "source": [
        "**문제 170. 팀장님이 만든 Card() 클래스를 상속받고 나는 상속받아 영화할인 카드를 생성하시오( 영화할인 카드 클래스: Movie_Card() )**"
      ]
    },
    {
      "cell_type": "code",
      "metadata": {
        "colab": {
          "base_uri": "https://localhost:8080/"
        },
        "id": "BCeV5sUiYIxr",
        "outputId": "0191e5cd-8f42-4a43-aef3-140d56bf9ae0"
      },
      "source": [
        "class Movie_Card(Card):  # 부모클래스인 Card() 클래스를 상속받아 Movie_Card 클래스를 만든다.\n",
        "    pass    # 아무것도 작동시키지 않겠다(여기선 테스트를 위해 아무것도 작동시키지 않고 지나가겠다.)\n",
        "\n",
        "m_card1 = Movie_Card()\n",
        "m_card1.charge(10000)\n",
        "m_card1.consume(8000)"
      ],
      "execution_count": null,
      "outputs": [
        {
          "output_type": "stream",
          "text": [
            "카드가 발급되었습니다\n",
            "10000 원이 충전되었습니다.\n",
            "8000 원이 사용되었습니다.\n"
          ],
          "name": "stdout"
        }
      ]
    },
    {
      "cell_type": "markdown",
      "metadata": {
        "id": "YHlRsMzwZ__d"
      },
      "source": [
        "**문제 171. 이번에는 제대로 영화관에서 사용하면 할인이 될수 있도록 영화클래스를 생성하시오**"
      ]
    },
    {
      "cell_type": "code",
      "metadata": {
        "colab": {
          "base_uri": "https://localhost:8080/"
        },
        "id": "hwhg_flnaGTI",
        "outputId": "a82d05f7-a439-4a1f-c1d3-40faa7117bd6"
      },
      "source": [
        "class Movie_Card( Card ):             # 부모클래스에게 __init__, charge, consume를 상속받음\n",
        "    def consume(self, num, place):    # 부모에게 받은 consume는 자식클래스에도 consume를 씀으로써 overriding이 됨\n",
        "        if place =='영화관':            # place라는 매개변수를 추가해 영화관에서의 할인기능을 추가할 수 있게 함\n",
        "            '''영화관에서만의 할인을 위한 기능'''\n",
        "            num = num * 0.8\n",
        "            if self.cash >= num:  # 잔액이 num보다 크다면 카드를 사용하고\n",
        "                self.cash -= num\n",
        "                print( '%s 에서 %d원이 사용되었습니다.' %(place,num) )\n",
        "            else:                 # 아니면 잔액이 부족하다고 출력해라\n",
        "                print('잔액이 부족합니다.')\n",
        "                \n",
        "        else:\n",
        "            '''영화관에서의 사용이 아닐 때의 기능'''\n",
        "            if self.cash >= num:\n",
        "                self.cash -= num\n",
        "                print('%s에서 %d원이 사용되었습니다' %(place, num) )\n",
        "            else:\n",
        "                print('잔액이 부족합니다.')\n",
        "\n",
        "m_card1 = Movie_Card()\n",
        "m_card1.charge(20000)\n",
        "m_card1.consume(12000, '영화관')\n",
        "m_card1.consume(2000, '편의점')"
      ],
      "execution_count": null,
      "outputs": [
        {
          "output_type": "stream",
          "text": [
            "카드가 발급되었습니다\n",
            "20000 원이 충전되었습니다.\n",
            "영화관 에서 9600원이 사용되었습니다.\n",
            "편의점에서 2000원이 사용되었습니다\n"
          ],
          "name": "stdout"
        }
      ]
    },
    {
      "cell_type": "markdown",
      "metadata": {
        "id": "oxQtRv9-hkWY"
      },
      "source": [
        "**문제 172. 위의 영화할인 카드에 할인 장소를 추가해서 주유소에서도 20% 할인 될 수 있도록 코드를 수정하시오**\n",
        "~~~\n",
        "m_card1 = Movie_Card()\n",
        "m_card1.charge(50000)\n",
        "m_card1.consume(12000, '영화관')\n",
        "m_card1.consume(30000, '주유소')\n",
        "m_card1.consume(2000, '편의점')\n",
        "~~~"
      ]
    },
    {
      "cell_type": "code",
      "metadata": {
        "colab": {
          "base_uri": "https://localhost:8080/"
        },
        "id": "E73sft8zhjoX",
        "outputId": "ff745f78-9af7-48c7-8562-4d21fc4616d1"
      },
      "source": [
        "class Movie_Card( Card ):             # 부모클래스에게 __init__, charge, consume를 상속받음\n",
        "    def consume(self, num, place):    # 부모에게 받은 consume는 자식클래스에도 consume를 씀으로써 overriding이 됨\n",
        "        if place in ('영화관', '주유소'):            # place라는 매개변수를 추가해 영화관에서의 할인기능을 추가할 수 있게 함\n",
        "            '''영화관과 주유소에서만의 할인을 위한 기능'''\n",
        "            num = num * 0.8\n",
        "            if self.cash >= num:  # 잔액이 num보다 크다면 카드를 사용하고\n",
        "                self.cash -= num\n",
        "                print( '%s 에서 %d원이 사용되었습니다.' %(place,num) )\n",
        "            else:                 # 아니면 잔액이 부족하다고 출력해라\n",
        "                print('잔액이 부족합니다.')\n",
        "                \n",
        "        else:\n",
        "            '''영화관에서의 사용이 아닐 때의 기능'''\n",
        "            if self.cash >= num:\n",
        "                self.cash -= num\n",
        "                print('%s에서 %d원이 사용되었습니다' %(place, num) )\n",
        "            else:\n",
        "                print('잔액이 부족합니다.')\n",
        "\n",
        "m_card1 = Movie_Card()\n",
        "m_card1.charge(50000)\n",
        "m_card1.consume(12000, '영화관')\n",
        "m_card1.consume(30000, '주유소')\n",
        "m_card1.consume(2000, '편의점')"
      ],
      "execution_count": null,
      "outputs": [
        {
          "output_type": "stream",
          "text": [
            "카드가 발급되었습니다\n",
            "50000 원이 충전되었습니다.\n",
            "영화관 에서 9600원이 사용되었습니다.\n",
            "주유소 에서 24000원이 사용되었습니다.\n",
            "편의점에서 2000원이 사용되었습니다\n"
          ],
          "name": "stdout"
        }
      ]
    },
    {
      "cell_type": "markdown",
      "metadata": {
        "id": "wooTHE2xi76s"
      },
      "source": [
        "**문제 173. 영화관과 주유소에서는 20%를 할인되게 하고 스타벅스에서는 10% 할인되게 코드를 수정하시오**"
      ]
    },
    {
      "cell_type": "code",
      "metadata": {
        "colab": {
          "base_uri": "https://localhost:8080/"
        },
        "id": "-NuczsSei65Y",
        "outputId": "88314e79-064c-40fa-cab0-47ee9a629b10"
      },
      "source": [
        "class Movie_Card(Card):\n",
        "    def consume(self, num, place):\n",
        "\n",
        "        if place in ('영화관', '주유소'):\n",
        "            '''영화관과 주유소에서의 할인 혜택'''\n",
        "            num = num * 0.8        # 20% 할인 혜택\n",
        "            if self.cash >= num:   # 카드의 잔액이 영화관, 주유소 소비금액보다 많은 경우 \n",
        "                self.cash -= num\n",
        "                print('%s에서 %d원이 사용되었습니다.' %(place, num))\n",
        "            else:   # 카드의 잔액이 부족한 경우\n",
        "                print('잔액이 부족합니다.')\n",
        "        \n",
        "        elif place == '스타벅스':\n",
        "            '''스타벅스에서의 할인 혜택'''\n",
        "            num = num * 0.9        # 10% 할인 혜택\n",
        "            if self.cash >= num:   # 카드의 잔액이 스타벅스의 소비금액보다 많은 경우\n",
        "                self.cash -= num\n",
        "                print('%s에서 %d원이 사용되었습니다.' %(place, num))\n",
        "            else:   # 카드의 잔액이 부족한 경우\n",
        "                print('잔액이 부족합니다.')\n",
        "        else:\n",
        "            '''할인혜택이 없는 일반적 결제'''\n",
        "            if self.cash >= num:\n",
        "                self.cash -= num\n",
        "                print('%s에서 %d원이 사용되었습니다' %(place, num))\n",
        "            else:\n",
        "                print('잔액이 부족합니다.')  # 함수에 return이라고 쓰면 함수를 호출할때 print( m_card1.consume(2000,'편의점'))처럼 써야 함\n",
        "\n",
        "m_card1 = Movie_Card()\n",
        "m_card1.charge(100000)\n",
        "m_card1.consume(12000,'영화관')\n",
        "m_card1.consume(30000,'주유소')\n",
        "m_card1.consume(6000,'스타벅스')\n",
        "m_card1.consume(2000,'편의점') "
      ],
      "execution_count": null,
      "outputs": [
        {
          "output_type": "stream",
          "text": [
            "카드가 발급되었습니다\n",
            "100000 원이 충전되었습니다.\n",
            "영화관에서 9600원이 사용되었습니다.\n",
            "주유소에서 24000원이 사용되었습니다.\n",
            "스타벅스에서 5400원이 사용되었습니다.\n",
            "편의점에서 2000원이 사용되었습니다\n"
          ],
          "name": "stdout"
        }
      ]
    },
    {
      "cell_type": "markdown",
      "metadata": {
        "id": "loA4CxI26vOs"
      },
      "source": [
        "#50. 클래스 맴버와 인스턴스 맴버 이해하기\n",
        "- 클래스에서 선언된 변수는 클래스 맴버(변수)와 인스턴스 맴버(변수)가 있음\n",
        "- 클래스 맴버는 클래스 메소드 바깥에서 선언되고 인스턴스 맴버는 클래스 메소드 안에서 self와 함께 선언되는 변수\n",
        "  \n"
      ]
    },
    {
      "cell_type": "code",
      "metadata": {
        "colab": {
          "base_uri": "https://localhost:8080/"
        },
        "id": "AVGR-4ND7d_F",
        "outputId": "963490bc-5dcb-4314-bf25-fbffacf7a9d1"
      },
      "source": [
        " # 예제: 사원이 입사하면 입사한 사원에 대한 이메일을 자동으로 생성하고 이름을 출력하는 함수와 월급을 인상하는 함수를 담는 클래스를 생성\n",
        "\n",
        " \n",
        "class  Employees:  # ()를 안쓰는 이유는 초기화(__init__) 함수에 입력 매개변수가 이미 여러개 존재하기 때문.\n",
        "    \n",
        "    raise_amount = 1.1  # 클래스 변수 = 클래스 맴버, 클래스 변수에는 self가 없음\n",
        "    \n",
        "    def __init__(self, first, last, pay): # emp_chulsu2 = Employees('chulsu2', 'kim', 5000000)\n",
        "                                          # 위와 같이 객체(제품)를 생성할때 입력값이 3개가 입력되면서 객체(제품)이 만들어짐\n",
        "        self.first = first               \n",
        "        self.last  = last\n",
        "        self.pay   = pay\n",
        "        self.email = first.lower() + '.' + last.lower() + '@gmail.com'\n",
        "        self.raise_amount = 1.1  # 인스턴스 변수\n",
        "\n",
        "    def  full_name(self): #사원의 전체이름을 출력하는 함수\n",
        "        return  '{} {}'.format(self.first, self.last) # 앞의 중괄호 2개에 각각 self.first와 self.last에 있는 값이 입력이 됨\n",
        "\n",
        "    def  apply_raise(self): # 월급을 인상하는 함수\n",
        "        self.pay = int( self.pay * self.raise_amount)\n",
        "        # 위에서 각각 정립한 5000000  X    1.1를 정수형으로 변환시켜 self.pay에 넣음\n",
        "\n",
        "emp_chulsu = Employees('chulsu', 'kim', 5000000)\n",
        "print(emp_chulsu.pay)   # 5000000\n",
        "     # 객체 이름 . 인스턴스 변수 이름\n",
        "emp_chulsu.apply_raise()\n",
        "print(emp_chulsu.pay)  # 5500000\n",
        "\n",
        "emp_chulsu2 = Employees('chulsu2', 'kim', 5000000)\n",
        "emp_chulsu2.raise_amount = 1.2\n",
        "print(emp_chulsu2.pay)   # 5000000\n",
        "emp_chulsu2.apply_raise()\n",
        "print(emp_chulsu2.pay)  # 6000000\n"
      ],
      "execution_count": 24,
      "outputs": [
        {
          "output_type": "stream",
          "text": [
            "5000000\n",
            "5500000\n",
            "5000000\n",
            "6000000\n"
          ],
          "name": "stdout"
        }
      ]
    },
    {
      "cell_type": "markdown",
      "metadata": {
        "id": "TBRRfkkXAkhw"
      },
      "source": [
        "**문제 174. 위에서 생성한 객체 emp_chulsu의 email 변수에 있는 내용을 출력하시오**"
      ]
    },
    {
      "cell_type": "code",
      "metadata": {
        "colab": {
          "base_uri": "https://localhost:8080/"
        },
        "id": "CJJtKtldAusX",
        "outputId": "65f1a242-f9cd-4452-ab6f-d5dfeba01106"
      },
      "source": [
        "\n",
        "class  Employees:  # ()를 안쓰는 이유는 초기화(__init__) 함수에 입력 매개변수가 이미 여러개 존재하기 때문.\n",
        "    \n",
        "    raise_amount = 1.1  # 클래스 변수 = 클래스 맴버, 클래스 변수에는 self가 없음\n",
        "    \n",
        "    def __init__(self, first, last, pay): # emp_chulsu2 = Employees('chulsu2', 'kim', 5000000)\n",
        "                                          # 위와 같이 객체(제품)를 생성할때 입력값이 3개가 입력되면서 객체(제품)이 만들어짐\n",
        "        self.first = first               \n",
        "        self.last  = last\n",
        "        self.pay   = pay\n",
        "        self.email = first.lower() + '.' + last.lower() + '@gmail.com'\n",
        "        self.raise_amount = 1.1  # 인스턴스 변수\n",
        "\n",
        "    def  full_name(self): #사원의 전체이름을 출력하는 함수\n",
        "        return  '{} {}'.format(self.first, self.last) # 앞의 중괄호 2개에 각각 self.first와 self.last에 있는 값이 입력이 됨\n",
        "\n",
        "emp_chulsu = Employees('chulsu', 'kim', 5000000)\n",
        "print(emp_chulsu.email)"
      ],
      "execution_count": 25,
      "outputs": [
        {
          "output_type": "stream",
          "text": [
            "chulsu.kim@gmail.com\n"
          ],
          "name": "stdout"
        }
      ]
    },
    {
      "cell_type": "markdown",
      "metadata": {
        "id": "_capm02KBIba"
      },
      "source": [
        "**문제 175. 철수의 월급을 회사규정에 따라 인상시키시오**"
      ]
    },
    {
      "cell_type": "code",
      "metadata": {
        "colab": {
          "base_uri": "https://localhost:8080/"
        },
        "id": "OjJRXoRnBUxt",
        "outputId": "8a57730e-367e-4ae4-fc6e-c20cc8fd0b27"
      },
      "source": [
        "class  Employees:  # ()를 안쓰는 이유는 초기화(__init__) 함수에 입력 매개변수가 이미 여러개 존재하기 때문.\n",
        "    \n",
        "    raise_amount = 1.1  # 클래스 변수 = 클래스 맴버, 클래스 변수에는 self가 없음\n",
        "    \n",
        "    def __init__(self, first, last, pay): # emp_chulsu2 = Employees('chulsu2', 'kim', 5000000)\n",
        "                                          # 위와 같이 객체(제품)를 생성할때 입력값이 3개가 입력되면서 객체(제품)이 만들어짐\n",
        "        self.first = first               \n",
        "        self.last  = last\n",
        "        self.pay   = pay\n",
        "        self.email = first.lower() + '.' + last.lower() + '@gmail.com'\n",
        "        self.raise_amount = 1.1  # 인스턴스 변수\n",
        "\n",
        "    def  full_name(self): #사원의 전체이름을 출력하는 함수\n",
        "        return  '{} {}'.format(self.first, self.last) # 앞의 중괄호 2개에 각각 self.first와 self.last에 있는 값이 입력이 됨\n",
        "\n",
        "    def  apply_raise(self): # 월급을 인상하는 함수\n",
        "        self.pay = int( self.pay * self.raise_amount)\n",
        "        # 위에서 각각 정립한 5000000  X    1.1를 정수형으로 변환시켜 self.pay에 넣음\n",
        "\n",
        "emp_chulsu = Employees('chulsu', 'kim', 5000000)\n",
        "print(emp_chulsu.pay)     # 5000000\n",
        "emp_chulsu.apply_raise()  # emp_chulsu 객체의 apply_raise() 메소드를 실행시킴\n",
        "print(emp_chulsu.pay)"
      ],
      "execution_count": 26,
      "outputs": [
        {
          "output_type": "stream",
          "text": [
            "5000000\n",
            "5500000\n"
          ],
          "name": "stdout"
        }
      ]
    },
    {
      "cell_type": "markdown",
      "metadata": {
        "id": "xcRdDUYdBnL0"
      },
      "source": [
        "**문제 176. 이번에는 새로운 사원 철수2로 emp_chulsu2로 객채를 생성하시오**"
      ]
    },
    {
      "cell_type": "code",
      "metadata": {
        "colab": {
          "base_uri": "https://localhost:8080/"
        },
        "id": "tm5KPgd0BdEZ",
        "outputId": "f7641b21-799f-491b-86f1-d1625cb8afbb"
      },
      "source": [
        "class  Employees:  # ()를 안쓰는 이유는 초기화(__init__) 함수에 입력 매개변수가 이미 여러개 존재하기 때문.\n",
        "    \n",
        "    raise_amount = 1.1  # 클래스 변수 = 클래스 맴버, 클래스 변수에는 self가 없음\n",
        "    \n",
        "    def __init__(self, first, last, pay): # emp_chulsu2 = Employees('chulsu2', 'kim', 5000000)\n",
        "                                          # 위와 같이 객체(제품)를 생성할때 입력값이 3개가 입력되면서 객체(제품)이 만들어짐\n",
        "        self.first = first               \n",
        "        self.last  = last\n",
        "        self.pay   = pay\n",
        "        self.email = first.lower() + '.' + last.lower() + '@gmail.com'\n",
        "        self.raise_amount = 1.1  # 인스턴스 변수\n",
        "\n",
        "    def  full_name(self): #사원의 전체이름을 출력하는 함수\n",
        "        return  '{} {}'.format(self.first, self.last) # 앞의 중괄호 2개에 각각 self.first와 self.last에 있는 값이 입력이 됨\n",
        "\n",
        "    def  apply_raise(self): # 월급을 인상하는 함수\n",
        "        self.pay = int( self.pay * self.raise_amount)\n",
        "        # 위에서 각각 정립한 5000000  X    1.1를 정수형으로 변환시켜 self.pay에 넣음\n",
        "\n",
        "emp_chulsu2 = Employees('chulsu2', 'kim', 5000000)\n",
        "print(emp_chulsu2)"
      ],
      "execution_count": 34,
      "outputs": [
        {
          "output_type": "stream",
          "text": [
            "<__main__.Employees object at 0x7f59fdf186a0>\n"
          ],
          "name": "stdout"
        }
      ]
    },
    {
      "cell_type": "markdown",
      "metadata": {
        "id": "Hm-QRO3-B16y"
      },
      "source": [
        "**문제 177. 철수 2 사원이 월급을 인상시키기 위한  인스턴스 변수를 알아냈습니다. 자기는 월급을 20%로 인상으로 바꾸고 싶어 아래와 같이 emp_chulsu2 객체의 맴버인 raise_amont라는 변수에 1.2를 할당하고 월급을 인상시키는 apply_raise()메소드를 실행을 했다.**\n",
        "~~~\n",
        "raise_amount = 1.2\n",
        "~~~"
      ]
    },
    {
      "cell_type": "code",
      "metadata": {
        "colab": {
          "base_uri": "https://localhost:8080/"
        },
        "id": "RcHzJwT3ChmL",
        "outputId": "d5d958e1-8ccf-4134-c4c3-a9979eb0b344"
      },
      "source": [
        "\n",
        "class  Employees:\n",
        "    raise_amount = 1.1  # 클래스 변수\n",
        "    def __init__(self, first, last, pay): # 객체가 만들어질때\n",
        "        self.first = first               # 바로 작동되는 함수\n",
        "        self.last  = last\n",
        "        self.pay   = pay\n",
        "        self.email = first.lower() + '.' + last.lower() + '@gmail.com'\n",
        "        self.raise_amount = 1.1  # 인스턴스 변수\n",
        "\n",
        "    def  full_name(self): #사원의 전체이름을 출력하는 함수\n",
        "        return  '{} {}'.format(self.first, self.last)\n",
        "\n",
        "    def  apply_raise(self): # 월급을 인상하는 함수\n",
        "        self.pay = int( self.pay * self.raise_amount)\n",
        "\n",
        "emp_chulsu2 = Employees('chulsu2', 'kim', 5000000)\n",
        "emp_chulsu2.raise_amount = 1.2\n",
        "print(emp_chulsu2.pay)   # 5000000\n",
        "emp_chulsu2.apply_raise()\n",
        "print(emp_chulsu2.pay)  # 6000000"
      ],
      "execution_count": 32,
      "outputs": [
        {
          "output_type": "stream",
          "text": [
            "5000000\n",
            "6000000\n"
          ],
          "name": "stdout"
        }
      ]
    },
    {
      "cell_type": "markdown",
      "metadata": {
        "id": "B8C5EVJIDGuq"
      },
      "source": [
        "**문제178. 그래서 위와 같이 악용이 될 수 없도록 막는 방법이 무엇입니까?**\n"
      ]
    },
    {
      "cell_type": "code",
      "metadata": {
        "colab": {
          "base_uri": "https://localhost:8080/"
        },
        "id": "NaRPYoTlDgiZ",
        "outputId": "14c52608-420e-4594-d451-3504229b3e7f"
      },
      "source": [
        "class  Employees:\n",
        "    raise_amount = 1.1  # 클래스 변수\n",
        "    def __init__(self, first, last, pay): # 객체가 만들어질때\n",
        "        self.first = first               # 바로 작동되는 함수\n",
        "        self.last  = last\n",
        "        self.pay   = pay\n",
        "        self.email = first.lower() + '.' + last.lower() + '@gmail.com'\n",
        "        self.raise_amount = 1.1  # 인스턴스 변수\n",
        "\n",
        "    def  full_name(self): #사원의 전체이름을 출력하는 함수\n",
        "        return  '{} {}'.format(self.first, self.last)\n",
        "\n",
        "    def  apply_raise(self): # 월급을 인상하는 함수\n",
        "        self.pay = int( self.pay * Employees.raise_amount)  # 클래스 변수를 사용 \n",
        "                    # 아까는 이곳이 self였는데 지금은 클래스 이름인 Employees가 있다\n",
        "                    # 이 자리는 인스턴스 변수가 아닌 클래스 변수를 썼음\n",
        "emp_chulsu2 = Employees('chulsu2', 'kim', 5000000)\n",
        "\n",
        "emp_chulsu2.raise_amount = 1.2   # 인스턴스 변수만 변경할 수 있고 클래스 변수는\n",
        "                                             # 변경할 수 없다. \n",
        "\n",
        "print(emp_chulsu2.pay)   # 5000000\n",
        "emp_chulsu2.apply_raise()\n",
        "print(emp_chulsu2.pay)  # 6000000"
      ],
      "execution_count": 30,
      "outputs": [
        {
          "output_type": "stream",
          "text": [
            "5000000\n",
            "5500000\n"
          ],
          "name": "stdout"
        }
      ]
    },
    {
      "cell_type": "markdown",
      "metadata": {
        "id": "uxfWX7BgEKWI"
      },
      "source": [
        "위와 같이 민감한 변수(맴버)들은 인스턴스 변수가 아니라 클래스 변수(맴버)를 사용해서 계산되게 코딩해야 함  \n",
        "클래스내의 변수가 2개 있는데\n",
        "1. 클래스변수: 메소드 바깥의 변수  \n",
        "> 객체 생성 이후에 안의 값을 변경할 수 없다\n",
        "2. 인스턴스 변수: 메소드 안의 변수\n",
        "> 객체 생성 이후에 안의 값을 변경할 수 있다\n",
        " \n",
        "앞으로는 클래스를 활용해서 코딩을 하는 습관을 들일 필요가 있다"
      ]
    },
    {
      "cell_type": "markdown",
      "metadata": {
        "id": "FMWh2Kq7EXsu"
      },
      "source": [
        "#55. 예외처리 하기(try ~ except)\n",
        "\n",
        "- 프로그램을 작성하다 보면 뜻하지 않는 오류가 발생하는 코드가 있을 수 있다.\n",
        "- 프로그램이 실행되는 동안 오류가 발생하면 프로그램이 더 이상 진행될 수 없는 상태가 되는데 이를 예외상황이라고 함\n",
        "- 프로그램에 예외가 발생하더라도 프로그램을 중단 되지 않고 예외에 대한 적절한 처리를 하여 프로그램을 계속 진행 시킬 수 있도록 하는 구문이 try ~ except\n",
        "\n",
        "~~~\n",
        "try:\n",
        "    문제가 없을 경우 실행할 코드\n",
        "except:\n",
        "    문제가 생겼을 때 실행할 코드\n",
        "~~~\n"
      ]
    },
    {
      "cell_type": "code",
      "metadata": {
        "colab": {
          "base_uri": "https://localhost:8080/",
          "height": 385
        },
        "id": "8VdY0gV0J6g-",
        "outputId": "eddadaa1-696e-4d23-a10b-2205fcc305e5"
      },
      "source": [
        "# 예제1: try ~ except를 사용해서 예외처리를 하지 않았을 때의 코드\n",
        "\n",
        "def my_divide():\n",
        "    x = input('분자의 숫자를 입력하세요')\n",
        "    y = input('분모의 숫자를 입력하세요')\n",
        "    return int(x) / int(y)\n",
        "\n",
        "print( my_divide() )\n",
        "\n",
        "# ZeroDivisionError: division by zero"
      ],
      "execution_count": 40,
      "outputs": [
        {
          "output_type": "stream",
          "text": [
            "분자의 숫자를 입력하세요10\n",
            "분모의 숫자를 입력하세요0\n"
          ],
          "name": "stdout"
        },
        {
          "output_type": "error",
          "ename": "ZeroDivisionError",
          "evalue": "ignored",
          "traceback": [
            "\u001b[0;31m---------------------------------------------------------------------------\u001b[0m",
            "\u001b[0;31mZeroDivisionError\u001b[0m                         Traceback (most recent call last)",
            "\u001b[0;32m<ipython-input-40-c5417fb4657e>\u001b[0m in \u001b[0;36m<module>\u001b[0;34m()\u001b[0m\n\u001b[1;32m      6\u001b[0m     \u001b[0;32mreturn\u001b[0m \u001b[0mint\u001b[0m\u001b[0;34m(\u001b[0m\u001b[0mx\u001b[0m\u001b[0;34m)\u001b[0m \u001b[0;34m/\u001b[0m \u001b[0mint\u001b[0m\u001b[0;34m(\u001b[0m\u001b[0my\u001b[0m\u001b[0;34m)\u001b[0m\u001b[0;34m\u001b[0m\u001b[0;34m\u001b[0m\u001b[0m\n\u001b[1;32m      7\u001b[0m \u001b[0;34m\u001b[0m\u001b[0m\n\u001b[0;32m----> 8\u001b[0;31m \u001b[0mprint\u001b[0m\u001b[0;34m(\u001b[0m \u001b[0mmy_divide\u001b[0m\u001b[0;34m(\u001b[0m\u001b[0;34m)\u001b[0m \u001b[0;34m)\u001b[0m\u001b[0;34m\u001b[0m\u001b[0;34m\u001b[0m\u001b[0m\n\u001b[0m\u001b[1;32m      9\u001b[0m \u001b[0;34m\u001b[0m\u001b[0m\n\u001b[1;32m     10\u001b[0m \u001b[0;31m# ZeroDivisionError: division by zero\u001b[0m\u001b[0;34m\u001b[0m\u001b[0;34m\u001b[0m\u001b[0;34m\u001b[0m\u001b[0m\n",
            "\u001b[0;32m<ipython-input-40-c5417fb4657e>\u001b[0m in \u001b[0;36mmy_divide\u001b[0;34m()\u001b[0m\n\u001b[1;32m      4\u001b[0m     \u001b[0mx\u001b[0m \u001b[0;34m=\u001b[0m \u001b[0minput\u001b[0m\u001b[0;34m(\u001b[0m\u001b[0;34m'분자의 숫자를 입력하세요'\u001b[0m\u001b[0;34m)\u001b[0m\u001b[0;34m\u001b[0m\u001b[0;34m\u001b[0m\u001b[0m\n\u001b[1;32m      5\u001b[0m     \u001b[0my\u001b[0m \u001b[0;34m=\u001b[0m \u001b[0minput\u001b[0m\u001b[0;34m(\u001b[0m\u001b[0;34m'분모의 숫자를 입력하세요'\u001b[0m\u001b[0;34m)\u001b[0m\u001b[0;34m\u001b[0m\u001b[0;34m\u001b[0m\u001b[0m\n\u001b[0;32m----> 6\u001b[0;31m     \u001b[0;32mreturn\u001b[0m \u001b[0mint\u001b[0m\u001b[0;34m(\u001b[0m\u001b[0mx\u001b[0m\u001b[0;34m)\u001b[0m \u001b[0;34m/\u001b[0m \u001b[0mint\u001b[0m\u001b[0;34m(\u001b[0m\u001b[0my\u001b[0m\u001b[0;34m)\u001b[0m\u001b[0;34m\u001b[0m\u001b[0;34m\u001b[0m\u001b[0m\n\u001b[0m\u001b[1;32m      7\u001b[0m \u001b[0;34m\u001b[0m\u001b[0m\n\u001b[1;32m      8\u001b[0m \u001b[0mprint\u001b[0m\u001b[0;34m(\u001b[0m \u001b[0mmy_divide\u001b[0m\u001b[0;34m(\u001b[0m\u001b[0;34m)\u001b[0m \u001b[0;34m)\u001b[0m\u001b[0;34m\u001b[0m\u001b[0;34m\u001b[0m\u001b[0m\n",
            "\u001b[0;31mZeroDivisionError\u001b[0m: division by zero"
          ]
        }
      ]
    },
    {
      "cell_type": "markdown",
      "metadata": {
        "id": "Q2gqDWIOKu59"
      },
      "source": [
        "위의 경우가 에러다"
      ]
    },
    {
      "cell_type": "code",
      "metadata": {
        "colab": {
          "base_uri": "https://localhost:8080/"
        },
        "id": "VURHJkXrKViB",
        "outputId": "01929c5f-5cf3-4824-eabb-0a32d4dcc126"
      },
      "source": [
        "# 예제 2. try ~ except를 사용했을 때\n",
        "\n",
        "def my_divide():\n",
        "    try:\n",
        "        '''문제가 없었을 때 실행되는 코드'''\n",
        "        x = input('분자의 숫자를 입력하세요')\n",
        "        y = input('분모의 숫자를 입력하세요')\n",
        "        return int(x) / int(y)\n",
        "    except:\n",
        "        '''문제가 생겼을 때 실행되는 코드'''\n",
        "        return '잘못된 값을 입력하셔서 나누기를 할 수 없습니다.'\n",
        "\n",
        "print( my_divide() )\n"
      ],
      "execution_count": 39,
      "outputs": [
        {
          "output_type": "stream",
          "text": [
            "분자의 숫자를 입력하세요10\n",
            "분모의 숫자를 입력하세요0\n",
            "잘못된 값을 입력하셔서 나누기를 할 수 없습니다.\n"
          ],
          "name": "stdout"
        }
      ]
    },
    {
      "cell_type": "markdown",
      "metadata": {
        "id": "cnrSkFHjL7w7"
      },
      "source": [
        "try와 except 사이에 코드가 잘 실행이 된다면 except 이후의 문장은 실행하지 않고 try와 except 사이에 코드가 실행이 안된다면 except 이후의 문장을 실행한다."
      ]
    },
    {
      "cell_type": "markdown",
      "metadata": {
        "id": "17UgCf0xMnpq"
      },
      "source": [
        "**문제 179. 판다스를 이용해서 emp3.csv에서 이름고 월급을 출력하시오**"
      ]
    },
    {
      "cell_type": "code",
      "metadata": {
        "colab": {
          "resources": {
            "http://localhost:8080/nbextensions/google.colab/files.js": {
              "data": "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",
              "ok": true,
              "headers": [
                [
                  "content-type",
                  "application/javascript"
                ]
              ],
              "status": 200,
              "status_text": ""
            }
          },
          "base_uri": "https://localhost:8080/",
          "height": 72
        },
        "id": "0786KY4SMr7u",
        "outputId": "d85d7584-a67b-442c-f45f-f1cf5e3e87da"
      },
      "source": [
        "from google.colab import files\n",
        "uploaded = files.upload()"
      ],
      "execution_count": 41,
      "outputs": [
        {
          "output_type": "display_data",
          "data": {
            "text/html": [
              "\n",
              "     <input type=\"file\" id=\"files-125b5b3d-78fe-408f-a117-1e4d6aa5f007\" name=\"files[]\" multiple disabled\n",
              "        style=\"border:none\" />\n",
              "     <output id=\"result-125b5b3d-78fe-408f-a117-1e4d6aa5f007\">\n",
              "      Upload widget is only available when the cell has been executed in the\n",
              "      current browser session. Please rerun this cell to enable.\n",
              "      </output>\n",
              "      <script src=\"/nbextensions/google.colab/files.js\"></script> "
            ],
            "text/plain": [
              "<IPython.core.display.HTML object>"
            ]
          },
          "metadata": {
            "tags": []
          }
        },
        {
          "output_type": "stream",
          "text": [
            "Saving emp3.csv to emp3.csv\n"
          ],
          "name": "stdout"
        }
      ]
    },
    {
      "cell_type": "code",
      "metadata": {
        "colab": {
          "base_uri": "https://localhost:8080/"
        },
        "id": "Klw0CxcVMwp0",
        "outputId": "b3e7cfca-6832-4d08-893f-546916bd108f"
      },
      "source": [
        "import pandas as pd\n",
        "\n",
        "emp = pd.read_csv('emp3.csv')\n",
        "\n",
        "print( emp[['ename', 'sal']] )"
      ],
      "execution_count": 46,
      "outputs": [
        {
          "output_type": "stream",
          "text": [
            "     ename   sal\n",
            "0     KING  5000\n",
            "1    BLAKE  2850\n",
            "2    CLARK  2450\n",
            "3    JONES  2975\n",
            "4   MARTIN  1250\n",
            "5    ALLEN  1600\n",
            "6   TURNER  1500\n",
            "7    JAMES   950\n",
            "8     WARD  1250\n",
            "9     FORD  3000\n",
            "10   SMITH   800\n",
            "11   SCOTT  3000\n",
            "12   ADAMS  1100\n",
            "13  MILLER  1300\n"
          ],
          "name": "stdout"
        }
      ]
    },
    {
      "cell_type": "markdown",
      "metadata": {
        "id": "PHqKhbMmNGpk"
      },
      "source": [
        "**문제 180. 이름이 'SCOTT'인 사원의 이름과 월급을 출력하시오**"
      ]
    },
    {
      "cell_type": "code",
      "metadata": {
        "colab": {
          "base_uri": "https://localhost:8080/"
        },
        "id": "njb5kKoiNGGG",
        "outputId": "40534352-d9bd-4f79-95ce-fe12799a05be"
      },
      "source": [
        "import pandas as pd\n",
        "\n",
        "emp = pd.read_csv('emp3.csv')\n",
        "\n",
        "print(emp[['ename', 'sal']][emp['ename']=='SCOTT'])"
      ],
      "execution_count": 48,
      "outputs": [
        {
          "output_type": "stream",
          "text": [
            "    ename   sal\n",
            "11  SCOTT  3000\n"
          ],
          "name": "stdout"
        }
      ]
    },
    {
      "cell_type": "markdown",
      "metadata": {
        "id": "a4cNJfg2Nbho"
      },
      "source": [
        "**문제 181. input 함수를 이용해서 이름을 물어보게 하고 이름을 입력하면 해당 사원의 이름과 월급이 출력되게 하시오**\n",
        "\n",
        "~~~\n",
        "이름을 입력하세요:  SCOTT\n",
        "SCOTT 3000\n",
        "~~~"
      ]
    },
    {
      "cell_type": "code",
      "metadata": {
        "colab": {
          "base_uri": "https://localhost:8080/"
        },
        "id": "kymftHRTNEpm",
        "outputId": "60eaccdb-6312-4a33-830e-3f83809df7f1"
      },
      "source": [
        "import pandas as pd\n",
        "\n",
        "emp = pd.read_csv('emp3.csv')\n",
        "\n",
        "name = input('이름을 입력하세요')\n",
        "\n",
        "print( emp[['ename', 'sal']][emp['ename']==name])"
      ],
      "execution_count": 49,
      "outputs": [
        {
          "output_type": "stream",
          "text": [
            "이름을 입력하세요SCOTT\n",
            "    ename   sal\n",
            "11  SCOTT  3000\n"
          ],
          "name": "stdout"
        }
      ]
    },
    {
      "cell_type": "markdown",
      "metadata": {
        "id": "WQN55VB4OkRc"
      },
      "source": [
        "**문제 182. 이번에는 소문자로 이름을 입력해도 출력되게 하시오**\n",
        "\n",
        "~~~\n",
        "이름을 입력하세요:  scott\n",
        "SCOTT 3000\n",
        "~~~"
      ]
    },
    {
      "cell_type": "code",
      "metadata": {
        "colab": {
          "base_uri": "https://localhost:8080/"
        },
        "id": "L_XRvWTaOofr",
        "outputId": "e48cb1dd-3437-4d81-9bb8-bffc5980eb93"
      },
      "source": [
        "import pandas as pd\n",
        "\n",
        "emp = pd.read_csv('emp3.csv')\n",
        "\n",
        "name = input('이름을 입력하세요')\n",
        "\n",
        "print( emp[['ename', 'sal']][emp['ename']== name.upper()])"
      ],
      "execution_count": 52,
      "outputs": [
        {
          "output_type": "stream",
          "text": [
            "이름을 입력하세요scott\n",
            "    ename   sal\n",
            "11  SCOTT  3000\n"
          ],
          "name": "stdout"
        }
      ]
    },
    {
      "cell_type": "markdown",
      "metadata": {
        "id": "-Zv40mr2PLuv"
      },
      "source": [
        "**문제 183. 그런데 이번에는 위의 코드를 실행하는데 없는 사원이름을 입력하시오!**\n",
        "\n",
        "~~~\n",
        "이름을 입력하세요:  jack\n",
        "~~~"
      ]
    },
    {
      "cell_type": "code",
      "metadata": {
        "colab": {
          "base_uri": "https://localhost:8080/"
        },
        "id": "F0-ZJQatPZuj",
        "outputId": "3e6e4c96-714b-439d-9c11-6b315524b45f"
      },
      "source": [
        "import pandas as pd\n",
        "\n",
        "emp = pd.read_csv('emp3.csv')\n",
        "\n",
        "name = input('이름을 입력하세요')\n",
        "\n",
        "print( emp[['ename', 'sal']][emp['ename']== name.upper()])"
      ],
      "execution_count": 53,
      "outputs": [
        {
          "output_type": "stream",
          "text": [
            "이름을 입력하세요jack\n",
            "Empty DataFrame\n",
            "Columns: [ename, sal]\n",
            "Index: []\n"
          ],
          "name": "stdout"
        }
      ]
    },
    {
      "cell_type": "markdown",
      "metadata": {
        "id": "7PCcLLgHPsU3"
      },
      "source": [
        "**문제 184. 위의 코드에 예외처리를 해서 없는 사원이름을 입력하면 \"입력하신 이름의 사원은 존재하지 않습니다\"라는 메세지가 출력되게 하시오!**\n",
        "\n",
        "**답: 이것은 에러가 아니라서 예외처리가 되지 않습니다**"
      ]
    },
    {
      "cell_type": "markdown",
      "metadata": {
        "id": "VM48kzEEQaOX"
      },
      "source": [
        "**문제 185. 숫자를 입력하면 해당 숫자의 제곱값이 출력되는 코드를 구현하시오**\n",
        "\n",
        "~~~\n",
        "숫자를 입력하세요: 2\n",
        "4\n",
        "~~~"
      ]
    },
    {
      "cell_type": "code",
      "metadata": {
        "colab": {
          "base_uri": "https://localhost:8080/"
        },
        "id": "i2jueZp4Pa33",
        "outputId": "b8b377f7-531d-4455-a032-e7304db7f03b"
      },
      "source": [
        "squart = int(input('숫자를 입력하세요'))\n",
        "\n",
        "print(squart**2)"
      ],
      "execution_count": 58,
      "outputs": [
        {
          "output_type": "stream",
          "text": [
            "숫자를 입력하세요5\n",
            "25\n"
          ],
          "name": "stdout"
        }
      ]
    },
    {
      "cell_type": "markdown",
      "metadata": {
        "id": "LlMWZtNlRkKz"
      },
      "source": [
        "**문제 186. try ~ except 예외처리를 이용해서 아래와 같이 문자를 입력하면 '잘못된 값을 입력하셨습니다'라는 메세지가 출력되게 하시오**\n",
        "~~~\n",
        "숫자를 입력하세요: a\n",
        "잘못된 값을 입력하셨습니다.\n",
        "~~~"
      ]
    },
    {
      "cell_type": "code",
      "metadata": {
        "colab": {
          "base_uri": "https://localhost:8080/"
        },
        "id": "gKkiQZ1NRjcS",
        "outputId": "7783214f-15d4-4a4f-8802-f3866eda2b0d"
      },
      "source": [
        "try:\n",
        "    squart = int(input('숫자를 입력하세요')) \n",
        "    print(squart**2)\n",
        "\n",
        "except: \n",
        "    print('잘못된 값을 입력하셨습니다') "
      ],
      "execution_count": 63,
      "outputs": [
        {
          "output_type": "stream",
          "text": [
            "숫자를 입력하세요ㅣ\n",
            "잘못된 값을 입력하셨습니다\n"
          ],
          "name": "stdout"
        }
      ]
    },
    {
      "cell_type": "markdown",
      "metadata": {
        "id": "U8dzRnedS95r"
      },
      "source": [
        "try와 except 사이의 있는 코드에서 에러가 나야지만 except 이후의 문장을 실행합니다."
      ]
    },
    {
      "cell_type": "markdown",
      "metadata": {
        "id": "XR-W0COzW0Cb"
      },
      "source": [
        "#56. 예외처리 이해하기 2 (try ~ except ~ else)\n",
        "- 어떤 로직을 수행할 때 오류 상황이 아닐 경우에만 어떤 작업을 수행하는 코드를 작성해야 할 떄가 있음\n",
        "- 이때 try ~ except ~ else 구문을 활용함\n",
        "~~~\n",
        "예제:\n",
        "try:\n",
        "    실행할 코드 블럭\n",
        "except:\n",
        "    예외처리할 코드 블럭\n",
        "else:\n",
        "    excpet 절을 만나지 않았을 경우 실행하는 코드 블럭\n",
        "~~~"
      ]
    },
    {
      "cell_type": "code",
      "metadata": {
        "colab": {
          "base_uri": "https://localhost:8080/"
        },
        "id": "6tXtt8n0S9CZ",
        "outputId": "2a417d85-5e12-44c4-ab07-85c4ee983fdd"
      },
      "source": [
        "# 예제 1\n",
        "try:\n",
        "    squart = int(input('숫자를 입력하세요')) \n",
        "    print(squart**2)\n",
        "\n",
        "except: \n",
        "    print('잘못된 값을 입력하셨습니다')\n",
        "     \n",
        "else:\n",
        "    print('결과 출력에 성공했습니다.')"
      ],
      "execution_count": 67,
      "outputs": [
        {
          "output_type": "stream",
          "text": [
            "숫자를 입력하세요5\n",
            "25\n",
            "결과 출력에 성공했습니다.\n"
          ],
          "name": "stdout"
        }
      ]
    },
    {
      "cell_type": "code",
      "metadata": {
        "colab": {
          "base_uri": "https://localhost:8080/"
        },
        "id": "dCLTvcnjX9sG",
        "outputId": "a3140e39-42cc-4908-f070-35b403547044"
      },
      "source": [
        "# 예제 1\n",
        "try:\n",
        "    squart = int(input('숫자를 입력하세요')) \n",
        "    print(squart**2)\n",
        "\n",
        "except: \n",
        "    print('잘못된 값을 입력하셨습니다')\n",
        "     \n",
        "else:\n",
        "    print('결과 출력에 성공했습니다.')"
      ],
      "execution_count": 68,
      "outputs": [
        {
          "output_type": "stream",
          "text": [
            "숫자를 입력하세요ㅋ\n",
            "잘못된 값을 입력하셨습니다\n"
          ],
          "name": "stdout"
        }
      ]
    },
    {
      "cell_type": "markdown",
      "metadata": {
        "id": "SYeHxBv9YECa"
      },
      "source": [
        "- 설명: try ~ except 사이의 코드에 에러가 나지 않았다면 else: 이후의 문장을 실행함"
      ]
    },
    {
      "cell_type": "markdown",
      "metadata": {
        "id": "xJCYs0G6Y3Yk"
      },
      "source": [
        "**문제 187. 아까 했던 나누기 프로그램을 수정해서 나누기가 성공하면   '성공적으로 나누기를 하였습니다'   라는 메세지가 출력되게 하시오**\n",
        "~~~\n",
        "분자를 입력하세요: 10\n",
        "분모를 입력하세요: 2\n",
        "\n",
        "5\n",
        "성공적으로 나누기를 하였습니다\n",
        "~~~"
      ]
    },
    {
      "cell_type": "code",
      "metadata": {
        "colab": {
          "base_uri": "https://localhost:8080/"
        },
        "id": "7-GHaV8SY2-f",
        "outputId": "a81e071e-f129-4d87-c234-03cba68b88bf"
      },
      "source": [
        "\n",
        "try:\n",
        "    '''문제가 없었을 때 실행되는 코드'''\n",
        "    x = input('분자의 숫자를 입력하세요')\n",
        "    y = input('분모의 숫자를 입력하세요')\n",
        "    print( int(x) / int(y) )\n",
        "except:\n",
        "    '''문제가 생겼을 때 실행되는 코드'''\n",
        "    print( '잘못된 값을 입력하셔서 나누기를 할 수 없습니다.' )\n",
        "else:\n",
        "    print('성공적으로 나누기를 하였습니다')\n",
        "\n",
        "my_divide() "
      ],
      "execution_count": 78,
      "outputs": [
        {
          "output_type": "stream",
          "text": [
            "분자의 숫자를 입력하세요10\n",
            "분모의 숫자를 입력하세요2\n",
            "5.0\n",
            "성공적으로 나누기를 하였습니다\n",
            "분자의 숫자를 입력하세요10\n",
            "분모의 숫자를 입력하세요2\n",
            "5.0\n",
            "성공적으로 나누기를 하였습니다\n"
          ],
          "name": "stdout"
        }
      ]
    },
    {
      "cell_type": "markdown",
      "metadata": {
        "id": "ShOvR4G8bSPj"
      },
      "source": [
        "#57. 예외처리 이해하기 3 (try ~ except ~ finally)\n",
        "- 오류 발생 유무와 상관없이 어떤 코드를 무조건 실행시키려면 try ~ except ~ fianlly 구문을 활용함\n",
        "- 무조건 실행시키는 코드는 finally 부분에 작성하면 됨"
      ]
    },
    {
      "cell_type": "code",
      "metadata": {
        "colab": {
          "base_uri": "https://localhost:8080/"
        },
        "id": "f-tZ9pR_bpEE",
        "outputId": "9427caeb-8053-41fc-f8ed-d94e99154c5e"
      },
      "source": [
        "# 예시\n",
        "try:\n",
        "    print('안녕하세요')\n",
        "except:\n",
        "    print('예외가 발생했습니다')\n",
        "finally:\n",
        "    print('저는 무조건 실행됩니다')"
      ],
      "execution_count": 79,
      "outputs": [
        {
          "output_type": "stream",
          "text": [
            "안녕하세요\n",
            "저는 무조건 실행됩니다\n"
          ],
          "name": "stdout"
        }
      ]
    },
    {
      "cell_type": "markdown",
      "metadata": {
        "id": "d9xwFvj5cFOl"
      },
      "source": [
        "**문제 188. 나누기하는 프로그램을 실행할 때 오류가 나지 않던 무조건 아래의 메세지가 출력되게 하시오!**\n",
        "\n",
        "~~~\n",
        "분자를 입력하세요 ~ 10                   10\n",
        "분모를 입력하세요 ~ 2                    0\n",
        "5                                   나누기를 할 수 없습니다.\n",
        "이준혁이 만든 프로그램입니다.              이준혁이 만든 프로그램입니다.\n",
        "~~~"
      ]
    },
    {
      "cell_type": "code",
      "metadata": {
        "colab": {
          "base_uri": "https://localhost:8080/"
        },
        "id": "ruEH7XFUb2MR",
        "outputId": "0acc93f8-7776-4212-ea17-9b8ed0354fa2"
      },
      "source": [
        "try:\n",
        "    num1 = int(input('분자를 입력하세요: '))\n",
        "    num2 = int(input('분모를 입력하세요: '))\n",
        "    print( num1/num2 )\n",
        "except:\n",
        "    print('나누기를 할 수 없습니다.')\n",
        "finally:\n",
        "    print('이준혁이 만든 프로그램입니다')"
      ],
      "execution_count": 82,
      "outputs": [
        {
          "output_type": "stream",
          "text": [
            "분자를 입력하세요: 10\n",
            "분모를 입력하세요: 0\n",
            "나누지를 할 수 없습니다.\n",
            "이준혁이 만든 프로그램입니다\n"
          ],
          "name": "stdout"
        }
      ]
    },
    {
      "cell_type": "markdown",
      "metadata": {
        "id": "8-owluE4dbVV"
      },
      "source": [
        "**문제 189. 동전을 10번 던져서 앞면이 2번 나올 확률울 츌력하시오(동전을 10번 던지는 작업을 10000번 수행되게 하시오)**\n",
        "\n"
      ]
    },
    {
      "cell_type": "code",
      "metadata": {
        "colab": {
          "base_uri": "https://localhost:8080/"
        },
        "id": "BYoLY4RkdzfM",
        "outputId": "972a48d3-0eb9-41f5-f2f8-416eccc4c5b2"
      },
      "source": [
        "import random\n",
        "\n",
        "coin = ['front', 'back']\n",
        "cnt= 0\n",
        "\n",
        "for k in range(1, 10001):\n",
        "    a = []\n",
        "    for i in range(1, 11):\n",
        "        result = random.choice(coin)\n",
        "        a.append(result)\n",
        "\n",
        "    if a.count('front') == 2:\n",
        "        cnt += 1\n",
        "print(cnt/10000)"
      ],
      "execution_count": 94,
      "outputs": [
        {
          "output_type": "stream",
          "text": [
            "0.0483\n"
          ],
          "name": "stdout"
        }
      ]
    },
    {
      "cell_type": "markdown",
      "metadata": {
        "id": "eg3i5Wfzka8C"
      },
      "source": [
        "**문제 190. 위의 코드를 함수로 생성하여 확률이 출력되게 하시오!**\n",
        "\n",
        "~~~\n",
        "coin_prob(2)   # 0.04314\n",
        "coin_prob(4)   # 0.2065\n",
        "    앞면이 나온 횟수\n",
        "~~~"
      ]
    },
    {
      "cell_type": "markdown",
      "metadata": {
        "id": "nfwxSCOFldnG"
      },
      "source": [
        "1. 동전의 정의\n",
        "2. 동전 앞면 뒷면"
      ]
    },
    {
      "cell_type": "code",
      "metadata": {
        "colab": {
          "base_uri": "https://localhost:8080/"
        },
        "id": "svxux1wKvgnH",
        "outputId": "0c1aee13-edae-4155-ba8c-221ea9fa3b1f"
      },
      "source": [
        "print(\"앞면의 확률을 알아봅시다!\")\n",
        "\n",
        "want_num = int(input(\"몇번의 앞면의 확률을 알고 싶습니까?: \"))\n",
        "cont_num = int(input(\"몇번 던져보고 싶습니까?: \"))\n",
        "\n",
        "class Coin_Prob():\n",
        "\n",
        "    def __init__(self, num):\n",
        "        coin = ['front', 'back']\n",
        "        cnt = 0\n",
        "        print('동전 던지기를 시작하겠습니다.')\n",
        "        \n",
        "        for e in range(1, 10000):\n",
        "            a=[]\n",
        "            for i in range(1, cont_num+1):\n",
        "                result = random.choice(coin)\n",
        "                a.append(result)\n",
        "                \n",
        "            if a.count('front') == num:\n",
        "                cnt += 1\n",
        "        print(cnt/10000)\n",
        "\n",
        "Coin_Prob(want_num)"
      ],
      "execution_count": 142,
      "outputs": [
        {
          "output_type": "stream",
          "text": [
            "앞면의 확률을 알아봅시다!\n",
            "몇번의 앞면의 확률을 알고 싶습니까?: 2\n",
            "몇번 던져보고 싶습니까?: 10\n",
            "동전 던지기를 시작하겠습니다.\n",
            "0.0465\n"
          ],
          "name": "stdout"
        },
        {
          "output_type": "execute_result",
          "data": {
            "text/plain": [
              "<__main__.Coin_Prob at 0x7f59fdd3d8d0>"
            ]
          },
          "metadata": {
            "tags": []
          },
          "execution_count": 142
        }
      ]
    }
  ]
}