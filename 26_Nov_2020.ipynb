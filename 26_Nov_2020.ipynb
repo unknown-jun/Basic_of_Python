{
  "nbformat": 4,
  "nbformat_minor": 0,
  "metadata": {
    "colab": {
      "name": "26_Nov_2020.ipynb",
      "provenance": [],
      "collapsed_sections": [],
      "toc_visible": true,
      "authorship_tag": "ABX9TyNFQ1EUC4VkMPaCHSxyJ2BI",
      "include_colab_link": true
    },
    "kernelspec": {
      "name": "python3",
      "display_name": "Python 3"
    }
  },
  "cells": [
    {
      "cell_type": "markdown",
      "metadata": {
        "id": "view-in-github",
        "colab_type": "text"
      },
      "source": [
        "<a href=\"https://colab.research.google.com/github/unknown-jun/Basic_of_Python/blob/master/26_Nov_2020.ipynb\" target=\"_parent\"><img src=\"https://colab.research.google.com/assets/colab-badge.svg\" alt=\"Open In Colab\"/></a>"
      ]
    },
    {
      "cell_type": "markdown",
      "metadata": {
        "id": "NgsSm_D3AlDx"
      },
      "source": [
        "# 19. 대입 연산자 이해하기\n",
        "- 변수에 값을 대입하는데 사용되는 기호는 =입니다\n",
        "- 수학에서 =은 왼쪽과 오른쪽의 값이 같다는 의미를 가지지만 파이썬을 포함한 컴퓨터 프로그래밍 언어에서 =은 왼쪽 변수에 오른쪽의 값을 대입하겠다는 의미\n",
        "\n",
        "~~~\n",
        "예제: a = 7\n",
        "~~~\n",
        "\n",
        "* 대입연산자와 일반 연산자를 비교\n",
        "  1. =: 대입연산자\n",
        "  2. ==: 같다\n",
        "  3. in: 여러개의 값을 비교"
      ]
    },
    {
      "cell_type": "markdown",
      "metadata": {
        "id": "Xl9vuZDfBZWg"
      },
      "source": [
        "**문제 53. 주사위 1개를 10번 던지시오!**"
      ]
    },
    {
      "cell_type": "code",
      "metadata": {
        "colab": {
          "base_uri": "https://localhost:8080/"
        },
        "id": "UHQl_aOoAkDj",
        "outputId": "07842717-5908-48b1-d639-225ac2514691"
      },
      "source": [
        "# 예시 1\n",
        "import random\n",
        "dice = [1,2,3,4,5,6]\n",
        "for i in range(1,11): # 아래의 실행문을 10번 수행하겠다.\n",
        "  result = random.choice(dice) # for loop의 실행문 1\n",
        "  print(result)  # for loop의 실행문 2\n",
        "\n",
        "# 예시 2\n",
        "import random\n",
        "dice = [1,2,3,4,5,6]\n",
        "for i in range(1,11): # 아래의 실행문을 10번 수행하겠다.\n",
        "  result = random.choice(dice) # for loop의 실행문 1\n",
        "print(result)  # for loop의 실행문이 아니기에 for loop의 영향권의 바깥이다\n",
        "               # 다시 말해 print 문이 한번만 실행이 된다.\n",
        "\n",
        "# 파이썬에서 들여쓰기(indention)의 위치는 매우 중요하다!"
      ],
      "execution_count": null,
      "outputs": [
        {
          "output_type": "stream",
          "text": [
            "1\n",
            "3\n",
            "4\n",
            "5\n",
            "4\n",
            "5\n",
            "5\n",
            "3\n",
            "6\n",
            "5\n",
            "2\n"
          ],
          "name": "stdout"
        }
      ]
    },
    {
      "cell_type": "markdown",
      "metadata": {
        "id": "kGoHoQ--DOEK"
      },
      "source": [
        "**문제 54. 주사위를 10번 던져서 주사위의 눈이 3이 나오는 횟수를 출력하시오**"
      ]
    },
    {
      "cell_type": "code",
      "metadata": {
        "colab": {
          "base_uri": "https://localhost:8080/"
        },
        "id": "BFYGhVKhDDGG",
        "outputId": "76c658d6-cf63-48aa-b6c8-03562266e0b8"
      },
      "source": [
        "import random\n",
        "\n",
        "dice = [1,2,3,4,5,6]  # 주사위의 값을 설정\n",
        "cnt = 0   # 횟수를 담기 위한 변수를 cnt라는 이름으로 만들고 숫자 0을 할당함\n",
        "\n",
        "for i in range(1,11): # 아래의 실행문을 10번 수행하겠다.\n",
        "  result = random.choice(dice) # 실행문 1\n",
        "  if result == 3:\n",
        "    cnt += 1 # indentation을 쓰고 들어가야 if문의 실행문이 됨\n",
        "\n",
        "print(cnt) # print는 변수 안에 들어잇는 값을 출력하는 함수"
      ],
      "execution_count": null,
      "outputs": [
        {
          "output_type": "stream",
          "text": [
            "1\n"
          ],
          "name": "stdout"
        }
      ]
    },
    {
      "cell_type": "markdown",
      "metadata": {
        "id": "ti8FSFVfF0_W"
      },
      "source": [
        "**문제 55. 주사위를 10번 던져서 주사위의 눈이 짝수가 나오는 횟수를 출력하시오**"
      ]
    },
    {
      "cell_type": "code",
      "metadata": {
        "colab": {
          "base_uri": "https://localhost:8080/"
        },
        "id": "s28pYmLsF0ID",
        "outputId": "760c946b-7273-40c6-e6e9-54fe45f25c8d"
      },
      "source": [
        "import random\n",
        "\n",
        "dice = (1,2,3,4,5,6)\n",
        "cnt = 0\n",
        "\n",
        "for i in range(1, 11):\n",
        "  result = random.choice(dice)\n",
        "  if result in (2,4,6): # 여러개의 값을 비교할 때 in을 사용함\n",
        "    cnt += 1\n",
        "\n",
        "print(cnt)"
      ],
      "execution_count": null,
      "outputs": [
        {
          "output_type": "stream",
          "text": [
            "7\n"
          ],
          "name": "stdout"
        }
      ]
    },
    {
      "cell_type": "markdown",
      "metadata": {
        "id": "wqdjoFGhG6yf"
      },
      "source": [
        "**문제 56. 주사위 2개를 동시에 20회 던져 두개의 눈이 합이 10이 되는 횟수를 출력하시오**"
      ]
    },
    {
      "cell_type": "code",
      "metadata": {
        "colab": {
          "base_uri": "https://localhost:8080/"
        },
        "id": "Q4WN1RbzHFA2",
        "outputId": "e896b3bc-6625-4500-e70f-24e6a65fe6bf"
      },
      "source": [
        "import random \n",
        "\n",
        "dice = [1,2,3,4,5,6]\n",
        "cnt = []\n",
        "\n",
        "for i in range(1, 21):\n",
        "  result_1 = random.choice(dice)\n",
        "  result_2 = random.choice(dice)\n",
        "  total = result_1 + result_2\n",
        "  if total == 10:\n",
        "    cnt.append(total)\n",
        "  \n",
        "print('방법 1의 값은', len(cnt))\n",
        "\n",
        "import random\n",
        "dice = [1,2,3,4,5,6]\n",
        "cnt = 0 # 횟수를 담기 위한 cnt라는 변수에 숫자를 0을 넘는다\n",
        "\n",
        "for i in range(1, 21): # 20번 반복하기 위한 루프문\n",
        "  result_1 = random.choice(dice) # 실행문 1\n",
        "  result_2 = random.choice(dice) # 실행문 2\n",
        "  total = result_1 + result_2\n",
        "  if total == 10:\n",
        "    cnt += 1   # if문의 영향권 안에 있는 실행문\n",
        "\n",
        "print('방법 2의 값은', cnt)"
      ],
      "execution_count": null,
      "outputs": [
        {
          "output_type": "stream",
          "text": [
            "방법 1의 값은 0\n",
            "방법 2의 값은 1\n"
          ],
          "name": "stdout"
        }
      ]
    },
    {
      "cell_type": "markdown",
      "metadata": {
        "id": "jzHgjv_cKhPC"
      },
      "source": [
        "**문제 57. 주사위 2개를 동시에 던져서 두 눈의 합이 10이 되는 확률을 출력하시오**"
      ]
    },
    {
      "cell_type": "code",
      "metadata": {
        "colab": {
          "base_uri": "https://localhost:8080/"
        },
        "id": "1HSUCfTbKsDN",
        "outputId": "3a2cb44f-bcd8-4415-b339-8a44823acc8b"
      },
      "source": [
        "import random\n",
        "dice = [1,2,3,4,5,6]\n",
        "cnt = 0 # 횟수를 담기 위한 cnt라는 변수에 숫자를 0을 넘는다\n",
        "sum = 0\n",
        "\n",
        "for i in range(1, 21): # 20번 반복하기 위한 루프문\n",
        "  result_1 = random.choice(dice) # 실행문 1\n",
        "  result_2 = random.choice(dice) # 실행문 2\n",
        "  total = result_1 + result_2\n",
        "  sum += 1\n",
        "  if total == 10:\n",
        "    cnt += 1   # if문의 영향권 안에 있는 실행문\n",
        "\n",
        "print('방법 2의 값은', cnt/sum)"
      ],
      "execution_count": null,
      "outputs": [
        {
          "output_type": "stream",
          "text": [
            "방법 2의 값은 0.2\n"
          ],
          "name": "stdout"
        }
      ]
    },
    {
      "cell_type": "markdown",
      "metadata": {
        "id": "S1xhVFi6PT9m"
      },
      "source": [
        "# 20. 사칙 연산자 이해하기(+, -, /, **)\n",
        "|오라클| |파이썬|\n",
        "|:--:|:--:|:--:|\n",
        "|+| |+|\n",
        "|-| |-|\n",
        "|*| |*|\n",
        "|/| |/|\n",
        "|mod| |%|\n",
        "|power| |power(2,3), 2**3|\n",
        "|sqrt|   |sqrt|\n",
        "|log2|   |log2|\n",
        "|log10|  |log10|"
      ]
    },
    {
      "cell_type": "markdown",
      "metadata": {
        "id": "-cvyKpUnQ7Br"
      },
      "source": [
        "예제1. 밑수가 10이고 진수가 10인 log값을 출력하시오\n",
        "\n",
        "(log 함수를 사용하려면 math 모튤을 import 해야 함)"
      ]
    },
    {
      "cell_type": "code",
      "metadata": {
        "colab": {
          "base_uri": "https://localhost:8080/"
        },
        "id": "JUMLr8nkQ6tY",
        "outputId": "c55204f2-89a7-4117-e2e7-e4fbfa23a7ee"
      },
      "source": [
        "import math # 수학에 과련한 함수들이 다 코딩되어 있는 모듈 math를 이 코드에서 사용하겠다.\n",
        "\n",
        "print(math.log10(10)) \n",
        "  # 모듈이름.함수이름(매개변수 값)"
      ],
      "execution_count": null,
      "outputs": [
        {
          "output_type": "stream",
          "text": [
            "1.0\n"
          ],
          "name": "stdout"
        }
      ]
    },
    {
      "cell_type": "markdown",
      "metadata": {
        "id": "x2bueMdFRzwd"
      },
      "source": [
        "**문제 58. 아래의 수학식을 파이썬으로 구현하시오**\n",
        "\n",
        "**2 x log<sub>2</sub>10 + 1/3 X log<sub>2</sub>10**"
      ]
    },
    {
      "cell_type": "code",
      "metadata": {
        "colab": {
          "base_uri": "https://localhost:8080/"
        },
        "id": "kXVbNkKWQ2Rb",
        "outputId": "68110257-4e0e-48ff-f1df-81605aa390e7"
      },
      "source": [
        "import math\n",
        "\n",
        "a = 2 * math.log2(10) + 1/3 * math.log2(10)\n",
        "print(a)"
      ],
      "execution_count": null,
      "outputs": [
        {
          "output_type": "stream",
          "text": [
            "7.751165554737178\n"
          ],
          "name": "stdout"
        }
      ]
    },
    {
      "cell_type": "markdown",
      "metadata": {
        "id": "RLx83LUlTvnf"
      },
      "source": [
        "# 21. 연산자 축약 이해하기 (=, -=, *=, /=)\n",
        "- 변수에 값을 사칙 연산하여 그 결과를 동일한 변수에 대입할 때 연산자를 축약해서 대입할 수 있음\n",
        "\n",
        "- cnt = cnt + 1을 다음과 같이 쓸 수 있음\n",
        "    - cnt += 1\n",
        "\n",
        "```\n",
        "cnt = cnt + 1     ---->     cnt += 1 과 같음\n",
        "cnt = cnt - 1     ---->     cnt -= 1 과 같음\n",
        "cnt = cnt * 2     ---->     cnt *= 2 와 같음\n",
        "cnt = cnt / 4     ---->     cnt /= 4 와 같음\n",
        "```"
      ]
    },
    {
      "cell_type": "markdown",
      "metadata": {
        "id": "RQeGkXK2Uo9W"
      },
      "source": [
        "**문제 59. 주사위 10번 던져서 주사위의 눈이 3이 나오는 횟수를 출력하시오(축약 연산자를 이용해서 출력하시오)**"
      ]
    },
    {
      "cell_type": "code",
      "metadata": {
        "colab": {
          "base_uri": "https://localhost:8080/"
        },
        "id": "MQqY4MZAUwID",
        "outputId": "e3e55a6a-370a-4ee6-8f33-0ad3a16bccc6"
      },
      "source": [
        "import random\n",
        "\n",
        "dice = (1,2,3,4,5,6)\n",
        "cnt = 0\n",
        "\n",
        "for i in range(1, 11):\n",
        "  result = random.choice(dice)\n",
        "  if result == 3:\n",
        "    cnt += 1\n",
        "\n",
        "print(cnt)"
      ],
      "execution_count": null,
      "outputs": [
        {
          "output_type": "stream",
          "text": [
            "2\n"
          ],
          "name": "stdout"
        }
      ]
    },
    {
      "cell_type": "markdown",
      "metadata": {
        "id": "0NGzSQnZVr-v"
      },
      "source": [
        "# 22. True와 False 이해하기\n",
        "- 참을 나타내는 것이 true이고 거짓을 나타내는 것이 False임\n",
        "- 그 조건을 판단해서 그 조건이 참이면 True, 거짓이면 False를 리턴함\n",
        "- True는 1, False = 0 값을 가짐\n",
        "- True와 False로 표현하면 더 직관적이고 프로그램 코드 가독성을 높일 수 있음"
      ]
    },
    {
      "cell_type": "code",
      "metadata": {
        "id": "xIlQCR38Wl_6"
      },
      "source": [
        "# 예제\n",
        "a = True\n",
        "b = False\n",
        "print(a)\n",
        "print(1 == 1) # 결과가 True로 출력됨.\n",
        "print(1 == 2) # 결과가 False로 출력됨."
      ],
      "execution_count": null,
      "outputs": []
    },
    {
      "cell_type": "markdown",
      "metadata": {
        "id": "6eXmWZiEXKUJ"
      },
      "source": [
        "# 23. 관계 연산자 이해하기\n",
        "|오라클| |파이썬|\n",
        "|--|--|--|\n",
        "|>| |>|\n",
        "|>=| |>=|\n",
        "|<| | <|\n",
        "|<=| |<=|\n",
        "|=| |==|\n",
        "|!=| |!=|\n",
        "|in||in|"
      ]
    },
    {
      "cell_type": "markdown",
      "metadata": {
        "id": "_vSYWNPGXlao"
      },
      "source": [
        "**문제 60. 주사위를 20번 던져서 주사위의 눈이 4 이상 나오는 횟수를 출력하시오**"
      ]
    },
    {
      "cell_type": "code",
      "metadata": {
        "colab": {
          "base_uri": "https://localhost:8080/"
        },
        "id": "Sb4iye_tYJW6",
        "outputId": "fccbec1a-bf0b-413a-ebf1-9dd69db0f704"
      },
      "source": [
        "import random\n",
        "\n",
        "dice1 = [1,2,3,4,5,6]\n",
        "cnt = 0\n",
        "\n",
        "for i in range(1, 21):\n",
        "  result = random.choice(dice)\n",
        "  if result >= 4:\n",
        "    cnt += 1\n",
        "\n",
        "print(cnt)"
      ],
      "execution_count": null,
      "outputs": [
        {
          "output_type": "stream",
          "text": [
            "9\n"
          ],
          "name": "stdout"
        }
      ]
    },
    {
      "cell_type": "markdown",
      "metadata": {
        "id": "N4uKPd4rY7cx"
      },
      "source": [
        "**문제 61. (통계 정규분포 문제) 주사위 한개를 288회 던져서 주사위의 눈이 5 이상 나오는 횟수를 구하시오**"
      ]
    },
    {
      "cell_type": "code",
      "metadata": {
        "colab": {
          "base_uri": "https://localhost:8080/"
        },
        "id": "yOr30EyIZNux",
        "outputId": "6f2aaaef-0205-4ec0-e858-25b29f7939a7"
      },
      "source": [
        "import random\n",
        "\n",
        "dice = (1,2,3,4,5,6)\n",
        "cnt = 0\n",
        "\n",
        "for i in range(1, 289):\n",
        "  result = random.choice(dice)\n",
        "  if result >= 5:\n",
        "    cnt += 1\n",
        "\n",
        "print(cnt)"
      ],
      "execution_count": null,
      "outputs": [
        {
          "output_type": "stream",
          "text": [
            "89\n"
          ],
          "name": "stdout"
        }
      ]
    },
    {
      "cell_type": "markdown",
      "metadata": {
        "id": "xWJRKJRWdfuJ"
      },
      "source": [
        "**문제 62. 주사위 한개를 288회 던질 때, 5 이상의 눈이 나오는 횟수가 90 이상 100이하 나올 확률을 구하시오**"
      ]
    },
    {
      "cell_type": "code",
      "metadata": {
        "colab": {
          "base_uri": "https://localhost:8080/"
        },
        "id": "QM2XF0K1dfK4",
        "outputId": "e3ff1f46-041b-4705-ad27-e3b4f93ef858"
      },
      "source": [
        "import random\n",
        "\n",
        "dice = (1,2,3,4,5,6) # 주사위의 눈금을 지정해줌\n",
        "cnt = 0   # 주사위의 초기 변수\n",
        "p_cnt = 0 # 주사위의 눈금이 5가 나올 경우가 90 이상 100이하가 나올 횟수를 초기 변수\n",
        "\n",
        "for i in range(1, 289):\n",
        "  result = random.choice(dice)\n",
        "  if result >= 5:\n",
        "    cnt += 1\n",
        "    if cnt >= 90 and cnt <= 100:\n",
        "      p_cnt += 1\n",
        "\n",
        "print(p_cnt/288)"
      ],
      "execution_count": null,
      "outputs": [
        {
          "output_type": "stream",
          "text": [
            "0.013888888888888888\n"
          ],
          "name": "stdout"
        }
      ]
    },
    {
      "cell_type": "markdown",
      "metadata": {
        "id": "DuimvlsYeSWa"
      },
      "source": [
        "**문제 63. 주사위 한개를 288회 던질 때 5 이상의 눈이 나올 횟수를 출력하는데 이 작업을 100번해서 얼마나 횟수가 나왔는지를 100개를 출력하시오**"
      ]
    },
    {
      "cell_type": "code",
      "metadata": {
        "colab": {
          "base_uri": "https://localhost:8080/"
        },
        "id": "CCCtTqQZehZ0",
        "outputId": "d7735d46-2e8f-4b4a-a59d-252e09c390b2"
      },
      "source": [
        "import random\n",
        "\n",
        "dice = (1,2,3,4,5,6)\n",
        "\n",
        "for j in range(1, 101):\n",
        "  cnt = 0\n",
        "  for i in range(1, 289):\n",
        "    result = random.choice(dice)\n",
        "    if result >= 5:\n",
        "      cnt += 1\n",
        "  print(cnt)"
      ],
      "execution_count": null,
      "outputs": [
        {
          "output_type": "stream",
          "text": [
            "91\n",
            "98\n",
            "95\n",
            "83\n",
            "84\n",
            "84\n",
            "97\n",
            "99\n",
            "92\n",
            "102\n",
            "107\n",
            "98\n",
            "98\n",
            "78\n",
            "106\n",
            "106\n",
            "102\n",
            "99\n",
            "85\n",
            "100\n",
            "98\n",
            "96\n",
            "87\n",
            "94\n",
            "91\n",
            "96\n",
            "101\n",
            "95\n",
            "98\n",
            "106\n",
            "109\n",
            "100\n",
            "95\n",
            "96\n",
            "85\n",
            "93\n",
            "96\n",
            "91\n",
            "97\n",
            "104\n",
            "73\n",
            "99\n",
            "113\n",
            "109\n",
            "92\n",
            "88\n",
            "106\n",
            "104\n",
            "89\n",
            "99\n",
            "96\n",
            "92\n",
            "99\n",
            "97\n",
            "89\n",
            "95\n",
            "101\n",
            "101\n",
            "101\n",
            "94\n",
            "90\n",
            "107\n",
            "82\n",
            "95\n",
            "101\n",
            "94\n",
            "103\n",
            "103\n",
            "109\n",
            "87\n",
            "95\n",
            "91\n",
            "104\n",
            "96\n",
            "105\n",
            "106\n",
            "106\n",
            "102\n",
            "101\n",
            "96\n",
            "98\n",
            "98\n",
            "100\n",
            "97\n",
            "83\n",
            "99\n",
            "94\n",
            "96\n",
            "88\n",
            "94\n",
            "114\n",
            "102\n",
            "108\n",
            "87\n",
            "75\n",
            "102\n",
            "98\n",
            "94\n",
            "106\n",
            "91\n"
          ],
          "name": "stdout"
        }
      ]
    },
    {
      "cell_type": "markdown",
      "metadata": {
        "id": "vBCLoE0gg0SQ"
      },
      "source": [
        "**문제 64. 위에서 출력된 횟수 100개를 비어있는 리스트 a에 담고 리스트 a의 갯수를 출력하시오**"
      ]
    },
    {
      "cell_type": "code",
      "metadata": {
        "colab": {
          "base_uri": "https://localhost:8080/"
        },
        "id": "0n6fdm4Dg-f1",
        "outputId": "2655e880-077b-4cd0-916c-44eab56bb962"
      },
      "source": [
        "import random\n",
        "\n",
        "dice = (1,2,3,4,5,6) # 리스트형보단 튜플형이 더 빠르기 때문에 튜플을 사용\n",
        "a = []   #빈 리스트를 지정\n",
        "\n",
        "for j in range(1, 101): # 주사위를 던질 때 5이상이 나올 횟수를 100번 측정하기 위한 for loop 문\n",
        "  cnt = 0  # 앞선 for loop문에서 구한 주사위 눈금 5 이상을 초기화 시키는 값\n",
        "  for i in range(1, 289):        # 주사위 288번을 던지기 위한 for loop 문\n",
        "    result = random.choice(dice) # 주사위에 대한 랜덤 난수 생성\n",
        "    if result >= 5: # 눈금 5이상의 값을 추출하기 위한 조건 \n",
        "      cnt += 1      # 조건이 만족할 경우 1추가\n",
        "  a.append(cnt)         # for loop문을 빠져나와 리스트 a에 주사위 눈금 5이상의 값을 추가 함\n",
        "\n",
        "print(len(a))"
      ],
      "execution_count": 90,
      "outputs": [
        {
          "output_type": "stream",
          "text": [
            "[102, 82, 91, 91, 101, 96, 99, 94, 108, 103, 98, 108, 109, 101, 82, 94, 102, 86, 105, 94, 113, 121, 88, 98, 104, 99, 112, 105, 88, 76, 97, 107, 93, 79, 100, 102, 99, 92, 88, 90, 97, 83, 90, 97, 96, 87, 101, 102, 89, 103, 91, 113, 107, 85, 98, 110, 103, 105, 104, 109, 94, 95, 93, 89, 94, 104, 106, 119, 94, 97, 100, 102, 98, 91, 85, 108, 109, 104, 90, 104, 109, 99, 98, 114, 101, 99, 98, 102, 89, 85, 93, 99, 84, 86, 100, 80, 97, 107, 103, 91]\n"
          ],
          "name": "stdout"
        }
      ]
    },
    {
      "cell_type": "markdown",
      "metadata": {
        "id": "VV-zBGQqvq_K"
      },
      "source": [
        "**주사위를 굴릴 횟수를 사용자가 정하게 하고서 그 중 5이상이 나올 확률을 구하시오**"
      ]
    },
    {
      "cell_type": "code",
      "metadata": {
        "colab": {
          "base_uri": "https://localhost:8080/"
        },
        "id": "IL3GH0kpcccX",
        "outputId": "b1c8e564-0bd5-40d2-9bee-5230f611dbc5"
      },
      "source": [
        "import random\n",
        "\n",
        "want_cnt = int(input('주사위를 몇번 굴릴까요?: '))\n",
        "dice = (1,2,3,4,5,6)\n",
        "cnt = 0\n",
        "\n",
        "for i in range(1, want_cnt + 1):\n",
        "  result = random.choice(dice)\n",
        "  if result >= 5:\n",
        "    cnt += 1\n",
        "\n",
        "print(cnt/want_cnt)\n",
        "print(want_cnt,'중에 5 이상이',cnt,'가 나왔습니다')"
      ],
      "execution_count": null,
      "outputs": [
        {
          "output_type": "stream",
          "text": [
            "주사위를 몇번 굴릴까요?: 1350\n",
            "0.3340740740740741\n",
            "1350 중에 5 이상이 451 가 나왔습니다\n"
          ],
          "name": "stdout"
        }
      ]
    },
    {
      "cell_type": "markdown",
      "metadata": {
        "id": "ItlSAIgK5-kb"
      },
      "source": [
        "**문제 65. 동전을 100번 던져서 앞면이 나오는 횟수를 출력하시오!**"
      ]
    },
    {
      "cell_type": "code",
      "metadata": {
        "colab": {
          "base_uri": "https://localhost:8080/"
        },
        "id": "f4ban3C36QMk",
        "outputId": "6b65f72f-44fe-4f26-dd6a-15eb76862f7c"
      },
      "source": [
        "import random\n",
        "\n",
        "coin = ('앞면', '뒷면')\n",
        "cnt = 0\n",
        "\n",
        "for i in range(1, 101):\n",
        "  result = random.choice(coin)\n",
        "  if result == '앞면':\n",
        "    cnt += 1\n",
        "\n",
        "print(cnt)"
      ],
      "execution_count": 87,
      "outputs": [
        {
          "output_type": "stream",
          "text": [
            "55\n"
          ],
          "name": "stdout"
        }
      ]
    },
    {
      "cell_type": "markdown",
      "metadata": {
        "id": "gBtzkq1A8NWr"
      },
      "source": [
        "**문제 66. 동전 한개와 주사위 한개를 동시에 100번 던져서 동전이 앞면이 나오고 주사위의 눈이 5가 나오는 횟수를 출력하시오**"
      ]
    },
    {
      "cell_type": "code",
      "metadata": {
        "colab": {
          "base_uri": "https://localhost:8080/"
        },
        "id": "XroO6tou8Mtj",
        "outputId": "6882dde0-7182-40b1-e1f8-59640b32cc55"
      },
      "source": [
        "import random\n",
        "\n",
        "coin = ('앞면', '뒷면')\n",
        "dice = (1,2,3,4,5,6)\n",
        "cnt = 0\n",
        "\n",
        "for i in range(1, 101):\n",
        "  result_1 = random.choice(coin)\n",
        "  result_2 = random.choice(dice)\n",
        "  if result_1 == '앞면' and result_2 >= 5:\n",
        "    cnt += 1\n",
        "\n",
        "print(cnt)"
      ],
      "execution_count": 92,
      "outputs": [
        {
          "output_type": "stream",
          "text": [
            "20\n"
          ],
          "name": "stdout"
        }
      ]
    },
    {
      "cell_type": "markdown",
      "metadata": {
        "id": "OdGY7wvZ9S81"
      },
      "source": [
        "**문제 67. 동전 한개와 주사위 한개를 동시에 100번져서 동전이 앞면이 나오고 주사위의 눈이 5가 나오는 횟수를 출력하는 행위를 50번 해서 횟수가 50개가 출력되게 하시오**"
      ]
    },
    {
      "cell_type": "code",
      "metadata": {
        "colab": {
          "base_uri": "https://localhost:8080/"
        },
        "id": "PPd31byC6l9N",
        "outputId": "90bc3547-8912-4cdf-ae5b-06614603df0e"
      },
      "source": [
        "import random\n",
        "\n",
        "coin = ('앞면', '뒷면')\n",
        "dice = (1,2,3,4,5,6)\n",
        "\n",
        "for e in range(1, 51):\n",
        "  cnt = 0\n",
        "  for i in range(1, 101):\n",
        "    result_1 = random.choice(coin)\n",
        "    result_2 = random.choice(dice)\n",
        "    if result_1 == '앞면' and result_2 >= 5:\n",
        "      cnt += 1\n",
        "  print(cnt)\n"
      ],
      "execution_count": 98,
      "outputs": [
        {
          "output_type": "stream",
          "text": [
            "21\n",
            "16\n",
            "12\n",
            "18\n",
            "11\n",
            "16\n",
            "14\n",
            "22\n",
            "16\n",
            "18\n",
            "18\n",
            "14\n",
            "21\n",
            "16\n",
            "12\n",
            "13\n",
            "13\n",
            "26\n",
            "15\n",
            "15\n",
            "15\n",
            "18\n",
            "22\n",
            "20\n",
            "17\n",
            "18\n",
            "17\n",
            "13\n",
            "21\n",
            "17\n",
            "18\n",
            "13\n",
            "14\n",
            "20\n",
            "20\n",
            "11\n",
            "22\n",
            "12\n",
            "18\n",
            "16\n",
            "15\n",
            "21\n",
            "18\n",
            "10\n",
            "16\n",
            "17\n",
            "13\n",
            "20\n",
            "16\n",
            "23\n"
          ],
          "name": "stdout"
        }
      ]
    },
    {
      "cell_type": "markdown",
      "metadata": {
        "id": "qxWepsgS-b0f"
      },
      "source": [
        "**문제 68. 위의 횟수 50개를 비어 있는 리스트 a에 담으시오**"
      ]
    },
    {
      "cell_type": "code",
      "metadata": {
        "colab": {
          "base_uri": "https://localhost:8080/"
        },
        "id": "Ttkxx7f8-jJb",
        "outputId": "9314954c-24cc-4afe-a291-c7cc6b57c88f"
      },
      "source": [
        "import random\n",
        "\n",
        "coin = ('앞면', '뒷면')\n",
        "dice = (1,2,3,4,5,6)\n",
        "a = []\n",
        "\n",
        "for e in range(1, 51):\n",
        "  cnt = 0\n",
        "  for i in range(1, 101):\n",
        "    result_1 = random.choice(coin)\n",
        "    result_2 = random.choice(dice)\n",
        "    if result_1 == '앞면' and result_2 >= 5:\n",
        "      cnt += 1\n",
        "  a.append(cnt)\n",
        "  \n",
        "print(a)"
      ],
      "execution_count": 100,
      "outputs": [
        {
          "output_type": "stream",
          "text": [
            "[25]\n",
            "[25, 17]\n",
            "[25, 17, 18]\n",
            "[25, 17, 18, 19]\n",
            "[25, 17, 18, 19, 9]\n",
            "[25, 17, 18, 19, 9, 13]\n",
            "[25, 17, 18, 19, 9, 13, 14]\n",
            "[25, 17, 18, 19, 9, 13, 14, 14]\n",
            "[25, 17, 18, 19, 9, 13, 14, 14, 13]\n",
            "[25, 17, 18, 19, 9, 13, 14, 14, 13, 14]\n",
            "[25, 17, 18, 19, 9, 13, 14, 14, 13, 14, 16]\n",
            "[25, 17, 18, 19, 9, 13, 14, 14, 13, 14, 16, 12]\n",
            "[25, 17, 18, 19, 9, 13, 14, 14, 13, 14, 16, 12, 18]\n",
            "[25, 17, 18, 19, 9, 13, 14, 14, 13, 14, 16, 12, 18, 20]\n",
            "[25, 17, 18, 19, 9, 13, 14, 14, 13, 14, 16, 12, 18, 20, 22]\n",
            "[25, 17, 18, 19, 9, 13, 14, 14, 13, 14, 16, 12, 18, 20, 22, 15]\n",
            "[25, 17, 18, 19, 9, 13, 14, 14, 13, 14, 16, 12, 18, 20, 22, 15, 19]\n",
            "[25, 17, 18, 19, 9, 13, 14, 14, 13, 14, 16, 12, 18, 20, 22, 15, 19, 14]\n",
            "[25, 17, 18, 19, 9, 13, 14, 14, 13, 14, 16, 12, 18, 20, 22, 15, 19, 14, 19]\n",
            "[25, 17, 18, 19, 9, 13, 14, 14, 13, 14, 16, 12, 18, 20, 22, 15, 19, 14, 19, 14]\n",
            "[25, 17, 18, 19, 9, 13, 14, 14, 13, 14, 16, 12, 18, 20, 22, 15, 19, 14, 19, 14, 18]\n",
            "[25, 17, 18, 19, 9, 13, 14, 14, 13, 14, 16, 12, 18, 20, 22, 15, 19, 14, 19, 14, 18, 18]\n",
            "[25, 17, 18, 19, 9, 13, 14, 14, 13, 14, 16, 12, 18, 20, 22, 15, 19, 14, 19, 14, 18, 18, 19]\n",
            "[25, 17, 18, 19, 9, 13, 14, 14, 13, 14, 16, 12, 18, 20, 22, 15, 19, 14, 19, 14, 18, 18, 19, 13]\n",
            "[25, 17, 18, 19, 9, 13, 14, 14, 13, 14, 16, 12, 18, 20, 22, 15, 19, 14, 19, 14, 18, 18, 19, 13, 15]\n",
            "[25, 17, 18, 19, 9, 13, 14, 14, 13, 14, 16, 12, 18, 20, 22, 15, 19, 14, 19, 14, 18, 18, 19, 13, 15, 14]\n",
            "[25, 17, 18, 19, 9, 13, 14, 14, 13, 14, 16, 12, 18, 20, 22, 15, 19, 14, 19, 14, 18, 18, 19, 13, 15, 14, 13]\n",
            "[25, 17, 18, 19, 9, 13, 14, 14, 13, 14, 16, 12, 18, 20, 22, 15, 19, 14, 19, 14, 18, 18, 19, 13, 15, 14, 13, 17]\n",
            "[25, 17, 18, 19, 9, 13, 14, 14, 13, 14, 16, 12, 18, 20, 22, 15, 19, 14, 19, 14, 18, 18, 19, 13, 15, 14, 13, 17, 22]\n",
            "[25, 17, 18, 19, 9, 13, 14, 14, 13, 14, 16, 12, 18, 20, 22, 15, 19, 14, 19, 14, 18, 18, 19, 13, 15, 14, 13, 17, 22, 26]\n",
            "[25, 17, 18, 19, 9, 13, 14, 14, 13, 14, 16, 12, 18, 20, 22, 15, 19, 14, 19, 14, 18, 18, 19, 13, 15, 14, 13, 17, 22, 26, 12]\n",
            "[25, 17, 18, 19, 9, 13, 14, 14, 13, 14, 16, 12, 18, 20, 22, 15, 19, 14, 19, 14, 18, 18, 19, 13, 15, 14, 13, 17, 22, 26, 12, 16]\n",
            "[25, 17, 18, 19, 9, 13, 14, 14, 13, 14, 16, 12, 18, 20, 22, 15, 19, 14, 19, 14, 18, 18, 19, 13, 15, 14, 13, 17, 22, 26, 12, 16, 19]\n",
            "[25, 17, 18, 19, 9, 13, 14, 14, 13, 14, 16, 12, 18, 20, 22, 15, 19, 14, 19, 14, 18, 18, 19, 13, 15, 14, 13, 17, 22, 26, 12, 16, 19, 20]\n",
            "[25, 17, 18, 19, 9, 13, 14, 14, 13, 14, 16, 12, 18, 20, 22, 15, 19, 14, 19, 14, 18, 18, 19, 13, 15, 14, 13, 17, 22, 26, 12, 16, 19, 20, 15]\n",
            "[25, 17, 18, 19, 9, 13, 14, 14, 13, 14, 16, 12, 18, 20, 22, 15, 19, 14, 19, 14, 18, 18, 19, 13, 15, 14, 13, 17, 22, 26, 12, 16, 19, 20, 15, 22]\n",
            "[25, 17, 18, 19, 9, 13, 14, 14, 13, 14, 16, 12, 18, 20, 22, 15, 19, 14, 19, 14, 18, 18, 19, 13, 15, 14, 13, 17, 22, 26, 12, 16, 19, 20, 15, 22, 15]\n",
            "[25, 17, 18, 19, 9, 13, 14, 14, 13, 14, 16, 12, 18, 20, 22, 15, 19, 14, 19, 14, 18, 18, 19, 13, 15, 14, 13, 17, 22, 26, 12, 16, 19, 20, 15, 22, 15, 11]\n",
            "[25, 17, 18, 19, 9, 13, 14, 14, 13, 14, 16, 12, 18, 20, 22, 15, 19, 14, 19, 14, 18, 18, 19, 13, 15, 14, 13, 17, 22, 26, 12, 16, 19, 20, 15, 22, 15, 11, 12]\n",
            "[25, 17, 18, 19, 9, 13, 14, 14, 13, 14, 16, 12, 18, 20, 22, 15, 19, 14, 19, 14, 18, 18, 19, 13, 15, 14, 13, 17, 22, 26, 12, 16, 19, 20, 15, 22, 15, 11, 12, 17]\n",
            "[25, 17, 18, 19, 9, 13, 14, 14, 13, 14, 16, 12, 18, 20, 22, 15, 19, 14, 19, 14, 18, 18, 19, 13, 15, 14, 13, 17, 22, 26, 12, 16, 19, 20, 15, 22, 15, 11, 12, 17, 20]\n",
            "[25, 17, 18, 19, 9, 13, 14, 14, 13, 14, 16, 12, 18, 20, 22, 15, 19, 14, 19, 14, 18, 18, 19, 13, 15, 14, 13, 17, 22, 26, 12, 16, 19, 20, 15, 22, 15, 11, 12, 17, 20, 13]\n",
            "[25, 17, 18, 19, 9, 13, 14, 14, 13, 14, 16, 12, 18, 20, 22, 15, 19, 14, 19, 14, 18, 18, 19, 13, 15, 14, 13, 17, 22, 26, 12, 16, 19, 20, 15, 22, 15, 11, 12, 17, 20, 13, 14]\n",
            "[25, 17, 18, 19, 9, 13, 14, 14, 13, 14, 16, 12, 18, 20, 22, 15, 19, 14, 19, 14, 18, 18, 19, 13, 15, 14, 13, 17, 22, 26, 12, 16, 19, 20, 15, 22, 15, 11, 12, 17, 20, 13, 14, 14]\n",
            "[25, 17, 18, 19, 9, 13, 14, 14, 13, 14, 16, 12, 18, 20, 22, 15, 19, 14, 19, 14, 18, 18, 19, 13, 15, 14, 13, 17, 22, 26, 12, 16, 19, 20, 15, 22, 15, 11, 12, 17, 20, 13, 14, 14, 18]\n",
            "[25, 17, 18, 19, 9, 13, 14, 14, 13, 14, 16, 12, 18, 20, 22, 15, 19, 14, 19, 14, 18, 18, 19, 13, 15, 14, 13, 17, 22, 26, 12, 16, 19, 20, 15, 22, 15, 11, 12, 17, 20, 13, 14, 14, 18, 14]\n",
            "[25, 17, 18, 19, 9, 13, 14, 14, 13, 14, 16, 12, 18, 20, 22, 15, 19, 14, 19, 14, 18, 18, 19, 13, 15, 14, 13, 17, 22, 26, 12, 16, 19, 20, 15, 22, 15, 11, 12, 17, 20, 13, 14, 14, 18, 14, 18]\n",
            "[25, 17, 18, 19, 9, 13, 14, 14, 13, 14, 16, 12, 18, 20, 22, 15, 19, 14, 19, 14, 18, 18, 19, 13, 15, 14, 13, 17, 22, 26, 12, 16, 19, 20, 15, 22, 15, 11, 12, 17, 20, 13, 14, 14, 18, 14, 18, 15]\n",
            "[25, 17, 18, 19, 9, 13, 14, 14, 13, 14, 16, 12, 18, 20, 22, 15, 19, 14, 19, 14, 18, 18, 19, 13, 15, 14, 13, 17, 22, 26, 12, 16, 19, 20, 15, 22, 15, 11, 12, 17, 20, 13, 14, 14, 18, 14, 18, 15, 16]\n",
            "[25, 17, 18, 19, 9, 13, 14, 14, 13, 14, 16, 12, 18, 20, 22, 15, 19, 14, 19, 14, 18, 18, 19, 13, 15, 14, 13, 17, 22, 26, 12, 16, 19, 20, 15, 22, 15, 11, 12, 17, 20, 13, 14, 14, 18, 14, 18, 15, 16, 14]\n"
          ],
          "name": "stdout"
        }
      ]
    },
    {
      "cell_type": "markdown",
      "metadata": {
        "id": "hduRK8-9_zuX"
      },
      "source": [
        "69."
      ]
    },
    {
      "cell_type": "code",
      "metadata": {
        "id": "a8_uboR8_8Xp"
      },
      "source": [
        ""
      ],
      "execution_count": null,
      "outputs": []
    },
    {
      "cell_type": "markdown",
      "metadata": {
        "id": "5ZIqOLOi_8o0"
      },
      "source": [
        "**문제70. 위의 a 리스트 요소들의 평균값을 출력하시오\n",
        "(numpy를 이용해서 구현하시오)**"
      ]
    },
    {
      "cell_type": "code",
      "metadata": {
        "colab": {
          "base_uri": "https://localhost:8080/"
        },
        "id": "NF6bhSgEAEWC",
        "outputId": "50d3091f-b86b-4140-a84c-0070279bdeb6"
      },
      "source": [
        "import random\n",
        "import numpy as np\n",
        "\n",
        "coin = ('앞면', '뒷면')\n",
        "dice = (1,2,3,4,5,6)\n",
        "a = []\n",
        "\n",
        "for e in range(1, 51):\n",
        "  cnt = 0\n",
        "  for i in range(1, 101):\n",
        "    result_1 = random.choice(coin)\n",
        "    result_2 = random.choice(dice)\n",
        "    if result_1 == '앞면' and result_2 >= 5:\n",
        "      cnt += 1\n",
        "  a.append(cnt)\n",
        "  \n",
        "print(np.mean(a))"
      ],
      "execution_count": 106,
      "outputs": [
        {
          "output_type": "stream",
          "text": [
            "17.6\n"
          ],
          "name": "stdout"
        }
      ]
    },
    {
      "cell_type": "markdown",
      "metadata": {
        "id": "hLe0BiG0AfK7"
      },
      "source": [
        "**예제. 아래의 리스트의 요소들의 평균값을 출력하시오**"
      ]
    },
    {
      "cell_type": "code",
      "metadata": {
        "colab": {
          "base_uri": "https://localhost:8080/"
        },
        "id": "WeLAsDXJAjy0",
        "outputId": "2cb42590-b421-4877-8b38-52a055e28a29"
      },
      "source": [
        "import numpy as np # numpy의 별칭을 np라고 하겠다\n",
        "\n",
        "b = [7,4,5,3,2]\n",
        "print(np.mean(b))"
      ],
      "execution_count": 105,
      "outputs": [
        {
          "output_type": "stream",
          "text": [
            "4.2\n"
          ],
          "name": "stdout"
        }
      ]
    },
    {
      "cell_type": "markdown",
      "metadata": {
        "id": "_zu6ui0vBHQg"
      },
      "source": [
        "**예제. 아래의 리스트의 요소들의 평균값을 출력하시오\n",
        "(numpy를 사용하지 않고 구하시오)**"
      ]
    },
    {
      "cell_type": "code",
      "metadata": {
        "colab": {
          "base_uri": "https://localhost:8080/"
        },
        "id": "rYVj_CyeBCUn",
        "outputId": "e762f69a-deb5-44ff-ffae-812b7add900f"
      },
      "source": [
        "b = [7,4,5,3,2]\n",
        "print(sum(b)/5)\n",
        "cnt= 0\n",
        "\n",
        "for i in b:\n",
        "  cnt = cnt + i\n",
        "print(cnt/len(b))\n"
      ],
      "execution_count": 128,
      "outputs": [
        {
          "output_type": "stream",
          "text": [
            "4.2\n",
            "4.2\n"
          ],
          "name": "stdout"
        }
      ]
    },
    {
      "cell_type": "markdown",
      "metadata": {
        "id": "kI6SfBnYH3sC"
      },
      "source": [
        "**문제 71. 문제 64번 코드를 가져와서 a 리스트의 요소들의 평균과 분산과 표준편차를 출력하시오**"
      ]
    },
    {
      "cell_type": "code",
      "metadata": {
        "colab": {
          "base_uri": "https://localhost:8080/"
        },
        "id": "VJSeAU7fBy-m",
        "outputId": "1758e04d-28da-4de8-a5e6-a09ae9920174"
      },
      "source": [
        "import random\n",
        "import numpy as np\n",
        "\n",
        "dice = (1,2,3,4,5,6) # 리스트형보단 튜플형이 더 빠르기 때문에 튜플을 사용\n",
        "a = []   #빈 리스트를 지정\n",
        "\n",
        "for j in range(1, 101): # 주사위를 던질 때 5이상이 나올 횟수를 100번 측정하기 위한 for loop 문\n",
        "  cnt = 0  # 앞선 for loop문에서 구한 주사위 눈금 5 이상을 초기화 시키는 값\n",
        "  for i in range(1, 289):        # 주사위 288번을 던지기 위한 for loop 문\n",
        "    result = random.choice(dice) # 주사위에 대한 랜덤 난수 생성\n",
        "    if result >= 5: # 눈금 5이상의 값을 추출하기 위한 조건 \n",
        "      cnt += 1      # 조건이 만족할 경우 1추가\n",
        "  a.append(cnt)         # for loop문을 빠져나와 리스트 a에 주사위 눈금 5이상의 값을 추가 함\n",
        "\n",
        "print(np.mean(a))\n",
        "print(np.var(a))\n",
        "print(np.std(a))"
      ],
      "execution_count": 131,
      "outputs": [
        {
          "output_type": "stream",
          "text": [
            "97.33\n",
            "57.86109999999999\n",
            "7.606648407807475\n"
          ],
          "name": "stdout"
        }
      ]
    },
    {
      "cell_type": "markdown",
      "metadata": {
        "id": "ltzz9BxCIykc"
      },
      "source": [
        "**문제 72. 위에 a 리스트에 담긴 요소 100개를 출력하시오**"
      ]
    },
    {
      "cell_type": "code",
      "metadata": {
        "colab": {
          "base_uri": "https://localhost:8080/"
        },
        "id": "_CsEm7AsI4l_",
        "outputId": "47f42e00-68b4-4a15-9ff9-de8c4b3cd9fb"
      },
      "source": [
        "import random\n",
        "import numpy as np\n",
        "\n",
        "dice = (1,2,3,4,5,6) # 리스트형보단 튜플형이 더 빠르기 때문에 튜플을 사용\n",
        "a = []   #빈 리스트를 지정\n",
        "\n",
        "for j in range(1, 101): # 주사위를 던질 때 5이상이 나올 횟수를 100번 측정하기 위한 for loop 문\n",
        "  cnt = 0  # 앞선 for loop문에서 구한 주사위 눈금 5 이상을 초기화 시키는 값\n",
        "  for i in range(1, 289):        # 주사위 288번을 던지기 위한 for loop 문\n",
        "    result = random.choice(dice) # 주사위에 대한 랜덤 난수 생성\n",
        "    if result >= 5: # 눈금 5이상의 값을 추출하기 위한 조건 \n",
        "      cnt += 1      # 조건이 만족할 경우 1추가\n",
        "  a.append(cnt)         # for loop문을 빠져나와 리스트 a에 주사위 눈금 5이상의 값을 추가 함\n",
        "print(a)  # 맨 마지막에  a 리스트를 print하면 아래와 같이 a리스트의 모든 요소들을 한번에 볼수 있음"
      ],
      "execution_count": 133,
      "outputs": [
        {
          "output_type": "stream",
          "text": [
            "[97, 109, 86, 86, 105, 108, 89, 101, 97, 90, 89, 94, 97, 92, 108, 89, 108, 108, 99, 99, 106, 97, 97, 104, 91, 105, 95, 95, 104, 90, 92, 88, 85, 99, 103, 101, 85, 104, 111, 86, 99, 94, 104, 101, 108, 100, 110, 99, 83, 96, 92, 94, 85, 98, 80, 103, 101, 108, 89, 106, 96, 83, 102, 90, 90, 111, 88, 95, 96, 97, 85, 101, 95, 88, 92, 87, 91, 91, 89, 108, 78, 102, 104, 106, 94, 89, 110, 101, 95, 91, 97, 88, 88, 113, 94, 104, 101, 99, 82, 90]\n"
          ],
          "name": "stdout"
        }
      ]
    },
    {
      "cell_type": "markdown",
      "metadata": {
        "id": "eR45o-iiJnt_"
      },
      "source": [
        "**문제 73. 위의 a 리스트의 요소들을 \"하나씩\" 빼내서 출력하시오**"
      ]
    },
    {
      "cell_type": "code",
      "metadata": {
        "colab": {
          "base_uri": "https://localhost:8080/"
        },
        "id": "4QFQ2dFoJtzb",
        "outputId": "2ae1fdbf-f5bb-4d15-caed-af9571046289"
      },
      "source": [
        "import random\n",
        "import numpy as np\n",
        "\n",
        "dice = (1,2,3,4,5,6) # 리스트형보단 튜플형이 더 빠르기 때문에 튜플을 사용\n",
        "a = []   #빈 리스트를 지정\n",
        "\n",
        "for j in range(1, 101): # 주사위를 던질 때 5이상이 나올 횟수를 100번 측정하기 위한 for loop 문\n",
        "  cnt = 0  # 앞선 for loop문에서 구한 주사위 눈금 5 이상을 초기화 시키는 값\n",
        "  for i in range(1, 289):        # 주사위 288번을 던지기 위한 for loop 문\n",
        "    result = random.choice(dice) # 주사위에 대한 랜덤 난수 생성\n",
        "    if result >= 5: # 눈금 5이상의 값을 추출하기 위한 조건 \n",
        "      cnt += 1      # 조건이 만족할 경우 1추가\n",
        "  a.append(cnt)         # for loop문을 빠져나와 리스트 a에 주사위 눈금 5이상의 값을 추가 함\n",
        "\n",
        "for k in a:\n",
        "  print(k)"
      ],
      "execution_count": 134,
      "outputs": [
        {
          "output_type": "stream",
          "text": [
            "98\n",
            "94\n",
            "97\n",
            "104\n",
            "95\n",
            "82\n",
            "93\n",
            "106\n",
            "84\n",
            "109\n",
            "99\n",
            "88\n",
            "107\n",
            "83\n",
            "87\n",
            "96\n",
            "102\n",
            "94\n",
            "89\n",
            "97\n",
            "92\n",
            "103\n",
            "90\n",
            "77\n",
            "104\n",
            "106\n",
            "91\n",
            "93\n",
            "100\n",
            "105\n",
            "102\n",
            "96\n",
            "97\n",
            "82\n",
            "86\n",
            "91\n",
            "87\n",
            "94\n",
            "100\n",
            "111\n",
            "90\n",
            "76\n",
            "101\n",
            "104\n",
            "93\n",
            "77\n",
            "98\n",
            "96\n",
            "91\n",
            "103\n",
            "107\n",
            "97\n",
            "92\n",
            "96\n",
            "105\n",
            "93\n",
            "113\n",
            "82\n",
            "89\n",
            "100\n",
            "86\n",
            "103\n",
            "95\n",
            "93\n",
            "98\n",
            "116\n",
            "87\n",
            "99\n",
            "100\n",
            "90\n",
            "107\n",
            "95\n",
            "98\n",
            "92\n",
            "102\n",
            "100\n",
            "111\n",
            "98\n",
            "93\n",
            "98\n",
            "110\n",
            "101\n",
            "97\n",
            "101\n",
            "90\n",
            "103\n",
            "90\n",
            "103\n",
            "99\n",
            "97\n",
            "108\n",
            "110\n",
            "97\n",
            "103\n",
            "106\n",
            "102\n",
            "98\n",
            "93\n",
            "92\n",
            "102\n"
          ],
          "name": "stdout"
        }
      ]
    },
    {
      "cell_type": "markdown",
      "metadata": {
        "id": "ajDzZNlnKcD4"
      },
      "source": [
        "**문제74. a 리스트의 요소들의 숫자가 90 이상이고 106이하인 요소들의 갯수를 출력하시오**"
      ]
    },
    {
      "cell_type": "code",
      "metadata": {
        "colab": {
          "base_uri": "https://localhost:8080/"
        },
        "id": "9VMpvSUFKmXc",
        "outputId": "8bb4eed8-bc37-427e-fc55-5cc581357578"
      },
      "source": [
        "import random\n",
        "import numpy as np\n",
        "\n",
        "dice = (1,2,3,4,5,6) # 리스트형보단 튜플형이 더 빠르기 때문에 튜플을 사용\n",
        "a = []   #빈 리스트를 지정\n",
        "\n",
        "for j in range(1, 101): # 주사위를 던질 때 5이상이 나올 횟수를 100번 측정하기 위한 for loop 문\n",
        "  cnt = 0  # 앞선 for loop문에서 구한 주사위 눈금 5 이상을 초기화 시키는 값\n",
        "  for i in range(1, 289):        # 주사위 288번을 던지기 위한 for loop 문\n",
        "    result = random.choice(dice) # 주사위에 대한 랜덤 난수 생성\n",
        "    if result >= 5: # 눈금 5이상의 값을 추출하기 위한 조건 \n",
        "      cnt += 1      # 조건이 만족할 경우 1추가\n",
        "  a.append(cnt)         # for loop문을 빠져나와 리스트 a에 주사위 눈금 5이상의 값을 추가 함\n",
        "\n",
        "cnt2=0\n",
        "for k in a:\n",
        "  if\n",
        "   90 <= k <= 106:\n",
        "    cnt2 += 1\n",
        "print(cnt2)"
      ],
      "execution_count": 163,
      "outputs": [
        {
          "output_type": "stream",
          "text": [
            "73\n"
          ],
          "name": "stdout"
        }
      ]
    },
    {
      "cell_type": "markdown",
      "metadata": {
        "id": "j7qjqpRyMSz_"
      },
      "source": [
        "**문제 75. a 리스트의 요소들의 숫자가 90이상이고 106이하인 요소들의 확률을 구하시오**"
      ]
    },
    {
      "cell_type": "code",
      "metadata": {
        "colab": {
          "base_uri": "https://localhost:8080/"
        },
        "id": "Bmn4FMVRMSjD",
        "outputId": "9392359e-ffe5-4085-9884-68bb68205759"
      },
      "source": [
        "import random\n",
        "\n",
        "dice = (1,2,3,4,5,6) # 리스트형보단 튜플형이 더 빠르기 때문에 튜플을 사용\n",
        "a = []   #빈 리스트를 지정\n",
        "sum_d = 0\n",
        "\n",
        "for j in range(1, 101): # 주사위를 던질 때 5이상이 나올 횟수를 100번 측정하기 위한 for loop 문\n",
        "  cnt = 0  # 앞선 for loop문에서 구한 주사위 눈금 5 이상을 초기화 시키는 값\n",
        "  for i in range(1, 289):        # 주사위 288번을 던지기 위한 for loop 문\n",
        "    result = random.choice(dice) # 주사위에 대한 랜덤 난수 생성\n",
        "    if result >= 5: # 눈금 5이상의 값을 추출하기 위한 조건 \n",
        "      cnt += 1      # 조건이 만족할 경우 1추가\n",
        "  a.append(cnt)         # for loop문을 빠져나와 리스트 a에 주사위 눈금 5이상의 값을 추가 함\n",
        "  sum_d += 1\n",
        "  \n",
        "cnt2=0\n",
        "for k in a:\n",
        "  if 90 <= k <= 106:\n",
        "    cnt2 += 1\n",
        "print(cnt2/sum_d)"
      ],
      "execution_count": 171,
      "outputs": [
        {
          "output_type": "stream",
          "text": [
            "0.7\n"
          ],
          "name": "stdout"
        }
      ]
    },
    {
      "cell_type": "markdown",
      "metadata": {
        "id": "9UEAFIo9NWAb"
      },
      "source": [
        "# 25. 판다스(pandas) 사용법\n",
        "- pandas란 \n",
        "    \n",
        "> 1. 데이터 분석을 위한 파이썬 모듈\n",
        "2. 엑셀의 스프레드 시트와 같은 관계형 데이터베이스의 데이터 처리 능력이 뛰어남\n",
        "3. 판다스 Dataframe이라는 기본 자료구조를 사용함(오라클의 테이블과 판다스의 Dataframe이 서로 유사함)\n",
        "\n",
        "\n",
        "\n",
        "\n"
      ]
    },
    {
      "cell_type": "code",
      "metadata": {
        "colab": {
          "resources": {
            "http://localhost:8080/nbextensions/google.colab/files.js": {
              "data": "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",
              "ok": true,
              "headers": [
                [
                  "content-type",
                  "application/javascript"
                ]
              ],
              "status": 200,
              "status_text": ""
            }
          },
          "base_uri": "https://localhost:8080/",
          "height": 72
        },
        "id": "LzxcSsrdOUvW",
        "outputId": "07e393fb-ccb1-4cfa-8e13-779cab9ceb86"
      },
      "source": [
        "# 예제1. emp3.csv를 파이썬을 이용해서 판다스의 데이터 프레임으로 만드시오\n",
        "\n",
        "import pandas as pd\n",
        "\n",
        "from google.colab import files\n",
        "myfile = files.upload()\n"
      ],
      "execution_count": 177,
      "outputs": [
        {
          "output_type": "display_data",
          "data": {
            "text/html": [
              "\n",
              "     <input type=\"file\" id=\"files-a687daa7-75d2-4ad9-a420-e3ce7b552b2a\" name=\"files[]\" multiple disabled\n",
              "        style=\"border:none\" />\n",
              "     <output id=\"result-a687daa7-75d2-4ad9-a420-e3ce7b552b2a\">\n",
              "      Upload widget is only available when the cell has been executed in the\n",
              "      current browser session. Please rerun this cell to enable.\n",
              "      </output>\n",
              "      <script src=\"/nbextensions/google.colab/files.js\"></script> "
            ],
            "text/plain": [
              "<IPython.core.display.HTML object>"
            ]
          },
          "metadata": {
            "tags": []
          }
        },
        {
          "output_type": "stream",
          "text": [
            "Saving emp3.csv to emp3 (1).csv\n"
          ],
          "name": "stdout"
        }
      ]
    },
    {
      "cell_type": "code",
      "metadata": {
        "colab": {
          "base_uri": "https://localhost:8080/",
          "height": 483
        },
        "id": "hLMHv8T9PQLv",
        "outputId": "1ea85f1b-c023-43a7-e7f3-74589ba61c47"
      },
      "source": [
        "import pandas as pd\n",
        "\n",
        "\n",
        "emp = pd.read_csv('emp3.csv') # 판다스의 read_csv는 os의 csv 파일을 읽어서 파이썬 에서 판다스 데이터 프레임으로 만드는 함수\n",
        "emp"
      ],
      "execution_count": 191,
      "outputs": [
        {
          "output_type": "execute_result",
          "data": {
            "text/html": [
              "<div>\n",
              "<style scoped>\n",
              "    .dataframe tbody tr th:only-of-type {\n",
              "        vertical-align: middle;\n",
              "    }\n",
              "\n",
              "    .dataframe tbody tr th {\n",
              "        vertical-align: top;\n",
              "    }\n",
              "\n",
              "    .dataframe thead th {\n",
              "        text-align: right;\n",
              "    }\n",
              "</style>\n",
              "<table border=\"1\" class=\"dataframe\">\n",
              "  <thead>\n",
              "    <tr style=\"text-align: right;\">\n",
              "      <th></th>\n",
              "      <th>index</th>\n",
              "      <th>empno</th>\n",
              "      <th>ename</th>\n",
              "      <th>job</th>\n",
              "      <th>mgr</th>\n",
              "      <th>hiredate</th>\n",
              "      <th>sal</th>\n",
              "      <th>comm</th>\n",
              "      <th>deptno</th>\n",
              "    </tr>\n",
              "  </thead>\n",
              "  <tbody>\n",
              "    <tr>\n",
              "      <th>0</th>\n",
              "      <td>1</td>\n",
              "      <td>7839</td>\n",
              "      <td>KING</td>\n",
              "      <td>PRESIDENT</td>\n",
              "      <td>NaN</td>\n",
              "      <td>1981-11-17 0:00</td>\n",
              "      <td>5000</td>\n",
              "      <td>NaN</td>\n",
              "      <td>10</td>\n",
              "    </tr>\n",
              "    <tr>\n",
              "      <th>1</th>\n",
              "      <td>2</td>\n",
              "      <td>7698</td>\n",
              "      <td>BLAKE</td>\n",
              "      <td>MANAGER</td>\n",
              "      <td>7839.0</td>\n",
              "      <td>1981-05-01 0:00</td>\n",
              "      <td>2850</td>\n",
              "      <td>NaN</td>\n",
              "      <td>30</td>\n",
              "    </tr>\n",
              "    <tr>\n",
              "      <th>2</th>\n",
              "      <td>3</td>\n",
              "      <td>7782</td>\n",
              "      <td>CLARK</td>\n",
              "      <td>MANAGER</td>\n",
              "      <td>7839.0</td>\n",
              "      <td>1981-05-09 0:00</td>\n",
              "      <td>2450</td>\n",
              "      <td>NaN</td>\n",
              "      <td>10</td>\n",
              "    </tr>\n",
              "    <tr>\n",
              "      <th>3</th>\n",
              "      <td>4</td>\n",
              "      <td>7566</td>\n",
              "      <td>JONES</td>\n",
              "      <td>MANAGER</td>\n",
              "      <td>7839.0</td>\n",
              "      <td>1981-04-01 0:00</td>\n",
              "      <td>2975</td>\n",
              "      <td>NaN</td>\n",
              "      <td>20</td>\n",
              "    </tr>\n",
              "    <tr>\n",
              "      <th>4</th>\n",
              "      <td>5</td>\n",
              "      <td>7654</td>\n",
              "      <td>MARTIN</td>\n",
              "      <td>SALESMAN</td>\n",
              "      <td>7698.0</td>\n",
              "      <td>1981-09-10 0:00</td>\n",
              "      <td>1250</td>\n",
              "      <td>1400.0</td>\n",
              "      <td>30</td>\n",
              "    </tr>\n",
              "    <tr>\n",
              "      <th>5</th>\n",
              "      <td>6</td>\n",
              "      <td>7499</td>\n",
              "      <td>ALLEN</td>\n",
              "      <td>SALESMAN</td>\n",
              "      <td>7698.0</td>\n",
              "      <td>1981-02-11 0:00</td>\n",
              "      <td>1600</td>\n",
              "      <td>300.0</td>\n",
              "      <td>30</td>\n",
              "    </tr>\n",
              "    <tr>\n",
              "      <th>6</th>\n",
              "      <td>7</td>\n",
              "      <td>7844</td>\n",
              "      <td>TURNER</td>\n",
              "      <td>SALESMAN</td>\n",
              "      <td>7698.0</td>\n",
              "      <td>1981-08-21 0:00</td>\n",
              "      <td>1500</td>\n",
              "      <td>0.0</td>\n",
              "      <td>30</td>\n",
              "    </tr>\n",
              "    <tr>\n",
              "      <th>7</th>\n",
              "      <td>8</td>\n",
              "      <td>7900</td>\n",
              "      <td>JAMES</td>\n",
              "      <td>CLERK</td>\n",
              "      <td>7698.0</td>\n",
              "      <td>1981-12-11 0:00</td>\n",
              "      <td>950</td>\n",
              "      <td>NaN</td>\n",
              "      <td>30</td>\n",
              "    </tr>\n",
              "    <tr>\n",
              "      <th>8</th>\n",
              "      <td>9</td>\n",
              "      <td>7521</td>\n",
              "      <td>WARD</td>\n",
              "      <td>SALESMAN</td>\n",
              "      <td>7698.0</td>\n",
              "      <td>1981-02-23 0:00</td>\n",
              "      <td>1250</td>\n",
              "      <td>500.0</td>\n",
              "      <td>30</td>\n",
              "    </tr>\n",
              "    <tr>\n",
              "      <th>9</th>\n",
              "      <td>10</td>\n",
              "      <td>7902</td>\n",
              "      <td>FORD</td>\n",
              "      <td>ANALYST</td>\n",
              "      <td>7566.0</td>\n",
              "      <td>1981-12-11 0:00</td>\n",
              "      <td>3000</td>\n",
              "      <td>NaN</td>\n",
              "      <td>20</td>\n",
              "    </tr>\n",
              "    <tr>\n",
              "      <th>10</th>\n",
              "      <td>11</td>\n",
              "      <td>7369</td>\n",
              "      <td>SMITH</td>\n",
              "      <td>CLERK</td>\n",
              "      <td>7902.0</td>\n",
              "      <td>1980-12-09 0:00</td>\n",
              "      <td>800</td>\n",
              "      <td>NaN</td>\n",
              "      <td>20</td>\n",
              "    </tr>\n",
              "    <tr>\n",
              "      <th>11</th>\n",
              "      <td>12</td>\n",
              "      <td>7788</td>\n",
              "      <td>SCOTT</td>\n",
              "      <td>ANALYST</td>\n",
              "      <td>7566.0</td>\n",
              "      <td>1982-12-22 0:00</td>\n",
              "      <td>3000</td>\n",
              "      <td>NaN</td>\n",
              "      <td>20</td>\n",
              "    </tr>\n",
              "    <tr>\n",
              "      <th>12</th>\n",
              "      <td>13</td>\n",
              "      <td>7876</td>\n",
              "      <td>ADAMS</td>\n",
              "      <td>CLERK</td>\n",
              "      <td>7788.0</td>\n",
              "      <td>1983-01-15 0:00</td>\n",
              "      <td>1100</td>\n",
              "      <td>NaN</td>\n",
              "      <td>20</td>\n",
              "    </tr>\n",
              "    <tr>\n",
              "      <th>13</th>\n",
              "      <td>14</td>\n",
              "      <td>7934</td>\n",
              "      <td>MILLER</td>\n",
              "      <td>CLERK</td>\n",
              "      <td>7782.0</td>\n",
              "      <td>1982-01-11 0:00</td>\n",
              "      <td>1300</td>\n",
              "      <td>NaN</td>\n",
              "      <td>10</td>\n",
              "    </tr>\n",
              "  </tbody>\n",
              "</table>\n",
              "</div>"
            ],
            "text/plain": [
              "    index  empno   ename        job  ...         hiredate   sal    comm  deptno\n",
              "0       1   7839    KING  PRESIDENT  ...  1981-11-17 0:00  5000     NaN      10\n",
              "1       2   7698   BLAKE    MANAGER  ...  1981-05-01 0:00  2850     NaN      30\n",
              "2       3   7782   CLARK    MANAGER  ...  1981-05-09 0:00  2450     NaN      10\n",
              "3       4   7566   JONES    MANAGER  ...  1981-04-01 0:00  2975     NaN      20\n",
              "4       5   7654  MARTIN   SALESMAN  ...  1981-09-10 0:00  1250  1400.0      30\n",
              "5       6   7499   ALLEN   SALESMAN  ...  1981-02-11 0:00  1600   300.0      30\n",
              "6       7   7844  TURNER   SALESMAN  ...  1981-08-21 0:00  1500     0.0      30\n",
              "7       8   7900   JAMES      CLERK  ...  1981-12-11 0:00   950     NaN      30\n",
              "8       9   7521    WARD   SALESMAN  ...  1981-02-23 0:00  1250   500.0      30\n",
              "9      10   7902    FORD    ANALYST  ...  1981-12-11 0:00  3000     NaN      20\n",
              "10     11   7369   SMITH      CLERK  ...  1980-12-09 0:00   800     NaN      20\n",
              "11     12   7788   SCOTT    ANALYST  ...  1982-12-22 0:00  3000     NaN      20\n",
              "12     13   7876   ADAMS      CLERK  ...  1983-01-15 0:00  1100     NaN      20\n",
              "13     14   7934  MILLER      CLERK  ...  1982-01-11 0:00  1300     NaN      10\n",
              "\n",
              "[14 rows x 9 columns]"
            ]
          },
          "metadata": {
            "tags": []
          },
          "execution_count": 191
        }
      ]
    },
    {
      "cell_type": "markdown",
      "metadata": {
        "id": "BDWg5vFBPPix"
      },
      "source": [
        "~~~\n",
        "SQL   ---> 데이터에서 정보를 얻어내기 위해서 (데이터 검색)\n",
        "Pandas --> 데이터를 검색하는 모듈\n",
        "~~~\n"
      ]
    },
    {
      "cell_type": "markdown",
      "metadata": {
        "id": "Sp47w3gYOTUl"
      },
      "source": [
        "**문제 76. (SQL -> Pandas) 사원테이블에서 이름과 월급을 출력하시오**\n",
        "\n"
      ]
    },
    {
      "cell_type": "code",
      "metadata": {
        "colab": {
          "base_uri": "https://localhost:8080/",
          "height": 483
        },
        "id": "pvaBzVxJUhdR",
        "outputId": "02ff146e-b108-46f4-e5bc-46286ce4b660"
      },
      "source": [
        "import pandas as pd\n",
        "\n",
        "emp = pd.read_csv('emp3.csv') \n",
        "emp[['ename', 'sal']] # 데이터 프레임명 [ ['컬럼명1', '컬럼명2']]"
      ],
      "execution_count": 199,
      "outputs": [
        {
          "output_type": "execute_result",
          "data": {
            "text/html": [
              "<div>\n",
              "<style scoped>\n",
              "    .dataframe tbody tr th:only-of-type {\n",
              "        vertical-align: middle;\n",
              "    }\n",
              "\n",
              "    .dataframe tbody tr th {\n",
              "        vertical-align: top;\n",
              "    }\n",
              "\n",
              "    .dataframe thead th {\n",
              "        text-align: right;\n",
              "    }\n",
              "</style>\n",
              "<table border=\"1\" class=\"dataframe\">\n",
              "  <thead>\n",
              "    <tr style=\"text-align: right;\">\n",
              "      <th></th>\n",
              "      <th>ename</th>\n",
              "      <th>sal</th>\n",
              "    </tr>\n",
              "  </thead>\n",
              "  <tbody>\n",
              "    <tr>\n",
              "      <th>0</th>\n",
              "      <td>KING</td>\n",
              "      <td>5000</td>\n",
              "    </tr>\n",
              "    <tr>\n",
              "      <th>1</th>\n",
              "      <td>BLAKE</td>\n",
              "      <td>2850</td>\n",
              "    </tr>\n",
              "    <tr>\n",
              "      <th>2</th>\n",
              "      <td>CLARK</td>\n",
              "      <td>2450</td>\n",
              "    </tr>\n",
              "    <tr>\n",
              "      <th>3</th>\n",
              "      <td>JONES</td>\n",
              "      <td>2975</td>\n",
              "    </tr>\n",
              "    <tr>\n",
              "      <th>4</th>\n",
              "      <td>MARTIN</td>\n",
              "      <td>1250</td>\n",
              "    </tr>\n",
              "    <tr>\n",
              "      <th>5</th>\n",
              "      <td>ALLEN</td>\n",
              "      <td>1600</td>\n",
              "    </tr>\n",
              "    <tr>\n",
              "      <th>6</th>\n",
              "      <td>TURNER</td>\n",
              "      <td>1500</td>\n",
              "    </tr>\n",
              "    <tr>\n",
              "      <th>7</th>\n",
              "      <td>JAMES</td>\n",
              "      <td>950</td>\n",
              "    </tr>\n",
              "    <tr>\n",
              "      <th>8</th>\n",
              "      <td>WARD</td>\n",
              "      <td>1250</td>\n",
              "    </tr>\n",
              "    <tr>\n",
              "      <th>9</th>\n",
              "      <td>FORD</td>\n",
              "      <td>3000</td>\n",
              "    </tr>\n",
              "    <tr>\n",
              "      <th>10</th>\n",
              "      <td>SMITH</td>\n",
              "      <td>800</td>\n",
              "    </tr>\n",
              "    <tr>\n",
              "      <th>11</th>\n",
              "      <td>SCOTT</td>\n",
              "      <td>3000</td>\n",
              "    </tr>\n",
              "    <tr>\n",
              "      <th>12</th>\n",
              "      <td>ADAMS</td>\n",
              "      <td>1100</td>\n",
              "    </tr>\n",
              "    <tr>\n",
              "      <th>13</th>\n",
              "      <td>MILLER</td>\n",
              "      <td>1300</td>\n",
              "    </tr>\n",
              "  </tbody>\n",
              "</table>\n",
              "</div>"
            ],
            "text/plain": [
              "     ename   sal\n",
              "0     KING  5000\n",
              "1    BLAKE  2850\n",
              "2    CLARK  2450\n",
              "3    JONES  2975\n",
              "4   MARTIN  1250\n",
              "5    ALLEN  1600\n",
              "6   TURNER  1500\n",
              "7    JAMES   950\n",
              "8     WARD  1250\n",
              "9     FORD  3000\n",
              "10   SMITH   800\n",
              "11   SCOTT  3000\n",
              "12   ADAMS  1100\n",
              "13  MILLER  1300"
            ]
          },
          "metadata": {
            "tags": []
          },
          "execution_count": 199
        }
      ]
    },
    {
      "cell_type": "markdown",
      "metadata": {
        "id": "-124IjBEViKD"
      },
      "source": [
        "**문제 77. 아래의 SQL을 판다스로 구현하시오**\n",
        "~~~\n",
        "select ename, sal, jon, hiredate\n",
        "  from emp;\n",
        "~~~"
      ]
    },
    {
      "cell_type": "code",
      "metadata": {
        "colab": {
          "base_uri": "https://localhost:8080/"
        },
        "id": "Ji7q0adxVnNp",
        "outputId": "ddd60362-8df6-42e5-dd99-1478c4578e10"
      },
      "source": [
        "print( emp[['ename', 'sal', 'job', 'hiredate']] )"
      ],
      "execution_count": 201,
      "outputs": [
        {
          "output_type": "stream",
          "text": [
            "     ename   sal        job         hiredate\n",
            "0     KING  5000  PRESIDENT  1981-11-17 0:00\n",
            "1    BLAKE  2850    MANAGER  1981-05-01 0:00\n",
            "2    CLARK  2450    MANAGER  1981-05-09 0:00\n",
            "3    JONES  2975    MANAGER  1981-04-01 0:00\n",
            "4   MARTIN  1250   SALESMAN  1981-09-10 0:00\n",
            "5    ALLEN  1600   SALESMAN  1981-02-11 0:00\n",
            "6   TURNER  1500   SALESMAN  1981-08-21 0:00\n",
            "7    JAMES   950      CLERK  1981-12-11 0:00\n",
            "8     WARD  1250   SALESMAN  1981-02-23 0:00\n",
            "9     FORD  3000    ANALYST  1981-12-11 0:00\n",
            "10   SMITH   800      CLERK  1980-12-09 0:00\n",
            "11   SCOTT  3000    ANALYST  1982-12-22 0:00\n",
            "12   ADAMS  1100      CLERK  1983-01-15 0:00\n",
            "13  MILLER  1300      CLERK  1982-01-11 0:00\n"
          ],
          "name": "stdout"
        }
      ]
    },
    {
      "cell_type": "markdown",
      "metadata": {
        "id": "Sp4d3NiuWDDQ"
      },
      "source": [
        "**문제 78. 아래의 SQL을 판다스로 구현하시오**\n",
        "~~~\n",
        "select ename, sal\n",
        "  from emp\n",
        "  where job='SALESMAN';\n",
        "~~~"
      ]
    },
    {
      "cell_type": "code",
      "metadata": {
        "colab": {
          "base_uri": "https://localhost:8080/",
          "height": 173
        },
        "id": "EgHuzp8yWPOb",
        "outputId": "735611b3-2eca-402e-d00b-1b9447c7129c"
      },
      "source": [
        "emp[['ename', 'sal']] [ emp['job'] == 'SALESMAN']\n",
        "                              # 검색조건"
      ],
      "execution_count": 206,
      "outputs": [
        {
          "output_type": "execute_result",
          "data": {
            "text/html": [
              "<div>\n",
              "<style scoped>\n",
              "    .dataframe tbody tr th:only-of-type {\n",
              "        vertical-align: middle;\n",
              "    }\n",
              "\n",
              "    .dataframe tbody tr th {\n",
              "        vertical-align: top;\n",
              "    }\n",
              "\n",
              "    .dataframe thead th {\n",
              "        text-align: right;\n",
              "    }\n",
              "</style>\n",
              "<table border=\"1\" class=\"dataframe\">\n",
              "  <thead>\n",
              "    <tr style=\"text-align: right;\">\n",
              "      <th></th>\n",
              "      <th>ename</th>\n",
              "      <th>sal</th>\n",
              "    </tr>\n",
              "  </thead>\n",
              "  <tbody>\n",
              "    <tr>\n",
              "      <th>4</th>\n",
              "      <td>MARTIN</td>\n",
              "      <td>1250</td>\n",
              "    </tr>\n",
              "    <tr>\n",
              "      <th>5</th>\n",
              "      <td>ALLEN</td>\n",
              "      <td>1600</td>\n",
              "    </tr>\n",
              "    <tr>\n",
              "      <th>6</th>\n",
              "      <td>TURNER</td>\n",
              "      <td>1500</td>\n",
              "    </tr>\n",
              "    <tr>\n",
              "      <th>8</th>\n",
              "      <td>WARD</td>\n",
              "      <td>1250</td>\n",
              "    </tr>\n",
              "  </tbody>\n",
              "</table>\n",
              "</div>"
            ],
            "text/plain": [
              "    ename   sal\n",
              "4  MARTIN  1250\n",
              "5   ALLEN  1600\n",
              "6  TURNER  1500\n",
              "8    WARD  1250"
            ]
          },
          "metadata": {
            "tags": []
          },
          "execution_count": 206
        }
      ]
    },
    {
      "cell_type": "markdown",
      "metadata": {
        "id": "rYSgTb8rXuxN"
      },
      "source": [
        "**문제 79. 월급 3000이상인 사원들의 이름과 월급을 출력하시오**\n",
        "~~~\n",
        "select ename, sal\n",
        "  from emp\n",
        "  where sal > 3000;\n",
        "~~~"
      ]
    },
    {
      "cell_type": "code",
      "metadata": {
        "colab": {
          "base_uri": "https://localhost:8080/",
          "height": 142
        },
        "id": "MKyHlZrrXuKi",
        "outputId": "5c6c3aab-9881-476c-8c35-e0ced3c19ecf"
      },
      "source": [
        "emp[['ename', 'sal']] [emp['sal'] >= 3000]"
      ],
      "execution_count": 210,
      "outputs": [
        {
          "output_type": "execute_result",
          "data": {
            "text/html": [
              "<div>\n",
              "<style scoped>\n",
              "    .dataframe tbody tr th:only-of-type {\n",
              "        vertical-align: middle;\n",
              "    }\n",
              "\n",
              "    .dataframe tbody tr th {\n",
              "        vertical-align: top;\n",
              "    }\n",
              "\n",
              "    .dataframe thead th {\n",
              "        text-align: right;\n",
              "    }\n",
              "</style>\n",
              "<table border=\"1\" class=\"dataframe\">\n",
              "  <thead>\n",
              "    <tr style=\"text-align: right;\">\n",
              "      <th></th>\n",
              "      <th>ename</th>\n",
              "      <th>sal</th>\n",
              "    </tr>\n",
              "  </thead>\n",
              "  <tbody>\n",
              "    <tr>\n",
              "      <th>0</th>\n",
              "      <td>KING</td>\n",
              "      <td>5000</td>\n",
              "    </tr>\n",
              "    <tr>\n",
              "      <th>9</th>\n",
              "      <td>FORD</td>\n",
              "      <td>3000</td>\n",
              "    </tr>\n",
              "    <tr>\n",
              "      <th>11</th>\n",
              "      <td>SCOTT</td>\n",
              "      <td>3000</td>\n",
              "    </tr>\n",
              "  </tbody>\n",
              "</table>\n",
              "</div>"
            ],
            "text/plain": [
              "    ename   sal\n",
              "0    KING  5000\n",
              "9    FORD  3000\n",
              "11  SCOTT  3000"
            ]
          },
          "metadata": {
            "tags": []
          },
          "execution_count": 210
        }
      ]
    },
    {
      "cell_type": "markdown",
      "metadata": {
        "id": "zlm0JeIEYU7g"
      },
      "source": [
        "**문제 80. 아래의 SQL을 pandas로 구현하시오**\n",
        "~~~\n",
        "select ename, sal\n",
        "  from emp\n",
        "  where sal between 1000 and 3000;\n",
        "~~~"
      ]
    },
    {
      "cell_type": "code",
      "metadata": {
        "colab": {
          "base_uri": "https://localhost:8080/",
          "height": 390
        },
        "id": "jcxfcMRIYg1W",
        "outputId": "ff533ca9-0d97-43f8-f42d-18f36fb38c3f"
      },
      "source": [
        "emp[['ename', 'sal']] [ emp['sal'].between(1000, 3000)]"
      ],
      "execution_count": 213,
      "outputs": [
        {
          "output_type": "execute_result",
          "data": {
            "text/html": [
              "<div>\n",
              "<style scoped>\n",
              "    .dataframe tbody tr th:only-of-type {\n",
              "        vertical-align: middle;\n",
              "    }\n",
              "\n",
              "    .dataframe tbody tr th {\n",
              "        vertical-align: top;\n",
              "    }\n",
              "\n",
              "    .dataframe thead th {\n",
              "        text-align: right;\n",
              "    }\n",
              "</style>\n",
              "<table border=\"1\" class=\"dataframe\">\n",
              "  <thead>\n",
              "    <tr style=\"text-align: right;\">\n",
              "      <th></th>\n",
              "      <th>ename</th>\n",
              "      <th>sal</th>\n",
              "    </tr>\n",
              "  </thead>\n",
              "  <tbody>\n",
              "    <tr>\n",
              "      <th>1</th>\n",
              "      <td>BLAKE</td>\n",
              "      <td>2850</td>\n",
              "    </tr>\n",
              "    <tr>\n",
              "      <th>2</th>\n",
              "      <td>CLARK</td>\n",
              "      <td>2450</td>\n",
              "    </tr>\n",
              "    <tr>\n",
              "      <th>3</th>\n",
              "      <td>JONES</td>\n",
              "      <td>2975</td>\n",
              "    </tr>\n",
              "    <tr>\n",
              "      <th>4</th>\n",
              "      <td>MARTIN</td>\n",
              "      <td>1250</td>\n",
              "    </tr>\n",
              "    <tr>\n",
              "      <th>5</th>\n",
              "      <td>ALLEN</td>\n",
              "      <td>1600</td>\n",
              "    </tr>\n",
              "    <tr>\n",
              "      <th>6</th>\n",
              "      <td>TURNER</td>\n",
              "      <td>1500</td>\n",
              "    </tr>\n",
              "    <tr>\n",
              "      <th>8</th>\n",
              "      <td>WARD</td>\n",
              "      <td>1250</td>\n",
              "    </tr>\n",
              "    <tr>\n",
              "      <th>9</th>\n",
              "      <td>FORD</td>\n",
              "      <td>3000</td>\n",
              "    </tr>\n",
              "    <tr>\n",
              "      <th>11</th>\n",
              "      <td>SCOTT</td>\n",
              "      <td>3000</td>\n",
              "    </tr>\n",
              "    <tr>\n",
              "      <th>12</th>\n",
              "      <td>ADAMS</td>\n",
              "      <td>1100</td>\n",
              "    </tr>\n",
              "    <tr>\n",
              "      <th>13</th>\n",
              "      <td>MILLER</td>\n",
              "      <td>1300</td>\n",
              "    </tr>\n",
              "  </tbody>\n",
              "</table>\n",
              "</div>"
            ],
            "text/plain": [
              "     ename   sal\n",
              "1    BLAKE  2850\n",
              "2    CLARK  2450\n",
              "3    JONES  2975\n",
              "4   MARTIN  1250\n",
              "5    ALLEN  1600\n",
              "6   TURNER  1500\n",
              "8     WARD  1250\n",
              "9     FORD  3000\n",
              "11   SCOTT  3000\n",
              "12   ADAMS  1100\n",
              "13  MILLER  1300"
            ]
          },
          "metadata": {
            "tags": []
          },
          "execution_count": 213
        }
      ]
    },
    {
      "cell_type": "markdown",
      "metadata": {
        "id": "WwWtwFv4ZBbt"
      },
      "source": [
        "**문제 81. 월급이 1000에서 3000 사이가 아닌 사원들의 이름과 월급을 출력하시오**\n",
        "\n",
        "(not이 판다스에서는 ~ )\n",
        "\n",
        "~~~\n",
        "select ename, sal\n",
        "  from emp\n",
        "  where sal not between 1000 and 3000;\n",
        "~~~"
      ]
    },
    {
      "cell_type": "code",
      "metadata": {
        "colab": {
          "base_uri": "https://localhost:8080/",
          "height": 142
        },
        "id": "7GxZrVmwZUOY",
        "outputId": "17c2338c-5a91-41ff-de64-9d672ca26eed"
      },
      "source": [
        "emp[['ename', 'sal']] [ ~emp['sal'].between(1000, 3000)]"
      ],
      "execution_count": 214,
      "outputs": [
        {
          "output_type": "execute_result",
          "data": {
            "text/html": [
              "<div>\n",
              "<style scoped>\n",
              "    .dataframe tbody tr th:only-of-type {\n",
              "        vertical-align: middle;\n",
              "    }\n",
              "\n",
              "    .dataframe tbody tr th {\n",
              "        vertical-align: top;\n",
              "    }\n",
              "\n",
              "    .dataframe thead th {\n",
              "        text-align: right;\n",
              "    }\n",
              "</style>\n",
              "<table border=\"1\" class=\"dataframe\">\n",
              "  <thead>\n",
              "    <tr style=\"text-align: right;\">\n",
              "      <th></th>\n",
              "      <th>ename</th>\n",
              "      <th>sal</th>\n",
              "    </tr>\n",
              "  </thead>\n",
              "  <tbody>\n",
              "    <tr>\n",
              "      <th>0</th>\n",
              "      <td>KING</td>\n",
              "      <td>5000</td>\n",
              "    </tr>\n",
              "    <tr>\n",
              "      <th>7</th>\n",
              "      <td>JAMES</td>\n",
              "      <td>950</td>\n",
              "    </tr>\n",
              "    <tr>\n",
              "      <th>10</th>\n",
              "      <td>SMITH</td>\n",
              "      <td>800</td>\n",
              "    </tr>\n",
              "  </tbody>\n",
              "</table>\n",
              "</div>"
            ],
            "text/plain": [
              "    ename   sal\n",
              "0    KING  5000\n",
              "7   JAMES   950\n",
              "10  SMITH   800"
            ]
          },
          "metadata": {
            "tags": []
          },
          "execution_count": 214
        }
      ]
    },
    {
      "cell_type": "markdown",
      "metadata": {
        "id": "JtJNsR7nZqzl"
      },
      "source": [
        "오라클의 기타 비교 연산자와 파이썬 판다스와의 비교\n",
        "\n",
        "|오라클| |판다스|\n",
        "|:---:|---|:---:|\n",
        "|between ... and| |emp['sal'].between(1000, 3000)|\n",
        "|in| |emp['job'].isin(['SALESMAN','ANALYST'])|\n",
        "|is null| |emp['comm'].isnull()|\n",
        "|like| |apply함수|\n"
      ]
    },
    {
      "cell_type": "markdown",
      "metadata": {
        "id": "nsY4XTJEacgY"
      },
      "source": [
        "**문제 82. 직업이 CLERK, SALESMAN인 사원들의 이름과 직업을 출력하시오**\n",
        "~~~\n",
        "select ename, job\n",
        "  from emp\n",
        "  where job in ('CLERK', 'SALESMAN')\n",
        "  "
      ]
    },
    {
      "cell_type": "code",
      "metadata": {
        "colab": {
          "base_uri": "https://localhost:8080/",
          "height": 297
        },
        "id": "cPqdQl5Hab34",
        "outputId": "56e8e578-ec55-4a17-bce5-ae161b39894b"
      },
      "source": [
        "emp[['ename', 'sal']][emp['job'].isin(['CLERK', 'SALESMAN'])]"
      ],
      "execution_count": 218,
      "outputs": [
        {
          "output_type": "execute_result",
          "data": {
            "text/html": [
              "<div>\n",
              "<style scoped>\n",
              "    .dataframe tbody tr th:only-of-type {\n",
              "        vertical-align: middle;\n",
              "    }\n",
              "\n",
              "    .dataframe tbody tr th {\n",
              "        vertical-align: top;\n",
              "    }\n",
              "\n",
              "    .dataframe thead th {\n",
              "        text-align: right;\n",
              "    }\n",
              "</style>\n",
              "<table border=\"1\" class=\"dataframe\">\n",
              "  <thead>\n",
              "    <tr style=\"text-align: right;\">\n",
              "      <th></th>\n",
              "      <th>ename</th>\n",
              "      <th>sal</th>\n",
              "    </tr>\n",
              "  </thead>\n",
              "  <tbody>\n",
              "    <tr>\n",
              "      <th>4</th>\n",
              "      <td>MARTIN</td>\n",
              "      <td>1250</td>\n",
              "    </tr>\n",
              "    <tr>\n",
              "      <th>5</th>\n",
              "      <td>ALLEN</td>\n",
              "      <td>1600</td>\n",
              "    </tr>\n",
              "    <tr>\n",
              "      <th>6</th>\n",
              "      <td>TURNER</td>\n",
              "      <td>1500</td>\n",
              "    </tr>\n",
              "    <tr>\n",
              "      <th>7</th>\n",
              "      <td>JAMES</td>\n",
              "      <td>950</td>\n",
              "    </tr>\n",
              "    <tr>\n",
              "      <th>8</th>\n",
              "      <td>WARD</td>\n",
              "      <td>1250</td>\n",
              "    </tr>\n",
              "    <tr>\n",
              "      <th>10</th>\n",
              "      <td>SMITH</td>\n",
              "      <td>800</td>\n",
              "    </tr>\n",
              "    <tr>\n",
              "      <th>12</th>\n",
              "      <td>ADAMS</td>\n",
              "      <td>1100</td>\n",
              "    </tr>\n",
              "    <tr>\n",
              "      <th>13</th>\n",
              "      <td>MILLER</td>\n",
              "      <td>1300</td>\n",
              "    </tr>\n",
              "  </tbody>\n",
              "</table>\n",
              "</div>"
            ],
            "text/plain": [
              "     ename   sal\n",
              "4   MARTIN  1250\n",
              "5    ALLEN  1600\n",
              "6   TURNER  1500\n",
              "7    JAMES   950\n",
              "8     WARD  1250\n",
              "10   SMITH   800\n",
              "12   ADAMS  1100\n",
              "13  MILLER  1300"
            ]
          },
          "metadata": {
            "tags": []
          },
          "execution_count": 218
        }
      ]
    },
    {
      "cell_type": "markdown",
      "metadata": {
        "id": "ihppt18NbnWk"
      },
      "source": [
        "**문제 83. 직업이 CLERK, SALESMAN이 아닌 사원들의 이름과 직업을 출력하세요**"
      ]
    },
    {
      "cell_type": "code",
      "metadata": {
        "colab": {
          "base_uri": "https://localhost:8080/",
          "height": 235
        },
        "id": "c9ieYywgabTJ",
        "outputId": "d05f6758-b94d-4177-e549-b31d996ebb75"
      },
      "source": [
        "emp[['ename','job']] [~emp['job'].isin( ['CLERK', 'SALESMAN'])]"
      ],
      "execution_count": 219,
      "outputs": [
        {
          "output_type": "execute_result",
          "data": {
            "text/html": [
              "<div>\n",
              "<style scoped>\n",
              "    .dataframe tbody tr th:only-of-type {\n",
              "        vertical-align: middle;\n",
              "    }\n",
              "\n",
              "    .dataframe tbody tr th {\n",
              "        vertical-align: top;\n",
              "    }\n",
              "\n",
              "    .dataframe thead th {\n",
              "        text-align: right;\n",
              "    }\n",
              "</style>\n",
              "<table border=\"1\" class=\"dataframe\">\n",
              "  <thead>\n",
              "    <tr style=\"text-align: right;\">\n",
              "      <th></th>\n",
              "      <th>ename</th>\n",
              "      <th>job</th>\n",
              "    </tr>\n",
              "  </thead>\n",
              "  <tbody>\n",
              "    <tr>\n",
              "      <th>0</th>\n",
              "      <td>KING</td>\n",
              "      <td>PRESIDENT</td>\n",
              "    </tr>\n",
              "    <tr>\n",
              "      <th>1</th>\n",
              "      <td>BLAKE</td>\n",
              "      <td>MANAGER</td>\n",
              "    </tr>\n",
              "    <tr>\n",
              "      <th>2</th>\n",
              "      <td>CLARK</td>\n",
              "      <td>MANAGER</td>\n",
              "    </tr>\n",
              "    <tr>\n",
              "      <th>3</th>\n",
              "      <td>JONES</td>\n",
              "      <td>MANAGER</td>\n",
              "    </tr>\n",
              "    <tr>\n",
              "      <th>9</th>\n",
              "      <td>FORD</td>\n",
              "      <td>ANALYST</td>\n",
              "    </tr>\n",
              "    <tr>\n",
              "      <th>11</th>\n",
              "      <td>SCOTT</td>\n",
              "      <td>ANALYST</td>\n",
              "    </tr>\n",
              "  </tbody>\n",
              "</table>\n",
              "</div>"
            ],
            "text/plain": [
              "    ename        job\n",
              "0    KING  PRESIDENT\n",
              "1   BLAKE    MANAGER\n",
              "2   CLARK    MANAGER\n",
              "3   JONES    MANAGER\n",
              "9    FORD    ANALYST\n",
              "11  SCOTT    ANALYST"
            ]
          },
          "metadata": {
            "tags": []
          },
          "execution_count": 219
        }
      ]
    },
    {
      "cell_type": "markdown",
      "metadata": {
        "id": "pmX22isVcFwo"
      },
      "source": [
        "**문제 84. 커미션이 null인 사원들의 이름과 커미션을 출력하시오**\n",
        "~~~\n",
        "select ename, comm\n",
        "  from emp\n",
        "  where comm is null;\n",
        "~~~"
      ]
    },
    {
      "cell_type": "code",
      "metadata": {
        "colab": {
          "base_uri": "https://localhost:8080/",
          "height": 359
        },
        "id": "jMb5i0O6cWdl",
        "outputId": "b26ffa3f-e8f0-4e10-c12e-88a7d7991e2e"
      },
      "source": [
        "emp[['ename','comm']] [ emp['comm'].isnull( ['CLERK', 'SALESMAN'])]"
      ],
      "execution_count": 220,
      "outputs": [
        {
          "output_type": "execute_result",
          "data": {
            "text/html": [
              "<div>\n",
              "<style scoped>\n",
              "    .dataframe tbody tr th:only-of-type {\n",
              "        vertical-align: middle;\n",
              "    }\n",
              "\n",
              "    .dataframe tbody tr th {\n",
              "        vertical-align: top;\n",
              "    }\n",
              "\n",
              "    .dataframe thead th {\n",
              "        text-align: right;\n",
              "    }\n",
              "</style>\n",
              "<table border=\"1\" class=\"dataframe\">\n",
              "  <thead>\n",
              "    <tr style=\"text-align: right;\">\n",
              "      <th></th>\n",
              "      <th>ename</th>\n",
              "      <th>comm</th>\n",
              "    </tr>\n",
              "  </thead>\n",
              "  <tbody>\n",
              "    <tr>\n",
              "      <th>0</th>\n",
              "      <td>KING</td>\n",
              "      <td>NaN</td>\n",
              "    </tr>\n",
              "    <tr>\n",
              "      <th>1</th>\n",
              "      <td>BLAKE</td>\n",
              "      <td>NaN</td>\n",
              "    </tr>\n",
              "    <tr>\n",
              "      <th>2</th>\n",
              "      <td>CLARK</td>\n",
              "      <td>NaN</td>\n",
              "    </tr>\n",
              "    <tr>\n",
              "      <th>3</th>\n",
              "      <td>JONES</td>\n",
              "      <td>NaN</td>\n",
              "    </tr>\n",
              "    <tr>\n",
              "      <th>7</th>\n",
              "      <td>JAMES</td>\n",
              "      <td>NaN</td>\n",
              "    </tr>\n",
              "    <tr>\n",
              "      <th>9</th>\n",
              "      <td>FORD</td>\n",
              "      <td>NaN</td>\n",
              "    </tr>\n",
              "    <tr>\n",
              "      <th>10</th>\n",
              "      <td>SMITH</td>\n",
              "      <td>NaN</td>\n",
              "    </tr>\n",
              "    <tr>\n",
              "      <th>11</th>\n",
              "      <td>SCOTT</td>\n",
              "      <td>NaN</td>\n",
              "    </tr>\n",
              "    <tr>\n",
              "      <th>12</th>\n",
              "      <td>ADAMS</td>\n",
              "      <td>NaN</td>\n",
              "    </tr>\n",
              "    <tr>\n",
              "      <th>13</th>\n",
              "      <td>MILLER</td>\n",
              "      <td>NaN</td>\n",
              "    </tr>\n",
              "  </tbody>\n",
              "</table>\n",
              "</div>"
            ],
            "text/plain": [
              "     ename  comm\n",
              "0     KING   NaN\n",
              "1    BLAKE   NaN\n",
              "2    CLARK   NaN\n",
              "3    JONES   NaN\n",
              "7    JAMES   NaN\n",
              "9     FORD   NaN\n",
              "10   SMITH   NaN\n",
              "11   SCOTT   NaN\n",
              "12   ADAMS   NaN\n",
              "13  MILLER   NaN"
            ]
          },
          "metadata": {
            "tags": []
          },
          "execution_count": 220
        }
      ]
    },
    {
      "cell_type": "markdown",
      "metadata": {
        "id": "8fcEkJLKcSsR"
      },
      "source": [
        "**문제 85. 커미션이 null이 아닌 사원들의 이름과 커미션을 출력하시오**\n",
        "~~~\n",
        "select ename, comm\n",
        "  from emp\n",
        "  where comm is not null;\n",
        "~~~"
      ]
    },
    {
      "cell_type": "code",
      "metadata": {
        "colab": {
          "base_uri": "https://localhost:8080/",
          "height": 173
        },
        "id": "KEvbGiKdc7Cf",
        "outputId": "b4d8ff79-49df-4530-8852-f157ccca8fdc"
      },
      "source": [
        "emp[['ename', 'comm']] [~emp['comm'].isnull()]"
      ],
      "execution_count": 222,
      "outputs": [
        {
          "output_type": "execute_result",
          "data": {
            "text/html": [
              "<div>\n",
              "<style scoped>\n",
              "    .dataframe tbody tr th:only-of-type {\n",
              "        vertical-align: middle;\n",
              "    }\n",
              "\n",
              "    .dataframe tbody tr th {\n",
              "        vertical-align: top;\n",
              "    }\n",
              "\n",
              "    .dataframe thead th {\n",
              "        text-align: right;\n",
              "    }\n",
              "</style>\n",
              "<table border=\"1\" class=\"dataframe\">\n",
              "  <thead>\n",
              "    <tr style=\"text-align: right;\">\n",
              "      <th></th>\n",
              "      <th>ename</th>\n",
              "      <th>comm</th>\n",
              "    </tr>\n",
              "  </thead>\n",
              "  <tbody>\n",
              "    <tr>\n",
              "      <th>4</th>\n",
              "      <td>MARTIN</td>\n",
              "      <td>1400.0</td>\n",
              "    </tr>\n",
              "    <tr>\n",
              "      <th>5</th>\n",
              "      <td>ALLEN</td>\n",
              "      <td>300.0</td>\n",
              "    </tr>\n",
              "    <tr>\n",
              "      <th>6</th>\n",
              "      <td>TURNER</td>\n",
              "      <td>0.0</td>\n",
              "    </tr>\n",
              "    <tr>\n",
              "      <th>8</th>\n",
              "      <td>WARD</td>\n",
              "      <td>500.0</td>\n",
              "    </tr>\n",
              "  </tbody>\n",
              "</table>\n",
              "</div>"
            ],
            "text/plain": [
              "    ename    comm\n",
              "4  MARTIN  1400.0\n",
              "5   ALLEN   300.0\n",
              "6  TURNER     0.0\n",
              "8    WARD   500.0"
            ]
          },
          "metadata": {
            "tags": []
          },
          "execution_count": 222
        }
      ]
    },
    {
      "cell_type": "markdown",
      "metadata": {
        "id": "is8_MGcIhGzJ"
      },
      "source": [
        "**문제 86. 통계를 파이썬으로 구현 3번, 6개의 제품이 들어있는 상자가 있는데 그 중에 2개가 불량품이라고 한다. 제품검사를 위해 3개를 추출했을 때 적어도 한개가 불량품일 확률은?**\n",
        "\n",
        "- 수학식으로 하지 말고 파이썬으로 아래와 같이 상자안에 제품 6개를 넣고 랜덤으로 추출해서 수행하시오\n",
        "- box=['정상', '정상', '불량', '정상', '불량','정상']\n",
        "- 사건 A의 여사건(나머지 사건)의 확률은?  ---> P(A<sup>c</sup>) = 1- P(A)\n",
        "- 불량품이 하나도 없을 사건의 확률을 구한 다음 1에서 빼면 가능\n",
        "- 비복원 추출로 하시오 (즉, 한번 추출한 제품은 다시 넣지 않는다)"
      ]
    },
    {
      "cell_type": "code",
      "metadata": {
        "colab": {
          "base_uri": "https://localhost:8080/"
        },
        "id": "cUpF48ZDhYSf",
        "outputId": "ddf9fa9c-cbb0-43ed-c71a-54e993c9099b"
      },
      "source": [
        "import random\n",
        "\n",
        "box=['정상', '정상', '불량', '정상', '불량','정상'] # 상자의 상태를 선언\n",
        "cnt = 0           # 모두 정상이 나올 횟수에 대한 초기값\n",
        "total_count = 0   # 공을 꺼내는 횟수에 대한 초기값\n",
        "\n",
        "for i in range(1, 1001):        # 뽑는 것에 대한 loop 상정\n",
        "  total_count += 1              # 뽑는 것에 대한 횟수\n",
        "  pick_1 = random.choice(box)   # 박스 1에 대한 랜덤 난수 생성\n",
        "  pick_2 = random.choice(box)   # 박스 2에 대한 랜덤 난수 생성\n",
        "  pick_3 = random.choice(box)   # 박스 3에 대한 랜덤 난수 생성\n",
        "  if pick_1 =='정상' and pick_2 =='정상' and pick_3=='정상':   # 모두 정상품을 뽑을 횟수\n",
        "    cnt += 1  # 모두 정상을 뽑을 횟수를 카운트\n",
        "\n",
        "print(1-cnt/total_count) # 여사건을 확률을 계산 (모두가 정상일 확률을 빼면 적어도 하나는 불량품이 나올 확률임)\n"
      ],
      "execution_count": 232,
      "outputs": [
        {
          "output_type": "stream",
          "text": [
            "0.731\n"
          ],
          "name": "stdout"
        }
      ]
    },
    {
      "cell_type": "code",
      "metadata": {
        "colab": {
          "base_uri": "https://localhost:8080/"
        },
        "id": "VuGR2cDAm0tv",
        "outputId": "2267ce0b-1122-4c9c-d5e7-b189bf856d8a"
      },
      "source": [
        "import random\n",
        "\n",
        "box=['정상', '정상', '불량', '정상', '불량','정상'] # 상자의 상태를 선언\n",
        "cnt = 0           # 모두 정상이 나올 횟수에 대한 초기값\n",
        "total_count = int(input('얼마나 뽑을까요?: '))\n",
        "\n",
        "for i in range(1, total_count+1):        # 뽑는 것에 대한 loop 상정\n",
        "  pick_1 = random.choice(box)   # 박스 1에 대한 랜덤 난수 생성\n",
        "  pick_2 = random.choice(box)   # 박스 2에 대한 랜덤 난수 생성\n",
        "  pick_3 = random.choice(box)   # 박스 3에 대한 랜덤 난수 생성\n",
        "  if pick_1 =='정상' and pick_2 =='정상' and pick_3=='정상':   # 모두 정상품을 뽑을 횟수\n",
        "    cnt += 1  # 모두 정상을 뽑을 횟수를 카운트\n",
        "\n",
        "print(1-(cnt/total_count)) # 여사건을 확률을 계산 (모두가 정상일 확률을 빼면 적어도 하나는 불량품이 나올 확률임)"
      ],
      "execution_count": 242,
      "outputs": [
        {
          "output_type": "stream",
          "text": [
            "얼마나 뽑을까요?: 1000\n",
            "0.698\n"
          ],
          "name": "stdout"
        }
      ]
    }
  ]
}