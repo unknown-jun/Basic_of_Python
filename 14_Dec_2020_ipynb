{
  "nbformat": 4,
  "nbformat_minor": 0,
  "metadata": {
    "colab": {
      "name": "14_Dec_2020.ipynb.ipynb",
      "provenance": [],
      "toc_visible": true,
      "authorship_tag": "ABX9TyN6BumVTYNF3Rc4FnSyhqgn",
      "include_colab_link": true
    },
    "kernelspec": {
      "name": "python3",
      "display_name": "Python 3"
    }
  },
  "cells": [
    {
      "cell_type": "markdown",
      "metadata": {
        "id": "view-in-github",
        "colab_type": "text"
      },
      "source": [
        "<a href=\"https://colab.research.google.com/github/unknown-jun/Basic_of_Python/blob/master/14_Dec_2020_ipynb.ipynb\" target=\"_parent\"><img src=\"https://colab.research.google.com/assets/colab-badge.svg\" alt=\"Open In Colab\"/></a>"
      ]
    },
    {
      "cell_type": "markdown",
      "metadata": {
        "id": "wzev6BxQwDZ5"
      },
      "source": [
        "#118. List 모든 요소의 합 구하기 (sum)\n",
        "- 파이썬 내장 함수 sum()을 이용해 list의 모든 요소의 합을 출력"
      ]
    },
    {
      "cell_type": "code",
      "metadata": {
        "colab": {
          "base_uri": "https://localhost:8080/"
        },
        "id": "zg1Jgh5dtOp6",
        "outputId": "c99ff585-2ba3-4dfb-f035-e691990b5f10"
      },
      "source": [
        "# 예제\n",
        "listdata = [2, 2, 1, 3, 8, 4, 3, 9, 2, 20]\n",
        "result = sum(listdata)\n",
        "result"
      ],
      "execution_count": 1,
      "outputs": [
        {
          "output_type": "execute_result",
          "data": {
            "text/plain": [
              "54"
            ]
          },
          "metadata": {
            "tags": []
          },
          "execution_count": 1
        }
      ]
    },
    {
      "cell_type": "markdown",
      "metadata": {
        "id": "ZMfrfox8wXGp"
      },
      "source": [
        "**문제 351. 아래의 리스트의 짝수 번째 요소의 합을 출력하시오**"
      ]
    },
    {
      "cell_type": "code",
      "metadata": {
        "colab": {
          "base_uri": "https://localhost:8080/"
        },
        "id": "ikhjYK0mwVOy",
        "outputId": "51e9380c-e043-473c-941f-08b54da144c1"
      },
      "source": [
        "listdata = [2, 2, 1, 3, 8, 4, 3, 9, 2, 20]\n",
        "\n",
        "result = listdata[1::2]\n",
        "print( sum(result) )"
      ],
      "execution_count": 6,
      "outputs": [
        {
          "output_type": "stream",
          "text": [
            "38\n"
          ],
          "name": "stdout"
        }
      ]
    },
    {
      "cell_type": "markdown",
      "metadata": {
        "id": "PW5eBKH0xOXZ"
      },
      "source": [
        "**문제 352. (알고리즘 문제) 아래의 리스트에서 1부터 10까지의 숫자중에 없는 숫자가 하나 있다. 그 없는 숫자는 무엇인가?**\n",
        "~~~\n",
        "a = [2,1,5,4,6,7,9,10,3]\n",
        "~~~"
      ]
    },
    {
      "cell_type": "code",
      "metadata": {
        "colab": {
          "base_uri": "https://localhost:8080/"
        },
        "id": "FHEvOJlQxZXn",
        "outputId": "06978e58-0b3c-4a08-f145-0812bba528c0"
      },
      "source": [
        "a = [2,1,5,4,6,7,9,10,3]\n",
        "result = sum( range(1, 11) ) - sum( a )\n",
        "print( result )"
      ],
      "execution_count": 9,
      "outputs": [
        {
          "output_type": "stream",
          "text": [
            "8\n"
          ],
          "name": "stdout"
        }
      ]
    },
    {
      "cell_type": "markdown",
      "metadata": {
        "id": "UKpmgmu5yAaC"
      },
      "source": [
        "#119. List 요소가 모두 참인지 확인하기(all, any)\n",
        "- 리스트의 모든 요소가 참인지 또는 모든 요소가 거짓인지 판단해야 하는 경우, 파이썬 내장함수 all()이나 any()를 사용하면 가능\n",
        "- all()은 인자로 입력되는 리스트의 모든 요소가 참인 경우에만 True를 리턴하고 거짓이 하나라도 포함되어져 있으면 False를 리턴함\n",
        "- 이와는 달리 any()는 인자로 입력되는 리스트의 모든 요소가 거짓인 경우에만 False를 리턴하고 참이 하나라도 존재하면 True를 리턴함"
      ]
    },
    {
      "cell_type": "code",
      "metadata": {
        "colab": {
          "base_uri": "https://localhost:8080/"
        },
        "id": "Rpx1zkHqyGO9",
        "outputId": "b304ce57-0675-495a-f8b7-1ab30f4ca560"
      },
      "source": [
        "listdata1 = [ True, True, True ]\n",
        "listdata2 = [ True, False, True ]\n",
        "\n",
        "print( all(listdata1) )\n",
        "print( all(listdata2), '\\n' )\n",
        "\n",
        "print( any(listdata1) )\n",
        "print( any(listdata1) )"
      ],
      "execution_count": 12,
      "outputs": [
        {
          "output_type": "stream",
          "text": [
            "True\n",
            "False \n",
            "\n",
            "True\n",
            "True\n"
          ],
          "name": "stdout"
        }
      ]
    },
    {
      "cell_type": "code",
      "metadata": {
        "colab": {
          "base_uri": "https://localhost:8080/"
        },
        "id": "v4G7-8UPzK5F",
        "outputId": "467cd4ea-4a79-4e4a-de75-fc6e001de618"
      },
      "source": [
        "# 예제1. \n",
        "\n",
        "listdata1 = [ 1, 1, 1 ] # True는 숫자로는 1이고\n",
        "listdata2 = [ 1, 0, 1 ] # Flase는 숫자로는 0임\n",
        "\n",
        "print( all(listdata1) )\n",
        "print( all(listdata2), '\\n' )\n",
        "\n",
        "print( any(listdata1) )\n",
        "print( any(listdata1) )"
      ],
      "execution_count": 13,
      "outputs": [
        {
          "output_type": "stream",
          "text": [
            "True\n",
            "False \n",
            "\n",
            "True\n",
            "True\n"
          ],
          "name": "stdout"
        }
      ]
    },
    {
      "cell_type": "markdown",
      "metadata": {
        "id": "1zX_yilRzq0m"
      },
      "source": [
        "**문제 353. while loop문을 이용하여 무한 루프문을 수행하시오**"
      ]
    },
    {
      "cell_type": "code",
      "metadata": {
        "id": "y_IwLcoMzymt"
      },
      "source": [
        "while True:\n",
        "    print('aa')"
      ],
      "execution_count": null,
      "outputs": []
    },
    {
      "cell_type": "markdown",
      "metadata": {
        "id": "mnrvmVB-0HPy"
      },
      "source": [
        "**문제 354. 위의 True 대신에 숫자 1을 넣고 무한 루프문을 수행하시오**"
      ]
    },
    {
      "cell_type": "code",
      "metadata": {
        "id": "Q3Rs0H-Y0PI6"
      },
      "source": [
        "while 1:        # 1도 True기 때문에 무한 루프가 가능\n",
        "    print('aa')"
      ],
      "execution_count": null,
      "outputs": []
    },
    {
      "cell_type": "markdown",
      "metadata": {
        "id": "Q2GMkv3C01KG"
      },
      "source": [
        "#120. Dictionary에 요소 추가하기\n",
        "- 사전형은 키:값으로 되어진 요소로 구성\n",
        "- 사전형은 리스트형처럼 인덱스번호로 요소로 접근할 수 없고 키값으로 요소의 값에 접근할 수 있음\n",
        "- \n",
        "~~~\n",
        "파이썬 큰 목차: 1. 문자형과 문자열 함수들  \n",
        "               2. 숫자형과 숫자형 함수들    + if 와 loop\n",
        "               3. 리스트형과 리스트형 함수들 + 모듈과 class\n",
        "               4. 사전형과 사전형 함수들    + 예외처리\n",
        "               + 판다스 사용법, 웹스크롤링\n",
        "~~~\n"
      ]
    },
    {
      "cell_type": "code",
      "metadata": {
        "colab": {
          "base_uri": "https://localhost:8080/"
        },
        "id": "h7Iqk2tN1q5K",
        "outputId": "a545fff2-9dfb-4a9b-bcd5-41cb221b0c62"
      },
      "source": [
        "# 예제:\n",
        "sol = {}  # 중괄호로 dictionary를 표현함\n",
        "sol['태양'] = 'Sun'\n",
        "print(sol)\n",
        "sol['수성'] = 'Mercury'\n",
        "sol['금성'] = 'Venus'\n",
        "print( sol )"
      ],
      "execution_count": 18,
      "outputs": [
        {
          "output_type": "stream",
          "text": [
            "{'태양': 'Sun'}\n",
            "{'태양': 'Sun', '수성': 'Mercury', '금성': 'Venus'}\n"
          ],
          "name": "stdout"
        }
      ]
    },
    {
      "cell_type": "markdown",
      "metadata": {
        "id": "U2hHHQTQ2aHP"
      },
      "source": [
        "**문제 355. 아래 2개의 리스트를 가지고 sol 딕셔너리를 생성하시오**\n",
        "~~~\n",
        "sol_eng = ['Sun', 'Mercury', 'Venus', 'Earth', 'Mars']\n",
        "sol_kor = ['태양', '수성', '금성', '지구', '화성']\n",
        "답:\n",
        "{'금성': 'Venus', '수성': 'Mercury', '지구': 'Earth', '태양': 'Sun', '화성': 'Mars'}\n",
        "~~~"
      ]
    },
    {
      "cell_type": "code",
      "metadata": {
        "colab": {
          "base_uri": "https://localhost:8080/"
        },
        "id": "yvybU0CV2wY1",
        "outputId": "d1c98def-361a-4ec6-aab8-3fb2edeae004"
      },
      "source": [
        "sol_eng = ['Sun', 'Mercury', 'Venus', 'Earth', 'Mars']\n",
        "sol_kor = ['태양', '수성', '금성', '지구', '화성']\n",
        "\n",
        "sol={}\n",
        "for i, k in zip(sol_kor,sol_eng):\n",
        "    sol[i] = k\n",
        "\n",
        "sol"
      ],
      "execution_count": 23,
      "outputs": [
        {
          "output_type": "execute_result",
          "data": {
            "text/plain": [
              "{'금성': 'Venus', '수성': 'Mercury', '지구': 'Earth', '태양': 'Sun', '화성': 'Mars'}"
            ]
          },
          "metadata": {
            "tags": []
          },
          "execution_count": 23
        }
      ]
    },
    {
      "cell_type": "markdown",
      "metadata": {
        "id": "KjVPmGJP7Ny3"
      },
      "source": [
        "#121. Dictionary의 특정 요소값 변경하기\n"
      ]
    },
    {
      "cell_type": "code",
      "metadata": {
        "colab": {
          "base_uri": "https://localhost:8080/"
        },
        "id": "LeeJdJAE7NXl",
        "outputId": "63c52450-dfd5-4260-a0bb-5795c3e2b739"
      },
      "source": [
        "\"\"\"\n",
        "dictionary 자료형의 특정 요소값을 변경하는 방법\n",
        "사전형 이름['키값'] = '값'\n",
        "\"\"\"\n",
        "sol['태양']='moon'\n",
        "print( sol )"
      ],
      "execution_count": 24,
      "outputs": [
        {
          "output_type": "stream",
          "text": [
            "{'태양': 'moon', '수성': 'Mercury', '금성': 'Venus', '지구': 'Earth', '화성': 'Mars'}\n"
          ],
          "name": "stdout"
        }
      ]
    },
    {
      "cell_type": "markdown",
      "metadata": {
        "id": "y9HbUgIU7oon"
      },
      "source": [
        "**문제 356. 아래의 딕셔너리의 값중에 Fire를 피 땀 눈물로 변경하시오**"
      ]
    },
    {
      "cell_type": "code",
      "metadata": {
        "colab": {
          "base_uri": "https://localhost:8080/"
        },
        "id": "km4WTEUM7viK",
        "outputId": "2c69ed98-4277-4704-9c99-3d390ec8d3b9"
      },
      "source": [
        "dict = {'방탄소년단':'Fire', '소녀시대':'Gee'}\n",
        "dict['방탄소년단'] = '피 땀 눈물'\n",
        "print( dict )"
      ],
      "execution_count": 25,
      "outputs": [
        {
          "output_type": "stream",
          "text": [
            "{'방탄소년단': '피 땀 눈물', '소녀시대': 'Gee'}\n"
          ],
          "name": "stdout"
        }
      ]
    },
    {
      "cell_type": "markdown",
      "metadata": {
        "id": "K2DII1HG8HKR"
      },
      "source": [
        "**문제 357. 아래의 dictionary의 값중에서 Fire를 피 땀 눈물로 변경하시오**\n",
        "~~~\n",
        "dict = {'소녀시대':['다시 만난 세계', 'Gee'],\n",
        "        '방탄소년단':['DNA', 'Fire'] }\n",
        "~~~"
      ]
    },
    {
      "cell_type": "code",
      "metadata": {
        "colab": {
          "base_uri": "https://localhost:8080/"
        },
        "id": "j4famvx78Ghy",
        "outputId": "1fe91c1a-cf2b-49c3-c0b3-06173cd4fc9f"
      },
      "source": [
        "dict = {'소녀시대':['다시 만난 세계', 'Gee'],\n",
        "        '방탄소년단':['DNA', 'Fire'] }\n",
        "dict['방탄소년단'][1]='피 땀 눈물'\n",
        "dict"
      ],
      "execution_count": 28,
      "outputs": [
        {
          "output_type": "execute_result",
          "data": {
            "text/plain": [
              "{'방탄소년단': ['DNA', '피 땀 눈물'], '소녀시대': ['다시 만난 세계', 'Gee']}"
            ]
          },
          "metadata": {
            "tags": []
          },
          "execution_count": 28
        }
      ]
    },
    {
      "cell_type": "markdown",
      "metadata": {
        "id": "cmvzqxVX9ViZ"
      },
      "source": [
        "#122. Dictionary의 특정 요소 제거하기(del)"
      ]
    },
    {
      "cell_type": "code",
      "metadata": {
        "colab": {
          "base_uri": "https://localhost:8080/"
        },
        "id": "vtUADzgn8yA-",
        "outputId": "6198b8d1-e8c4-40b6-d717-f96f132cc068"
      },
      "source": [
        "# dictionary에서 특정요소 key:value를 제거하는 방법\n",
        "sol ={'금성': 'Venus', '수성': 'Mercury', '지구': 'Earth', '태양': 'Sun', '화성': 'Mars'}\n",
        "del sol['태양']\n",
        "print(sol)"
      ],
      "execution_count": 30,
      "outputs": [
        {
          "output_type": "stream",
          "text": [
            "{'금성': 'Venus', '수성': 'Mercury', '지구': 'Earth', '화성': 'Mars'}\n"
          ],
          "name": "stdout"
        }
      ]
    },
    {
      "cell_type": "markdown",
      "metadata": {
        "id": "G2RY8b6S-G-C"
      },
      "source": [
        "**문제 358. 아래의 dictionary에서 다시 만난 세계의 값만 지우시오**\n",
        "~~~\n",
        "dict = {'방탄소년단': ['DNA', '피 땀 눈물'], '소녀시대': ['다시 만난 세계', 'Gee']}\n",
        "~~~\n"
      ]
    },
    {
      "cell_type": "code",
      "metadata": {
        "colab": {
          "base_uri": "https://localhost:8080/"
        },
        "id": "u_Y5rT6X-T9i",
        "outputId": "bbaec218-3f19-4bab-9431-b7bedf841637"
      },
      "source": [
        "dict = {'방탄소년단': ['DNA', '피 땀 눈물'], '소녀시대': ['다시 만난 세계', 'Gee']}\n",
        "\n",
        "del dict['소녀시대'][0]\n",
        "dict"
      ],
      "execution_count": 34,
      "outputs": [
        {
          "output_type": "execute_result",
          "data": {
            "text/plain": [
              "{'방탄소년단': ['DNA', '피 땀 눈물'], '소녀시대': ['Gee']}"
            ]
          },
          "metadata": {
            "tags": []
          },
          "execution_count": 34
        }
      ]
    },
    {
      "cell_type": "markdown",
      "metadata": {
        "id": "kLq8CLQq-zwP"
      },
      "source": [
        "#123. Dictionary의 모든 요소 제거하기(clear)\n",
        "- Dictionary의 모든 요소를 제거하여 빈 dictionary으로 만드는 방법은 dictionary 객체의 clear() 메소드를 사용하면 가능"
      ]
    },
    {
      "cell_type": "code",
      "metadata": {
        "colab": {
          "base_uri": "https://localhost:8080/"
        },
        "id": "kmc-qfwN_KF-",
        "outputId": "60f94944-0f47-4b81-e5d6-94ce0449243e"
      },
      "source": [
        "dict = {'방탄소년단': ['DNA', '피 땀 눈물'], '소녀시대': ['다시 만난 세계', 'Gee']}\n",
        "dict.clear()\n",
        "print( dict )"
      ],
      "execution_count": 35,
      "outputs": [
        {
          "output_type": "stream",
          "text": [
            "{}\n"
          ],
          "name": "stdout"
        }
      ]
    },
    {
      "cell_type": "markdown",
      "metadata": {
        "id": "5HHP2DE3_Qwh"
      },
      "source": [
        "**359. 위와 같이 dictionary의 요소를 지우는 게 아니라 dictionary 자체를 메모리에서 지우려면 어떻게 해야 하는가?**"
      ]
    },
    {
      "cell_type": "code",
      "metadata": {
        "colab": {
          "base_uri": "https://localhost:8080/",
          "height": 198
        },
        "id": "e3qR5SJc_b5r",
        "outputId": "e79daa3a-7a61-4ee0-e830-9abbe975e937"
      },
      "source": [
        "dict2 = {'방탄소년단': ['DNA', '피 땀 눈물'], '소녀시대': ['다시 만난 세계', 'Gee']}\n",
        "del dict2\n",
        "print( dict2 )"
      ],
      "execution_count": 39,
      "outputs": [
        {
          "output_type": "error",
          "ename": "NameError",
          "evalue": "ignored",
          "traceback": [
            "\u001b[0;31m---------------------------------------------------------------------------\u001b[0m",
            "\u001b[0;31mNameError\u001b[0m                                 Traceback (most recent call last)",
            "\u001b[0;32m<ipython-input-39-2bf42f2e988d>\u001b[0m in \u001b[0;36m<module>\u001b[0;34m()\u001b[0m\n\u001b[1;32m      1\u001b[0m \u001b[0mdict2\u001b[0m \u001b[0;34m=\u001b[0m \u001b[0;34m{\u001b[0m\u001b[0;34m'방탄소년단'\u001b[0m\u001b[0;34m:\u001b[0m \u001b[0;34m[\u001b[0m\u001b[0;34m'DNA'\u001b[0m\u001b[0;34m,\u001b[0m \u001b[0;34m'피 땀 눈물'\u001b[0m\u001b[0;34m]\u001b[0m\u001b[0;34m,\u001b[0m \u001b[0;34m'소녀시대'\u001b[0m\u001b[0;34m:\u001b[0m \u001b[0;34m[\u001b[0m\u001b[0;34m'다시 만난 세계'\u001b[0m\u001b[0;34m,\u001b[0m \u001b[0;34m'Gee'\u001b[0m\u001b[0;34m]\u001b[0m\u001b[0;34m}\u001b[0m\u001b[0;34m\u001b[0m\u001b[0;34m\u001b[0m\u001b[0m\n\u001b[1;32m      2\u001b[0m \u001b[0;32mdel\u001b[0m \u001b[0mdict2\u001b[0m\u001b[0;34m\u001b[0m\u001b[0;34m\u001b[0m\u001b[0m\n\u001b[0;32m----> 3\u001b[0;31m \u001b[0mprint\u001b[0m\u001b[0;34m(\u001b[0m \u001b[0mdict2\u001b[0m \u001b[0;34m)\u001b[0m\u001b[0;34m\u001b[0m\u001b[0;34m\u001b[0m\u001b[0m\n\u001b[0m",
            "\u001b[0;31mNameError\u001b[0m: name 'dict2' is not defined"
          ]
        }
      ]
    },
    {
      "cell_type": "markdown",
      "metadata": {
        "id": "0lvP26-2_3E_"
      },
      "source": [
        "# Dictionary에서 키만 추출하기 (keys)\n",
        "- 아래의 dictionary에서 key만 추출하고 싶으면 dictionary이름.keys()"
      ]
    },
    {
      "cell_type": "code",
      "metadata": {
        "colab": {
          "base_uri": "https://localhost:8080/"
        },
        "id": "ydwPjG9fAFwo",
        "outputId": "2a6f16fc-02d9-46e6-f644-10d88d149e84"
      },
      "source": [
        "sol = {'금성': 'Venus', '수성': 'Mercury', '지구': 'Earth', '태양': 'Sun', '화성': 'Mars'}\n",
        "print( sol.keys() )"
      ],
      "execution_count": 40,
      "outputs": [
        {
          "output_type": "stream",
          "text": [
            "dict_keys(['금성', '수성', '지구', '태양', '화성'])\n"
          ],
          "name": "stdout"
        }
      ]
    },
    {
      "cell_type": "markdown",
      "metadata": {
        "id": "qLBCEavmAPyz"
      },
      "source": [
        "**문제 360. 위의 sol dictionary에 있는 key를 추출하여 아래와 같은 결과를 출력하시오**  \n",
        "결과: 태양, 수성, 금성, 지구, 화성"
      ]
    },
    {
      "cell_type": "code",
      "metadata": {
        "colab": {
          "base_uri": "https://localhost:8080/"
        },
        "id": "yPOHABlZAaBP",
        "outputId": "a72c8ef1-522d-4ea0-b06c-ec8f71f7792d"
      },
      "source": [
        "sol = {'금성': 'Venus', '수성': 'Mercury', '지구': 'Earth', '태양': 'Sun', '화성': 'Mars'}\n",
        "a = []\n",
        "for i in sol.keys():\n",
        "    a.append(i)\n",
        "\n",
        "bond=(', ')\n",
        "result = bond.join(a)\n",
        "print(result, '\\n')\n",
        "\n",
        "# 다른 방법\n",
        "sol = {'금성': 'Venus', '수성': 'Mercury', '지구': 'Earth', '태양': 'Sun', '화성': 'Mars'}\n",
        "\n",
        "for i in sol.keys():\n",
        "    print(i, end=', ')  # print의 end 옵션에 준 구분자로 값들을 가로로 출력하면서 구분자로 구분해 줌"
      ],
      "execution_count": 44,
      "outputs": [
        {
          "output_type": "stream",
          "text": [
            "금성, 수성, 지구, 태양, 화성 \n",
            "\n",
            "금성, 수성, 지구, 태양, 화성, "
          ],
          "name": "stdout"
        }
      ]
    },
    {
      "cell_type": "markdown",
      "metadata": {
        "id": "hKpHDb0SBr2y"
      },
      "source": [
        "**문제 361. 위의 결과에서 맨 끝에 있는 콤마(,)는 출력되지 않게 하시오**  \n",
        "금성, 수성, 지구, 태양, 화성 "
      ]
    },
    {
      "cell_type": "code",
      "metadata": {
        "colab": {
          "base_uri": "https://localhost:8080/"
        },
        "id": "3JSP213VB2Ek",
        "outputId": "83e47733-1272-4c16-8c26-77a565780eea"
      },
      "source": [
        "sol = {'금성': 'Venus', '수성': 'Mercury', '지구': 'Earth', '태양': 'Sun', '화성': 'Mars'}\n",
        "sol = list(sol)\n",
        "for i in sol[:-1]:\n",
        "    print(i, end=', ') "
      ],
      "execution_count": 93,
      "outputs": [
        {
          "output_type": "stream",
          "text": [
            "금성, 화성수성, 화성지구, 화성태양, 화성"
          ],
          "name": "stdout"
        }
      ]
    },
    {
      "cell_type": "markdown",
      "metadata": {
        "id": "r9cvmOxXDMSM"
      },
      "source": [
        "# 125. Dictionary에서 값만 추출하기 ( values() ) \n",
        "- 아래의 dictionary형에서 값에 해당하는 부분만 추출하려면 dictionary이름.values()"
      ]
    },
    {
      "cell_type": "code",
      "metadata": {
        "colab": {
          "base_uri": "https://localhost:8080/"
        },
        "id": "gJ1XT9YoDeoH",
        "outputId": "ec21af7c-11f0-496c-cc7d-9dd834aa89d8"
      },
      "source": [
        "sol = {'금성': 'Venus', '수성': 'Mercury', '지구': 'Earth', '태양': 'Sun', '화성': 'Mars'}\n",
        "print( sol.values() )"
      ],
      "execution_count": 56,
      "outputs": [
        {
          "output_type": "stream",
          "text": [
            "dict_values(['Venus', 'Mercury', 'Earth', 'Sun', 'Mars'])\n"
          ],
          "name": "stdout"
        }
      ]
    },
    {
      "cell_type": "markdown",
      "metadata": {
        "id": "Hcl65I3eDkoJ"
      },
      "source": [
        "**문제 362. 아래의 sol dictionary에서 값들만 아래와 같이 출력하시오**  \n",
        "sol = {'금성': 'Venus', '수성': 'Mercury', '지구': 'Earth', '태양': 'Sun', '화성': 'Mars'}  \n",
        "결과: Venus, Mercury,Earth,Sun,Mars"
      ]
    },
    {
      "cell_type": "code",
      "metadata": {
        "colab": {
          "base_uri": "https://localhost:8080/"
        },
        "id": "sVZ3e4XjDjV5",
        "outputId": "d8f6bb78-f050-44bb-d11d-fa48ed27cc9e"
      },
      "source": [
        "sol = {'금성': 'Venus', '수성': 'Mercury', '지구': 'Earth', '태양': 'Sun', '화성': 'Mars'}\n",
        "for i in sol.values():\n",
        "    print(i, end=', ')"
      ],
      "execution_count": 59,
      "outputs": [
        {
          "output_type": "stream",
          "text": [
            "Venus, Mercury, Earth, Sun, Mars, "
          ],
          "name": "stdout"
        }
      ]
    },
    {
      "cell_type": "markdown",
      "metadata": {
        "id": "TLYyzM5pEh2Z"
      },
      "source": [
        "**문제 363. 아래의 gini Dictionary에서 값만 추출하시오**  \n",
        "gini = {'비틀즈': ['yesterday', 'imagine'], '아이유': ['너랑나', '마슈멜로우'], '마이클 잭슨': ['beat it', 'smooth criminal']}  \n",
        "결과:  \n",
        "['yesterday', 'imagine']  \n",
        "['너랑나', '마슈멜로우']  \n",
        "['beat it', 'smooth criminal']"
      ]
    },
    {
      "cell_type": "code",
      "metadata": {
        "colab": {
          "base_uri": "https://localhost:8080/"
        },
        "id": "lSyA6zXdEhK_",
        "outputId": "16b8e222-17d4-4d6e-b13b-e5618b169466"
      },
      "source": [
        "gini = {'비틀즈': ['yesterday', 'imagine'], '아이유': ['너랑나', '마슈멜로우'], '마이클 잭슨': ['beat it', 'smooth criminal']}\n",
        "for i in gini.values():\n",
        "    print(i)"
      ],
      "execution_count": 60,
      "outputs": [
        {
          "output_type": "stream",
          "text": [
            "['yesterday', 'imagine']\n",
            "['너랑나', '마슈멜로우']\n",
            "['beat it', 'smooth criminal']\n"
          ],
          "name": "stdout"
        }
      ]
    },
    {
      "cell_type": "markdown",
      "metadata": {
        "id": "GmncUcBwE3X6"
      },
      "source": [
        "**문제 364. 위의 결과를 다시 출력하는데 결과 리스트 3개중에 0번째 요소만 출력하시오**  \n",
        "'yesterday'  \n",
        "'너랑나'  \n",
        "'beat it'"
      ]
    },
    {
      "cell_type": "code",
      "metadata": {
        "colab": {
          "base_uri": "https://localhost:8080/"
        },
        "id": "UnMd_TiZFKvz",
        "outputId": "ebdbc14a-ee0d-4a5e-a61a-9730392529cb"
      },
      "source": [
        "gini = {'비틀즈': ['yesterday', 'imagine'], '아이유': ['너랑나', '마슈멜로우'], \n",
        "        '마이클 잭슨': ['beat it', 'smooth criminal']}\n",
        "\n",
        "for i in gini.values():\n",
        "    print(i[0])"
      ],
      "execution_count": 92,
      "outputs": [
        {
          "output_type": "stream",
          "text": [
            "yesterday\n",
            "너랑나\n",
            "beat it\n"
          ],
          "name": "stdout"
        }
      ]
    },
    {
      "cell_type": "markdown",
      "metadata": {
        "id": "y5-qCf0wJ5ZA"
      },
      "source": [
        "**문제 365. 지난주 목요일 자신의 답을 가져와서 gini Dictionary에서 음악만 출력하는데 아티스트별로 노래가 겹쳐지 않게 출력하시오**"
      ]
    },
    {
      "cell_type": "code",
      "metadata": {
        "colab": {
          "base_uri": "https://localhost:8080/"
        },
        "id": "4SbvFRlxKIyZ",
        "outputId": "dc399eef-174c-4843-d2d3-769f88d00a67"
      },
      "source": [
        "from collections import defaultdict\n",
        " \n",
        "music = ['yesterday', 'imagine', '너랑나', '마쉬멜로우', 'beat it', 'smooth criminal']\n",
        "artist = ['비틀즈', '비틀즈', '아이유', '아이유', '마이클 잭슨', '마이클 잭슨']\n",
        "gini = defaultdict(list)\n",
        "\n",
        "a = []\n",
        "\n",
        "for i, k in enumerate(artist):\n",
        "    gini[k].append(music[i])\n",
        "for i in gini.values():\n",
        "        for k in i:\n",
        "             a.append(k)\n",
        "\n",
        "print(a[0]+', '+a[2]+', '+a[4]+', '+a[1]+', '+a[3]+', '+a[5])"
      ],
      "execution_count": 95,
      "outputs": [
        {
          "output_type": "stream",
          "text": [
            "yesterday, 너랑나, beat it, imagine, 마쉬멜로우, smooth criminal\n"
          ],
          "name": "stdout"
        }
      ]
    },
    {
      "cell_type": "markdown",
      "metadata": {
        "id": "heBE-DiyMAcd"
      },
      "source": [
        "**문제 366. 아래의 gini dictionary의 값들을 리스트로 만드시오**  \n",
        "['yesterday', 'imagine']  \n",
        "['너랑나,' 마쉬멜로우' ]  \n",
        "['beat it', 'smooth criminal']"
      ]
    },
    {
      "cell_type": "code",
      "metadata": {
        "colab": {
          "base_uri": "https://localhost:8080/"
        },
        "id": "iZ8-ax4yMQll",
        "outputId": "4543e5b7-f086-4e08-92ce-7ad1f4cb6e05"
      },
      "source": [
        "gini = {'비틀즈': ['yesterday', 'imagine'], '아이유': ['너랑나', '마슈멜로우'], \n",
        "        '마이클 잭슨': ['beat it', 'smooth criminal']}\n",
        "\n",
        "gini2 = list(gini.values() ) # 리스트형으로 변환\n",
        "print( gini2 )"
      ],
      "execution_count": 100,
      "outputs": [
        {
          "output_type": "stream",
          "text": [
            "[['yesterday', 'imagine'], ['너랑나', '마슈멜로우'], ['beat it', 'smooth criminal']]\n"
          ],
          "name": "stdout"
        }
      ]
    },
    {
      "cell_type": "markdown",
      "metadata": {
        "id": "YSQL0Pj_NaHx"
      },
      "source": [
        "**문제 368. 위에서 출력된 gini2리스트의 요소들을 shuffle로 섞어보시오**"
      ]
    },
    {
      "cell_type": "code",
      "metadata": {
        "colab": {
          "base_uri": "https://localhost:8080/"
        },
        "id": "bwA6JIPNNfpt",
        "outputId": "5dbc02de-828b-45b4-dc2f-4fe8dea1ce78"
      },
      "source": [
        "from random import shuffle\n",
        "\n",
        "gini = {'비틀즈': ['yesterday', 'imagine'], '아이유': ['너랑나', '마슈멜로우'], \n",
        "        '마이클 잭슨': ['beat it', 'smooth criminal']}\n",
        "\n",
        "gini2 = list(gini.values() ) # 리스트형으로 변환\n",
        "shuffle(gini2)\n",
        "print( gini2 )"
      ],
      "execution_count": 106,
      "outputs": [
        {
          "output_type": "stream",
          "text": [
            "[['beat it', 'smooth criminal'], ['yesterday', 'imagine'], ['너랑나', '마슈멜로우']]\n"
          ],
          "name": "stdout"
        }
      ]
    },
    {
      "cell_type": "markdown",
      "metadata": {
        "id": "IycThiBILXWs"
      },
      "source": [
        "**문제 369. 리스트의 요소를 섞는 shuffle 모듈을 사용해서 코드를 수행할 때 마다 곡이 무작위로 섞여서 출력되게 하시오**  \n",
        "(단, 아티스트 별로 노래가 겹치면 안됨)"
      ]
    },
    {
      "cell_type": "code",
      "metadata": {
        "colab": {
          "base_uri": "https://localhost:8080/"
        },
        "id": "l_fT6pNhL7Qd",
        "outputId": "26b44631-d058-4546-8fec-5913270d7b65"
      },
      "source": [
        "from random import shuffle\n",
        "from collections import defaultdict\n",
        "\n",
        "music = ['yesterday', 'imagine', '너랑나', '마쉬멜로우', 'beat it', 'smooth criminal']\n",
        "artist = ['비틀즈', '비틀즈', '아이유', '아이유', '마이클 잭슨', '마이클 잭슨']\n",
        "\n",
        "\n",
        "gini = defaultdict(list)\n",
        "for i, k in enumerate(artist):\n",
        "    gini[k].append(music[i])\n",
        "\"\"\"\n",
        "enumerate와 for loop를 이용하여 두 리스트를 dictionary 형태로 변환함\n",
        "defaultdict을 이용하여 값의 리스트를 표현 가능케 함\n",
        "(value에 들어가는 music이 다수이기 때문)\n",
        "\"\"\"\n",
        "\n",
        "gini2 = list(gini.values())\n",
        "shuffle( gini2 )\n",
        "\"\"\"\n",
        "앞에서 만든 gini의 value 들을 기준으로 새로운 리스트를 만듬\n",
        "그리고 그것을 shuffle 함수를 이용하여 섞음\n",
        "이 때 gini.value가 다수의 값이기에 리스트가 만들어짐\n",
        "다시말해 리스트에 리스트가 섞여져 나와있으며 셔플하는 객체는 리스트 안의 리스트가 \n",
        "통채로 섞이는 것이다.\n",
        "\"\"\"\n",
        "\n",
        "play_list=[]\n",
        "for i in gini2:\n",
        "    play_list.append(i[0])\n",
        "for i in gini2:\n",
        "    play_list.append(i[1])\n",
        "\"\"\"\n",
        "새로운 play_list라는 빈 리스트를 만들고\n",
        "gini2에 있는 원소를 하나씩 추가한다.\n",
        "이때 각 리스트에 0번째를 먼저 뽑고, 그 후에 1번째를 뽑는다.\n",
        "이미 셔플이 되어있기 때문에 무작위로 결과값이 나온다.\n",
        "\"\"\"\n",
        "\n",
        "\n",
        "print( play_list )"
      ],
      "execution_count": 150,
      "outputs": [
        {
          "output_type": "stream",
          "text": [
            "['너랑나', 'beat it', 'yesterday', '마쉬멜로우', 'smooth criminal', 'imagine']\n"
          ],
          "name": "stdout"
        }
      ]
    },
    {
      "cell_type": "markdown",
      "metadata": {
        "id": "4gT5huUGkjLz"
      },
      "source": [
        "#126. Dictionary 요소 모두 추출하기(items)\n",
        "- dictionary를 추출하는 방법\n",
        "    1. key만 추출  : dict1.keys()\n",
        "    2. value만 추출: dict1.vlaues()\n",
        "    3. 모두 추출    : dict1.items()"
      ]
    },
    {
      "cell_type": "code",
      "metadata": {
        "colab": {
          "base_uri": "https://localhost:8080/"
        },
        "id": "7CeTw37Tk-Na",
        "outputId": "eff177c8-456b-4fd4-c50b-4ddc83037376"
      },
      "source": [
        "# 예제:\n",
        "gini = {'비틀즈': ['yesterday', 'imagine'], '아이유': ['너랑나', '마슈멜로우'], \n",
        "        '마이클 잭슨': ['beat it', 'smooth criminal']}\n",
        "\n",
        "print( gini.keys )\n",
        "print( gini.values )\n",
        "print( gini.items )"
      ],
      "execution_count": 152,
      "outputs": [
        {
          "output_type": "stream",
          "text": [
            "<built-in method keys of dict object at 0x7f160e718480>\n",
            "<built-in method values of dict object at 0x7f160e718480>\n",
            "<built-in method items of dict object at 0x7f160e718480>\n"
          ],
          "name": "stdout"
        }
      ]
    },
    {
      "cell_type": "markdown",
      "metadata": {
        "id": "7xPcUw-cl8q4"
      },
      "source": [
        "**370. 위의 result에서 음악 첫번째 곡들만 아래와 같이 출력하시오!**  \n",
        "yesterday  \n",
        "너랑나  \n",
        "beat it"
      ]
    },
    {
      "cell_type": "code",
      "metadata": {
        "colab": {
          "base_uri": "https://localhost:8080/"
        },
        "id": "lCSZZ2PXlGoM",
        "outputId": "dc445cf0-01e3-40e7-84a6-2bb25646512f"
      },
      "source": [
        "gini = {'비틀즈': ['yesterday', 'imagine'], '아이유': ['너랑나', '마슈멜로우'], \n",
        "        '마이클 잭슨': ['beat it', 'smooth criminal']}\n",
        "\n",
        "result = list( gini.items() )\n",
        "for i in result:\n",
        "    print(i[1][0])"
      ],
      "execution_count": 154,
      "outputs": [
        {
          "output_type": "stream",
          "text": [
            "yesterday\n",
            "너랑나\n",
            "beat it\n"
          ],
          "name": "stdout"
        }
      ]
    },
    {
      "cell_type": "markdown",
      "metadata": {
        "id": "35CV5GTjmiMO"
      },
      "source": [
        "#127. Dictionary 정렬하기(sorted)\n",
        "- 파이썬 내장함수 sorted()는 dictionary 자료를 인자로 입력받아 정렬할 수 있음\n",
        "- dictionary의 각 요소는 키:값으로 되어져 있음\n",
        "- sorted() 함수에 dictionary에 인자로 입력하면 기본적으로 dictionary의 키를 오름차순으로 정렬한 결과를 리스트로 반환\n"
      ]
    },
    {
      "cell_type": "code",
      "metadata": {
        "colab": {
          "base_uri": "https://localhost:8080/"
        },
        "id": "JM-wZyCknKkU",
        "outputId": "db734a02-14ff-420f-ab5a-049d885550f4"
      },
      "source": [
        "# 예제:\n",
        "dict2 = {'소녀시대':'소원을 말해봐', '방탄소년단':'DNA', '오마이걸':'살짝 설랬어'}\n",
        "\n",
        "# 1. 위의 dict2에서 키만 추출\n",
        "print( dict2.keys() )\n",
        "\n",
        "# 2. 위의 dict2의 키 값을 아래와 같이 정렬해서 출력\n",
        "# ['방탄 소년단', '소녀시대', '오마이걸']\n",
        "\n",
        "dict2 = {'소녀시대':'소원을 말해봐', '방탄소년단':'DNA', '오마이걸':'살짝 설랬어'}\n",
        "result = dict2.keys()\n",
        "print( sorted(result) )"
      ],
      "execution_count": 156,
      "outputs": [
        {
          "output_type": "stream",
          "text": [
            "dict_keys(['소녀시대', '방탄소년단', '오마이걸'])\n",
            "['방탄소년단', '소녀시대', '오마이걸']\n"
          ],
          "name": "stdout"
        }
      ]
    },
    {
      "cell_type": "markdown",
      "metadata": {
        "id": "YTLrx6YkosOp"
      },
      "source": [
        "**문제 371. 위의 결과를 reverse 하게 되어 출력하시오**  \n",
        "결과: [ '오마이걸', '소녀시대', '방탄소년단' ]"
      ]
    },
    {
      "cell_type": "code",
      "metadata": {
        "colab": {
          "base_uri": "https://localhost:8080/"
        },
        "id": "zZJvTZJmo4Gi",
        "outputId": "abc50f6d-494f-4744-f76f-88270e80da05"
      },
      "source": [
        "dict2 = {'소녀시대':'소원을 말해봐', '방탄소년단':'DNA', '오마이걸':'살짝 설랬어'}\n",
        "result = dict2.keys()\n",
        "print( sorted(result, reverse = True) )"
      ],
      "execution_count": 160,
      "outputs": [
        {
          "output_type": "stream",
          "text": [
            "['오마이걸', '소녀시대', '방탄소년단']\n"
          ],
          "name": "stdout"
        }
      ]
    },
    {
      "cell_type": "markdown",
      "metadata": {
        "id": "BX5K62H0pTTh"
      },
      "source": [
        "**문제 372. 우리반 데이터(emp1222.csv)에서 이름과 통신사를 출력하시오**  \n",
        "(판다스를 이용하지 않고 출력하시오)"
      ]
    },
    {
      "cell_type": "code",
      "metadata": {
        "colab": {
          "resources": {
            "http://localhost:8080/nbextensions/google.colab/files.js": {
              "data": "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",
              "ok": true,
              "headers": [
                [
                  "content-type",
                  "application/javascript"
                ]
              ],
              "status": 200,
              "status_text": ""
            }
          },
          "base_uri": "https://localhost:8080/",
          "height": 72
        },
        "id": "_AQ4sGBspgOu",
        "outputId": "37b2c065-af27-4d8b-f701-518694ed779f"
      },
      "source": [
        "from google.colab import files\n",
        "file=files.upload()"
      ],
      "execution_count": 162,
      "outputs": [
        {
          "output_type": "display_data",
          "data": {
            "text/html": [
              "\n",
              "     <input type=\"file\" id=\"files-046c81d2-c8b4-4fcf-ad67-5eed034f167a\" name=\"files[]\" multiple disabled\n",
              "        style=\"border:none\" />\n",
              "     <output id=\"result-046c81d2-c8b4-4fcf-ad67-5eed034f167a\">\n",
              "      Upload widget is only available when the cell has been executed in the\n",
              "      current browser session. Please rerun this cell to enable.\n",
              "      </output>\n",
              "      <script src=\"/nbextensions/google.colab/files.js\"></script> "
            ],
            "text/plain": [
              "<IPython.core.display.HTML object>"
            ]
          },
          "metadata": {
            "tags": []
          }
        },
        {
          "output_type": "stream",
          "text": [
            "Saving emp1222.csv to emp1222.csv\n"
          ],
          "name": "stdout"
        }
      ]
    },
    {
      "cell_type": "code",
      "metadata": {
        "id": "Q-18Gp5tpbvy"
      },
      "source": [
        "import csv\n",
        "\n",
        "file=open(\"emp1222.csv\", encoding=\"CP949\")\n",
        "emp_csv = csv.reader(file)\n",
        "\n",
        "for emp_list in emp_csv:\n",
        "    print(emp_list[1], emp_list[5])"
      ],
      "execution_count": null,
      "outputs": []
    },
    {
      "cell_type": "code",
      "metadata": {
        "colab": {
          "base_uri": "https://localhost:8080/"
        },
        "id": "zxbIhZrgrI17",
        "outputId": "189ab4af-4093-47ec-f098-07c1f798d885"
      },
      "source": [
        "# defaultdictionary를 이용해서 dictionary의 값을 리스트로 구성하는 코드  \n",
        "from collections import defaultdict\n",
        "\n",
        "gini = defaultdict(list)\n",
        "gini['kt'].append('허진혁')\n",
        "gini['kt'].append('이다희')\n",
        "gini['kt'].append('박예진')\n",
        "gini['kt'].append('김승선')\n",
        "print( gini )"
      ],
      "execution_count": 165,
      "outputs": [
        {
          "output_type": "stream",
          "text": [
            "defaultdict(<class 'list'>, {'kt': ['허진혁', '이다희', '박예진', '김승선']})\n"
          ],
          "name": "stdout"
        }
      ]
    },
    {
      "cell_type": "markdown",
      "metadata": {
        "id": "uTgddD7JrpRT"
      },
      "source": [
        "**문제 373. 우리반 데이터에서 통신사를 key로 하고 학생이름을 값으로 해서 defaultdictionary를 생성하시오**  \n",
        "(default dictionary 이름은 telecom으로 하시오)"
      ]
    },
    {
      "cell_type": "code",
      "metadata": {
        "id": "Mx20fqPMr3Uv"
      },
      "source": [
        "import csv\n",
        "\n",
        "file=open(\"emp1222.csv\", encoding=\"CP949\")\n",
        "emp_csv = csv.reader(file)\n",
        "\n",
        "telecom = defaultdict(list)\n",
        "for emp_list in emp_csv:\n",
        "    telecom[emp_list[5]].append( emp_list[1])\n",
        "\n",
        "print(telecom)"
      ],
      "execution_count": null,
      "outputs": []
    },
    {
      "cell_type": "markdown",
      "metadata": {
        "id": "2r1dLUEms0Yh"
      },
      "source": [
        "**문제 374. 위에서 구성한 telecom dictionary에서 통신사가 kt인 학생들을 출력하는데 이름을 오름차순으로 정렬하시오**"
      ]
    },
    {
      "cell_type": "code",
      "metadata": {
        "id": "ETRPOGZ3tJQf"
      },
      "source": [
        "import csv\n",
        "\n",
        "file=open(\"emp1222.csv\", encoding=\"CP949\")\n",
        "emp_csv = csv.reader(file)\n",
        "\n",
        "telecom = defaultdict(list)\n",
        "for emp_list in emp_csv:\n",
        "    telecom[emp_list[5]].append( emp_list[1])\n",
        "\n",
        "result = telecom['kt']\n",
        "print( sorted(result) )"
      ],
      "execution_count": null,
      "outputs": []
    },
    {
      "cell_type": "markdown",
      "metadata": {
        "id": "jwWeWcwcySOX"
      },
      "source": [
        "#128. 문자 코드값 구하기(ord)\n",
        "- 파이썬 내장함수 ord()는 문자를 컴퓨터가 인식하는 코드값으로 변환함\n",
        "~~~\n",
        "예제: A ---------> 65\n",
        "         인코딩\n",
        "인코딩: 사람이 알아볼 수 있는 언어를 컴퓨터가 알아볼 수 있는 숫자로 변환\n",
        "~~~"
      ]
    },
    {
      "cell_type": "code",
      "metadata": {
        "colab": {
          "base_uri": "https://localhost:8080/"
        },
        "id": "S8zJ4r6MtaqZ",
        "outputId": "59ab5409-1860-439b-e81c-5e9c1e6a77eb"
      },
      "source": [
        "print( ord('A') )"
      ],
      "execution_count": 180,
      "outputs": [
        {
          "output_type": "stream",
          "text": [
            "65\n"
          ],
          "name": "stdout"
        }
      ]
    },
    {
      "cell_type": "markdown",
      "metadata": {
        "id": "U2dL_0f-y70J"
      },
      "source": [
        "**문제 375. 알파벳 대문자를 출력하시오**"
      ]
    },
    {
      "cell_type": "code",
      "metadata": {
        "colab": {
          "base_uri": "https://localhost:8080/"
        },
        "id": "bdYUWR7Ry_lb",
        "outputId": "69bf3d0e-5e8f-472c-8d6d-61e704314259"
      },
      "source": [
        "import string\n",
        "print(string.ascii_uppercase)"
      ],
      "execution_count": 181,
      "outputs": [
        {
          "output_type": "stream",
          "text": [
            "ABCDEFGHIJKLMNOPQRSTUVWXYZ\n"
          ],
          "name": "stdout"
        }
      ]
    },
    {
      "cell_type": "markdown",
      "metadata": {
        "id": "rni-UgFAzJnF"
      },
      "source": [
        "**문제 376. 위의 코드와 ord() 함수를 이용해서 아래의 결과를 출력하시오**\n",
        "~~~\n",
        "결과\n",
        "A -----> 65\n",
        "B -----> 66\n",
        "    :\n",
        "Z ------> 90\n",
        "~~~"
      ]
    },
    {
      "cell_type": "code",
      "metadata": {
        "colab": {
          "base_uri": "https://localhost:8080/"
        },
        "id": "s1PMFUX9zDhY",
        "outputId": "11c61aeb-8a0f-45cd-8720-58b686792b20"
      },
      "source": [
        "import string\n",
        "\n",
        "for i in string.ascii_uppercase:\n",
        "    print( i , ' -----> ' , ord(i) )"
      ],
      "execution_count": 184,
      "outputs": [
        {
          "output_type": "stream",
          "text": [
            "A  ----->  65\n",
            "B  ----->  66\n",
            "C  ----->  67\n",
            "D  ----->  68\n",
            "E  ----->  69\n",
            "F  ----->  70\n",
            "G  ----->  71\n",
            "H  ----->  72\n",
            "I  ----->  73\n",
            "J  ----->  74\n",
            "K  ----->  75\n",
            "L  ----->  76\n",
            "M  ----->  77\n",
            "N  ----->  78\n",
            "O  ----->  79\n",
            "P  ----->  80\n",
            "Q  ----->  81\n",
            "R  ----->  82\n",
            "S  ----->  83\n",
            "T  ----->  84\n",
            "U  ----->  85\n",
            "V  ----->  86\n",
            "W  ----->  87\n",
            "X  ----->  88\n",
            "Y  ----->  89\n",
            "Z  ----->  90\n"
          ],
          "name": "stdout"
        }
      ]
    },
    {
      "cell_type": "markdown",
      "metadata": {
        "id": "QjqM2BM00XIY"
      },
      "source": [
        "#129. 코드값에 대응하는 문자 얻기(chr)\n",
        "- 파이썬 내장함수 chr()은 ord() 함수의 반대기능을 수행함\n",
        "- chr()의 인자로 정수값을 입력하면 이 정수값이 해당하는 문자를 리턴함"
      ]
    },
    {
      "cell_type": "code",
      "metadata": {
        "colab": {
          "base_uri": "https://localhost:8080/"
        },
        "id": "WnOfToJz0jLA",
        "outputId": "2f66d0b7-58e4-4cce-f6b4-4b72670eb602"
      },
      "source": [
        "print( chr(65) )"
      ],
      "execution_count": 190,
      "outputs": [
        {
          "output_type": "stream",
          "text": [
            "A\n"
          ],
          "name": "stdout"
        }
      ]
    },
    {
      "cell_type": "markdown",
      "metadata": {
        "id": "Iz6hVA-30uEI"
      },
      "source": [
        "**문제 377. 아래와 같이 결과를 출력하시오!**\n",
        "~~~\n",
        "결과\n",
        "65 -----> A\n",
        "66 -----> B\n",
        "     :\n",
        "90 -----> Z\n",
        "~~~"
      ]
    },
    {
      "cell_type": "code",
      "metadata": {
        "colab": {
          "base_uri": "https://localhost:8080/"
        },
        "id": "pCq_0R7k06Om",
        "outputId": "cb99eda8-6add-4c25-ab4f-4f202dd8e56b"
      },
      "source": [
        "import string\n",
        "\n",
        "for i in range(65, 91):\n",
        "    print( i, ' -----> ', chr(i) )\n"
      ],
      "execution_count": 193,
      "outputs": [
        {
          "output_type": "stream",
          "text": [
            "65  ----->  A\n",
            "66  ----->  B\n",
            "67  ----->  C\n",
            "68  ----->  D\n",
            "69  ----->  E\n",
            "70  ----->  F\n",
            "71  ----->  G\n",
            "72  ----->  H\n",
            "73  ----->  I\n",
            "74  ----->  J\n",
            "75  ----->  K\n",
            "76  ----->  L\n",
            "77  ----->  M\n",
            "78  ----->  N\n",
            "79  ----->  O\n",
            "80  ----->  P\n",
            "81  ----->  Q\n",
            "82  ----->  R\n",
            "83  ----->  S\n",
            "84  ----->  T\n",
            "85  ----->  U\n",
            "86  ----->  V\n",
            "87  ----->  W\n",
            "88  ----->  X\n",
            "89  ----->  Y\n",
            "90  ----->  Z\n"
          ],
          "name": "stdout"
        }
      ]
    },
    {
      "cell_type": "markdown",
      "metadata": {
        "id": "sDeUdHUi11Q7"
      },
      "source": [
        "#130. 문자열로 된 식을 실행하기 (eval)\n",
        "- 코드를 작성하다 보면 파일에서 읽은 수식이나 문자열을 그대로 실행하는 경우에 사용\n",
        "- 예를 들어 '2 + 3' 과 같이 두개의 숫자를 더하는 문자열을 텍스트 파일에서 읽어 이를 힐행하여 이 수식의 결과인 5를 구하는 경우"
      ]
    },
    {
      "cell_type": "code",
      "metadata": {
        "colab": {
          "base_uri": "https://localhost:8080/"
        },
        "id": "aq0DCFUZ2Hfx",
        "outputId": "419596d3-fd04-445d-e9ea-ef949886c13e"
      },
      "source": [
        "a = '2 + 3'\n",
        "print(a)\n",
        "print( eval(a) )"
      ],
      "execution_count": 196,
      "outputs": [
        {
          "output_type": "stream",
          "text": [
            "2 + 3\n",
            "5\n"
          ],
          "name": "stdout"
        }
      ]
    },
    {
      "cell_type": "markdown",
      "metadata": {
        "id": "_-Z1bjK42o0n"
      },
      "source": [
        "**문제 378. 아래의 결과를 출력하시오**\n",
        "~~~\n",
        "34 + 256 - 71 * 34 =\n",
        "~~~"
      ]
    },
    {
      "cell_type": "code",
      "metadata": {
        "colab": {
          "base_uri": "https://localhost:8080/"
        },
        "id": "kJhDITVF2xWb",
        "outputId": "db42abd8-fcb3-4d66-efb9-ea494d246e38"
      },
      "source": [
        "a = '34 + 256 - 71 * 34 '\n",
        "print( a, '=', eval(a) )"
      ],
      "execution_count": 199,
      "outputs": [
        {
          "output_type": "stream",
          "text": [
            "34 + 256 - 71 * 34  = -2124\n"
          ],
          "name": "stdout"
        }
      ]
    },
    {
      "cell_type": "markdown",
      "metadata": {
        "id": "QwfyYDwN3Vft"
      },
      "source": [
        "**문제 379. 아래 리스트의 숫자를 뽑아내서 아래의 문자열을 생성하시오!**\n",
        "~~~\n",
        "a = [ 34, 22, 45, 27, 31, 33, 55 ]\n",
        "결과: 34 + 22 + 45 + 27 + 31 + 33 + 55\n",
        "~~~"
      ]
    },
    {
      "cell_type": "code",
      "metadata": {
        "colab": {
          "base_uri": "https://localhost:8080/"
        },
        "id": "pfvTc0lb3mCi",
        "outputId": "9e60b35c-762c-493f-bc70-c18805ee347e"
      },
      "source": [
        "a = [ 34, 22, 45, 27, 31, 33, 55 ]\n",
        "\n",
        "bond = '+'\n",
        "num = []\n",
        "\n",
        "for i in a:\n",
        "    num.append(str(i)) # 문자로 변경해서 b 리스트에 추가\n",
        "\n",
        "print(bond.join(num))"
      ],
      "execution_count": 209,
      "outputs": [
        {
          "output_type": "stream",
          "text": [
            "34+22+45+27+31+33+55\n"
          ],
          "name": "stdout"
        }
      ]
    },
    {
      "cell_type": "markdown",
      "metadata": {
        "id": "tYcyLY_x6Nsu"
      },
      "source": [
        "**문제 380. 아래의 리스트를 가지고 아래의 결과를 출력하시오**  \n",
        "a = [ 34, 22, 45, 27, 31, 33, 55 ]"
      ]
    },
    {
      "cell_type": "code",
      "metadata": {
        "colab": {
          "base_uri": "https://localhost:8080/"
        },
        "id": "d2062_iy4c7R",
        "outputId": "1d16c1fb-19e1-43c7-95bd-14d73cbafc45"
      },
      "source": [
        "a = [ 34, 22, 45, 27, 31, 33, 55 ]\n",
        "\n",
        "bond = '+'\n",
        "num = []\n",
        "\n",
        "for i in a:\n",
        "    num.append(str(i)) # 문자로 변경해서 b 리스트에 추가\n",
        "\n",
        "b =bond.join(num)\n",
        "print( eval(b) )"
      ],
      "execution_count": 211,
      "outputs": [
        {
          "output_type": "stream",
          "text": [
            "247\n"
          ],
          "name": "stdout"
        }
      ]
    },
    {
      "cell_type": "markdown",
      "metadata": {
        "id": "QSrJLZb67JBQ"
      },
      "source": [
        "**문제 381. 우리반 데이터에서 나이를 읽어들여 아래와 같이 결과가 출력되게 하시오**"
      ]
    },
    {
      "cell_type": "code",
      "metadata": {
        "colab": {
          "base_uri": "https://localhost:8080/"
        },
        "id": "NdLfZ6JW7QCO",
        "outputId": "03f60f81-0bf1-4cd5-a363-0fbb52334070"
      },
      "source": [
        "import csv\n",
        "file = open(\"emp1222.csv\", encoding='CP949')\n",
        "emp_csv = csv.reader(file)\n",
        "\n",
        "emp_age = []\n",
        "for emp_list in emp_csv:\n",
        "    emp_age.append(emp_list[2])\n",
        "\n",
        "bond = '+'\n",
        "emp_age = bond.join(emp_age)\n",
        "print( emp_age, '=', eval(emp_age) )"
      ],
      "execution_count": 218,
      "outputs": [
        {
          "output_type": "stream",
          "text": [
            "29+31+35+29+28+28+25+28+27+27+27+26+33+30+27+27+25+28+29+24+24+29+36+26+26+26+44+28+29+28 = 859\n"
          ],
          "name": "stdout"
        }
      ]
    },
    {
      "cell_type": "markdown",
      "metadata": {
        "id": "bnr2sStI9i52"
      },
      "source": [
        "#131. 이름없는 한줄짜리 함수 만들기(lambda)\n",
        "- 파이썬에서 함수를 정의하는 방법은 일반적으로 다음과 같다\n",
        "    1. def 함수이름(입력매개변수):  \n",
        "       실행코드\n",
        "    2. 변수이름 = lambda 입력매개변수: 실행문  \n",
        "    함수의 이름없이 함수를 생성하는 코드  \n",
        "    함수 이름을 안주고 함수를 생성한다는 것은 이 함수는 지금 이 코드에서 한번만 실행하고 앞으로 쓸 일이 없는 경우, 함수 이름 없이 함수를 생성함\n"
      ]
    },
    {
      "cell_type": "code",
      "metadata": {
        "colab": {
          "base_uri": "https://localhost:8080/"
        },
        "id": "TgMY1KsR8C6I",
        "outputId": "df2f26be-18d6-4222-fa08-aa1dc13a9185"
      },
      "source": [
        "# 1번 방법: 함수를 만들때 함수 이름을 주고 생성\n",
        "\n",
        "def add_func(num1, num2):\n",
        "    return num1 + num2\n",
        "\n",
        "add_func(2, 3)\n",
        "\"\"\"\n",
        "함수를 생성하는 이유: 함수를 한번 만들면 다음부터는 함수이름을 가지고 함수만 호출하면 되기 때문에 함수를 생성해서 코드를 작성했음\n",
        "\"\"\""
      ],
      "execution_count": 224,
      "outputs": [
        {
          "output_type": "execute_result",
          "data": {
            "text/plain": [
              "5"
            ]
          },
          "metadata": {
            "tags": []
          },
          "execution_count": 224
        }
      ]
    },
    {
      "cell_type": "code",
      "metadata": {
        "colab": {
          "base_uri": "https://localhost:8080/"
        },
        "id": "zjkECCsm7TsG",
        "outputId": "407d478d-c33f-4bc4-eff7-b388e4a74641"
      },
      "source": [
        "# 2번 방법: 함수 이름 없이 생성\n",
        "k = lambda a, b: a+b\n",
        "print( k(2, 3) )\n",
        "\"\"\"\n",
        "이름을 생성하지 않은 이유: 함수를 한번 만들면 다음부터 이용하지 않을것이기 때문\n",
        "\"\"\""
      ],
      "execution_count": 227,
      "outputs": [
        {
          "output_type": "stream",
          "text": [
            "5\n"
          ],
          "name": "stdout"
        }
      ]
    },
    {
      "cell_type": "markdown",
      "metadata": {
        "id": "jhvQi_aQDLdB"
      },
      "source": [
        "**문제 382. 아래의 함수를 람다함수로 만드시오**\n",
        "~~~\n",
        "def gob_fnc(a, b):\n",
        "    return a * b\n",
        "~~~"
      ]
    },
    {
      "cell_type": "code",
      "metadata": {
        "colab": {
          "base_uri": "https://localhost:8080/"
        },
        "id": "TR-5jV4BCnam",
        "outputId": "ae6260be-37b7-4376-a0b3-eeefc6d91fdd"
      },
      "source": [
        "k = lambda a, b: a * b\n",
        "print( k(2,3) )"
      ],
      "execution_count": 228,
      "outputs": [
        {
          "output_type": "stream",
          "text": [
            "6\n"
          ],
          "name": "stdout"
        }
      ]
    },
    {
      "cell_type": "markdown",
      "metadata": {
        "id": "VxAGTkWWDuCJ"
      },
      "source": [
        "**문제 383. 아래의 함수를 람다함수로 만드시오**\n",
        "~~~\n",
        "def odd_func(a):\n",
        "    if a % 2 ==0:\n",
        "        return '짝수 입니다.'\n",
        "    else:\n",
        "        return '홀수입니다.'\n",
        "\n",
        "print( odd_func(2) )\n",
        "print( odd_func(3) )\n",
        "~~~"
      ]
    },
    {
      "cell_type": "code",
      "metadata": {
        "colab": {
          "base_uri": "https://localhost:8080/"
        },
        "id": "4oGsQ5-lELqz",
        "outputId": "a03f6e14-f8fa-443b-cfd1-e7681adfb662"
      },
      "source": [
        "k = lambda a: '짝수입니다' if a % 2 ==0 else '홀수입니다.'\n",
        "print(k(2))\n",
        "print(k(3))"
      ],
      "execution_count": 231,
      "outputs": [
        {
          "output_type": "stream",
          "text": [
            "짝수입니다\n",
            "홀수입니다.\n"
          ],
          "name": "stdout"
        }
      ]
    },
    {
      "cell_type": "markdown",
      "metadata": {
        "id": "WV09Hq9eFn4H"
      },
      "source": [
        "**문제 384. 아래의 함수를 lambda로 구현하시오!**\n",
        "~~~\n",
        "def high_income(a):\n",
        "    if a >=3000:\n",
        "        return '고소득자 입니다.'\n",
        "    else:\n",
        "        return '일반 소득자 입니다.'\n",
        "~~~"
      ]
    },
    {
      "cell_type": "code",
      "metadata": {
        "colab": {
          "base_uri": "https://localhost:8080/"
        },
        "id": "BpY4lZLJF4hk",
        "outputId": "97718331-3126-4cd8-ae74-ddbe028d8cb3"
      },
      "source": [
        "k = lambda a: '고소득자 입니다.' if a >= 3000 else '일반 소득자 입니다.'\n",
        "print( k(3000) )"
      ],
      "execution_count": 232,
      "outputs": [
        {
          "output_type": "stream",
          "text": [
            "고소득자 입니다.\n"
          ],
          "name": "stdout"
        }
      ]
    },
    {
      "cell_type": "markdown",
      "metadata": {
        "id": "aYH3Sd1wGYXP"
      },
      "source": [
        "**문제 385. 아래의 함수로 lambda로 구현하시오**\n",
        "~~~\n",
        "def child_tall(num):\n",
        "    if 140 - 1.96*5 <= num <= 140+1.96 * 5:\n",
        "        return '신뢰구간 95% 안에 있습니다'\n",
        "    else:\n",
        "        return '신뢰구간 95% 안에 없습니다.'\n",
        "~~~"
      ]
    },
    {
      "cell_type": "code",
      "metadata": {
        "colab": {
          "base_uri": "https://localhost:8080/"
        },
        "id": "jzs9t8jgG2G4",
        "outputId": "5dc02cce-76d5-482d-c014-cf3a14343b36"
      },
      "source": [
        "def child_tall(num):\n",
        "    if 140 - 1.96*5 <= num <= 140+1.96 * 5:\n",
        "        return '신뢰구간 95% 안에 있습니다'\n",
        "    else:\n",
        "        return '신뢰구간 95% 안에 없습니다.'\n",
        "\n",
        "k = lambda a: '신뢰구간 95% 안에 있습니다.' if 140 - 1.96*5 <= a <= 140+1.96 * 5 else '신뢰구간 95% 안에 없습니다.'\n",
        "# 사실 람다 함수로 쓰기엔 조금 긴 함수다.\n",
        "print( child_tall(147) )\n",
        "print( k(147) )"
      ],
      "execution_count": 236,
      "outputs": [
        {
          "output_type": "stream",
          "text": [
            "신뢰구간 95% 안에 있습니다\n",
            "신뢰구간 95% 안에 있습니다.\n"
          ],
          "name": "stdout"
        }
      ]
    },
    {
      "cell_type": "markdown",
      "metadata": {
        "id": "UYJTMXKNHgAX"
      },
      "source": [
        "- 신뢰구간  \n",
        "신뢰구간 68 % ---> 평균 ± 1 * 표준편차  \n",
        "신뢰구간 95 % ---> 평균 ± 1.96 * 표준편차  \n",
        "신뢰구간 99 % ---> 평균 ± 2.58 * 표준편차"
      ]
    },
    {
      "cell_type": "markdown",
      "metadata": {
        "id": "kvJCwsVUIeuZ"
      },
      "source": [
        "**문제 386. 초등학생 키 데이터를 120 ~ 160 사이로 해서 0.001 간격으로 생성하시오**"
      ]
    },
    {
      "cell_type": "code",
      "metadata": {
        "colab": {
          "base_uri": "https://localhost:8080/"
        },
        "id": "KE73iah6Hfpc",
        "outputId": "82decbc2-30b7-4dfe-d2db-b47b2ab6807a"
      },
      "source": [
        "import numpy as np\n",
        "x = np.arange(120, 160, 0.001)\n",
        "print(len(x))"
      ],
      "execution_count": 237,
      "outputs": [
        {
          "output_type": "stream",
          "text": [
            "40000\n"
          ],
          "name": "stdout"
        }
      ]
    },
    {
      "cell_type": "markdown",
      "metadata": {
        "id": "drV3w_phIygq"
      },
      "source": [
        "**문제 387. 위에서 만든 40000건의 데이터에 대한 확률 밀도함수 값을 출력하시오**  \n",
        "(평균값 140, 표준편차 5)"
      ]
    },
    {
      "cell_type": "code",
      "metadata": {
        "id": "kY9Y_Pt8I5W7"
      },
      "source": [
        "from scipy.stats import norm\n",
        "import numpy as np\n",
        "x = np.arange(120, 160, 0.001)\n",
        "y = norm.pdf( x, 140, 5)   # 확률 밀도함수 (원하는 값, 평균, 표준편차)\n"
      ],
      "execution_count": null,
      "outputs": []
    },
    {
      "cell_type": "markdown",
      "metadata": {
        "id": "59GFxzO5JY4q"
      },
      "source": [
        "**문제 388. 위의 데이터 중 x 값과 y값을 가지고 시각화를 하시오**"
      ]
    },
    {
      "cell_type": "code",
      "metadata": {
        "colab": {
          "base_uri": "https://localhost:8080/",
          "height": 282
        },
        "id": "1vo5qxYCJfYR",
        "outputId": "bc316992-bd2b-43ed-cb66-a4a07449fcbc"
      },
      "source": [
        "from scipy.stats import norm\n",
        "import numpy as np\n",
        "import matplotlib.pyplot as plt\n",
        "\n",
        "x = np.arange(120, 160, 0.001)\n",
        "y = norm.pdf( x, 140, 5)\n",
        "plt.plot(x, y, color = 'blue')\n",
        "plt.show"
      ],
      "execution_count": 240,
      "outputs": [
        {
          "output_type": "execute_result",
          "data": {
            "text/plain": [
              "<function matplotlib.pyplot.show>"
            ]
          },
          "metadata": {
            "tags": []
          },
          "execution_count": 240
        },
        {
          "output_type": "display_data",
          "data": {
            "image/png": "[encoded data removed]",
            "text/plain": [
              "<Figure size 432x288 with 1 Axes>"
            ]
          },
          "metadata": {
            "tags": [],
            "needs_background": "light"
          }
        }
      ]
    },
    {
      "cell_type": "markdown",
      "metadata": {
        "id": "zzfXdPPrJ7uA"
      },
      "source": [
        "**문제 389. 위의 그래프에서 신뢰구간 95%에 해당하는 부분만 색깔로 칠하시오**"
      ]
    },
    {
      "cell_type": "code",
      "metadata": {
        "colab": {
          "base_uri": "https://localhost:8080/",
          "height": 282
        },
        "id": "o9P017CWJrDf",
        "outputId": "08f53f26-920b-41dc-be15-ba1be98b56ce"
      },
      "source": [
        "from scipy.stats import norm\n",
        "import numpy as np\n",
        "import matplotlib.pyplot as plt\n",
        "\n",
        "x = np.arange(120, 160, 0.001)\n",
        "y = norm.pdf( x, 140, 5)\n",
        "plt.plot(x, y, color = 'blue')\n",
        "plt.fill_between(x, y, where = ( x >= 140 - 1.96 * 5) & (x <= 140 + 1.96 * 5), color = 'blue', alpha =0.5)\n",
        "# where에 색칠하는 구간을 지정함\n",
        "plt.show"
      ],
      "execution_count": 247,
      "outputs": [
        {
          "output_type": "execute_result",
          "data": {
            "text/plain": [
              "<function matplotlib.pyplot.show>"
            ]
          },
          "metadata": {
            "tags": []
          },
          "execution_count": 247
        },
        {
          "output_type": "display_data",
          "data": {
            "image/png": "[encoded data removed]",
            "text/plain": [
              "<Figure size 432x288 with 1 Axes>"
            ]
          },
          "metadata": {
            "tags": [],
            "needs_background": "light"
          }
        }
      ]
    },
    {
      "cell_type": "markdown",
      "metadata": {
        "id": "s7kfcR76NxGO"
      },
      "source": [
        "**문제 390. 위의 코드를 이용해서 confidence_interval 함수를 생성하고 아래와 같이 신뢰구간을 넣으면 해당 신뢰구간에 해당하는 그래프가 출력되게 하시오!**\n",
        "\n",
        "~~~\n",
        "신뢰구간\n",
        "신뢰구간 68 % ---> 평균 ± 1 * 표준편차\n",
        "신뢰구간 95 % ---> 평균 ± 1.96 * 표준편차\n",
        "신뢰구간 99 % ---> 평균 ± 2.58 * 표준편차\n",
        "~~~"
      ]
    },
    {
      "cell_type": "code",
      "metadata": {
        "colab": {
          "base_uri": "https://localhost:8080/",
          "height": 265
        },
        "id": "X9Il6QUSN__H",
        "outputId": "0bd171f4-d47f-4be5-81d2-d00ed6f493f5"
      },
      "source": [
        "from scipy.stats import norm\n",
        "import numpy as np\n",
        "import matplotlib.pyplot as plt\n",
        "\n",
        "def confidence_interval(num):\n",
        "    x = np.arange(120, 160, 0.001)\n",
        "    y = norm.pdf( x, 140, 5)         # 그래프의 초기설정\n",
        "    plt.plot(x, y, color = 'blue')\n",
        "    \n",
        "    if num == 68:\n",
        "        percent = 1\n",
        "    elif num == 95:\n",
        "        percent = 1.96    # 조건식\n",
        "    elif num == 99:\n",
        "        percent = 2.58\n",
        "\n",
        "    plt.fill_between(x, y, where = ( x >= 140 - percent * 5) & (x <= 140 + percent * 5), color = 'blue', alpha =0.5)  # 조건식에 따른 변수 변화(percent)\n",
        "    plt.show\n",
        "\n",
        "confidence_interval(68)"
      ],
      "execution_count": 312,
      "outputs": [
        {
          "output_type": "display_data",
          "data": {
            "image/png": "[encoded data removed]",
            "text/plain": [
              "<Figure size 432x288 with 1 Axes>"
            ]
          },
          "metadata": {
            "tags": [],
            "needs_background": "light"
          }
        }
      ]
    }
  ]
}