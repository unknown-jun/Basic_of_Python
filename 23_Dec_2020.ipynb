{
  "nbformat": 4,
  "nbformat_minor": 0,
  "metadata": {
    "colab": {
      "name": "23_Dec_2020.ipynb",
      "provenance": [],
      "authorship_tag": "ABX9TyMxwgNMYCs4vQ/PTxeTgmtS",
      "include_colab_link": true
    },
    "kernelspec": {
      "name": "python3",
      "display_name": "Python 3"
    }
  },
  "cells": [
    {
      "cell_type": "markdown",
      "metadata": {
        "id": "view-in-github",
        "colab_type": "text"
      },
      "source": [
        "<a href=\"https://colab.research.google.com/github/unknown-jun/Basic_of_Python/blob/master/23_Dec_2020.ipynb\" target=\"_parent\"><img src=\"https://colab.research.google.com/assets/colab-badge.svg\" alt=\"Open In Colab\"/></a>"
      ]
    },
    {
      "cell_type": "markdown",
      "metadata": {
        "id": "l5SFiYqsIhWS"
      },
      "source": [
        "# 154. 버블 정렬\n",
        "> 서로 인접한 두 요소의 크기를 서로 비교하여 순서에 맞지 않는 요소를 인접한 요소와 서로 교환해서 정렬하는 방법\n"
      ]
    },
    {
      "cell_type": "markdown",
      "metadata": {
        "id": "XbBpsCH4I7PF"
      },
      "source": [
        "문제 502. 아래의 리스트를 만들고 첫번째 요소와 두번째 요소의 순서를 변경하시오\n",
        "~~~\n",
        "a = [ 10, 5, 20, 9, 8 ]\n",
        "\n",
        "결과 [ 5, 10, 20, 9, 8 ]\n",
        "~~~"
      ]
    },
    {
      "cell_type": "code",
      "metadata": {
        "colab": {
          "base_uri": "https://localhost:8080/"
        },
        "id": "o__R_GFl8ePH",
        "outputId": "3e23c61b-346f-4477-addd-43249d3c91d4"
      },
      "source": [
        "a = [ 10, 5, 20, 9, 8 ]\n",
        "\n",
        "temp = a[1]  # 1번째 요소를 temp변수에 임시 저장하고\n",
        "a[1] = a[0]  # 1번째 요소를 0번째 요소로 변경한 후에\n",
        "a[0] = temp  # 0번째 요소를 1번째 요소로 변경함\n",
        "\n",
        "print( a )"
      ],
      "execution_count": null,
      "outputs": [
        {
          "output_type": "execute_result",
          "data": {
            "text/plain": [
              "[5, 10, 20, 9, 8]"
            ]
          },
          "metadata": {
            "tags": []
          },
          "execution_count": 2
        }
      ]
    },
    {
      "cell_type": "markdown",
      "metadata": {
        "id": "-i_4pTSwJ5RT"
      },
      "source": [
        "문제 503. 아래의 a 리스트의 첫번째 요소와 두번째 요소의 크기를 비교해서 첫번째 요소의 숫자가 두번째 요소의 숫자보다 크다면 두개를 바꿔라\n",
        "~~~\n",
        "a = [ 10, 5, 20, 9, 8 ]\n",
        " \n",
        "결과 [ 5, 10, 20, 9, 8 ]\n",
        "~~~"
      ]
    },
    {
      "cell_type": "code",
      "metadata": {
        "colab": {
          "base_uri": "https://localhost:8080/"
        },
        "id": "p-fA6yfuKO4r",
        "outputId": "b850ea67-1d25-4ce9-96c2-b79c4f7f4895"
      },
      "source": [
        "a = [ 10, 5, 20, 9, 8 ]\n",
        "\n",
        "if a[0] > a[1]:\n",
        "    temp = a[1]  # 1번째 요소를 temp변수에 임시 저장하고 ( temp = 5 )\n",
        "    a[1] = a[0]  # 1번째 요소를 0번째 요소로 변경한 후에 ( a[1] = 10 )\n",
        "    a[0] = temp  # 0번째 요소를 1번째 요소로 변경함     ( a[0] = 5 )\n",
        "\n",
        "print( a )"
      ],
      "execution_count": null,
      "outputs": [
        {
          "output_type": "stream",
          "text": [
            "[5, 10, 20, 9, 8]\n"
          ],
          "name": "stdout"
        }
      ]
    },
    {
      "cell_type": "markdown",
      "metadata": {
        "id": "i-15wMQeK6jW"
      },
      "source": [
        "문제 504. 문제 503번 코드에 for loop문을 사용하여 버블 정렬을 하시오\n",
        "\n",
        "~~~\n",
        "a = [ 5, 4, 3, 2, 1, 8, 7, 10 ]\n",
        "결과: [4, 3, 2, 1, 5, 7, 8, 10]\n",
        "~~~\n",
        "\n",
        "과정\n",
        "\n",
        "~~~\n",
        "[5, 4, 3, 2, 1, 8, 7, 10]\n",
        "\n",
        "[4, 5, 3, 2, 1, 8, 7, 10]\n",
        "\n",
        "[4, 3, 5, 2, 1, 8, 7, 10]\n",
        "\n",
        "[4, 3, 2, 5, 1, 8, 7, 10]\n",
        "\n",
        "[4, 3, 2, 1, 5, 8, 7, 10]\n",
        "\n",
        "[4, 3, 2, 1, 5, 7, 8, 10]\n",
        "~~~"
      ]
    },
    {
      "cell_type": "code",
      "metadata": {
        "colab": {
          "base_uri": "https://localhost:8080/"
        },
        "id": "_uCD5luWLfPh",
        "outputId": "6775d6b9-66a3-486d-d21e-e2b184a10fef"
      },
      "source": [
        "a = [ 5, 4, 3, 2, 1, 8, 7, 10 ]\n",
        "\n",
        "for i in range(0, 6):\n",
        "    if a[i] > a[i+1]:\n",
        "        temp = a[i+1]  # 1번째 요소를 temp변수에 임시 저장하고 ( temp = 5 )\n",
        "        a[i+1] = a[i]  # 1번째 요소를 0번째 요소로 변경한 후에 ( a[1] = 10 )\n",
        "        a[i] = temp  # 0번째 요소를 1번째 요소로 변경함     ( a[0] = 5 )\n",
        "\n",
        "print(a)"
      ],
      "execution_count": null,
      "outputs": [
        {
          "output_type": "stream",
          "text": [
            "[4, 3, 2, 1, 5, 7, 8, 10]\n"
          ],
          "name": "stdout"
        }
      ]
    },
    {
      "cell_type": "markdown",
      "metadata": {
        "id": "49SJPpNnNdI6"
      },
      "source": [
        "문제 505. (필수알고리즘3) 위의 코드를 이용해서 버블 정렬을 하는 함수를 아래와 같이 생성하시오\n",
        "\n",
        "~~~\n",
        "a = [5, 4, 3, 2, 1, 8, 7, 10]\n",
        "\n",
        "print( bubble_sort(a) )\n",
        "\n",
        "결과: [1, 2, 3, 4, 5, 6, 7, 8, 10]\n",
        "~~~"
      ]
    },
    {
      "cell_type": "code",
      "metadata": {
        "colab": {
          "base_uri": "https://localhost:8080/"
        },
        "id": "KgsEgosXziRZ",
        "outputId": "e5464081-3b70-40dd-dadf-b1212f1496e0"
      },
      "source": [
        "a = [5, 4, 3, 2, 1, 8, 7, 10]\n",
        "\n",
        "def bubble_sort( list_ ):\n",
        "    for j in range(len(list_)-1, 0, -1):\n",
        "        for i in range(0, j-1):\n",
        "            if list_[i] > list_[i+1]:\n",
        "                list_[i], list_[i+1] = list_[i+1], list_[i]\n",
        "    return list_\n",
        "\n",
        "print( bubble_sort(a) )"
      ],
      "execution_count": 1,
      "outputs": [
        {
          "output_type": "stream",
          "text": [
            "[1, 2, 3, 4, 5, 7, 8, 10]\n"
          ],
          "name": "stdout"
        }
      ]
    },
    {
      "cell_type": "markdown",
      "metadata": {
        "id": "IzkUjuSAfX06"
      },
      "source": [
        "#155. 필수 알고리즘4 (탐욕알고리즘)\n",
        "> 매 순간 마다 최선의 선택을 하는 것  \n",
        "\n",
        "- 선택할 때 마다 가장 좋다고 생각되는 것을 선택해 나가며 최종적인 해답을 구하는 알고리즘\n",
        "\n",
        "- 이 알고리즘을 설계할 때 주의할 점은 전체를 고려하는 게 아니라 문제를 부분적으로 나누어 나주어진 문제에 대한 최적의 해답을 구하게끔 해야함\n",
        "\n",
        "- 머신러닝 배울때 의사결정트리를 구현할 때 사용하는 알고리즘\n",
        "\n",
        "~~~\n",
        "예> 14원의 잔돈을 줘야 하는데 잔돈의 종류가 10원, 7원, 1원이 있으면 잔돈을 가장 빨리 줄 수 있는 방법은?\n",
        "답: 7원짜리 2개를 주면 됨\n",
        "탐욕알고리즘: 10원 1개, 7원 0개, 1원 4개\n",
        "~~~\n"
      ]
    },
    {
      "cell_type": "markdown",
      "metadata": {
        "id": "-G0_ACPBhMHt"
      },
      "source": [
        "문제 506. 14를 10으로 나눈 몫을 출력하시오"
      ]
    },
    {
      "cell_type": "code",
      "metadata": {
        "colab": {
          "base_uri": "https://localhost:8080/"
        },
        "id": "d4wbGmjfhLNO",
        "outputId": "64873f9b-f35e-4a17-de5e-8625952b1d92"
      },
      "source": [
        "print(14/10)\n",
        "print( int(14/10) )\n",
        "print( 14//10 )"
      ],
      "execution_count": null,
      "outputs": [
        {
          "output_type": "stream",
          "text": [
            "1.4\n",
            "1\n",
            "1\n"
          ],
          "name": "stdout"
        }
      ]
    },
    {
      "cell_type": "markdown",
      "metadata": {
        "id": "H7qOuElKhvqf"
      },
      "source": [
        "문제 507. 14를 10으로 나눈 나머지값을 출력하시오"
      ]
    },
    {
      "cell_type": "code",
      "metadata": {
        "colab": {
          "base_uri": "https://localhost:8080/"
        },
        "id": "V_xKWGbVhzMS",
        "outputId": "bee4ba2c-23f8-4c3b-b336-83d3cecaa189"
      },
      "source": [
        "print(14%10)"
      ],
      "execution_count": null,
      "outputs": [
        {
          "output_type": "stream",
          "text": [
            "0.3999999999999999\n",
            "4\n"
          ],
          "name": "stdout"
        }
      ]
    },
    {
      "cell_type": "markdown",
      "metadata": {
        "id": "ga2UKAvmiAX8"
      },
      "source": [
        "문제 508. 숫자를 물어보게 하고 숫자를 10으로 나눈 몫과 나머지 값을 출력하게 하시오\n",
        "~~~\n",
        "숫자를 입력하세요:   14\n",
        "몫은: 1\n",
        "나머지값은: 4\n",
        "~~~"
      ]
    },
    {
      "cell_type": "code",
      "metadata": {
        "colab": {
          "base_uri": "https://localhost:8080/"
        },
        "id": "Zm1tMOYuiM6x",
        "outputId": "960543bf-b7a5-40b5-ed44-1e57092cd6d4"
      },
      "source": [
        "num = int(input('숫자를 입력하세요: '))\n",
        "print(f'몫은: {num//10}')\n",
        "print(f'나머지 값은: {num%10}')"
      ],
      "execution_count": null,
      "outputs": [
        {
          "output_type": "stream",
          "text": [
            "숫자를 입력하세요: 14\n",
            "몫은: 1\n",
            "나머지 값은: 4\n"
          ],
          "name": "stdout"
        }
      ]
    },
    {
      "cell_type": "markdown",
      "metadata": {
        "id": "AubOwXVXi3io"
      },
      "source": [
        "문제 509. 아래의 잔돈 리스트를 만들고 잔돈 리스트의 첫번째 요소로 나눈 몫과 나머지값이 출력되게 하시오\n",
        "~~~\n",
        "coin = [10, 7, 1]\n",
        "숫자를 입력하세요: 14\n",
        "몫은: 1\n",
        "나머지는 값은 4\n",
        "~~~"
      ]
    },
    {
      "cell_type": "code",
      "metadata": {
        "colab": {
          "base_uri": "https://localhost:8080/"
        },
        "id": "pWWxTeNAi9is",
        "outputId": "0e8a36ed-dc19-417e-a552-a2ec51defb97"
      },
      "source": [
        "coin = [10, 7, 1]\n",
        "money = int(input('숫자를 입력하세요: '))\n",
        "\n",
        "print(f'몫은: {money//coin[0]}')\n",
        "print(f'나머지는: {money%coin[0]}')"
      ],
      "execution_count": null,
      "outputs": [
        {
          "output_type": "stream",
          "text": [
            "숫자를 입력하세요: 14\n",
            "몫은: 1\n",
            "나머지는: 4\n"
          ],
          "name": "stdout"
        }
      ]
    },
    {
      "cell_type": "markdown",
      "metadata": {
        "id": "LhNqT9szjgCV"
      },
      "source": [
        "문제 510. 위의 코드를 함수로 만들어서 실행되게 하시오\n",
        "~~~\n",
        "greedy()\n",
        "잔돈을 입력하세요:  14\n",
        "몫: 1\n",
        "나머지: 4\n",
        "~~~"
      ]
    },
    {
      "cell_type": "code",
      "metadata": {
        "colab": {
          "base_uri": "https://localhost:8080/"
        },
        "id": "7DMaQmWOjjRY",
        "outputId": "8387e1f9-d6e9-4a85-8e5a-96751212b944"
      },
      "source": [
        "coin = [10, 7, 1]\n",
        "def greedy():\n",
        "    money = int(input('잔돈을 입력하세요: '))\n",
        "\n",
        "    print(f'몫은: {money//coin[0]}')\n",
        "    print(f'나머지는: {money%coin[0]}')\n",
        "\n",
        "greedy()"
      ],
      "execution_count": null,
      "outputs": [
        {
          "output_type": "stream",
          "text": [
            "잔돈을 입력하세요: 14\n",
            "몫은: 1\n",
            "나머지는: 4\n"
          ],
          "name": "stdout"
        }
      ]
    },
    {
      "cell_type": "markdown",
      "metadata": {
        "id": "2_bd6FEVkK89"
      },
      "source": [
        "문제 511. (필수 알고리즘 4) 탐욕 알고리즘을 파이썬으로 구현하시오\n",
        "~~~\n",
        "greedy()\n",
        "잔돈을 입력하세요:    14\n",
        "10원 동전 1개, 7원 동전 0개, 1원 동전 4개를 줍니다\n",
        "~~~\n",
        "\n",
        "~~~\n",
        "greedy()\n",
        "잔돈을 입력하세요:    107\n",
        "10원 동전 10개, 7원 동전 1개, 1원 동전 0개를 줍니다.\n",
        "~~~"
      ]
    },
    {
      "cell_type": "code",
      "metadata": {
        "colab": {
          "base_uri": "https://localhost:8080/"
        },
        "id": "qPwhS31wkh6l",
        "outputId": "9823583b-e0ab-4afb-dcf1-a7065ab7dd7a"
      },
      "source": [
        "import numpy as np\n",
        "\n",
        "coin = [10, 7, 1]\n",
        "def greedy():\n",
        "    money = int(input('잔돈을 입력하세요: '))\n",
        "    cnt_10 = 0\n",
        "    cnt_7 = 0\n",
        "    cnt_1 = 0\n",
        "    for i in range(2):\n",
        "        if money > coin[i]:\n",
        "            cnt_10 = money//coin[i]\n",
        "            money -= coin[i] * cnt_10\n",
        "        elif money > coin[i]:\n",
        "            cnt_7 = money//coin[i]\n",
        "            money -= coin[i] * cnt_7\n",
        "        else:\n",
        "            cnt_1 = money//coin[i]\n",
        "            money -= coin[i] * cnt_1\n",
        "\n",
        "    print('10원동전 ' + str(cnt_10) + ' 7원동전 ' + str(cnt_7) + ' 1원동전 ' + str(cnt_1))\n",
        "\n",
        "greedy()"
      ],
      "execution_count": null,
      "outputs": [
        {
          "output_type": "stream",
          "text": [
            "잔돈을 입력하세요: 14\n",
            "10원동전 1 7원동전 0 1원동전 0\n"
          ],
          "name": "stdout"
        }
      ]
    },
    {
      "cell_type": "markdown",
      "metadata": {
        "id": "_3MFahAG721i"
      },
      "source": [
        "#156. 재귀 알고리즘\n",
        "> 반복문 + 스택구조가 결합된 함수\n",
        "- 스택구조( 후입선출: 나중에 들어간 것이 먼저 나오는 구조)\n",
        "\n",
        "\n",
        "- 재귀함수의 특징\n",
        "> 재귀 함수는 함수 내에서 다시 자기 자신을 호출한 후 그 함수가 끝날 때까지 함수 호출 이후의 명령문을 수행하지 않음\n",
        "\n",
        "- 함수 내에서 다른 함수를 호출하는 예제\n"
      ]
    },
    {
      "cell_type": "code",
      "metadata": {
        "colab": {
          "base_uri": "https://localhost:8080/"
        },
        "id": "ltjSaKXk-i36",
        "outputId": "05ee98ed-51bc-42ae-8498-f210973f2cdd"
      },
      "source": [
        "# 함수 내에서 다른 함수를 호출하는 예제\n",
        "def hap(a, b):\n",
        "    return (a + b)\n",
        "\n",
        "def gob(a, b):\n",
        "    return (a * b)\n",
        "\n",
        "def hap_gob(a, b):\n",
        "    k = hap(a, b)  #  함수내에서 다른 함수를 호출하고 있음\n",
        "    m = gob(a, b)\n",
        "    return k + m\n",
        "\n",
        "print( hap_gob(2,3) )"
      ],
      "execution_count": null,
      "outputs": [
        {
          "output_type": "stream",
          "text": [
            "11\n"
          ],
          "name": "stdout"
        }
      ]
    },
    {
      "cell_type": "markdown",
      "metadata": {
        "id": "LO_KmpMy_JaL"
      },
      "source": [
        "숫자를 입력하면 1부터 해당 숫자까지의 합을 출력하는 함수를 생성하시오\n",
        "~~~\n",
        "print( add_func(5) )\n",
        "결과: 15\n",
        "~~~"
      ]
    },
    {
      "cell_type": "code",
      "metadata": {
        "colab": {
          "base_uri": "https://localhost:8080/"
        },
        "id": "a8ul2sow_SGc",
        "outputId": "1246e280-7c2b-44f3-db15-1c84118bf1f7"
      },
      "source": [
        "def add_func( num ):\n",
        "\n",
        "    cnt = 0\n",
        "    for i in range(0, num+1):\n",
        "        cnt = cnt + i\n",
        "    return cnt\n",
        "\n",
        "print( add_func(5) )"
      ],
      "execution_count": null,
      "outputs": [
        {
          "output_type": "stream",
          "text": [
            "15\n"
          ],
          "name": "stdout"
        }
      ]
    },
    {
      "cell_type": "markdown",
      "metadata": {
        "id": "5EnWtGsvAEWE"
      },
      "source": [
        "예제 5. add_func 함수를 재귀함수로 구현하시오  \n",
        "(재귀함수를 사용하면 loop문을 사용하지 않아도 됨)"
      ]
    },
    {
      "cell_type": "code",
      "metadata": {
        "colab": {
          "base_uri": "https://localhost:8080/"
        },
        "id": "9LrSZHGAALf_",
        "outputId": "3f059d05-6239-4659-c095-fda1ea3baf5f"
      },
      "source": [
        "def add_func(n):\n",
        "\n",
        "    if n == 0:\n",
        "        return 0\n",
        "    else:\n",
        "        return n + add_func(n-1)\n",
        "\n",
        "print( add_func(5) )\n",
        "       # 5 + add_func(4)\n",
        "               # 4  + add_func(3)\n",
        "                         # 3   + add_func(2)\n",
        "                                   # 2   + add_func(1)\n",
        "                                             # 1   +  add_func(0)\n",
        "                                                         #   0"
      ],
      "execution_count": null,
      "outputs": [
        {
          "output_type": "stream",
          "text": [
            "15\n"
          ],
          "name": "stdout"
        }
      ]
    },
    {
      "cell_type": "markdown",
      "metadata": {
        "id": "3E0MyhS4CLKV"
      },
      "source": [
        "문제 512. factorial 함수를 만드시오\n",
        "~~~\n",
        "print( factorial(5) )\n",
        "결과: 120\n",
        "~~~"
      ]
    },
    {
      "cell_type": "code",
      "metadata": {
        "colab": {
          "base_uri": "https://localhost:8080/"
        },
        "id": "sjzIt-KACK1v",
        "outputId": "233d2986-a1ec-46fc-ee6b-27ad33f38e92"
      },
      "source": [
        "def factorial(num):\n",
        "\n",
        "    if num == 1:\n",
        "        return 1\n",
        "    else:\n",
        "        return num * factorial(num-1)\n",
        "        \n",
        "print(factorial(5))"
      ],
      "execution_count": null,
      "outputs": [
        {
          "output_type": "stream",
          "text": [
            "120\n"
          ],
          "name": "stdout"
        }
      ]
    },
    {
      "cell_type": "markdown",
      "metadata": {
        "id": "2j-Ow3OwDrfo"
      },
      "source": [
        "문제 513. 위의 factorial 함수를 재귀를 이용하지 않고 for loop문으로 구현하시오"
      ]
    },
    {
      "cell_type": "code",
      "metadata": {
        "colab": {
          "base_uri": "https://localhost:8080/"
        },
        "id": "ZZ-ZTyRWAebJ",
        "outputId": "9887a029-adfc-4cb9-d036-4842a7497d45"
      },
      "source": [
        "def factorial(num):\n",
        "    cnt=1\n",
        "    for i in range(1, num+1):\n",
        "        cnt = cnt * i\n",
        "    return cnt\n",
        "\n",
        "print(factorial(5))"
      ],
      "execution_count": null,
      "outputs": [
        {
          "output_type": "stream",
          "text": [
            "120\n"
          ],
          "name": "stdout"
        }
      ]
    },
    {
      "cell_type": "markdown",
      "metadata": {
        "id": "1pC82SY6E0MT"
      },
      "source": [
        "재귀 알고리즘의 장점\n",
        "> 1. loop문을 복잡하게 이용하지 않아도 됨  \n",
        "2. 코드가 더 간결해짐"
      ]
    },
    {
      "cell_type": "markdown",
      "metadata": {
        "id": "m9LXFdWEJMxU"
      },
      "source": [
        "문제 514. 오라클의 power 함수를 파이썬으로 구현하시오!\n",
        "~~~\n",
        "SQL> \n",
        "select power(2, 3) from dual;   # 8\n",
        "~~~\n",
        "\n",
        "~~~\n",
        "print( power(2, 3) )\n",
        "~~~"
      ]
    },
    {
      "cell_type": "code",
      "metadata": {
        "colab": {
          "base_uri": "https://localhost:8080/"
        },
        "id": "HEVCijwjEzke",
        "outputId": "fa4001ae-89ab-4303-c95c-e68c9706c707"
      },
      "source": [
        "def power(num1, num2):\n",
        "    cnt = 1\n",
        "    for i in range(num2):\n",
        "        cnt = cnt * num1\n",
        "    return cnt\n",
        "print( power(2, 3) )"
      ],
      "execution_count": null,
      "outputs": [
        {
          "output_type": "stream",
          "text": [
            "8\n"
          ],
          "name": "stdout"
        }
      ]
    },
    {
      "cell_type": "markdown",
      "metadata": {
        "id": "e833YENJKxYn"
      },
      "source": [
        "문제 515. 위의 power 함수를 loop문을 쓰지 말고 재귀함수로 구현하시오"
      ]
    },
    {
      "cell_type": "code",
      "metadata": {
        "colab": {
          "base_uri": "https://localhost:8080/"
        },
        "id": "jhBDmjKhK2Q9",
        "outputId": "8be99a83-8210-4d58-9426-a861d5c4b41b"
      },
      "source": [
        "def power( x, n ):\n",
        "\n",
        "    if n == 0:\n",
        "        return 1         #  재귀를 먼저 종료시킬 구문을 생각하고\n",
        "         \n",
        "    else:                #  명령어를 작성한다\n",
        "        return x * power( x,n-1 )\n",
        "    \n",
        "print( power(2, 3) )\n",
        "         # 2  * power(2, 2)\n",
        "                #  2  * power(2, 1)\n",
        "                       #   2  * power(2, 0)"
      ],
      "execution_count": null,
      "outputs": [
        {
          "output_type": "stream",
          "text": [
            "8\n"
          ],
          "name": "stdout"
        }
      ]
    },
    {
      "cell_type": "markdown",
      "metadata": {
        "id": "Dg3Y_tp2MrLk"
      },
      "source": [
        "문제 516. 구구단 2단을 아래와 같이 출력하는 함수를 생성하시오  \n",
        "(for loop문을 사용해서 만드시오)\n",
        "~~~\n",
        "print( multi_table_2dan(9)\n",
        "\n",
        "2 x 1 = 2\n",
        "2 x 2 = 4\n",
        "   :\n",
        "2 x 9 = 18\n",
        "~~~\n"
      ]
    },
    {
      "cell_type": "code",
      "metadata": {
        "colab": {
          "base_uri": "https://localhost:8080/"
        },
        "id": "eO7Iiq9UM6FT",
        "outputId": "66bdb895-6abd-42f8-eb85-8955f171f412"
      },
      "source": [
        "def multi_table_2dan( n ):\n",
        "\n",
        "    for i in range(1, n+1):\n",
        "        print( f'2 x {i} = {2*i}' )\n",
        "\n",
        "multi_table_2dan(9)"
      ],
      "execution_count": null,
      "outputs": [
        {
          "output_type": "stream",
          "text": [
            "2 x 1 = 2\n",
            "2 x 2 = 4\n",
            "2 x 3 = 6\n",
            "2 x 4 = 8\n",
            "2 x 5 = 10\n",
            "2 x 6 = 12\n",
            "2 x 7 = 14\n",
            "2 x 8 = 16\n",
            "2 x 9 = 18\n"
          ],
          "name": "stdout"
        }
      ]
    },
    {
      "cell_type": "markdown",
      "metadata": {
        "id": "1T7224-XOXNj"
      },
      "source": [
        "문제 517. 두 숫자를 각각 입력해서 함수를 실행하면 두 숫자의 최대공약수가 출력하는 함수를 생성하시오  \n",
        "( 재귀함수 사용하지 않고 loop문을 이용해서 하시오 )\n",
        "\n",
        "~~~\n",
        "print( gcd(16, 24) )\n",
        "결과 8\n",
        "~~~"
      ]
    },
    {
      "cell_type": "code",
      "metadata": {
        "colab": {
          "base_uri": "https://localhost:8080/"
        },
        "id": "owQ-qlQTOhhz",
        "outputId": "d7f68641-1adc-4914-8309-1d65138cd2a1"
      },
      "source": [
        "def gcd(n1, n2):\n",
        "\n",
        "    for i in range( min(n1, n2), 0, -1 ):\n",
        "        if n1 % i == 0 and n2 % i == 0:\n",
        "            return i\n",
        "\n",
        "print( gcd(16, 24) )"
      ],
      "execution_count": null,
      "outputs": [
        {
          "output_type": "stream",
          "text": [
            "8\n"
          ],
          "name": "stdout"
        }
      ]
    },
    {
      "cell_type": "markdown",
      "metadata": {
        "id": "_VV5nUagQI1Z"
      },
      "source": [
        "문제 518. (필수알고리즘 5번) 두 숫자를 각각 입력해서 함수를 실행하면 두 숫자의 최대공약수가 출력하는 함수를 생성하시오  \n",
        "(재귀함수로 구현하시오)\n",
        "\n",
        "~~~\n",
        "print( gcd(16, 24) )\n",
        "결과 8\n",
        "~~~"
      ]
    },
    {
      "cell_type": "code",
      "metadata": {
        "id": "OC5McnyqQXuq"
      },
      "source": [
        "def gcd(n1,n2): \n",
        "\n",
        "    if n2 == 0:\n",
        "        return n1  \n",
        "    else:\n",
        "        return gcd(n2, n1%n2)\n",
        "    \n",
        "print(gcd(16,24))  \n"
      ],
      "execution_count": null,
      "outputs": []
    },
    {
      "cell_type": "markdown",
      "metadata": {
        "id": "evroDW_UafNN"
      },
      "source": [
        "문제 519. 함수를 만들 때 아래와 같이 입력 매개변수에 기본값을 지정해서 만들 수 있다. 다음과 같이 수행하시오  \n",
        "~~~\n",
        "def bubble_a( x, k = 1 ):\n",
        "    return x + k\n",
        "\n",
        "print( bubble_a( 3 ) )\n",
        "~~~"
      ]
    },
    {
      "cell_type": "code",
      "metadata": {
        "colab": {
          "base_uri": "https://localhost:8080/"
        },
        "id": "PlerOTo5bJCr",
        "outputId": "4672842f-5eaf-4c63-d644-9ff050808379"
      },
      "source": [
        "def bubble_a( x, k = 1 ):\n",
        "    return x + k\n",
        " \n",
        "print( bubble_a( 3 ) )"
      ],
      "execution_count": null,
      "outputs": [
        {
          "output_type": "stream",
          "text": [
            "4\n"
          ],
          "name": "stdout"
        }
      ]
    },
    {
      "cell_type": "markdown",
      "metadata": {
        "id": "hJarUKX8be7K"
      },
      "source": [
        "#157. LRU 알고리즘 (Least Recent Used)\n",
        "> 메모리 관리를 효율적으로 하기 위해 고안된 대표적인 알고리즘으로  \n",
        "최신 데이터를 메모리에 유지시키고  \n",
        "오래된 데이터는 메모리에서 내보내게 하는 알고리즘\n",
        "\n",
        "- 메모리에서 정보를 조회하는 것을 cache hit\n",
        "- 메모리에 없어서 디스크에서 조회하는 것을 cache miss\n",
        "\n",
        "- cache hit >>>>> cache miss\n",
        "- 한번 디스크에서 읽은 데이터를 메모리에 올려놓고 메모리에서 빠르게 데이터를 조회할 수 있도록 LRU 알고리즘을 구현해서 만든 소프트웨어\n",
        "- 메모리 공간이 한정된 공간이다 보니 무한히 데이터를 올릴 수 없어 오래된 데이터는 메모리에서 빠져나가게 되고 최신 데이터가 그 빠져나간 자리에 올라감\n",
        "- 최근에 내가 검색한 데이터는 다시 검색할 확률이 높은 데이터 이므로 메모리에 오래 두도록 하고 예전에 검색한 데이터는 메모리에서 빠져나가게 함"
      ]
    },
    {
      "cell_type": "markdown",
      "metadata": {
        "id": "XDv3l6kUj5Jh"
      },
      "source": [
        "문제 519. 구구단 2단을 재귀함수로 출력하시오 !\n",
        "~~~\n",
        "print( multi_table_2(9) )\n",
        "\n",
        "2 x 1 = 2\n",
        "2 x 2 = 4\n",
        "    :\n",
        "2 x 9 = 18\n",
        "~~~"
      ]
    },
    {
      "cell_type": "code",
      "metadata": {
        "colab": {
          "base_uri": "https://localhost:8080/"
        },
        "id": "gfl047LQkKxD",
        "outputId": "2e262e2d-8c2b-4702-8843-2b8e9c968207"
      },
      "source": [
        "def multi_table_2(n):\n",
        "\n",
        "₩₩\n",
        "\n",
        "print( multi_table_2(9) )"
      ],
      "execution_count": null,
      "outputs": [
        {
          "output_type": "stream",
          "text": [
            "None\n",
            "None\n",
            "None\n",
            "None\n",
            "None\n",
            "None\n",
            "None\n",
            "None\n",
            "None\n",
            "None\n"
          ],
          "name": "stdout"
        }
      ]
    }
  ]
}