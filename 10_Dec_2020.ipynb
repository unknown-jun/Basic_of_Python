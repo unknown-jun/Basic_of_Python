{
  "nbformat": 4,
  "nbformat_minor": 0,
  "metadata": {
    "colab": {
      "name": "10_Dec_2020.ipynb",
      "provenance": [],
      "collapsed_sections": [],
      "toc_visible": true,
      "authorship_tag": "ABX9TyPJliu52yF5FFhAYS0FJj81",
      "include_colab_link": true
    },
    "kernelspec": {
      "name": "python3",
      "display_name": "Python 3"
    },
    "accelerator": "GPU"
  },
  "cells": [
    {
      "cell_type": "markdown",
      "metadata": {
        "id": "view-in-github",
        "colab_type": "text"
      },
      "source": [
        "<a href=\"https://colab.research.google.com/github/unknown-jun/Basic_of_Python/blob/master/10_Dec_2020.ipynb\" target=\"_parent\"><img src=\"https://colab.research.google.com/assets/colab-badge.svg\" alt=\"Open In Colab\"/></a>"
      ]
    },
    {
      "cell_type": "code",
      "metadata": {
        "colab": {
          "resources": {
            "http://localhost:8080/nbextensions/google.colab/files.js": {
              "data": "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",
              "ok": true,
              "headers": [
                [
                  "content-type",
                  "application/javascript"
                ]
              ],
              "status": 200,
              "status_text": ""
            }
          },
          "base_uri": "https://localhost:8080/",
          "height": 72
        },
        "id": "JuiajXUYGtNn",
        "outputId": "ac865024-6213-4b80-f5c9-f848fa330435"
      },
      "source": [
        "from google.colab import files\n",
        "myfile = files.upload()"
      ],
      "execution_count": 1,
      "outputs": [
        {
          "output_type": "display_data",
          "data": {
            "text/html": [
              "\n",
              "     <input type=\"file\" id=\"files-4c734d7d-d3c5-4848-b0d6-2b08c40bfad8\" name=\"files[]\" multiple disabled\n",
              "        style=\"border:none\" />\n",
              "     <output id=\"result-4c734d7d-d3c5-4848-b0d6-2b08c40bfad8\">\n",
              "      Upload widget is only available when the cell has been executed in the\n",
              "      current browser session. Please rerun this cell to enable.\n",
              "      </output>\n",
              "      <script src=\"/nbextensions/google.colab/files.js\"></script> "
            ],
            "text/plain": [
              "<IPython.core.display.HTML object>"
            ]
          },
          "metadata": {
            "tags": []
          }
        },
        {
          "output_type": "stream",
          "text": [
            "Saving emp1222.csv to emp1222 (1).csv\n"
          ],
          "name": "stdout"
        }
      ]
    },
    {
      "cell_type": "code",
      "metadata": {
        "colab": {
          "base_uri": "https://localhost:8080/"
        },
        "id": "74cYHO24J5K6",
        "outputId": "91bba151-43d9-4060-ef93-efb1720df349"
      },
      "source": [
        "import csv\n",
        "file=open('emp1222.csv', encoding='CP949')\n",
        "emp_csv = csv.reader(file)\n",
        "for emp_list in emp_csv:\n",
        "    a = emp_list[6].find('@')\n",
        "    result = emp_list[6][a:]\n",
        "    b = result.find('.')\n",
        "    print(result[1:b])"
      ],
      "execution_count": 2,
      "outputs": [
        {
          "output_type": "stream",
          "text": [
            "naver\n",
            "naver\n",
            "naver\n",
            "gmail\n",
            "naver\n",
            "naver\n",
            "gmail\n",
            "gmail\n",
            "gmail\n",
            "naver\n",
            "naver\n",
            "naver\n",
            "gmail\n",
            "hanmail\n",
            "naver,co\n",
            "naver\n",
            "naver\n",
            "naver\n",
            "naver\n",
            "naver\n",
            "naver\n",
            "naver\n",
            "gmail\n",
            "naver\n",
            "naver\n",
            "naver\n",
            "gmail\n",
            "nate\n",
            "naver\n",
            "naver\n"
          ],
          "name": "stdout"
        }
      ]
    },
    {
      "cell_type": "markdown",
      "metadata": {
        "id": "5riFNictKbGe"
      },
      "source": [
        "#107. 리스트의 특정 위치에 요소 삽입하기(insert)\n",
        "- 리스트 객체의 insert()메소드는 리스트의 특정 위치의 새로운 요소를 입력함\n"
      ]
    },
    {
      "cell_type": "code",
      "metadata": {
        "colab": {
          "base_uri": "https://localhost:8080/"
        },
        "id": "YYKeVn-HKpmF",
        "outputId": "46b9554a-43de-42fd-e6a4-16c23e61a52a"
      },
      "source": [
        "list_a = ['a','b','c','d','e']\n",
        "list_a.append('f')     # append 메소드는 무조건 맨 뒤쪽에 요소를 추가함\n",
        "print(list_a)\n",
        "\n",
        "list_a.insert(3, 'k')  # list_a 리스트의 인덱스 번호 3번으로 k를 구성\n",
        "print(list_a)"
      ],
      "execution_count": 3,
      "outputs": [
        {
          "output_type": "stream",
          "text": [
            "['a', 'b', 'c', 'd', 'e', 'f']\n",
            "['a', 'b', 'c', 'k', 'd', 'e', 'f']\n"
          ],
          "name": "stdout"
        }
      ]
    },
    {
      "cell_type": "markdown",
      "metadata": {
        "id": "LCCmDTaYMHy3"
      },
      "source": [
        "**문제 319. 아래의 a 리스트의 요소 화성 다음에 소행성을 요소로 입력하시오!**  \n",
        "a = ['태양', '수성', '금성', '지구', '화성', '목성', '토성', 천왕성', '해왕성]"
      ]
    },
    {
      "cell_type": "code",
      "metadata": {
        "colab": {
          "base_uri": "https://localhost:8080/"
        },
        "id": "tBdLSJhGMgpZ",
        "outputId": "cab4acd7-76bd-4155-8d07-f1665661d8ba"
      },
      "source": [
        "a = ['태양', '수성', '금성', '지구', '화성', '목성', '토성', '천왕성', '해왕성']\n",
        "a.insert(a.index('화성')+1, '소행성')\n",
        "a"
      ],
      "execution_count": 4,
      "outputs": [
        {
          "output_type": "execute_result",
          "data": {
            "text/plain": [
              "['태양', '수성', '금성', '지구', '화성', '소행성', '목성', '토성', '천왕성', '해왕성']"
            ]
          },
          "metadata": {
            "tags": []
          },
          "execution_count": 4
        }
      ]
    },
    {
      "cell_type": "markdown",
      "metadata": {
        "id": "ZBeSQlmGNQmA"
      },
      "source": [
        "#108. 리스트의 특정 위치의 요소 제거하기(del)\n",
        "- 파이썬의 자료형(자료구조)5가지와 해당 메소드와 if문과 loop문\n",
        "    1. 문자형 count, index\n",
        "    2. 숫자형 int(), round()\n",
        "    3. 리스트형 count, append, insert, del\n",
        "    4. 튜플형\n",
        "    5. 사전형\n",
        "    + if문, loop문\n",
        "    + 함수 생성, 예외처리, 클래스\n",
        "- del 메소드와 remove 메소드의 차이\n",
        "> 둘 다 리스트 안의 요소를 삭제하는 것인데 remove는 요소명으로 삭제하는 것이고 del은 리스트의 인덱스 번호로 삭제하는 것"
      ]
    },
    {
      "cell_type": "code",
      "metadata": {
        "colab": {
          "base_uri": "https://localhost:8080/"
        },
        "id": "IDhGZ6PWOhR2",
        "outputId": "81e5b677-6eb6-423f-fa1f-06534ddcfca4"
      },
      "source": [
        "a = ['태양', '수성', '금성', '지구', '화성', '목성', '토성', '천왕성', '해왕성']\n",
        "del(a[4])     # index 번호 4번인 화성이 지워짐\n",
        "a"
      ],
      "execution_count": 5,
      "outputs": [
        {
          "output_type": "execute_result",
          "data": {
            "text/plain": [
              "['태양', '수성', '금성', '지구', '목성', '토성', '천왕성', '해왕성']"
            ]
          },
          "metadata": {
            "tags": []
          },
          "execution_count": 5
        }
      ]
    },
    {
      "cell_type": "markdown",
      "metadata": {
        "id": "aijE9yuNO86_"
      },
      "source": [
        "**문제 320. 아래의 a 리스트에서 '목성'을 지우시오**  \n",
        "a = ['태양', '수성', '금성', '지구', '화성', '목성', '토성', '천왕성', '해왕성']"
      ]
    },
    {
      "cell_type": "code",
      "metadata": {
        "colab": {
          "base_uri": "https://localhost:8080/"
        },
        "id": "vvUztPD_PF3g",
        "outputId": "33581279-830d-4b78-db66-26a852b672ba"
      },
      "source": [
        "a = ['태양', '수성', '금성', '지구', '화성', '목성', '토성', '천왕성', '해왕성']\n",
        "del(a[a.index('목성')])\n",
        "a"
      ],
      "execution_count": 6,
      "outputs": [
        {
          "output_type": "execute_result",
          "data": {
            "text/plain": [
              "['태양', '수성', '금성', '지구', '화성', '토성', '천왕성', '해왕성']"
            ]
          },
          "metadata": {
            "tags": []
          },
          "execution_count": 6
        }
      ]
    },
    {
      "cell_type": "markdown",
      "metadata": {
        "id": "1rtp4nMSP0n0"
      },
      "source": [
        "#109. 리스트에서 특정 요소 제거하기(remove)\n",
        "리스트에서 특정 요소의 값을 알고 있을 때는 그 요소를 제거하는 방법으로 리스트 객체의 remove()메소드를 이용하면 됨"
      ]
    },
    {
      "cell_type": "code",
      "metadata": {
        "colab": {
          "base_uri": "https://localhost:8080/"
        },
        "id": "mc71-FPFP6z5",
        "outputId": "ffacbee4-e767-47c2-be53-4e3359086492"
      },
      "source": [
        "# 예제: 아래의 a 리스트에서 목성을 지우시오\n",
        "a = ['태양', '수성', '금성', '지구', '화성', '목성', '토성', '천왕성', '해왕성']\n",
        "a.remove('목성')\n",
        "a"
      ],
      "execution_count": 7,
      "outputs": [
        {
          "output_type": "execute_result",
          "data": {
            "text/plain": [
              "['태양', '수성', '금성', '지구', '화성', '토성', '천왕성', '해왕성']"
            ]
          },
          "metadata": {
            "tags": []
          },
          "execution_count": 7
        }
      ]
    },
    {
      "cell_type": "markdown",
      "metadata": {
        "id": "E-I0QsrUQLyf"
      },
      "source": [
        "**문제 321. 아래의 빨간공 2개와 파란공 3개가 들어있는 주머니에서 공을 하나 랜덤으로 빼면 그 공이 주머니에서 지워지게 하시오**"
      ]
    },
    {
      "cell_type": "code",
      "metadata": {
        "colab": {
          "base_uri": "https://localhost:8080/"
        },
        "id": "ovGxfPiDQWSK",
        "outputId": "714fa4bd-fc7b-4662-a839-96fc42bbff75"
      },
      "source": [
        "import random\n",
        "\n",
        "box = ['red', 'blue', 'red', 'blue', 'blue']\n",
        "result = random.choice(box)\n",
        "if 'result' == 'red':\n",
        "    box.remove('red')\n",
        "else:\n",
        "    box.remove('blue')\n",
        "print(box)\n",
        "\n"
      ],
      "execution_count": 8,
      "outputs": [
        {
          "output_type": "stream",
          "text": [
            "['red', 'red', 'blue', 'blue']\n"
          ],
          "name": "stdout"
        }
      ]
    },
    {
      "cell_type": "code",
      "metadata": {
        "colab": {
          "base_uri": "https://localhost:8080/"
        },
        "id": "EnTBD_6zRgZN",
        "outputId": "cffc4a70-5f2b-45c2-ca73-eeefb69ce91c"
      },
      "source": [
        "box = ['red', 'blue', 'red', 'blue', 'blue']\n",
        "a = random.choice(box)\n",
        "box.remove(a)\n",
        "box"
      ],
      "execution_count": 9,
      "outputs": [
        {
          "output_type": "execute_result",
          "data": {
            "text/plain": [
              "['red', 'red', 'blue', 'blue']"
            ]
          },
          "metadata": {
            "tags": []
          },
          "execution_count": 9
        }
      ]
    },
    {
      "cell_type": "markdown",
      "metadata": {
        "id": "LQHp6DuWcO4M"
      },
      "source": [
        "**문제322. 아래의 주머니에서 임의로 하나의 공을 뽑았을 때 그 공이 파란색일 확률은 어떻게 되는가 ? (비복원 추출)  공을 뽑는 작업을 10000번 수행하시오 !**"
      ]
    },
    {
      "cell_type": "code",
      "metadata": {
        "colab": {
          "base_uri": "https://localhost:8080/"
        },
        "id": "_wRZLUYrcUYV",
        "outputId": "241a763f-f6b2-4e7e-db6e-7ca7b40fdb41"
      },
      "source": [
        "import random\n",
        "\n",
        "box = [ 'red', 'blue', 'red', 'blue', 'blue' ]\n",
        "\n",
        "cnt = 0\n",
        "for i in range(1, 10001):\n",
        "    result = random.choice(box)          # 실행문 1\n",
        "    if result == 'blue':                 # 실행문 2\n",
        "        cnt += 1\n",
        "\n",
        "print(cnt/10000)"
      ],
      "execution_count": 10,
      "outputs": [
        {
          "output_type": "stream",
          "text": [
            "0.603\n"
          ],
          "name": "stdout"
        }
      ]
    },
    {
      "cell_type": "markdown",
      "metadata": {
        "id": "L-Pdss3FdzxK"
      },
      "source": [
        "**문제323. 파란공 70 개와 빨간공 30개가 들어있는 주머니를 만드시오**"
      ]
    },
    {
      "cell_type": "code",
      "metadata": {
        "id": "y59Ke_Aed4r8",
        "colab": {
          "base_uri": "https://localhost:8080/"
        },
        "outputId": "18eab0b1-eddd-48f3-f805-294fe9a49fe3"
      },
      "source": [
        "a = ['blue'] * 70\n",
        "b = ['red'] * 30\n",
        "box = a + b\n",
        "print(box)\n"
      ],
      "execution_count": 11,
      "outputs": [
        {
          "output_type": "stream",
          "text": [
            "['blue', 'blue', 'blue', 'blue', 'blue', 'blue', 'blue', 'blue', 'blue', 'blue', 'blue', 'blue', 'blue', 'blue', 'blue', 'blue', 'blue', 'blue', 'blue', 'blue', 'blue', 'blue', 'blue', 'blue', 'blue', 'blue', 'blue', 'blue', 'blue', 'blue', 'blue', 'blue', 'blue', 'blue', 'blue', 'blue', 'blue', 'blue', 'blue', 'blue', 'blue', 'blue', 'blue', 'blue', 'blue', 'blue', 'blue', 'blue', 'blue', 'blue', 'blue', 'blue', 'blue', 'blue', 'blue', 'blue', 'blue', 'blue', 'blue', 'blue', 'blue', 'blue', 'blue', 'blue', 'blue', 'blue', 'blue', 'blue', 'blue', 'blue', 'red', 'red', 'red', 'red', 'red', 'red', 'red', 'red', 'red', 'red', 'red', 'red', 'red', 'red', 'red', 'red', 'red', 'red', 'red', 'red', 'red', 'red', 'red', 'red', 'red', 'red', 'red', 'red', 'red', 'red']\n"
          ],
          "name": "stdout"
        }
      ]
    },
    {
      "cell_type": "markdown",
      "metadata": {
        "id": "DX-FWUb0d7Bx"
      },
      "source": [
        "**문제324. 위의 box 에 들어있는 요소가 몇개인지 확인하시오!**"
      ]
    },
    {
      "cell_type": "code",
      "metadata": {
        "id": "x5-bovBdd-nL",
        "colab": {
          "base_uri": "https://localhost:8080/"
        },
        "outputId": "5ab14eb1-8412-498a-a53d-bb0ac1acd0f9"
      },
      "source": [
        "a = ['blue'] * 70\n",
        "b = ['red'] * 30\n",
        "box = a + b\n",
        "print(box)\n",
        "print( len(box) )   # 100"
      ],
      "execution_count": 12,
      "outputs": [
        {
          "output_type": "stream",
          "text": [
            "['blue', 'blue', 'blue', 'blue', 'blue', 'blue', 'blue', 'blue', 'blue', 'blue', 'blue', 'blue', 'blue', 'blue', 'blue', 'blue', 'blue', 'blue', 'blue', 'blue', 'blue', 'blue', 'blue', 'blue', 'blue', 'blue', 'blue', 'blue', 'blue', 'blue', 'blue', 'blue', 'blue', 'blue', 'blue', 'blue', 'blue', 'blue', 'blue', 'blue', 'blue', 'blue', 'blue', 'blue', 'blue', 'blue', 'blue', 'blue', 'blue', 'blue', 'blue', 'blue', 'blue', 'blue', 'blue', 'blue', 'blue', 'blue', 'blue', 'blue', 'blue', 'blue', 'blue', 'blue', 'blue', 'blue', 'blue', 'blue', 'blue', 'blue', 'red', 'red', 'red', 'red', 'red', 'red', 'red', 'red', 'red', 'red', 'red', 'red', 'red', 'red', 'red', 'red', 'red', 'red', 'red', 'red', 'red', 'red', 'red', 'red', 'red', 'red', 'red', 'red', 'red', 'red']\n",
            "100\n"
          ],
          "name": "stdout"
        }
      ]
    },
    {
      "cell_type": "markdown",
      "metadata": {
        "id": "vh1XkCnZeBMc"
      },
      "source": [
        "**문제325. 위의 box 에 있는 요소들을 무작위로 섞으시오 !**"
      ]
    },
    {
      "cell_type": "code",
      "metadata": {
        "id": "6iYD89UgeEsi",
        "colab": {
          "base_uri": "https://localhost:8080/"
        },
        "outputId": "d267dc96-8a6e-4c57-c0e1-af01ea0f9532"
      },
      "source": [
        "\n",
        "from random import shuffle    # from 패키기 import shuffle\n",
        "\n",
        "a = ['blue'] * 70\n",
        "b = ['red'] * 30\n",
        "box = a + b\n",
        "print(box)\n",
        "shuffle(box)   # box 안의 요소들을 무작위로 섞는다.\n",
        "print(box)\n"
      ],
      "execution_count": 13,
      "outputs": [
        {
          "output_type": "stream",
          "text": [
            "['blue', 'blue', 'blue', 'blue', 'blue', 'blue', 'blue', 'blue', 'blue', 'blue', 'blue', 'blue', 'blue', 'blue', 'blue', 'blue', 'blue', 'blue', 'blue', 'blue', 'blue', 'blue', 'blue', 'blue', 'blue', 'blue', 'blue', 'blue', 'blue', 'blue', 'blue', 'blue', 'blue', 'blue', 'blue', 'blue', 'blue', 'blue', 'blue', 'blue', 'blue', 'blue', 'blue', 'blue', 'blue', 'blue', 'blue', 'blue', 'blue', 'blue', 'blue', 'blue', 'blue', 'blue', 'blue', 'blue', 'blue', 'blue', 'blue', 'blue', 'blue', 'blue', 'blue', 'blue', 'blue', 'blue', 'blue', 'blue', 'blue', 'blue', 'red', 'red', 'red', 'red', 'red', 'red', 'red', 'red', 'red', 'red', 'red', 'red', 'red', 'red', 'red', 'red', 'red', 'red', 'red', 'red', 'red', 'red', 'red', 'red', 'red', 'red', 'red', 'red', 'red', 'red']\n",
            "['red', 'blue', 'blue', 'blue', 'blue', 'blue', 'blue', 'blue', 'blue', 'red', 'red', 'blue', 'red', 'blue', 'blue', 'blue', 'blue', 'blue', 'red', 'blue', 'blue', 'red', 'blue', 'blue', 'blue', 'blue', 'blue', 'blue', 'blue', 'blue', 'red', 'blue', 'red', 'blue', 'blue', 'red', 'blue', 'blue', 'blue', 'red', 'blue', 'blue', 'blue', 'red', 'red', 'red', 'blue', 'blue', 'blue', 'red', 'blue', 'red', 'blue', 'blue', 'red', 'blue', 'blue', 'red', 'blue', 'red', 'red', 'red', 'blue', 'blue', 'blue', 'red', 'red', 'blue', 'blue', 'blue', 'red', 'blue', 'red', 'blue', 'blue', 'red', 'blue', 'blue', 'blue', 'blue', 'blue', 'blue', 'blue', 'blue', 'blue', 'blue', 'blue', 'blue', 'red', 'blue', 'blue', 'blue', 'blue', 'red', 'red', 'red', 'blue', 'red', 'blue', 'blue']\n"
          ],
          "name": "stdout"
        }
      ]
    },
    {
      "cell_type": "markdown",
      "metadata": {
        "id": "ObCSwqxceLYj"
      },
      "source": [
        "**문제326. 위의 box 에서 공 3개를 추출했을때 그 공 3개가 다 파란색일 확률은 어떻게 되는가?**  \n",
        "        (공을 뽑는 작업을 10000번 수행하세요. 복원 추출)"
      ]
    },
    {
      "cell_type": "code",
      "metadata": {
        "colab": {
          "base_uri": "https://localhost:8080/"
        },
        "id": "iRCDu__jaV56",
        "outputId": "6944ece0-098f-4031-c0b8-e2da12ffdef9"
      },
      "source": [
        "from random import shuffle\n",
        "import random\n",
        "\n",
        "a = ['blue'] * 70\n",
        "b = ['red'] * 30\n",
        "box = a + b\n",
        "shuffle(box)  # box 안의 요소들을 무작위로 섞는다.\n",
        "cnt = 0\n",
        "\n",
        "for i in range(1, 10001):\n",
        "    result = random.sample(box, 3)    # box에서 공을 3개씩 추출한다.\n",
        "    if result.count( 'blue' ) == 3:   # result의 값이 blue면 \n",
        "        cnt += 1    # cnt의 값을 누적시켜라\n",
        "\n",
        "print(cnt/10000)"
      ],
      "execution_count": 14,
      "outputs": [
        {
          "output_type": "stream",
          "text": [
            "0.3344\n"
          ],
          "name": "stdout"
        }
      ]
    },
    {
      "cell_type": "markdown",
      "metadata": {
        "id": "htVhrS_ab7JL"
      },
      "source": [
        "**문제 327. 이번에는 위의 box에서 공을 3개 뽑았을 때, 그중 2개가 blue일 확률을 출력하시오**  \n",
        "(비복원추출, 공을 뽑는 작업을 10000번 수행하시오)"
      ]
    },
    {
      "cell_type": "code",
      "metadata": {
        "colab": {
          "base_uri": "https://localhost:8080/"
        },
        "id": "Vf5QvY1ycIEM",
        "outputId": "d7cdb57d-5b1d-4b03-afcc-d59a966117eb"
      },
      "source": [
        "from random import shuffle\n",
        "import random\n",
        "\n",
        "a = ['blue'] * 70\n",
        "b = ['red'] * 30\n",
        "box = a + b\n",
        "shuffle(box)  # box 안의 요소들을 무작위로 섞는다.\n",
        "cnt = 0\n",
        "\n",
        "for i in range(1, 10001):\n",
        "    result = random.sample(box, 3)    # box에서 공을 3개씩 추출한다.\n",
        "    if result.count( 'blue' ) == 3:   # result의 값이 blue면 \n",
        "        cnt += 1    # cnt의 값을 누적시켜라\n",
        "\n",
        "print(cnt/10000)"
      ],
      "execution_count": 15,
      "outputs": [
        {
          "output_type": "stream",
          "text": [
            "0.328\n"
          ],
          "name": "stdout"
        }
      ]
    },
    {
      "cell_type": "markdown",
      "metadata": {
        "id": "E_fYkH3peh1-"
      },
      "source": [
        "**문제328. 위의 문제를 복원추출로 수행하시오**"
      ]
    },
    {
      "cell_type": "code",
      "metadata": {
        "colab": {
          "base_uri": "https://localhost:8080/"
        },
        "id": "ZcDhN6vsel6B",
        "outputId": "252f38cd-4b3d-43f2-8a53-985989f71900"
      },
      "source": [
        "from random import shuffle\n",
        "import random\n",
        "import numpy as np\n",
        "\n",
        "a = ['blue'] * 70\n",
        "b = ['red'] * 30\n",
        "box = a + b\n",
        "shuffle(box)  # box 안의 요소들을 무작위로 섞는다.\n",
        "cnt = 0\n",
        "\n",
        "for i in range(1, 10001):\n",
        "    result = np.random.choice(box, 3, replace = True )    # box에서 공을 3개씩 추출한다.\n",
        "    result = list(result)\n",
        "    if result.count( 'blue' ) == 3:   # result의 값이 blue면 \n",
        "        cnt += 1    # cnt의 값을 누적시켜라\n",
        "\n",
        "print(cnt/10000)"
      ],
      "execution_count": 16,
      "outputs": [
        {
          "output_type": "stream",
          "text": [
            "0.355\n"
          ],
          "name": "stdout"
        }
      ]
    },
    {
      "cell_type": "markdown",
      "metadata": {
        "id": "XV2H9R5Wjnby"
      },
      "source": [
        "**문제329. 위에 올린 코드를 참조하여 아래의 문제를 해결하시오**  \n",
        "~~~\n",
        "6개의 제품이 들어있는 상자가 있는데 그 중 2개가 불량품이다.  \n",
        "제품 검사를 위해 3개를 추출했을 때 1개가 불량품일 확률을 출력하시오\n",
        "(복원추출을 한다고 가정한다)\n",
        "~~~\n"
      ]
    },
    {
      "cell_type": "code",
      "metadata": {
        "colab": {
          "base_uri": "https://localhost:8080/"
        },
        "id": "eIi9So50j835",
        "outputId": "9dd1258a-fba2-4148-ce52-7378b301a9d4"
      },
      "source": [
        "box = ['정상', '불량품', '정상', '정상', '불량품', '정상']\n",
        "cnt = 0\n",
        "\n",
        "for i in range(1, 10001):\n",
        "    result = np.random.choice(box, 3, replace = True )    # box에서 공을 3개씩 추출한다.\n",
        "    result = list(result)\n",
        "    if result.count( '불량품' ) == 1:   # result의 값이 blue면 \n",
        "        cnt += 1    # cnt의 값을 누적시켜라\n",
        "\n",
        "print(cnt/10000)"
      ],
      "execution_count": 17,
      "outputs": [
        {
          "output_type": "stream",
          "text": [
            "0.4549\n"
          ],
          "name": "stdout"
        }
      ]
    },
    {
      "cell_type": "markdown",
      "metadata": {
        "id": "rRobHcBPk8L5"
      },
      "source": [
        "#110. 리스트에서 특정 구간에 있는 모든 요소 제거하기\n",
        "- 리스트 객체에서 특정 구간에 있는 요소들을 제거하려면 del과 슬라이싱을 이용하면 가능"
      ]
    },
    {
      "cell_type": "code",
      "metadata": {
        "colab": {
          "base_uri": "https://localhost:8080/"
        },
        "id": "_-x3VUHjlJzX",
        "outputId": "c08e015a-2ef7-46da-ae7f-53716f0cb0ef"
      },
      "source": [
        "# 예제\n",
        "a = ['태양', '수성', '금성', '지구', '화성', '목성', '토성', '천왕성', '해왕성']\n",
        "del(a[2:6])  # index 번호 2번부터 6번 미만까지 요소를 지움\n",
        "a"
      ],
      "execution_count": 18,
      "outputs": [
        {
          "output_type": "execute_result",
          "data": {
            "text/plain": [
              "['태양', '수성', '토성', '천왕성', '해왕성']"
            ]
          },
          "metadata": {
            "tags": []
          },
          "execution_count": 18
        }
      ]
    },
    {
      "cell_type": "markdown",
      "metadata": {
        "id": "Yhg5uQ92lpLS"
      },
      "source": [
        "**문제 330. 위의 a 리스트의 요소를 다 지우시오**"
      ]
    },
    {
      "cell_type": "code",
      "metadata": {
        "colab": {
          "base_uri": "https://localhost:8080/"
        },
        "id": "_c53FEWOls4s",
        "outputId": "c8571f40-5d2e-4fdc-f399-6397ba29bde7"
      },
      "source": [
        "a = ['태양', '수성', '금성', '지구', '화성', '목성', '토성', '천왕성', '해왕성']\n",
        "del(a[:])  # index 번호 2번부터 6번 미만까지 요소를 지움\n",
        "a"
      ],
      "execution_count": 19,
      "outputs": [
        {
          "output_type": "execute_result",
          "data": {
            "text/plain": [
              "[]"
            ]
          },
          "metadata": {
            "tags": []
          },
          "execution_count": 19
        }
      ]
    },
    {
      "cell_type": "markdown",
      "metadata": {
        "id": "XmW3AQ_Pmxjg"
      },
      "source": [
        "**문제 331. 초등학생 10만명의 체중 데이터를 가지고 히스토그램 그래프를 그리시오**  \n",
        "**(초등학생 10만명의 평균 체중은 45kg이고 표준편차는 5입니다.)**\n",
        "~~~\n",
        "30kg ~ 60kg까지 간격 2kg으로 x축의 간격(계급)을 정하시오\n",
        "30 ~ 32\n",
        "32 ~ 34\n",
        "   :\n",
        "58 ~ 60\n",
        "~~~  "
      ]
    },
    {
      "cell_type": "code",
      "metadata": {
        "id": "wg91KU4rnMsH",
        "colab": {
          "base_uri": "https://localhost:8080/",
          "height": 312
        },
        "outputId": "7a22d3a7-4e24-4341-b4a6-40207e20277f"
      },
      "source": [
        "import numpy as np\n",
        "import matplotlib.pyplot as plt\n",
        "\n",
        "N = 1000\n",
        "std = 5\n",
        "avg = 45\n",
        "\n",
        "elem_stu = np.random.randn(N) * std + avg\n",
        "\n",
        "stu_list = []\n",
        "for i in elem_stu:\n",
        "    stu_list.append(elem_stu)\n",
        "\n",
        "bins = list(range(30, 60, 2))\n",
        "plt.hist(stu_list, bins, rwidth = 0.8, alpha=0.7, color = ['r']* 1000 )\n",
        "plt.xticks(bins)         # x축 눈금 조절\n",
        "plt.title(\"Elementary student's weight\")\n",
        "plt.xlabel('Weight')\n",
        "plt.ylabel('Frequency')\n",
        "plt.show"
      ],
      "execution_count": 20,
      "outputs": [
        {
          "output_type": "execute_result",
          "data": {
            "text/plain": [
              "<function matplotlib.pyplot.show>"
            ]
          },
          "metadata": {
            "tags": []
          },
          "execution_count": 20
        },
        {
          "output_type": "display_data",
          "data": {
            "image/png": "[encoded data removed]",
            "text/plain": [
              "<Figure size 432x288 with 1 Axes>"
            ]
          },
          "metadata": {
            "tags": [],
            "needs_background": "light"
          }
        }
      ]
    },
    {
      "cell_type": "markdown",
      "metadata": {
        "id": "tKqsEt7D-bVH"
      },
      "source": [
        "**문제 332.초등학생 10만명의 체중데이터를 모수로 보고 10만명의 체중 데이터에서 100명을 샘플링하여 평균을 구하시오**"
      ]
    },
    {
      "cell_type": "code",
      "metadata": {
        "colab": {
          "base_uri": "https://localhost:8080/"
        },
        "id": "0D2Xamaw-i0E",
        "outputId": "791a91cb-9e79-4b9b-9943-536a93af7a3e"
      },
      "source": [
        "\n",
        "N = 1000\n",
        "std = 5\n",
        "avg = 45\n",
        "\n",
        "elem_stu = np.random.randn(N) * std + avg\n",
        "stu_list = np.random.choice(elem_stu, 100, replace=True).mean()\n",
        "\n",
        "stu_list"
      ],
      "execution_count": 21,
      "outputs": [
        {
          "output_type": "execute_result",
          "data": {
            "text/plain": [
              "44.23497910376668"
            ]
          },
          "metadata": {
            "tags": []
          },
          "execution_count": 21
        }
      ]
    },
    {
      "cell_type": "markdown",
      "metadata": {
        "id": "CzE7aDgc_bj_"
      },
      "source": [
        "**문제.333 위의 모집단에서 표본 100명을 추출하여 표본 평균을 구하는 작업을 1000번 수행해서 1000개의 표본 평균을 a라는 리스트에 담으시오**"
      ]
    },
    {
      "cell_type": "code",
      "metadata": {
        "colab": {
          "base_uri": "https://localhost:8080/"
        },
        "id": "eO5jITk8_pq0",
        "outputId": "d4485f71-d819-49e9-a00f-892635eaf678"
      },
      "source": [
        "N = 1000\n",
        "std = 5\n",
        "avg = 45\n",
        "\n",
        "a = []\n",
        "for i in range(1, 1001):\n",
        "    elem_stu = np.random.randn(N) * std + avg\n",
        "    stu_list = np.random.choice(elem_stu, 100, replace=True).mean()\n",
        "    a.append( stu_list )\n",
        "\n",
        "print(a)"
      ],
      "execution_count": 22,
      "outputs": [
        {
          "output_type": "stream",
          "text": [
            "[44.55800259630006, 45.02493816977548, 45.162268887671644, 44.76397446631109, 45.014190234315095, 45.73867936493755, 44.38173107839011, 45.38809207875178, 45.560086292284325, 44.68174120583525, 43.58027989262886, 44.9847173778126, 44.83491437259074, 44.4379783652595, 44.41389739426121, 45.388901730163006, 44.842559735339854, 45.340814205623154, 44.483735267274604, 45.48973436250116, 44.696178320972386, 44.56954839701625, 44.10653922778955, 44.97321381477437, 45.31256827188272, 45.54634524684303, 44.990249863383454, 43.518776373715845, 45.46035205049663, 44.63694033826389, 45.55368102627823, 44.80952260747377, 44.68474245102114, 44.528133209829704, 45.03904474791479, 44.4427080024688, 44.80458469845955, 43.914503699366634, 45.73069205753928, 44.72189362442954, 45.1323255210393, 45.23966858147142, 44.53934211117144, 45.29170877365769, 45.72439672755668, 45.590281791578384, 44.880415546832445, 45.68567039963759, 44.85437154529882, 46.00135952776083, 45.05896908391845, 46.08849901135191, 45.22943306166903, 45.78053330624864, 45.30218291337347, 45.88719619967346, 44.33157234507614, 44.955504041418024, 44.25825184842348, 44.72411836641146, 44.36531455279828, 44.31282529492663, 45.25951395887586, 45.02048896843594, 44.71441165921565, 45.20143212393734, 44.435871326312075, 44.496450013446385, 45.68232418202531, 45.34736401786411, 44.91855373624637, 44.95196141322901, 45.54340320740012, 44.86456328096233, 45.712054667969966, 43.82125310727471, 45.5116905985466, 45.008752909117405, 46.1565624736331, 44.11548001627586, 44.88767985706892, 44.55105874188091, 44.59980901668123, 44.50377952889689, 45.57253241864318, 45.81751425296595, 46.203432235058834, 45.27174622084151, 44.969224223730045, 44.481223104441966, 45.449416160741045, 45.46132919108225, 45.40670518099316, 45.22363889487858, 45.26158156060199, 45.108313425566884, 44.7447463377776, 43.48859293057922, 44.3247879535623, 44.41770874221255, 45.47339005435176, 44.645731791521875, 44.66096871679556, 45.75647129721756, 44.92108911135265, 45.4003003341209, 45.38117804539283, 44.815231906905986, 45.334016708298115, 44.74585864536361, 44.510436970045056, 45.03072897548856, 44.91720242842614, 44.907817521490784, 44.13652469660904, 44.41728151134755, 44.98438466603745, 45.083590148338246, 44.751960389841535, 45.015340148230074, 44.018139288280224, 45.51083535987143, 45.70848337318839, 45.12750520941219, 44.887142995542206, 45.169477754112386, 44.38335053370075, 44.85667061734063, 44.720255672296034, 45.79234070993334, 44.71976961592827, 47.11575288334474, 44.723788726107486, 45.36710279238718, 44.67877690884343, 46.01447833858456, 44.8052496585873, 44.48644958772855, 44.15913598185718, 44.690108514308825, 44.76698583327968, 44.87592270336924, 45.44094713969844, 44.6949541469005, 44.77580335610899, 44.79338991050486, 45.567971829500046, 46.23345737194429, 45.34915450080607, 44.58296990384299, 45.6227734284059, 44.87015729697172, 45.00801997369197, 44.822896688780204, 44.961468803668495, 44.801280987848315, 44.27618167039276, 46.20457968943441, 44.697317493057334, 44.5929448139733, 44.86069734085943, 45.17521617197369, 44.61720670767293, 45.767528682278936, 45.81000017469936, 45.19782925565337, 44.858170250736094, 44.51689993035884, 44.95202658601942, 44.763698846848435, 45.10578857254468, 44.50039713773388, 44.78308700286686, 45.53568106506437, 44.412922463865854, 44.65556649703425, 45.074135459248595, 46.22972170379493, 44.940665188675545, 45.54783411844709, 45.35775019947355, 43.950283203823375, 44.94681728597932, 45.35686758193275, 45.06375699089549, 45.104610161360824, 44.36317068914985, 44.46190101877839, 45.594747492956756, 45.4174489240037, 45.78656805392765, 45.16270686356067, 45.598822353103095, 44.94362145008974, 44.66318441640779, 44.535243352354264, 45.02752710287553, 45.795405396335106, 44.91260185115968, 44.890468800205056, 44.95484466885805, 44.84753816020032, 44.632021493594046, 45.80470229456786, 45.15848748087919, 43.86323825321837, 45.663618537172894, 45.27306605469593, 44.3023917261357, 45.138027158191306, 45.20961930265522, 44.91201587891066, 45.37782982902784, 45.05540908350923, 45.0367503179664, 45.90452023610341, 44.83372473588899, 44.96878883677745, 44.3613570486614, 45.09983103701906, 43.96732505604141, 44.17008304842218, 44.48821468452469, 44.46848811288204, 45.743419670367885, 44.586331030897554, 44.637578426288336, 44.92297835749397, 44.561066554963716, 44.947925875407506, 45.04082774190443, 43.864140184088036, 45.199919935818606, 44.73301280083627, 44.610340082519855, 45.421740551721875, 44.54061075496066, 44.86468942720346, 44.79880718115212, 44.47622387508239, 44.934615696731115, 46.2365804618313, 45.32846993548788, 44.85458787247847, 44.7067915973953, 45.79521937525432, 44.968759118905126, 44.09506086140248, 45.616617052600866, 44.76624628796208, 44.68678792275584, 45.53824369993847, 45.251212613578744, 45.47465853475501, 43.66826284135063, 45.227112820679565, 45.031012954475166, 45.29240002285607, 45.662556396426716, 46.14928923156878, 44.127691118741275, 45.503357048782206, 45.18820557341885, 45.08870488477346, 45.89378956829701, 45.4616730509301, 44.367836888091595, 43.96238427698537, 44.719863697385314, 44.30653262077712, 46.26325699167409, 45.67898297241543, 44.66633399147911, 44.374782201574725, 44.98250161776231, 44.22670688521794, 44.41019132424666, 44.716184660051255, 44.78041639769438, 45.066071746070165, 45.43260082321682, 45.54806995913304, 43.86449873348572, 45.12925841350402, 45.094761065164164, 45.19051229917173, 44.711759120242505, 45.72338398400794, 45.84134656970919, 44.658141082681915, 44.903224527186076, 45.31346998282409, 44.673522583428095, 45.37995651821517, 45.6234642125256, 45.18112023734462, 46.32772538741883, 45.67289765457794, 45.44757604738149, 44.035552535983044, 44.60466633198003, 44.48359414874918, 44.23822445122836, 44.828145374295765, 45.967806394605894, 45.52470828132374, 45.36588198323077, 44.875629711460135, 45.189494405747716, 44.197647443923216, 44.94415283707088, 45.3788874395342, 44.47081651813673, 44.380089007893524, 44.72945035945808, 44.31901618417417, 46.05365982128602, 45.41934779249216, 44.913205283778055, 44.34416860262776, 44.58560775350309, 44.64112444889354, 44.72957395716893, 44.40028038320243, 44.73000849807778, 44.34406053072107, 44.560238034193745, 44.424884883021306, 44.885707772886796, 44.65732642728089, 44.361546661886486, 44.88347405255594, 44.81846825865304, 45.27274106179557, 44.98972484332014, 45.02889046907531, 46.005764729308495, 44.032475697492835, 44.857202859477596, 44.405819947842254, 44.718686658403804, 45.35004780866521, 45.985170554239794, 45.17260612983186, 44.60580423662567, 45.323779445226094, 45.09867879555753, 44.71573817278917, 44.99025514643966, 44.27369374557471, 44.80698651679595, 44.893975651286716, 45.39755232167558, 44.99439752772904, 44.97710373969796, 45.137003263710454, 44.94361678577839, 44.09568867847302, 45.481900254742214, 46.10587492033588, 45.479090597090035, 45.74151634891969, 45.25908328809408, 45.88212385038648, 45.152549290288526, 44.49074374970378, 44.82485291003985, 45.33785301373292, 44.80109902356182, 45.30268021051595, 44.71613950337738, 44.62849099291718, 44.392641097144114, 45.064780466905674, 44.76045473609458, 45.79300603424092, 43.88322135190648, 45.38763026972076, 44.30670754606337, 44.89445348365327, 44.89897868957537, 45.212148157060795, 44.10983843577449, 44.34042095696344, 45.45063695680724, 45.35319739961487, 45.222613574061725, 45.342312434601666, 44.87692047455483, 44.43407078277199, 44.28812582266222, 44.94739637461452, 44.88677214646271, 44.959473038271966, 45.367630942232566, 45.62728790319362, 45.43846695607622, 45.91661174762372, 45.53490374885942, 45.21949285289582, 45.583719656680394, 45.11302892944307, 44.22822435908383, 44.90781873920508, 44.06707923682358, 44.62544934011505, 44.60873126274915, 45.912446047137365, 44.77320617287856, 44.53598121056428, 44.1754269016254, 45.53197380804565, 44.4602819631787, 45.28310479960785, 45.24904670643152, 44.47532237648195, 45.610879905118445, 44.76559210521986, 45.191021296892394, 45.492172350592774, 45.56923406011211, 44.986441804492735, 44.942326812809, 45.83098361385746, 44.860653256000035, 45.8707407555881, 44.86561033711961, 44.338147846665066, 44.42583726589431, 44.683566783073154, 45.57983622145728, 44.931273961997995, 45.90201157685196, 45.17923164011793, 44.82186554066019, 44.50996522247181, 44.81964121263922, 45.28226287879979, 45.14412430746, 45.9305881166325, 45.589357462379915, 44.213607482527706, 44.58942485665569, 44.60185492682096, 44.92320193970268, 44.765472559713906, 44.830369147785696, 44.76418259246348, 45.0579248261778, 45.65267041248341, 44.56818488825064, 44.87606842776267, 44.42733479624393, 44.293372031783974, 44.71742240617777, 45.84562382546435, 44.44769855955786, 45.00940804941676, 45.33727436329092, 44.451111152374054, 45.361249148682084, 45.90257357640898, 45.630580886554, 44.58029311197327, 44.942379545123416, 45.802157487733396, 44.20991261362695, 45.05173055829282, 44.80936923088423, 45.0712606657361, 45.25252917839528, 45.58316020017582, 44.62796311172289, 45.2113722078371, 44.26874093381641, 45.09882001492437, 45.38814593834275, 44.39807037689596, 45.27940515253862, 44.49890199122096, 46.065757781981866, 44.50350491932999, 45.5486853180225, 45.12192873586346, 45.181004739637174, 45.11482739876881, 45.30802017435797, 45.20050554153508, 45.23586803813057, 44.55427976739975, 44.48028057829128, 44.78282037697448, 44.53419647713149, 44.09205559606472, 45.16916378863317, 44.98802795666588, 44.441733690400724, 44.58738151157486, 45.26225053310458, 44.64418745708861, 45.37252543400132, 45.312975006800635, 45.57203240476033, 44.62068030287612, 45.00604297811806, 45.37996872768291, 45.36738285273019, 45.48997324139643, 44.806665520728394, 44.266578302090245, 44.50920185846287, 44.618978453711115, 45.037659042662774, 44.92484185906087, 45.8696256939645, 45.45562543064236, 44.56147773988212, 45.81941168012015, 45.227309863908744, 44.286410003191456, 45.278690247366306, 44.33047363503149, 45.505519336752315, 44.91647187479729, 44.53453657017654, 44.66849433402004, 45.078741285013294, 44.5700365161878, 44.6376762010349, 44.43139943741737, 46.00720757519799, 44.916430961139305, 45.763101328633695, 44.7099758444769, 44.76026345374027, 45.05246215847125, 44.345153558034966, 44.70789968853126, 44.66427754174431, 44.37616114124902, 45.306903642630644, 44.83696685738491, 44.727527777204415, 44.76671836574109, 45.20610910429906, 45.235255022006534, 44.47220551723913, 45.196174291172696, 44.57349405550177, 45.37561852217514, 45.07413272622871, 44.69866368758416, 44.559387982724104, 44.546691418989674, 44.39564136857805, 45.144979680838, 45.15404708029447, 43.6201379507338, 44.99843400734313, 45.089447490735914, 44.60756787729496, 45.78891157694359, 44.84868555441485, 45.43832244277166, 45.56936526863982, 45.558550463442614, 44.290425732781, 45.438749495960685, 45.10960327198923, 44.743174979770586, 44.625973292225396, 44.98000028649066, 45.13194903636895, 46.17685719108343, 44.66418432122774, 44.43081567467455, 44.029840301287976, 45.40745873883667, 45.16215305420757, 45.59597792325783, 45.72577799604679, 43.55638111713406, 44.76882628967218, 45.01577537347644, 44.25212293347503, 45.10485704585981, 44.77122773156612, 45.84169585139829, 44.418506454921136, 44.19369780374505, 44.96062880957042, 46.928740961946914, 45.32090586133766, 44.82804526615896, 45.43673480881369, 45.41892266990881, 44.504312898863105, 44.77242807055041, 45.243182821573775, 44.672251929583226, 44.44421705323851, 43.90109622104475, 44.29449750737618, 45.25623223382002, 45.24475118472504, 45.13528497039562, 45.38913235557665, 44.48599673169868, 44.603360397712294, 44.977742936027525, 44.9534003981827, 45.246072235580726, 45.894430010490176, 45.32103115230199, 45.111365257940186, 45.035959803501484, 44.265218670566064, 44.738930311555684, 44.710627708289664, 44.264627056414355, 44.4118810809158, 44.907657989697256, 45.074635206411855, 45.05622750658201, 44.702694416689994, 44.409892060125586, 44.45293074061043, 44.476292435537005, 44.38146417839379, 44.29440739436506, 44.669969861298206, 45.90148854635386, 44.56401426427504, 45.29144618469975, 44.20822339373854, 45.375668952117394, 45.02218739120297, 45.24430435526115, 43.960005479125265, 45.45442679315572, 44.26398583099254, 44.960795625184474, 46.10597431276677, 44.94965606987657, 44.763718568035074, 45.27402548389549, 44.575584909013095, 44.059331584344505, 44.89391351342957, 44.79546512997347, 43.69266628436915, 44.33990286176098, 44.85899555069477, 44.97455095075859, 45.0843775015075, 44.39009067134306, 44.76047921918672, 44.45321715867424, 44.45072346897165, 45.78010675700106, 45.1673186683193, 45.995971589735156, 45.42223124380452, 45.87276530600745, 46.171937593442564, 44.528478042390795, 45.35628398820518, 45.34491403774355, 44.129084887063634, 45.26919277904657, 45.12701256259869, 45.07005287951091, 44.65037802081215, 45.4581181275567, 44.9971306510653, 44.55615177877806, 44.35367651088436, 45.23128278679923, 44.34501482817628, 43.98566508969344, 45.69958632992038, 45.09162495847115, 44.67051552905873, 45.70767348121214, 45.35708818768851, 45.78412244206678, 45.746253638740114, 44.98004099089784, 44.52329977972417, 45.07809669443573, 45.05292068239918, 45.21823896820008, 45.057344615637774, 45.431261796648506, 44.39503121735449, 45.274941226926295, 45.736448814007844, 44.933468019177944, 44.61514984017296, 45.27976384691316, 44.105864191060455, 44.964895597951156, 44.04042511888919, 45.54138371952947, 45.593508781372364, 46.1895322913185, 44.96782136275004, 45.98058125897729, 45.26494018454482, 44.6086708166491, 45.95021946634385, 44.789433282972276, 44.851181816013984, 45.19965609281585, 44.77927420876407, 45.90533975226912, 43.919607217137056, 44.82973611876627, 44.5556727133992, 45.243946575878006, 45.247105132594555, 45.59358771477702, 45.13026439358627, 45.11364534688362, 44.31476588616155, 45.210408416840316, 44.42985106459992, 45.460892656165804, 44.46757980458251, 44.40455227322923, 44.42831051567597, 44.68953468496842, 44.81791138063315, 45.06090814019676, 44.86392735199043, 44.934613215090096, 45.709028804990425, 45.53437550060482, 44.99988922009309, 45.04363634196151, 44.51024129504561, 44.85327958609869, 44.962419588363325, 44.286731546731126, 45.19207465720254, 43.872644688876406, 45.47827125735831, 44.88821521263341, 45.09285302492287, 44.55854741351132, 44.16145299563182, 45.65037500983349, 45.290402061026185, 45.43521008322415, 44.89428519430635, 45.753267089152, 45.38815426267596, 45.03339248766639, 45.165360781018926, 45.86677010336861, 44.57196812137642, 45.06649677913316, 44.47797169214683, 45.151396192513985, 44.68512424752186, 44.29854667234048, 45.12674942308046, 45.13064631233593, 44.003455853352634, 44.69154920226735, 45.54627543499045, 44.50908205597937, 45.70548928198807, 45.69720188569922, 44.990451225720015, 45.300842918731895, 46.05918456265212, 45.0349500319596, 45.024851291169455, 44.6076303699068, 46.254459389284, 43.80646516627685, 45.37778582977312, 44.705951306132945, 46.1549946441471, 44.58313639225824, 45.21912479548732, 45.131482797562974, 44.89979968122506, 45.38844487079581, 46.293956691757494, 44.97882417929019, 45.564744818304604, 45.14706831247761, 45.235398186443646, 44.80211092208749, 45.15607244837906, 44.824040264001844, 44.7636257794333, 45.17297455345199, 44.11803246999861, 46.02106258514752, 45.34141112261465, 44.9781419322752, 44.579184469402435, 44.694731692977705, 44.80517505349206, 44.61830774629559, 44.90696043126179, 43.950499949147236, 45.091102966700255, 45.66496498672636, 44.413310381487754, 46.16738807066623, 44.52600176077669, 44.38785130648093, 43.90997294755948, 44.77510905071973, 43.98450733113182, 44.78501642153372, 46.43262924432045, 45.01525867921974, 45.12294405549456, 45.00384501448395, 44.161045868445264, 44.569578094702266, 46.22909128971678, 45.57579599478341, 44.88592573689357, 45.13260887469696, 44.43439924885284, 44.79670543348197, 45.23262163619647, 44.10047422628788, 44.5935865379871, 45.15244234129314, 44.50429143041138, 45.99106154507512, 45.24487525784681, 45.45577523207934, 45.194948482561784, 44.46047063597379, 44.366456540492955, 45.29462131352402, 44.75574530382017, 44.55535746530174, 46.079888742425126, 46.14038605330474, 45.95503029168354, 44.39642913989385, 44.99608309642726, 45.79392454529414, 44.97961819025103, 45.041719096460604, 44.400321599165764, 44.63950624652736, 44.37305415452039, 44.83695208317563, 45.58135999018487, 43.84315012422355, 44.482364620878286, 45.31652532006681, 45.39493826959974, 45.19156236190874, 44.51559855684288, 44.81686084504856, 43.83085260084116, 44.17065750196805, 44.76081360348592, 45.28784192670481, 44.064642621036235, 45.24709544794992, 45.7215826554914, 44.96971130820809, 44.756519204239105, 45.820397822844335, 45.555442731377155, 44.420307858388995, 44.93480761660459, 45.32501263036078, 45.80343175240303, 45.161057820438785, 44.87053994401431, 44.719966713336156, 45.915247394478854, 44.0683456455295, 44.99776911157127, 43.948937219949805, 45.40131347193792, 44.939036485705955, 44.3142876241623, 45.00220193677973, 44.730217211552166, 46.15466329085511, 45.05890889674009, 44.926108524014126, 44.76724020627657, 44.10414497116487, 44.63136322025308, 44.672185849307176, 44.47785022781317, 45.13421695269859, 44.60013053562531, 44.772976811416655, 45.22391491147777, 44.39671479417085, 45.428853791934436, 44.746394200013704, 44.300991709623595, 45.23536272058387, 44.67799806919616, 44.982758341529355, 45.76125855971365, 45.39130702993976, 46.007483453906104, 44.98771848525259, 44.84484602722692, 45.04144432355277, 45.595848771408484, 44.39044938902598, 44.458628873269575, 45.44076830563173, 44.27006363236237, 43.733654199196934, 44.772199988325156, 44.902927830424325, 45.48232038934998, 45.05532544041596, 45.64742573256496, 44.91260157747599, 43.91288703982489, 45.162539718600414, 44.65179959929476, 45.360373723329865, 44.16336855803597, 45.79493517752643, 45.87499311460173, 45.06914944041678, 44.42581396546865, 45.11371074089952, 45.330087614106944, 45.41129543619361, 45.18332973683441, 44.84090478788637, 45.438047232795505, 45.43880552980239, 44.75579888652809, 44.904582836428546, 45.84035049627675, 44.707439888225906, 44.736325069861, 45.13746073700346, 45.60921568646259, 44.23863656016618, 45.135358268312004, 45.50964835766213, 45.25669045206539, 45.20749369219717, 44.841536722557514, 45.3190965546496, 45.49476730413861, 45.008374570947424, 45.24567696361868, 44.16307790402489, 44.88027499183759, 45.58923836621559, 45.213576588659386, 45.277999339386795, 45.216915932693134, 45.318318645091765, 43.83866705553437, 45.36317742006488, 44.98263327082262, 44.874887353864935, 43.646772490496, 44.73533890542637, 45.014841093830434, 44.20143369355628, 44.911593029624484, 44.14209727608198, 44.545960389492684, 45.000341808538025, 44.24728476409219, 44.23585019263422, 45.183302536444664, 45.13214840592667, 44.846758768514725, 45.15151690794764, 45.44657061796949, 44.90444869442135, 44.70013083974531, 44.881917029755975, 45.51790330266366, 46.0796947589492, 44.42892350666691, 44.86163379858329, 44.5006044398958, 45.048082792669135, 45.33258416279744, 45.08619352584813]\n"
          ],
          "name": "stdout"
        }
      ]
    },
    {
      "cell_type": "markdown",
      "metadata": {
        "id": "skXLzoi8APSS"
      },
      "source": [
        "**문제 334. 위의 a 리스트 요소의 갯수를 출력하시오**"
      ]
    },
    {
      "cell_type": "code",
      "metadata": {
        "colab": {
          "base_uri": "https://localhost:8080/"
        },
        "id": "1BTNLRheAKmf",
        "outputId": "5dc78fd6-b675-423c-fbc1-88804595c72f"
      },
      "source": [
        "N = 1000\n",
        "std = 5\n",
        "avg = 45\n",
        "\n",
        "a = []\n",
        "for i in range(1, 1001):\n",
        "    elem_stu = np.random.randn(N) * std + avg\n",
        "    stu_list = np.random.choice(elem_stu, 100, replace=True).mean()\n",
        "    a.append( stu_list )\n",
        "\n",
        "len(a)"
      ],
      "execution_count": 23,
      "outputs": [
        {
          "output_type": "execute_result",
          "data": {
            "text/plain": [
              "1000"
            ]
          },
          "metadata": {
            "tags": []
          },
          "execution_count": 23
        }
      ]
    },
    {
      "cell_type": "markdown",
      "metadata": {
        "id": "iDY-Aq1uAvqX"
      },
      "source": [
        "**문제335. 위의 표본평균 1000개를 가지고 히스토그램을 만드시오**\n",
        "~~~\n",
        "x축 계급의 범위: 30 ~ 60 (간격 2)\n",
        "~~~"
      ]
    },
    {
      "cell_type": "code",
      "metadata": {
        "colab": {
          "base_uri": "https://localhost:8080/",
          "height": 284
        },
        "id": "HD-yRfY8A0Ow",
        "outputId": "f23cbffa-a9dd-4abb-deea-0bf52157c2d1"
      },
      "source": [
        "import numpy as np\n",
        "import matplotlib.pyplot as plt\n",
        "\n",
        "N = 1000\n",
        "std = 5\n",
        "avg = 45\n",
        "\n",
        "a = []\n",
        "for i in range(1, 1001):\n",
        "    elem_stu = np.random.randn(N) * std + avg\n",
        "    stu_list = np.random.choice(elem_stu, 100, replace=True).mean()\n",
        "    a.append( stu_list )\n",
        "\n",
        "bins = list(range(40, 51, 1))\n",
        "plt.hist(a, bins, rwidth = 0.8, alpha=0.7, color = 'red')\n",
        "plt.grid(axis='y')\n",
        "plt.xticks(bins)         # x축 눈금 조절\n",
        "plt.show"
      ],
      "execution_count": 24,
      "outputs": [
        {
          "output_type": "execute_result",
          "data": {
            "text/plain": [
              "<function matplotlib.pyplot.show>"
            ]
          },
          "metadata": {
            "tags": []
          },
          "execution_count": 24
        },
        {
          "output_type": "display_data",
          "data": {
            "image/png": "[encoded data removed]",
            "text/plain": [
              "<Figure size 432x288 with 1 Axes>"
            ]
          },
          "metadata": {
            "tags": [],
            "needs_background": "light"
          }
        }
      ]
    },
    {
      "cell_type": "markdown",
      "metadata": {
        "id": "BMXW26DdCajG"
      },
      "source": [
        "#112. 리스트에서 특정 요소 개수 구하기(count)\n",
        "- 리스트.count('요소')은 객체 리스트에서 '요소'의 갯수를 구하는 메소드"
      ]
    },
    {
      "cell_type": "code",
      "metadata": {
        "colab": {
          "base_uri": "https://localhost:8080/"
        },
        "id": "nhggcRF5CqUf",
        "outputId": "9e04f4c1-3f86-44b7-e6a9-25dec11df3ed"
      },
      "source": [
        "box = ['yellow', 'yellow','red', 'red', 'red']\n",
        "box.count('red')"
      ],
      "execution_count": 25,
      "outputs": [
        {
          "output_type": "execute_result",
          "data": {
            "text/plain": [
              "3"
            ]
          },
          "metadata": {
            "tags": []
          },
          "execution_count": 25
        }
      ]
    },
    {
      "cell_type": "code",
      "metadata": {
        "colab": {
          "resources": {
            "http://localhost:8080/nbextensions/google.colab/files.js": {
              "data": "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",
              "ok": true,
              "headers": [
                [
                  "content-type",
                  "application/javascript"
                ]
              ],
              "status": 200,
              "status_text": ""
            }
          },
          "base_uri": "https://localhost:8080/",
          "height": 72
        },
        "id": "2zUgHsR5C1pm",
        "outputId": "81e96c63-37e8-48a5-eda0-ce98f04bb067"
      },
      "source": [
        "myfile = files.upload()"
      ],
      "execution_count": 26,
      "outputs": [
        {
          "output_type": "display_data",
          "data": {
            "text/html": [
              "\n",
              "     <input type=\"file\" id=\"files-2cba8f0d-d0ad-4105-a401-edb4784de1fa\" name=\"files[]\" multiple disabled\n",
              "        style=\"border:none\" />\n",
              "     <output id=\"result-2cba8f0d-d0ad-4105-a401-edb4784de1fa\">\n",
              "      Upload widget is only available when the cell has been executed in the\n",
              "      current browser session. Please rerun this cell to enable.\n",
              "      </output>\n",
              "      <script src=\"/nbextensions/google.colab/files.js\"></script> "
            ],
            "text/plain": [
              "<IPython.core.display.HTML object>"
            ]
          },
          "metadata": {
            "tags": []
          }
        },
        {
          "output_type": "stream",
          "text": [
            "Saving emp1222.csv to emp1222 (2).csv\n"
          ],
          "name": "stdout"
        }
      ]
    },
    {
      "cell_type": "markdown",
      "metadata": {
        "id": "tMRx8-02DAFA"
      },
      "source": [
        "**문제 336. 우리반 데이터의 나이를 비어있는 리스트 a에 입력하고 나서 우리반 나이 데이터 중에 27살이 몇명 있는지 출력하시오**"
      ]
    },
    {
      "cell_type": "code",
      "metadata": {
        "colab": {
          "base_uri": "https://localhost:8080/"
        },
        "id": "69Zxi6juDd5-",
        "outputId": "f9f17755-d412-47d8-a194-0ae3329023fb"
      },
      "source": [
        "file = open('emp1222.csv', encoding='CP949')\n",
        "emp_csv = csv.reader(file)\n",
        "a = []\n",
        "\n",
        "for emp_list in emp_csv:\n",
        "    a.append( int( emp_list[2] ) )\n",
        "\n",
        "a.count(27)"
      ],
      "execution_count": 27,
      "outputs": [
        {
          "output_type": "execute_result",
          "data": {
            "text/plain": [
              "5"
            ]
          },
          "metadata": {
            "tags": []
          },
          "execution_count": 27
        }
      ]
    },
    {
      "cell_type": "markdown",
      "metadata": {
        "id": "nxdwx733EJ5b"
      },
      "source": [
        "#113. 리스트 제거하기(del)\n",
        "- 리스트 자체를 메모리에서 제거하려면 del 명령어를 수행하면 가능"
      ]
    },
    {
      "cell_type": "code",
      "metadata": {
        "colab": {
          "base_uri": "https://localhost:8080/",
          "height": 198
        },
        "id": "4uCQ-vYiEQVg",
        "outputId": "b7336de6-d7cf-46ba-c172-fba14950b6ba"
      },
      "source": [
        "# 예제\n",
        "a = [ 1,2,3,3,3,4 ]\n",
        "del(a)\n",
        "print(a)  # a를 지웠기 때문에 없어졌다"
      ],
      "execution_count": 28,
      "outputs": [
        {
          "output_type": "error",
          "ename": "NameError",
          "evalue": "ignored",
          "traceback": [
            "\u001b[0;31m---------------------------------------------------------------------------\u001b[0m",
            "\u001b[0;31mNameError\u001b[0m                                 Traceback (most recent call last)",
            "\u001b[0;32m<ipython-input-28-d4af0252b6d5>\u001b[0m in \u001b[0;36m<module>\u001b[0;34m()\u001b[0m\n\u001b[1;32m      2\u001b[0m \u001b[0ma\u001b[0m \u001b[0;34m=\u001b[0m \u001b[0;34m[\u001b[0m \u001b[0;36m1\u001b[0m\u001b[0;34m,\u001b[0m\u001b[0;36m2\u001b[0m\u001b[0;34m,\u001b[0m\u001b[0;36m3\u001b[0m\u001b[0;34m,\u001b[0m\u001b[0;36m3\u001b[0m\u001b[0;34m,\u001b[0m\u001b[0;36m3\u001b[0m\u001b[0;34m,\u001b[0m\u001b[0;36m4\u001b[0m \u001b[0;34m]\u001b[0m\u001b[0;34m\u001b[0m\u001b[0;34m\u001b[0m\u001b[0m\n\u001b[1;32m      3\u001b[0m \u001b[0;32mdel\u001b[0m\u001b[0;34m(\u001b[0m\u001b[0ma\u001b[0m\u001b[0;34m)\u001b[0m\u001b[0;34m\u001b[0m\u001b[0;34m\u001b[0m\u001b[0m\n\u001b[0;32m----> 4\u001b[0;31m \u001b[0mprint\u001b[0m\u001b[0;34m(\u001b[0m\u001b[0ma\u001b[0m\u001b[0;34m)\u001b[0m  \u001b[0;31m# a를 지웠기 때문에 없어졌다\u001b[0m\u001b[0;34m\u001b[0m\u001b[0;34m\u001b[0m\u001b[0m\n\u001b[0m",
            "\u001b[0;31mNameError\u001b[0m: name 'a' is not defined"
          ]
        }
      ]
    },
    {
      "cell_type": "markdown",
      "metadata": {
        "id": "H66xfAGtFHJb"
      },
      "source": [
        "**문제 337. 파이썬에서 정의된 모든 변수들을 확인하시오**"
      ]
    },
    {
      "cell_type": "code",
      "metadata": {
        "colab": {
          "base_uri": "https://localhost:8080/"
        },
        "id": "6ohKlZvnFGBf",
        "outputId": "ec8e7d8f-9e6e-4aa8-f008-2a03d49442e9"
      },
      "source": [
        "a = [1,2,3,4,5]\n",
        "b = 'scott'\n",
        "c = 30\n",
        "\n",
        "print( dir() )   # 정의된 모든 변수를 확인하는 함수(그동안 변수 선언했던 변수도 나옴)"
      ],
      "execution_count": 29,
      "outputs": [
        {
          "output_type": "stream",
          "text": [
            "['In', 'N', 'Out', '_', '_18', '_19', '_20', '_21', '_23', '_24', '_25', '_27', '_4', '_5', '_6', '_7', '_9', '__', '___', '__builtin__', '__builtins__', '__doc__', '__loader__', '__name__', '__package__', '__spec__', '_dh', '_i', '_i1', '_i10', '_i11', '_i12', '_i13', '_i14', '_i15', '_i16', '_i17', '_i18', '_i19', '_i2', '_i20', '_i21', '_i22', '_i23', '_i24', '_i25', '_i26', '_i27', '_i28', '_i29', '_i3', '_i4', '_i5', '_i6', '_i7', '_i8', '_i9', '_ih', '_ii', '_iii', '_oh', '_sh', 'a', 'avg', 'b', 'bins', 'box', 'c', 'cnt', 'csv', 'elem_stu', 'emp_csv', 'emp_list', 'exit', 'file', 'files', 'get_ipython', 'i', 'list_a', 'myfile', 'np', 'plt', 'quit', 'random', 'result', 'shuffle', 'std', 'stu_list']\n"
          ],
          "name": "stdout"
        }
      ]
    },
    {
      "cell_type": "markdown",
      "metadata": {
        "id": "aGRAmfvUFzp3"
      },
      "source": [
        "#114. 리스트 요소 정렬하기 (sort)\n",
        "- list.sort()는 리스트 객체 list의 모든 요소를 정렬함"
      ]
    },
    {
      "cell_type": "code",
      "metadata": {
        "colab": {
          "base_uri": "https://localhost:8080/"
        },
        "id": "Dyso1LFaGdFS",
        "outputId": "afd7be95-737d-4aae-e6f0-c4bffca3c66e"
      },
      "source": [
        "# 예\n",
        "a = [2,4,1,3,5]\n",
        "a.sort()\n",
        "a"
      ],
      "execution_count": 30,
      "outputs": [
        {
          "output_type": "execute_result",
          "data": {
            "text/plain": [
              "[1, 2, 3, 4, 5]"
            ]
          },
          "metadata": {
            "tags": []
          },
          "execution_count": 30
        }
      ]
    },
    {
      "cell_type": "code",
      "metadata": {
        "colab": {
          "base_uri": "https://localhost:8080/"
        },
        "id": "S9lxja5oGgy-",
        "outputId": "24cedb8d-36a1-4d58-8880-9f042aae669e"
      },
      "source": [
        "# 역순으로 정렬\n",
        "a = [2,4,1,3,5]\n",
        "a.sort(reverse=True)\n",
        "a"
      ],
      "execution_count": 31,
      "outputs": [
        {
          "output_type": "execute_result",
          "data": {
            "text/plain": [
              "[5, 4, 3, 2, 1]"
            ]
          },
          "metadata": {
            "tags": []
          },
          "execution_count": 31
        }
      ]
    },
    {
      "cell_type": "markdown",
      "metadata": {
        "id": "o5Mtu2gYG6mq"
      },
      "source": [
        "**문제 338. emp2.csv에서 월급을 비어있는 리스트에 담고 월급을 역순으로 정렬하시오**"
      ]
    },
    {
      "cell_type": "code",
      "metadata": {
        "colab": {
          "resources": {
            "http://localhost:8080/nbextensions/google.colab/files.js": {
              "data": "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",
              "ok": true,
              "headers": [
                [
                  "content-type",
                  "application/javascript"
                ]
              ],
              "status": 200,
              "status_text": ""
            }
          },
          "base_uri": "https://localhost:8080/",
          "height": 310
        },
        "id": "U_9xPAWzHH5H",
        "outputId": "291d4289-ac62-4b1d-ee76-9d026a7cf7ef"
      },
      "source": [
        "file = files.upload()\n",
        "\n",
        "file = open('emp2.csv')\n",
        "emp_csv = csv.reader(file)\n",
        "sal_list = []\n",
        "\n",
        "for emp_list in emp_csv:\n",
        "    sal_list.append( int( emp_list[5] ) )\n",
        "\n",
        "sal_list.sort( reverse=True)\n",
        "sal_list"
      ],
      "execution_count": 32,
      "outputs": [
        {
          "output_type": "display_data",
          "data": {
            "text/html": [
              "\n",
              "     <input type=\"file\" id=\"files-908f229e-8679-4514-8fe1-742e588a0d3b\" name=\"files[]\" multiple disabled\n",
              "        style=\"border:none\" />\n",
              "     <output id=\"result-908f229e-8679-4514-8fe1-742e588a0d3b\">\n",
              "      Upload widget is only available when the cell has been executed in the\n",
              "      current browser session. Please rerun this cell to enable.\n",
              "      </output>\n",
              "      <script src=\"/nbextensions/google.colab/files.js\"></script> "
            ],
            "text/plain": [
              "<IPython.core.display.HTML object>"
            ]
          },
          "metadata": {
            "tags": []
          }
        },
        {
          "output_type": "stream",
          "text": [
            "Saving emp2.csv to emp2 (3).csv\n"
          ],
          "name": "stdout"
        },
        {
          "output_type": "execute_result",
          "data": {
            "text/plain": [
              "[5000,\n",
              " 3000,\n",
              " 3000,\n",
              " 2975,\n",
              " 2850,\n",
              " 2450,\n",
              " 1600,\n",
              " 1500,\n",
              " 1300,\n",
              " 1250,\n",
              " 1250,\n",
              " 1100,\n",
              " 950,\n",
              " 800]"
            ]
          },
          "metadata": {
            "tags": []
          },
          "execution_count": 32
        }
      ]
    },
    {
      "cell_type": "markdown",
      "metadata": {
        "id": "EOvK_PVuKTep"
      },
      "source": [
        "#115. 리스트 요소 정렬하기 (sorted)\n",
        "- 파이썬 내장함수 sorted()를 이용하여 리스트를 정렬할 수 있음\n",
        "- 리스트 객체의 sort()메소드와 다른 점은 리스트 객체의 sort는 원본 리스트를 정렬한 형태로 변경하지만\n",
        "- sorted()는 원본 리스트는 그대로 두고 정렬한 결과 리스트만 리턴함\n"
      ]
    },
    {
      "cell_type": "code",
      "metadata": {
        "colab": {
          "base_uri": "https://localhost:8080/"
        },
        "id": "Prs_i-SeMPbz",
        "outputId": "50e64808-69fd-4094-f8bf-867dbb976bf3"
      },
      "source": [
        "# 예제:\n",
        "a=[2,1,3,5,4]\n",
        "a.sort()\n",
        "a"
      ],
      "execution_count": 33,
      "outputs": [
        {
          "output_type": "execute_result",
          "data": {
            "text/plain": [
              "[1, 2, 3, 4, 5]"
            ]
          },
          "metadata": {
            "tags": []
          },
          "execution_count": 33
        }
      ]
    },
    {
      "cell_type": "code",
      "metadata": {
        "colab": {
          "base_uri": "https://localhost:8080/"
        },
        "id": "Jovh38M1MUF3",
        "outputId": "73a70228-457e-4b22-e4bd-79237af3b498"
      },
      "source": [
        "a=[2,1,3,5,4]\n",
        "b= sorted(a)\n",
        "print( b )\n",
        "print( a )"
      ],
      "execution_count": 34,
      "outputs": [
        {
          "output_type": "stream",
          "text": [
            "[1, 2, 3, 4, 5]\n",
            "[2, 1, 3, 5, 4]\n"
          ],
          "name": "stdout"
        }
      ]
    },
    {
      "cell_type": "markdown",
      "metadata": {
        "id": "DhUqvPc8My45"
      },
      "source": [
        "#116. 리스트 요소 무작위로 섞기(shuffle)\n",
        "- 파이썬 기본 모듈인 random은 난수를 발생하는 모듈임\n",
        "- 이 모듈이 제공하는 shuffle은 리스트의 요소를 무작위로 섞는데 활용\n"
      ]
    },
    {
      "cell_type": "code",
      "metadata": {
        "colab": {
          "base_uri": "https://localhost:8080/"
        },
        "id": "uXTdfbJxNFoM",
        "outputId": "fa546d4a-4029-4b28-e0ba-5050abf97a54"
      },
      "source": [
        "# 예제\n",
        "from random import shuffle\n",
        "a = [1,2,3,4,5,6,7,8,9,10]\n",
        "shuffle( a )\n",
        "print( a )"
      ],
      "execution_count": 35,
      "outputs": [
        {
          "output_type": "stream",
          "text": [
            "[6, 2, 10, 4, 3, 8, 5, 7, 9, 1]\n"
          ],
          "name": "stdout"
        }
      ]
    },
    {
      "cell_type": "markdown",
      "metadata": {
        "id": "1Jn3DR9eNktR"
      },
      "source": [
        "**문제 339. artist라는 리스트에 가수이름들을 추가하고 music 리스트에 음악 리스트를 추가하시오**"
      ]
    },
    {
      "cell_type": "code",
      "metadata": {
        "id": "_URe-o1sNwPL"
      },
      "source": [
        "artist = ['비틀즈', '비틀즈', '아이유', '아이유', '마이클 잭슨', '마이클 잭슨']\n",
        "music = ['yesterday', 'imagine', '너랑나', '마쉬멜로우', 'beat it', 'smooth criminal']"
      ],
      "execution_count": 36,
      "outputs": []
    },
    {
      "cell_type": "markdown",
      "metadata": {
        "id": "uBdS58YyOzcQ"
      },
      "source": [
        "**문제 340. 아래의 artist를 키로 하고 music을 값으로 해서 dictionary를 구성하시오**  \n",
        "~~~\n",
        "gini = {'비틀즈':'yesterday', '아이유':'너랑나', '마이클 잭슨':'beat it'}\n",
        "~~~"
      ]
    },
    {
      "cell_type": "code",
      "metadata": {
        "colab": {
          "base_uri": "https://localhost:8080/"
        },
        "id": "7QCiRG1hO6_N",
        "outputId": "4abfa35e-376b-4fe4-b30d-b842a2684f86"
      },
      "source": [
        "gini = {}    # 비어있는 dictionary를 gini라는 이름으로 생성\n",
        "\n",
        "gini['비틀즈'] = 'yesterday'\n",
        "    # [key]      'value'\n",
        "gini['아이유'] = '너랑나'\n",
        "gini['마이클 잭슨'] = 'beat it'\n",
        "\n",
        "print( gini )"
      ],
      "execution_count": 37,
      "outputs": [
        {
          "output_type": "stream",
          "text": [
            "{'비틀즈': 'yesterday', '아이유': '너랑나', '마이클 잭슨': 'beat it'}\n"
          ],
          "name": "stdout"
        }
      ]
    },
    {
      "cell_type": "markdown",
      "metadata": {
        "id": "Jrrv2p8HRU8E"
      },
      "source": [
        "**문제 341. 아래의 2개의 리스트를 이용하여 for 문과 zip을 이용해서 한번에 gini dictionary를 구성하시오**\n",
        "~~~\n",
        "artist = ['비틀즈', '아이유', '마이클 잭슨']\n",
        "music = ['yesterday', '너랑나', 'beat it']\n",
        "~~~"
      ]
    },
    {
      "cell_type": "code",
      "metadata": {
        "colab": {
          "base_uri": "https://localhost:8080/"
        },
        "id": "-ehz711SRqQJ",
        "outputId": "46f5f118-15ef-47c4-ba29-d9a1c0ef616d"
      },
      "source": [
        "artist = ['비틀즈', '아이유', '마이클 잭슨']\n",
        "music = ['yesterday', '너랑나', 'beat it']\n",
        "\n",
        "gini = {}\n",
        "\n",
        "for i, k in zip( artist, music ):\n",
        "    gini[i] = k\n",
        "\n",
        "print( gini )"
      ],
      "execution_count": 38,
      "outputs": [
        {
          "output_type": "stream",
          "text": [
            "{'비틀즈': 'yesterday', '아이유': '너랑나', '마이클 잭슨': 'beat it'}\n"
          ],
          "name": "stdout"
        }
      ]
    },
    {
      "cell_type": "markdown",
      "metadata": {
        "id": "q2RWWUZjSZt8"
      },
      "source": [
        "#117. 리스트의 모든 요소를 인덱스와 쌍으로 추출하기 (enumerate)\n",
        "- 파이썬 내장함수 enumerate()는 시퀀스 자료형을 인자로 받아 각 요소를 인덱스와 함께 쌍으로 추출할 수 있는 반복가능한 자료인 enumerate 객체를 리턴함\n",
        "- enumerate 객체는 주로 for문과 함께 자주 사용되고 list()를 이용해서 리스트 객체를 변환할 수 있음"
      ]
    },
    {
      "cell_type": "code",
      "metadata": {
        "colab": {
          "base_uri": "https://localhost:8080/"
        },
        "id": "3ST3hC9KTW0E",
        "outputId": "b8b6b58b-ae36-4028-8989-3292e630f64a"
      },
      "source": [
        "# 예제 1\n",
        "emp12 = ['김영희', '김승지', '김철수', '권영수']\n",
        "result = list( enumerate( emp12 ) )\n",
        "result"
      ],
      "execution_count": 39,
      "outputs": [
        {
          "output_type": "execute_result",
          "data": {
            "text/plain": [
              "[(0, '김영희'), (1, '김승지'), (2, '김철수'), (3, '권영수')]"
            ]
          },
          "metadata": {
            "tags": []
          },
          "execution_count": 39
        }
      ]
    },
    {
      "cell_type": "code",
      "metadata": {
        "colab": {
          "base_uri": "https://localhost:8080/"
        },
        "id": "ujZCvE80UBBW",
        "outputId": "cae69b82-0c84-4fc6-cba3-6526cc44decd"
      },
      "source": [
        "# 예제 2\n",
        "emp12 = ['김영희', '김승지', '김철수', '권영수']\n",
        "for i, k in enumerate( emp12 ):  # enumerate 를 쓰면 인덱스 번호가 자동으로 생성 됨\n",
        "    print( i, k )"
      ],
      "execution_count": 40,
      "outputs": [
        {
          "output_type": "stream",
          "text": [
            "0 김영희\n",
            "1 김승지\n",
            "2 김철수\n",
            "3 권영수\n"
          ],
          "name": "stdout"
        }
      ]
    },
    {
      "cell_type": "markdown",
      "metadata": {
        "id": "4wwq_ADdU4Qk"
      },
      "source": [
        "**문제 342. 아래의 music 리스트에서 요소를 하나씩 빼내는데 앞에 index 번호도 같이 출력되게 하시오**\n",
        "~~~\n",
        "music = ['yesterday', 'imagine', '너랑나', '마쉬멜로우', 'beat it', 'smooth criminal']\n",
        "\n",
        "결과: \n",
        "0 yesterday\n",
        "1 imagine\n",
        "2 너랑 나\n",
        "3 마쉬멜로우\n",
        "4 beat it\n",
        "5 smooth criminal\n",
        "~~~"
      ]
    },
    {
      "cell_type": "code",
      "metadata": {
        "colab": {
          "base_uri": "https://localhost:8080/"
        },
        "id": "fcGRdkELUt9m",
        "outputId": "b981e3c2-f4d8-438f-bd91-e41e3a8d8d0f"
      },
      "source": [
        "music = ['yesterday', 'imagine', '너랑나', '마쉬멜로우', 'beat it', 'smooth criminal']\n",
        "\n",
        "for i, k in enumerate( music):\n",
        "    print(i, k)"
      ],
      "execution_count": 41,
      "outputs": [
        {
          "output_type": "stream",
          "text": [
            "0 yesterday\n",
            "1 imagine\n",
            "2 너랑나\n",
            "3 마쉬멜로우\n",
            "4 beat it\n",
            "5 smooth criminal\n"
          ],
          "name": "stdout"
        }
      ]
    },
    {
      "cell_type": "markdown",
      "metadata": {
        "id": "xLGTfdv_ZwGf"
      },
      "source": [
        "**문제 343. artist 리스트를 가지고 아래와 같이 결과를 출력하시오**\n",
        "~~~\n",
        "artist = ['비틀즈', '비틀즈', '아이유', '아이유', '마이클 잭슨', '마이클 잭슨']\n",
        "결과:\n",
        "비틀즈  0\n",
        "비틀즈  1\n",
        "아이유  2\n",
        "아이유  3\n",
        "마이클 잭슨 4\n",
        "마이클 잭슨 5\n",
        "~~~"
      ]
    },
    {
      "cell_type": "code",
      "metadata": {
        "colab": {
          "base_uri": "https://localhost:8080/"
        },
        "id": "KQdUBqIeZ1tY",
        "outputId": "352f845b-d1bd-4f15-bc68-dacc7521fbda"
      },
      "source": [
        "artist = ['비틀즈', '비틀즈', '아이유', '아이유', '마이클 잭슨', '마이클 잭슨']\n",
        "for i, k in enumerate(artist):\n",
        "    print(k, i)"
      ],
      "execution_count": 43,
      "outputs": [
        {
          "output_type": "stream",
          "text": [
            "비틀즈 0\n",
            "비틀즈 1\n",
            "아이유 2\n",
            "아이유 3\n",
            "마이클 잭슨 4\n",
            "마이클 잭슨 5\n"
          ],
          "name": "stdout"
        }
      ]
    },
    {
      "cell_type": "markdown",
      "metadata": {
        "id": "claj5Bp4auWC"
      },
      "source": [
        "**문제 344. 아래의 두개의 리스트를 가지고 아래와 같이 결과를 출력하시오**\n",
        "~~~\n",
        "music = ['yesterday', 'imagine', '너랑나', '마쉬멜로우', 'beat it', 'smooth criminal']\n",
        "artist = ['비틀즈', '비틀즈', '아이유', '아이유', '마이클 잭슨', '마이클 잭슨']\n",
        "\n",
        "비틀즈 yesterday\n",
        "비틀즈 imagine\n",
        "아이유 너랑나\n",
        "아이유 마쉬멜로우\n",
        "마이클 잭슨 beat it\n",
        "마이클 잭슨 smooth criminal\n",
        "~~~"
      ]
    },
    {
      "cell_type": "code",
      "metadata": {
        "colab": {
          "base_uri": "https://localhost:8080/"
        },
        "id": "tdPWRSa5bLj5",
        "outputId": "3cb45ecf-f88d-4f6e-c5e8-fc31b6c76b74"
      },
      "source": [
        "music = ['yesterday', 'imagine', '너랑나', '마쉬멜로우', 'beat it', 'smooth criminal']\n",
        "artist = ['비틀즈', '비틀즈', '아이유', '아이유', '마이클 잭슨', '마이클 잭슨']\n",
        "\n",
        "for i, k in enumerate(artist):\n",
        "    print( k, music[i] )"
      ],
      "execution_count": 44,
      "outputs": [
        {
          "output_type": "stream",
          "text": [
            "비틀즈 yesterday\n",
            "비틀즈 imagine\n",
            "아이유 너랑나\n",
            "아이유 마쉬멜로우\n",
            "마이클 잭슨 beat it\n",
            "마이클 잭슨 smooth criminal\n"
          ],
          "name": "stdout"
        }
      ]
    },
    {
      "cell_type": "markdown",
      "metadata": {
        "id": "GeVfKz6acIn9"
      },
      "source": [
        "최종:\n",
        "~~~\n",
        "{'비틀즈': ['yesterday', 'imagine'], '아이유': ['너랑나', '마쉬멜로우'], '마이클 잭슨' :  ['beat it', 'smooth criminal']}\n",
        "~~~\n",
        "- 위와 같이 딕셔너리를 구성하려면 그냥 딕셔너리인 중괄호 하나로 { }비어 있는 딕셔너리를 만들순 없고 defaultdict을 이용해야 함\n",
        "- defaultdict는 collections 패키지에 있어서 아래와 같이 import해야 함"
      ]
    },
    {
      "cell_type": "code",
      "metadata": {
        "colab": {
          "base_uri": "https://localhost:8080/"
        },
        "id": "HGL5J4fFdY7o",
        "outputId": "c30fe058-c21a-432b-ac2d-643dfec71ada"
      },
      "source": [
        "from collections import defaultdict\n",
        "gini = defaultdict(list)\n",
        "gini['비틀즈'].append('yesterday')\n",
        "print(gini)\n",
        "gini['비틀즈'].append('imagine')\n",
        "print(gini)"
      ],
      "execution_count": 45,
      "outputs": [
        {
          "output_type": "stream",
          "text": [
            "defaultdict(<class 'list'>, {'비틀즈': ['yesterday']})\n",
            "defaultdict(<class 'list'>, {'비틀즈': ['yesterday', 'imagine']})\n"
          ],
          "name": "stdout"
        }
      ]
    },
    {
      "cell_type": "markdown",
      "metadata": {
        "id": "gOMEGwIzd479"
      },
      "source": [
        "**문제 345. default 딕셔너리에 아이유를 키로 하고 너랑나, 마쉬멜로우를 값으로 해서 추가하시오**\n",
        "~~~\n",
        "{'비틀즈': ['yesterday', 'imagine'], '아이유':['너랑나', '마쉬멜로우'}\n",
        "~~~"
      ]
    },
    {
      "cell_type": "code",
      "metadata": {
        "colab": {
          "base_uri": "https://localhost:8080/"
        },
        "id": "Jd31WcR6eVhJ",
        "outputId": "13916a4a-8632-4548-dacf-3fc7e8aba913"
      },
      "source": [
        "from collections import defaultdict\n",
        "gini = defaultdict(list)\n",
        "\n",
        "gini['비틀즈'].append('yesterday')\n",
        "gini['비틀즈'].append('imagine')\n",
        "gini['아이유'].append('너랑나')\n",
        "gini['아이유'].append('마쉬멜로우')\n",
        "gini['마이클 잭슨'].append('beat it')\n",
        "gini['마이클 잭슨'].append('smooth criminal')\n",
        "\n",
        "print(gini)"
      ],
      "execution_count": 46,
      "outputs": [
        {
          "output_type": "stream",
          "text": [
            "defaultdict(<class 'list'>, {'비틀즈': ['yesterday', 'imagine'], '아이유': ['너랑나', '마쉬멜로우'], '마이클 잭슨': ['beat it', 'smooth criminal']})\n"
          ],
          "name": "stdout"
        }
      ]
    },
    {
      "cell_type": "markdown",
      "metadata": {
        "id": "6Evhu7Q7fIgI"
      },
      "source": [
        "**문제 346. 위와 같이 일일이 손으로 노가다 하지 말고 enumerate를 이용해서 gini 딕셔너리를 구성하시오**\n"
      ]
    },
    {
      "cell_type": "code",
      "metadata": {
        "colab": {
          "base_uri": "https://localhost:8080/"
        },
        "id": "r8rk3qCZfTSB",
        "outputId": "7b37fcc7-ec68-42ee-da16-822b93818fdb"
      },
      "source": [
        "from collections import defaultdict\n",
        "\n",
        "music = ['yesterday', 'imagine', '너랑나', '마쉬멜로우', 'beat it', 'smooth criminal']\n",
        "artist = ['비틀즈', '비틀즈', '아이유', '아이유', '마이클 잭슨', '마이클 잭슨']\n",
        "\n",
        "gini = defaultdict(list)\n",
        "\n",
        "for i, k in enumerate(artist):\n",
        "    gini[k].append(music[i])\n",
        "gini"
      ],
      "execution_count": 47,
      "outputs": [
        {
          "output_type": "execute_result",
          "data": {
            "text/plain": [
              "defaultdict(list,\n",
              "            {'마이클 잭슨': ['beat it', 'smooth criminal'],\n",
              "             '비틀즈': ['yesterday', 'imagine'],\n",
              "             '아이유': ['너랑나', '마쉬멜로우']})"
            ]
          },
          "metadata": {
            "tags": []
          },
          "execution_count": 47
        }
      ]
    },
    {
      "cell_type": "markdown",
      "metadata": {
        "id": "lpRPYAskgtxE"
      },
      "source": [
        "**문제 347. 위의 gini 딕셔너리에서 음악만 추출하시오(딕셔너리의 값만 추출)**  \n",
        "딕셔너리에서 키 값을 추출할 때: 딕셔너리이름.keys()  \n",
        "딕셔너리에서 값 만을 추출할 때: 딕셔너리이름.values()\n"
      ]
    },
    {
      "cell_type": "code",
      "metadata": {
        "colab": {
          "base_uri": "https://localhost:8080/"
        },
        "id": "uBpJ8OY0hFfb",
        "outputId": "8fd1f76a-ddf2-4442-b0b0-164e218acc5a"
      },
      "source": [
        "for i in gini.values():\n",
        "    print(i)"
      ],
      "execution_count": 48,
      "outputs": [
        {
          "output_type": "stream",
          "text": [
            "['yesterday', 'imagine']\n",
            "['너랑나', '마쉬멜로우']\n",
            "['beat it', 'smooth criminal']\n"
          ],
          "name": "stdout"
        }
      ]
    },
    {
      "cell_type": "code",
      "metadata": {
        "colab": {
          "base_uri": "https://localhost:8080/"
        },
        "id": "jrLt9GVLhaQn",
        "outputId": "f519e8a8-8ae5-4ef8-9314-2191770d4185"
      },
      "source": [
        "for i in gini.values():  \n",
        "    # for loop 1회: ['yesterday', 'imagine']\n",
        "    # for loop 2회: ['너랑나', '마쉬멜로우']\n",
        "    # for loop 3회: ['beat it', 'smooth criminal']\n",
        "    for k in i:\n",
        "        # for loop 1-1회: 'yester'\n",
        "        # for loop 1-1회: 'imagine'\n",
        "        print(k)"
      ],
      "execution_count": 49,
      "outputs": [
        {
          "output_type": "stream",
          "text": [
            "yesterday\n",
            "imagine\n",
            "너랑나\n",
            "마쉬멜로우\n",
            "beat it\n",
            "smooth criminal\n"
          ],
          "name": "stdout"
        }
      ]
    },
    {
      "cell_type": "markdown",
      "metadata": {
        "id": "vEM1M-_XiCZS"
      },
      "source": [
        "**문제 348. 위의 코드 음악들을 비어있는 리트스인 a에 담으시오**"
      ]
    },
    {
      "cell_type": "code",
      "metadata": {
        "colab": {
          "base_uri": "https://localhost:8080/"
        },
        "id": "STSBGaOXiIaO",
        "outputId": "2b943579-0402-485e-ce06-948a4594aaa4"
      },
      "source": [
        "a=[]\n",
        "for i in gini.values():  \n",
        "    for k in i:\n",
        "        a.append(k)\n",
        "a"
      ],
      "execution_count": 50,
      "outputs": [
        {
          "output_type": "execute_result",
          "data": {
            "text/plain": [
              "['yesterday', 'imagine', '너랑나', '마쉬멜로우', 'beat it', 'smooth criminal']"
            ]
          },
          "metadata": {
            "tags": []
          },
          "execution_count": 50
        }
      ]
    },
    {
      "cell_type": "markdown",
      "metadata": {
        "id": "7N2kD-dUmrql"
      },
      "source": [
        "**문제 349. 아래의 코드를 수행해서 gini.values() 요소들을 프린트 해보시오**"
      ]
    },
    {
      "cell_type": "code",
      "metadata": {
        "colab": {
          "base_uri": "https://localhost:8080/"
        },
        "id": "uNuBFpugmyOk",
        "outputId": "34c0bbbc-9864-4d7d-83a3-9ead093665cc"
      },
      "source": [
        "from collections import defaultdict\n",
        "\n",
        "music = ['yesterday', 'imagine', '너랑나', '마쉬멜로우', 'beat it', 'smooth criminal']\n",
        "artist = ['비틀즈', '비틀즈', '아이유', '아이유', '마이클 잭슨', '마이클 잭슨']\n",
        "\n",
        "gini = defaultdict(list)\n",
        "\n",
        "for i, k in enumerate(artist):\n",
        "    gini[k].append(music[i])\n",
        "\n",
        "for j in gini.values():\n",
        "    print(j)"
      ],
      "execution_count": 53,
      "outputs": [
        {
          "output_type": "stream",
          "text": [
            "['yesterday', 'imagine']\n",
            "['너랑나', '마쉬멜로우']\n",
            "['beat it', 'smooth criminal']\n"
          ],
          "name": "stdout"
        }
      ]
    },
    {
      "cell_type": "code",
      "metadata": {
        "colab": {
          "base_uri": "https://localhost:8080/"
        },
        "id": "da9nfdxJnH9L",
        "outputId": "cfec7721-af62-411c-efa2-db9fa4be22d5"
      },
      "source": [
        "for j in gini.values():\n",
        "    print(j[0])"
      ],
      "execution_count": 54,
      "outputs": [
        {
          "output_type": "stream",
          "text": [
            "yesterday\n",
            "너랑나\n",
            "beat it\n"
          ],
          "name": "stdout"
        }
      ]
    },
    {
      "cell_type": "markdown",
      "metadata": {
        "id": "BNf4QF28oHva"
      },
      "source": [
        "**문제 350. 아래와 같이 결과가 출력하시오! 바로 옆에 다른 아티스트의 노래가 나와줘야 함(문자열 출력)**\n",
        "~~~\n",
        "yesterday, 너랑나, beat it, imagine, 마쉬멜로우, smooth criminal\n",
        "~~~"
      ]
    },
    {
      "cell_type": "code",
      "metadata": {
        "colab": {
          "base_uri": "https://localhost:8080/"
        },
        "id": "KCvtMPZOnM1H",
        "outputId": "32d5ab83-a59d-479c-9fee-deafeab6c1ba"
      },
      "source": [
        "from collections import defaultdict\n",
        "\n",
        "music = ['yesterday', 'imagine', '너랑나', '마쉬멜로우', 'beat it', 'smooth criminal']\n",
        "artist = ['비틀즈', '비틀즈', '아이유', '아이유', '마이클 잭슨', '마이클 잭슨']\n",
        "gini = defaultdict(list)\n",
        "a = []\n",
        "\n",
        "for i, k in enumerate(artist):\n",
        "    gini[k].append(music[i])\n",
        "\n",
        "for i in gini.values():\n",
        "    for k in i:\n",
        "        a.append(k)\n",
        "print(a[0]+', '+a[2]+', '+a[4]+', '+a[1]+', '+a[3]+', '+a[5])"
      ],
      "execution_count": 121,
      "outputs": [
        {
          "output_type": "stream",
          "text": [
            "yesterday, 너랑나, beat it, imagine, 마쉬멜로우, smooth criminal\n"
          ],
          "name": "stdout"
        }
      ]
    }
  ]
}