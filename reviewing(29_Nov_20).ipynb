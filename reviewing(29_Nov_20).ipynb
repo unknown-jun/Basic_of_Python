{
  "nbformat": 4,
  "nbformat_minor": 0,
  "metadata": {
    "colab": {
      "name": "reviewing(29_Nov_20).ipynb",
      "provenance": [],
      "authorship_tag": "ABX9TyNTrR/bv/bxRcXodnf5nB0s",
      "include_colab_link": true
    },
    "kernelspec": {
      "name": "python3",
      "display_name": "Python 3"
    }
  },
  "cells": [
    {
      "cell_type": "markdown",
      "metadata": {
        "id": "view-in-github",
        "colab_type": "text"
      },
      "source": [
        "<a href=\"https://colab.research.google.com/github/unknown-jun/Basic_of_Python/blob/master/reviewing(29_Nov_20).ipynb\" target=\"_parent\"><img src=\"https://colab.research.google.com/assets/colab-badge.svg\" alt=\"Open In Colab\"/></a>"
      ]
    },
    {
      "cell_type": "markdown",
      "metadata": {
        "id": "D1Sd6ngy-ovl"
      },
      "source": [
        "#**대입 연산자**\n",
        "\n",
        "- 변수에 값을 대입할 때 사용하는 기호는 =\n",
        "- 대입 연산자와 일반 연산자를 비교\n",
        "\n",
        "\n",
        "> 1. =: 대입연산자\n",
        "> 2. ==: 같다\n",
        "> 3. in: 여러개의 값을 비교\n",
        "\n"
      ]
    },
    {
      "cell_type": "markdown",
      "metadata": {
        "id": "D6HTJyNc_V16"
      },
      "source": [
        "**1. 주사위를 10번 던져서 주사위의 눈이 3이 나오는 횟수를 출력하시오**"
      ]
    },
    {
      "cell_type": "code",
      "metadata": {
        "colab": {
          "base_uri": "https://localhost:8080/"
        },
        "id": "cMx2o4Qb9tQ4",
        "outputId": "ad4c2d5d-fd49-4dc5-a7f8-7710123e1c63"
      },
      "source": [
        "import random as rd\n",
        "\n",
        "dice = (1,2,3,4,5,6)\n",
        "cnt = 0\n",
        "\n",
        "for i in range(1, 11):\n",
        "    random_dice = rd.choice(dice)\n",
        "    if random_dice == 3:\n",
        "        cnt += 1\n",
        "\n",
        "print(cnt)"
      ],
      "execution_count": 1,
      "outputs": [
        {
          "output_type": "stream",
          "text": [
            "3\n"
          ],
          "name": "stdout"
        }
      ]
    },
    {
      "cell_type": "markdown",
      "metadata": {
        "id": "5_3DYGFYHLBO"
      },
      "source": [
        "**2. 주사위 2개를 동시에 20회 던져 두 주사위 눈의 합이 10이 되는 횟수를 구하시오**"
      ]
    },
    {
      "cell_type": "code",
      "metadata": {
        "colab": {
          "base_uri": "https://localhost:8080/"
        },
        "id": "z3L5F6KKHZhs",
        "outputId": "4a7c01c1-370f-4d05-da78-827268ea5482"
      },
      "source": [
        "import random as rd\n",
        "\n",
        "dice = (1, 2, 3, 4, 5, 6)\n",
        "cnt = 0\n",
        "\n",
        "for i in range(1, 21):\n",
        "    random_dice1 = rd.choice(dice)\n",
        "    random_dice2 = rd.choice(dice)\n",
        "    if random_dice1 + random_dice2 == 10:\n",
        "        cnt += 1\n",
        "\n",
        "print(cnt,'\\n')\n",
        "\n",
        "# 다른 방법!\n",
        "\n",
        "dice = [1, 2, 3, 4, 5, 6]\n",
        "cnt = []\n",
        "\n",
        "for i in range(20):\n",
        "    random_dice1 = rd.choice(dice)\n",
        "    random_dice2 = rd.choice(dice)\n",
        "    total = random_dice1 + random_dice2\n",
        "    \n",
        "    if total == 10:\n",
        "        cnt.append(total)\n",
        "\n",
        "print(len(cnt))"
      ],
      "execution_count": 10,
      "outputs": [
        {
          "output_type": "stream",
          "text": [
            "1 \n",
            "\n",
            "2\n"
          ],
          "name": "stdout"
        }
      ]
    },
    {
      "cell_type": "markdown",
      "metadata": {
        "id": "if5SiBVsI28C"
      },
      "source": [
        "**3.  주사위 2개를 동시에 던져서 두 눈의 합이 10이 되는 확률을 출력하시오**"
      ]
    },
    {
      "cell_type": "code",
      "metadata": {
        "colab": {
          "base_uri": "https://localhost:8080/"
        },
        "id": "ZsnSnNNyI9Qe",
        "outputId": "0fc9349d-f119-4f5b-f2df-abf60a146619"
      },
      "source": [
        "import random as rd\n",
        "\n",
        "dice = (1, 2, 3, 4, 5, 6)\n",
        "cnt = 0\n",
        "count = 0\n",
        "\n",
        "for i in range(1, 21):\n",
        "    count += 1\n",
        "    random_dice1 = rd.choice(dice)\n",
        "    random_dice2 = rd.choice(dice)\n",
        "    if random_dice1 + random_dice2 == 10:\n",
        "        cnt += 1\n",
        "\n",
        "print(cnt/count,'\\n')\n",
        "\n",
        "# 다른 방법!\n",
        "\n",
        "dice = [1, 2, 3, 4, 5, 6]\n",
        "cnt = []\n",
        "count = 0\n",
        "\n",
        "for i in range(20):\n",
        "    count += 1\n",
        "    random_dice1 = rd.choice(dice)\n",
        "    random_dice2 = rd.choice(dice)\n",
        "    total = random_dice1 + random_dice2\n",
        "    \n",
        "    if total == 10:\n",
        "        cnt.append(total)\n",
        "\n",
        "print(len(cnt)/count)"
      ],
      "execution_count": 12,
      "outputs": [
        {
          "output_type": "stream",
          "text": [
            "0.1 \n",
            "\n",
            "0.25\n"
          ],
          "name": "stdout"
        }
      ]
    },
    {
      "cell_type": "markdown",
      "metadata": {
        "id": "1Vl25aIcJbJB"
      },
      "source": [
        "#**사칙연산 이해하기**\n",
        "\n",
        "|사칙연산|기호|\n",
        "|:----:|:--:|\n",
        "|덧셈| + |\n",
        "|뺄셈| - |\n",
        "|곱셈| * |\n",
        "|나눗셈| / |\n",
        "|나머지 구하기| % |\n",
        "|제곱|pow(2,3), 2**3|\n",
        "|제곱근|(import math) sqrt|\n",
        "|log2| (import math) log2|"
      ]
    },
    {
      "cell_type": "markdown",
      "metadata": {
        "id": "zCPtod3BK7YM"
      },
      "source": [
        "**4. 아래의 수학식을 파이썬으로 구현하시오**\n",
        "\n",
        "\n",
        "**2 X log<sub>2</sub>10 + 1/3 X log<sub>2</sub>10**"
      ]
    },
    {
      "cell_type": "code",
      "metadata": {
        "colab": {
          "base_uri": "https://localhost:8080/"
        },
        "id": "SUDje5-iH-UF",
        "outputId": "5b545876-faa0-4fd0-e3c0-1ed4c4659359"
      },
      "source": [
        "import math\n",
        "\n",
        "print( 2 * math.log2(10) + 1/3 * math.log2(10))"
      ],
      "execution_count": 15,
      "outputs": [
        {
          "output_type": "stream",
          "text": [
            "7.751165554737178\n"
          ],
          "name": "stdout"
        }
      ]
    },
    {
      "cell_type": "markdown",
      "metadata": {
        "id": "iz2uE8u2LzU2"
      },
      "source": [
        "#**연산자 축약**\n",
        "\n",
        "> cnt = cnt + 1 ----> cnt += 1\n",
        "\n",
        "> cnt = cnt - 1 ----> cnt -= 1\n",
        "\n",
        "> cnt = cnt * 1 ----> cnt *= 1\n",
        "\n",
        "> cnt = cnt / 1 ----> cnt /= 1"
      ]
    },
    {
      "cell_type": "markdown",
      "metadata": {
        "id": "bu4VZ7ixMUgu"
      },
      "source": [
        "**5. 주사위 10번 던져서 주사위의 눈이 3이 나오는 횟수를 출력하시오(축약 연산자를 이용해서 출력하시오)**"
      ]
    },
    {
      "cell_type": "code",
      "metadata": {
        "colab": {
          "base_uri": "https://localhost:8080/"
        },
        "id": "3RrpIDhjMY1D",
        "outputId": "a75e876a-6ecc-4559-d688-01c3c456666a"
      },
      "source": [
        "import random as rd\n",
        "\n",
        "dice = (1, 2, 3, 4, 5, 6)\n",
        "cnt = 0\n",
        "\n",
        "for i in range(1, 11):\n",
        "    random_dice = rd.choice(dice)\n",
        "    if random_dice == 3:\n",
        "        cnt += 1\n",
        "\n",
        "print(cnt)"
      ],
      "execution_count": 17,
      "outputs": [
        {
          "output_type": "stream",
          "text": [
            "4\n"
          ],
          "name": "stdout"
        }
      ]
    },
    {
      "cell_type": "markdown",
      "metadata": {
        "id": "-WBNsbMeMuQj"
      },
      "source": [
        "**True와 False 이해하기**\n",
        "\n",
        "- 참을 나타내는 것이 True, 거짓을 나타내는 것이 False\n",
        "- 그 조건을 판단해서 조건을 참이면 True, 거짓이면 False을 반환\n",
        "- True = 1\n",
        "- False =0 "
      ]
    },
    {
      "cell_type": "code",
      "metadata": {
        "colab": {
          "base_uri": "https://localhost:8080/"
        },
        "id": "4yCazC0HMsbk",
        "outputId": "2922d8d3-edde-48c1-aa82-510da2e2e58a"
      },
      "source": [
        "a = True\n",
        "b = False\n",
        "print(b + b)\n",
        "print(a + b)\n",
        "print(1 == 1)\n",
        "print(1 == 2)"
      ],
      "execution_count": 19,
      "outputs": [
        {
          "output_type": "stream",
          "text": [
            "0\n",
            "1\n",
            "True\n",
            "False\n"
          ],
          "name": "stdout"
        }
      ]
    },
    {
      "cell_type": "markdown",
      "metadata": {
        "id": "M4x-6v5AO44O"
      },
      "source": [
        "**6. 주사위 한개를 288회 던질 때, 5 이상의 눈이 나오는 횟수가 90 이상 100이하 나올 확률을 구하시오**"
      ]
    },
    {
      "cell_type": "code",
      "metadata": {
        "colab": {
          "base_uri": "https://localhost:8080/"
        },
        "id": "Zn8-b8AuO7AI",
        "outputId": "e53ac2db-d141-4ff1-fcb1-4b25a9192a8f"
      },
      "source": [
        "import random as rd\n",
        "\n",
        "dice = (1, 2, 3, 4, 5, 6)\n",
        "cnt = 0\n",
        "percent = 0\n",
        "\n",
        "for i in range(288):\n",
        "    random_dice = rd.choice(dice)\n",
        "    if random_dice >= 5:\n",
        "        cnt += 1\n",
        "        if 90 <= cnt <= 100:\n",
        "            percent +=1\n",
        "\n",
        "print( percent/ 288)"
      ],
      "execution_count": 26,
      "outputs": [
        {
          "output_type": "stream",
          "text": [
            "0.03819444444444445\n"
          ],
          "name": "stdout"
        }
      ]
    },
    {
      "cell_type": "markdown",
      "metadata": {
        "id": "9h6xLOuCRa4S"
      },
      "source": [
        "**7. 주사위 한개를 288회 던질 때 5 이상의 눈이 나올 횟수를 출력하는데 이 작업을 10번해서 얼마나 횟수가 나왔는지를 출력하시오**"
      ]
    },
    {
      "cell_type": "code",
      "metadata": {
        "colab": {
          "base_uri": "https://localhost:8080/"
        },
        "id": "EwqRrZaZRam1",
        "outputId": "da259d4b-3c1c-4347-f15b-5d286a039122"
      },
      "source": [
        "import random as rd\n",
        "\n",
        "dice = (1, 2, 3, 4, 5, 6)\n",
        "\n",
        "for j in range(1,11):\n",
        "    cnt = 0\n",
        "    for i in range(288):\n",
        "        random_dice = rd.choice(dice)\n",
        "        if random_dice >= 5:\n",
        "            cnt += 1\n",
        "    print(cnt)"
      ],
      "execution_count": 29,
      "outputs": [
        {
          "output_type": "stream",
          "text": [
            "95\n",
            "95\n",
            "93\n",
            "97\n",
            "93\n",
            "98\n",
            "96\n",
            "118\n",
            "91\n",
            "90\n"
          ],
          "name": "stdout"
        }
      ]
    },
    {
      "cell_type": "markdown",
      "metadata": {
        "id": "im34i0nNT-dr"
      },
      "source": [
        "**7. 위에서 출력된 횟수 10개를 비어있는 리스트 a에 담고 리스트 a의 갯수를 출력하시오**"
      ]
    },
    {
      "cell_type": "code",
      "metadata": {
        "colab": {
          "base_uri": "https://localhost:8080/"
        },
        "id": "Up7xvaQ3UCvP",
        "outputId": "add5fbd9-0eb0-4a87-ba5e-63778e09efbf"
      },
      "source": [
        "import random as rd\n",
        "\n",
        "dice = (1, 2, 3, 4, 5, 6)\n",
        "list_a = []\n",
        "\n",
        "for j in range(1,11):\n",
        "    cnt = 0\n",
        "    for i in range(288):\n",
        "        random_dice = rd.choice(dice)\n",
        "        if random_dice >= 5:\n",
        "            cnt += 1\n",
        "    list_a.append(cnt)\n",
        "\n",
        "print(len(list_a))"
      ],
      "execution_count": 44,
      "outputs": [
        {
          "output_type": "stream",
          "text": [
            "10\n"
          ],
          "name": "stdout"
        }
      ]
    },
    {
      "cell_type": "markdown",
      "metadata": {
        "id": "BGIb9m74T-a9"
      },
      "source": [
        "**8. 동전 한개와 주사위 한개를 동시에 100번져서 동전이 앞면이 나오고 주사위의 눈이 5가 나오는 횟수를 출력하는 행위를 50번 해서 횟수가 50개 출력되게 하시오**"
      ]
    },
    {
      "cell_type": "code",
      "metadata": {
        "colab": {
          "base_uri": "https://localhost:8080/"
        },
        "id": "HuvcT4uoWROO",
        "outputId": "f7f8897d-01e8-4195-f046-895f188ca235"
      },
      "source": [
        "import random as rd\n",
        "\n",
        "dice=(1,2,3,4,5,6)\n",
        "coin=('front', 'back')\n",
        "\n",
        "for e in range(50):\n",
        "    cnt = 0\n",
        "    for i in range(1, 101):\n",
        "        random_dice = rd.choice(dice)\n",
        "        random_coin = rd.choice(coin)\n",
        "        if random_dice == 5 and random_coin == 'front':\n",
        "            cnt += 1\n",
        "    print(cnt)"
      ],
      "execution_count": 45,
      "outputs": [
        {
          "output_type": "stream",
          "text": [
            "13\n",
            "12\n",
            "6\n",
            "9\n",
            "8\n",
            "7\n",
            "9\n",
            "9\n",
            "12\n",
            "11\n",
            "5\n",
            "10\n",
            "8\n",
            "8\n",
            "7\n",
            "3\n",
            "10\n",
            "8\n",
            "7\n",
            "5\n",
            "4\n",
            "12\n",
            "8\n",
            "10\n",
            "10\n",
            "4\n",
            "9\n",
            "8\n",
            "10\n",
            "7\n",
            "15\n",
            "6\n",
            "10\n",
            "7\n",
            "10\n",
            "5\n",
            "5\n",
            "9\n",
            "11\n",
            "9\n",
            "8\n",
            "5\n",
            "3\n",
            "11\n",
            "9\n",
            "12\n",
            "13\n",
            "9\n",
            "6\n",
            "9\n"
          ],
          "name": "stdout"
        }
      ]
    },
    {
      "cell_type": "markdown",
      "metadata": {
        "id": "futB6MhTXIvJ"
      },
      "source": [
        "**9.  위의 횟수 50개를 비어 있는 리스트 a에 담으시오**"
      ]
    },
    {
      "cell_type": "code",
      "metadata": {
        "colab": {
          "base_uri": "https://localhost:8080/"
        },
        "id": "16RUcluSXLD8",
        "outputId": "af9f2ad1-374d-4d2f-9400-aaeaa1d096da"
      },
      "source": [
        "import random as rd\n",
        "\n",
        "dice=(1,2,3,4,5,6)\n",
        "coin=('front', 'back')\n",
        "list_b =[]\n",
        "\n",
        "for e in range(50):\n",
        "    cnt = 0\n",
        "    for i in range(1, 101):\n",
        "        random_dice = rd.choice(dice)\n",
        "        random_coin = rd.choice(coin)\n",
        "        if random_dice == 5 and random_coin == 'front':\n",
        "            cnt += 1\n",
        "    list_b.append(cnt)\n",
        "\n",
        "print(list_b)"
      ],
      "execution_count": 51,
      "outputs": [
        {
          "output_type": "stream",
          "text": [
            "[5, 10, 4, 4, 9, 8, 9, 2, 13, 5, 8, 5, 9, 4, 7, 9, 7, 7, 11, 5, 7, 4, 7, 4, 13, 8, 5, 7, 6, 11, 7, 12, 8, 10, 6, 7, 4, 8, 8, 6, 14, 10, 8, 8, 4, 14, 7, 9, 8, 5]\n"
          ],
          "name": "stdout"
        }
      ]
    },
    {
      "cell_type": "markdown",
      "metadata": {
        "id": "mS0JT2fGYrZL"
      },
      "source": [
        "**10. 위의 a 리스트 요소들의 평균값을 출력하시오 (numpy를 이용해서 구현하시오)**"
      ]
    },
    {
      "cell_type": "code",
      "metadata": {
        "colab": {
          "base_uri": "https://localhost:8080/"
        },
        "id": "eN0Baf8eYxPQ",
        "outputId": "4fc70a54-63d5-4739-d0cb-9439dd0e002e"
      },
      "source": [
        "import random as rd\n",
        "import numpy as np\n",
        "\n",
        "dice=(1,2,3,4,5,6)\n",
        "coin=('front', 'back')\n",
        "list_b =[]\n",
        "\n",
        "for e in range(50):\n",
        "    cnt = 0\n",
        "    for i in range(1, 101):\n",
        "        random_dice = rd.choice(dice)\n",
        "        random_coin = rd.choice(coin)\n",
        "        if random_dice == 5 and random_coin == 'front':\n",
        "            cnt += 1\n",
        "    list_b.append(cnt)\n",
        "\n",
        "print(np.mean(list_b))"
      ],
      "execution_count": 53,
      "outputs": [
        {
          "output_type": "stream",
          "text": [
            "8.14\n"
          ],
          "name": "stdout"
        }
      ]
    }
  ]
}