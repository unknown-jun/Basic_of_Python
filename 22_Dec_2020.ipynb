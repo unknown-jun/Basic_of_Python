{
  "nbformat": 4,
  "nbformat_minor": 0,
  "metadata": {
    "colab": {
      "name": "22_Dec_2020.ipynb",
      "provenance": [],
      "authorship_tag": "ABX9TyN96z/ix3RDLF87t2hUwl6b",
      "include_colab_link": true
    },
    "kernelspec": {
      "name": "python3",
      "display_name": "Python 3"
    }
  },
  "cells": [
    {
      "cell_type": "markdown",
      "metadata": {
        "id": "view-in-github",
        "colab_type": "text"
      },
      "source": [
        "<a href=\"https://colab.research.google.com/github/unknown-jun/Basic_of_Python/blob/master/22_Dec_2020.ipynb\" target=\"_parent\"><img src=\"https://colab.research.google.com/assets/colab-badge.svg\" alt=\"Open In Colab\"/></a>"
      ]
    },
    {
      "cell_type": "markdown",
      "metadata": {
        "id": "ROFqN7a17ild"
      },
      "source": [
        "- 공항 검색대에 입국할 때 위반되는 물건을 반입하려고 하면 못하게 막기 위해 사람이 모니터링 하는데 딥러닝 기술로 컴퓨터가 알아내게끔 기술을 구현하고 있음"
      ]
    },
    {
      "cell_type": "code",
      "metadata": {
        "id": "_pRqIblo8-QY"
      },
      "source": [
        "# 예제 1. c 드라이브 밑에 images 폴더에 있는 사진들의 이름을 불러오는 함수를 생성함\n",
        "import os\n",
        "test_image = []\n",
        "\n",
        "def image_load(path):\n",
        "    file_list = os.listdir(path)  # 해당 디렉토리의 파일명을 추출한다.\n",
        "    return file_list\n",
        "\n",
        "print( image_load(test_image) )"
      ],
      "execution_count": null,
      "outputs": []
    },
    {
      "cell_type": "code",
      "metadata": {
        "id": "7_R2R0lp_x2O"
      },
      "source": [
        "# 예제 2. 위의 결과에서 숫자만 나오게 함수의 코드를 수정하시오\n",
        "import os\n",
        "import re # 데이터 정제를 전문으로 하는 모듈\n",
        "\n",
        "test_image = '폐사진.zip'\n",
        "\n",
        "def image_load(path):\n",
        "    file_list = os.listdir(path)  # 해당 디렉토리의 파일명을 추출한다.\n",
        "    file_name = []\n",
        "    for i in file_list:\n",
        "        a = re.sub('[^0-9]','',i)  # i의 값 중에서 숫자가 아닌 것들은 싱글 두개를 붙인 것('')\n",
        "        file_name.append(a)        # 인 null로 변경\n",
        "    return file_name                         \n",
        "print( image_load(test_image) )"
      ],
      "execution_count": null,
      "outputs": []
    },
    {
      "cell_type": "code",
      "metadata": {
        "id": "xY4eUSukB3-w"
      },
      "source": [
        "# 문제 475. 위에서 출력되고 리스트 안의 요소들은 문자입니다. 그 리스트의 요소들이 숫자가 되게 하시오\n",
        "import os\n",
        "import re # 데이터 정제를 전문으로 하는 모듈\n",
        "\n",
        "test_image = '/Users/LeeJunhyeok/Documents/python/폐사진'\n",
        "\n",
        "def image_load(path):\n",
        "    file_list = os.listdir(path)  # 해당 디렉토리의 파일명을 추출한다.\n",
        "    file_name = []\n",
        "    for i in file_list:\n",
        "        a = re.sub('[^0-9]','',i)  # i의 값 중에서 숫자가 아닌 것들은 싱글 두개를 붙인 것('')\n",
        "        file_name.append( int(a) )        # 인 null로 변경\n",
        "    return file_name                         \n",
        "print( image_load(test_image) )"
      ],
      "execution_count": null,
      "outputs": []
    },
    {
      "cell_type": "code",
      "metadata": {
        "id": "IsX0nvAnB4gZ"
      },
      "source": [
        "# 문제 476. 위의 리스트의 요소가 ascendgin 하게 정렬되게 하시오\n",
        "import os\n",
        "import re # 데이터 정제를 전문으로 하는 모듈\n",
        "\n",
        "test_image = '/Users/LeeJunhyeok/Documents/python/폐사진'\n",
        "\n",
        "def image_load(path):\n",
        "    file_list = os.listdir(path)  # 해당 디렉토리의 파일명을 추출한다.\n",
        "    file_name = []\n",
        "    for i in file_list:\n",
        "        a = re.sub('[^0-9]','',i)  # i의 값 중에서 숫자가 아닌 것들은 싱글 두개를 붙인 것('')\n",
        "        file_name.append( int(a) ) # 인 null로 변경\n",
        "        file_name.sort()           # sort 함수를 이용하여 정렬\n",
        "    return file_name                         \n",
        "print( image_load(test_image) )"
      ],
      "execution_count": null,
      "outputs": []
    },
    {
      "cell_type": "code",
      "metadata": {
        "id": "kYzIqRWTB6UL"
      },
      "source": [
        "# 문제 477. 위의 함수의 코드를 추가해서 아래와 같이 출력되게 하시오\n",
        "\n",
        "\"\"\"\n",
        "['1.png', '2.png', '3.png', ... , '20.png']\n",
        "\"\"\"\n",
        "\n",
        "import os\n",
        "import re # 데이터 정제를 전문으로 하는 모듈\n",
        "\n",
        "test_image = '/Users/LeeJunhyeok/Documents/python/폐사진'\n",
        "\n",
        "def image_load(path):\n",
        "    file_list = os.listdir(path)  # 해당 디렉토리의 파일명을 추출한다.\n",
        "    file_name = []\n",
        "    for i in file_list:\n",
        "        a = re.sub('[^0-9]','',i)  # i의 값 중에서 숫자가 아닌 것들은 싱글 두개를 붙인 것('')\n",
        "        file_name.append( int(a) ) # 인 null로 변경\n",
        "        file_name.sort()           # sort 함수를 이용하여 정렬\n",
        "    \n",
        "    file_res = []\n",
        "    for k in file_name:\n",
        "        file_res.append( str(k) + '.png' )    \n",
        "    return file_res                         \n",
        "print( image_load(test_image) )"
      ],
      "execution_count": null,
      "outputs": []
    },
    {
      "cell_type": "code",
      "metadata": {
        "id": "Em6dU82dC5cT"
      },
      "source": [
        "# 문제 478. 위의 함수의 코드를 수정해서 아래와 같이 이름 앞에 절대 경로가 붙게 하시오\n",
        "\"\"\"\n",
        "['/Users/LeeJunhyeok/Documents/python/폐사진/1.png', \n",
        " '/Users/LeeJunhyeok/Documents/python/폐사진/2.png', \n",
        " '/Users/LeeJunhyeok/Documents/python/폐사진3.png',\n",
        " ... ,\n",
        " '/Users/LeeJunhyeok/Documents/python/폐사진20.png']\n",
        "\"\"\"\n",
        "import os\n",
        "import re # 데이터 정제를 전문으로 하는 모듈\n",
        "\n",
        "test_image = '/Users/LeeJunhyeok/Documents/python/폐사진'\n",
        "\n",
        "def image_load(path):\n",
        "    file_list = os.listdir(path)  # 해당 디렉토리의 파일명을 추출한다.\n",
        "    file_name = []\n",
        "    for i in file_list:\n",
        "        a = re.sub('[^0-9]','',i)  # i의 값 중에서 숫자가 아닌 것들은 싱글 두개를 붙인 것('')\n",
        "        file_name.append( int(a) ) # 인 null로 변경\n",
        "        file_name.sort()           # sort 함수를 이용하여 정렬\n",
        "    \n",
        "    file_res = []\n",
        "    for k in file_name:\n",
        "        file_res.append( '/Users/LeeJunhyeok/Documents/python/폐사진' + str(k) + '.png' )    \n",
        "    return file_res                         \n",
        "print( image_load(test_image) )"
      ],
      "execution_count": null,
      "outputs": []
    },
    {
      "cell_type": "markdown",
      "metadata": {
        "id": "098ZWUeBEA6r"
      },
      "source": [
        "예제 3. 폐사진 이미지를 숫자로 변환하기 위해서 필요한 파이썬 모듈을 install 하시오\n",
        "~~~\n",
        "conda install opencv\n",
        "~~~\n",
        "~~~\n",
        "pip install opencv-python\n",
        "~~~"
      ]
    },
    {
      "cell_type": "markdown",
      "metadata": {
        "id": "CPfjTReRICV4"
      },
      "source": [
        "- opencv 모듈은 이미지를 파이썬에서 숫자로 변환하고 다양한 이미지 처리를 할 수 있게 해주는 기술을 제공해줌\n",
        "- 예: 구글 지도나 카카오 지도, 네이버 지도에 보면 street view가 있는데 거기에 사람 얼굴이나 자동차 번호판을 모자이크 처리를 해줘야 함\n"
      ]
    },
    {
      "cell_type": "code",
      "metadata": {
        "id": "SSWSjKoqI7bY"
      },
      "source": [
        "# 예제 4. 위에서 설치한 opencv모듈을 이용해서 폐사진을 숫자로 변환\n"
      ],
      "execution_count": null,
      "outputs": []
    },
    {
      "cell_type": "code",
      "metadata": {
        "id": "ZtQDSoNsKeEy"
      },
      "source": [
        "# 예제 5. 위의 숫자로 변환한 리스트를 인공 신경망에 넣기 위해서는 numpy 모듈의 array 형태로 제공해줘야 함\n",
        "# 위의 리스트를 numpy array로 변환함\n",
        "import numpy as np  # 랭렬 연산을 쉽고 빠르게 할 수 있게 해주는 모듈\n",
        "import os\n",
        "import re # 데이터 정제를 전문으로 하는 모듈\n",
        "\n",
        "test_image = '/Users/LeeJunhyeok/Documents/python/폐사진'\n",
        "\n",
        "def image_load(path):\n",
        "    file_list = os.listdir(path)  # 해당 디렉토리의 파일명을 추출한다.\n",
        "    file_name = []\n",
        "    for i in file_list:\n",
        "        a = re.sub('[^0-9]','',i)  # i의 값 중에서 숫자가 아닌 것들은 싱글 두개를 붙인 것('')\n",
        "        file_name.append( int(a) ) # 인 null로 변경\n",
        "        file_name.sort()           # sort 함수를 이용하여 정렬\n",
        "    \n",
        "    file_res = []\n",
        "    for k in file_name:\n",
        "        file_res.append( '/Users/LeeJunhyeok/Documents/python/폐사진' + str(k) + '.png' )    \n",
        "    return file_res                         \n",
        "\n",
        "print( image_load(test_image) )"
      ],
      "execution_count": null,
      "outputs": []
    },
    {
      "cell_type": "code",
      "metadata": {
        "id": "RMhMBjOsWk7L"
      },
      "source": [
        "# 예제 4. 위의 개사진 이름에서 숫자만 출력하시오 \n",
        "import os\n",
        "import re\n",
        "\n",
        "path = '/Users/LeeJunhyeok/Documents/python/dog'\n",
        "def image_load2(path):\n",
        "    file_list = os.listdir(path)\n",
        "    file_name = []\n",
        "    for i in file_list:\n",
        "        a = re.sub('[^0-9]', '', i)\n",
        "        file_name.append( int(a) )\n",
        "    return file_name\n",
        "\n",
        "print( image_load2(path))"
      ],
      "execution_count": null,
      "outputs": []
    },
    {
      "cell_type": "code",
      "metadata": {
        "id": "FilkHppzXGHX"
      },
      "source": [
        "# 예제 5. file_nanme 리스트 안의 숫자를 정렬해서 출력되게 하시오\n",
        "import os\n",
        "import re\n",
        "\n",
        "path = '/Users/LeeJunhyeok/Documents/python/dog'\n",
        "def image_load2(path):\n",
        "    file_list = os.listdir(path)\n",
        "    file_name = []\n",
        "    for i in file_list:\n",
        "        a = re.sub('[^0-9]', '', i)\n",
        "        file_name.append( int(a) )\n",
        "        file_name.sort()\n",
        "    return file_name\n",
        "\n",
        "print( image_load2(path))"
      ],
      "execution_count": null,
      "outputs": []
    },
    {
      "cell_type": "code",
      "metadata": {
        "id": "CGPndJLpXe5V"
      },
      "source": [
        "# 예제 6. 아래와 같이 절대경로와 확장자가 붙어서 출력되게 하시오!\n",
        "\"\"\"\n",
        "['/Users/LeeJunhyeok/Documents/python/dog/1.png', \n",
        " '/Users/LeeJunhyeok/Documents/python/dog/2.png', \n",
        " '/Users/LeeJunhyeok/Documents/python/dog/3.png',\n",
        " ... ,\n",
        " '/Users/LeeJunhyeok/Documents/python/dog/20.png']\n",
        "\"\"\"\n",
        "import os\n",
        "import re\n",
        "\n",
        "path = '/Users/LeeJunhyeok/Documents/python/dog'\n",
        "def image_load2(path):\n",
        "    file_list = os.listdir(path)\n",
        "    file_name = []\n",
        "    for i in file_list:\n",
        "        a = re.sub('[^0-9]', '', i)\n",
        "        file_name.append( int(a) )\n",
        "        file_name.sort()\n",
        "\n",
        "    file_res=[]\n",
        "    for k in file_name:\n",
        "        file_res.append('Users/LeeJunhyeok/Documents/python/dog'+str(k)+'.jpg')\n",
        "    \n",
        "    return file_res\n",
        "\n",
        "print( image_load2(path))"
      ],
      "execution_count": null,
      "outputs": []
    },
    {
      "cell_type": "code",
      "metadata": {
        "id": "YvPRO-ywXexL"
      },
      "source": [
        "# 예제 7. 위의 개 사진 이미지들을 opencv와 numpy를 이용해서 숫자로 변환하고 numpy array로 반환되게 하시오\n",
        "\n",
        "import os\n",
        "import re\n",
        "import numpy as np\n",
        "path = '/Users/LeeJunhyeok/Documents/python/dog'\n",
        "\n",
        "def image_load2(path):\n",
        "    file_list = os.listdir(path)\n",
        "    file_name = []\n",
        "    for i in file_list:\n",
        "        a = re.sub('[^0-9]', '', i)\n",
        "        file_name.append( int(a) )\n",
        "        file_name.sort()\n",
        "\n",
        "    file_res=[]\n",
        "    for k in file_name:\n",
        "        file_res.append('Users/LeeJunhyeok/Documents/python/dog.'+str(k)+'.jpg')\n",
        "    \n",
        "    image = []\n",
        "    for h in file_res:\n",
        "        img = cv2.imread(h)\n",
        "        image.append(img)\n",
        "\n",
        "    return np.array(image)\n",
        "\n",
        "print( image_load2(path))"
      ],
      "execution_count": null,
      "outputs": []
    },
    {
      "cell_type": "code",
      "metadata": {
        "id": "4w2xUD-SZ-P8"
      },
      "source": [
        "# 문제 480. 지난 번에 직접 스크롤링한 사진 20장을 images3에 넣고 숫자로 변환하는 함수를 image_load3로 생성하시오"
      ],
      "execution_count": null,
      "outputs": []
    },
    {
      "cell_type": "markdown",
      "metadata": {
        "id": "S_DU5sV3wufb"
      },
      "source": [
        "#152. 필수 알고리즘1 (합성곱 연산)\n",
        "- 알고리즘 문제를 풀어야 하는 이유?\n",
        "1. 지금까지 배운 파이썬 문법을 완성하는 단계 - 알고리즘 문제 해결\n",
        "2. 구글, 네이버, 카카오와 같이 대기업으로 지원하고자 하면 알고리즘 문제를 많이 풀어봐야 함\n",
        "\n",
        "- 프로그래머스 사이트에 여러 알고리즘 문제들이 올라와 있음\n",
        "- 하루에 하나씩 꾸준히 풀면서 실력을 천천히 쌓아올리면 됨\n",
        "\n",
        "- 합성곱 연산 알고리즘\n",
        "    - 딥러닝의 필수 알고리즘: 퍼셉트론, 합성곱 연산 알고리즘\n",
        "    - 이미지의 형상을 무시하지 않고 이미지를 그대로 인공 신경망이 학습 할 수 있게 해준 수학 행렬 연산\n",
        "    - 합성곱에서 원본 이미지는 학습해야 할 데이터(사진)이고 필터(filter)는 원본 이미지에서 특징을 잡아내는 데 사용되는 행렬\n",
        "    - 특징을 잡아서 feature map을 생성하여 원본 이미지의 형태를 이해하는 것을 합성곱 연산이라고 함"
      ]
    },
    {
      "cell_type": "markdown",
      "metadata": {
        "id": "lZcU7zoR0GWg"
      },
      "source": [
        "문제 481. 아래의 두 행렬을 만들고 덧셈 연산을 하시오\n",
        "~~~\n",
        "| 1  2  3  |       | 2  0  1  |\n",
        "| 0  1  2  |   +   | 0  1  2  |\n",
        "| 3  0  1  |       | 1  0  2  |\n",
        "~~~"
      ]
    },
    {
      "cell_type": "code",
      "metadata": {
        "colab": {
          "base_uri": "https://localhost:8080/"
        },
        "id": "6Dj99bDewTod",
        "outputId": "4ee0db4e-b7a6-4b59-973d-69b266a2172e"
      },
      "source": [
        "import numpy as np\n",
        "\n",
        "a = [[1, 2, 3], [0, 1, 2], [3, 0, 1]] \n",
        "b = [[2, 0, 1], [0, 1, 2], [1, 0, 2]]\n",
        "a2 = np.array(a)\n",
        "b2 = np.array(b)\n",
        "print(a2)\n",
        "print(b2,'\\n')\n",
        "print( a2 + b2 )"
      ],
      "execution_count": null,
      "outputs": [
        {
          "output_type": "stream",
          "text": [
            "[[1 2 3]\n",
            " [0 1 2]\n",
            " [3 0 1]]\n",
            "[[2 0 1]\n",
            " [0 1 2]\n",
            " [1 0 2]] \n",
            "\n",
            "[[3 2 4]\n",
            " [0 2 4]\n",
            " [4 0 3]]\n"
          ],
          "name": "stdout"
        }
      ]
    },
    {
      "cell_type": "markdown",
      "metadata": {
        "id": "wlo0HNjQ1QA6"
      },
      "source": [
        "문제 482. 아래의 두 행렬을 만들고 두 행렬의 원소들의 곱을 구하시오\n",
        "~~~\n",
        "| 1  2  3 |          | 2  0  1 |\n",
        "| 0  1  2 |     *    | 0  1  2 |\n",
        "| 3  0  1 |          | 1  0  2 |\n",
        "~~~"
      ]
    },
    {
      "cell_type": "code",
      "metadata": {
        "colab": {
          "base_uri": "https://localhost:8080/"
        },
        "id": "wUlB0etp10pF",
        "outputId": "1a4fc23c-3332-40c1-bf0e-0caa0ab2f254"
      },
      "source": [
        "import numpy as np\n",
        "\n",
        "a = [[1, 2, 3], [0, 1, 2], [3, 0, 1]]\n",
        "b = [[2, 0, 1], [0, 1, 2], [1, 0, 2]]\n",
        "\n",
        "a = np.array(a)\n",
        "b = np.array(b)\n",
        "\n",
        "print(a * b)"
      ],
      "execution_count": null,
      "outputs": [
        {
          "output_type": "stream",
          "text": [
            "[[2 0 3]\n",
            " [0 1 4]\n",
            " [3 0 2]]\n"
          ],
          "name": "stdout"
        }
      ]
    },
    {
      "cell_type": "markdown",
      "metadata": {
        "id": "19IXi3sc2IsV"
      },
      "source": [
        "문제 483. 위의 원소들의 곱으로 출력된 결과인 3 X 3 행렬의 요소들을 모두다 더하시오   \n",
        "결과 : 15"
      ]
    },
    {
      "cell_type": "code",
      "metadata": {
        "colab": {
          "base_uri": "https://localhost:8080/"
        },
        "id": "gyUwbgjT2the",
        "outputId": "c911c86c-207c-49b0-8cb5-f7265cbd09c2"
      },
      "source": [
        "import numpy as np\n",
        "\n",
        "a = [[1, 2, 3], [0, 1, 2], [3, 0, 1]]\n",
        "b = [[2, 0, 1], [0, 1, 2], [1, 0, 2]]\n",
        "\n",
        "a2 = np.array(a)\n",
        "b2 = np.array(b)\n",
        "\n",
        "result =a2 * b2\n",
        "print( np.sum(result) )"
      ],
      "execution_count": null,
      "outputs": [
        {
          "output_type": "stream",
          "text": [
            "15\n"
          ],
          "name": "stdout"
        }
      ]
    },
    {
      "cell_type": "markdown",
      "metadata": {
        "id": "mkOqsrKz2-Z-"
      },
      "source": [
        "- numpy란 python 언어에서 기본적으로 지원하지 않는 배열(array) 혹은 행렬(matrix)의 계산을 쉽게 해주는 라이브러리\n",
        "- 머신러닝에서 많이 사용하는 선형대수학에 관련된 수식들을 python에서 쉽게 프로그래밍 할 수 있게 해줌"
      ]
    },
    {
      "cell_type": "markdown",
      "metadata": {
        "id": "KybIjHit3cbB"
      },
      "source": [
        "문제 484. 아래의 4x4 행렬을 만드시오\n",
        "~~~\n",
        "| 1  2  3  0  |\n",
        "| 0  1  2  3  |\n",
        "| 3  0  1  2  | \n",
        "| 2  3  0  1  | \n",
        "~~~"
      ]
    },
    {
      "cell_type": "code",
      "metadata": {
        "colab": {
          "base_uri": "https://localhost:8080/"
        },
        "id": "GkhRRFZQ3ud6",
        "outputId": "c52cf393-afae-40fb-e481-f46e63e1b93b"
      },
      "source": [
        "a = [[1, 2, 3, 0], [0, 1, 2, 3], [3, 0, 1, 2], [2, 3, 0, 1]]\n",
        "a2 = np.array(a)\n",
        "print(a2)"
      ],
      "execution_count": null,
      "outputs": [
        {
          "output_type": "stream",
          "text": [
            "[[1 2 3 0]\n",
            " [0 1 2 3]\n",
            " [3 0 1 2]\n",
            " [2 3 0 1]]\n"
          ],
          "name": "stdout"
        }
      ]
    },
    {
      "cell_type": "markdown",
      "metadata": {
        "id": "h4s2SKXo4HVB"
      },
      "source": [
        "문제 485. 위의 4 X 4 행렬에서 **으로 지정한 영역의 숫자들만 출력하시오\n",
        "~~~\n",
        "  *  *  *\n",
        "|* 1  2  3 * 0  |    행이 1부터 3까지\n",
        "|* 0  1  2 * 3  |    열도 1부터 3까지\n",
        "|* 3  0  1 * 2  | \n",
        "  *  *  *\n",
        "|  2  3  0  1  | \n",
        "~~~"
      ]
    },
    {
      "cell_type": "code",
      "metadata": {
        "colab": {
          "base_uri": "https://localhost:8080/"
        },
        "id": "LzPX2A7Q4pKW",
        "outputId": "21204208-15c7-43b4-d01f-9645ef002e66"
      },
      "source": [
        "a = [[1, 2, 3, 0], [0, 1, 2, 3], [3, 0, 1, 2], [2, 3, 0, 1]]\n",
        "a2 = np.array(a)\n",
        "print( a2[0:3, 0:3] ) # 행을 0 이상에서 3 미만까지 \n",
        "                      # 열을 0 이상에서 3 미만까지\n",
        "                    "
      ],
      "execution_count": null,
      "outputs": [
        {
          "output_type": "stream",
          "text": [
            "[[1 2 3]\n",
            " [0 1 2]\n",
            " [3 0 1]]\n"
          ],
          "name": "stdout"
        }
      ]
    },
    {
      "cell_type": "markdown",
      "metadata": {
        "id": "Xm3wZXwL5FEI"
      },
      "source": [
        "문제 486. 아래의 4 x 4행렬에서 **으로 지정한 영역의 숫자들만 출력하시오\n",
        "\n",
        "~~~\n",
        "       *  *  *\n",
        "| 1 *  2  3  0 * |    \n",
        "| 0 *  1  2  3 * |    \n",
        "| 3 *  0  1  2 * | \n",
        "       *  *  *\n",
        "| 2  3  0  1  | \n",
        "~~~"
      ]
    },
    {
      "cell_type": "code",
      "metadata": {
        "colab": {
          "base_uri": "https://localhost:8080/"
        },
        "id": "zupQhwze5kSi",
        "outputId": "83179fa7-9891-4b43-c9d2-30343aab0805"
      },
      "source": [
        "import numpy as np\n",
        "a = [[1, 2, 3, 0], [0, 1, 2, 3], [3, 0, 1, 2], [2, 3, 0, 1]]\n",
        "a2 = np.array(a)\n",
        "print( a2[0:3 , 1:4] )"
      ],
      "execution_count": null,
      "outputs": [
        {
          "output_type": "stream",
          "text": [
            "[[2 3 0]\n",
            " [1 2 3]\n",
            " [0 1 2]]\n"
          ],
          "name": "stdout"
        }
      ]
    },
    {
      "cell_type": "markdown",
      "metadata": {
        "id": "-EVPd4h76D--"
      },
      "source": [
        "문제 487. 아래의 4 x 4 행렬에서 **으로 지정한 영역의 숫자들만 출력하시오\n",
        "~~~\n",
        "    \n",
        "| 1  2  3  0 |    \n",
        "  *  *  *\n",
        "|* 0  1  2 * 3 |    \n",
        "|* 3  0  1 * 2 |\n",
        "|* 2  3  0 * 1 | \n",
        "   *  *  *\n",
        "~~~"
      ]
    },
    {
      "cell_type": "code",
      "metadata": {
        "colab": {
          "base_uri": "https://localhost:8080/"
        },
        "id": "IqmEa7pO6njU",
        "outputId": "0062a4eb-3dad-43c8-c9c9-89bd6a877d96"
      },
      "source": [
        "import numpy as np\n",
        "a = [[1, 2, 3, 0], [0, 1, 2, 3], [3, 0, 1, 2], [2, 3, 0, 1]]\n",
        "a2 = np.array(a)\n",
        "print( a2[1:4 , 0:3] )"
      ],
      "execution_count": null,
      "outputs": [
        {
          "output_type": "stream",
          "text": [
            "[[0 1 2]\n",
            " [3 0 1]\n",
            " [2 3 0]]\n"
          ],
          "name": "stdout"
        }
      ]
    },
    {
      "cell_type": "markdown",
      "metadata": {
        "id": "W1p9oCDz6w5B"
      },
      "source": [
        "문제 488. 아래의 4 x 4 행렬에서 **으로 지정한 영역의 숫자들만 출력하시오\n",
        "~~~\n",
        "| 1  2  3  0 |    \n",
        "      *  *  *\n",
        "| 0 * 1  2  3 * |    \n",
        "| 3 * 0  1  2 * |\n",
        "| 2 * 3  0  1 * | \n",
        "      *  *  *\n",
        "~~~"
      ]
    },
    {
      "cell_type": "code",
      "metadata": {
        "colab": {
          "base_uri": "https://localhost:8080/"
        },
        "id": "ipJTr6P567Qs",
        "outputId": "a86ed156-c143-4d6f-c618-ce15b60b8d5f"
      },
      "source": [
        "import numpy as np\n",
        "a = [[1, 2, 3, 0], [0, 1, 2, 3], [3, 0, 1, 2], [2, 3, 0, 1]]\n",
        "a2 = np.array(a)\n",
        "\n",
        "print( a2[1:4 , 1:4] )"
      ],
      "execution_count": null,
      "outputs": [
        {
          "output_type": "stream",
          "text": [
            "[[1 2 3]\n",
            " [0 1 2]\n",
            " [3 0 1]]\n"
          ],
          "name": "stdout"
        }
      ]
    },
    {
      "cell_type": "markdown",
      "metadata": {
        "id": "D7PBIEGQ7CtR"
      },
      "source": [
        "문제 489. 위에서 **으로 지정한 4 X 4행렬의 네 영역의 숫자들을 for loop문을 이용해서 모두 출력하시오\n",
        "~~~\n",
        "| 1  2  3  0  |\n",
        "| 0  1  2  3  |\n",
        "| 3  0  1  2  | \n",
        "| 2  3  0  1  | \n",
        "~~~"
      ]
    },
    {
      "cell_type": "code",
      "metadata": {
        "colab": {
          "base_uri": "https://localhost:8080/"
        },
        "id": "2ZzSDIrD7CZs",
        "outputId": "40270242-7c54-4525-967f-1318236fb558"
      },
      "source": [
        "a = [[1, 2, 3, 0], [0, 1, 2, 3], [3, 0, 1, 2], [2, 3, 0, 1]]\n",
        "a2 = np.array(a)\n",
        "\"\"\"\n",
        "print( a2[0:3 , 0:3] )\n",
        "print( a2[0:3 , 1:4] )\n",
        "print( a2[1:4 , 0:3] )\n",
        "print( a2[1:4 , 1:4] )\n",
        "\"\"\"\n",
        "for i, k in zip(range(0,2), range(3,5)):\n",
        "    for j, h in zip(range(0,2), range(3,5)):\n",
        "        print(a2[i:k, j:h])"
      ],
      "execution_count": null,
      "outputs": [
        {
          "output_type": "stream",
          "text": [
            "[[1 2 3]\n",
            " [0 1 2]\n",
            " [3 0 1]]\n",
            "[[2 3 0]\n",
            " [1 2 3]\n",
            " [0 1 2]]\n",
            "[[0 1 2]\n",
            " [3 0 1]\n",
            " [2 3 0]]\n",
            "[[1 2 3]\n",
            " [0 1 2]\n",
            " [3 0 1]]\n"
          ],
          "name": "stdout"
        }
      ]
    },
    {
      "cell_type": "markdown",
      "metadata": {
        "id": "T3ehhpRYD-ht"
      },
      "source": [
        "문제 490. 위에서 선택한 4개의 행렬(3x3)과 아래의 filter 행렬(3x3)과의 원소의 곱을 출력하시오\n",
        "~~~\n",
        "f=[ [ 2, 3, 4 ], [ 1, 2, 3 ], [ 2, 0, 1 ] ]\n",
        "filter = np.array(f)\n",
        "print(filter)\n",
        "~~~"
      ]
    },
    {
      "cell_type": "code",
      "metadata": {
        "colab": {
          "base_uri": "https://localhost:8080/"
        },
        "id": "VGbXFmNfERra",
        "outputId": "4db9b591-eb51-4d59-e511-948bb305be4b"
      },
      "source": [
        "f=[ [ 2, 3, 4 ], [ 1, 2, 3 ], [ 2, 0, 1 ] ]\n",
        "filter = np.array(f)\n",
        "\n",
        "a = [ [1,2,3,0] , [0,1,2,3] , [3,0,1,2] , [2,3,0,1]] \n",
        "for i in range(0,2):\n",
        "    for j in range(0,2):\n",
        "        print(a2[i:i+3,j:j+3] * filter )"
      ],
      "execution_count": null,
      "outputs": [
        {
          "output_type": "stream",
          "text": [
            "[[ 2  6 12]\n",
            " [ 0  2  6]\n",
            " [ 6  0  1]]\n",
            "[[4 9 0]\n",
            " [1 4 9]\n",
            " [0 0 2]]\n",
            "[[0 3 8]\n",
            " [3 0 3]\n",
            " [4 0 0]]\n",
            "[[ 2  6 12]\n",
            " [ 0  2  6]\n",
            " [ 6  0  1]]\n"
          ],
          "name": "stdout"
        }
      ]
    },
    {
      "cell_type": "markdown",
      "metadata": {
        "id": "wXeONhx5Frym"
      },
      "source": [
        "문제 491. 위에서 출력된 3x3 행렬 4개에 대한 원소들의 합이 각각 출력되게 하시오\n",
        "~~~\n",
        "[[ 2  6 12]\n",
        " [ 0  2  6]   ---> 35\n",
        " [ 6  0  1]]\n",
        "\n",
        "[[4 9 0]\n",
        " [1 4 9]     ----> 29\n",
        " [0 0 2]]\n",
        "\n",
        "[[0 3 8]\n",
        " [3 0 3]     ----> 21\n",
        " [4 0 0]]\n",
        "\n",
        "[[ 2  6 12]\n",
        " [ 0  2  6]   ----> 35\n",
        " [ 6  0  1]]\n",
        "~~~\n"
      ]
    },
    {
      "cell_type": "code",
      "metadata": {
        "colab": {
          "base_uri": "https://localhost:8080/"
        },
        "id": "26y35l5S9Bka",
        "outputId": "02de3252-4958-4d9c-a7a2-95c405065af8"
      },
      "source": [
        "f=[ [ 2, 3, 4 ], [ 1, 2, 3 ], [ 2, 0, 1 ] ]\n",
        "filter = np.array(f)\n",
        "\n",
        "a = [ [1,2,3,0] , [0,1,2,3] , [3,0,1,2] , [2,3,0,1]] \n",
        "for i in range(0,2):\n",
        "    for j in range(0,2):\n",
        "        print( np.sum( a2[i:i+3,j:j+3] * filter ) )"
      ],
      "execution_count": null,
      "outputs": [
        {
          "output_type": "stream",
          "text": [
            "35\n",
            "29\n",
            "21\n",
            "35\n"
          ],
          "name": "stdout"
        }
      ]
    },
    {
      "cell_type": "markdown",
      "metadata": {
        "id": "Qv2PJnapGhQb"
      },
      "source": [
        "문제 492. 위에서 출력된 4개의 숫자로 아래의 행렬( 2x2 )을 만드시오\n",
        "~~~~\n",
        "| 35 29 |\n",
        "| 21 35 |\n",
        "~~~"
      ]
    },
    {
      "cell_type": "code",
      "metadata": {
        "colab": {
          "base_uri": "https://localhost:8080/"
        },
        "id": "Hv5eh1xHGrS-",
        "outputId": "59b42b21-7032-4282-e118-83a9fe0b2d18"
      },
      "source": [
        "f=[ [ 2, 3, 4 ], [ 1, 2, 3 ], [ 2, 0, 1 ] ]\n",
        "filter = np.array(f)\n",
        "\n",
        "a = [ [1,2,3,0] , [0,1,2,3] , [3,0,1,2] , [2,3,0,1]] \n",
        "\n",
        "result = []\n",
        "for i in range(0,2):\n",
        "    for j in range(0,2):\n",
        "        result.append( np.sum( a2[i:i+3,j:j+3] * filter ) ) \n",
        "        \n",
        "result2 = np.array(result).reshape(2,2)   # numpy array의 2 x 2 행렬로 변환\n",
        "print(result2)"
      ],
      "execution_count": null,
      "outputs": [
        {
          "output_type": "stream",
          "text": [
            "[[35 29]\n",
            " [21 35]]\n"
          ],
          "name": "stdout"
        }
      ]
    },
    {
      "cell_type": "markdown",
      "metadata": {
        "id": "nGx4j2cbHZQk"
      },
      "source": [
        "- a2 라는 원본 이미지( 개 사진 )에 filter( 랜덤으로 생성한 이미지 )를 가지고 원본이미지를 스트라이드( 양 옆 위 아래로 스캔 )하면서 특징 이미지를 추출( result2 )하는 것을 합성곱이라고 함"
      ]
    },
    {
      "cell_type": "markdown",
      "metadata": {
        "id": "GUssdubWItDu"
      },
      "source": [
        "문제 493. 아래의 원본 이미지 행렬 (5 x 5 )행렬에서 필터 행렬( 4 x 4 )로 스트라이딩 해서 합성곱해서 특징을 추출하시오\n",
        "~~~\n",
        "a = [ [2,3,1,4,7],[3,1,6,4,3],[2,1,5,3,1],[6,2,4,1,2],[7,3,1,2,3] ]\n",
        "f = [ [3,1,4,1],[2,3,3,4],[5,1,2,1],[6,1,3,4] ]\n",
        "~~~"
      ]
    },
    {
      "cell_type": "code",
      "metadata": {
        "colab": {
          "base_uri": "https://localhost:8080/"
        },
        "id": "UfRIGNOtI7gP",
        "outputId": "ff7706d3-1bdb-49e8-d8b3-25ed37209304"
      },
      "source": [
        "a = [ [2,3,1,4,7],[3,1,6,4,3],[2,1,5,3,1],[6,2,4,1,2],[7,3,1,2,3] ]\n",
        "mat_1 = np.array(a)\n",
        "\n",
        "f = [ [3,1,4,1],[2,3,3,4],[5,1,2,1],[6,1,3,4] ]\n",
        "mat_2 = np.array(f)\n",
        "\n",
        "for i, k in zip(range(0,2), range(3,5)):\n",
        "    for j, h in zip(range(0,2), range(3,5)):\n",
        "        print( mat_1[i:i+4, j:j+4] * mat_2 )\n",
        "\n"
      ],
      "execution_count": null,
      "outputs": [
        {
          "output_type": "stream",
          "text": [
            "[[ 6  3  4  4]\n",
            " [ 6  3 18 16]\n",
            " [10  1 10  3]\n",
            " [36  2 12  4]]\n",
            "[[ 9  1 16  7]\n",
            " [ 2 18 12 12]\n",
            " [ 5  5  6  1]\n",
            " [12  4  3  8]]\n",
            "[[ 9  1 24  4]\n",
            " [ 4  3 15 12]\n",
            " [30  2  8  1]\n",
            " [42  3  3  8]]\n",
            "[[ 3  6 16  3]\n",
            " [ 2 15  9  4]\n",
            " [10  4  2  2]\n",
            " [18  1  6 12]]\n"
          ],
          "name": "stdout"
        }
      ]
    },
    {
      "cell_type": "markdown",
      "metadata": {
        "id": "b5w-6mOsRhYX"
      },
      "source": [
        "#153. 필수 알고리즘2 (이진 탐색)\n",
        "\n",
        "- 이진탐색: 정렬된 데이터를 좌우 둘로 나눠서 원하는 값의 탐색 범위를 좁혀가며 찾는 방법\n"
      ]
    },
    {
      "cell_type": "markdown",
      "metadata": {
        "id": "mUlpplyIRl81"
      },
      "source": [
        "문제 494. 아래의 리스트에서 숫자 3이 있는지 순차 탐색으로 구현하시오. 있으면 '숫자 3이 있습니다.'라는 메세지가 출력되게 하시오\n",
        "~~~\n",
        "a = [15, 11, 1, 3, 8]\n",
        "~~~"
      ]
    },
    {
      "cell_type": "code",
      "metadata": {
        "colab": {
          "base_uri": "https://localhost:8080/"
        },
        "id": "5sPfcau9RhKU",
        "outputId": "2ea28497-003b-4531-9d76-de05d3c8e8e7"
      },
      "source": [
        "a = [15, 11, 1, 3, 8]\n",
        "\n",
        "for i in a:\n",
        "    if i == 3:\n",
        "        print('숫자가 3이 있습니다')\n",
        "        break\n",
        "else:\n",
        "    print('숫자 3이 아닙니다')"
      ],
      "execution_count": null,
      "outputs": [
        {
          "output_type": "stream",
          "text": [
            "숫자가 3이 있습니다\n"
          ],
          "name": "stdout"
        }
      ]
    },
    {
      "cell_type": "markdown",
      "metadata": {
        "id": "Zg1epFxoTv65"
      },
      "source": [
        "문제 495. 위의 코드를 수정해서 숫자를 물어보게 하고 숫자를 입력하면 해당 숫자가 존재하는지 존재하지 않는지를 출력되게 하시오"
      ]
    },
    {
      "cell_type": "code",
      "metadata": {
        "colab": {
          "base_uri": "https://localhost:8080/"
        },
        "id": "iHRObndrOctC",
        "outputId": "bce5303c-f62f-42d4-d7f9-78d184f01fed"
      },
      "source": [
        "a = [15, 11, 1, 3, 8]\n",
        "b = int(input('검색할 숫자를 입력하세요: '))\n",
        "\n",
        "for i in a:\n",
        "    if i == b:\n",
        "        print('숫자가 '+ str(b) +'이 있습니다')\n",
        "        break\n",
        "else:\n",
        "    print('숫자 '+ str(b) + '이 아닙니다')"
      ],
      "execution_count": null,
      "outputs": [
        {
          "output_type": "stream",
          "text": [
            "검색할 숫자를 입력하세요: 7\n",
            "숫자 7이 아닙니다\n"
          ],
          "name": "stdout"
        }
      ]
    },
    {
      "cell_type": "markdown",
      "metadata": {
        "id": "wY9bGgL1VjiE"
      },
      "source": [
        "문제 496. 아래의 a 리스트에서 중앙값을 찾으시오\n",
        "~~~\n",
        "a = [ 1, 7, 11, 12, 14, 23, 33, 47, 51, 64, 67, 77, 139, 672, 871 ]\n",
        "~~~"
      ]
    },
    {
      "cell_type": "code",
      "metadata": {
        "colab": {
          "base_uri": "https://localhost:8080/"
        },
        "id": "ZBsNgBrbV-Qz",
        "outputId": "7e7063bd-c459-47d4-db13-c12a26e8b1d6"
      },
      "source": [
        "import numpy as np\n",
        "\n",
        "a = [ 1, 7, 11, 12, 14, 23, 33, 47, 51, 64, 67, 77, 139, 672, 871 ]\n",
        "\n",
        "a_n = np.array( a )\n",
        "print( np.median(a_n) )"
      ],
      "execution_count": null,
      "outputs": [
        {
          "output_type": "stream",
          "text": [
            "47.0\n"
          ],
          "name": "stdout"
        }
      ]
    },
    {
      "cell_type": "markdown",
      "metadata": {
        "id": "aEzFCAlsWPgq"
      },
      "source": [
        "문제 497. a 리스트에서 첫 번째 숫자부터 중앙값에 해당하는 숫자까지만 검색하시오\n",
        "~~~\n",
        "결과: [1, 7, 11, 12, 14, 23, 33, 47]\n",
        "~~~"
      ]
    },
    {
      "cell_type": "code",
      "metadata": {
        "colab": {
          "base_uri": "https://localhost:8080/"
        },
        "id": "D0sZHzCCWama",
        "outputId": "d2155da9-95ee-4921-91d1-95a6e211e7cc"
      },
      "source": [
        "import numpy as np\n",
        "\n",
        "a = [ 1, 7, 11, 12, 14, 23, 33, 47, 51, 64, 67, 77, 139, 672, 871 ]\n",
        "\n",
        "a_n = np.array( a )\n",
        "a_m = np.median( a_n)\n",
        "print( a[ :a.index(a_m)+1] )"
      ],
      "execution_count": null,
      "outputs": [
        {
          "output_type": "stream",
          "text": [
            "[1, 7, 11, 12, 14, 23, 33, 47]\n"
          ],
          "name": "stdout"
        }
      ]
    },
    {
      "cell_type": "markdown",
      "metadata": {
        "id": "bO1J0OZ1aQx9"
      },
      "source": [
        "문제 498. 위의 a 리스트에서 문제 497번에서 선택된 숫자들을 중앙값까지 포함해서 다 지우고 아래의 결과만 출력되게 하시오\n",
        "~~~\n",
        "결과: [51, 64, 67, 77, 139, 672, 871 ]\n",
        "~~~"
      ]
    },
    {
      "cell_type": "code",
      "metadata": {
        "colab": {
          "base_uri": "https://localhost:8080/"
        },
        "id": "Qqs5GZZiagmR",
        "outputId": "c5626aca-8f79-4cd7-b208-f5e542b211d7"
      },
      "source": [
        "import numpy as np\n",
        "\n",
        "a = [ 1, 7, 11, 12, 14, 23, 33, 47, 51, 64, 67, 77, 139, 672, 871 ]\n",
        "\n",
        "a_n = np.array( a )\n",
        "a_m = np.median( a_n)\n",
        "del( a[ :a.index(a_m)+1] )\n",
        "print(a)"
      ],
      "execution_count": null,
      "outputs": [
        {
          "output_type": "stream",
          "text": [
            "[51, 64, 67, 77, 139, 672, 871]\n"
          ],
          "name": "stdout"
        }
      ]
    },
    {
      "cell_type": "markdown",
      "metadata": {
        "id": "71sNsretazab"
      },
      "source": [
        "문제 499. 위의 결과로 출력된 아래의 리스트에서 중앙값을 출력하시오"
      ]
    },
    {
      "cell_type": "code",
      "metadata": {
        "colab": {
          "base_uri": "https://localhost:8080/"
        },
        "id": "SkCbeIgGa7UP",
        "outputId": "cbd872c1-8013-47c5-f7ca-a61f74b4cb3f"
      },
      "source": [
        "import numpy as np\n",
        "\n",
        "a = [ 1, 7, 11, 12, 14, 23, 33, 47, 51, 64, 67, 77, 139, 672, 871 ]\n",
        "\n",
        "a_n = np.array( a )\n",
        "a_m = np.median( a_n )\n",
        "\n",
        "del( a[ :a.index(a_m)+1] )\n",
        "\n",
        "a_m2 = np.median( a )\n",
        "print( a_m2 ) "
      ],
      "execution_count": null,
      "outputs": [
        {
          "output_type": "execute_result",
          "data": {
            "text/plain": [
              "77.0"
            ]
          },
          "metadata": {
            "tags": []
          },
          "execution_count": 93
        }
      ]
    },
    {
      "cell_type": "markdown",
      "metadata": {
        "id": "WmBfdhbWbVWw"
      },
      "source": [
        "문제 500. 위에서 출력한 중앙값 77이 내가 검색하고자 하는 67보다 크다면 아래의 결과 리스트만 출력되게 하시오\n",
        "~~~\n",
        "[51, 64, 67, 77, 139, 672, 871]\n",
        "결과 [ 51, 64, 67 ]\n",
        "~~~"
      ]
    },
    {
      "cell_type": "code",
      "metadata": {
        "colab": {
          "base_uri": "https://localhost:8080/"
        },
        "id": "9qfD7-CKbpgr",
        "outputId": "61985b15-7041-4b67-dc5d-20fb2a80c48a"
      },
      "source": [
        "import numpy as np\n",
        "\n",
        "a = [ 1, 7, 11, 12, 14, 23, 33, 47, 51, 64, 67, 77, 139, 672, 871 ]\n",
        "\n",
        "a_n = np.array( a )\n",
        "a_m = np.median( a_n )\n",
        "\n",
        "del( a[ :a.index(a_m)+1] )\n",
        "\n",
        "a_m2 = np.median( a )\n",
        "if a_m2 > 67:\n",
        "    del(a[ a.index(a_m2) : ])\n",
        "else:\n",
        "    del(a[: a.index(a_m2) +1 ])\n",
        "\n",
        "print(a)"
      ],
      "execution_count": null,
      "outputs": [
        {
          "output_type": "stream",
          "text": [
            "[51, 64, 67]\n"
          ],
          "name": "stdout"
        }
      ]
    },
    {
      "cell_type": "markdown",
      "metadata": {
        "id": "iQZWEBGFcMBr"
      },
      "source": [
        "문제 501. <필수 알고리즘 2번> EBS에 나온 영상대로 이진탐색을 구현하시오\n",
        "~~~\n",
        "a = [ 1, 7, 11, 12, 14, 23, 33, 47, 51, 64, 67, 77, 139, 672, 871 ]\n",
        "\n",
        "a 리스트에서 검색할 숫자를 입력하세요:    67\n",
        "67은 이진탐색 3번만에 검색되었습니다.\n",
        "\n",
        "a 리스트에서 검색할 숫자를 입력하세요:    68\n",
        "68은 a 리스트에 없습니다.\n",
        "~~~"
      ]
    },
    {
      "cell_type": "code",
      "metadata": {
        "colab": {
          "base_uri": "https://localhost:8080/"
        },
        "id": "iL2JQ4OAc95z",
        "outputId": "72f3861e-653d-4a9d-8f8f-1298b84cdfc6"
      },
      "source": [
        "import numpy as np\n",
        "\n",
        "num = int(input(\"a 리스트에서 검색할 숫자를 입력하세요: \"))\n",
        "\n",
        "a = [ 1, 7, 11, 12, 14, 23, 33, 47, 51, 64, 67, 77, 139, 672, 871 ]\n",
        "\n",
        "cnt = 0\n",
        "while True:\n",
        "    a_n = np.array(a)\n",
        "    a_m = np.median(a_n)\n",
        "    if num > a_m:\n",
        "        del(a[  :a.index(a_m)+1])\n",
        "        cnt += 1\n",
        "    elif num < a_m:\n",
        "        del(a[ a.index(a_m) :])\n",
        "        cnt += 1\n",
        "    elif num == a_m:\n",
        "        print(f\"{num}은 이진탐색 {cnt}번만에 검색되었습니다.\")\n",
        "        break\n",
        "    else:\n",
        "        print(f\"{num}은 a 리스트에 없습니다.\")\n",
        "        break\n"
      ],
      "execution_count": 151,
      "outputs": [
        {
          "output_type": "stream",
          "text": [
            "a 리스트에서 검색할 숫자를 입력하세요: 12\n",
            "12은 이진탐색 1번만에 검색되었습니다.\n"
          ],
          "name": "stdout"
        }
      ]
    }
  ]
}