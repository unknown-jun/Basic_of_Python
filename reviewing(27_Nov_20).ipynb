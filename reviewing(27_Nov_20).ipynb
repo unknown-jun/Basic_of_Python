{
  "nbformat": 4,
  "nbformat_minor": 0,
  "metadata": {
    "colab": {
      "name": "reviewing(27_Nov_20).ipynb",
      "provenance": [],
      "collapsed_sections": [],
      "authorship_tag": "ABX9TyPd4PbrKOWW/srCywG0W45x",
      "include_colab_link": true
    },
    "kernelspec": {
      "name": "python3",
      "display_name": "Python 3"
    }
  },
  "cells": [
    {
      "cell_type": "markdown",
      "metadata": {
        "id": "view-in-github",
        "colab_type": "text"
      },
      "source": [
        "<a href=\"https://colab.research.google.com/github/unknown-jun/Basic_of_Python/blob/master/reviewing(27_Nov_20).ipynb\" target=\"_parent\"><img src=\"https://colab.research.google.com/assets/colab-badge.svg\" alt=\"Open In Colab\"/></a>"
      ]
    },
    {
      "cell_type": "markdown",
      "metadata": {
        "id": "bHSsEnGHyzOg"
      },
      "source": [
        "**1. 동전을 던져서 동전이 앞면인지 뒷면인지를 확인하는 랜덤 난수를 생성해라**"
      ]
    },
    {
      "cell_type": "code",
      "metadata": {
        "colab": {
          "base_uri": "https://localhost:8080/"
        },
        "id": "X52WOfu3yy9p",
        "outputId": "4da6c522-71e4-46e7-92b1-cd77275c18dd"
      },
      "source": [
        "import random as rd\n",
        "\n",
        "coin =  ['Front', 'Back']\n",
        "\n",
        "for i in range(1, 11):\n",
        "  random_coin = rd.choice(coin)\n",
        "  print(random_coin)"
      ],
      "execution_count": null,
      "outputs": [
        {
          "output_type": "stream",
          "text": [
            "Front\n",
            "Front\n",
            "Front\n",
            "Front\n",
            "Back\n",
            "Front\n",
            "Back\n",
            "Back\n",
            "Front\n",
            "Front\n"
          ],
          "name": "stdout"
        }
      ]
    },
    {
      "cell_type": "markdown",
      "metadata": {
        "id": "4U_RtIyrzg1P"
      },
      "source": [
        "**2. 정육각형 주사위이 랜덤 난수를 생성하는 변수를 만든 후 , 이를 랜덤출력하라**"
      ]
    },
    {
      "cell_type": "code",
      "metadata": {
        "colab": {
          "base_uri": "https://localhost:8080/"
        },
        "id": "K6HJI6xvxaqU",
        "outputId": "caf58006-3542-4743-c804-a172d51e5fe3"
      },
      "source": [
        "import random as rd\n",
        "\n",
        "dice = (1, 2, 3, 4, 5, 6)\n",
        "\n",
        "for i in range(1, 11):\n",
        "  random_dice = rd.choice(dice)\n",
        "  print(random_dice)"
      ],
      "execution_count": null,
      "outputs": [
        {
          "output_type": "stream",
          "text": [
            "4\n",
            "3\n",
            "1\n",
            "6\n",
            "3\n",
            "2\n",
            "2\n",
            "1\n",
            "5\n",
            "4\n"
          ],
          "name": "stdout"
        }
      ]
    },
    {
      "cell_type": "markdown",
      "metadata": {
        "id": "ce37aaPZ0IHt"
      },
      "source": [
        "**3. 주사위의 눈이 6개가 있는 변수를 만들고 if문을 써서 \"주사위의 눈에 숫자 5가 있습니다.\"라는 메세지가 출력되게 하시오**"
      ]
    },
    {
      "cell_type": "code",
      "metadata": {
        "colab": {
          "base_uri": "https://localhost:8080/"
        },
        "id": "e1fcKZZ-0P6M",
        "outputId": "900d7e70-7c44-48aa-d1cf-7b061d743d9d"
      },
      "source": [
        "import random as rd\n",
        "\n",
        "dice = (1,2,3,4,5,6)\n",
        "\n",
        "for i in range(1, 11):\n",
        "  random_dice = rd.choice(dice)\n",
        "  if random_dice == 5:\n",
        "    print(\"주사위의 눈에 숫자 5가 있습니다.\")"
      ],
      "execution_count": null,
      "outputs": [
        {
          "output_type": "stream",
          "text": [
            "주사위의 눈에 숫자 5가 있습니다.\n",
            "주사위의 눈에 숫자 5가 있습니다.\n"
          ],
          "name": "stdout"
        }
      ]
    },
    {
      "cell_type": "markdown",
      "metadata": {
        "id": "XSQd6tmL07GV"
      },
      "source": [
        "**4. 위의 코드를 수정해서 숫자를 물어보게 하고 숫자를 입력하면 위의 메세지가 출력되게 하시오**"
      ]
    },
    {
      "cell_type": "code",
      "metadata": {
        "colab": {
          "base_uri": "https://localhost:8080/"
        },
        "id": "lmyHELZy0_xF",
        "outputId": "3240b0d9-2bf0-49d1-99fe-35cdfbeb51a5"
      },
      "source": [
        "import random as rd\n",
        "\n",
        "dice = (1,2,3,4,5,6)\n",
        "number = int(input('주사위 눈금이 몇이 나오면 알려드릴까요?: '))\n",
        "\n",
        "if number >= 7 or number <= 0:\n",
        "  print(\"1~6의 사이의 숫자만 입력해주세요\")\n",
        "\n",
        "else: \n",
        "  z = 0\n",
        "  for i in range(1, 11):\n",
        "    random_dice = rd.choice(dice)\n",
        "    if random_dice == number:\n",
        "      z += 1\n",
        "      print(\"주사위의 눈에 숫자 \",number,\"가 있습니다.\\n\", number,\"가 \",z,\" 번 나왔습니다.\\n\")\n"
      ],
      "execution_count": null,
      "outputs": [
        {
          "output_type": "stream",
          "text": [
            "주사위 눈금이 몇이 나오면 알려드릴까요?: 5\n",
            "주사위의 눈에 숫자  5 가 있습니다.\n",
            " 5 가  1  번 나왔습니다.\n",
            "\n",
            "주사위의 눈에 숫자  5 가 있습니다.\n",
            " 5 가  2  번 나왔습니다.\n",
            "\n",
            "주사위의 눈에 숫자  5 가 있습니다.\n",
            " 5 가  3  번 나왔습니다.\n",
            "\n",
            "주사위의 눈에 숫자  5 가 있습니다.\n",
            " 5 가  4  번 나왔습니다.\n",
            "\n"
          ],
          "name": "stdout"
        }
      ]
    },
    {
      "cell_type": "markdown",
      "metadata": {
        "id": "KITeTNUy4zes"
      },
      "source": [
        "**5. 숫자 두개를 아래와 같이 각각 물어보게 하고 아래처럼 메세지가 출력되게 하시오**\n",
        "\n",
        "~~~\n",
        "첫번째 숫자를 입력하세요: 2\n",
        "두번째 숫자를 입력하세요: 3\n",
        "\n",
        "2는 3보다 작습니다\n",
        "\n",
        "첫번째 숫자를 입력하세요: 3\n",
        "두번째 숫자를 입력하세요: 2\n",
        "\n",
        "3은 2보다 큽니다.\n",
        "~~~"
      ]
    },
    {
      "cell_type": "code",
      "metadata": {
        "colab": {
          "base_uri": "https://localhost:8080/"
        },
        "id": "Rw6Pj79w5aXb",
        "outputId": "c763aafa-41c7-45ed-e49f-4d5180e2ac7c"
      },
      "source": [
        "first = int(input('첫번째 숫자를 입력하세요: '))\n",
        "second = int(input('두번째 숫자를 입력하세요: '))\n",
        "\n",
        "if first > second:\n",
        "  print(first,\"는 \", second,\"보다 큽니다.\")\n",
        "else:\n",
        "  print(first, \"는 \", second,\" 보다 작습니다.\")"
      ],
      "execution_count": null,
      "outputs": [
        {
          "output_type": "stream",
          "text": [
            "첫번째 숫자를 입력하세요: 2\n",
            "두번째 숫자를 입력하세요: 5\n",
            "2 는  5  보다 작습니다.\n"
          ],
          "name": "stdout"
        }
      ]
    },
    {
      "cell_type": "markdown",
      "metadata": {
        "id": "tZ8NpXZu6gXC"
      },
      "source": [
        "**6. 같은 숫자가 2개가 들어오면 '서로 같습니다'라는 메세지가 출력되게 하시오**"
      ]
    },
    {
      "cell_type": "code",
      "metadata": {
        "colab": {
          "base_uri": "https://localhost:8080/"
        },
        "id": "v4eypZkoIWxQ",
        "outputId": "f8be2308-4977-4360-a651-fd0ddcce1ecc"
      },
      "source": [
        "first = int(input('첫번째 숫자를 입력하세요: '))\n",
        "second = int(input('두번째 숫자를 입력하세요: '))\n",
        "\n",
        "if first > second:\n",
        "  print(first,\"는 \", second,\"보다 큽니다.\")\n",
        "elif first == second:\n",
        "  print(\"두 숫자는 서로 같습니다.\")\n",
        "else:\n",
        "  print(first, \"는 \", second,\" 보다 작습니다.\")"
      ],
      "execution_count": null,
      "outputs": [
        {
          "output_type": "stream",
          "text": [
            "첫번째 숫자를 입력하세요: 5\n",
            "두번째 숫자를 입력하세요: 5\n",
            "두 숫자는 서로 같습니다.\n"
          ],
          "name": "stdout"
        }
      ]
    },
    {
      "cell_type": "markdown",
      "metadata": {
        "id": "AWgb0t_-KPDl"
      },
      "source": [
        "**7. 아래와 같은 결과가 출력되는 파이썬 코드를 작성하시오**\n",
        "~~~\n",
        "숫자를 입력하세요~ 4\n",
        "★\n",
        "★★\n",
        "★★★\n",
        "★★★★\n",
        "~~~"
      ]
    },
    {
      "cell_type": "code",
      "metadata": {
        "colab": {
          "base_uri": "https://localhost:8080/"
        },
        "id": "WFfSNpGdKYE0",
        "outputId": "c951f89f-a41d-4cf5-9ebf-f3c3f1de1b3b"
      },
      "source": [
        "num = int(input(\"숫자를 입력하세요: \"))\n",
        "\n",
        "for i in range(1, num +1):\n",
        "  print('★'*i)"
      ],
      "execution_count": null,
      "outputs": [
        {
          "output_type": "stream",
          "text": [
            "숫자를 입력하세요: 4\n",
            "★\n",
            "★★\n",
            "★★★\n",
            "★★★★\n"
          ],
          "name": "stdout"
        }
      ]
    },
    {
      "cell_type": "markdown",
      "metadata": {
        "id": "b_M3OiodLbD0"
      },
      "source": [
        "**8. 주사위를 1000번 던지고 주사위의 눈이 5가 나올 확률을 구하시오**"
      ]
    },
    {
      "cell_type": "code",
      "metadata": {
        "colab": {
          "base_uri": "https://localhost:8080/"
        },
        "id": "r-z2tY7mLgce",
        "outputId": "0d308dfe-d07b-42d2-f6ed-47ee75bb6646"
      },
      "source": [
        "import random as rd\n",
        "\n",
        "dice = [1,2,3,4,5,6]\n",
        "cnt = 0\n",
        "\n",
        "for i in range(1000):\n",
        "  random_dice = rd.choice(dice)\n",
        "  if random_dice == 5:\n",
        "    cnt += 1\n",
        "\n",
        "print(c/1000)"
      ],
      "execution_count": null,
      "outputs": [
        {
          "output_type": "stream",
          "text": [
            "0.171\n"
          ],
          "name": "stdout"
        }
      ]
    },
    {
      "cell_type": "markdown",
      "metadata": {
        "id": "4gscAUpHMA8Z"
      },
      "source": [
        "**9. 주사위 하나와 동전 한개를 동시에 던져서 주사위의 눈은 5가 나오고**\n",
        "\n",
        "**동전은 앞면이 나올 확률은 어떻게 되는가?**"
      ]
    },
    {
      "cell_type": "code",
      "metadata": {
        "colab": {
          "base_uri": "https://localhost:8080/"
        },
        "id": "NwCVSSB7MZgg",
        "outputId": "d50f4ad8-5521-4a5d-bc27-b6b46cb0115c"
      },
      "source": [
        "import random as rd\n",
        "\n",
        "dice = (1,2,3,4,5,6)\n",
        "coin = ('앞면', '뒷면')\n",
        "cnt = 0\n",
        "\n",
        "for i in range(1000):\n",
        "  random_coin = rd.choice(coin)\n",
        "  random_dice = rd.choice(dice)\n",
        "  if random_coin == '앞면' and random_dice == 5:\n",
        "    cnt += 1\n",
        "\n",
        "print(cnt/1000)"
      ],
      "execution_count": null,
      "outputs": [
        {
          "output_type": "stream",
          "text": [
            "0.072\n"
          ],
          "name": "stdout"
        }
      ]
    },
    {
      "cell_type": "markdown",
      "metadata": {
        "id": "uJs39lOcNmos"
      },
      "source": [
        "**10. 9단까지의 모든 구구단을 출력하시오**"
      ]
    },
    {
      "cell_type": "code",
      "metadata": {
        "colab": {
          "base_uri": "https://localhost:8080/"
        },
        "id": "dGgTmY5SNbYP",
        "outputId": "2d3fd3db-7126-4c1a-cb8b-75135f38b0d4"
      },
      "source": [
        "for i in range(2, 10):\n",
        "  for e in range(1, 10):\n",
        "    print(i, \" X \", e ,\" = \", i*e)"
      ],
      "execution_count": null,
      "outputs": [
        {
          "output_type": "stream",
          "text": [
            "2  X  1  =  2\n",
            "2  X  2  =  4\n",
            "2  X  3  =  6\n",
            "2  X  4  =  8\n",
            "2  X  5  =  10\n",
            "2  X  6  =  12\n",
            "2  X  7  =  14\n",
            "2  X  8  =  16\n",
            "2  X  9  =  18\n",
            "3  X  1  =  3\n",
            "3  X  2  =  6\n",
            "3  X  3  =  9\n",
            "3  X  4  =  12\n",
            "3  X  5  =  15\n",
            "3  X  6  =  18\n",
            "3  X  7  =  21\n",
            "3  X  8  =  24\n",
            "3  X  9  =  27\n",
            "4  X  1  =  4\n",
            "4  X  2  =  8\n",
            "4  X  3  =  12\n",
            "4  X  4  =  16\n",
            "4  X  5  =  20\n",
            "4  X  6  =  24\n",
            "4  X  7  =  28\n",
            "4  X  8  =  32\n",
            "4  X  9  =  36\n",
            "5  X  1  =  5\n",
            "5  X  2  =  10\n",
            "5  X  3  =  15\n",
            "5  X  4  =  20\n",
            "5  X  5  =  25\n",
            "5  X  6  =  30\n",
            "5  X  7  =  35\n",
            "5  X  8  =  40\n",
            "5  X  9  =  45\n",
            "6  X  1  =  6\n",
            "6  X  2  =  12\n",
            "6  X  3  =  18\n",
            "6  X  4  =  24\n",
            "6  X  5  =  30\n",
            "6  X  6  =  36\n",
            "6  X  7  =  42\n",
            "6  X  8  =  48\n",
            "6  X  9  =  54\n",
            "7  X  1  =  7\n",
            "7  X  2  =  14\n",
            "7  X  3  =  21\n",
            "7  X  4  =  28\n",
            "7  X  5  =  35\n",
            "7  X  6  =  42\n",
            "7  X  7  =  49\n",
            "7  X  8  =  56\n",
            "7  X  9  =  63\n",
            "8  X  1  =  8\n",
            "8  X  2  =  16\n",
            "8  X  3  =  24\n",
            "8  X  4  =  32\n",
            "8  X  5  =  40\n",
            "8  X  6  =  48\n",
            "8  X  7  =  56\n",
            "8  X  8  =  64\n",
            "8  X  9  =  72\n",
            "9  X  1  =  9\n",
            "9  X  2  =  18\n",
            "9  X  3  =  27\n",
            "9  X  4  =  36\n",
            "9  X  5  =  45\n",
            "9  X  6  =  54\n",
            "9  X  7  =  63\n",
            "9  X  8  =  72\n",
            "9  X  9  =  81\n"
          ],
          "name": "stdout"
        }
      ]
    },
    {
      "cell_type": "markdown",
      "metadata": {
        "id": "mMeSD3iJOx_E"
      },
      "source": [
        "**11. 주사위를 10번 던져서 주사위의 눈을 10개를 출력하시오**"
      ]
    },
    {
      "cell_type": "code",
      "metadata": {
        "colab": {
          "base_uri": "https://localhost:8080/"
        },
        "id": "zaapdVqhPGD0",
        "outputId": "5c39a1f2-fec5-474a-fc7f-8f779b3bebe6"
      },
      "source": [
        "import random as rd\n",
        "\n",
        "dice = (1,2,3,4,5,6)\n",
        "\n",
        "for i in range(1, 11):\n",
        "  print(rd.choice(dice))"
      ],
      "execution_count": null,
      "outputs": [
        {
          "output_type": "stream",
          "text": [
            "1\n",
            "6\n",
            "6\n",
            "1\n",
            "4\n",
            "5\n",
            "3\n",
            "3\n",
            "1\n",
            "2\n"
          ],
          "name": "stdout"
        }
      ]
    },
    {
      "cell_type": "markdown",
      "metadata": {
        "id": "_MWF6g2VPcUa"
      },
      "source": [
        "**12. 주사위를 10번 던졌을 때 짝수가 나오는 횟수를 출력하시오!**"
      ]
    },
    {
      "cell_type": "code",
      "metadata": {
        "colab": {
          "base_uri": "https://localhost:8080/"
        },
        "id": "OI9dSwqIPhZI",
        "outputId": "2baecfc2-d2e2-472d-ad3a-39e4a5d2317c"
      },
      "source": [
        "import random as rd\n",
        "\n",
        "dice = [1,2,3,4,5,6]\n",
        "cnt = 0\n",
        "\n",
        "for i in range(1, 11):\n",
        "  random_dice=rd.choice(dice)\n",
        "  if random_dice%2 == 0:\n",
        "    cnt+=1\n",
        "  \n",
        "print(cnt)"
      ],
      "execution_count": null,
      "outputs": [
        {
          "output_type": "stream",
          "text": [
            "7\n"
          ],
          "name": "stdout"
        }
      ]
    },
    {
      "cell_type": "markdown",
      "metadata": {
        "id": "vswHsE9IP25s"
      },
      "source": [
        "**13. 위의 주사위를 10번 던져서 짝수가 나오는 횟수를 확인하는 5 번 작업을 뽑으시오**"
      ]
    },
    {
      "cell_type": "code",
      "metadata": {
        "colab": {
          "base_uri": "https://localhost:8080/"
        },
        "id": "8OkNJiEpQrH5",
        "outputId": "413d6e05-669d-4773-9ed6-3e3c2f865962"
      },
      "source": [
        "import random as rd\n",
        "\n",
        "dice = [1,2,3,4,5,6]\n",
        "\n",
        "for i in range(1, 6):\n",
        "  cnt = 0\n",
        "  for e in range(1, 11):\n",
        "    random_dice=rd.choice(dice)\n",
        "    if random_dice%2 == 0:\n",
        "      cnt+=1\n",
        "  print(cnt)"
      ],
      "execution_count": null,
      "outputs": [
        {
          "output_type": "stream",
          "text": [
            "3\n",
            "6\n",
            "5\n",
            "5\n",
            "2\n"
          ],
          "name": "stdout"
        }
      ]
    },
    {
      "cell_type": "markdown",
      "metadata": {
        "id": "gpKWMuCWavq2"
      },
      "source": [
        "**14. 동전을 100번 던져서 앞면이 나올 확률을 구하는 작업을 50번 반복해서 확률을 50개 출력하시오!**"
      ]
    },
    {
      "cell_type": "code",
      "metadata": {
        "colab": {
          "base_uri": "https://localhost:8080/"
        },
        "id": "_FzrISSEc7X2",
        "outputId": "8614f0b7-7484-4208-c49a-475428c7220f"
      },
      "source": [
        "import random as rd\n",
        "\n",
        "coin = ('front', 'back')\n",
        "\n",
        "for e in range(50):\n",
        "  cnt = 0\n",
        "  for i in range(100):\n",
        "    random_coin = rd.choice(coin)\n",
        "    if random_coin == 'front':\n",
        "      cnt += 1\n",
        "  print(cnt/100)"
      ],
      "execution_count": null,
      "outputs": [
        {
          "output_type": "stream",
          "text": [
            "0.43\n",
            "0.51\n",
            "0.47\n",
            "0.51\n",
            "0.52\n",
            "0.49\n",
            "0.42\n",
            "0.51\n",
            "0.47\n",
            "0.55\n",
            "0.54\n",
            "0.49\n",
            "0.43\n",
            "0.45\n",
            "0.42\n",
            "0.48\n",
            "0.58\n",
            "0.46\n",
            "0.47\n",
            "0.51\n",
            "0.46\n",
            "0.5\n",
            "0.53\n",
            "0.58\n",
            "0.52\n",
            "0.48\n",
            "0.5\n",
            "0.54\n",
            "0.47\n",
            "0.47\n",
            "0.51\n",
            "0.58\n",
            "0.45\n",
            "0.45\n",
            "0.55\n",
            "0.57\n",
            "0.59\n",
            "0.51\n",
            "0.4\n",
            "0.53\n",
            "0.53\n",
            "0.5\n",
            "0.45\n",
            "0.54\n",
            "0.55\n",
            "0.57\n",
            "0.59\n",
            "0.53\n",
            "0.56\n",
            "0.57\n"
          ],
          "name": "stdout"
        }
      ]
    },
    {
      "cell_type": "code",
      "metadata": {
        "colab": {
          "base_uri": "https://localhost:8080/"
        },
        "id": "6q6YJXiceZJO",
        "outputId": "5b4cc3c7-9261-46fc-9e6f-d7d323db0f17"
      },
      "source": [
        "# append \n",
        "a = []  # append를 실행시키기 위해선 해당 변수가 리스트형이여야 함\n",
        "a.append(1)   # 넣고자 하는 해당 변수의 메소드로 append를 추가하고 \n",
        "                     # 해당 변수안에 넣고자 하는 값은 괄호안에 추가한다.\n",
        "print(a)\n",
        "a.append(2)\n",
        "print(a)"
      ],
      "execution_count": null,
      "outputs": [
        {
          "output_type": "stream",
          "text": [
            "[1]\n",
            "[1, 2]\n"
          ],
          "name": "stdout"
        }
      ]
    },
    {
      "cell_type": "markdown",
      "metadata": {
        "id": "Rs-hUSKoeR2w"
      },
      "source": [
        "**15. 두개의 동전을 30번 동시에 던져 앞면이 나오는 것을 출력하여 X 리스트에 100개 입력하시오**\n"
      ]
    },
    {
      "cell_type": "code",
      "metadata": {
        "colab": {
          "base_uri": "https://localhost:8080/"
        },
        "id": "-DEFWv7nfo19",
        "outputId": "1612295e-cad6-4dc5-c57f-11a5761ab705"
      },
      "source": [
        "import random as rd\n",
        "\n",
        "coin = ('front', 'back')\n",
        "X_list = []\n",
        "\n",
        "for e in range(100):\n",
        "  X_list.append(cnt)\n",
        "  cnt = 0\n",
        "  for i in range(30):\n",
        "    random_coin1 = rd.choice(coin)\n",
        "    random_coin2 = rd.choice(coin)\n",
        "    if random_coin1 == 'front' and random_coin2 == 'front':\n",
        "      cnt += 1\n",
        "      \n",
        "print(X_list)"
      ],
      "execution_count": null,
      "outputs": [
        {
          "output_type": "stream",
          "text": [
            "[9, 10, 5, 13, 7, 5, 8, 8, 6, 7, 5, 6, 9, 7, 10, 5, 7, 5, 6, 5, 3, 8, 10, 6, 7, 5, 6, 8, 8, 6, 5, 11, 13, 5, 6, 9, 11, 6, 9, 7, 4, 10, 4, 4, 6, 8, 4, 5, 8, 5, 9, 7, 6, 6, 8, 6, 10, 5, 6, 10, 8, 6, 11, 7, 7, 10, 8, 7, 11, 6, 6, 9, 9, 8, 8, 12, 2, 3, 6, 10, 6, 7, 5, 6, 8, 7, 10, 6, 9, 9, 9, 11, 5, 3, 8, 8, 5, 4, 8, 9]\n"
          ],
          "name": "stdout"
        }
      ]
    },
    {
      "cell_type": "markdown",
      "metadata": {
        "id": "BouPPRrXvNrv"
      },
      "source": [
        "**16. 확률변수 x의 값들의 평균과 분산과 표준편차를 출력하시오**\n",
        "\n",
        "\n",
        "15. 두개의 동전을 30번 동시에 던져 앞면이 나오는 것을 출력하여 X 리스트에 100개 입력하시오"
      ]
    },
    {
      "cell_type": "code",
      "metadata": {
        "colab": {
          "base_uri": "https://localhost:8080/"
        },
        "id": "dOIU0lv3wcBq",
        "outputId": "ecabe0f4-0f24-4a67-a0b6-1339a318abc4"
      },
      "source": [
        "import random as rd\n",
        "import numpy as np\n",
        "\n",
        "coin = ('front', 'back')\n",
        "\n",
        "a = []\n",
        "for j in range(1000):\n",
        "  cnt = 0\n",
        "  for i in range(300):\n",
        "    random_coin1 = rd.choice(coin)\n",
        "    random_coin2 = rd.choice(coin)\n",
        "    if random_coin1 == 'front' and random_coin2 == 'front':\n",
        "      cnt += 1\n",
        "    a.append(cnt)\n",
        "\n",
        "print(np.mean(a))\n",
        "print(np.var(a))\n",
        "print(np.std(a))"
      ],
      "execution_count": 113,
      "outputs": [
        {
          "output_type": "stream",
          "text": [
            "37.88764666666667\n",
            "507.52367006182226\n",
            "22.528285999201586\n"
          ],
          "name": "stdout"
        }
      ]
    },
    {
      "cell_type": "markdown",
      "metadata": {
        "id": "64uamw-a0-NY"
      },
      "source": [
        "**numpy 평균, 분산, 표준편차**\n",
        "- numpy 는 리스트 안 원소의 평균, 분산, 표준편차을 구할 수 있다\n",
        "~~~\n",
        "ex_list = [1,3,7]\n",
        "~~~\n",
        "~~~\n",
        "np.mean(ex_list)\n",
        "넘파이.평균(해당변수)\n",
        "~~~\n",
        "~~~\n",
        "np.var(ex_list)\n",
        "넘파이.분산(해당변수)\n",
        "~~~\n",
        "~~~\n",
        "np.std(ex_list)\n",
        "넘파이.표준편차(해당변수)\n",
        "~~~"
      ]
    },
    {
      "cell_type": "markdown",
      "metadata": {
        "id": "ETS25zhD6GKi"
      },
      "source": [
        "**16. 5는 출력하지 않고 1에서 10까지 출력해라**"
      ]
    },
    {
      "cell_type": "code",
      "metadata": {
        "colab": {
          "base_uri": "https://localhost:8080/"
        },
        "id": "Yp-eyGi16FrN",
        "outputId": "5d87368e-eff1-4570-a9aa-116f0ca76b1c"
      },
      "source": [
        "for i in range(10):\n",
        "  if i == 5:\n",
        "    continue\n",
        "  print(i)"
      ],
      "execution_count": 115,
      "outputs": [
        {
          "output_type": "stream",
          "text": [
            "0\n",
            "1\n",
            "2\n",
            "3\n",
            "4\n",
            "6\n",
            "7\n",
            "8\n",
            "9\n"
          ],
          "name": "stdout"
        }
      ]
    },
    {
      "cell_type": "markdown",
      "metadata": {
        "id": "s1j0ANxd62jU"
      },
      "source": [
        "**17. 1 부터 10까지의 숫자 중 짝수만 출력하시오**"
      ]
    },
    {
      "cell_type": "code",
      "metadata": {
        "colab": {
          "base_uri": "https://localhost:8080/"
        },
        "id": "YeLZp7v-3aS1",
        "outputId": "a6767cd7-68f0-495d-c161-ba0155ea493d"
      },
      "source": [
        "for i in range(1,11):\n",
        "  if i % 2 == 1:\n",
        "    continue\n",
        "  print(i)"
      ],
      "execution_count": 116,
      "outputs": [
        {
          "output_type": "stream",
          "text": [
            "2\n",
            "4\n",
            "6\n",
            "8\n",
            "10\n"
          ],
          "name": "stdout"
        }
      ]
    },
    {
      "cell_type": "markdown",
      "metadata": {
        "id": "diNAsvJv7h1T"
      },
      "source": [
        "**18. 1에서 10까지의 합을 구해라**"
      ]
    },
    {
      "cell_type": "code",
      "metadata": {
        "colab": {
          "base_uri": "https://localhost:8080/"
        },
        "id": "_ZFs1My27lxY",
        "outputId": "b6c80ba0-c646-41f6-d6f7-52372c9b3142"
      },
      "source": [
        "a = []\n",
        "for i in range(1, 11):\n",
        "  a.append(i)\n",
        "\n",
        "print(sum(a))\n",
        "# 다른 방법\n",
        "a=0\n",
        "for i in range(1, 11):\n",
        "  a = a+ i\n",
        "\n",
        "print(a)"
      ],
      "execution_count": 121,
      "outputs": [
        {
          "output_type": "stream",
          "text": [
            "55\n",
            "55\n"
          ],
          "name": "stdout"
        }
      ]
    },
    {
      "cell_type": "markdown",
      "metadata": {
        "id": "IHSg_Lk98IU4"
      },
      "source": [
        "**if 문의 continue**\n",
        "\n",
        "- for 반복문 내에서 continue를 만나면 그 다음 반복으로 실행으로 넘어감"
      ]
    },
    {
      "cell_type": "markdown",
      "metadata": {
        "id": "oS1ObsEM8rWD"
      },
      "source": [
        "**19. 두 숫자를 각각 물어보게 하고 입력받아 두 숫자의 최대공약수를 출력하시오**"
      ]
    },
    {
      "cell_type": "code",
      "metadata": {
        "colab": {
          "base_uri": "https://localhost:8080/"
        },
        "id": "mWfhJ09U8cTE",
        "outputId": "8db34b2d-ff66-456c-aa9c-0f5a6bb410ab"
      },
      "source": [
        "first = int(input('첫번째 숫자를 입력하세요: '))\n",
        "second = int(input('두번째 숫자를 입력하세요: '))\n",
        "a = []\n",
        "\n",
        "for i in range(1, 101):\n",
        "  if first % i == 0 and second % i == 0:\n",
        "    a.append(i)\n",
        "\n",
        "print(max(a))"
      ],
      "execution_count": 128,
      "outputs": [
        {
          "output_type": "stream",
          "text": [
            "첫번째 숫자를 입력하세요: 13\n",
            "두번째 숫자를 입력하세요: 39\n",
            "13\n"
          ],
          "name": "stdout"
        }
      ]
    },
    {
      "cell_type": "markdown",
      "metadata": {
        "id": "Vg0Eu1Sp-Qtd"
      },
      "source": [
        "**20. 숫자를 물어보게 하고 숫자를 입력하면 해당 숫자만큼 1번부터 숫자가 출력되게 하시오**"
      ]
    },
    {
      "cell_type": "code",
      "metadata": {
        "colab": {
          "base_uri": "https://localhost:8080/"
        },
        "id": "FxXZQqim-QRu",
        "outputId": "ecc8cbf3-e61d-44fe-dda3-246158f62b8a"
      },
      "source": [
        "num = int(input('숫자를 출력하시오: '))\n",
        "\n",
        "for i in range(1, num+1):\n",
        "  print(i)"
      ],
      "execution_count": 129,
      "outputs": [
        {
          "output_type": "stream",
          "text": [
            "숫자를 출력하시오: 15\n",
            "1\n",
            "2\n",
            "3\n",
            "4\n",
            "5\n",
            "6\n",
            "7\n",
            "8\n",
            "9\n",
            "10\n",
            "11\n",
            "12\n",
            "13\n",
            "14\n",
            "15\n"
          ],
          "name": "stdout"
        }
      ]
    },
    {
      "cell_type": "markdown",
      "metadata": {
        "id": "9pBGVWV--k3y"
      },
      "source": [
        "**21. 위의 입력한 숫자까지 다 출력하면 아래에 perfect란 단어가 출력되게 하시오!**"
      ]
    },
    {
      "cell_type": "code",
      "metadata": {
        "colab": {
          "base_uri": "https://localhost:8080/"
        },
        "id": "iVMpHndH-oh7",
        "outputId": "a4444eee-5e46-4d15-ce6a-84b8935e18c6"
      },
      "source": [
        "num = int(input('숫자를 출력하시오: '))\n",
        "\n",
        "for i in range(1, num+1):\n",
        "  print(i)\n",
        "  if i == num:\n",
        "    print('perfect')\n",
        "    \n",
        "# 다른 방법\n",
        "\n",
        "num = int(input('숫자를 출력하시오: '))\n",
        "\n",
        "for i in range(1, num+1):\n",
        "  print(i)\n",
        "else:\n",
        "  print('perfect')"
      ],
      "execution_count": 132,
      "outputs": [
        {
          "output_type": "stream",
          "text": [
            "숫자를 출력하시오: 10\n",
            "1\n",
            "2\n",
            "3\n",
            "4\n",
            "5\n",
            "6\n",
            "7\n",
            "8\n",
            "9\n",
            "10\n",
            "perfect\n",
            "숫자를 출력하시오: 10\n",
            "1\n",
            "2\n",
            "3\n",
            "4\n",
            "5\n",
            "6\n",
            "7\n",
            "8\n",
            "9\n",
            "10\n",
            "perfect\n"
          ],
          "name": "stdout"
        }
      ]
    },
    {
      "cell_type": "markdown",
      "metadata": {
        "id": "7ddBFkkm_ipR"
      },
      "source": [
        "**22. 위의 코드를 수정해서 중단할 숫자를 또 물어보게 해서 아래와 같이 실행되게 하시오**\n",
        "~~~\n",
        "숫자를 입력하세요:  10\n",
        "중단할 숫자를 입력하세요:   5\n",
        "\n",
        "1\n",
        "2\n",
        "3\n",
        "4\n",
        "5\n"
      ]
    },
    {
      "cell_type": "code",
      "metadata": {
        "colab": {
          "base_uri": "https://localhost:8080/"
        },
        "id": "bPDmBPU3_nWk",
        "outputId": "750b36ac-cb9a-45d4-c267-3daf84eea26e"
      },
      "source": [
        "num = int(input('숫자를 입력하세요: '))\n",
        "stop_num = int(input('중단할 숫자를 입력하세요: '))\n",
        "\n",
        "for i in range(1, num+1):\n",
        "  if i == stop_num + 1:\n",
        "    break\n",
        "  print(i)\n",
        "else: \n",
        "  print('perfect')"
      ],
      "execution_count": 136,
      "outputs": [
        {
          "output_type": "stream",
          "text": [
            "숫자를 입력하세요: 9\n",
            "중단할 숫자를 입력하세요: 9\n",
            "1\n",
            "2\n",
            "3\n",
            "4\n",
            "5\n",
            "6\n",
            "7\n",
            "8\n",
            "9\n",
            "perfect\n"
          ],
          "name": "stdout"
        }
      ]
    },
    {
      "cell_type": "markdown",
      "metadata": {
        "id": "BVFGrS6zBF0n"
      },
      "source": [
        "**for else 개념 배우기**\n",
        "\n",
        "- for 반복문을 완전히 수행했을 때만 실행되는 부분을 정의하려면 for else문을 사용해야 함\n",
        "- else 문은 for 반복문이 완벽하게 수행 됐을 때만 실행이 됨"
      ]
    },
    {
      "cell_type": "markdown",
      "metadata": {
        "id": "KZU7hYNyD1oQ"
      },
      "source": [
        "**while 문**\n",
        "- for 루프문처럼 while 루프문도 똑같은 반복문\n",
        "- for 루프문은 **특정 범위**안에서 반복 실행하게 되는 반면\n",
        "- while 루프문은 **특정 조건**에서 반복 실행됨\n",
        "~~~\n",
        "for 루프문           vs           while 루프문\n",
        "for i in range(1,10):             x = 0\n",
        "    print(i)                      while x < 10:      # 이 조건이 참이 되어야지만\n",
        "                                         print(x)    # 뒤에 있는 실행코드들이 작동\n",
        "                                         x= x + 1\n",
        "                                                                            .\n",
        "while 문의 작동 원리\n",
        "     0 < 10: 참\n",
        "     1 < 10: 참\n",
        "          :\n",
        "     9 < 10: 참\n",
        "    10 < 10: 거짓\n",
        "~~~"
      ]
    },
    {
      "cell_type": "markdown",
      "metadata": {
        "id": "IWSyhYRpGcUU"
      },
      "source": [
        "**23.아래와 같이 숫자를 물어보게 하고 숫자를 입력하면 해당 숫자만큼 ★이 출력되게 하시오 (while loop문으로 작성하시오)**\n",
        "~~~\n",
        "숫자를 입력하세요: 5\n",
        "\n",
        "★ \n",
        "★★ \n",
        "★★★ \n",
        "★★★★ \n",
        "★★★★★\n",
        "~~~"
      ]
    },
    {
      "cell_type": "code",
      "metadata": {
        "colab": {
          "base_uri": "https://localhost:8080/"
        },
        "id": "jeMdgv91BFib",
        "outputId": "6f960fc1-f269-4e8e-f3d9-9de71dcebeb5"
      },
      "source": [
        "num = int(input('숫자를 입력하세요: '))\n",
        "\n",
        "i = 0\n",
        "while i < num+1:\n",
        "    print('★' * i)\n",
        "    i += 1"
      ],
      "execution_count": 142,
      "outputs": [
        {
          "output_type": "stream",
          "text": [
            "숫자를 입력하세요: 5\n",
            "\n",
            "★\n",
            "★★\n",
            "★★★\n",
            "★★★★\n",
            "★★★★★\n"
          ],
          "name": "stdout"
        }
      ]
    },
    {
      "cell_type": "markdown",
      "metadata": {
        "id": "8x465DLcHmTN"
      },
      "source": [
        "**문제 45. 아래와 같이 결과가 출력되게 하시오**\n",
        "~~~\n",
        "숫자를 입력하세요:   5\n",
        "\n",
        "★★★★★\n",
        "★★★★\n",
        "★★★\n",
        "★★\n",
        "★\n",
        "~~~"
      ]
    },
    {
      "cell_type": "code",
      "metadata": {
        "colab": {
          "base_uri": "https://localhost:8080/"
        },
        "id": "x1f1CN-GHr5l",
        "outputId": "4a934c46-3c98-4582-bc9e-2e0b2a287bd6"
      },
      "source": [
        "num = int(input('숫자를 입력하세요: '))\n",
        "\n",
        "while num > 0:\n",
        "    print('★' * num)\n",
        "    num -= 1"
      ],
      "execution_count": 146,
      "outputs": [
        {
          "output_type": "stream",
          "text": [
            "숫자를 입력하세요: 5\n",
            "★★★★★\n",
            "★★★★\n",
            "★★★\n",
            "★★\n",
            "★\n"
          ],
          "name": "stdout"
        }
      ]
    }
  ]
}