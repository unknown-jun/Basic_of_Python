{
  "nbformat": 4,
  "nbformat_minor": 0,
  "metadata": {
    "colab": {
      "name": "08_Dev_2020.ipynb",
      "provenance": [],
      "toc_visible": true,
      "authorship_tag": "ABX9TyNOc7XIu4rq9FLQqyv7J3Ox",
      "include_colab_link": true
    },
    "kernelspec": {
      "name": "python3",
      "display_name": "Python 3"
    }
  },
  "cells": [
    {
      "cell_type": "markdown",
      "metadata": {
        "id": "view-in-github",
        "colab_type": "text"
      },
      "source": [
        "<a href=\"https://colab.research.google.com/github/unknown-jun/Basic_of_Python/blob/master/08_Dev_2020.ipynb\" target=\"_parent\"><img src=\"https://colab.research.google.com/assets/colab-badge.svg\" alt=\"Open In Colab\"/></a>"
      ]
    },
    {
      "cell_type": "markdown",
      "metadata": {
        "id": "TJs6XyddzPKB"
      },
      "source": [
        "#75. 문자열에서 특정 위치의 문자얻기\n",
        "- 문자열에서 특정위치의 문자를 얻는 방법은 인덱싱을 이용하는 것\n",
        "- 파이썬의 인덱스는 0부터 시작하며 음수도 가능"
      ]
    },
    {
      "cell_type": "code",
      "metadata": {
        "colab": {
          "base_uri": "https://localhost:8080/"
        },
        "id": "B6kpaMRFzKag",
        "outputId": "1d74f799-1e59-43ff-db59-5bc8e3f2480f"
      },
      "source": [
        "print('scott'[0])\n",
        "print('scott'[2])\n",
        "\n",
        "a = 'scott'   # a 라는 문자형 변수를 생성하면서 scott을 a라는 빈컵에 담음\n",
        "print(a[0])\n",
        "print(a[2])"
      ],
      "execution_count": 2,
      "outputs": [
        {
          "output_type": "stream",
          "text": [
            "s\n",
            "o\n",
            "s\n",
            "o\n"
          ],
          "name": "stdout"
        }
      ]
    },
    {
      "cell_type": "markdown",
      "metadata": {
        "id": "y2kwSAmC1l8D"
      },
      "source": [
        "**문제 253. 아래의 txt변수에서 w를 출력하시오**\n",
        "\n",
        "~~~\n",
        "txt = 'A tale that was not right'\n",
        "~~~"
      ]
    },
    {
      "cell_type": "code",
      "metadata": {
        "colab": {
          "base_uri": "https://localhost:8080/"
        },
        "id": "6ohVuUVW1pwU",
        "outputId": "cae6741a-eb2b-4683-d1db-b0f4baafd306"
      },
      "source": [
        "txt = 'A tale that was not right'\n",
        "print(txt[12])"
      ],
      "execution_count": 3,
      "outputs": [
        {
          "output_type": "stream",
          "text": [
            "w\n"
          ],
          "name": "stdout"
        }
      ]
    },
    {
      "cell_type": "markdown",
      "metadata": {
        "id": "9wBWIjav12cc"
      },
      "source": [
        "**문제 254. 위의 txt 변수에서 맨끝의 철자인 t를 출력하시오**"
      ]
    },
    {
      "cell_type": "code",
      "metadata": {
        "colab": {
          "base_uri": "https://localhost:8080/"
        },
        "id": "F7nspA2Y2TII",
        "outputId": "6737388d-93f4-4ac8-9f06-61c64d71d2ac"
      },
      "source": [
        "print(txt[-1])"
      ],
      "execution_count": 4,
      "outputs": [
        {
          "output_type": "stream",
          "text": [
            "t\n"
          ],
          "name": "stdout"
        }
      ]
    },
    {
      "cell_type": "markdown",
      "metadata": {
        "id": "bt4WrMIf2YA1"
      },
      "source": [
        "**문제 255. emp2.csv에서 이름만 출력하시오**  \n",
        "(판다스를 이용하지 말고 emp2.csv파일에 직접 읽어들여서 출력하시오)"
      ]
    },
    {
      "cell_type": "code",
      "metadata": {
        "colab": {
          "base_uri": "https://localhost:8080/"
        },
        "id": "Xht2lPNZYHaC",
        "outputId": "c35425bd-dfbe-4424-8121-a8696c6c8b2c"
      },
      "source": [
        "import csv\n",
        "file = open(\"emp2.csv\")\n",
        "emp_csv = csv.reader(file)\n",
        "for emp_list in emp_csv:\n",
        "    print(emp_list[1])"
      ],
      "execution_count": 190,
      "outputs": [
        {
          "output_type": "stream",
          "text": [
            "KING\n",
            "BLAKE\n",
            "CLARK\n",
            "JONES\n",
            "MARTIN\n",
            "ALLEN\n",
            "TURNER\n",
            "JAMES\n",
            "WARD\n",
            "FORD\n",
            "SMITH\n",
            "SCOTT\n",
            "ADAMS\n",
            "MILLER\n"
          ],
          "name": "stdout"
        }
      ]
    },
    {
      "cell_type": "markdown",
      "metadata": {
        "id": "R0B9OsgH3p0S"
      },
      "source": [
        "**문제 256. 위의 출력된 이름의 데이터 유형이 무엇인지 확인하시오**\n",
        "\n"
      ]
    },
    {
      "cell_type": "code",
      "metadata": {
        "colab": {
          "base_uri": "https://localhost:8080/"
        },
        "id": "OsCp9hl-YN5j",
        "outputId": "bc66e4f9-05c3-44f6-e92d-0e83df9c7234"
      },
      "source": [
        "import csv\n",
        "file = open(\"emp2.csv\")\n",
        "emp_csv = csv.reader(file)\n",
        "for emp_list in emp_csv:\n",
        "    print(type(emp_list[1]))"
      ],
      "execution_count": 191,
      "outputs": [
        {
          "output_type": "stream",
          "text": [
            "<class 'str'>\n",
            "<class 'str'>\n",
            "<class 'str'>\n",
            "<class 'str'>\n",
            "<class 'str'>\n",
            "<class 'str'>\n",
            "<class 'str'>\n",
            "<class 'str'>\n",
            "<class 'str'>\n",
            "<class 'str'>\n",
            "<class 'str'>\n",
            "<class 'str'>\n",
            "<class 'str'>\n",
            "<class 'str'>\n"
          ],
          "name": "stdout"
        }
      ]
    },
    {
      "cell_type": "markdown",
      "metadata": {
        "id": "EqZkd_aM4D1p"
      },
      "source": [
        "**문제 257. 문제 255번을 다시 수행해서 emp2.csv에서 이름을 출력하는데 이름의 첫번째 철자만 출력하시오**\n",
        "\n"
      ]
    },
    {
      "cell_type": "code",
      "metadata": {
        "colab": {
          "base_uri": "https://localhost:8080/"
        },
        "id": "J40JMulLYUA-",
        "outputId": "6ddc03f2-a80a-4382-a10e-3cdc6df4c953"
      },
      "source": [
        "import csv\n",
        "file = open(\"emp2.csv\")\n",
        "emp_csv = csv.reader(file)\n",
        "for emp_list in emp_csv:\n",
        "    print(emp_list[1][0])"
      ],
      "execution_count": 192,
      "outputs": [
        {
          "output_type": "stream",
          "text": [
            "K\n",
            "B\n",
            "C\n",
            "J\n",
            "M\n",
            "A\n",
            "T\n",
            "J\n",
            "W\n",
            "F\n",
            "S\n",
            "S\n",
            "A\n",
            "M\n"
          ],
          "name": "stdout"
        }
      ]
    },
    {
      "cell_type": "markdown",
      "metadata": {
        "id": "EVC9NCiS4dGw"
      },
      "source": [
        "**문제 258. 위의 결과를 다시 출력하는데 첫번째 철자는 소문자로 출력되게 하시오**\n"
      ]
    },
    {
      "cell_type": "code",
      "metadata": {
        "colab": {
          "base_uri": "https://localhost:8080/"
        },
        "id": "87E_fIiCYY4a",
        "outputId": "f1c090dd-2940-4663-d2ab-c862c4d8c9fa"
      },
      "source": [
        "import csv\n",
        "file = open(\"emp2.csv\")\n",
        "emp_csv = csv.reader(file)\n",
        "for emp_list in emp_csv:\n",
        "    print(emp_list[1][0].lower())"
      ],
      "execution_count": 193,
      "outputs": [
        {
          "output_type": "stream",
          "text": [
            "k\n",
            "b\n",
            "c\n",
            "j\n",
            "m\n",
            "a\n",
            "t\n",
            "j\n",
            "w\n",
            "f\n",
            "s\n",
            "s\n",
            "a\n",
            "m\n"
          ],
          "name": "stdout"
        }
      ]
    },
    {
      "cell_type": "markdown",
      "metadata": {
        "id": "o4c2mSeB46IZ"
      },
      "source": [
        "#76. 문자열에서 지정한 구간의 문자열 얻기(slicing)\n",
        "\n",
        "- 문자열에서 특정 구간에 있는 문자열을 얻으려면 slicing을 이용하면 가능\n"
      ]
    },
    {
      "cell_type": "code",
      "metadata": {
        "colab": {
          "base_uri": "https://localhost:8080/"
        },
        "id": "ataDlXzg5VcD",
        "outputId": "2bc70ffc-1f23-4015-d6bb-4bbcaa8baabe"
      },
      "source": [
        "# 예제\n",
        "print('scott'[0:2] )  # 0부터 2 미만까지\n",
        "a = 'scott'\n",
        "print(a[0:2])\n",
        "print(a[3:])  # 3부터 문자 끝까지 출력 \n",
        "print(a[:3])  # 문자 처음부터 읽어서 3 미만까지 출력"
      ],
      "execution_count": 8,
      "outputs": [
        {
          "output_type": "stream",
          "text": [
            "sc\n",
            "sc\n",
            "tt\n",
            "sco\n"
          ],
          "name": "stdout"
        }
      ]
    },
    {
      "cell_type": "markdown",
      "metadata": {
        "id": "QLuKwUiZ6G4j"
      },
      "source": [
        "**문제 259. 아래의 SQL을 파이썬으로 구현하시오**  \n",
        "(판다스 이용하지 말고 그냥 emp2.csv를 읽어서 구현)\n",
        "\n",
        "~~~\n",
        "SQL>\n",
        "select ename, substr( ename, 1, 3 )\n",
        "    from emp\n",
        "~~~"
      ]
    },
    {
      "cell_type": "code",
      "metadata": {
        "colab": {
          "base_uri": "https://localhost:8080/"
        },
        "id": "g0-6tZ_zYdYZ",
        "outputId": "735fcfaf-e105-4856-9a40-2db22d499081"
      },
      "source": [
        "import csv\n",
        "file = open('emp2.csv')\n",
        "emp_csv = csv.reader(file)\n",
        "for emp_list in emp_csv:\n",
        "    print(emp_list[1], emp_list[1][0:3])"
      ],
      "execution_count": 194,
      "outputs": [
        {
          "output_type": "stream",
          "text": [
            "KING KIN\n",
            "BLAKE BLA\n",
            "CLARK CLA\n",
            "JONES JON\n",
            "MARTIN MAR\n",
            "ALLEN ALL\n",
            "TURNER TUR\n",
            "JAMES JAM\n",
            "WARD WAR\n",
            "FORD FOR\n",
            "SMITH SMI\n",
            "SCOTT SCO\n",
            "ADAMS ADA\n",
            "MILLER MIL\n"
          ],
          "name": "stdout"
        }
      ]
    },
    {
      "cell_type": "markdown",
      "metadata": {
        "id": "KIg5KIfc7A_2"
      },
      "source": [
        "#77. 문자열에서 홀수 번째 문자만 추출하기\n",
        "- 주어진 문자열에서 홀수번째 문자만 추출하는 방법은 slicing의 스텝을 이용하면 가능\n"
      ]
    },
    {
      "cell_type": "code",
      "metadata": {
        "colab": {
          "base_uri": "https://localhost:8080/"
        },
        "id": "WQWAb_QQ7NB7",
        "outputId": "bd39f877-d361-4470-d3b7-72c46f2dd9ed"
      },
      "source": [
        "# 예시\n",
        "txt ='aAbBcCdDeEfFgGhHiIjJkK'\n",
        "result = txt[0:] #0번째 부터 문자 끝까지 출력\n",
        "print(result)\n",
        "result2 = txt[0::2]  # 문자열에서 두 칸씩 건너 뛰면서 출력\n",
        "print(result2)"
      ],
      "execution_count": 17,
      "outputs": [
        {
          "output_type": "stream",
          "text": [
            "aAbBcCdDeEfFgGhHiIjJkK\n",
            "abcdefghijk\n"
          ],
          "name": "stdout"
        }
      ]
    },
    {
      "cell_type": "markdown",
      "metadata": {
        "id": "cem9EztE8OvB"
      },
      "source": [
        "**문제 260. 위의 txt 문자열에서 짝수번째 철자들만 출력하시오**"
      ]
    },
    {
      "cell_type": "code",
      "metadata": {
        "colab": {
          "base_uri": "https://localhost:8080/"
        },
        "id": "ZeZKeV2_8UNY",
        "outputId": "084c744e-ba1f-41e5-9fe5-3b1f01c07b47"
      },
      "source": [
        "result3 = txt[1::2]\n",
        "print(result3)"
      ],
      "execution_count": 18,
      "outputs": [
        {
          "output_type": "stream",
          "text": [
            "ABCDEFGHIJK\n"
          ],
          "name": "stdout"
        }
      ]
    },
    {
      "cell_type": "markdown",
      "metadata": {
        "id": "UPfn_RJ38yaD"
      },
      "source": [
        "#78. 문자열 거꾸로 만들기\n",
        "- slicing을 이용하면 매우 간단하게 거꾸로 된 문자열을 얻을 수 있음\n",
        "- 문자열 txt를 처음부터 끝까지 스텝-1로 slicing 하면 가능\n"
      ]
    },
    {
      "cell_type": "code",
      "metadata": {
        "colab": {
          "base_uri": "https://localhost:8080/"
        },
        "id": "-G-qPwnF88_p",
        "outputId": "3435fbb4-3289-405a-bae1-c6d8c61b2bcd"
      },
      "source": [
        "# 예제\n",
        "print( txt[:],1 )  # 문자열 전체 다 출력\n",
        "print( txt[::],2 ) # 문자열 전체 다 출력\n",
        "print( txt[ : : 1 ],3 )   # 문자열 전체가 다 출력되는 데 처음부터 읽어서 끝까지 1스텝으로 읽음\n",
        "\n",
        "result = txt[ : : -1]   # 문자열 전체를 뒤에 철자부터 앞으로 읽어들임\n",
        "print( result, 4 )"
      ],
      "execution_count": 25,
      "outputs": [
        {
          "output_type": "stream",
          "text": [
            "aAbBcCdDeEfFgGhHiIjJkK 1\n",
            "aAbBcCdDeEfFgGhHiIjJkK 2\n",
            "aAbBcCdDeEfFgGhHiIjJkK 3\n",
            "KkJjIiHhGgFfEeDdCcBbAa 4\n"
          ],
          "name": "stdout"
        }
      ]
    },
    {
      "cell_type": "markdown",
      "metadata": {
        "id": "U7Mw0-ws9ajX"
      },
      "source": [
        "**문제 261. 이름을 출력하는데 이름의 철자를 거꾸로 출력하시오**  \n",
        "(판다스 이용하지 않고 emp2.csv를 읽어서 출력하시오)"
      ]
    },
    {
      "cell_type": "code",
      "metadata": {
        "colab": {
          "base_uri": "https://localhost:8080/"
        },
        "id": "wTzg93HyYhyx",
        "outputId": "d01f779e-87d4-44a8-efad-dd83db899088"
      },
      "source": [
        "import csv\n",
        "file = open('emp2.csv')\n",
        "emp_csv = csv.reader(file)\n",
        "for emp_list in emp_csv:\n",
        "    print(emp_list[1][::-1])"
      ],
      "execution_count": 195,
      "outputs": [
        {
          "output_type": "stream",
          "text": [
            "GNIK\n",
            "EKALB\n",
            "KRALC\n",
            "SENOJ\n",
            "NITRAM\n",
            "NELLA\n",
            "RENRUT\n",
            "SEMAJ\n",
            "DRAW\n",
            "DROF\n",
            "HTIMS\n",
            "TTOCS\n",
            "SMADA\n",
            "RELLIM\n"
          ],
          "name": "stdout"
        }
      ]
    },
    {
      "cell_type": "markdown",
      "metadata": {
        "id": "bW7gNYH7CW4h"
      },
      "source": [
        "#79. 두 개의 문자열 합치기 ( + )\n",
        "- 두개의 문자열을 합치는 방법은 매우 간단함\n",
        "- 문자열 1 + 문자열 2 + 문자열 3 처럼 + 연산자를 이용하면 가능\n"
      ]
    },
    {
      "cell_type": "code",
      "metadata": {
        "colab": {
          "base_uri": "https://localhost:8080/"
        },
        "id": "x-WIMrOUCoCB",
        "outputId": "f9fe5729-ece3-4ebb-df69-cec70893baaf"
      },
      "source": [
        "# 예제\n",
        "a = 'scott'\n",
        "b = 'king'\n",
        "print( a + b )"
      ],
      "execution_count": 27,
      "outputs": [
        {
          "output_type": "stream",
          "text": [
            "scottking\n"
          ],
          "name": "stdout"
        }
      ]
    },
    {
      "cell_type": "markdown",
      "metadata": {
        "id": "fXypcneOC0Ic"
      },
      "source": [
        "**문제 262. 아래의 SQL을 파이썬으로 구현하시오**  \n",
        "(판다스를 이용하지 말고 구현하시오)\n",
        "~~~\n",
        "SQL>\n",
        "select ename||job\n",
        "    from emp;\n",
        "~~~"
      ]
    },
    {
      "cell_type": "code",
      "metadata": {
        "colab": {
          "base_uri": "https://localhost:8080/"
        },
        "id": "7Xj3XqwVYmXO",
        "outputId": "670142f3-a4d0-4d71-9321-2549803519d6"
      },
      "source": [
        "import csv\n",
        "file = open('emp2.csv')\n",
        "emp_csv = csv.reader(file)\n",
        "for emp_list in emp_csv:\n",
        "    print( emp_list[1] + emp_list[2] )"
      ],
      "execution_count": 196,
      "outputs": [
        {
          "output_type": "stream",
          "text": [
            "KINGPRESIDENT\n",
            "BLAKEMANAGER\n",
            "CLARKMANAGER\n",
            "JONESMANAGER\n",
            "MARTINSALESMAN\n",
            "ALLENSALESMAN\n",
            "TURNERSALESMAN\n",
            "JAMESCLERK\n",
            "WARDSALESMAN\n",
            "FORDANALYST\n",
            "SMITHCLERK\n",
            "SCOTTANALYST\n",
            "ADAMSCLERK\n",
            "MILLERCLERK\n"
          ],
          "name": "stdout"
        }
      ]
    },
    {
      "cell_type": "markdown",
      "metadata": {
        "id": "iJ-fb3RTDkoi"
      },
      "source": [
        "**문제 263. 아래와 같이 결과가 출력되게 하시오**\n",
        "~~~\n",
        "SQL>\n",
        "select ename||'의 직업은'||job||'입니다'\n",
        "    from emp;\n",
        "~~~"
      ]
    },
    {
      "cell_type": "code",
      "metadata": {
        "colab": {
          "base_uri": "https://localhost:8080/"
        },
        "id": "E-6Dm03XYrWL",
        "outputId": "3076fa5d-eccc-4e77-8038-b993a2835a79"
      },
      "source": [
        "import csv\n",
        "file = open('emp2.csv')\n",
        "emp_csv = csv.reader(file)\n",
        "for emp_list in emp_csv:\n",
        "    print( emp_list[1] +'의 직업은 ' + emp_list[2] + '입니다' )"
      ],
      "execution_count": 197,
      "outputs": [
        {
          "output_type": "stream",
          "text": [
            "KING의 직업은 PRESIDENT입니다\n",
            "BLAKE의 직업은 MANAGER입니다\n",
            "CLARK의 직업은 MANAGER입니다\n",
            "JONES의 직업은 MANAGER입니다\n",
            "MARTIN의 직업은 SALESMAN입니다\n",
            "ALLEN의 직업은 SALESMAN입니다\n",
            "TURNER의 직업은 SALESMAN입니다\n",
            "JAMES의 직업은 CLERK입니다\n",
            "WARD의 직업은 SALESMAN입니다\n",
            "FORD의 직업은 ANALYST입니다\n",
            "SMITH의 직업은 CLERK입니다\n",
            "SCOTT의 직업은 ANALYST입니다\n",
            "ADAMS의 직업은 CLERK입니다\n",
            "MILLER의 직업은 CLERK입니다\n"
          ],
          "name": "stdout"
        }
      ]
    },
    {
      "cell_type": "markdown",
      "metadata": {
        "id": "MqbDo-wHEN9G"
      },
      "source": [
        "#80. 문자열 반복해서 새로운 문자열로 만들기 (*)\n"
      ]
    },
    {
      "cell_type": "code",
      "metadata": {
        "colab": {
          "base_uri": "https://localhost:8080/"
        },
        "id": "TlEMnwuxEXvs",
        "outputId": "a9dfb7a1-a164-4543-d454-33ef40c3ef5c"
      },
      "source": [
        "# 예제\n",
        "print('★' * 10)\n",
        "print('안녕하세요 ' * 10)"
      ],
      "execution_count": 30,
      "outputs": [
        {
          "output_type": "stream",
          "text": [
            "★★★★★★★★★★\n",
            "안녕하세요 안녕하세요 안녕하세요 안녕하세요 안녕하세요 안녕하세요 안녕하세요 안녕하세요 안녕하세요 안녕하세요 \n"
          ],
          "name": "stdout"
        }
      ]
    },
    {
      "cell_type": "markdown",
      "metadata": {
        "id": "B_mPVrKpErP5"
      },
      "source": [
        "**문제 264. for loop 문을 이용하여 숫자 1부터 5까지 출력하시오**"
      ]
    },
    {
      "cell_type": "code",
      "metadata": {
        "colab": {
          "base_uri": "https://localhost:8080/"
        },
        "id": "NygrUI2REyDb",
        "outputId": "8e0a1940-f565-444d-da0c-f5b23eca3075"
      },
      "source": [
        "for i in range(1,6):\n",
        "    print(i)"
      ],
      "execution_count": 31,
      "outputs": [
        {
          "output_type": "stream",
          "text": [
            "1\n",
            "2\n",
            "3\n",
            "4\n",
            "5\n"
          ],
          "name": "stdout"
        }
      ]
    },
    {
      "cell_type": "markdown",
      "metadata": {
        "id": "e-ZEMWhNFSo2"
      },
      "source": [
        "**문제 265. 숫자를 물어보게 하고 숫자를 입력하면 해당 숫자까지 숫자가 출력되게 하시오**\n",
        "~~~\n",
        "숫자를 입력하세요: 5\n",
        "1\n",
        "2\n",
        "3\n",
        "4\n",
        "5\n",
        "~~~"
      ]
    },
    {
      "cell_type": "code",
      "metadata": {
        "colab": {
          "base_uri": "https://localhost:8080/"
        },
        "id": "AAX1IA4RFYzY",
        "outputId": "d2d94cd6-605f-4e63-9638-8195183c2b14"
      },
      "source": [
        "num = int( input('숫자를 입력하세요: ') )\n",
        "for i in range(1, num+1):\n",
        "    print(i)"
      ],
      "execution_count": 34,
      "outputs": [
        {
          "output_type": "stream",
          "text": [
            "숫자를 입력하세요: 5\n",
            "1\n",
            "2\n",
            "3\n",
            "4\n",
            "5\n"
          ],
          "name": "stdout"
        }
      ]
    },
    {
      "cell_type": "markdown",
      "metadata": {
        "id": "Y2M0S8GCF8vG"
      },
      "source": [
        "**문제 266. 위의 코드를 수정해서 숫자를 물어보게 하고 아래와 같이 ★이 출력되게 하시오**\n",
        "~~~\n",
        "숫자를 입력하세요: 5\n",
        "★\n",
        "★★\n",
        "★★★\n",
        "★★★★\n",
        "★★★★★\n",
        "~~~"
      ]
    },
    {
      "cell_type": "code",
      "metadata": {
        "colab": {
          "base_uri": "https://localhost:8080/"
        },
        "id": "8tPMiyG8F8b2",
        "outputId": "b1290d4d-d3ff-45f6-ae05-c47d41d83942"
      },
      "source": [
        "star = int( input('숫자를 입력하세요: ') )\n",
        "\n",
        "for i in range(1, star + 1):\n",
        "    print( i * '★')"
      ],
      "execution_count": 38,
      "outputs": [
        {
          "output_type": "stream",
          "text": [
            "숫자를 입력하세요: 5\n",
            "★\n",
            "★★\n",
            "★★★\n",
            "★★★★\n",
            "★★★★★\n"
          ],
          "name": "stdout"
        }
      ]
    },
    {
      "cell_type": "markdown",
      "metadata": {
        "id": "HM2DSeZAGgkA"
      },
      "source": [
        "**문제 267. (알고리즘 22번 문제) 아래와 같이 사각형이 출력되게 하시오**\n",
        "~~~\n",
        "가로의 숫자를 입력하세요: 3\n",
        "세로의 숫자를 입력하세요: 5\n",
        "\n",
        "★★★\n",
        "★★★\n",
        "★★★\n",
        "★★★\n",
        "★★★\n",
        "~~~"
      ]
    },
    {
      "cell_type": "code",
      "metadata": {
        "colab": {
          "base_uri": "https://localhost:8080/"
        },
        "id": "OW-UDZCAGxRF",
        "outputId": "5fd31599-ac40-4e16-ed56-d29b709d59c3"
      },
      "source": [
        "vertical= int(input('세로의 숫자를 입력하세요: ')) \n",
        "horizontal = int(input('가로의 숫자를 입력하세요: '))\n",
        "\n",
        "for i in range(1, horizontal + 1):\n",
        "    print(vertical*'★')   # 가로의 숫자만큼 출력하여 세로의 숫자만큼 for loop를 돌림\n"
      ],
      "execution_count": 46,
      "outputs": [
        {
          "output_type": "stream",
          "text": [
            "가로의 숫자를 입력하세요: 3\n",
            "세로의 숫자를 입력하세요: 6\n",
            "★★★\n",
            "★★★\n",
            "★★★\n",
            "★★★\n",
            "★★★\n",
            "★★★\n"
          ],
          "name": "stdout"
        }
      ]
    },
    {
      "cell_type": "markdown",
      "metadata": {
        "id": "J_R2ws0rItVN"
      },
      "source": [
        "#81. 문자열에서 특정 문자열이 있는지 확인하기(in)\n",
        "- 문자열에서 특정문자가 있는지 없는지 확인하려면 in키워드를 사용함"
      ]
    },
    {
      "cell_type": "code",
      "metadata": {
        "colab": {
          "base_uri": "https://localhost:8080/"
        },
        "id": "a9DPiCXpI0c7",
        "outputId": "c10d4e7f-a10a-48b6-cfb1-71ab45e1eec7"
      },
      "source": [
        "# 예제\n",
        "txt = 'abcdefghijklmnopqr'\n",
        "if 'b' in txt:\n",
        "    print('존재합니다')\n",
        "else:\n",
        "    print('존재하지 않습니다')"
      ],
      "execution_count": 48,
      "outputs": [
        {
          "output_type": "stream",
          "text": [
            "존재합니다\n"
          ],
          "name": "stdout"
        }
      ]
    },
    {
      "cell_type": "markdown",
      "metadata": {
        "id": "xED0TA0-JSQz"
      },
      "source": [
        "**문제 268. emp2.csv에서 이름을 출력하는데 이름에 S를 포함하고 있는 사원들의 이름을 출력하시오!**\n",
        "~~~\n",
        "SQL>\n",
        "select ename\n",
        "    from emp\n",
        "    where ename like '%S%';\n",
        "~~~"
      ]
    },
    {
      "cell_type": "code",
      "metadata": {
        "colab": {
          "base_uri": "https://localhost:8080/"
        },
        "id": "38IJ5eb0Yyll",
        "outputId": "3caf38df-7757-47d5-a404-0277ac967daa"
      },
      "source": [
        "import csv\n",
        "file = open('emp2.csv')\n",
        "emp_csv = csv.reader(file)\n",
        "for emp_list in emp_csv:\n",
        "    if 'S' in emp_list[1]:\n",
        "        print(emp_list[1])"
      ],
      "execution_count": 199,
      "outputs": [
        {
          "output_type": "stream",
          "text": [
            "JONES\n",
            "JAMES\n",
            "SMITH\n",
            "SCOTT\n",
            "ADAMS\n"
          ],
          "name": "stdout"
        }
      ]
    },
    {
      "cell_type": "markdown",
      "metadata": {
        "id": "OevOOsUfKqjn"
      },
      "source": [
        "- 위의 코드는 금융감독원에서 금융사들을 감독할 때 사용함\n",
        "- 보험회사의 경우 보험 상담원들이 상담할 때 적절한 보험용어를 써서 고객을 응대를 해야 해서 고객과의 통화를 다 녹음을 함\n",
        "-  그 녹음된 내용을 text로 변환해서 그 text 안에 단어들을 일일히 확인하는 작업을 함.\n",
        "> 예: 30일이라고 해야하는데 한달이라고 했다 던가 => 이 경우 응용될 수 있는 코드임"
      ]
    },
    {
      "cell_type": "markdown",
      "metadata": {
        "id": "g6TeBbVELiGX"
      },
      "source": [
        "**문제 269. 문제 268번 코드를 수정해서 출력하는데 이름에 'S'자가 포함된 사원의 이름이 몇명인지 출력하시오**"
      ]
    },
    {
      "cell_type": "code",
      "metadata": {
        "colab": {
          "base_uri": "https://localhost:8080/"
        },
        "id": "Dx3mApTjY4Iw",
        "outputId": "7b585625-1280-4e99-f596-833ca54f5aac"
      },
      "source": [
        "import csv\n",
        "file = open('emp2.csv')\n",
        "emp_csv = csv.reader(file)\n",
        "cnt = 0\n",
        "\n",
        "for emp_list in emp_csv:\n",
        "    if 'S' in emp_list[1]:    # 이름에 S자가 포함되어져 있으면\n",
        "        cnt += 1\n",
        "\n",
        "print(cnt)"
      ],
      "execution_count": 200,
      "outputs": [
        {
          "output_type": "stream",
          "text": [
            "5\n"
          ],
          "name": "stdout"
        }
      ]
    },
    {
      "cell_type": "markdown",
      "metadata": {
        "id": "UZ0xQmhKPxl0"
      },
      "source": [
        "#82. 문자열에서 특정 문자열이 있는지 확인하기 (in)\n",
        "- 보험회사에서 보험 상담원분들이 상담하실떄의 상담내용중에 부적절한 용어가 있는지 없는지를 확인하여 금융감독원에 보고를 해야 함\n",
        "- 이 때 확인작업을 사람이 하려면 상당히 많은 인력과 시간이 들기지만 파이썬으로 쉽게 작업을 할 수 있다.\n",
        "- 파이썬으로 프로그래밍 할 때 문자열에서 문자열이 있는지 확인하는 코드로 작성할 수 있다."
      ]
    },
    {
      "cell_type": "code",
      "metadata": {
        "colab": {
          "resources": {
            "http://localhost:8080/nbextensions/google.colab/files.js": {
              "data": "Ly8gQ29weXJpZ2h0IDIwMTcgR29vZ2xlIExMQwovLwovLyBMaWNlbnNlZCB1bmRlciB0aGUgQXBhY2hlIExpY2Vuc2UsIFZlcnNpb24gMi4wICh0aGUgIkxpY2Vuc2UiKTsKLy8geW91IG1heSBub3QgdXNlIHRoaXMgZmlsZSBleGNlcHQgaW4gY29tcGxpYW5jZSB3aXRoIHRoZSBMaWNlbnNlLgovLyBZb3UgbWF5IG9idGFpbiBhIGNvcHkgb2YgdGhlIExpY2Vuc2UgYXQKLy8KLy8gICAgICBodHRwOi8vd3d3LmFwYWNoZS5vcmcvbGljZW5zZXMvTElDRU5TRS0yLjAKLy8KLy8gVW5sZXNzIHJlcXVpcmVkIGJ5IGFwcGxpY2FibGUgbGF3IG9yIGFncmVlZCB0byBpbiB3cml0aW5nLCBzb2Z0d2FyZQovLyBkaXN0cmlidXRlZCB1bmRlciB0aGUgTGljZW5zZSBpcyBkaXN0cmlidXRlZCBvbiBhbiAiQVMgSVMiIEJBU0lTLAovLyBXSVRIT1VUIFdBUlJBTlRJRVMgT1IgQ09ORElUSU9OUyBPRiBBTlkgS0lORCwgZWl0aGVyIGV4cHJlc3Mgb3IgaW1wbGllZC4KLy8gU2VlIHRoZSBMaWNlbnNlIGZvciB0aGUgc3BlY2lmaWMgbGFuZ3VhZ2UgZ292ZXJuaW5nIHBlcm1pc3Npb25zIGFuZAovLyBsaW1pdGF0aW9ucyB1bmRlciB0aGUgTGljZW5zZS4KCi8qKgogKiBAZmlsZW92ZXJ2aWV3IEhlbHBlcnMgZm9yIGdvb2dsZS5jb2xhYiBQeXRob24gbW9kdWxlLgogKi8KKGZ1bmN0aW9uKHNjb3BlKSB7CmZ1bmN0aW9uIHNwYW4odGV4dCwgc3R5bGVBdHRyaWJ1dGVzID0ge30pIHsKICBjb25zdCBlbGVtZW50ID0gZG9jdW1lbnQuY3JlYXRlRWxlbWVudCgnc3BhbicpOwogIGVsZW1lbnQudGV4dENvbnRlbnQgPSB0ZXh0OwogIGZvciAoY29uc3Qga2V5IG9mIE9iamVjdC5rZXlzKHN0eWxlQXR0cmlidXRlcykpIHsKICAgIGVsZW1lbnQuc3R5bGVba2V5XSA9IHN0eWxlQXR0cmlidXRlc1trZXldOwogIH0KICByZXR1cm4gZWxlbWVudDsKfQoKLy8gTWF4IG51bWJlciBvZiBieXRlcyB3aGljaCB3aWxsIGJlIHVwbG9hZGVkIGF0IGEgdGltZS4KY29uc3QgTUFYX1BBWUxPQURfU0laRSA9IDEwMCAqIDEwMjQ7CgpmdW5jdGlvbiBfdXBsb2FkRmlsZXMoaW5wdXRJZCwgb3V0cHV0SWQpIHsKICBjb25zdCBzdGVwcyA9IHVwbG9hZEZpbGVzU3RlcChpbnB1dElkLCBvdXRwdXRJZCk7CiAgY29uc3Qgb3V0cHV0RWxlbWVudCA9IGRvY3VtZW50LmdldEVsZW1lbnRCeUlkKG91dHB1dElkKTsKICAvLyBDYWNoZSBzdGVwcyBvbiB0aGUgb3V0cHV0RWxlbWVudCB0byBtYWtlIGl0IGF2YWlsYWJsZSBmb3IgdGhlIG5leHQgY2FsbAogIC8vIHRvIHVwbG9hZEZpbGVzQ29udGludWUgZnJvbSBQeXRob24uCiAgb3V0cHV0RWxlbWVudC5zdGVwcyA9IHN0ZXBzOwoKICByZXR1cm4gX3VwbG9hZEZpbGVzQ29udGludWUob3V0cHV0SWQpOwp9CgovLyBUaGlzIGlzIHJvdWdobHkgYW4gYXN5bmMgZ2VuZXJhdG9yIChub3Qgc3VwcG9ydGVkIGluIHRoZSBicm93c2VyIHlldCksCi8vIHdoZXJlIHRoZXJlIGFyZSBtdWx0aXBsZSBhc3luY2hyb25vdXMgc3RlcHMgYW5kIHRoZSBQeXRob24gc2lkZSBpcyBnb2luZwovLyB0byBwb2xsIGZvciBjb21wbGV0aW9uIG9mIGVhY2ggc3RlcC4KLy8gVGhpcyB1c2VzIGEgUHJvbWlzZSB0byBibG9jayB0aGUgcHl0aG9uIHNpZGUgb24gY29tcGxldGlvbiBvZiBlYWNoIHN0ZXAsCi8vIHRoZW4gcGFzc2VzIHRoZSByZXN1bHQgb2YgdGhlIHByZXZpb3VzIHN0ZXAgYXMgdGhlIGlucHV0IHRvIHRoZSBuZXh0IHN0ZXAuCmZ1bmN0aW9uIF91cGxvYWRGaWxlc0NvbnRpbnVlKG91dHB1dElkKSB7CiAgY29uc3Qgb3V0cHV0RWxlbWVudCA9IGRvY3VtZW50LmdldEVsZW1lbnRCeUlkKG91dHB1dElkKTsKICBjb25zdCBzdGVwcyA9IG91dHB1dEVsZW1lbnQuc3RlcHM7CgogIGNvbnN0IG5leHQgPSBzdGVwcy5uZXh0KG91dHB1dEVsZW1lbnQubGFzdFByb21pc2VWYWx1ZSk7CiAgcmV0dXJuIFByb21pc2UucmVzb2x2ZShuZXh0LnZhbHVlLnByb21pc2UpLnRoZW4oKHZhbHVlKSA9PiB7CiAgICAvLyBDYWNoZSB0aGUgbGFzdCBwcm9taXNlIHZhbHVlIHRvIG1ha2UgaXQgYXZhaWxhYmxlIHRvIHRoZSBuZXh0CiAgICAvLyBzdGVwIG9mIHRoZSBnZW5lcmF0b3IuCiAgICBvdXRwdXRFbGVtZW50Lmxhc3RQcm9taXNlVmFsdWUgPSB2YWx1ZTsKICAgIHJldHVybiBuZXh0LnZhbHVlLnJlc3BvbnNlOwogIH0pOwp9CgovKioKICogR2VuZXJhdG9yIGZ1bmN0aW9uIHdoaWNoIGlzIGNhbGxlZCBiZXR3ZWVuIGVhY2ggYXN5bmMgc3RlcCBvZiB0aGUgdXBsb2FkCiAqIHByb2Nlc3MuCiAqIEBwYXJhbSB7c3RyaW5nfSBpbnB1dElkIEVsZW1lbnQgSUQgb2YgdGhlIGlucHV0IGZpbGUgcGlja2VyIGVsZW1lbnQuCiAqIEBwYXJhbSB7c3RyaW5nfSBvdXRwdXRJZCBFbGVtZW50IElEIG9mIHRoZSBvdXRwdXQgZGlzcGxheS4KICogQHJldHVybiB7IUl0ZXJhYmxlPCFPYmplY3Q+fSBJdGVyYWJsZSBvZiBuZXh0IHN0ZXBzLgogKi8KZnVuY3Rpb24qIHVwbG9hZEZpbGVzU3RlcChpbnB1dElkLCBvdXRwdXRJZCkgewogIGNvbnN0IGlucHV0RWxlbWVudCA9IGRvY3VtZW50LmdldEVsZW1lbnRCeUlkKGlucHV0SWQpOwogIGlucHV0RWxlbWVudC5kaXNhYmxlZCA9IGZhbHNlOwoKICBjb25zdCBvdXRwdXRFbGVtZW50ID0gZG9jdW1lbnQuZ2V0RWxlbWVudEJ5SWQob3V0cHV0SWQpOwogIG91dHB1dEVsZW1lbnQuaW5uZXJIVE1MID0gJyc7CgogIGNvbnN0IHBpY2tlZFByb21pc2UgPSBuZXcgUHJvbWlzZSgocmVzb2x2ZSkgPT4gewogICAgaW5wdXRFbGVtZW50LmFkZEV2ZW50TGlzdGVuZXIoJ2NoYW5nZScsIChlKSA9PiB7CiAgICAgIHJlc29sdmUoZS50YXJnZXQuZmlsZXMpOwogICAgfSk7CiAgfSk7CgogIGNvbnN0IGNhbmNlbCA9IGRvY3VtZW50LmNyZWF0ZUVsZW1lbnQoJ2J1dHRvbicpOwogIGlucHV0RWxlbWVudC5wYXJlbnRFbGVtZW50LmFwcGVuZENoaWxkKGNhbmNlbCk7CiAgY2FuY2VsLnRleHRDb250ZW50ID0gJ0NhbmNlbCB1cGxvYWQnOwogIGNvbnN0IGNhbmNlbFByb21pc2UgPSBuZXcgUHJvbWlzZSgocmVzb2x2ZSkgPT4gewogICAgY2FuY2VsLm9uY2xpY2sgPSAoKSA9PiB7CiAgICAgIHJlc29sdmUobnVsbCk7CiAgICB9OwogIH0pOwoKICAvLyBXYWl0IGZvciB0aGUgdXNlciB0byBwaWNrIHRoZSBmaWxlcy4KICBjb25zdCBmaWxlcyA9IHlpZWxkIHsKICAgIHByb21pc2U6IFByb21pc2UucmFjZShbcGlja2VkUHJvbWlzZSwgY2FuY2VsUHJvbWlzZV0pLAogICAgcmVzcG9uc2U6IHsKICAgICAgYWN0aW9uOiAnc3RhcnRpbmcnLAogICAgfQogIH07CgogIGNhbmNlbC5yZW1vdmUoKTsKCiAgLy8gRGlzYWJsZSB0aGUgaW5wdXQgZWxlbWVudCBzaW5jZSBmdXJ0aGVyIHBpY2tzIGFyZSBub3QgYWxsb3dlZC4KICBpbnB1dEVsZW1lbnQuZGlzYWJsZWQgPSB0cnVlOwoKICBpZiAoIWZpbGVzKSB7CiAgICByZXR1cm4gewogICAgICByZXNwb25zZTogewogICAgICAgIGFjdGlvbjogJ2NvbXBsZXRlJywKICAgICAgfQogICAgfTsKICB9CgogIGZvciAoY29uc3QgZmlsZSBvZiBmaWxlcykgewogICAgY29uc3QgbGkgPSBkb2N1bWVudC5jcmVhdGVFbGVtZW50KCdsaScpOwogICAgbGkuYXBwZW5kKHNwYW4oZmlsZS5uYW1lLCB7Zm9udFdlaWdodDogJ2JvbGQnfSkpOwogICAgbGkuYXBwZW5kKHNwYW4oCiAgICAgICAgYCgke2ZpbGUudHlwZSB8fCAnbi9hJ30pIC0gJHtmaWxlLnNpemV9IGJ5dGVzLCBgICsKICAgICAgICBgbGFzdCBtb2RpZmllZDogJHsKICAgICAgICAgICAgZmlsZS5sYXN0TW9kaWZpZWREYXRlID8gZmlsZS5sYXN0TW9kaWZpZWREYXRlLnRvTG9jYWxlRGF0ZVN0cmluZygpIDoKICAgICAgICAgICAgICAgICAgICAgICAgICAgICAgICAgICAgJ24vYSd9IC0gYCkpOwogICAgY29uc3QgcGVyY2VudCA9IHNwYW4oJzAlIGRvbmUnKTsKICAgIGxpLmFwcGVuZENoaWxkKHBlcmNlbnQpOwoKICAgIG91dHB1dEVsZW1lbnQuYXBwZW5kQ2hpbGQobGkpOwoKICAgIGNvbnN0IGZpbGVEYXRhUHJvbWlzZSA9IG5ldyBQcm9taXNlKChyZXNvbHZlKSA9PiB7CiAgICAgIGNvbnN0IHJlYWRlciA9IG5ldyBGaWxlUmVhZGVyKCk7CiAgICAgIHJlYWRlci5vbmxvYWQgPSAoZSkgPT4gewogICAgICAgIHJlc29sdmUoZS50YXJnZXQucmVzdWx0KTsKICAgICAgfTsKICAgICAgcmVhZGVyLnJlYWRBc0FycmF5QnVmZmVyKGZpbGUpOwogICAgfSk7CiAgICAvLyBXYWl0IGZvciB0aGUgZGF0YSB0byBiZSByZWFkeS4KICAgIGxldCBmaWxlRGF0YSA9IHlpZWxkIHsKICAgICAgcHJvbWlzZTogZmlsZURhdGFQcm9taXNlLAogICAgICByZXNwb25zZTogewogICAgICAgIGFjdGlvbjogJ2NvbnRpbnVlJywKICAgICAgfQogICAgfTsKCiAgICAvLyBVc2UgYSBjaHVua2VkIHNlbmRpbmcgdG8gYXZvaWQgbWVzc2FnZSBzaXplIGxpbWl0cy4gU2VlIGIvNjIxMTU2NjAuCiAgICBsZXQgcG9zaXRpb24gPSAwOwogICAgd2hpbGUgKHBvc2l0aW9uIDwgZmlsZURhdGEuYnl0ZUxlbmd0aCkgewogICAgICBjb25zdCBsZW5ndGggPSBNYXRoLm1pbihmaWxlRGF0YS5ieXRlTGVuZ3RoIC0gcG9zaXRpb24sIE1BWF9QQVlMT0FEX1NJWkUpOwogICAgICBjb25zdCBjaHVuayA9IG5ldyBVaW50OEFycmF5KGZpbGVEYXRhLCBwb3NpdGlvbiwgbGVuZ3RoKTsKICAgICAgcG9zaXRpb24gKz0gbGVuZ3RoOwoKICAgICAgY29uc3QgYmFzZTY0ID0gYnRvYShTdHJpbmcuZnJvbUNoYXJDb2RlLmFwcGx5KG51bGwsIGNodW5rKSk7CiAgICAgIHlpZWxkIHsKICAgICAgICByZXNwb25zZTogewogICAgICAgICAgYWN0aW9uOiAnYXBwZW5kJywKICAgICAgICAgIGZpbGU6IGZpbGUubmFtZSwKICAgICAgICAgIGRhdGE6IGJhc2U2NCwKICAgICAgICB9LAogICAgICB9OwogICAgICBwZXJjZW50LnRleHRDb250ZW50ID0KICAgICAgICAgIGAke01hdGgucm91bmQoKHBvc2l0aW9uIC8gZmlsZURhdGEuYnl0ZUxlbmd0aCkgKiAxMDApfSUgZG9uZWA7CiAgICB9CiAgfQoKICAvLyBBbGwgZG9uZS4KICB5aWVsZCB7CiAgICByZXNwb25zZTogewogICAgICBhY3Rpb246ICdjb21wbGV0ZScsCiAgICB9CiAgfTsKfQoKc2NvcGUuZ29vZ2xlID0gc2NvcGUuZ29vZ2xlIHx8IHt9OwpzY29wZS5nb29nbGUuY29sYWIgPSBzY29wZS5nb29nbGUuY29sYWIgfHwge307CnNjb3BlLmdvb2dsZS5jb2xhYi5fZmlsZXMgPSB7CiAgX3VwbG9hZEZpbGVzLAogIF91cGxvYWRGaWxlc0NvbnRpbnVlLAp9Owp9KShzZWxmKTsK",
              "ok": true,
              "headers": [
                [
                  "content-type",
                  "application/javascript"
                ]
              ],
              "status": 200,
              "status_text": ""
            }
          },
          "base_uri": "https://localhost:8080/",
          "height": 72
        },
        "id": "6N-ftBLZQsYm",
        "outputId": "88334c09-46cf-4e98-9bbb-7e9dc98d6c9e"
      },
      "source": [
        "from google.colab import files\n",
        "file = files.upload()"
      ],
      "execution_count": 58,
      "outputs": [
        {
          "output_type": "display_data",
          "data": {
            "text/html": [
              "\n",
              "     <input type=\"file\" id=\"files-78976963-9b7f-4083-b676-e424bd82bccf\" name=\"files[]\" multiple disabled\n",
              "        style=\"border:none\" />\n",
              "     <output id=\"result-78976963-9b7f-4083-b676-e424bd82bccf\">\n",
              "      Upload widget is only available when the cell has been executed in the\n",
              "      current browser session. Please rerun this cell to enable.\n",
              "      </output>\n",
              "      <script src=\"/nbextensions/google.colab/files.js\"></script> "
            ],
            "text/plain": [
              "<IPython.core.display.HTML object>"
            ]
          },
          "metadata": {
            "tags": []
          }
        },
        {
          "output_type": "stream",
          "text": [
            "Saving winter.txt to winter (3).txt\n"
          ],
          "name": "stdout"
        }
      ]
    },
    {
      "cell_type": "code",
      "metadata": {
        "id": "WE0faAvhRPM8"
      },
      "source": [
        "# 예제: 겨울 스크립트에서 elsa 라는 단어(문자열)가 몇번 나오는지 카운트\n",
        "winter = open('winter.txt', encoding='CP949')\n",
        "print( winter )\n",
        "for i in winter:\n",
        "    print(i)"
      ],
      "execution_count": null,
      "outputs": []
    },
    {
      "cell_type": "code",
      "metadata": {
        "colab": {
          "base_uri": "https://localhost:8080/"
        },
        "id": "2o8_uTAqUW_R",
        "outputId": "8579df37-1aa5-4d06-ff9e-aea16c44f963"
      },
      "source": [
        "# 예제2. 출력되는 겨울왕국 스크립트를 전부 소문자로 출력하시오\n",
        "winter = open('winter.txt', encoding='CP949')\n",
        "cnt = 0\n",
        "for i in winter:\n",
        "    if 'elsa' in i.lower():\n",
        "        cnt +=1\n",
        "print(cnt)\n",
        "cnt1 = 0\n",
        "\n",
        "# 예제3. 위에서 소문자로 출력된 스크립트 한 행을 하나 가져와서 아래와 같이 실행한다면?\n",
        "\n",
        "if 'elsa' in 'olaf skates and helps elsa coach anna. elsa in princess':\n",
        "    cnt1 += 1\n",
        "\n",
        "cnt1\n",
        "# 위의 코드는 한 행에 elsa 가 두번 나와도 cnt1은 1개만 카운트 됨\n",
        "# 정확하게 하려면 위의 문자열에 elsa가 2개 나오므로 cnt1은 2개가 되어야 함"
      ],
      "execution_count": 73,
      "outputs": [
        {
          "output_type": "stream",
          "text": [
            "318\n"
          ],
          "name": "stdout"
        },
        {
          "output_type": "execute_result",
          "data": {
            "text/plain": [
              "1"
            ]
          },
          "metadata": {
            "tags": []
          },
          "execution_count": 73
        }
      ]
    },
    {
      "cell_type": "code",
      "metadata": {
        "colab": {
          "base_uri": "https://localhost:8080/"
        },
        "id": "0n06XJ9xXvCH",
        "outputId": "1985862e-3136-4d5c-8af8-5245fd948e50"
      },
      "source": [
        "# 예제4. 겨울왕국 스크립트에 elsa가 몇번 나오는 지 카운트 하시오\n",
        "winter = open('winter.txt', encoding='CP949')\n",
        "\n",
        "cnt2 = 0\n",
        "\n",
        "for i in winter:\n",
        "    if 'elsa' in i.lower():\n",
        "        cnt2 += 1\n",
        "\n",
        "print( cnt2 )"
      ],
      "execution_count": 81,
      "outputs": [
        {
          "output_type": "stream",
          "text": [
            "318\n"
          ],
          "name": "stdout"
        }
      ]
    },
    {
      "cell_type": "code",
      "metadata": {
        "id": "SZ7paWrCVAai"
      },
      "source": [
        "# 예제5. winter.txt를 한행씩 읽어서 어절 단위로 출력되게 하시오\n",
        "winter = open('winter.txt', encoding='CP949')\n",
        "\n",
        "winter2 = winter.read().split(' ')\n",
        "\n",
        "for i in winter2:\n",
        "    print(i)"
      ],
      "execution_count": null,
      "outputs": []
    },
    {
      "cell_type": "code",
      "metadata": {
        "id": "aqfJaDi5YaPx"
      },
      "source": [
        "# 에제 6. 위의 어절들이 소문자로 출력되게 하시오\n",
        "winter = open('winter.txt', encoding='CP949')\n",
        "\n",
        "winter2 = winter.read().split(' ')\n",
        "\n",
        "for i in winter2:\n",
        "    print(i.lower() )"
      ],
      "execution_count": null,
      "outputs": []
    },
    {
      "cell_type": "markdown",
      "metadata": {
        "id": "U_TgBQ8RY4_E"
      },
      "source": [
        "**문제 270. 겨울왕국 스크립트에서 elsa가 문자열(단어)이 몇번 나오는가?**"
      ]
    },
    {
      "cell_type": "code",
      "metadata": {
        "id": "ZjWS08yorYda"
      },
      "source": [
        "winter = open('winter.txt', encoding='CP949') \n",
        "\n",
        "winter2 = winter.read().split(' ')\n",
        "cnt = 0 \n",
        "for i in winter2:\n",
        "    if 'elsa' in i.lower():\n",
        "        cnt += 1\n",
        "print(cnt)"
      ],
      "execution_count": null,
      "outputs": []
    },
    {
      "cell_type": "markdown",
      "metadata": {
        "id": "25GhaKmjr5HX"
      },
      "source": [
        "~~~\n",
        "elsa 304\n",
        "confidence.\n",
        "anna\n",
        "elsa?\n",
        "elsa\n",
        "love.\n",
        "elsa 305\n",
        "~~~\n",
        "- 위의 결과를 보면 304 다음에 elsa가 3개가 있으므로 305가 되면 안되는데 305가 된 이후로는 confidence. anna ('/n')elsa?('/n') elsa love.('/n') elsa('/n') 를 공백으로 띄어져 있는게 아니라 엔터로 띄어져 있는 것이다.\n",
        "- 그렇기 때문에 어절별로 분리가 되지 않았던 것임\n",
        "- 스크립트를 행단위로 먼저 행단위로 분리를 하고 나서 어절 별로 분리를 해야 함"
      ]
    },
    {
      "cell_type": "code",
      "metadata": {
        "colab": {
          "base_uri": "https://localhost:8080/"
        },
        "id": "bIHwf8m1YxSy",
        "outputId": "e426c70e-81f4-4ff5-e18a-128a83827758"
      },
      "source": [
        "winter = open('winter.txt', encoding='CP949')   # winter.txt를 winter로 불러 온다\n",
        "winter2 = winter.read().split(\"\\n\")   # '\\n'로 먼저 줄단위로 분리를 하고 나서 어절로 실행해야 함\n",
        "\n",
        "cnt = 0\n",
        "for i in winter2:           # 모든 스크립트를 불러옴\n",
        "    for j in i.split(' '):  # 어절별로 구분이 됨\n",
        "        if 'elsa' in j.lower():\n",
        "            cnt +=1\n",
        "\n",
        "print(cnt)\n",
        "\n",
        "# 엔터와 스페이스를 두번 나누어 출력하는 방법"
      ],
      "execution_count": 87,
      "outputs": [
        {
          "output_type": "stream",
          "text": [
            "329\n"
          ],
          "name": "stdout"
        }
      ]
    },
    {
      "cell_type": "code",
      "metadata": {
        "colab": {
          "base_uri": "https://localhost:8080/"
        },
        "id": "zF3oQFrfteme",
        "outputId": "b60330ca-3d3e-4fb3-e43d-083919319966"
      },
      "source": [
        "winter = open('winter.txt', encoding='CP949')   # winter.txt를 winter로 불러 온다\n",
        "winter2 = winter.read().split()   # split값에 아무것도 작성하지 않으면 기본값으로 모든 공백을 분리함\n",
        "\n",
        "cnt = 0\n",
        "for i in winter2:           # 모든 스크립트를 불러옴\n",
        "    if 'elsa' in i.lower():  # 소문자로 변경하고 elsa 가 포함되어져 있는 지 확인하면서 cnt를 누적시켜 증가시킴\n",
        "        cnt +=1\n",
        "\n",
        "print(cnt)\n",
        "\n",
        "#split의 기본값으로 출력하는 방법"
      ],
      "execution_count": 89,
      "outputs": [
        {
          "output_type": "stream",
          "text": [
            "329\n"
          ],
          "name": "stdout"
        }
      ]
    },
    {
      "cell_type": "markdown",
      "metadata": {
        "id": "cAyaV6ivLZ7M"
      },
      "source": [
        "#83. 문자열 길이 구하기 (len)\n"
      ]
    },
    {
      "cell_type": "code",
      "metadata": {
        "colab": {
          "base_uri": "https://localhost:8080/"
        },
        "id": "-Kpgvuo2uz1G",
        "outputId": "60226db8-8ac1-4778-8ffe-c6f13786d88d"
      },
      "source": [
        "# 예제\n",
        "a = 'scott'\n",
        "print( len(a) )"
      ],
      "execution_count": 90,
      "outputs": [
        {
          "output_type": "stream",
          "text": [
            "5\n"
          ],
          "name": "stdout"
        }
      ]
    },
    {
      "cell_type": "markdown",
      "metadata": {
        "id": "YfcO6-g9vBou"
      },
      "source": [
        "**문제 271. 판다스를 이용하지 않고 emp2.csv를 읽어 이름, 이름의 길이 를 출력하시오**\n",
        "~~~\n",
        "SQL>\n",
        "select ename, length(ename)\n",
        "    from emp;\n",
        "~~~"
      ]
    },
    {
      "cell_type": "code",
      "metadata": {
        "colab": {
          "base_uri": "https://localhost:8080/"
        },
        "id": "7e9QrRXKY-xK",
        "outputId": "8927cef4-95e7-4986-bead-38101f9ac37d"
      },
      "source": [
        "import csv\n",
        "file= open('emp2.csv')\n",
        "emp_csv = csv.reader(file)\n",
        "for emp_list in emp_csv:\n",
        "    print(emp_list[1], len(emp_list[1]))"
      ],
      "execution_count": 201,
      "outputs": [
        {
          "output_type": "stream",
          "text": [
            "KING 4\n",
            "BLAKE 5\n",
            "CLARK 5\n",
            "JONES 5\n",
            "MARTIN 6\n",
            "ALLEN 5\n",
            "TURNER 6\n",
            "JAMES 5\n",
            "WARD 4\n",
            "FORD 4\n",
            "SMITH 5\n",
            "SCOTT 5\n",
            "ADAMS 5\n",
            "MILLER 6\n"
          ],
          "name": "stdout"
        }
      ]
    },
    {
      "cell_type": "markdown",
      "metadata": {
        "id": "2_9Bo4MVwPyi"
      },
      "source": [
        "#84. 문자열이 알파벳인지 검사하기 (isalpha)\n",
        "- 문자열은 문자나 숫자, 기호들로 구성이 됨\n",
        "- 코드를 작성하다 보면 특정 문자열이 한글이나 알파벳과 같이 사람의 언어로 표현하기 위해 사용되는 문지로만 구성되어 있는지 확인해야 하는 경우가 있음\n",
        "- 파이썬 문자열 객체가 제공하는 메소드인 isalpha() 는 주어진 문자열이 사람의 언어 문자로만 구성되어 있는지 확인해줌"
      ]
    },
    {
      "cell_type": "code",
      "metadata": {
        "colab": {
          "base_uri": "https://localhost:8080/"
        },
        "id": "7ecsmk4IvIoD",
        "outputId": "84ecf09f-eb6c-454d-c624-b35a3ba7f1b0"
      },
      "source": [
        "# 예제\n",
        "txt1 = 'Warcraft three'\n",
        "txt2 = '안녕'\n",
        "txt3 = '3PO'\n",
        "\n",
        "print( txt1.isalpha() )   # 공백이 하나 있어 false가 나옴\n",
        "print( txt2.isalpha() )   # 한글이나 다른 나라 언어도 True로 나옴\n",
        "print( txt3.isalpha() )   # 숫자 3 때문에 False가 나옴"
      ],
      "execution_count": 94,
      "outputs": [
        {
          "output_type": "stream",
          "text": [
            "False\n",
            "True\n",
            "False\n"
          ],
          "name": "stdout"
        }
      ]
    },
    {
      "cell_type": "markdown",
      "metadata": {
        "id": "gRXl_26HxxCI"
      },
      "source": [
        "**문제 272. 스티븐 잡스 연설문인 jobs.txt를 한행 한행씩 출력하시오**"
      ]
    },
    {
      "cell_type": "code",
      "metadata": {
        "colab": {
          "resources": {
            "http://localhost:8080/nbextensions/google.colab/files.js": {
              "data": "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",
              "ok": true,
              "headers": [
                [
                  "content-type",
                  "application/javascript"
                ]
              ],
              "status": 200,
              "status_text": ""
            }
          },
          "base_uri": "https://localhost:8080/",
          "height": 72
        },
        "id": "iQD17BtPxwnN",
        "outputId": "7a6b2214-11b6-4eb5-97e3-dd4c2ef953c0"
      },
      "source": [
        "from google.colab import files\n",
        "stev = files.upload()"
      ],
      "execution_count": 96,
      "outputs": [
        {
          "output_type": "display_data",
          "data": {
            "text/html": [
              "\n",
              "     <input type=\"file\" id=\"files-7b252bb0-b32d-47af-8661-da67aa392802\" name=\"files[]\" multiple disabled\n",
              "        style=\"border:none\" />\n",
              "     <output id=\"result-7b252bb0-b32d-47af-8661-da67aa392802\">\n",
              "      Upload widget is only available when the cell has been executed in the\n",
              "      current browser session. Please rerun this cell to enable.\n",
              "      </output>\n",
              "      <script src=\"/nbextensions/google.colab/files.js\"></script> "
            ],
            "text/plain": [
              "<IPython.core.display.HTML object>"
            ]
          },
          "metadata": {
            "tags": []
          }
        },
        {
          "output_type": "stream",
          "text": [
            "Saving jobs.txt to jobs.txt\n"
          ],
          "name": "stdout"
        }
      ]
    },
    {
      "cell_type": "code",
      "metadata": {
        "id": "ZrZnkzs5yDAm"
      },
      "source": [
        "stev = open('jobs.txt')\n",
        "stev2 = stev.read().split('\\n') # 한행씩 분리하는 작업\n",
        "for i in stev2:    # 한행씩 분리된 스크립트를 읽어서\n",
        "    print(i)   # 한행씩 출력함"
      ],
      "execution_count": null,
      "outputs": []
    },
    {
      "cell_type": "markdown",
      "metadata": {
        "id": "fqJOXHRnywLc"
      },
      "source": [
        "**문제 273. 위에서 한행씩 출력하고 있는 스크립트를 철자 하나씩 출력하시오**"
      ]
    },
    {
      "cell_type": "code",
      "metadata": {
        "id": "xTjHV3M7y7Kk"
      },
      "source": [
        "stev = open('jobs.txt')\n",
        "stev2 = stev.read().split('\\n')\n",
        "for i in stev2:   \n",
        "    for k in i: # 스크립트 한행을 읽어서 철자를 하나씩 불러오는 코드\n",
        "        print(k) # 그 철자를 출력 함"
      ],
      "execution_count": null,
      "outputs": []
    },
    {
      "cell_type": "markdown",
      "metadata": {
        "id": "-PiKKmsrzocH"
      },
      "source": [
        "**문제 274. 위에서 출력된 철자가 알파벳이면 cnt를 증가시켜서 스티븐 잡스의 연설문에 알파벳이 몇개가 있는지 출력하시오**"
      ]
    },
    {
      "cell_type": "code",
      "metadata": {
        "colab": {
          "base_uri": "https://localhost:8080/"
        },
        "id": "s_1WFDUwzk0_",
        "outputId": "eda7d5dd-1cbb-4fd0-b798-433128093109"
      },
      "source": [
        "stev = open('jobs.txt')\n",
        "stev2 = stev.read().split('\\n')\n",
        "cnt = 0\n",
        "for i in stev2:   \n",
        "    for k in i: \n",
        "        if k.isalpha() == True:\n",
        "            cnt += 1\n",
        "print(cnt)\n",
        "\n",
        "# 스티븐 잡스 연설문에서 숫자나 공백문자나 마침표와 같은 구두점을 뺀 알파벳 철자만 카운트 함\n"
      ],
      "execution_count": 104,
      "outputs": [
        {
          "output_type": "stream",
          "text": [
            "9255\n"
          ],
          "name": "stdout"
        }
      ]
    },
    {
      "cell_type": "markdown",
      "metadata": {
        "id": "I5xAe_Bt1JlH"
      },
      "source": [
        "- 데이터 분석의 유명한 사례중 하나가 아프리카 캐냐의 은행에서 고객들에게 대출을 해줄 때 그 사람의 신용을 확인해서 대출을 해주는데\n",
        "- 신용을 확인할 때 sns의 그 사람에 대한 글을 분석해서 긍정적인 평가가 많은 지, 부정적인 평가가 많은지를 파악해서 대출심사에 반영하였음\n",
        "- 그러나 보니 은행에 대출금 환수가 원활해졌던 사례에서 사용되고 있음"
      ]
    },
    {
      "cell_type": "markdown",
      "metadata": {
        "id": "DVFCFYKJ6SsR"
      },
      "source": [
        "#85. 문자열이 숫자인지 검사하기 (isdigit)\n",
        "- 문자열 객체의 isdigit() 메소드는 문자열을 구성하는 요소가 모두 숫자인지 체크하고 True 또는 False 로 리턴함\n",
        "\n",
        "|번호|내장함수|설명|\n",
        "|:--:|:--:|:--:|\n",
        "|1|isalpha(  )|알파벳(한글)이 맞는지 확인|\n",
        "|2|isdigit(  )|숫자가 맞는지 확인|\n",
        "|3|isspace(  )|공백이 맞는지 확인|"
      ]
    },
    {
      "cell_type": "markdown",
      "metadata": {
        "id": "BAu76g8A64ez"
      },
      "source": [
        "**문제 275. 스티브 잡스 연설문에는 숫자가 몇개가 있는지 확인하시오**"
      ]
    },
    {
      "cell_type": "code",
      "metadata": {
        "colab": {
          "base_uri": "https://localhost:8080/"
        },
        "id": "uMWJXa3V6SNk",
        "outputId": "2e7fa14f-d97b-499a-9f53-ceeae0bb83b6"
      },
      "source": [
        "stev = open('jobs.txt')\n",
        "stev2 = stev.read().split('\\n')\n",
        "cnt = 0\n",
        "for i in stev2:   \n",
        "    for k in i: \n",
        "        if k.isdigit() == True:\n",
        "            cnt += 1\n",
        "\n",
        "print(cnt)"
      ],
      "execution_count": 107,
      "outputs": [
        {
          "output_type": "stream",
          "text": [
            "43\n"
          ],
          "name": "stdout"
        }
      ]
    },
    {
      "cell_type": "markdown",
      "metadata": {
        "id": "FQPDk96e7cp9"
      },
      "source": [
        "#86. 문자열이 알파벳 또는 숫자인지 검사하기 (isalnum)\n",
        "- 알파벳(한글)과 숫자를 동시에 확인하는 문자열 함수는 isalum"
      ]
    },
    {
      "cell_type": "code",
      "metadata": {
        "colab": {
          "base_uri": "https://localhost:8080/"
        },
        "id": "e_LHo9QS7z6F",
        "outputId": "7b55f76d-52d3-4c72-fbe1-b4edf2b10d48"
      },
      "source": [
        "# 예제 \n",
        "a = 'A story is 2003'\n",
        "for i in a:\n",
        "    if i.isalnum() == True:\n",
        "        print(i)"
      ],
      "execution_count": 108,
      "outputs": [
        {
          "output_type": "stream",
          "text": [
            "A\n",
            "s\n",
            "t\n",
            "o\n",
            "r\n",
            "y\n",
            "i\n",
            "s\n",
            "2\n",
            "0\n",
            "0\n",
            "3\n"
          ],
          "name": "stdout"
        }
      ]
    },
    {
      "cell_type": "markdown",
      "metadata": {
        "id": "HAr1TuYS8hXp"
      },
      "source": [
        "- 캐냐 은행의 데이터 분석 사례를 파이썬 코드로 구현해보기  \n",
        "(긍정단어집, 부정단어집을 다운로드)"
      ]
    },
    {
      "cell_type": "code",
      "metadata": {
        "colab": {
          "resources": {
            "http://localhost:8080/nbextensions/google.colab/files.js": {
              "data": "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",
              "ok": true,
              "headers": [
                [
                  "content-type",
                  "application/javascript"
                ]
              ],
              "status": 200,
              "status_text": ""
            }
          },
          "base_uri": "https://localhost:8080/",
          "height": 182
        },
        "id": "2gcUu6mP8qbo",
        "outputId": "adc94680-a8bb-49b3-98f1-bde9ca2d7f39"
      },
      "source": [
        "file = files.upload()\n",
        "file2 = files.upload()\n",
        "file3 = files.upload()"
      ],
      "execution_count": 131,
      "outputs": [
        {
          "output_type": "display_data",
          "data": {
            "text/html": [
              "\n",
              "     <input type=\"file\" id=\"files-ed998e83-1e87-4b9b-a54c-0e0e952b7795\" name=\"files[]\" multiple disabled\n",
              "        style=\"border:none\" />\n",
              "     <output id=\"result-ed998e83-1e87-4b9b-a54c-0e0e952b7795\">\n",
              "      Upload widget is only available when the cell has been executed in the\n",
              "      current browser session. Please rerun this cell to enable.\n",
              "      </output>\n",
              "      <script src=\"/nbextensions/google.colab/files.js\"></script> "
            ],
            "text/plain": [
              "<IPython.core.display.HTML object>"
            ]
          },
          "metadata": {
            "tags": []
          }
        },
        {
          "output_type": "stream",
          "text": [
            "Saving positive-words.txt to positive-words (1).txt\n"
          ],
          "name": "stdout"
        },
        {
          "output_type": "display_data",
          "data": {
            "text/html": [
              "\n",
              "     <input type=\"file\" id=\"files-473796d5-d262-4dc4-85c0-30608d6db484\" name=\"files[]\" multiple disabled\n",
              "        style=\"border:none\" />\n",
              "     <output id=\"result-473796d5-d262-4dc4-85c0-30608d6db484\">\n",
              "      Upload widget is only available when the cell has been executed in the\n",
              "      current browser session. Please rerun this cell to enable.\n",
              "      </output>\n",
              "      <script src=\"/nbextensions/google.colab/files.js\"></script> "
            ],
            "text/plain": [
              "<IPython.core.display.HTML object>"
            ]
          },
          "metadata": {
            "tags": []
          }
        },
        {
          "output_type": "stream",
          "text": [
            "Saving negative-words.txt to negative-words (1).txt\n"
          ],
          "name": "stdout"
        },
        {
          "output_type": "display_data",
          "data": {
            "text/html": [
              "\n",
              "     <input type=\"file\" id=\"files-3a6b7e13-8f72-413e-b7f4-aa122fd54df1\" name=\"files[]\" multiple disabled\n",
              "        style=\"border:none\" />\n",
              "     <output id=\"result-3a6b7e13-8f72-413e-b7f4-aa122fd54df1\">\n",
              "      Upload widget is only available when the cell has been executed in the\n",
              "      current browser session. Please rerun this cell to enable.\n",
              "      </output>\n",
              "      <script src=\"/nbextensions/google.colab/files.js\"></script> "
            ],
            "text/plain": [
              "<IPython.core.display.HTML object>"
            ]
          },
          "metadata": {
            "tags": []
          }
        },
        {
          "output_type": "stream",
          "text": [
            "Saving emp2.csv to emp2.csv\n"
          ],
          "name": "stdout"
        }
      ]
    },
    {
      "cell_type": "code",
      "metadata": {
        "id": "jaLBcqUU9DUJ"
      },
      "source": [
        "# 예제 1. 긍정단어를 파이썬으로 읽어 한행씩 출력하시오\n",
        "positive = open('positive-words.txt')\n",
        "pos = positive.read().split('\\n')\n",
        "negative = open('negative-words.txt')\n",
        "for i in pos:\n",
        "    print(i)"
      ],
      "execution_count": null,
      "outputs": []
    },
    {
      "cell_type": "code",
      "metadata": {
        "colab": {
          "base_uri": "https://localhost:8080/"
        },
        "id": "b4Ynu4Ny9cbF",
        "outputId": "ae7e8617-12f3-4486-fb09-2dea7dea18d8"
      },
      "source": [
        "# 예제 2. 아래의 pos를 프린트 해보시오\n",
        "positive = open('positive-words.txt')\n",
        "pos = positive.read().split('\\n') # positive스크립트 행을 엔터로 구분하여 그 단어들을 pos에 담음\n",
        "print( type( pos ) ) # 긍정단어들이 pos라는 리스트에 담김"
      ],
      "execution_count": 120,
      "outputs": [
        {
          "output_type": "stream",
          "text": [
            "<class 'list'>\n"
          ],
          "name": "stdout"
        }
      ]
    },
    {
      "cell_type": "code",
      "metadata": {
        "colab": {
          "base_uri": "https://localhost:8080/"
        },
        "id": "FuCgOw3B-swF",
        "outputId": "b64fc6af-0ff8-4e17-b434-b8887833f46c"
      },
      "source": [
        "# 예제 3. 아래의 단어가 긍정단어 리스트 중에 있는지 확인하시오\n",
        "if 'wonderful' in ['wonderful', 'wonderfully', 'wonderous', 'wonderously']:\n",
        "    print(\"존재합니다\")\n",
        "else:\n",
        "    print(\"존재하지 않습니다\")\n",
        "\n",
        "if 'wonderful' in pos:   # 긍정단어가 다 들어있는 pos 리스트에서 wonderful 이 존재하면 \"존재합니다\"를 출력합니다\n",
        "    print(\"존재합니다\")\n",
        "else:\n",
        "    print(\"존재하지 않습니다\")"
      ],
      "execution_count": 123,
      "outputs": [
        {
          "output_type": "stream",
          "text": [
            "존재합니다\n",
            "존재합니다\n"
          ],
          "name": "stdout"
        }
      ]
    },
    {
      "cell_type": "code",
      "metadata": {
        "id": "3oC2YJk1_f7g"
      },
      "source": [
        "# 예제 4. 스티븐 잡스의 연설문을 한단어씩 출력하시오\n",
        "stev = open(\"jobs.txt\")\n",
        "stev2 = stev.read().split()  # 단어를 어절별로 분리해서 리스트형태로 stev2에 저장함\n",
        "for i in stev2:   # stev2 리스트에서 하나씩 빼냄\n",
        "    print(i)"
      ],
      "execution_count": null,
      "outputs": []
    },
    {
      "cell_type": "markdown",
      "metadata": {
        "id": "_paV3pc7Awc6"
      },
      "source": [
        "**문제 276. 스티븐 잡스의 연설문에는 긍정단어가 몇개가 있는지 확인하시오**"
      ]
    },
    {
      "cell_type": "code",
      "metadata": {
        "colab": {
          "base_uri": "https://localhost:8080/"
        },
        "id": "iY9a4bbJAuOk",
        "outputId": "ea57b15b-298d-4587-9b89-3a4f02d9cf3f"
      },
      "source": [
        "positive = open('positive-words.txt')\n",
        "pos = positive.read().split( )  # 긍정 문서에서 긍정단어를 어절별로 분리하여 pos 리스트로 생성\n",
        "\n",
        "stev = open(\"jobs.txt\")     \n",
        "stev2 = stev.read().split()     # 잡스 연설을 어절별로 분리하여 stev2 리스트로 생성 \n",
        "cnt = 0                         # 갯수를 카운트 하기 위한 초기 변수\n",
        "\n",
        "for i in stev2:            # stev2에 담긴 단어를 하나하나씩 꺼내옴\n",
        "    if i.lower() in pos:   # 만약 i의 단어들이 pos 리스트에 있다면 (리스트이기에 가능)\n",
        "        cnt += 1           # 하나씩 숫자를 카운트\n",
        "\n",
        "print(cnt)"
      ],
      "execution_count": 129,
      "outputs": [
        {
          "output_type": "stream",
          "text": [
            "68\n"
          ],
          "name": "stdout"
        }
      ]
    },
    {
      "cell_type": "markdown",
      "metadata": {
        "id": "1-C0sWTMDG7J"
      },
      "source": [
        "#87. 문자열에서 대소문자 변환하기 (upper, lower)\n",
        "- 문자열 객체의 upper() 메소드는 문자열에 있는 모든 알파벳을 대문자로 변환한 결과를 리턴함\n",
        "- 문자열 객체의 lower() 메소드는 문자열에 있는 모든 알파벳을 소문자로 변환한 결과를 리턴함"
      ]
    },
    {
      "cell_type": "code",
      "metadata": {
        "colab": {
          "base_uri": "https://localhost:8080/"
        },
        "id": "S3HHnDF8G1N9",
        "outputId": "97df953b-6c85-421c-d3de-323fa434b840"
      },
      "source": [
        "# 예제\n",
        "txt = 'A lot of things occur each days'\n",
        "result1 = txt.upper()\n",
        "result2 = txt.lower()\n",
        "print( result1 ) \n",
        "print( result2 )"
      ],
      "execution_count": 130,
      "outputs": [
        {
          "output_type": "stream",
          "text": [
            "A LOT OF THINGS OCCUR EACH DAYS\n",
            "a lot of things occur each days\n"
          ],
          "name": "stdout"
        }
      ]
    },
    {
      "cell_type": "markdown",
      "metadata": {
        "id": "V8-31yR4Hdsn"
      },
      "source": [
        "**문제 277. emp2.csv에서 이름과 월급을 출력하시오**"
      ]
    },
    {
      "cell_type": "code",
      "metadata": {
        "colab": {
          "base_uri": "https://localhost:8080/"
        },
        "id": "QEAWeaSMJN-U",
        "outputId": "6aae533f-0e41-4f4f-be8e-85e052e0a593"
      },
      "source": [
        "import csv\n",
        "\n",
        "file = open('emp2.csv')\n",
        "emp_csv = csv.reader(file)\n",
        "\n",
        "for emp_list in emp_csv:\n",
        "    print( emp_list[1], emp_list[5] )"
      ],
      "execution_count": 139,
      "outputs": [
        {
          "output_type": "stream",
          "text": [
            "KING 5000\n",
            "BLAKE 2850\n",
            "CLARK 2450\n",
            "JONES 2975\n",
            "MARTIN 1250\n",
            "ALLEN 1600\n",
            "TURNER 1500\n",
            "JAMES 950\n",
            "WARD 1250\n",
            "FORD 3000\n",
            "SMITH 800\n",
            "SCOTT 3000\n",
            "ADAMS 1100\n",
            "MILLER 1300\n"
          ],
          "name": "stdout"
        }
      ]
    },
    {
      "cell_type": "markdown",
      "metadata": {
        "id": "KSlmWkWkIR39"
      },
      "source": [
        "**문제 278. 이름을 물어보게 하고 이름을 입력하면 해당 사원의 이름과 월급이 출력되게 하는데 소문자로입력하던 대문자로 입력하던 잘 출력되게 하시오**\n",
        "~~~\n",
        "이름을 입력하시오: scott\n",
        "SCOTT 300\n",
        "~~~"
      ]
    },
    {
      "cell_type": "code",
      "metadata": {
        "colab": {
          "base_uri": "https://localhost:8080/"
        },
        "id": "jB1v9z3tIRW7",
        "outputId": "e5fb8312-af45-4f22-f06d-fcd15c3b4e76"
      },
      "source": [
        "import csv\n",
        "name = input('이름을 입력하세요: ')\n",
        "\n",
        "file = open('emp2.csv')\n",
        "emp_csv= csv.reader(file)\n",
        "\n",
        "for emp_list in emp_csv:\n",
        "    if emp_list[1].lower() == name:\n",
        "        print( emp_list[1], emp_list[5] )"
      ],
      "execution_count": 136,
      "outputs": [
        {
          "output_type": "stream",
          "text": [
            "이름을 입력하세요: scott\n",
            "SCOTT 3000\n"
          ],
          "name": "stdout"
        }
      ]
    },
    {
      "cell_type": "markdown",
      "metadata": {
        "id": "d07MlfuaJXb-"
      },
      "source": [
        "#88. 문자열에서 좌우 공백 제거하기 (lstrip, rstrip, strip )\n",
        "\n",
        "|함수|설명|\n",
        "|:--:|:--:|\n",
        "|lstrip|문자열에서 존재하는 왼쪽 공백을 제거|\n",
        "|rstrip|문자열에서 존재하는 오른쪽 공백을 제거|\n",
        "|strip|문자열에서 존재하는 양쪽 공백을 제거|"
      ]
    },
    {
      "cell_type": "code",
      "metadata": {
        "colab": {
          "base_uri": "https://localhost:8080/"
        },
        "id": "tFb5GP86JdPV",
        "outputId": "96a136be-dc67-4a38-97ea-a9c07af1a13c"
      },
      "source": [
        "# 예제\n",
        "txt7 = '        양쪽에 공백이 있는 문자열입니다.         '\n",
        "print(txt7.lstrip())\n",
        "print(txt7.rstrip())\n",
        "print(txt7.strip())"
      ],
      "execution_count": 140,
      "outputs": [
        {
          "output_type": "stream",
          "text": [
            "양쪽에 공백이 있는 문자열입니다.         \n",
            "        양쪽에 공백이 있는 문자열입니다.\n",
            "양쪽에 공백이 있는 문자열입니다.\n"
          ],
          "name": "stdout"
        }
      ]
    },
    {
      "cell_type": "markdown",
      "metadata": {
        "id": "86F3DlObKKnT"
      },
      "source": [
        "**문제 279. 스티븐 잡스 연설문에서는 정관사 the가 몇번 나오는가?**"
      ]
    },
    {
      "cell_type": "code",
      "metadata": {
        "colab": {
          "base_uri": "https://localhost:8080/"
        },
        "id": "O1Quj0X6KQDs",
        "outputId": "3bf035a1-44db-4867-dba0-2a19c836a9c0"
      },
      "source": [
        "stev = open(\"jobs.txt\")\n",
        "stev2 = stev.read().split()\n",
        "cnt = 0\n",
        "\n",
        "for i in stev2:\n",
        "    if i.lower().strip() == 'the':  # 양쪽에 공백이 있을지도 모르니 확인사살 코드\n",
        "        cnt += 1\n",
        "\n",
        "print(cnt)"
      ],
      "execution_count": 144,
      "outputs": [
        {
          "output_type": "stream",
          "text": [
            "98\n"
          ],
          "name": "stdout"
        }
      ]
    },
    {
      "cell_type": "markdown",
      "metadata": {
        "id": "eTjp5nLPLXey"
      },
      "source": [
        "#89. 문자열에서 문자 개수 구하기 (count)\n",
        "- 문자열 객체의 count() 메소드는 문자열에서 특정 문자의 갯수를 리턴함\n"
      ]
    },
    {
      "cell_type": "code",
      "metadata": {
        "colab": {
          "base_uri": "https://localhost:8080/"
        },
        "id": "qwiLtO5sLrh0",
        "outputId": "ba4ec388-4b3e-4fc6-8788-6930ed078db3"
      },
      "source": [
        "txt = 'A lot of things occur each day. Today is beautiful day'\n",
        "print( txt.count('day') )     # txt에서 day 단어의 건수를 확인"
      ],
      "execution_count": 145,
      "outputs": [
        {
          "output_type": "stream",
          "text": [
            "3\n"
          ],
          "name": "stdout"
        }
      ]
    },
    {
      "cell_type": "markdown",
      "metadata": {
        "id": "xTxh79kTMAeH"
      },
      "source": [
        "**문제 280. 안철수 연설문에서는 국민 이라는 단어가 몇번 나오는지 카운트 하시오**"
      ]
    },
    {
      "cell_type": "code",
      "metadata": {
        "colab": {
          "resources": {
            "http://localhost:8080/nbextensions/google.colab/files.js": {
              "data": "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",
              "ok": true,
              "headers": [
                [
                  "content-type",
                  "application/javascript"
                ]
              ],
              "status": 200,
              "status_text": ""
            }
          },
          "base_uri": "https://localhost:8080/",
          "height": 123
        },
        "id": "A_dU-Y53ML0-",
        "outputId": "68909f66-3225-494f-f7a0-ebcb6faf5291"
      },
      "source": [
        "file = files.upload()\n",
        "\n",
        "ahn = open('ahn.txt') # split하지 않고 그냥 안철수 연설문을 읽어 통채로 ahn2에 입력함\n",
        "ahn2 = ahn.read()\n",
        "print('\\n')\n",
        "print( ahn2.count('국민') ) # 안철수 연설문에서 국민이라는 단어가 몇개 있는지 출력함"
      ],
      "execution_count": 167,
      "outputs": [
        {
          "output_type": "display_data",
          "data": {
            "text/html": [
              "\n",
              "     <input type=\"file\" id=\"files-7dc803e8-3101-438a-8f46-fbdbbbeb6bc7\" name=\"files[]\" multiple disabled\n",
              "        style=\"border:none\" />\n",
              "     <output id=\"result-7dc803e8-3101-438a-8f46-fbdbbbeb6bc7\">\n",
              "      Upload widget is only available when the cell has been executed in the\n",
              "      current browser session. Please rerun this cell to enable.\n",
              "      </output>\n",
              "      <script src=\"/nbextensions/google.colab/files.js\"></script> "
            ],
            "text/plain": [
              "<IPython.core.display.HTML object>"
            ]
          },
          "metadata": {
            "tags": []
          }
        },
        {
          "output_type": "stream",
          "text": [
            "Saving ahn.txt to ahn (1).txt\n",
            "\n",
            "\n",
            "22\n"
          ],
          "name": "stdout"
        }
      ]
    },
    {
      "cell_type": "markdown",
      "metadata": {
        "id": "lsGibXE8O8_G"
      },
      "source": [
        "#파이썬에서 막대 그래프 그리는 방법 \n"
      ]
    },
    {
      "cell_type": "code",
      "metadata": {
        "colab": {
          "base_uri": "https://localhost:8080/",
          "height": 284
        },
        "id": "NWDz459vMUPy",
        "outputId": "5d661b11-5c36-47a5-8cdc-348b1e226685"
      },
      "source": [
        "import matplotlib.pyplot as plt\n",
        "\n",
        "y_value = [21.6, 23.6, 45.8, 77.0]\n",
        "x_value = [0,1,2,3]\n",
        "\n",
        "plt.bar(x_value,y_value,color='red')\n",
        "plt.show"
      ],
      "execution_count": 175,
      "outputs": [
        {
          "output_type": "execute_result",
          "data": {
            "text/plain": [
              "<function matplotlib.pyplot.show>"
            ]
          },
          "metadata": {
            "tags": []
          },
          "execution_count": 175
        },
        {
          "output_type": "display_data",
          "data": {
            "image/png": "[encoded data removed]",
            "text/plain": [
              "<Figure size 432x288 with 1 Axes>"
            ]
          },
          "metadata": {
            "tags": [],
            "needs_background": "light"
          }
        }
      ]
    },
    {
      "cell_type": "markdown",
      "metadata": {
        "id": "QdaznebyQzkN"
      },
      "source": [
        "**문제 281. 동전을 10번 던져서 앞면이 2개가 나오는 지난번 마지막 문제의 확률 10개를 가지고 막대그래프를 그리시오**"
      ]
    },
    {
      "cell_type": "code",
      "metadata": {
        "colab": {
          "base_uri": "https://localhost:8080/",
          "height": 265
        },
        "id": "zbCFaXNCQ68p",
        "outputId": "6c190384-185d-4784-fc98-1c6820306c13"
      },
      "source": [
        "y_value = [ 0.00191, 0.01, 0.07, 0.16 ]\n",
        "x_index = [ 0,1,2,3 ]\n",
        "\n",
        "plt.bar(x_index, y_value, color='red')\n",
        "plt.show()"
      ],
      "execution_count": 172,
      "outputs": [
        {
          "output_type": "display_data",
          "data": {
            "image/png": "[encoded data removed]",
            "text/plain": [
              "<Figure size 432x288 with 1 Axes>"
            ]
          },
          "metadata": {
            "tags": [],
            "needs_background": "light"
          }
        }
      ]
    },
    {
      "cell_type": "markdown",
      "metadata": {
        "id": "vT6O0-DJU3th"
      },
      "source": [
        "**문제 282. 위의 그래프의 결과에 제목, x축 라벨과 y축 라벨을 같이 출력하시오**"
      ]
    },
    {
      "cell_type": "code",
      "metadata": {
        "colab": {
          "base_uri": "https://localhost:8080/",
          "height": 295
        },
        "id": "yNlgRuc6U-Tg",
        "outputId": "1522549c-0a5d-4e7d-d17f-ee1ae4458d74"
      },
      "source": [
        "y_value = [ 0.00191, 0.01, 0.07, 0.16 ]\n",
        "x_index = [ 0,1,2,3 ]\n",
        "\n",
        "plt.bar(x_index, y_value, color='blue')\n",
        "plt.title('coin Probability')\n",
        "plt.xlabel('cnt')\n",
        "plt.ylabel('probability')\n",
        "plt.show()"
      ],
      "execution_count": 178,
      "outputs": [
        {
          "output_type": "display_data",
          "data": {
            "image/png": "[encoded data removed]",
            "text/plain": [
              "<Figure size 432x288 with 1 Axes>"
            ]
          },
          "metadata": {
            "tags": [],
            "needs_background": "light"
          }
        }
      ]
    },
    {
      "cell_type": "markdown",
      "metadata": {
        "id": "cP-VWFHdVeDq"
      },
      "source": [
        "**문제 283. 지난번 마지막 문제인 동전을 10번 던져서 앞면이 2개 나오는 아래의 확률결과를 가지고 막대그래프로 시각화하시오**"
      ]
    },
    {
      "cell_type": "code",
      "metadata": {
        "colab": {
          "base_uri": "https://localhost:8080/",
          "height": 295
        },
        "id": "m9K-xUecVr6l",
        "outputId": "179ca493-61c4-4cbe-8dc5-154cecc415b2"
      },
      "source": [
        "import random\n",
        "\n",
        "def coin_prob(num):\n",
        "    coin = ['앞면','뒷면']\n",
        "    cnt = 0\n",
        "    for k in range(1,10001):\n",
        "        a = [ ]\n",
        "        for i in range(1,11):\n",
        "            result = random.choice(coin)\n",
        "            a.append(result)\n",
        "        if a.count('앞면') == num:\n",
        "            cnt = cnt + 1\n",
        "    return cnt/10000\n",
        "\n",
        "x_index = [0,1,2,3,4,5,6,7,8,9,10]\n",
        "y_value = []\n",
        "for i in range(0,11):\n",
        "    y_value.append( coin_prob(i) )\n",
        "\n",
        "plt.bar(x_index, y_value, color='blue')\n",
        "plt.title('coin Probability')\n",
        "plt.xlabel('tires')\n",
        "plt.ylabel('probability')\n",
        "plt.show()"
      ],
      "execution_count": 205,
      "outputs": [
        {
          "output_type": "display_data",
          "data": {
            "image/png": "[encoded data removed]",
            "text/plain": [
              "<Figure size 432x288 with 1 Axes>"
            ]
          },
          "metadata": {
            "tags": [],
            "needs_background": "light"
          }
        }
      ]
    }
  ]
}