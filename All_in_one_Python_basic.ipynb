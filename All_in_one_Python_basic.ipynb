{
  "nbformat": 4,
  "nbformat_minor": 0,
  "metadata": {
    "colab": {
      "name": "All_in_one_Python_basic.ipynb",
      "provenance": [],
      "collapsed_sections": [],
      "toc_visible": true,
      "authorship_tag": "ABX9TyM7Livy079YjcyDDElUgVps",
      "include_colab_link": true
    },
    "kernelspec": {
      "name": "python3",
      "display_name": "Python 3"
    }
  },
  "cells": [
    {
      "cell_type": "markdown",
      "metadata": {
        "id": "view-in-github",
        "colab_type": "text"
      },
      "source": [
        "<a href=\"https://colab.research.google.com/github/unknown-jun/Basic_of_Python/blob/master/All_in_one_Python_basic.ipynb\" target=\"_parent\"><img src=\"https://colab.research.google.com/assets/colab-badge.svg\" alt=\"Open In Colab\"/></a>"
      ]
    },
    {
      "cell_type": "markdown",
      "metadata": {
        "id": "GNQxp3DnOiMC"
      },
      "source": [
        "\n",
        "# 파이썬 최종 정리 노트!"
      ]
    },
    {
      "cell_type": "markdown",
      "metadata": {
        "id": "ouqhZrSmOmEB"
      },
      "source": [
        "## 1. 파이썬의 자료형 보기\n",
        "     1. 숫자형\n",
        "     2. 문자형\n",
        "     3. 리스트\n",
        "     4. 튜플\n",
        "     5. 딕셔너리\n",
        "     6. 집합\n",
        "     7. bool\n"
      ]
    },
    {
      "cell_type": "markdown",
      "metadata": {
        "id": "XEjZPTDbPMh-"
      },
      "source": [
        "### 1.숫자형 !\n",
        "        1-1. 정수형\n",
        "        1-2. 실수형\n",
        "        1-3. 숫자형을 다루는 몇몇 함수"
      ]
    },
    {
      "cell_type": "markdown",
      "metadata": {
        "id": "cG8YXMEHRhhW"
      },
      "source": [
        "#### 1-1 정수형: int()"
      ]
    },
    {
      "cell_type": "code",
      "metadata": {
        "colab": {
          "base_uri": "https://localhost:8080/"
        },
        "id": "ciJKxduxOg8d",
        "outputId": "8daff6fd-3c19-4765-9f65-d8600fe40681"
      },
      "source": [
        "a = 56.34\n",
        "print( int(a) )\n",
        "b = 712.5678\n",
        "print( int(b) )"
      ],
      "execution_count": null,
      "outputs": [
        {
          "output_type": "stream",
          "text": [
            "56\n",
            "712\n"
          ],
          "name": "stdout"
        }
      ]
    },
    {
      "cell_type": "markdown",
      "metadata": {
        "id": "IlrxKUcvRsED"
      },
      "source": [
        "#### 1-2 실수형은 float"
      ]
    },
    {
      "cell_type": "code",
      "metadata": {
        "colab": {
          "base_uri": "https://localhost:8080/"
        },
        "id": "dhhvJmbMQcR0",
        "outputId": "11c6d4fc-fa5c-4638-9fc8-4905a1c610bb"
      },
      "source": [
        "a = 67\n",
        "b = 10.25\n",
        "print(a+b)"
      ],
      "execution_count": null,
      "outputs": [
        {
          "output_type": "stream",
          "text": [
            "77.25\n"
          ],
          "name": "stdout"
        }
      ]
    },
    {
      "cell_type": "markdown",
      "metadata": {
        "id": "cdHvLUolRuQg"
      },
      "source": [
        "#### 1-3 숫자형을 다루는 몇몇 함수들\n"
      ]
    },
    {
      "cell_type": "code",
      "metadata": {
        "colab": {
          "base_uri": "https://localhost:8080/"
        },
        "id": "wAu7t577RIpQ",
        "outputId": "31c033f6-25b5-47dd-9896-d78211211188"
      },
      "source": [
        "# **를 쓰면 제곱을 구할 수 있다.\n",
        "a = 2**3\n",
        "print(a)\n",
        "\n",
        "b = 4**4\n",
        "print(b)"
      ],
      "execution_count": null,
      "outputs": [
        {
          "output_type": "stream",
          "text": [
            "8\n",
            "256\n"
          ],
          "name": "stdout"
        }
      ]
    },
    {
      "cell_type": "code",
      "metadata": {
        "colab": {
          "base_uri": "https://localhost:8080/"
        },
        "id": "_kFxgIERSQFe",
        "outputId": "7a51345a-8ca3-410a-d00a-2260fc43122f"
      },
      "source": [
        "# //를 쓰면 나눗셈을 했을 때의 몫을 반환한다.\n",
        "print(15//4)\n",
        "\n",
        "print(105//10)"
      ],
      "execution_count": null,
      "outputs": [
        {
          "output_type": "stream",
          "text": [
            "3\n",
            "10\n"
          ],
          "name": "stdout"
        }
      ]
    },
    {
      "cell_type": "code",
      "metadata": {
        "colab": {
          "base_uri": "https://localhost:8080/"
        },
        "id": "hU_K2_IzSlGx",
        "outputId": "4e8125a9-1801-48b8-f99d-10e6973437f7"
      },
      "source": [
        "# %을 사용하면 나눗셈을 했을 때의 나머지를 반환한다.\n",
        "print(15%4)\n",
        "\n",
        "print(105%10)"
      ],
      "execution_count": null,
      "outputs": [
        {
          "output_type": "stream",
          "text": [
            "3\n",
            "5\n"
          ],
          "name": "stdout"
        }
      ]
    },
    {
      "cell_type": "markdown",
      "metadata": {
        "id": "c97Oy2npSiJH"
      },
      "source": [
        "### 2.문자형!"
      ]
    },
    {
      "cell_type": "markdown",
      "metadata": {
        "id": "v7f0WzbhUs0p"
      },
      "source": [
        "#### 2-1. 문자형 만들기\n",
        "    - 문자형을 만드는 방법은 총 4가지로 이루어져 있다. \n",
        "        1. 큰 따음표(\" \")로 양쪽 두르기\n",
        "        2. 작은 따음표(' ')로 양쪽 두르기\n",
        "        3. 큰 따음표(\"\"\" \"\"\") 3개로 양쪽 두르기\n",
        "        4. 작은 따음표(''' ''') 3개로 양쪽 두르기"
      ]
    },
    {
      "cell_type": "code",
      "metadata": {
        "colab": {
          "base_uri": "https://localhost:8080/"
        },
        "id": "N4zU1S-SUwrW",
        "outputId": "ead5b231-d2a8-4ed3-ee17-e786a45d4ac7"
      },
      "source": [
        "# 큰 따음표와 작은 따음표가 따로 있는 이유는 이 둘을 구분하기 위함이다.\n",
        "print(\"Python is Jame's favourite language\")\n",
        "print('Michel said to me at that moment, \"Watch out!!\"')"
      ],
      "execution_count": null,
      "outputs": [
        {
          "output_type": "stream",
          "text": [
            "Python is Jame's favourite language\n",
            "Michel said to me at that moment, \"Watch out!!\"\n"
          ],
          "name": "stdout"
        }
      ]
    },
    {
      "cell_type": "code",
      "metadata": {
        "colab": {
          "base_uri": "https://localhost:8080/"
        },
        "id": "vaYcGq-7VgtH",
        "outputId": "fb4eceaf-f2fb-4e07-af4d-e2fe4d6caa3e"
      },
      "source": [
        "# 백슬래쉬(\\)를 이용해서 따음표를 문자열에 추가하기\n",
        "print('Python is Jame\\'s favourite language')\n",
        "print(\"Micheal said to me at the moment,\\\"Watch out\\\"\")"
      ],
      "execution_count": null,
      "outputs": [
        {
          "output_type": "stream",
          "text": [
            "Python is Jame's favourite language\n",
            "Micheal said to me at the moment,\"Watch out\"\n"
          ],
          "name": "stdout"
        }
      ]
    },
    {
      "cell_type": "code",
      "metadata": {
        "colab": {
          "base_uri": "https://localhost:8080/"
        },
        "id": "Qg659jNcPxQL",
        "outputId": "df057ef6-1d24-40ad-85c9-6d713432d9d1"
      },
      "source": [
        "# 줄을 바꾸는 것에는 두가지 방법이 존재한다.\n",
        "# 1. 이스케이프 코드를 사용\n",
        "print('Python is difficult\\nBut Java is more difficult')\n",
        "# 2. 작은/큰 따음표 3개를 붙이는 방법\n",
        "saying = \"\"\"\n",
        "Two hands is better than one hand\n",
        "One stone catch two birds at the same time\n",
        "\"\"\"\n",
        "print(saying)"
      ],
      "execution_count": null,
      "outputs": [
        {
          "output_type": "stream",
          "text": [
            "Python is difficult\n",
            "But Java is more difficult\n",
            "\n",
            "Two hands is better than one hand\n",
            "One stone catch two birds at the same time\n",
            "\n"
          ],
          "name": "stdout"
        }
      ]
    },
    {
      "cell_type": "markdown",
      "metadata": {
        "id": "X3Zmw1AjUfc-"
      },
      "source": [
        "#### 2-2. 문자형 연산"
      ]
    },
    {
      "cell_type": "code",
      "metadata": {
        "colab": {
          "base_uri": "https://localhost:8080/"
        },
        "id": "5y0do-n8Ud4B",
        "outputId": "220260af-1d25-427a-aa62-b3bd7a8c1708"
      },
      "source": [
        "# 문자형을 더해서 연결하기\n",
        "a = 'Python '\n",
        "b = 'is easy'\n",
        "print(a + b)\n",
        "print(type(a+b))"
      ],
      "execution_count": null,
      "outputs": [
        {
          "output_type": "stream",
          "text": [
            "Python is easy\n",
            "<class 'str'>\n"
          ],
          "name": "stdout"
        }
      ]
    },
    {
      "cell_type": "code",
      "metadata": {
        "colab": {
          "base_uri": "https://localhost:8080/"
        },
        "id": "bqwmQYOGRLB_",
        "outputId": "1d187630-7040-4f28-a237-8c35045a6b11"
      },
      "source": [
        "# 문자열을 곱하여 요소를 여러 개로 만들기\n",
        "a = 'I want to eat'\n",
        "b = ' strawberry '\n",
        "print(a + b * 3)"
      ],
      "execution_count": null,
      "outputs": [
        {
          "output_type": "stream",
          "text": [
            "I want to eat strawberry  strawberry  strawberry \n"
          ],
          "name": "stdout"
        }
      ]
    },
    {
      "cell_type": "code",
      "metadata": {
        "colab": {
          "base_uri": "https://localhost:8080/"
        },
        "id": "hIAH3n_RRiYj",
        "outputId": "3f83f928-7863-4875-c818-2afe96366a4a"
      },
      "source": [
        "# 응용: 프로그램 소제목 만들기\n",
        "a = '=' * 38\n",
        "b = '\\t\"Welcome to Python\"'\n",
        "print(a)\n",
        "print(b)\n",
        "print(a)"
      ],
      "execution_count": null,
      "outputs": [
        {
          "output_type": "stream",
          "text": [
            "======================================\n",
            "\t\"Welcome to Python\"\n",
            "======================================\n"
          ],
          "name": "stdout"
        }
      ]
    },
    {
      "cell_type": "markdown",
      "metadata": {
        "id": "Fmcf0eVRR9fz"
      },
      "source": [
        "#### 2-3. 문자형 인덱싱과 슬라이싱\n",
        "- 인덱싱이란 숫자의 한 특정 부분만을 자르는 것\n",
        "- 슬라이싱이란 숫자의 일정 부분을 자르는 것"
      ]
    },
    {
      "cell_type": "code",
      "metadata": {
        "colab": {
          "base_uri": "https://localhost:8080/"
        },
        "id": "SvbExU3qSwy7",
        "outputId": "dc11c6a3-8d7b-493c-8000-586147289c7d"
      },
      "source": [
        "# 인덱싱의 예\n",
        "a = 'Life is too short, you need a python'\n",
        "print( a[0] )\n",
        "print( a[14] )"
      ],
      "execution_count": null,
      "outputs": [
        {
          "output_type": "stream",
          "text": [
            "L\n",
            "o\n"
          ],
          "name": "stdout"
        }
      ]
    },
    {
      "cell_type": "code",
      "metadata": {
        "colab": {
          "base_uri": "https://localhost:8080/"
        },
        "id": "QZTnXn7oUQNA",
        "outputId": "2359ca40-8b3e-49bc-8c12-0609dca366df"
      },
      "source": [
        "# -를 이용하면 뒤에서 부터 읽을 수 있다.\n",
        "a = 'Life is too short, you need a python'\n",
        "print( a[-1] )\n",
        "print( a[-10] )"
      ],
      "execution_count": null,
      "outputs": [
        {
          "output_type": "stream",
          "text": [
            "n\n",
            "d\n"
          ],
          "name": "stdout"
        }
      ]
    },
    {
      "cell_type": "code",
      "metadata": {
        "colab": {
          "base_uri": "https://localhost:8080/"
        },
        "id": "TCcDzvSkUmPn",
        "outputId": "7fd70a1c-5ed8-48e8-8dda-1741d9360951"
      },
      "source": [
        "# 슬라이싱을 이용한다면 일정 부분을 잘라낼 수 있다.\n",
        "a = 'Life is too short, you need a python'\n",
        "print( a[0:4] )\n",
        "print( a[5:7] )\n",
        "print( a[8:12] )"
      ],
      "execution_count": null,
      "outputs": [
        {
          "output_type": "stream",
          "text": [
            "Life\n",
            "is\n",
            "too \n"
          ],
          "name": "stdout"
        }
      ]
    },
    {
      "cell_type": "code",
      "metadata": {
        "id": "qzjcy7XiVaF3",
        "colab": {
          "base_uri": "https://localhost:8080/"
        },
        "outputId": "b1936be8-d28f-4160-e77c-87ead2c4fb4e"
      },
      "source": [
        "# 슬라이싱은 항상 0부터 시작할 필요가 없다\n",
        "# 처음 숫자를 쓰지 않으면 자동적으로 처음부터 인덱스가 시작함\n",
        "\n",
        "a = 'Life is too short, you need a python'\n",
        "print( a[:17])"
      ],
      "execution_count": null,
      "outputs": [
        {
          "output_type": "stream",
          "text": [
            "Life is too short\n"
          ],
          "name": "stdout"
        }
      ]
    },
    {
      "cell_type": "code",
      "metadata": {
        "colab": {
          "base_uri": "https://localhost:8080/"
        },
        "id": "3sp6Pme_LBhG",
        "outputId": "5896b935-7fa9-4b51-9cfa-d7ecf6406ee4"
      },
      "source": [
        "# 인덱싱과 마찬가지로 슬라이싱도 -를 쓰면 역순으로 잘라냄\n",
        "\n",
        "a = 'Life is too short, you need a python'\n",
        "print(a[7:-11])"
      ],
      "execution_count": null,
      "outputs": [
        {
          "output_type": "stream",
          "text": [
            " too short, you ne\n"
          ],
          "name": "stdout"
        }
      ]
    },
    {
      "cell_type": "markdown",
      "metadata": {
        "id": "uPFxeHs9LsbO"
      },
      "source": [
        "##### 슬라이싱으로 문자열 나누기"
      ]
    },
    {
      "cell_type": "code",
      "metadata": {
        "colab": {
          "base_uri": "https://localhost:8080/"
        },
        "id": "BEh7veLzL26F",
        "outputId": "36331ebc-422c-417d-fca6-18610aad032f"
      },
      "source": [
        "a = '20201225Sunny'\n",
        "date = a[:8]\n",
        "weather = a[7:]\n",
        "\n",
        "print(date)\n",
        "print(weather)"
      ],
      "execution_count": null,
      "outputs": [
        {
          "output_type": "stream",
          "text": [
            "20201225\n",
            "5Sunny\n"
          ],
          "name": "stdout"
        }
      ]
    },
    {
      "cell_type": "markdown",
      "metadata": {
        "id": "SH_bgZp8MjPf"
      },
      "source": [
        "- 문자열을 슬라이싱하여 문자열의 기능별로 변수에 담는 것이 가능하다"
      ]
    },
    {
      "cell_type": "code",
      "metadata": {
        "colab": {
          "base_uri": "https://localhost:8080/"
        },
        "id": "I7VYfn2iMuil",
        "outputId": "851a87ed-bad2-4e89-f4c7-06421fd5fef4"
      },
      "source": [
        "a = '20201225Sunny'\n",
        "\n",
        "year = a[:4]\n",
        "day = a[4:8]\n",
        "weather = a[8:]\n",
        "\n",
        "print(year)\n",
        "print(day)\n",
        "print( weather )"
      ],
      "execution_count": null,
      "outputs": [
        {
          "output_type": "stream",
          "text": [
            "2020\n",
            "1225\n",
            "Sunny\n"
          ],
          "name": "stdout"
        }
      ]
    },
    {
      "cell_type": "markdown",
      "metadata": {
        "id": "6A3qo-EFNO-I"
      },
      "source": [
        "- 슬라이싱으로 문자열의 오류를 수정하는 방법  \n",
        "만약 'I loke kebab'이라는 문자열을 수정하기 위해선 다음과 같은 작업이 필요하다"
      ]
    },
    {
      "cell_type": "code",
      "metadata": {
        "colab": {
          "base_uri": "https://localhost:8080/",
          "height": 198
        },
        "id": "aMomrZYNNdd2",
        "outputId": "638d8bbd-c56b-49e7-9dbe-871cf42a233c"
      },
      "source": [
        "a = 'I loke kebab'\n",
        "a[3] = 'i'\n",
        "# 오류메세지"
      ],
      "execution_count": null,
      "outputs": [
        {
          "output_type": "error",
          "ename": "TypeError",
          "evalue": "ignored",
          "traceback": [
            "\u001b[0;31m---------------------------------------------------------------------------\u001b[0m",
            "\u001b[0;31mTypeError\u001b[0m                                 Traceback (most recent call last)",
            "\u001b[0;32m<ipython-input-12-836aebf5097e>\u001b[0m in \u001b[0;36m<module>\u001b[0;34m()\u001b[0m\n\u001b[1;32m      1\u001b[0m \u001b[0ma\u001b[0m \u001b[0;34m=\u001b[0m \u001b[0;34m'I loke kebab'\u001b[0m\u001b[0;34m\u001b[0m\u001b[0;34m\u001b[0m\u001b[0m\n\u001b[0;32m----> 2\u001b[0;31m \u001b[0ma\u001b[0m\u001b[0;34m[\u001b[0m\u001b[0;36m3\u001b[0m\u001b[0;34m]\u001b[0m \u001b[0;34m=\u001b[0m \u001b[0;34m'i'\u001b[0m\u001b[0;34m\u001b[0m\u001b[0;34m\u001b[0m\u001b[0m\n\u001b[0m\u001b[1;32m      3\u001b[0m \u001b[0;31m# 오류메세지\u001b[0m\u001b[0;34m\u001b[0m\u001b[0;34m\u001b[0m\u001b[0;34m\u001b[0m\u001b[0m\n",
            "\u001b[0;31mTypeError\u001b[0m: 'str' object does not support item assignment"
          ]
        }
      ]
    },
    {
      "cell_type": "markdown",
      "metadata": {
        "id": "_NwOpDvHNmOj"
      },
      "source": [
        "- 문자열은 요소의 값을 바꿀수 없는 immutable한 자료형이다.\n",
        "- 그렇기에 슬라이싱 기법을 사용하여야만 문자열을 수정할 수 있다."
      ]
    },
    {
      "cell_type": "code",
      "metadata": {
        "colab": {
          "base_uri": "https://localhost:8080/"
        },
        "id": "pM5Pl_W_N1zF",
        "outputId": "6dff68da-a064-44e8-8932-89c997061def"
      },
      "source": [
        "a = 'I loke kebab'\n",
        "b = a[:3] + 'i' + a[4:]\n",
        "print(b)"
      ],
      "execution_count": null,
      "outputs": [
        {
          "output_type": "stream",
          "text": [
            "I like kebab\n"
          ],
          "name": "stdout"
        }
      ]
    },
    {
      "cell_type": "markdown",
      "metadata": {
        "id": "B_y9lIIyOdoF"
      },
      "source": [
        "#### 2-4. 문자열 포멧팅"
      ]
    },
    {
      "cell_type": "code",
      "metadata": {
        "colab": {
          "base_uri": "https://localhost:8080/"
        },
        "id": "UuoqYVYmOKGh",
        "outputId": "a793af05-38f2-43ae-e3d9-84d698f6ca64"
      },
      "source": [
        "# 가장 가독성있고 직관적인 방법\n",
        "a = 5\n",
        "print(f'나는 햄버거를 {a}번 먹고 싶다')"
      ],
      "execution_count": null,
      "outputs": [
        {
          "output_type": "stream",
          "text": [
            "나는 햄버거를 5번 먹고 싶다\n"
          ],
          "name": "stdout"
        }
      ]
    },
    {
      "cell_type": "code",
      "metadata": {
        "colab": {
          "base_uri": "https://localhost:8080/"
        },
        "id": "mkfLO-vPO-gx",
        "outputId": "a87eab7f-216f-43e6-a540-d74b09fd2098"
      },
      "source": [
        "# 소수점을 표현하고 싶다면\n",
        "a = 36.5\n",
        "print(f'나의 지금 체온은 {a:0.2f}도야')"
      ],
      "execution_count": null,
      "outputs": [
        {
          "output_type": "stream",
          "text": [
            "나의 지금 체온은 36.50도야\n"
          ],
          "name": "stdout"
        }
      ]
    },
    {
      "cell_type": "markdown",
      "metadata": {
        "id": "KIViCE_HPnGU"
      },
      "source": [
        "#### 2-5 문자열 관련 메소드들\n",
        "|함수|뜻|\n",
        "|:--:|:--:|\n",
        "|count|문자열의 특정 문자의 갯수를 셀 때 쓰임|\n",
        "|find|위치 알려주기 1|\n",
        "|index|위치 알려주기 2|\n",
        "|join|문자열 삽입|\n",
        "|upper|소문자를 대문자로 바꾸기|\n",
        "|lower|대문자를 소문자로 바꾸기|\n",
        "|lstrip|왼쪽 공백 없애기|\n",
        "|rstrip|오른쪽 공백 없애기|\n",
        "|strip|공백 없애기|\n",
        "|replace|문자열 바꾸기|\n",
        "|split|문자열 나누기|\n",
        "\n",
        "- built-in 함수로써 '문자열 변수명'.lower()의 형태로 쓰인다"
      ]
    },
    {
      "cell_type": "markdown",
      "metadata": {
        "id": "hXaxYJ1ZSkGI"
      },
      "source": [
        "**count**: 문자열의 특정 문자의 갯수를 셀 때 쓰이는 함수\n",
        "- len 함수와는 다른 기능임을 유의 한다.\n",
        "- len 함수는 문자열의 모든 문자들의 갯수를 출력한다."
      ]
    },
    {
      "cell_type": "code",
      "metadata": {
        "colab": {
          "base_uri": "https://localhost:8080/"
        },
        "id": "DDYTvMb7PyZq",
        "outputId": "6757c896-e124-490e-dc66-2ab92c484422"
      },
      "source": [
        "a = 'Banana'\n",
        "print( a.count('n') )\n",
        "print( len(a) )"
      ],
      "execution_count": null,
      "outputs": [
        {
          "output_type": "stream",
          "text": [
            "2\n",
            "6\n"
          ],
          "name": "stdout"
        }
      ]
    },
    {
      "cell_type": "markdown",
      "metadata": {
        "id": "IH_rCSCsSv0D"
      },
      "source": [
        "**find/index**: 특정 문자의 인덱스 값을 출력하는 함수"
      ]
    },
    {
      "cell_type": "code",
      "metadata": {
        "colab": {
          "base_uri": "https://localhost:8080/",
          "height": 249
        },
        "id": "usuEECRuSe6c",
        "outputId": "1ebfadf6-c67c-467e-cd74-7c91c8caf3ac"
      },
      "source": [
        "b = 'I like Python more then R'\n",
        "\n",
        "print( b.find('p') ) # 해당 글자가 변수 안에 없을 때 -1을 변환하지만\n",
        "print( b.find('P') )\n",
        "print( b.index('R') )\n",
        "print( b.index('p') ) #index는 변수 안에 해당 글자가 없을 때 오류를 출력한다."
      ],
      "execution_count": null,
      "outputs": [
        {
          "output_type": "stream",
          "text": [
            "-1\n",
            "7\n",
            "24\n"
          ],
          "name": "stdout"
        },
        {
          "output_type": "error",
          "ename": "ValueError",
          "evalue": "ignored",
          "traceback": [
            "\u001b[0;31m---------------------------------------------------------------------------\u001b[0m",
            "\u001b[0;31mValueError\u001b[0m                                Traceback (most recent call last)",
            "\u001b[0;32m<ipython-input-29-8a219ef476fd>\u001b[0m in \u001b[0;36m<module>\u001b[0;34m()\u001b[0m\n\u001b[1;32m      4\u001b[0m \u001b[0mprint\u001b[0m\u001b[0;34m(\u001b[0m \u001b[0mb\u001b[0m\u001b[0;34m.\u001b[0m\u001b[0mfind\u001b[0m\u001b[0;34m(\u001b[0m\u001b[0;34m'P'\u001b[0m\u001b[0;34m)\u001b[0m \u001b[0;34m)\u001b[0m\u001b[0;34m\u001b[0m\u001b[0;34m\u001b[0m\u001b[0m\n\u001b[1;32m      5\u001b[0m \u001b[0mprint\u001b[0m\u001b[0;34m(\u001b[0m \u001b[0mb\u001b[0m\u001b[0;34m.\u001b[0m\u001b[0mindex\u001b[0m\u001b[0;34m(\u001b[0m\u001b[0;34m'R'\u001b[0m\u001b[0;34m)\u001b[0m \u001b[0;34m)\u001b[0m\u001b[0;34m\u001b[0m\u001b[0;34m\u001b[0m\u001b[0m\n\u001b[0;32m----> 6\u001b[0;31m \u001b[0mprint\u001b[0m\u001b[0;34m(\u001b[0m \u001b[0mb\u001b[0m\u001b[0;34m.\u001b[0m\u001b[0mindex\u001b[0m\u001b[0;34m(\u001b[0m\u001b[0;34m'p'\u001b[0m\u001b[0;34m)\u001b[0m \u001b[0;34m)\u001b[0m\u001b[0;34m\u001b[0m\u001b[0;34m\u001b[0m\u001b[0m\n\u001b[0m",
            "\u001b[0;31mValueError\u001b[0m: substring not found"
          ]
        }
      ]
    },
    {
      "cell_type": "markdown",
      "metadata": {
        "id": "qG-d4DQATpuk"
      },
      "source": [
        "**join**: 문자열 삽입시키는 함수"
      ]
    },
    {
      "cell_type": "code",
      "metadata": {
        "colab": {
          "base_uri": "https://localhost:8080/"
        },
        "id": "iw7WU8uFTwUn",
        "outputId": "200f1e28-9262-4a53-a7b3-487fcc6943b2"
      },
      "source": [
        "print( '-'.join('19920329') )"
      ],
      "execution_count": null,
      "outputs": [
        {
          "output_type": "stream",
          "text": [
            "1-9-9-2-0-3-2-9\n"
          ],
          "name": "stdout"
        }
      ]
    },
    {
      "cell_type": "markdown",
      "metadata": {
        "id": "vApUda6gSibO"
      },
      "source": [
        "**lstrip / rstrip / strip**: 공백 지우기 "
      ]
    },
    {
      "cell_type": "code",
      "metadata": {
        "colab": {
          "base_uri": "https://localhost:8080/"
        },
        "id": "NtC55L8rTH-1",
        "outputId": "5ee6ef70-c021-40ad-8757-8ac1bbe1ee11"
      },
      "source": [
        "a = \"    hi    \"\n",
        "a = a.lstrip()   # 왼쪽 공백을 지운다.\n",
        "print(a)\n",
        "print(len(a))"
      ],
      "execution_count": 25,
      "outputs": [
        {
          "output_type": "stream",
          "text": [
            "hi    \n",
            "6\n"
          ],
          "name": "stdout"
        }
      ]
    },
    {
      "cell_type": "code",
      "metadata": {
        "colab": {
          "base_uri": "https://localhost:8080/"
        },
        "id": "cJMyK0CmTPjT",
        "outputId": "32011090-cdf8-477b-da7d-3c489c55ff43"
      },
      "source": [
        "b = \"    hi    \"\n",
        "b = b.rstrip()   # 오른쪽 공백을 지운다.\n",
        "print(b)\n",
        "print(len(b))"
      ],
      "execution_count": 24,
      "outputs": [
        {
          "output_type": "stream",
          "text": [
            "    hi\n",
            "6\n"
          ],
          "name": "stdout"
        }
      ]
    },
    {
      "cell_type": "code",
      "metadata": {
        "colab": {
          "base_uri": "https://localhost:8080/"
        },
        "id": "luql4wrhULIP",
        "outputId": "47433ad8-ee99-41c6-829d-0fc404399fa1"
      },
      "source": [
        "c = \"    hi    \"\n",
        "c = c.strip()    # 양쪽 공백을 지운다.\n",
        "print(c)"
      ],
      "execution_count": 23,
      "outputs": [
        {
          "output_type": "stream",
          "text": [
            "hi\n"
          ],
          "name": "stdout"
        }
      ]
    },
    {
      "cell_type": "markdown",
      "metadata": {
        "id": "wLkMMgGpUr6i"
      },
      "source": [
        "**replace**: 문자열 바꾸기\n",
        "- replace(바꾸게 될 문자열, 바꿀 문자열) 처럼 사용하여 문자열 안의 특정한 값을 다른 값으로 치환한다."
      ]
    },
    {
      "cell_type": "code",
      "metadata": {
        "colab": {
          "base_uri": "https://localhost:8080/"
        },
        "id": "pcSi4_4eU-33",
        "outputId": "838943d0-73d9-4397-bc5c-4e8f8771f0d5"
      },
      "source": [
        "b = \"My friend is rich\"\n",
        "b = b.replace(\"My friend is\", \"I am\")\n",
        "print(b + \" in my dream\")"
      ],
      "execution_count": 1,
      "outputs": [
        {
          "output_type": "stream",
          "text": [
            "I am rich in my dream\n"
          ],
          "name": "stdout"
        }
      ]
    },
    {
      "cell_type": "markdown",
      "metadata": {
        "id": "AS2FzLkKioNe"
      },
      "source": [
        "**split**  \n",
        "- split() 괄호안에 아무것도 넣지 않으면 공백(스페이스, 탭, 엔터 등)을 기준으로 문자열을 나눈다.\n",
        "- split(';')처럼 괄호 안에 특정 값이 있을 경우에는 괄호 안의 값을 구분자로 하여\u001d 문자열을 나누게 된다.\n",
        "- 이렇게 나눈 값들은 리스트에 하나씩 들어가게 된다."
      ]
    },
    {
      "cell_type": "code",
      "metadata": {
        "colab": {
          "base_uri": "https://localhost:8080/"
        },
        "id": "fjukiVksinIW",
        "outputId": "b0620e53-37ad-4b10-ecdc-d794bcec253d"
      },
      "source": [
        "a = 'Life is too short'\n",
        "a = a.split()     # 공백을 기준으로 문자열을 나눔\n",
        "print(a)"
      ],
      "execution_count": 4,
      "outputs": [
        {
          "output_type": "stream",
          "text": [
            "['Life', 'is', 'too', 'short']\n"
          ],
          "name": "stdout"
        }
      ]
    },
    {
      "cell_type": "code",
      "metadata": {
        "colab": {
          "base_uri": "https://localhost:8080/"
        },
        "id": "HMYBGz8GjjXS",
        "outputId": "ed734b2d-53c8-4a31-c567-8598ab709b83"
      },
      "source": [
        "b = 'a:b:c:d'    # 문자열을 \n",
        "b = b.split(':') # split으로 ':'을 기준으로 나누면\n",
        "print(b)         # 리스트의 형태로 출력한다."
      ],
      "execution_count": 6,
      "outputs": [
        {
          "output_type": "stream",
          "text": [
            "['a', 'b', 'c', 'd']\n"
          ],
          "name": "stdout"
        }
      ]
    },
    {
      "cell_type": "markdown",
      "metadata": {
        "id": "Z_bZ-kzKkewo"
      },
      "source": [
        "#### 2-6 문자열 연습문제"
      ]
    },
    {
      "cell_type": "markdown",
      "metadata": {
        "id": "fxlpRHUMklXT"
      },
      "source": [
        "1. letter가 바인딩하는 문자열에서 첫번째와 세번째 문자를 출력하세요\n",
        "~~~\n",
        "letters = 'python'\n",
        "~~~"
      ]
    },
    {
      "cell_type": "code",
      "metadata": {
        "colab": {
          "base_uri": "https://localhost:8080/"
        },
        "id": "Vl9N8lKik5K3",
        "outputId": "4ccae2a8-9293-46a6-ed29-c49c9c52480e"
      },
      "source": [
        "letters = 'python'\n",
        "print(letters[0], letters[2])"
      ],
      "execution_count": 10,
      "outputs": [
        {
          "output_type": "stream",
          "text": [
            "p t\n"
          ],
          "name": "stdout"
        }
      ]
    },
    {
      "cell_type": "markdown",
      "metadata": {
        "id": "hlOlFs7ilG37"
      },
      "source": [
        "2. 자동차 번호가 다음과 같을 때 뒤에 4자리만 출력하세요\n",
        "~~~\n",
        "license_plate = \"24가 2210\"\n",
        "~~~"
      ]
    },
    {
      "cell_type": "code",
      "metadata": {
        "colab": {
          "base_uri": "https://localhost:8080/"
        },
        "id": "Us3o3k51k--n",
        "outputId": "9abd9750-fba8-4cb1-a0ff-948829d552a0"
      },
      "source": [
        "license_plate = \"24가 2210\"\n",
        "print(license_plate[-4:])\n",
        "license_plate = license_plate.split(\" \")\n",
        "print( license_plate[1] )"
      ],
      "execution_count": 13,
      "outputs": [
        {
          "output_type": "stream",
          "text": [
            "2210\n",
            "2210\n"
          ],
          "name": "stdout"
        }
      ]
    },
    {
      "cell_type": "markdown",
      "metadata": {
        "id": "VYG5-gBJllYJ"
      },
      "source": [
        "3. 아래의 문자열에서 '홀' 만 출력하세요.\n",
        "~~~\n",
        "string = \"홀짝홀짝홀짝\"\n",
        "~~~"
      ]
    },
    {
      "cell_type": "code",
      "metadata": {
        "colab": {
          "base_uri": "https://localhost:8080/"
        },
        "id": "mibBMNfClqZz",
        "outputId": "f3a35a99-54d8-4ddf-b661-fcb005c7fa84"
      },
      "source": [
        "string = \"홀짝홀짝홀짝\"\n",
        "print( string[0::2] )"
      ],
      "execution_count": 15,
      "outputs": [
        {
          "output_type": "stream",
          "text": [
            "홀홀홀\n"
          ],
          "name": "stdout"
        }
      ]
    },
    {
      "cell_type": "markdown",
      "metadata": {
        "id": "daHLCsvflvR2"
      },
      "source": [
        "4. 문자열을 거꾸로 뒤집어 출력하세요.\n",
        "~~~\n",
        "string = \"PYTHON\"\n",
        "~~~"
      ]
    },
    {
      "cell_type": "code",
      "metadata": {
        "colab": {
          "base_uri": "https://localhost:8080/"
        },
        "id": "ZJkK-t0-lzn-",
        "outputId": "e6594b58-d75c-4bce-98f8-13b710c612de"
      },
      "source": [
        "a = 'PYTHON'\n",
        "print( a[::-1])"
      ],
      "execution_count": 16,
      "outputs": [
        {
          "output_type": "stream",
          "text": [
            "NOHTYP\n"
          ],
          "name": "stdout"
        }
      ]
    },
    {
      "cell_type": "markdown",
      "metadata": {
        "id": "CbSMxgwMmVv5"
      },
      "source": [
        "5. 아래의 전화번호에서 하이푼 ('-')을 제거하고 출력하세요.\n",
        "~~~\n",
        "phone_number = \"010-1111-2222\"\n",
        "~~~\n",
        "~~~\n",
        "실행 예\n",
        "010 1111 2222\n",
        "~~~"
      ]
    },
    {
      "cell_type": "code",
      "metadata": {
        "colab": {
          "base_uri": "https://localhost:8080/"
        },
        "id": "SW_Cn31BmZOi",
        "outputId": "b44c83d7-9c71-472b-e63b-0f07cc7032bc"
      },
      "source": [
        "a = \"010-1111-2222\"\n",
        "a = a.replace(\"-\", \" \")\n",
        "print(a)"
      ],
      "execution_count": 18,
      "outputs": [
        {
          "output_type": "stream",
          "text": [
            "010 1111 2222\n"
          ],
          "name": "stdout"
        }
      ]
    },
    {
      "cell_type": "markdown",
      "metadata": {
        "id": "atyy3TTimo7p"
      },
      "source": [
        "6. 25번 문제의 전화번호를 아래와 같이 모두 붙여 출력하세요.\n",
        "~~~\n",
        "실행 예\n",
        "01011112222\n",
        "~~~"
      ]
    },
    {
      "cell_type": "code",
      "metadata": {
        "colab": {
          "base_uri": "https://localhost:8080/"
        },
        "id": "9xSnIeiBmriv",
        "outputId": "061757dd-c686-4cd2-d88a-bbec5df7e3bd"
      },
      "source": [
        "a = \"010-1111-2222\"\n",
        "a = a.replace(\"-\", \"\")\n",
        "print(a)"
      ],
      "execution_count": 26,
      "outputs": [
        {
          "output_type": "stream",
          "text": [
            "01011112222\n"
          ],
          "name": "stdout"
        }
      ]
    },
    {
      "cell_type": "markdown",
      "metadata": {
        "id": "sP6AY3KqnWzX"
      },
      "source": [
        "7. url 에 저장된 웹 페이지 주소에서 도메인을 출력하세요.\n",
        "~~~\n",
        "url = \"http://sharebook.kr\"\n",
        "~~~"
      ]
    },
    {
      "cell_type": "code",
      "metadata": {
        "colab": {
          "base_uri": "https://localhost:8080/"
        },
        "id": "87zCNhKOm-1L",
        "outputId": "0a8e14a3-42d6-46dd-ade4-a626dd733ddc"
      },
      "source": [
        "url = \"http://sharebook.kr\"\n",
        "print( url[-2:] )\n",
        "url = url.split('.')\n",
        "print(url[1])"
      ],
      "execution_count": 32,
      "outputs": [
        {
          "output_type": "stream",
          "text": [
            "kr\n",
            "kr\n"
          ],
          "name": "stdout"
        }
      ]
    },
    {
      "cell_type": "markdown",
      "metadata": {
        "id": "m3bnedyNn7Xr"
      },
      "source": [
        "8. 아래 코드의 실행 결과를 예상해보세요.\n",
        "~~~\n",
        ">> lang = 'python'\n",
        ">> lang[0] = 'P'\n",
        ">> print(lang)\n",
        "~~~"
      ]
    },
    {
      "cell_type": "code",
      "metadata": {
        "colab": {
          "base_uri": "https://localhost:8080/",
          "height": 198
        },
        "id": "kBvAEW8ln_2s",
        "outputId": "29fe9b7a-ad14-408e-8d5a-25f42cc8df1a"
      },
      "source": [
        "lang = 'PYTHON'\n",
        "lang[0]='p'\n",
        "print(lang)"
      ],
      "execution_count": 34,
      "outputs": [
        {
          "output_type": "error",
          "ename": "TypeError",
          "evalue": "ignored",
          "traceback": [
            "\u001b[0;31m---------------------------------------------------------------------------\u001b[0m",
            "\u001b[0;31mTypeError\u001b[0m                                 Traceback (most recent call last)",
            "\u001b[0;32m<ipython-input-34-bcef1a7090f3>\u001b[0m in \u001b[0;36m<module>\u001b[0;34m()\u001b[0m\n\u001b[1;32m      1\u001b[0m \u001b[0mlang\u001b[0m \u001b[0;34m=\u001b[0m \u001b[0;34m'PYTHON'\u001b[0m\u001b[0;34m\u001b[0m\u001b[0;34m\u001b[0m\u001b[0m\n\u001b[0;32m----> 2\u001b[0;31m \u001b[0mlang\u001b[0m\u001b[0;34m[\u001b[0m\u001b[0;36m0\u001b[0m\u001b[0;34m]\u001b[0m\u001b[0;34m=\u001b[0m\u001b[0;34m'p'\u001b[0m\u001b[0;34m\u001b[0m\u001b[0;34m\u001b[0m\u001b[0m\n\u001b[0m\u001b[1;32m      3\u001b[0m \u001b[0mprint\u001b[0m\u001b[0;34m(\u001b[0m\u001b[0mlang\u001b[0m\u001b[0;34m)\u001b[0m\u001b[0;34m\u001b[0m\u001b[0;34m\u001b[0m\u001b[0m\n",
            "\u001b[0;31mTypeError\u001b[0m: 'str' object does not support item assignment"
          ]
        }
      ]
    },
    {
      "cell_type": "markdown",
      "metadata": {
        "id": "xfjHI46roT5c"
      },
      "source": [
        "- 파이썬에서 문자열은 immutable, 수정이 가능하지 않은 자료형으로써 수정이 불가하다."
      ]
    },
    {
      "cell_type": "markdown",
      "metadata": {
        "id": "1GZOjItOogXh"
      },
      "source": [
        "9. 아래 문자열에서 소문자 'a'를 대문자 'A'로 변경하세요.\n",
        "~~~\n",
        ">> string = 'abcdfe2a354a32a'\n",
        "~~~"
      ]
    },
    {
      "cell_type": "code",
      "metadata": {
        "colab": {
          "base_uri": "https://localhost:8080/"
        },
        "id": "sOtkTlfgolS_",
        "outputId": "fff27302-46f4-4a2d-9fa8-35722dde99bd"
      },
      "source": [
        "string = 'abcdfe2a354a32a'\n",
        "string = string.replace('a', 'A')\n",
        "print(string)"
      ],
      "execution_count": 35,
      "outputs": [
        {
          "output_type": "stream",
          "text": [
            "Abcdfe2A354A32A\n"
          ],
          "name": "stdout"
        }
      ]
    },
    {
      "cell_type": "code",
      "metadata": {
        "colab": {
          "base_uri": "https://localhost:8080/"
        },
        "id": "eyX51Fibo4Fv",
        "outputId": "e33f810f-a2dc-45fc-9b13-efb02364bc2b"
      },
      "source": [
        "string = 'abcd'\n",
        "string.replace('b', 'B')\n",
        "print(string)"
      ],
      "execution_count": 36,
      "outputs": [
        {
          "output_type": "stream",
          "text": [
            "abcd\n"
          ],
          "name": "stdout"
        }
      ]
    },
    {
      "cell_type": "markdown",
      "metadata": {
        "id": "dBx0IAWRpAf6"
      },
      "source": [
        "- 위와 같이 새로운 변수선언을 하지 않았을 경우에는 replace 메서드를 사용하였더라도 출력값에는 변화가 없다\n",
        "- 문자열은 기본적으로 immutable한 자료형이기 때문"
      ]
    },
    {
      "cell_type": "markdown",
      "metadata": {
        "id": "BwA1IlOdpO-A"
      },
      "source": [
        "10. 화면에 '-'를 80개 출력하세요."
      ]
    },
    {
      "cell_type": "code",
      "metadata": {
        "colab": {
          "base_uri": "https://localhost:8080/"
        },
        "id": "8QnSVCsBpc61",
        "outputId": "e377f754-ce45-4831-ea1a-0c55c63253e2"
      },
      "source": [
        "print('-'*80)"
      ],
      "execution_count": 38,
      "outputs": [
        {
          "output_type": "stream",
          "text": [
            "--------------------------------------------------------------------------------\n"
          ],
          "name": "stdout"
        }
      ]
    },
    {
      "cell_type": "markdown",
      "metadata": {
        "id": "uMJiAT8eppth"
      },
      "source": [
        "11. 변수에 다음과 같은 문자열이 바인딩되어 있습니다.\n",
        "~~~\n",
        "t1 = 'python'\n",
        "t2 = 'java'\n",
        "~~~\n",
        "변수에 문자열 더하기와 문자열 곱하기를 사용해서 아래와 같이 출력해보세요.\n",
        "~~~\n",
        "실행 예:\n",
        "python java python java python java python java\n",
        "~~~"
      ]
    },
    {
      "cell_type": "code",
      "metadata": {
        "colab": {
          "base_uri": "https://localhost:8080/"
        },
        "id": "toX2bDh6py3r",
        "outputId": "84b635bf-24f8-4855-c739-1132a399e2bf"
      },
      "source": [
        "t1 = 'python'\n",
        "t2 = 'java'\n",
        "t3 = t1 + ' ' + t2 + ' '\n",
        "print(t3 * 4)"
      ],
      "execution_count": 42,
      "outputs": [
        {
          "output_type": "stream",
          "text": [
            "python java python java python java python java \n"
          ],
          "name": "stdout"
        }
      ]
    },
    {
      "cell_type": "markdown",
      "metadata": {
        "id": "1mlHGmq-p7Nv"
      },
      "source": [
        "12. 변수에 다음과 같이 문자열과 정수가 바인딩되어 있을 때 % formatting을 사용해서 다음과 같이 출력해보세요.\n",
        "~~~\n",
        "name1 = \"김민수\" \n",
        "age1 = 10\n",
        "name2 = \"이철희\"\n",
        "age2 = 13\n",
        "~~~\n",
        "~~~\n",
        "이름: 김민수 나이: 10\n",
        "이름: 이철희 나이: 13\n",
        "~~~"
      ]
    },
    {
      "cell_type": "code",
      "metadata": {
        "colab": {
          "base_uri": "https://localhost:8080/"
        },
        "id": "CoJI3Da8qrwW",
        "outputId": "a5f1f1fd-33b2-4b5b-ddaf-8655f6fa023d"
      },
      "source": [
        "name1 = \"김민수\" \n",
        "age1 = 10\n",
        "name2 = \"이철희\"\n",
        "age2 = 13\n",
        "print(f\"이름: {name1} 나이: {age1}\")\n",
        "print(f\"이름: {name2} 나이: {age2}\")"
      ],
      "execution_count": 44,
      "outputs": [
        {
          "output_type": "stream",
          "text": [
            "이름: 김민수 나이: 10\n",
            "이름: 이철희 나이: 13\n"
          ],
          "name": "stdout"
        }
      ]
    },
    {
      "cell_type": "markdown",
      "metadata": {
        "id": "NmXiFEEhsHPb"
      },
      "source": [
        "13. 컴마를 제거한 후 이를 정수 타입으로 변환해보세요.\n",
        "~~~\n",
        "stock = \"5,969,782,550\"\n",
        "~~~"
      ]
    },
    {
      "cell_type": "code",
      "metadata": {
        "colab": {
          "base_uri": "https://localhost:8080/"
        },
        "id": "SzgyIpPOsM7E",
        "outputId": "cbb61dd3-8860-4947-c01d-a81ba2b15030"
      },
      "source": [
        "stock = \"5,969,782,550\"\n",
        "stock = stock.replace(\",\", \"\")\n",
        "stock = int(stock) \n",
        "print(stock, type(stock) )"
      ],
      "execution_count": 47,
      "outputs": [
        {
          "output_type": "stream",
          "text": [
            "5969782550 <class 'int'>\n"
          ],
          "name": "stdout"
        }
      ]
    },
    {
      "cell_type": "markdown",
      "metadata": {
        "id": "Sz_5ru6itbkM"
      },
      "source": [
        "14. 다음과 같은 문자열에서 '2020/03'만 출력하세요.\n",
        "~~~\n",
        "분기 = \"2020/03(E) (IFRS연결)\"\n",
        "~~~"
      ]
    },
    {
      "cell_type": "code",
      "metadata": {
        "colab": {
          "base_uri": "https://localhost:8080/"
        },
        "id": "zVocNkGftg4N",
        "outputId": "2ebbe7e3-4a9c-4ac9-bdd2-fc4e32498ae6"
      },
      "source": [
        "priod = \"2020/03(E) (IFRS연결)\"\n",
        "print(priod[0:7])\n",
        "s_p = priod.split(\" \")\n",
        "print(s_p[0][:-3])"
      ],
      "execution_count": 52,
      "outputs": [
        {
          "output_type": "stream",
          "text": [
            "2020/03\n",
            "2020/03\n"
          ],
          "name": "stdout"
        }
      ]
    },
    {
      "cell_type": "markdown",
      "metadata": {
        "id": "COw6rCJjuMSA"
      },
      "source": [
        "15. 문자열의 좌우의 공백이 있을 때 이를 제거해보세요.\n",
        "~~~\n",
        "data = \"   삼성전자    \"\n",
        "~~~"
      ]
    },
    {
      "cell_type": "code",
      "metadata": {
        "colab": {
          "base_uri": "https://localhost:8080/"
        },
        "id": "0gTiq1RLuTOo",
        "outputId": "5081c6e7-d0b5-4462-b7c3-2306300952c2"
      },
      "source": [
        "data = \"   삼성전자    \"\n",
        "print(data)\n",
        "data = data.strip()\n",
        "print(data)"
      ],
      "execution_count": 55,
      "outputs": [
        {
          "output_type": "stream",
          "text": [
            "   삼성전자    \n",
            "삼성전자\n"
          ],
          "name": "stdout"
        }
      ]
    },
    {
      "cell_type": "markdown",
      "metadata": {
        "id": "FzyRXjwLugp_"
      },
      "source": [
        "16. 다음과 같은 문자열이 있을 때 이를 대문자 BTC_KRW로 변경하세요.\n",
        "~~~\n",
        "ticker = \"btc_krw\"\n",
        "~~~"
      ]
    },
    {
      "cell_type": "code",
      "metadata": {
        "colab": {
          "base_uri": "https://localhost:8080/"
        },
        "id": "Hrif7ArsvJk9",
        "outputId": "33e1b04f-f4bb-48d1-e808-ae05947065b1"
      },
      "source": [
        "ticker = \"btc_krw\"\n",
        "print( ticker.upper() )"
      ],
      "execution_count": 57,
      "outputs": [
        {
          "output_type": "stream",
          "text": [
            "BTC_KRW\n"
          ],
          "name": "stdout"
        }
      ]
    },
    {
      "cell_type": "markdown",
      "metadata": {
        "id": "bepMlsUEvS36"
      },
      "source": [
        "17. 다음과 같은 문자열이 있을 때 이를 소문자 btc_krw로 변경하세요.\n",
        "~~~\n",
        "ticker = \"BTC_KRW\"\n",
        "~~~"
      ]
    },
    {
      "cell_type": "code",
      "metadata": {
        "colab": {
          "base_uri": "https://localhost:8080/"
        },
        "id": "Ll9y5Qixva3B",
        "outputId": "9086b37c-f4bd-406b-b099-c837604cf5e9"
      },
      "source": [
        "ticker = \"BTC_KRW\"\n",
        "print( ticker.lower() )"
      ],
      "execution_count": 58,
      "outputs": [
        {
          "output_type": "stream",
          "text": [
            "btc_krw\n"
          ],
          "name": "stdout"
        }
      ]
    },
    {
      "cell_type": "markdown",
      "metadata": {
        "id": "DUCjKh0dvkBf"
      },
      "source": [
        "18. 문자열 'hello'가 있을 때 이를 'Hello'로 변경해보세요."
      ]
    },
    {
      "cell_type": "code",
      "metadata": {
        "colab": {
          "base_uri": "https://localhost:8080/"
        },
        "id": "FExJrzLJvftY",
        "outputId": "e77b8d75-5c53-4013-89ff-4dc347b51a3d"
      },
      "source": [
        "hello = 'hello'\n",
        "print( hello.capitalize() )"
      ],
      "execution_count": 60,
      "outputs": [
        {
          "output_type": "stream",
          "text": [
            "Hello\n"
          ],
          "name": "stdout"
        }
      ]
    },
    {
      "cell_type": "markdown",
      "metadata": {
        "id": "0hYJu4suwWGH"
      },
      "source": [
        "19. 파일 이름이 문자열로 저장되어 있을 때 endswith 메서드를 사용해서 파일 이름이 'xlsx'로 끝나는지 확인해보세요.\n",
        "~~~\n",
        "file_name = \"보고서.xlsx\"\n",
        "~~~"
      ]
    },
    {
      "cell_type": "code",
      "metadata": {
        "colab": {
          "base_uri": "https://localhost:8080/"
        },
        "id": "q4UU2ErFwXP1",
        "outputId": "b4c558af-65b0-4e6c-ce80-56bf161bab35"
      },
      "source": [
        "file_name = \"보고서.xlsx\"\n",
        "print( file_name.endswith('xlsx') )"
      ],
      "execution_count": 61,
      "outputs": [
        {
          "output_type": "stream",
          "text": [
            "True\n"
          ],
          "name": "stdout"
        }
      ]
    },
    {
      "cell_type": "markdown",
      "metadata": {
        "id": "Bah3swiJwmF-"
      },
      "source": [
        "20. 파일 이름이 문자열로 저장되어 있을 때 endswith 메서드를 사용해서 파일 이름이 'xlsx' 또는 'xls'로 끝나는지 확인해보세요.\n",
        "~~~\n",
        "file_name = \"보고서.xlsx\"\n",
        "~~~"
      ]
    },
    {
      "cell_type": "code",
      "metadata": {
        "colab": {
          "base_uri": "https://localhost:8080/"
        },
        "id": "9VdVD3OlwndE",
        "outputId": "b155914c-b5f3-4e31-9d5f-af19d95a2cd9"
      },
      "source": [
        "file_name = \"보고서.xlsx\"\n",
        "file_name.endswith(('xlsx', 'xls'))"
      ],
      "execution_count": 65,
      "outputs": [
        {
          "output_type": "execute_result",
          "data": {
            "text/plain": [
              "True"
            ]
          },
          "metadata": {
            "tags": []
          },
          "execution_count": 65
        }
      ]
    },
    {
      "cell_type": "markdown",
      "metadata": {
        "id": "DG13BMarxl5F"
      },
      "source": [
        "21. 파일 이름이 문자열로 저장되어 있을 때 startswith 메서드를 사용해서 파일 이름이 '2020'로 시작하는지 확인해보세요.\n",
        "~~~\n",
        "file_name = \"2020_보고서.xlsx\"\n",
        "~~~"
      ]
    },
    {
      "cell_type": "code",
      "metadata": {
        "colab": {
          "base_uri": "https://localhost:8080/"
        },
        "id": "puivtpXnxncX",
        "outputId": "def3b782-9f15-4988-b043-28e4a96d6cd8"
      },
      "source": [
        "file_name = \"2020_보고서.xlsx\"\n",
        "file_name.startswith('2020')"
      ],
      "execution_count": 66,
      "outputs": [
        {
          "output_type": "execute_result",
          "data": {
            "text/plain": [
              "True"
            ]
          },
          "metadata": {
            "tags": []
          },
          "execution_count": 66
        }
      ]
    },
    {
      "cell_type": "markdown",
      "metadata": {
        "id": "wmzzta_WxsuR"
      },
      "source": [
        "22. 다음과 같은 문자열이 있을 때 공백을 기준으로 문자열을 나눠보세요.\n",
        "~~~\n",
        "a = \"hello world\"\n",
        "~~~"
      ]
    },
    {
      "cell_type": "code",
      "metadata": {
        "colab": {
          "base_uri": "https://localhost:8080/"
        },
        "id": "XOpuF2ZEx008",
        "outputId": "d01f20fb-0a71-48d4-e2d2-7c5c29d23e94"
      },
      "source": [
        "a = \"hello world\"\n",
        "a = a.split()\n",
        "print(a)"
      ],
      "execution_count": 67,
      "outputs": [
        {
          "output_type": "stream",
          "text": [
            "['hello', 'world']\n"
          ],
          "name": "stdout"
        }
      ]
    },
    {
      "cell_type": "markdown",
      "metadata": {
        "id": "y2hym3Ahx8iE"
      },
      "source": [
        "23. 다음과 같이 문자열이 있을 때 btc와 krw로 나눠보세요.\n",
        "~~~\n",
        "ticker = \"btc_krw\"\n",
        "~~~"
      ]
    },
    {
      "cell_type": "code",
      "metadata": {
        "colab": {
          "base_uri": "https://localhost:8080/"
        },
        "id": "AGRpzvCgx_S_",
        "outputId": "f6a058e6-d4d3-456d-c309-4478fa20dafe"
      },
      "source": [
        "ticker = \"btc_krw\"\n",
        "ticker = ticker.split(\"_\")\n",
        "print(ticker)"
      ],
      "execution_count": 69,
      "outputs": [
        {
          "output_type": "stream",
          "text": [
            "['btc', 'krw']\n"
          ],
          "name": "stdout"
        }
      ]
    },
    {
      "cell_type": "markdown",
      "metadata": {
        "id": "WNU01PIbx-Xe"
      },
      "source": [
        "24. 다음과 같이 날짜를 표현하는 문자열이 있을 때 연도, 월, 일로 나눠보세요.\n",
        "~~~\n",
        "date = \"2021-01-03\"\n",
        "~~~"
      ]
    },
    {
      "cell_type": "code",
      "metadata": {
        "colab": {
          "base_uri": "https://localhost:8080/"
        },
        "id": "NcptxpatyNY8",
        "outputId": "b211ba70-0f6c-4259-abc1-516090e90a63"
      },
      "source": [
        "date = \"2021-01-03\"\n",
        "year = date.split(\"-\")[0]\n",
        "month = date.split(\"-\")[1]\n",
        "day = date.split(\"-\")[2]\n",
        "print(f\"오늘의 날짜는 {year}년 {month}월 {day}일 입니다.\")"
      ],
      "execution_count": 72,
      "outputs": [
        {
          "output_type": "stream",
          "text": [
            "오늘의 날짜는 2021년 01월 03일 입니다.\n"
          ],
          "name": "stdout"
        }
      ]
    },
    {
      "cell_type": "markdown",
      "metadata": {
        "id": "kbBPG7DNzIEI"
      },
      "source": [
        "### 3.리스트 자료형"
      ]
    },
    {
      "cell_type": "markdown",
      "metadata": {
        "id": "uRbxu8U8zW6x"
      },
      "source": [
        ""
      ]
    }
  ]
}