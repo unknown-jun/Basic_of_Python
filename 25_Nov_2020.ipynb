{
  "nbformat": 4,
  "nbformat_minor": 0,
  "metadata": {
    "colab": {
      "name": "25_Nov-2020.ipynb",
      "provenance": [],
      "authorship_tag": "ABX9TyO+igeLLZAYjYA1wQE27arM",
      "include_colab_link": true
    },
    "kernelspec": {
      "name": "python3",
      "display_name": "Python 3"
    }
  },
  "cells": [
    {
      "cell_type": "markdown",
      "metadata": {
        "id": "view-in-github",
        "colab_type": "text"
      },
      "source": [
        "<a href=\"https://colab.research.google.com/github/unknown-jun/Basic_of_Python/blob/master/25_Nov_2020.ipynb\" target=\"_parent\"><img src=\"https://colab.research.google.com/assets/colab-badge.svg\" alt=\"Open In Colab\"/></a>"
      ]
    },
    {
      "cell_type": "markdown",
      "metadata": {
        "id": "zzv2Xzb_qHB6"
      },
      "source": [
        "\n",
        "**문제23. (알고리즘 4번) for  loop 문을 이용해서 구구단 2단을 출력하시오 !**\n",
        "```\n",
        "                           2 x 1 = 2\n",
        "                           2 x 2 = 4       \n",
        "                           2 x 3 = 6\n",
        "                              :              \n",
        "                              :          \n",
        "                          2 x 9 = 18\n",
        "```"
      ]
    },
    {
      "cell_type": "code",
      "metadata": {
        "colab": {
          "base_uri": "https://localhost:8080/"
        },
        "id": "CwWWiEYWq0h2",
        "outputId": "09d1118b-a6e5-4104-aedd-d8411bdf52bf"
      },
      "source": [
        "for i in range(1, 10): # 1부터 10미만까지\n",
        "  print ( '2  x  ' ,  i , ' = ', 2 * i )"
      ],
      "execution_count": 75,
      "outputs": [
        {
          "output_type": "stream",
          "text": [
            "2  x   1  =  2\n",
            "2  x   2  =  4\n",
            "2  x   3  =  6\n",
            "2  x   4  =  8\n",
            "2  x   5  =  10\n",
            "2  x   6  =  12\n",
            "2  x   7  =  14\n",
            "2  x   8  =  16\n",
            "2  x   9  =  18\n"
          ],
          "name": "stdout"
        }
      ]
    },
    {
      "cell_type": "markdown",
      "metadata": {
        "id": "wcsvGQNH8MLf"
      },
      "source": [
        "**문제24. (알고리즘 8번)  구구단 전체를 파이썬으로 출력하시오 !**"
      ]
    },
    {
      "cell_type": "code",
      "metadata": {
        "colab": {
          "base_uri": "https://localhost:8080/"
        },
        "id": "8wKik60z8LLU",
        "outputId": "7db7ffb5-6bfe-425f-a9f7-c02dd8adbd7f"
      },
      "source": [
        "for i in range(2, 10):       # i는 2부터 10미만까지 출력이 된다.\n",
        "    for e in range(1, 10):   # i는 1부터 10미만까지 출력이 된다.\n",
        "      print( i ,' X ', e, ' = ', i*e)"
      ],
      "execution_count": 37,
      "outputs": [
        {
          "output_type": "stream",
          "text": [
            "2  X  1  =  2\n",
            "2  X  2  =  4\n",
            "2  X  3  =  6\n",
            "2  X  4  =  8\n",
            "2  X  5  =  10\n",
            "2  X  6  =  12\n",
            "2  X  7  =  14\n",
            "2  X  8  =  16\n",
            "2  X  9  =  18\n",
            "3  X  1  =  3\n",
            "3  X  2  =  6\n",
            "3  X  3  =  9\n",
            "3  X  4  =  12\n",
            "3  X  5  =  15\n",
            "3  X  6  =  18\n",
            "3  X  7  =  21\n",
            "3  X  8  =  24\n",
            "3  X  9  =  27\n",
            "4  X  1  =  4\n",
            "4  X  2  =  8\n",
            "4  X  3  =  12\n",
            "4  X  4  =  16\n",
            "4  X  5  =  20\n",
            "4  X  6  =  24\n",
            "4  X  7  =  28\n",
            "4  X  8  =  32\n",
            "4  X  9  =  36\n",
            "5  X  1  =  5\n",
            "5  X  2  =  10\n",
            "5  X  3  =  15\n",
            "5  X  4  =  20\n",
            "5  X  5  =  25\n",
            "5  X  6  =  30\n",
            "5  X  7  =  35\n",
            "5  X  8  =  40\n",
            "5  X  9  =  45\n",
            "6  X  1  =  6\n",
            "6  X  2  =  12\n",
            "6  X  3  =  18\n",
            "6  X  4  =  24\n",
            "6  X  5  =  30\n",
            "6  X  6  =  36\n",
            "6  X  7  =  42\n",
            "6  X  8  =  48\n",
            "6  X  9  =  54\n",
            "7  X  1  =  7\n",
            "7  X  2  =  14\n",
            "7  X  3  =  21\n",
            "7  X  4  =  28\n",
            "7  X  5  =  35\n",
            "7  X  6  =  42\n",
            "7  X  7  =  49\n",
            "7  X  8  =  56\n",
            "7  X  9  =  63\n",
            "8  X  1  =  8\n",
            "8  X  2  =  16\n",
            "8  X  3  =  24\n",
            "8  X  4  =  32\n",
            "8  X  5  =  40\n",
            "8  X  6  =  48\n",
            "8  X  7  =  56\n",
            "8  X  8  =  64\n",
            "8  X  9  =  72\n",
            "9  X  1  =  9\n",
            "9  X  2  =  18\n",
            "9  X  3  =  27\n",
            "9  X  4  =  36\n",
            "9  X  5  =  45\n",
            "9  X  6  =  54\n",
            "9  X  7  =  63\n",
            "9  X  8  =  72\n",
            "9  X  9  =  81\n"
          ],
          "name": "stdout"
        }
      ]
    },
    {
      "cell_type": "markdown",
      "metadata": {
        "id": "TtqYZvs-8ygd"
      },
      "source": [
        "설명: i = 2 일때 e 가 1 ~ 9까지 반복 실행\n",
        "\n",
        "```\n",
        "2 x 1 = 2 * 1\n",
        "2 x 2 = 2 * 2\n",
        "2 x 3 = 2 * 3\n",
        "      ~\n",
        "2 X 9 = 2 * 9\n",
        "\n",
        "i = 3 일때 e 가 1 ~ 9까지 반복 실행\n",
        "i = 4 일때 e 가 1 ~ 9까지 반복 실행\n",
        "            :\n",
        "i = 9 일때 e 가 1 ~ 9까지 반복 실행\n",
        "```"
      ]
    },
    {
      "cell_type": "markdown",
      "metadata": {
        "id": "0YaSdF8V-60p"
      },
      "source": [
        "**문제 25. 주사위를 10번 던져서 주사위의 눈을 10개를 출력하시오**"
      ]
    },
    {
      "cell_type": "code",
      "metadata": {
        "colab": {
          "base_uri": "https://localhost:8080/"
        },
        "id": "KC5v2YOr_CCg",
        "outputId": "09cc0bf9-86f8-4ada-c45e-b5c4b8843af5"
      },
      "source": [
        "import random\n",
        "\n",
        "dice = [1,2,3,4,5,6]\n",
        "\n",
        "for i in range(1, 11):\n",
        "  print(random.choice(dice))"
      ],
      "execution_count": 38,
      "outputs": [
        {
          "output_type": "stream",
          "text": [
            "3\n",
            "6\n",
            "4\n",
            "1\n",
            "5\n",
            "3\n",
            "6\n",
            "4\n",
            "1\n",
            "4\n"
          ],
          "name": "stdout"
        }
      ]
    },
    {
      "cell_type": "markdown",
      "metadata": {
        "id": "8g4UU7Na_TvA"
      },
      "source": [
        "**문제 26. 주사위를 10번 던졌을 때 짝수가 나오는 횟수를 출력하시오!**\n",
        "\n",
        "\n"
      ]
    },
    {
      "cell_type": "code",
      "metadata": {
        "colab": {
          "base_uri": "https://localhost:8080/"
        },
        "id": "5ESZv8zD_b33",
        "outputId": "cff600a6-6970-47d8-bc3e-5603da942029"
      },
      "source": [
        "import random\n",
        "\n",
        "dice = [1,2,3,4,5,6]\n",
        "cnt = 0\n",
        "\n",
        "for i in range(1, 11):\n",
        "  result = random.choice(dice) # 주사위의 눈이 result 변수에 할당이 됨\n",
        "  if result % 2 == 0:          # result 변수의 주사위의 눈이 짝수면\n",
        "    cnt = cnt + 1              # cnt를 1씩 증가 시킨다.\n",
        "\n",
        "print(cnt)             # print의 위치를 for 문과 맞추어 cnt에 담긴 최종 결과를 출력한다."
      ],
      "execution_count": 39,
      "outputs": [
        {
          "output_type": "stream",
          "text": [
            "5\n"
          ],
          "name": "stdout"
        }
      ]
    },
    {
      "cell_type": "markdown",
      "metadata": {
        "id": "fejyyGU1AGzP"
      },
      "source": [
        "**문제 27. 위의 주사위를 10번 던져서 짝수가 나오는 횟수를 확인하는 작업을 5번 반복해서 짝수가 나오는 횟수가 5개가 나오게 하시오**"
      ]
    },
    {
      "cell_type": "code",
      "metadata": {
        "colab": {
          "base_uri": "https://localhost:8080/"
        },
        "id": "LjbmWuwGA6Ws",
        "outputId": "30cf7a73-ad22-4a47-ddb6-0e9fba45a82d"
      },
      "source": [
        "import random\n",
        "\n",
        "dice = [1,2,3,4,5,6]\n",
        "\n",
        "for i in range(1, 6):\n",
        "  cnt = 0\n",
        "  for i in range (1, 11):\n",
        "    result = random.choice(dice) # 주사위의 눈이 result 변수에 할당이 됨\n",
        "    if result % 2 == 0:          # result 변수의 주사위의 눈이 짝수면\n",
        "      cnt = cnt + 1              # cnt를 1씩 증가 시킨다.\n",
        "\n",
        "  print(cnt)             # print의 위치를 for 문과 맞추어 cnt에 담긴 최종 결과를 출력한다."
      ],
      "execution_count": 40,
      "outputs": [
        {
          "output_type": "stream",
          "text": [
            "5\n",
            "4\n",
            "6\n",
            "4\n",
            "5\n"
          ],
          "name": "stdout"
        }
      ]
    },
    {
      "cell_type": "markdown",
      "metadata": {
        "id": "00bs_6UZGBEs"
      },
      "source": [
        "```\n",
        "설명: 주사위를 10번을 던져서 짝수가 나오는 횟수를 확인하는 for loop문을 5번 반복하기 위해서 그 위에 for loop문을 쓰고 5번 반복하였다.  \n",
        "      그리고 한번에 4칸 이동시키기 위해서 코드를 선택하고 탭(tab)키를 눌러서 한번에 이동시켰다.\n",
        "```\n"
      ]
    },
    {
      "cell_type": "markdown",
      "metadata": {
        "id": "ALnj6Ed6A3Y-"
      },
      "source": [
        "**문제 28 동전을 100번 던져서 앞면이 나올 확률을 출력하시오!**"
      ]
    },
    {
      "cell_type": "code",
      "metadata": {
        "colab": {
          "base_uri": "https://localhost:8080/"
        },
        "id": "T4bPBBAJGn1E",
        "outputId": "bfa77382-fb68-40cb-d6fe-c1d96dbc0c48"
      },
      "source": [
        "import random\n",
        "\n",
        "coin = ('앞면', '뒷면')\n",
        "\n",
        "sum = 0\n",
        "cnt = 0\n",
        "\n",
        "for i in range(100):\n",
        "  result = random.choice(coin)\n",
        "  sum += 1\n",
        "  if result =='앞면':\n",
        "    cnt += 1\n",
        "\n",
        "print(cnt/sum)"
      ],
      "execution_count": 41,
      "outputs": [
        {
          "output_type": "stream",
          "text": [
            "0.45\n"
          ],
          "name": "stdout"
        }
      ]
    },
    {
      "cell_type": "markdown",
      "metadata": {
        "id": "G_r4YD4UHmRA"
      },
      "source": [
        " **문제 29. 위의 동전을 100번 던져서 앞면이 나올 확률을 구하는 작업을 50번 반복해서 확률을 50개 출력하시오!**"
      ]
    },
    {
      "cell_type": "code",
      "metadata": {
        "colab": {
          "base_uri": "https://localhost:8080/"
        },
        "id": "lGvNXTQOHu36",
        "outputId": "01bc1499-0ebe-4689-c626-d1ca45eea370"
      },
      "source": [
        "import random\n",
        "\n",
        "coin = ('앞면', '뒷면')\n",
        "\n",
        "sum = 0\n",
        "\n",
        "for e in range(50):\n",
        "  cnt = 0\n",
        "  for i in range(100):\n",
        "    result = random.choice(coin)\n",
        "    sum += 1\n",
        "    if result =='앞면':\n",
        "      cnt += 1\n",
        "  print(cnt/sum)"
      ],
      "execution_count": 42,
      "outputs": [
        {
          "output_type": "stream",
          "text": [
            "0.53\n",
            "0.24\n",
            "0.13666666666666666\n",
            "0.1325\n",
            "0.114\n",
            "0.07666666666666666\n",
            "0.08\n",
            "0.065\n",
            "0.058888888888888886\n",
            "0.046\n",
            "0.05272727272727273\n",
            "0.03333333333333333\n",
            "0.04153846153846154\n",
            "0.03357142857142857\n",
            "0.030666666666666665\n",
            "0.025\n",
            "0.026470588235294117\n",
            "0.02722222222222222\n",
            "0.022631578947368423\n",
            "0.0275\n",
            "0.02619047619047619\n",
            "0.025454545454545455\n",
            "0.018260869565217393\n",
            "0.019166666666666665\n",
            "0.0208\n",
            "0.016923076923076923\n",
            "0.021111111111111112\n",
            "0.0175\n",
            "0.01689655172413793\n",
            "0.016\n",
            "0.015161290322580645\n",
            "0.01375\n",
            "0.015454545454545455\n",
            "0.012941176470588235\n",
            "0.014857142857142857\n",
            "0.011666666666666667\n",
            "0.014324324324324324\n",
            "0.01263157894736842\n",
            "0.013076923076923076\n",
            "0.01325\n",
            "0.01121951219512195\n",
            "0.011904761904761904\n",
            "0.010465116279069767\n",
            "0.011136363636363637\n",
            "0.013111111111111112\n",
            "0.011739130434782608\n",
            "0.00978723404255319\n",
            "0.009583333333333333\n",
            "0.010816326530612244\n",
            "0.0096\n"
          ],
          "name": "stdout"
        }
      ]
    },
    {
      "cell_type": "code",
      "metadata": {
        "colab": {
          "base_uri": "https://localhost:8080/"
        },
        "id": "jIJXmVo2IInD",
        "outputId": "5d152107-2cf3-4f9d-c280-5d088d5444cd"
      },
      "source": [
        "  # 리스트 append 함수의 기본 문법\n",
        "\n",
        "  a = []       # 비어있는 리스트 a를 생성합니다.\n",
        "  a.append(7)  # a 리스트에 숫자 7을 넣는다.\n",
        "  print(a)\n",
        "  a.append(8)  # a 리스트에 숫자 8을 넣는다.\n",
        "  print(a)"
      ],
      "execution_count": 43,
      "outputs": [
        {
          "output_type": "stream",
          "text": [
            "[7]\n",
            "[7, 8]\n"
          ],
          "name": "stdout"
        }
      ]
    },
    {
      "cell_type": "code",
      "metadata": {
        "colab": {
          "base_uri": "https://localhost:8080/"
        },
        "id": "fD6yIaBJJhQW",
        "outputId": "0e026789-45b7-4541-9e4c-75c4f0aef650"
      },
      "source": [
        "import random\n",
        "\n",
        "coin = ('앞면', '뒷면')\n",
        "\n",
        "sum = 0\n",
        "a = []   # 비어있는 리스트 a를 생성한다.\n",
        "\n",
        "for e in range(50):\n",
        "  cnt = 0\n",
        "  for i in range(100):\n",
        "    result = random.choice(coin)\n",
        "    sum += 1\n",
        "    if result =='앞면':\n",
        "      cnt += 1\n",
        "  print(cnt/sum)\n",
        "  a.append(cnt/sum)   # a 리스트에 확률을 입력한다.\n",
        "\n",
        "print(a)      # a 리스트에 담겨있는 값들을 출력한다."
      ],
      "execution_count": 44,
      "outputs": [
        {
          "output_type": "stream",
          "text": [
            "0.53\n",
            "0.23\n",
            "0.17\n",
            "0.115\n",
            "0.096\n",
            "0.07333333333333333\n",
            "0.06714285714285714\n",
            "0.05125\n",
            "0.06111111111111111\n",
            "0.058\n",
            "0.04090909090909091\n",
            "0.04583333333333333\n",
            "0.038461538461538464\n",
            "0.03642857142857143\n",
            "0.038\n",
            "0.033125\n",
            "0.03058823529411765\n",
            "0.028333333333333332\n",
            "0.029473684210526315\n",
            "0.0245\n",
            "0.024285714285714285\n",
            "0.024545454545454544\n",
            "0.022608695652173914\n",
            "0.019583333333333335\n",
            "0.0188\n",
            "0.021923076923076924\n",
            "0.022222222222222223\n",
            "0.018214285714285714\n",
            "0.017586206896551725\n",
            "0.01633333333333333\n",
            "0.015806451612903227\n",
            "0.015\n",
            "0.014242424242424242\n",
            "0.015588235294117648\n",
            "0.012\n",
            "0.0125\n",
            "0.013783783783783784\n",
            "0.01263157894736842\n",
            "0.011794871794871795\n",
            "0.014\n",
            "0.012195121951219513\n",
            "0.009761904761904762\n",
            "0.010930232558139534\n",
            "0.0125\n",
            "0.011555555555555555\n",
            "0.011739130434782608\n",
            "0.011702127659574468\n",
            "0.01125\n",
            "0.01\n",
            "0.0088\n",
            "[0.53, 0.23, 0.17, 0.115, 0.096, 0.07333333333333333, 0.06714285714285714, 0.05125, 0.06111111111111111, 0.058, 0.04090909090909091, 0.04583333333333333, 0.038461538461538464, 0.03642857142857143, 0.038, 0.033125, 0.03058823529411765, 0.028333333333333332, 0.029473684210526315, 0.0245, 0.024285714285714285, 0.024545454545454544, 0.022608695652173914, 0.019583333333333335, 0.0188, 0.021923076923076924, 0.022222222222222223, 0.018214285714285714, 0.017586206896551725, 0.01633333333333333, 0.015806451612903227, 0.015, 0.014242424242424242, 0.015588235294117648, 0.012, 0.0125, 0.013783783783783784, 0.01263157894736842, 0.011794871794871795, 0.014, 0.012195121951219513, 0.009761904761904762, 0.010930232558139534, 0.0125, 0.011555555555555555, 0.011739130434782608, 0.011702127659574468, 0.01125, 0.01, 0.0088]\n"
          ],
          "name": "stdout"
        }
      ]
    },
    {
      "cell_type": "markdown",
      "metadata": {
        "id": "-a82ftwpKnSc"
      },
      "source": [
        "**문제 31. 두개의 동전을 300번 던져서 동시에 둘 다 앞면이 나오는 횟수를 출력하시오**"
      ]
    },
    {
      "cell_type": "code",
      "metadata": {
        "colab": {
          "base_uri": "https://localhost:8080/"
        },
        "id": "vRZxx77OLSSh",
        "outputId": "89cdc911-a7ec-44db-c2d6-9f6e517e8d11"
      },
      "source": [
        "coin_1 = ['앞면', '뒷면']\n",
        "coin_2 = ['앞면', '뒷면']\n",
        "cnt = 0\n",
        "\n",
        "for i in range(1,301):\n",
        "  result_1 = random.choice(coin_1)\n",
        "  result_2 = random.choice(coin_2)\n",
        "  if result_1 == '앞면' and result_2 == '앞면':\n",
        "    cnt += 1\n",
        "\n",
        "print(cnt)"
      ],
      "execution_count": 45,
      "outputs": [
        {
          "output_type": "stream",
          "text": [
            "72\n"
          ],
          "name": "stdout"
        }
      ]
    },
    {
      "cell_type": "markdown",
      "metadata": {
        "id": "BUrUHD79ME_B"
      },
      "source": [
        "**문제 32. X라는 리스트를 만들고 앞면이 나오는 횟수를 X에 담는다.  둘다 앞면이 나오는 횟수를 출력하는 for loop문을  1000번 반복해서 X 리스트에 1000개 입력하시오**"
      ]
    },
    {
      "cell_type": "code",
      "metadata": {
        "id": "e_vuMO7hMXoR"
      },
      "source": [
        "coin_1 = ['앞면', '뒷면']\n",
        "coin_2 = ['앞면', '뒷면']\n",
        "\n",
        "x = []\n",
        "for i in range(1, 1001):\n",
        "  cnt = 0\n",
        "  for i in range(1, 301):\n",
        "    result_1 = random.choice(coin_1)\n",
        "    result_1 = random.choice(coin_2)\n",
        "    if result_1 == '앞면' and result_2 == '뒷면':\n",
        "      cnt += 1\n",
        "    x.append(cnt)\n",
        "print(x)"
      ],
      "execution_count": null,
      "outputs": []
    },
    {
      "cell_type": "markdown",
      "metadata": {
        "id": "XZ4ngsFpN7n2"
      },
      "source": [
        "**문제 33. 확률변수 x의 값들의 평균과 분산과 표준편차를 출력하시오**"
      ]
    },
    {
      "cell_type": "code",
      "metadata": {
        "colab": {
          "base_uri": "https://localhost:8080/"
        },
        "id": "ZRQeUC3eNx_-",
        "outputId": "2a5e2ab8-8add-42c3-8c44-de40c36bdf16"
      },
      "source": [
        "import numpy as np\n",
        "\n",
        "coin_1 = ['앞면', '뒷면']\n",
        "coin_2 = ['앞면', '뒷면']\n",
        "\n",
        "z = []\n",
        "for i in range(1, 1001):\n",
        "  cnt = 0\n",
        "  for i in range(1, 301):\n",
        "    result_1 = random.choice(coin_1)\n",
        "    result_2 = random.choice(coin_2)\n",
        "    if result_1 == '앞면' and result_2 == '뒷면':\n",
        "      cnt += 1\n",
        "    z.append(cnt)\n",
        "\n",
        "print(np.mean(z))\n",
        "print(np.var(z))\n",
        "print(np.std(z))"
      ],
      "execution_count": 55,
      "outputs": [
        {
          "output_type": "stream",
          "text": [
            "37.88660333333333\n",
            "498.59230452932206\n",
            "22.329180561080204\n"
          ],
          "name": "stdout"
        }
      ]
    },
    {
      "cell_type": "markdown",
      "metadata": {
        "id": "B0JoK5UFUUoP"
      },
      "source": [
        "**문제 34. 한개의 주사위를 360번 던져서 3의 배수의 눈이 나오는 횟수를 구하려고 할 때, 이 행위를 1000번하였을 경우의 X의 평균, 분산, 표준편차를 출력하시오**"
      ]
    },
    {
      "cell_type": "code",
      "metadata": {
        "colab": {
          "base_uri": "https://localhost:8080/"
        },
        "id": "jOLEc18cUhfe",
        "outputId": "d6dcb726-6cee-4f04-ed0b-94852137cd84"
      },
      "source": [
        "import numpy as np\n",
        "import random as ran\n",
        "\n",
        "dice = [1, 2, 3, 4, 5, 6] # 주사위 생성\n",
        "x = []    # 빈 리스트 생성\n",
        "\n",
        "for e in range(1, 1001): # 1000번 반복수행하는 for loop문 작성\n",
        "  cnt = 0                # 횟수의 초기값 설정\n",
        "  for i in range(1, 361):        # 360번 반복수행하는 for loop 문 작성\n",
        "    result = random.choice(dice) # random함수를 통한 난수 생성 후 변수 선언\n",
        "    if result % 3 == 0:          # 3의 배수의 조건\n",
        "      cnt += 1                   # 조건이 true면 cnt의 값에 1을 더함\n",
        "  x.append(cnt)         # if 절에서 나온 360번의 결과들(cnt의 값)을 x 의 빈 리스트에 1000번 저장\n",
        "\n",
        "print(np.mean(x))\n",
        "print(np.var(x))\n",
        "print(np.std(x))"
      ],
      "execution_count": 74,
      "outputs": [
        {
          "output_type": "stream",
          "text": [
            "120.519\n",
            "85.98563900000002\n",
            "9.272844169940527\n"
          ],
          "name": "stdout"
        }
      ]
    },
    {
      "cell_type": "markdown",
      "metadata": {
        "id": "Qgmec-dPYSpf"
      },
      "source": [
        "# 12. for 문 개념 배우기 ( for ~ continue ~ break )\n",
        "for 반복문 내에서 continue를 만나면 그 다음 반복 실행으로 넘어가며 break를 만나면 for 반복문을 완전히 벗어나게 됩니다.\n",
        "\n",
        "```\n",
        "예제:\n",
        "for 변수 in 범위:\n",
        "    실행코드\n",
        "    continue    # 이 부분은 그냥 지나치고 다음 반복문을 실행\n",
        "    실행코드\n",
        "    break       # for 반복문을 탈출\n",
        "```"
      ]
    },
    {
      "cell_type": "markdown",
      "metadata": {
        "id": "GARVBfCKt9TQ"
      },
      "source": [
        "**문제 35. 숫자 1번부터 10번까지 출력하시오!**"
      ]
    },
    {
      "cell_type": "code",
      "metadata": {
        "colab": {
          "base_uri": "https://localhost:8080/"
        },
        "id": "aI2miZpAt8qY",
        "outputId": "44abb445-337f-4756-bd03-cc3be94582fc"
      },
      "source": [
        "for i in range(1,11):\n",
        "  print(i)"
      ],
      "execution_count": 77,
      "outputs": [
        {
          "output_type": "stream",
          "text": [
            "1\n",
            "2\n",
            "3\n",
            "4\n",
            "5\n",
            "6\n",
            "7\n",
            "8\n",
            "9\n",
            "10\n"
          ],
          "name": "stdout"
        }
      ]
    },
    {
      "cell_type": "markdown",
      "metadata": {
        "id": "L_GrGk2huTjH"
      },
      "source": [
        "**문제 36. 위의 결과에서 숫자 5만 출력하지 않고 나머지 숫자만 출력하시오**"
      ]
    },
    {
      "cell_type": "code",
      "metadata": {
        "colab": {
          "base_uri": "https://localhost:8080/"
        },
        "id": "pA7aGH5Jua_u",
        "outputId": "aa548991-34c1-41b3-8916-1976bc9b21a4"
      },
      "source": [
        "for i in range(1, 11):\n",
        "  if i == 5:\n",
        "    continue   # 이 부분은 실행하지 않고고 다음 loop 문을 계속 실행\n",
        "  print(i)"
      ],
      "execution_count": 80,
      "outputs": [
        {
          "output_type": "stream",
          "text": [
            "1\n",
            "2\n",
            "3\n",
            "4\n",
            "6\n",
            "7\n",
            "8\n",
            "9\n",
            "10\n"
          ],
          "name": "stdout"
        }
      ]
    },
    {
      "cell_type": "markdown",
      "metadata": {
        "id": "m0m8M81cvGCX"
      },
      "source": [
        "**문제37.(알고리즘 문제 2) 1 부터 10까지의 숫자 중 짝수만 출력하시오**"
      ]
    },
    {
      "cell_type": "code",
      "metadata": {
        "colab": {
          "base_uri": "https://localhost:8080/"
        },
        "id": "tqAwVzNIvQHH",
        "outputId": "beea6478-7038-4ab6-8365-b09a91d58e0d"
      },
      "source": [
        "for i in range(1, 11):   # 1번에서 10번까지 출력\n",
        "  if i % 2 == 1:         # i의 숫자로 2로 나누었을 때 나머지가 1이라면 (홀수라면)\n",
        "    continue             # 다음 코드를 실행 않고 지나감\n",
        "  print(i)"
      ],
      "execution_count": 81,
      "outputs": [
        {
          "output_type": "stream",
          "text": [
            "2\n",
            "4\n",
            "6\n",
            "8\n",
            "10\n"
          ],
          "name": "stdout"
        }
      ]
    },
    {
      "cell_type": "markdown",
      "metadata": {
        "id": "N5z6UiftvPd-"
      },
      "source": [
        "**문제 38. (알고리즘 문제 1) 1부터 10까지의 합을 파이썬으로 구현하시오**"
      ]
    },
    {
      "cell_type": "code",
      "metadata": {
        "colab": {
          "base_uri": "https://localhost:8080/"
        },
        "id": "AuxFF-1BwiKb",
        "outputId": "f4b9f328-3d1f-49b1-a894-6825cf70e5a8"
      },
      "source": [
        "sum = 0         # 초기값 설정\n",
        "for i in range(1, 11):   # 반복문 실행\n",
        "  sum += i      # sum = sum + 1\n",
        "print(sum)      # 결과 출력 "
      ],
      "execution_count": 85,
      "outputs": [
        {
          "output_type": "stream",
          "text": [
            "55\n"
          ],
          "name": "stdout"
        }
      ]
    },
    {
      "cell_type": "markdown",
      "metadata": {
        "id": "i0mtU3fpyCqq"
      },
      "source": [
        "# for 문에서 사용하는 break\n",
        "\"루프문을 중단시키는 역할을 하는 키워드\"\n",
        "\n",
        "```\n",
        "예제:\n",
        "for i in range(1, 11): # 1부터 10까지 반복문 실행\n",
        "  print(i)      # i를 출력하다가\n",
        "  if i == 3:    # i 가 3이면\n",
        "    break       # 루프문을 종료시켜라\n"
      ]
    },
    {
      "cell_type": "markdown",
      "metadata": {
        "id": "BdexlcnkynZs"
      },
      "source": [
        "**문제 39. 1부터 100번까지 출력하는 for loop 문을 작성하는데 다음과 같이 숫자를 물어보게 해서 입력된 숫자까지만 출력되게 하시오**\n",
        "\n",
        "```\n",
        "숫자를 입력하세요:   7\n",
        "\n",
        "1\n",
        "2\n",
        "3\n",
        "4\n",
        "5\n",
        "6\n",
        "7\n",
        "```"
      ]
    },
    {
      "cell_type": "code",
      "metadata": {
        "colab": {
          "base_uri": "https://localhost:8080/"
        },
        "id": "dgCUrs4Wy31x",
        "outputId": "02d1b0b5-2847-432a-9601-0a6370408aa9"
      },
      "source": [
        "a = int(input('숫자를 입력하세요: '))  # input 값을 설정\n",
        "\n",
        "for i in range(1, 101):   # 100번까지 반복문 실행\n",
        "  print (i)               # 숫자 출력\n",
        "  if i == a:              # i값이 사용자 지정 input값과 같다면\n",
        "    break                 # 출력을 그만둠"
      ],
      "execution_count": 90,
      "outputs": [
        {
          "output_type": "stream",
          "text": [
            "숫자를 입력하세요: 7\n",
            "1\n",
            "2\n",
            "3\n",
            "4\n",
            "5\n",
            "6\n",
            "7\n"
          ],
          "name": "stdout"
        }
      ]
    },
    {
      "cell_type": "markdown",
      "metadata": {
        "id": "xvyHIrBxzbP4"
      },
      "source": [
        "**문제 40. (알고리즘 문제 19번) 두 숫자를 각각 물어보게 하고 입력받아 두 숫자의 최대공약수를 출력하시오**\n",
        "```\n",
        "힌트: 16%i==0 and 24%i==0\n",
        "힌트: print(max(16, 24))   # max 함수를 쓰면 두 숫자중 큰 숫자가 출력됨\n",
        "```"
      ]
    },
    {
      "cell_type": "code",
      "metadata": {
        "colab": {
          "base_uri": "https://localhost:8080/"
        },
        "id": "pFDtytu4zkx8",
        "outputId": "b432e5c1-5f17-4a99-c356-aa7d7a9ca45e"
      },
      "source": [
        "first_num = int(input('첫번째 숫자를 입력하세요: '))\n",
        "second_num = int(input('두번째 숫자를 입력하세요: '))\n",
        "\n",
        "if first_num % second_num == 0:\n",
        "  print(first_num)"
      ],
      "execution_count": 91,
      "outputs": [
        {
          "output_type": "stream",
          "text": [
            "첫번째 숫자를 입력하세요: 16\n",
            "첫번째 숫자를 입력하세요: 37\n"
          ],
          "name": "stdout"
        }
      ]
    },
    {
      "cell_type": "markdown",
      "metadata": {
        "id": "MPrBT6od2KoJ"
      },
      "source": [
        "# 13. for 문 개념 배우기 (for ~ else)\n",
        "\n",
        "```\n",
        "for 반복문을 완전히 수행했을 때만 실행하는 부분을 정의하려면 for~ else문을 사용해야 함\n",
        "for ~ else문에서 else 뒤에 실행되는 코드는 for 반복문을 성공적으로 수행해야지만 실행됨\n",
        "```\n",
        "\n",
        "```\n",
        "예제:\n",
        "for i in range(1, 11):\n",
        "    print(i)\n",
        "else:\n",
        "    print('Perfect')    # break 에 의해서 루프문이 중단되면 else 다음에 실행문이 실행되지 않음\n",
        "```\n",
        "```\n",
        "1\n",
        "2\n",
        "3\n",
        "4\n",
        "5\n",
        "6\n",
        "7\n",
        "8\n",
        "9\n",
        "10\n",
        "Perfect\n",
        "```"
      ]
    },
    {
      "cell_type": "markdown",
      "metadata": {
        "id": "VrZhgpWm3Kko"
      },
      "source": [
        "**문제 41. 위의 예제 코드를 수정해서 숫자를 물어보게 하고 숫자를 입력하면 해당 숫자만큼 1번부터 숫자가 출력되게 하시오**"
      ]
    },
    {
      "cell_type": "code",
      "metadata": {
        "colab": {
          "base_uri": "https://localhost:8080/"
        },
        "id": "L7xggTQW2J7b",
        "outputId": "9b17bdef-a666-4682-87a8-363c06169db5"
      },
      "source": [
        "num = int(input('원하는 숫자를 입력하세요: '))\n",
        "for i in range(1, num+1):\n",
        "  print(i)"
      ],
      "execution_count": 94,
      "outputs": [
        {
          "output_type": "stream",
          "text": [
            "원하는 숫자를 입력하세요: 10\n",
            "1\n",
            "2\n",
            "3\n",
            "4\n",
            "5\n",
            "6\n",
            "7\n",
            "8\n",
            "9\n",
            "10\n"
          ],
          "name": "stdout"
        }
      ]
    },
    {
      "cell_type": "markdown",
      "metadata": {
        "id": "DfDTj5ta3zJC"
      },
      "source": [
        "**문제 42. 위의 입력한 숫자까지 다 출력하면 아래에 perfect란 단어가 출력되게 하시오!**"
      ]
    },
    {
      "cell_type": "code",
      "metadata": {
        "colab": {
          "base_uri": "https://localhost:8080/"
        },
        "id": "gR4iOkuj3wrW",
        "outputId": "6f11808f-8f1c-4eba-c1f7-65e81bb7102d"
      },
      "source": [
        "num = int(input('원하는 숫자를 입력하세요: '))\n",
        "for i in range(1, num+1):\n",
        "  print(i)\n",
        "else:\n",
        "  print('perfect')"
      ],
      "execution_count": 95,
      "outputs": [
        {
          "output_type": "stream",
          "text": [
            "원하는 숫자를 입력하세요: 10\n",
            "1\n",
            "2\n",
            "3\n",
            "4\n",
            "5\n",
            "6\n",
            "7\n",
            "8\n",
            "9\n",
            "10\n",
            "perfect\n"
          ],
          "name": "stdout"
        }
      ]
    },
    {
      "cell_type": "markdown",
      "metadata": {
        "id": "F-xi683K4Hd2"
      },
      "source": [
        "**문제 43. 위의 코드를 수정해서 중단할 숫자를 또 물어보게 해서 아래와 같이 실행되게 하시오**\n",
        "\n",
        "```\n",
        "숫자를 입력하세요:  10\n",
        "중단할 숫자를 입력하세요:   5\n",
        "\n",
        "1\n",
        "2\n",
        "3\n",
        "4\n",
        "5\n",
        "```"
      ]
    },
    {
      "cell_type": "code",
      "metadata": {
        "colab": {
          "base_uri": "https://localhost:8080/"
        },
        "id": "lnRyuAS04WBF",
        "outputId": "9eb30ff8-d4ce-4213-df8b-f6c7cf6db28a"
      },
      "source": [
        "num = int(input('원하는 숫자를 입력하세요: '))\n",
        "break_num = int(input('중단할 숫자를 입력하세요: '))\n",
        "for i in range(1, num+1):\n",
        "  print(i)\n",
        "  if i == break_num:\n",
        "    break\n",
        "else:\n",
        "  print('perfect')"
      ],
      "execution_count": 96,
      "outputs": [
        {
          "output_type": "stream",
          "text": [
            "원하는 숫자를 입력하세요: 10\n",
            "중단할 숫자를 입력하세요: 8\n",
            "1\n",
            "2\n",
            "3\n",
            "4\n",
            "5\n",
            "6\n",
            "7\n",
            "8\n"
          ],
          "name": "stdout"
        }
      ]
    }
  ]
}